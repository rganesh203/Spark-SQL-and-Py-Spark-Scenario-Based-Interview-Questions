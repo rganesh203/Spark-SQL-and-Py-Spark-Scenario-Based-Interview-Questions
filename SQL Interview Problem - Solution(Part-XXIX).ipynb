{
 "cells": [
  {
   "cell_type": "markdown",
   "metadata": {
    "application/vnd.databricks.v1+cell": {
     "cellMetadata": {},
     "inputWidgets": {},
     "nuid": "48f5be1f-d02a-48aa-8dbb-f517d105447e",
     "showTitle": false,
     "tableResultSettingsMap": {},
     "title": ""
    }
   },
   "source": [
    "Problem Statement:\n",
    "\n",
    "You are tasked with organizing a list of single-letter alphabets and words based on their relationships. Specifically:\n",
    "\n",
    "Each word in the dataset may start with a single letter (e.g., \"Apple\" starts with \"A\").\n",
    "Identify relationships where:\n",
    "\n",
    "A single-letter alphabet matches the first character of a word.\n",
    "Output a table with two columns:\n",
    "\n",
    "Alphabet: The single-letter alphabet.\n",
    "Words: The words that start with the respective alphabet."
   ]
  },
  {
   "cell_type": "code",
   "execution_count": 0,
   "metadata": {
    "application/vnd.databricks.v1+cell": {
     "cellMetadata": {
      "byteLimit": 2048000,
      "rowLimit": 10000
     },
     "inputWidgets": {},
     "nuid": "92bbb6b6-0859-4c8e-bbee-cdcaf6202269",
     "showTitle": false,
     "tableResultSettingsMap": {},
     "title": ""
    }
   },
   "outputs": [
    {
     "output_type": "display_data",
     "data": {
      "text/html": [
       "<style scoped>\n",
       "  .table-result-container {\n",
       "    max-height: 300px;\n",
       "    overflow: auto;\n",
       "  }\n",
       "  table, th, td {\n",
       "    border: 1px solid black;\n",
       "    border-collapse: collapse;\n",
       "  }\n",
       "  th, td {\n",
       "    padding: 5px;\n",
       "  }\n",
       "  th {\n",
       "    text-align: left;\n",
       "  }\n",
       "</style><div class='table-result-container'><table class='table-result'><thead style='background-color: white'><tr><th>letter_word</th></tr></thead><tbody><tr><td>D</td></tr><tr><td>A</td></tr><tr><td>B</td></tr><tr><td>C</td></tr><tr><td>E</td></tr><tr><td>Elephant</td></tr><tr><td>Apple</td></tr><tr><td>Cat</td></tr><tr><td>Donkey</td></tr><tr><td>Ball</td></tr></tbody></table></div>"
      ]
     },
     "metadata": {
      "application/vnd.databricks.v1+output": {
       "addedWidgets": {},
       "aggData": [],
       "aggError": "",
       "aggOverflow": false,
       "aggSchema": [],
       "aggSeriesLimitReached": false,
       "aggType": "",
       "arguments": {},
       "columnCustomDisplayInfos": {},
       "data": [
        [
         "D"
        ],
        [
         "A"
        ],
        [
         "B"
        ],
        [
         "C"
        ],
        [
         "E"
        ],
        [
         "Elephant"
        ],
        [
         "Apple"
        ],
        [
         "Cat"
        ],
        [
         "Donkey"
        ],
        [
         "Ball"
        ]
       ],
       "datasetInfos": [],
       "dbfsResultPath": null,
       "isJsonSchema": true,
       "metadata": {},
       "overflow": false,
       "plotOptions": {
        "customPlotOptions": {},
        "displayType": "table",
        "pivotAggregation": null,
        "pivotColumns": null,
        "xColumns": null,
        "yColumns": null
       },
       "removedWidgets": [],
       "schema": [
        {
         "metadata": "{}",
         "name": "letter_word",
         "type": "\"string\""
        }
       ],
       "type": "table"
      }
     },
     "output_type": "display_data"
    }
   ],
   "source": [
    "from pyspark.sql.types import *\n",
    "\n",
    "# Define the schema\n",
    "schema = StructType([StructField(\"letter_word\", StringType(), True)])\n",
    "\n",
    "# Define the data\n",
    "data = [\n",
    "    (\"D\",),\n",
    "    (\"A\",),\n",
    "    (\"B\",),\n",
    "    (\"C\",),\n",
    "    (\"E\",),\n",
    "    (\"Elephant\",),\n",
    "    (\"Apple\",),\n",
    "    (\"Cat\",),\n",
    "    (\"Donkey\",),\n",
    "    (\"Ball\",),\n",
    "]\n",
    "\n",
    "# Create a DataFrame\n",
    "alphabet_df = spark.createDataFrame(data, schema)\n",
    "\n",
    "# display the DataFrame\n",
    "alphabet_df.display()"
   ]
  },
  {
   "cell_type": "code",
   "execution_count": 0,
   "metadata": {
    "application/vnd.databricks.v1+cell": {
     "cellMetadata": {
      "byteLimit": 2048000,
      "rowLimit": 10000
     },
     "inputWidgets": {},
     "nuid": "af3b5d19-c5b0-4f2d-b13f-c09781303d75",
     "showTitle": false,
     "tableResultSettingsMap": {},
     "title": ""
    }
   },
   "outputs": [
    {
     "output_type": "display_data",
     "data": {
      "text/html": [
       "<style scoped>\n",
       "  .table-result-container {\n",
       "    max-height: 300px;\n",
       "    overflow: auto;\n",
       "  }\n",
       "  table, th, td {\n",
       "    border: 1px solid black;\n",
       "    border-collapse: collapse;\n",
       "  }\n",
       "  th, td {\n",
       "    padding: 5px;\n",
       "  }\n",
       "  th {\n",
       "    text-align: left;\n",
       "  }\n",
       "</style><div class='table-result-container'><table class='table-result'><thead style='background-color: white'><tr><th>letter_word</th><th>stat</th></tr></thead><tbody><tr><td>D</td><td></td></tr><tr><td>A</td><td></td></tr><tr><td>B</td><td></td></tr><tr><td>C</td><td></td></tr><tr><td>E</td><td></td></tr><tr><td>Elephant</td><td>E</td></tr><tr><td>Apple</td><td>A</td></tr><tr><td>Cat</td><td>C</td></tr><tr><td>Donkey</td><td>D</td></tr><tr><td>Ball</td><td>B</td></tr></tbody></table></div>"
      ]
     },
     "metadata": {
      "application/vnd.databricks.v1+output": {
       "addedWidgets": {},
       "aggData": [],
       "aggError": "",
       "aggOverflow": false,
       "aggSchema": [],
       "aggSeriesLimitReached": false,
       "aggType": "",
       "arguments": {},
       "columnCustomDisplayInfos": {},
       "data": [
        [
         "D",
         ""
        ],
        [
         "A",
         ""
        ],
        [
         "B",
         ""
        ],
        [
         "C",
         ""
        ],
        [
         "E",
         ""
        ],
        [
         "Elephant",
         "E"
        ],
        [
         "Apple",
         "A"
        ],
        [
         "Cat",
         "C"
        ],
        [
         "Donkey",
         "D"
        ],
        [
         "Ball",
         "B"
        ]
       ],
       "datasetInfos": [],
       "dbfsResultPath": null,
       "isJsonSchema": true,
       "metadata": {},
       "overflow": false,
       "plotOptions": {
        "customPlotOptions": {},
        "displayType": "table",
        "pivotAggregation": null,
        "pivotColumns": null,
        "xColumns": null,
        "yColumns": null
       },
       "removedWidgets": [],
       "schema": [
        {
         "metadata": "{}",
         "name": "letter_word",
         "type": "\"string\""
        },
        {
         "metadata": "{}",
         "name": "stat",
         "type": "\"string\""
        }
       ],
       "type": "table"
      }
     },
     "output_type": "display_data"
    }
   ],
   "source": [
    "from pyspark.sql.functions import col, when, length, substring\n",
    "\n",
    "# Create the 'stat' column using a case expression\n",
    "cte_df = alphabet_df.withColumn(\n",
    "    \"stat\",\n",
    "    when(length(col(\"letter_word\")) > 1, substring(col(\"letter_word\"), 1, 1)).otherwise(\n",
    "        \"\"\n",
    "    ),\n",
    ")\n",
    "cte_df.display()"
   ]
  },
  {
   "cell_type": "code",
   "execution_count": 0,
   "metadata": {
    "application/vnd.databricks.v1+cell": {
     "cellMetadata": {
      "byteLimit": 2048000,
      "rowLimit": 10000
     },
     "inputWidgets": {},
     "nuid": "1f41f660-a852-4403-b4ca-2b0152e26cf5",
     "showTitle": false,
     "tableResultSettingsMap": {},
     "title": ""
    }
   },
   "outputs": [
    {
     "output_type": "display_data",
     "data": {
      "text/html": [
       "<style scoped>\n",
       "  .table-result-container {\n",
       "    max-height: 300px;\n",
       "    overflow: auto;\n",
       "  }\n",
       "  table, th, td {\n",
       "    border: 1px solid black;\n",
       "    border-collapse: collapse;\n",
       "  }\n",
       "  th, td {\n",
       "    padding: 5px;\n",
       "  }\n",
       "  th {\n",
       "    text-align: left;\n",
       "  }\n",
       "</style><div class='table-result-container'><table class='table-result'><thead style='background-color: white'><tr><th>Alphabet</th><th>Words</th></tr></thead><tbody><tr><td>A</td><td>Apple</td></tr><tr><td>B</td><td>Ball</td></tr><tr><td>C</td><td>Cat</td></tr><tr><td>D</td><td>Donkey</td></tr><tr><td>E</td><td>Elephant</td></tr></tbody></table></div>"
      ]
     },
     "metadata": {
      "application/vnd.databricks.v1+output": {
       "addedWidgets": {},
       "aggData": [],
       "aggError": "",
       "aggOverflow": false,
       "aggSchema": [],
       "aggSeriesLimitReached": false,
       "aggType": "",
       "arguments": {},
       "columnCustomDisplayInfos": {},
       "data": [
        [
         "A",
         "Apple"
        ],
        [
         "B",
         "Ball"
        ],
        [
         "C",
         "Cat"
        ],
        [
         "D",
         "Donkey"
        ],
        [
         "E",
         "Elephant"
        ]
       ],
       "datasetInfos": [],
       "dbfsResultPath": null,
       "isJsonSchema": true,
       "metadata": {},
       "overflow": false,
       "plotOptions": {
        "customPlotOptions": {},
        "displayType": "table",
        "pivotAggregation": null,
        "pivotColumns": null,
        "xColumns": null,
        "yColumns": null
       },
       "removedWidgets": [],
       "schema": [
        {
         "metadata": "{}",
         "name": "Alphabet",
         "type": "\"string\""
        },
        {
         "metadata": "{}",
         "name": "Words",
         "type": "\"string\""
        }
       ],
       "type": "table"
      }
     },
     "output_type": "display_data"
    }
   ],
   "source": [
    "# Create or replace a temporary view for the CTE\n",
    "cte_df.createOrReplaceTempView(\"cte\")\n",
    "\n",
    "# Execute the main query\n",
    "result_df = spark.sql(\n",
    "    \"\"\"\n",
    "    SELECT c.letter_word AS Alphabet, c1.letter_word AS Words\n",
    "    FROM cte AS c\n",
    "    JOIN cte AS c1\n",
    "    ON c.letter_word = c1.stat\n",
    "    ORDER BY c.letter_word\n",
    "\"\"\"\n",
    ")\n",
    "\n",
    "# Show the results\n",
    "result_df.display()"
   ]
  },
  {
   "cell_type": "code",
   "execution_count": 0,
   "metadata": {
    "application/vnd.databricks.v1+cell": {
     "cellMetadata": {
      "byteLimit": 2048000,
      "rowLimit": 10000
     },
     "inputWidgets": {},
     "nuid": "9293e372-86ed-4b9e-a0ee-aae40dbbd192",
     "showTitle": false,
     "tableResultSettingsMap": {},
     "title": ""
    }
   },
   "outputs": [],
   "source": [
    "# For example: Save as a temporary view for querying\n",
    "alphabet_df.createOrReplaceTempView(\"AlphabetWords\")"
   ]
  },
  {
   "cell_type": "code",
   "execution_count": 0,
   "metadata": {
    "application/vnd.databricks.v1+cell": {
     "cellMetadata": {
      "byteLimit": 2048000,
      "rowLimit": 10000
     },
     "inputWidgets": {},
     "nuid": "a3f51407-7c0e-476c-a528-e937020011e3",
     "showTitle": false,
     "tableResultSettingsMap": {},
     "title": ""
    }
   },
   "outputs": [
    {
     "output_type": "display_data",
     "data": {
      "text/html": [
       "<style scoped>\n",
       "  .table-result-container {\n",
       "    max-height: 300px;\n",
       "    overflow: auto;\n",
       "  }\n",
       "  table, th, td {\n",
       "    border: 1px solid black;\n",
       "    border-collapse: collapse;\n",
       "  }\n",
       "  th, td {\n",
       "    padding: 5px;\n",
       "  }\n",
       "  th {\n",
       "    text-align: left;\n",
       "  }\n",
       "</style><div class='table-result-container'><table class='table-result'><thead style='background-color: white'><tr><th>Alphabet</th><th>Words</th></tr></thead><tbody><tr><td>A</td><td>Apple</td></tr><tr><td>B</td><td>Ball</td></tr><tr><td>C</td><td>Cat</td></tr><tr><td>D</td><td>Donkey</td></tr><tr><td>E</td><td>Elephant</td></tr></tbody></table></div>"
      ]
     },
     "metadata": {
      "application/vnd.databricks.v1+output": {
       "addedWidgets": {},
       "aggData": [],
       "aggError": "",
       "aggOverflow": false,
       "aggSchema": [],
       "aggSeriesLimitReached": false,
       "aggType": "",
       "arguments": {},
       "columnCustomDisplayInfos": {},
       "data": [
        [
         "A",
         "Apple"
        ],
        [
         "B",
         "Ball"
        ],
        [
         "C",
         "Cat"
        ],
        [
         "D",
         "Donkey"
        ],
        [
         "E",
         "Elephant"
        ]
       ],
       "datasetInfos": [],
       "dbfsResultPath": null,
       "isJsonSchema": true,
       "metadata": {},
       "overflow": false,
       "plotOptions": {
        "customPlotOptions": {},
        "displayType": "table",
        "pivotAggregation": null,
        "pivotColumns": null,
        "xColumns": null,
        "yColumns": null
       },
       "removedWidgets": [],
       "schema": [
        {
         "metadata": "{}",
         "name": "Alphabet",
         "type": "\"string\""
        },
        {
         "metadata": "{}",
         "name": "Words",
         "type": "\"string\""
        }
       ],
       "type": "table"
      }
     },
     "output_type": "display_data"
    }
   ],
   "source": [
    "# Spark SQL query with CTE\n",
    "result_df = spark.sql(\n",
    "    \"\"\"\n",
    "WITH cte AS (\n",
    "    SELECT *,\n",
    "           CASE \n",
    "               WHEN LENGTH(letter_word) > 1 THEN SUBSTRING(letter_word, 1, 1)\n",
    "               ELSE ''\n",
    "           END AS stat\n",
    "    FROM AlphabetWords\n",
    ")\n",
    "SELECT c.letter_word AS Alphabet, \n",
    "       c1.letter_word AS Words\n",
    "FROM cte AS c\n",
    "JOIN cte AS c1\n",
    "ON c.letter_word = c1.stat\n",
    "ORDER BY c.letter_word\n",
    "\"\"\"\n",
    ")\n",
    "\n",
    "# Show the results\n",
    "result_df.display()"
   ]
  },
  {
   "cell_type": "markdown",
   "metadata": {
    "application/vnd.databricks.v1+cell": {
     "cellMetadata": {},
     "inputWidgets": {},
     "nuid": "ba427dbe-8828-402b-bbb4-fc0b3848601f",
     "showTitle": false,
     "tableResultSettingsMap": {},
     "title": ""
    }
   },
   "source": [
    "Explanation:\n",
    "\n",
    "Temporary View: \n",
    "\n",
    "The initial alphabet_df is registered as a temporary SQL table alphabetwords.\n",
    "CTE Definition:\n",
    "\n",
    "Adds a stat column using a CASE statement to extract the first character of letter_word if its length is greater than 1.\n",
    "Join Operation:\n",
    "\n",
    "Joins the cte with itself on the condition c.letter_word = c1.stat.\n",
    "Ordering:\n",
    "\n",
    "The result is ordered by c.letter_word."
   ]
  }
 ],
 "metadata": {
  "application/vnd.databricks.v1+notebook": {
   "dashboards": [],
   "environmentMetadata": null,
   "language": "python",
   "notebookMetadata": {
    "pythonIndentUnit": 4
   },
   "notebookName": "SQL Interview Problem - Solution(Part-XXIX)",
   "widgets": {}
  }
 },
 "nbformat": 4,
 "nbformat_minor": 0
}
