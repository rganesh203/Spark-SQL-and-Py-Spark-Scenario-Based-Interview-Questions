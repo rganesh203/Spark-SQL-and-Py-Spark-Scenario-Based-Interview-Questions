{
 "cells": [
  {
   "cell_type": "markdown",
   "metadata": {
    "application/vnd.databricks.v1+cell": {
     "cellMetadata": {},
     "inputWidgets": {},
     "nuid": "aa3c362c-d772-4c4a-aaa6-46b0912e2ece",
     "showTitle": false,
     "title": ""
    }
   },
   "source": [
    "Problem Statement:\n",
    "\n",
    "You are working with a sales dataset that includes information on products sold, their sale dates, and product IDs. The product names are not standardized and contain inconsistencies such as leading/trailing spaces and varied letter cases (e.g., \"LCPhone\", \" LCPHONE\", \"LcPhOnE\"). The objective is to clean the product names and analyze the sales data by:\n",
    "\n",
    "Formatting the sale_date to show only the year and month (YYYY-MM).\n",
    "Standardizing the product_name by trimming any extra spaces and converting all names to lowercase.\n",
    "Counting the number of products sold for each combination of product name and sale month.\n",
    "The results should be grouped by the formatted sale date and the standardized product name."
   ]
  },
  {
   "cell_type": "code",
   "execution_count": 0,
   "metadata": {
    "application/vnd.databricks.v1+cell": {
     "cellMetadata": {
      "byteLimit": 2048000,
      "rowLimit": 10000
     },
     "inputWidgets": {},
     "nuid": "31a57c3d-4b42-4ed3-8747-c0db98d02c58",
     "showTitle": false,
     "title": ""
    }
   },
   "outputs": [
    {
     "output_type": "display_data",
     "data": {
      "text/html": [
       "<style scoped>\n",
       "  .table-result-container {\n",
       "    max-height: 300px;\n",
       "    overflow: auto;\n",
       "  }\n",
       "  table, th, td {\n",
       "    border: 1px solid black;\n",
       "    border-collapse: collapse;\n",
       "  }\n",
       "  th, td {\n",
       "    padding: 5px;\n",
       "  }\n",
       "  th {\n",
       "    text-align: left;\n",
       "  }\n",
       "</style><div class='table-result-container'><table class='table-result'><thead style='background-color: white'><tr><th>sale_id</th><th>product_name</th><th>sale_date</th></tr></thead><tbody><tr><td>1</td><td>  LCPHONE</td><td>2000-01-16</td></tr><tr><td>2</td><td>LCPhone</td><td>2000-01-17</td></tr><tr><td>3</td><td>LcPhOnE</td><td>2000-02-18</td></tr><tr><td>4</td><td>LCKeyCHAiN  </td><td>2000-02-19</td></tr><tr><td>5</td><td>LCKeyChain</td><td>2000-02-28</td></tr><tr><td>6</td><td> Matryoshka</td><td>2000-03-31</td></tr></tbody></table></div>"
      ]
     },
     "metadata": {
      "application/vnd.databricks.v1+output": {
       "addedWidgets": {},
       "aggData": [],
       "aggError": "",
       "aggOverflow": false,
       "aggSchema": [],
       "aggSeriesLimitReached": false,
       "aggType": "",
       "arguments": {},
       "columnCustomDisplayInfos": {},
       "data": [
        [
         1,
         "  LCPHONE",
         "2000-01-16"
        ],
        [
         2,
         "LCPhone",
         "2000-01-17"
        ],
        [
         3,
         "LcPhOnE",
         "2000-02-18"
        ],
        [
         4,
         "LCKeyCHAiN  ",
         "2000-02-19"
        ],
        [
         5,
         "LCKeyChain",
         "2000-02-28"
        ],
        [
         6,
         " Matryoshka",
         "2000-03-31"
        ]
       ],
       "datasetInfos": [],
       "dbfsResultPath": null,
       "isJsonSchema": true,
       "metadata": {},
       "overflow": false,
       "plotOptions": {
        "customPlotOptions": {},
        "displayType": "table",
        "pivotAggregation": null,
        "pivotColumns": null,
        "xColumns": null,
        "yColumns": null
       },
       "removedWidgets": [],
       "schema": [
        {
         "metadata": "{}",
         "name": "sale_id",
         "type": "\"integer\""
        },
        {
         "metadata": "{}",
         "name": "product_name",
         "type": "\"string\""
        },
        {
         "metadata": "{}",
         "name": "sale_date",
         "type": "\"date\""
        }
       ],
       "type": "table"
      }
     },
     "output_type": "display_data"
    }
   ],
   "source": [
    "from pyspark.sql.types import *\n",
    "import datetime\n",
    "\n",
    "# Define the schema\n",
    "schema = StructType(\n",
    "    [\n",
    "        StructField(\"sale_id\", IntegerType(), True),\n",
    "        StructField(\"product_name\", StringType(), True),\n",
    "        StructField(\"sale_date\", DateType(), True),\n",
    "    ]\n",
    ")\n",
    "\n",
    "# Sample data\n",
    "data = [\n",
    "    (1, \"  LCPHONE\", datetime.date(2000, 1, 16)),\n",
    "    (2, \"LCPhone\", datetime.date(2000, 1, 17)),\n",
    "    (3, \"LcPhOnE\", datetime.date(2000, 2, 18)),\n",
    "    (4, \"LCKeyCHAiN  \", datetime.date(2000, 2, 19)),\n",
    "    (5, \"LCKeyChain\", datetime.date(2000, 2, 28)),\n",
    "    (6, \" Matryoshka\", datetime.date(2000, 3, 31)),\n",
    "]\n",
    "\n",
    "# Create DataFrame\n",
    "df = spark.createDataFrame(data, schema=schema)\n",
    "\n",
    "# display the DataFrame\n",
    "df.display()"
   ]
  },
  {
   "cell_type": "code",
   "execution_count": 0,
   "metadata": {
    "application/vnd.databricks.v1+cell": {
     "cellMetadata": {
      "byteLimit": 2048000,
      "rowLimit": 10000
     },
     "inputWidgets": {},
     "nuid": "6c35c7b8-1229-411a-9b41-f96a15712dd5",
     "showTitle": false,
     "title": ""
    }
   },
   "outputs": [
    {
     "output_type": "display_data",
     "data": {
      "text/html": [
       "<style scoped>\n",
       "  .table-result-container {\n",
       "    max-height: 300px;\n",
       "    overflow: auto;\n",
       "  }\n",
       "  table, th, td {\n",
       "    border: 1px solid black;\n",
       "    border-collapse: collapse;\n",
       "  }\n",
       "  th, td {\n",
       "    padding: 5px;\n",
       "  }\n",
       "  th {\n",
       "    text-align: left;\n",
       "  }\n",
       "</style><div class='table-result-container'><table class='table-result'><thead style='background-color: white'><tr><th>year_months</th><th>product_name</th><th>product_sold</th></tr></thead><tbody><tr><td>2000-01</td><td>lcphone</td><td>2</td></tr><tr><td>2000-02</td><td>lcphone</td><td>1</td></tr><tr><td>2000-02</td><td>lckeychain</td><td>2</td></tr><tr><td>2000-03</td><td>matryoshka</td><td>1</td></tr></tbody></table></div>"
      ]
     },
     "metadata": {
      "application/vnd.databricks.v1+output": {
       "addedWidgets": {},
       "aggData": [],
       "aggError": "",
       "aggOverflow": false,
       "aggSchema": [],
       "aggSeriesLimitReached": false,
       "aggType": "",
       "arguments": {},
       "columnCustomDisplayInfos": {},
       "data": [
        [
         "2000-01",
         "lcphone",
         2
        ],
        [
         "2000-02",
         "lcphone",
         1
        ],
        [
         "2000-02",
         "lckeychain",
         2
        ],
        [
         "2000-03",
         "matryoshka",
         1
        ]
       ],
       "datasetInfos": [],
       "dbfsResultPath": null,
       "isJsonSchema": true,
       "metadata": {},
       "overflow": false,
       "plotOptions": {
        "customPlotOptions": {},
        "displayType": "table",
        "pivotAggregation": null,
        "pivotColumns": null,
        "xColumns": null,
        "yColumns": null
       },
       "removedWidgets": [],
       "schema": [
        {
         "metadata": "{}",
         "name": "year_months",
         "type": "\"string\""
        },
        {
         "metadata": "{}",
         "name": "product_name",
         "type": "\"string\""
        },
        {
         "metadata": "{}",
         "name": "product_sold",
         "type": "\"long\""
        }
       ],
       "type": "table"
      }
     },
     "output_type": "display_data"
    }
   ],
   "source": [
    "from pyspark.sql.functions import *\n",
    "\n",
    "# Apply transformations and group by date and product name\n",
    "df_grouped = (\n",
    "    df.withColumn(\"year_months\", date_format(\"sale_date\", \"yyyy-MM\"))\n",
    "    .withColumn(\"product_name\", lower(trim(\"product_name\")))\n",
    "    .groupBy(\"year_months\", \"product_name\")\n",
    "    .agg(count(\"sale_id\").alias(\"product_sold\"))\n",
    ")\n",
    "\n",
    "# display the result\n",
    "df_grouped.display()"
   ]
  },
  {
   "cell_type": "code",
   "execution_count": 0,
   "metadata": {
    "application/vnd.databricks.v1+cell": {
     "cellMetadata": {
      "byteLimit": 2048000,
      "rowLimit": 10000
     },
     "inputWidgets": {},
     "nuid": "48b543c0-e7ad-4349-8e28-9e3c1e932fc4",
     "showTitle": false,
     "title": ""
    }
   },
   "outputs": [],
   "source": [
    "# Register the DataFrame as a temporary view\n",
    "df.createOrReplaceTempView(\"sales\")"
   ]
  },
  {
   "cell_type": "code",
   "execution_count": 0,
   "metadata": {
    "application/vnd.databricks.v1+cell": {
     "cellMetadata": {
      "byteLimit": 2048000,
      "rowLimit": 10000
     },
     "inputWidgets": {},
     "nuid": "e24a8474-d601-4b26-bc1b-3ef9d8fb5159",
     "showTitle": false,
     "title": ""
    }
   },
   "outputs": [
    {
     "output_type": "display_data",
     "data": {
      "text/html": [
       "<style scoped>\n",
       "  .table-result-container {\n",
       "    max-height: 300px;\n",
       "    overflow: auto;\n",
       "  }\n",
       "  table, th, td {\n",
       "    border: 1px solid black;\n",
       "    border-collapse: collapse;\n",
       "  }\n",
       "  th, td {\n",
       "    padding: 5px;\n",
       "  }\n",
       "  th {\n",
       "    text-align: left;\n",
       "  }\n",
       "</style><div class='table-result-container'><table class='table-result'><thead style='background-color: white'><tr><th>year_months</th><th>product_names</th><th>product_sold</th></tr></thead><tbody><tr><td>2000-01</td><td>lcphone</td><td>2</td></tr><tr><td>2000-02</td><td>lcphone</td><td>1</td></tr><tr><td>2000-02</td><td>lckeychain</td><td>2</td></tr><tr><td>2000-03</td><td>matryoshka</td><td>1</td></tr></tbody></table></div>"
      ]
     },
     "metadata": {
      "application/vnd.databricks.v1+output": {
       "addedWidgets": {},
       "aggData": [],
       "aggError": "",
       "aggOverflow": false,
       "aggSchema": [],
       "aggSeriesLimitReached": false,
       "aggType": "",
       "arguments": {},
       "columnCustomDisplayInfos": {},
       "data": [
        [
         "2000-01",
         "lcphone",
         2
        ],
        [
         "2000-02",
         "lcphone",
         1
        ],
        [
         "2000-02",
         "lckeychain",
         2
        ],
        [
         "2000-03",
         "matryoshka",
         1
        ]
       ],
       "datasetInfos": [],
       "dbfsResultPath": null,
       "isJsonSchema": true,
       "metadata": {},
       "overflow": false,
       "plotOptions": {
        "customPlotOptions": {},
        "displayType": "table",
        "pivotAggregation": null,
        "pivotColumns": null,
        "xColumns": null,
        "yColumns": null
       },
       "removedWidgets": [],
       "schema": [
        {
         "metadata": "{}",
         "name": "year_months",
         "type": "\"string\""
        },
        {
         "metadata": "{}",
         "name": "product_names",
         "type": "\"string\""
        },
        {
         "metadata": "{}",
         "name": "product_sold",
         "type": "\"long\""
        }
       ],
       "type": "table"
      }
     },
     "output_type": "display_data"
    }
   ],
   "source": [
    "# Write and execute the Spark SQL query\n",
    "result = spark.sql(\n",
    "    \"\"\"\n",
    "    SELECT DATE_FORMAT(sale_date, 'yyyy-MM') as year_months,\n",
    "           LOWER(TRIM(product_name)) as product_names,\n",
    "           COUNT(sale_id) as product_sold\n",
    "    FROM sales\n",
    "    GROUP BY year_months, product_names\n",
    "\"\"\"\n",
    ")\n",
    "\n",
    "# Show the result\n",
    "result.display()"
   ]
  },
  {
   "cell_type": "markdown",
   "metadata": {
    "application/vnd.databricks.v1+cell": {
     "cellMetadata": {},
     "inputWidgets": {},
     "nuid": "349af479-a3c2-4312-8f4c-6c1c691cab67",
     "showTitle": false,
     "title": ""
    }
   },
   "source": [
    "Explanation:\n",
    "\n",
    "createOrReplaceTempView(\"sales_\"): Registers the DataFrame as a SQL temporary view, allowing you to use SQL queries.\n",
    "\n",
    "Spark SQL query: The SQL syntax is almost the same as regular SQL, except that the DATE_FORMAT function is slightly different ('yyyy-MM' instead of \"%Y-%m\").\n",
    "\n",
    "spark.sql(): Executes the SQL query on the registered temporary view.\n",
    "\n",
    "This will give you the grouped result based on the formatted date and cleaned product name, along with the count of products sold."
   ]
  }
 ],
 "metadata": {
  "application/vnd.databricks.v1+notebook": {
   "dashboards": [],
   "environmentMetadata": null,
   "language": "python",
   "notebookMetadata": {
    "pythonIndentUnit": 4
   },
   "notebookName": "Uber SQL Interview Question (Medium Level)",
   "widgets": {}
  }
 },
 "nbformat": 4,
 "nbformat_minor": 0
}
