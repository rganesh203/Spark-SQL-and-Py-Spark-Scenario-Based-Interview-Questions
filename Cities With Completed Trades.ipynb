{
 "cells": [
  {
   "cell_type": "markdown",
   "metadata": {
    "application/vnd.databricks.v1+cell": {
     "cellMetadata": {},
     "inputWidgets": {},
     "nuid": "36d6ef6c-196e-40cd-87da-20c2e49a1ef2",
     "showTitle": false,
     "title": ""
    }
   },
   "source": [
    "Problem Statements:\n",
    "\n",
    "Given two datasets, trades and users, the goal is to identify the number of completed orders for each city. Specifically, the trades dataset contains details of orders, including the order status, while the users dataset contains user information, including each user's city.\n",
    "\n",
    "Filter the trades data to include only rows where Status is \"Completed\".\n",
    "Join the filtered trades data with the users data on the user ID to associate each order with a city.\n",
    "Aggregate the data by city and count the total number of completed orders for each city.\n",
    "Output the results, showing the city and corresponding total number of completed orders in descending order by count."
   ]
  },
  {
   "cell_type": "code",
   "execution_count": 0,
   "metadata": {
    "application/vnd.databricks.v1+cell": {
     "cellMetadata": {
      "byteLimit": 2048000,
      "rowLimit": 10000
     },
     "inputWidgets": {},
     "nuid": "7f5bbdc6-2ed1-46e4-9956-49165c2554f4",
     "showTitle": false,
     "title": ""
    }
   },
   "outputs": [
    {
     "output_type": "display_data",
     "data": {
      "text/html": [
       "<style scoped>\n",
       "  .table-result-container {\n",
       "    max-height: 300px;\n",
       "    overflow: auto;\n",
       "  }\n",
       "  table, th, td {\n",
       "    border: 1px solid black;\n",
       "    border-collapse: collapse;\n",
       "  }\n",
       "  th, td {\n",
       "    padding: 5px;\n",
       "  }\n",
       "  th {\n",
       "    text-align: left;\n",
       "  }\n",
       "</style><div class='table-result-container'><table class='table-result'><thead style='background-color: white'><tr><th>user_id</th><th>city</th><th>email</th><th>signup_date</th></tr></thead><tbody><tr><td>111</td><td>San Francisco</td><td>rrok10@gmail.com</td><td>2021-08-03T12:00:00.000+0000</td></tr><tr><td>148</td><td>Boston</td><td>sailor9820@gmail.com</td><td>2021-08-20T12:00:00.000+0000</td></tr><tr><td>178</td><td>San Francisco</td><td>harrypotterfan182@gmail.com</td><td>2022-01-05T12:00:00.000+0000</td></tr><tr><td>265</td><td>Denver</td><td>shadower_@hotmail.com</td><td>2022-02-26T12:00:00.000+0000</td></tr><tr><td>300</td><td>San Francisco</td><td>houstoncowboy1122@hotmail.com</td><td>2022-06-30T12:00:00.000+0000</td></tr><tr><td>488</td><td>New York</td><td>empire_state78@outlook.com</td><td>2022-07-03T12:00:00.000+0000</td></tr></tbody></table></div>"
      ]
     },
     "metadata": {
      "application/vnd.databricks.v1+output": {
       "addedWidgets": {},
       "aggData": [],
       "aggError": "",
       "aggOverflow": false,
       "aggSchema": [],
       "aggSeriesLimitReached": false,
       "aggType": "",
       "arguments": {},
       "columnCustomDisplayInfos": {},
       "data": [
        [
         111,
         "San Francisco",
         "rrok10@gmail.com",
         "2021-08-03T12:00:00.000+0000"
        ],
        [
         148,
         "Boston",
         "sailor9820@gmail.com",
         "2021-08-20T12:00:00.000+0000"
        ],
        [
         178,
         "San Francisco",
         "harrypotterfan182@gmail.com",
         "2022-01-05T12:00:00.000+0000"
        ],
        [
         265,
         "Denver",
         "shadower_@hotmail.com",
         "2022-02-26T12:00:00.000+0000"
        ],
        [
         300,
         "San Francisco",
         "houstoncowboy1122@hotmail.com",
         "2022-06-30T12:00:00.000+0000"
        ],
        [
         488,
         "New York",
         "empire_state78@outlook.com",
         "2022-07-03T12:00:00.000+0000"
        ]
       ],
       "datasetInfos": [],
       "dbfsResultPath": null,
       "isJsonSchema": true,
       "metadata": {},
       "overflow": false,
       "plotOptions": {
        "customPlotOptions": {},
        "displayType": "table",
        "pivotAggregation": null,
        "pivotColumns": null,
        "xColumns": null,
        "yColumns": null
       },
       "removedWidgets": [],
       "schema": [
        {
         "metadata": "{}",
         "name": "user_id",
         "type": "\"integer\""
        },
        {
         "metadata": "{}",
         "name": "city",
         "type": "\"string\""
        },
        {
         "metadata": "{}",
         "name": "email",
         "type": "\"string\""
        },
        {
         "metadata": "{}",
         "name": "signup_date",
         "type": "\"timestamp\""
        }
       ],
       "type": "table"
      }
     },
     "output_type": "display_data"
    }
   ],
   "source": [
    "from pyspark.sql.types import *\n",
    "from datetime import datetime\n",
    "\n",
    "# Define the schema for the DataFrame\n",
    "schema = StructType([\n",
    "    StructField(\"OrderID\", IntegerType(), True),\n",
    "    StructField(\"CustomerID\", IntegerType(), True),\n",
    "    StructField(\"ProductID\", IntegerType(), True),\n",
    "    StructField(\"Status\", StringType(), True),\n",
    "    StructField(\"OrderDate\", TimestampType(), True),\n",
    "    StructField(\"Price\", FloatType(), True)\n",
    "])\n",
    "\n",
    "# Define the data with datetime objects for the timestamps\n",
    "data = [\n",
    "    (100101, 111, 10, \"Cancelled\", datetime(2022, 8, 17, 12, 0, 0), 9.80),\n",
    "    (100102, 111, 10, \"Completed\", datetime(2022, 8, 17, 12, 0, 0), 10.00),\n",
    "    (100264, 148, 40, \"Completed\", datetime(2022, 8, 26, 12, 0, 0), 4.80),\n",
    "    (100305, 300, 15, \"Completed\", datetime(2022, 9, 5, 12, 0, 0), 10.00),\n",
    "    (100909, 488, 1, \"Completed\", datetime(2022, 7, 5, 12, 0, 0), 6.50),\n",
    "    (100259, 148, 35, \"Completed\", datetime(2022, 8, 25, 12, 0, 0), 5.10),\n",
    "    (100900, 148, 50, \"Completed\", datetime(2022, 7, 14, 12, 0, 0), 9.78),\n",
    "    (101432, 265, 10, \"Completed\", datetime(2022, 8, 16, 12, 0, 0), 13.00),\n",
    "    (102533, 488, 25, \"Cancelled\", datetime(2022, 11, 10, 12, 0, 0), 22.40),\n",
    "    (100565, 265, 2, \"Completed\", datetime(2022, 9, 27, 12, 0, 0), 8.70),\n",
    "    (100400, 178, 32, \"Completed\", datetime(2022, 9, 17, 12, 0, 0), 12.00),\n",
    "    (100777, 178, 60, \"Completed\", datetime(2022, 7, 25, 17, 47, 0), 3.56)\n",
    "]\n",
    "# Define schema for the users data\n",
    "users_schema = StructType([\n",
    "    StructField(\"user_id\", IntegerType(), True),\n",
    "    StructField(\"city\", StringType(), True),\n",
    "    StructField(\"email\", StringType(), True),\n",
    "    StructField(\"signup_date\", TimestampType(), True)\n",
    "])\n",
    "\n",
    "# Define the data\n",
    "users_data = [\n",
    "    (111, \"San Francisco\", \"rrok10@gmail.com\", datetime(2021, 8, 3, 12, 0, 0)),\n",
    "    (148, \"Boston\", \"sailor9820@gmail.com\", datetime(2021, 8, 20, 12, 0, 0)),\n",
    "    (178, \"San Francisco\", \"harrypotterfan182@gmail.com\", datetime(2022, 1, 5, 12, 0, 0)),\n",
    "    (265, \"Denver\", \"shadower_@hotmail.com\", datetime(2022, 2, 26, 12, 0, 0)),\n",
    "    (300, \"San Francisco\", \"houstoncowboy1122@hotmail.com\", datetime(2022, 6, 30, 12, 0, 0)),\n",
    "    (488, \"New York\", \"empire_state78@outlook.com\", datetime(2022, 7, 3, 12, 0, 0))\n",
    "]\n",
    "\n",
    "# Create DataFrame\n",
    "users_df = spark.createDataFrame(users_data, users_schema)\n",
    "\n",
    "# display DataFrame\n",
    "users_df.display()"
   ]
  },
  {
   "cell_type": "code",
   "execution_count": 0,
   "metadata": {
    "application/vnd.databricks.v1+cell": {
     "cellMetadata": {
      "byteLimit": 2048000,
      "rowLimit": 10000
     },
     "inputWidgets": {},
     "nuid": "1e34b0a2-0964-4515-8e4c-178ab1229d0f",
     "showTitle": false,
     "title": ""
    }
   },
   "outputs": [
    {
     "output_type": "display_data",
     "data": {
      "text/html": [
       "<style scoped>\n",
       "  .table-result-container {\n",
       "    max-height: 300px;\n",
       "    overflow: auto;\n",
       "  }\n",
       "  table, th, td {\n",
       "    border: 1px solid black;\n",
       "    border-collapse: collapse;\n",
       "  }\n",
       "  th, td {\n",
       "    padding: 5px;\n",
       "  }\n",
       "  th {\n",
       "    text-align: left;\n",
       "  }\n",
       "</style><div class='table-result-container'><table class='table-result'><thead style='background-color: white'><tr><th>OrderID</th><th>CustomerID</th><th>ProductID</th><th>Status</th><th>OrderDate</th><th>Price</th></tr></thead><tbody><tr><td>100101</td><td>111</td><td>10</td><td>Cancelled</td><td>2022-08-17T12:00:00.000+0000</td><td>9.8</td></tr><tr><td>100102</td><td>111</td><td>10</td><td>Completed</td><td>2022-08-17T12:00:00.000+0000</td><td>10.0</td></tr><tr><td>100264</td><td>148</td><td>40</td><td>Completed</td><td>2022-08-26T12:00:00.000+0000</td><td>4.8</td></tr><tr><td>100305</td><td>300</td><td>15</td><td>Completed</td><td>2022-09-05T12:00:00.000+0000</td><td>10.0</td></tr><tr><td>100909</td><td>488</td><td>1</td><td>Completed</td><td>2022-07-05T12:00:00.000+0000</td><td>6.5</td></tr><tr><td>100259</td><td>148</td><td>35</td><td>Completed</td><td>2022-08-25T12:00:00.000+0000</td><td>5.1</td></tr><tr><td>100900</td><td>148</td><td>50</td><td>Completed</td><td>2022-07-14T12:00:00.000+0000</td><td>9.78</td></tr><tr><td>101432</td><td>265</td><td>10</td><td>Completed</td><td>2022-08-16T12:00:00.000+0000</td><td>13.0</td></tr><tr><td>102533</td><td>488</td><td>25</td><td>Cancelled</td><td>2022-11-10T12:00:00.000+0000</td><td>22.4</td></tr><tr><td>100565</td><td>265</td><td>2</td><td>Completed</td><td>2022-09-27T12:00:00.000+0000</td><td>8.7</td></tr><tr><td>100400</td><td>178</td><td>32</td><td>Completed</td><td>2022-09-17T12:00:00.000+0000</td><td>12.0</td></tr><tr><td>100777</td><td>178</td><td>60</td><td>Completed</td><td>2022-07-25T17:47:00.000+0000</td><td>3.56</td></tr></tbody></table></div>"
      ]
     },
     "metadata": {
      "application/vnd.databricks.v1+output": {
       "addedWidgets": {},
       "aggData": [],
       "aggError": "",
       "aggOverflow": false,
       "aggSchema": [],
       "aggSeriesLimitReached": false,
       "aggType": "",
       "arguments": {},
       "columnCustomDisplayInfos": {},
       "data": [
        [
         100101,
         111,
         10,
         "Cancelled",
         "2022-08-17T12:00:00.000+0000",
         9.8
        ],
        [
         100102,
         111,
         10,
         "Completed",
         "2022-08-17T12:00:00.000+0000",
         10.0
        ],
        [
         100264,
         148,
         40,
         "Completed",
         "2022-08-26T12:00:00.000+0000",
         4.8
        ],
        [
         100305,
         300,
         15,
         "Completed",
         "2022-09-05T12:00:00.000+0000",
         10.0
        ],
        [
         100909,
         488,
         1,
         "Completed",
         "2022-07-05T12:00:00.000+0000",
         6.5
        ],
        [
         100259,
         148,
         35,
         "Completed",
         "2022-08-25T12:00:00.000+0000",
         5.1
        ],
        [
         100900,
         148,
         50,
         "Completed",
         "2022-07-14T12:00:00.000+0000",
         9.78
        ],
        [
         101432,
         265,
         10,
         "Completed",
         "2022-08-16T12:00:00.000+0000",
         13.0
        ],
        [
         102533,
         488,
         25,
         "Cancelled",
         "2022-11-10T12:00:00.000+0000",
         22.4
        ],
        [
         100565,
         265,
         2,
         "Completed",
         "2022-09-27T12:00:00.000+0000",
         8.7
        ],
        [
         100400,
         178,
         32,
         "Completed",
         "2022-09-17T12:00:00.000+0000",
         12.0
        ],
        [
         100777,
         178,
         60,
         "Completed",
         "2022-07-25T17:47:00.000+0000",
         3.56
        ]
       ],
       "datasetInfos": [],
       "dbfsResultPath": null,
       "isJsonSchema": true,
       "metadata": {},
       "overflow": false,
       "plotOptions": {
        "customPlotOptions": {},
        "displayType": "table",
        "pivotAggregation": null,
        "pivotColumns": null,
        "xColumns": null,
        "yColumns": null
       },
       "removedWidgets": [],
       "schema": [
        {
         "metadata": "{}",
         "name": "OrderID",
         "type": "\"integer\""
        },
        {
         "metadata": "{}",
         "name": "CustomerID",
         "type": "\"integer\""
        },
        {
         "metadata": "{}",
         "name": "ProductID",
         "type": "\"integer\""
        },
        {
         "metadata": "{}",
         "name": "Status",
         "type": "\"string\""
        },
        {
         "metadata": "{}",
         "name": "OrderDate",
         "type": "\"timestamp\""
        },
        {
         "metadata": "{}",
         "name": "Price",
         "type": "\"float\""
        }
       ],
       "type": "table"
      }
     },
     "output_type": "display_data"
    }
   ],
   "source": [
    "# Create the DataFrame\n",
    "df = spark.createDataFrame(data, schema)\n",
    "\n",
    "# display the DataFrame\n",
    "df.display()"
   ]
  },
  {
   "cell_type": "code",
   "execution_count": 0,
   "metadata": {
    "application/vnd.databricks.v1+cell": {
     "cellMetadata": {
      "byteLimit": 2048000,
      "rowLimit": 10000
     },
     "inputWidgets": {},
     "nuid": "9fc4e118-c3ce-45d8-bed9-ace5d162c522",
     "showTitle": false,
     "title": ""
    }
   },
   "outputs": [],
   "source": [
    "df.createOrReplaceTempView('trades')\n",
    "users_df.createOrReplaceTempView('users')"
   ]
  },
  {
   "cell_type": "code",
   "execution_count": 0,
   "metadata": {
    "application/vnd.databricks.v1+cell": {
     "cellMetadata": {
      "byteLimit": 2048000,
      "implicitDf": true,
      "rowLimit": 10000
     },
     "inputWidgets": {},
     "nuid": "fce2591c-459e-4366-978b-7dee8eb589f1",
     "showTitle": false,
     "title": ""
    }
   },
   "outputs": [
    {
     "output_type": "display_data",
     "data": {
      "text/html": [
       "<style scoped>\n",
       "  .table-result-container {\n",
       "    max-height: 300px;\n",
       "    overflow: auto;\n",
       "  }\n",
       "  table, th, td {\n",
       "    border: 1px solid black;\n",
       "    border-collapse: collapse;\n",
       "  }\n",
       "  th, td {\n",
       "    padding: 5px;\n",
       "  }\n",
       "  th {\n",
       "    text-align: left;\n",
       "  }\n",
       "</style><div class='table-result-container'><table class='table-result'><thead style='background-color: white'><tr><th>city</th><th>total_orders</th></tr></thead><tbody><tr><td>San Francisco</td><td>4</td></tr><tr><td>Boston</td><td>3</td></tr><tr><td>Denver</td><td>2</td></tr></tbody></table></div>"
      ]
     },
     "metadata": {
      "application/vnd.databricks.v1+output": {
       "addedWidgets": {},
       "aggData": [],
       "aggError": "",
       "aggOverflow": false,
       "aggSchema": [],
       "aggSeriesLimitReached": false,
       "aggType": "",
       "arguments": {},
       "columnCustomDisplayInfos": {},
       "data": [
        [
         "San Francisco",
         4
        ],
        [
         "Boston",
         3
        ],
        [
         "Denver",
         2
        ]
       ],
       "datasetInfos": [],
       "dbfsResultPath": null,
       "isJsonSchema": true,
       "metadata": {},
       "overflow": false,
       "plotOptions": {
        "customPlotOptions": {},
        "displayType": "table",
        "pivotAggregation": null,
        "pivotColumns": null,
        "xColumns": null,
        "yColumns": null
       },
       "removedWidgets": [],
       "schema": [
        {
         "metadata": "{}",
         "name": "city",
         "type": "\"string\""
        },
        {
         "metadata": "{}",
         "name": "total_orders",
         "type": "\"long\""
        }
       ],
       "type": "table"
      }
     },
     "output_type": "display_data"
    }
   ],
   "source": [
    "%sql\n",
    "WITH CompletedOrders AS (\n",
    "  SELECT \n",
    "    users.city,\n",
    "    COUNT(trades.orderid) AS total_orders\n",
    "  FROM trades \n",
    "  INNER JOIN users \n",
    "    ON trades.CustomerID = users.user_id\n",
    "  WHERE trades.status = 'Completed'\n",
    "  GROUP BY users.city\n",
    ")\n",
    "SELECT *\n",
    "FROM CompletedOrders\n",
    "ORDER BY total_orders DESC\n",
    "LIMIT 3;\n"
   ]
  },
  {
   "cell_type": "code",
   "execution_count": 0,
   "metadata": {
    "application/vnd.databricks.v1+cell": {
     "cellMetadata": {
      "byteLimit": 2048000,
      "rowLimit": 10000
     },
     "inputWidgets": {},
     "nuid": "084a0ef5-9106-48e4-99be-9defd680b851",
     "showTitle": false,
     "title": ""
    }
   },
   "outputs": [
    {
     "output_type": "display_data",
     "data": {
      "text/html": [
       "<style scoped>\n",
       "  .table-result-container {\n",
       "    max-height: 300px;\n",
       "    overflow: auto;\n",
       "  }\n",
       "  table, th, td {\n",
       "    border: 1px solid black;\n",
       "    border-collapse: collapse;\n",
       "  }\n",
       "  th, td {\n",
       "    padding: 5px;\n",
       "  }\n",
       "  th {\n",
       "    text-align: left;\n",
       "  }\n",
       "</style><div class='table-result-container'><table class='table-result'><thead style='background-color: white'><tr><th>city</th><th>total_orders</th></tr></thead><tbody><tr><td>San Francisco</td><td>5</td></tr><tr><td>Boston</td><td>3</td></tr><tr><td>New York</td><td>2</td></tr></tbody></table></div>"
      ]
     },
     "metadata": {
      "application/vnd.databricks.v1+output": {
       "addedWidgets": {},
       "aggData": [],
       "aggError": "",
       "aggOverflow": false,
       "aggSchema": [],
       "aggSeriesLimitReached": false,
       "aggType": "",
       "arguments": {},
       "columnCustomDisplayInfos": {},
       "data": [
        [
         "San Francisco",
         5
        ],
        [
         "Boston",
         3
        ],
        [
         "New York",
         2
        ]
       ],
       "datasetInfos": [],
       "dbfsResultPath": null,
       "isJsonSchema": true,
       "metadata": {},
       "overflow": false,
       "plotOptions": {
        "customPlotOptions": {},
        "displayType": "table",
        "pivotAggregation": null,
        "pivotColumns": null,
        "xColumns": null,
        "yColumns": null
       },
       "removedWidgets": [],
       "schema": [
        {
         "metadata": "{}",
         "name": "city",
         "type": "\"string\""
        },
        {
         "metadata": "{}",
         "name": "total_orders",
         "type": "\"long\""
        }
       ],
       "type": "table"
      }
     },
     "output_type": "display_data"
    }
   ],
   "source": [
    "from pyspark.sql import functions as F\n",
    "\n",
    "completed_trades = df.filter(df.Status == \"Completed\")\n",
    "\n",
    "# Join trades and users on CustomerID and user_id\n",
    "joined_df = users_df.join(df, df.CustomerID == users_df.user_id, \"inner\")\n",
    "\n",
    "# Group by city and count the total orders\n",
    "completed_orders = joined_df.groupBy(\"city\").agg(F.count(\"orderid\").alias(\"total_orders\"))\n",
    "\n",
    "# Order by total_orders in descending order and select top 3\n",
    "top_cities = completed_orders.orderBy(F.desc(\"total_orders\")).limit(3)\n",
    "\n",
    "# Display the result\n",
    "top_cities.display()"
   ]
  },
  {
   "cell_type": "markdown",
   "metadata": {
    "application/vnd.databricks.v1+cell": {
     "cellMetadata": {},
     "inputWidgets": {},
     "nuid": "7ef0fe64-62a2-4e65-aaba-6ebd99d59af4",
     "showTitle": false,
     "title": ""
    }
   },
   "source": [
    "Explanation:\n",
    "\n",
    "Filtering: completed_trades is filtered to include only rows where Status is 'Completed'.\n",
    "Joining: The completed_trades DataFrame is joined with users_df on CustomerID (from trades_df) and user_id (from users_df).\n",
    "Grouping and Aggregating: The joined data is grouped by city, and a count of OrderID is calculated as total_orders.\n",
    "Displaying: The final output displays cities and their corresponding order counts, sorted in descending order of total_orders (optional)."
   ]
  }
 ],
 "metadata": {
  "application/vnd.databricks.v1+notebook": {
   "dashboards": [],
   "environmentMetadata": null,
   "language": "python",
   "notebookMetadata": {
    "mostRecentlyExecutedCommandWithImplicitDF": {
     "commandId": 376730956064561,
     "dataframes": [
      "_sqldf"
     ]
    },
    "pythonIndentUnit": 4
   },
   "notebookName": "Cities With Completed Trades",
   "widgets": {}
  }
 },
 "nbformat": 4,
 "nbformat_minor": 0
}
