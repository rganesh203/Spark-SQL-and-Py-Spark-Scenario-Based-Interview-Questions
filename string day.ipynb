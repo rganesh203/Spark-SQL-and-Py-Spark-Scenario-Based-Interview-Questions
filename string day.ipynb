{
 "cells": [
  {
   "cell_type": "code",
   "execution_count": 0,
   "metadata": {
    "application/vnd.databricks.v1+cell": {
     "cellMetadata": {
      "byteLimit": 2048000,
      "rowLimit": 10000
     },
     "inputWidgets": {},
     "nuid": "7b1abfb4-09f4-4177-95ef-32cd891fd229",
     "showTitle": false,
     "tableResultSettingsMap": {},
     "title": ""
    }
   },
   "outputs": [
    {
     "output_type": "display_data",
     "data": {
      "text/html": [
       "<style scoped>\n",
       "  .table-result-container {\n",
       "    max-height: 300px;\n",
       "    overflow: auto;\n",
       "  }\n",
       "  table, th, td {\n",
       "    border: 1px solid black;\n",
       "    border-collapse: collapse;\n",
       "  }\n",
       "  th, td {\n",
       "    padding: 5px;\n",
       "  }\n",
       "  th {\n",
       "    text-align: left;\n",
       "  }\n",
       "</style><div class='table-result-container'><table class='table-result'><thead style='background-color: white'><tr><th>id</th><th>event</th></tr></thead><tbody><tr><td>1</td><td>School Re-opens 21-05-2024</td></tr><tr><td>2</td><td>Went for a trip 18-08-2023</td></tr><tr><td>3</td><td>No event 12-12-2022</td></tr><tr><td>4</td><td>No dates are mentioned here</td></tr></tbody></table></div>"
      ]
     },
     "metadata": {
      "application/vnd.databricks.v1+output": {
       "addedWidgets": {},
       "aggData": [],
       "aggError": "",
       "aggOverflow": false,
       "aggSchema": [],
       "aggSeriesLimitReached": false,
       "aggType": "",
       "arguments": {},
       "columnCustomDisplayInfos": {},
       "data": [
        [
         1,
         "School Re-opens 21-05-2024"
        ],
        [
         2,
         "Went for a trip 18-08-2023"
        ],
        [
         3,
         "No event 12-12-2022"
        ],
        [
         4,
         "No dates are mentioned here"
        ]
       ],
       "datasetInfos": [],
       "dbfsResultPath": null,
       "isJsonSchema": true,
       "metadata": {},
       "overflow": false,
       "plotOptions": {
        "customPlotOptions": {},
        "displayType": "table",
        "pivotAggregation": null,
        "pivotColumns": null,
        "xColumns": null,
        "yColumns": null
       },
       "removedWidgets": [],
       "schema": [
        {
         "metadata": "{}",
         "name": "id",
         "type": "\"long\""
        },
        {
         "metadata": "{}",
         "name": "event",
         "type": "\"string\""
        }
       ],
       "type": "table"
      }
     },
     "output_type": "display_data"
    }
   ],
   "source": [
    "from pyspark.sql.functions import to_date, date_format, split\n",
    "\n",
    "# Example data\n",
    "data = [\n",
    "    (1, \"School Re-opens 21-05-2024\"),\n",
    "    (2, \"Went for a trip 18-08-2023\"),\n",
    "    (3, \"No event 12-12-2022\"),\n",
    "    (4, \"No dates are mentioned here\"),\n",
    "]\n",
    "\n",
    "# Create DataFrame\n",
    "df = spark.createDataFrame(data, [\"id\", \"event\"])\n",
    "df.display()"
   ]
  },
  {
   "cell_type": "code",
   "execution_count": 0,
   "metadata": {
    "application/vnd.databricks.v1+cell": {
     "cellMetadata": {
      "byteLimit": 2048000,
      "rowLimit": 10000
     },
     "inputWidgets": {},
     "nuid": "2d513ba7-165c-4307-bb2c-b33d33e523ea",
     "showTitle": false,
     "tableResultSettingsMap": {},
     "title": ""
    }
   },
   "outputs": [
    {
     "output_type": "display_data",
     "data": {
      "text/html": [
       "<style scoped>\n",
       "  .table-result-container {\n",
       "    max-height: 300px;\n",
       "    overflow: auto;\n",
       "  }\n",
       "  table, th, td {\n",
       "    border: 1px solid black;\n",
       "    border-collapse: collapse;\n",
       "  }\n",
       "  th, td {\n",
       "    padding: 5px;\n",
       "  }\n",
       "  th {\n",
       "    text-align: left;\n",
       "  }\n",
       "</style><div class='table-result-container'><table class='table-result'><thead style='background-color: white'><tr><th>id</th><th>event</th><th>extracted_date</th></tr></thead><tbody><tr><td>1</td><td>School Re-opens 21-05-2024</td><td>List(School, Re-opens, 21-05-2024)</td></tr><tr><td>2</td><td>Went for a trip 18-08-2023</td><td>List(Went, for, a, trip, 18-08-2023)</td></tr><tr><td>3</td><td>No event 12-12-2022</td><td>List(No, event, 12-12-2022)</td></tr><tr><td>4</td><td>No dates are mentioned here</td><td>List(No, dates, are, mentioned, here)</td></tr></tbody></table></div>"
      ]
     },
     "metadata": {
      "application/vnd.databricks.v1+output": {
       "addedWidgets": {},
       "aggData": [],
       "aggError": "",
       "aggOverflow": false,
       "aggSchema": [],
       "aggSeriesLimitReached": false,
       "aggType": "",
       "arguments": {},
       "columnCustomDisplayInfos": {},
       "data": [
        [
         1,
         "School Re-opens 21-05-2024",
         [
          "School",
          "Re-opens",
          "21-05-2024"
         ]
        ],
        [
         2,
         "Went for a trip 18-08-2023",
         [
          "Went",
          "for",
          "a",
          "trip",
          "18-08-2023"
         ]
        ],
        [
         3,
         "No event 12-12-2022",
         [
          "No",
          "event",
          "12-12-2022"
         ]
        ],
        [
         4,
         "No dates are mentioned here",
         [
          "No",
          "dates",
          "are",
          "mentioned",
          "here"
         ]
        ]
       ],
       "datasetInfos": [],
       "dbfsResultPath": null,
       "isJsonSchema": true,
       "metadata": {},
       "overflow": false,
       "plotOptions": {
        "customPlotOptions": {},
        "displayType": "table",
        "pivotAggregation": null,
        "pivotColumns": null,
        "xColumns": null,
        "yColumns": null
       },
       "removedWidgets": [],
       "schema": [
        {
         "metadata": "{}",
         "name": "id",
         "type": "\"long\""
        },
        {
         "metadata": "{}",
         "name": "event",
         "type": "\"string\""
        },
        {
         "metadata": "{}",
         "name": "extracted_date",
         "type": "{\"type\":\"array\",\"elementType\":\"string\",\"containsNull\":false}"
        }
       ],
       "type": "table"
      }
     },
     "output_type": "display_data"
    }
   ],
   "source": [
    "df.display()"
   ]
  },
  {
   "cell_type": "code",
   "execution_count": 0,
   "metadata": {
    "application/vnd.databricks.v1+cell": {
     "cellMetadata": {
      "byteLimit": 2048000,
      "rowLimit": 10000
     },
     "inputWidgets": {},
     "nuid": "97f7a0d0-dff3-40f8-b360-c37d105f85f4",
     "showTitle": false,
     "tableResultSettingsMap": {},
     "title": ""
    }
   },
   "outputs": [
    {
     "output_type": "display_data",
     "data": {
      "text/html": [
       "<style scoped>\n",
       "  .table-result-container {\n",
       "    max-height: 300px;\n",
       "    overflow: auto;\n",
       "  }\n",
       "  table, th, td {\n",
       "    border: 1px solid black;\n",
       "    border-collapse: collapse;\n",
       "  }\n",
       "  th, td {\n",
       "    padding: 5px;\n",
       "  }\n",
       "  th {\n",
       "    text-align: left;\n",
       "  }\n",
       "</style><div class='table-result-container'><table class='table-result'><thead style='background-color: white'><tr><th>id</th><th>updated_sentence</th></tr></thead><tbody><tr><td>1</td><td>School Re-opens 21-05-2024 ( Tuesday )</td></tr><tr><td>2</td><td>Went for a trip 18-08-2023 ( Friday )</td></tr><tr><td>3</td><td>No event 12-12-2022 ( Monday )</td></tr><tr><td>4</td><td>No dates are mentioned here ( )</td></tr></tbody></table></div>"
      ]
     },
     "metadata": {
      "application/vnd.databricks.v1+output": {
       "addedWidgets": {},
       "aggData": [],
       "aggError": "",
       "aggOverflow": false,
       "aggSchema": [],
       "aggSeriesLimitReached": false,
       "aggType": "",
       "arguments": {},
       "columnCustomDisplayInfos": {},
       "data": [
        [
         1,
         "School Re-opens 21-05-2024 ( Tuesday )"
        ],
        [
         2,
         "Went for a trip 18-08-2023 ( Friday )"
        ],
        [
         3,
         "No event 12-12-2022 ( Monday )"
        ],
        [
         4,
         "No dates are mentioned here ( )"
        ]
       ],
       "datasetInfos": [],
       "dbfsResultPath": null,
       "isJsonSchema": true,
       "metadata": {},
       "overflow": false,
       "plotOptions": {
        "customPlotOptions": {},
        "displayType": "table",
        "pivotAggregation": null,
        "pivotColumns": null,
        "xColumns": null,
        "yColumns": null
       },
       "removedWidgets": [],
       "schema": [
        {
         "metadata": "{}",
         "name": "id",
         "type": "\"long\""
        },
        {
         "metadata": "{}",
         "name": "updated_sentence",
         "type": "\"string\""
        }
       ],
       "type": "table"
      }
     },
     "output_type": "display_data"
    }
   ],
   "source": [
    "from pyspark.sql.functions import regexp_extract, to_date, date_format, concat_ws, lit\n",
    "\n",
    "# Extract date from event column using regex\n",
    "date_pattern = r\"(\\d{2}-\\d{2}-\\d{4})\"\n",
    "df_with_date = df.withColumn(\"date\", regexp_extract(\"event\", date_pattern, 1))\n",
    "\n",
    "# Convert the extracted date into a valid date format\n",
    "df_with_date = df_with_date.withColumn(\n",
    "    \"formatted_date\", to_date(df_with_date[\"date\"], \"dd-MM-yyyy\")\n",
    ")\n",
    "\n",
    "# Get the day of the week from the formatted date\n",
    "df_with_day = df_with_date.withColumn(\n",
    "    \"day_of_week\", date_format(\"formatted_date\", \"EEEE\")\n",
    ")\n",
    "\n",
    "# Append the day of the week with the original event column\n",
    "df_final = df_with_day.withColumn(\n",
    "    \"updated_sentence\",\n",
    "    concat_ws(\n",
    "        \" \", df_with_day[\"event\"], lit(\"(\"), df_with_day[\"day_of_week\"], lit(\")\")\n",
    "    ),\n",
    ")\n",
    "\n",
    "# Select the required columns and display the result\n",
    "df_final.select(\"id\", \"updated_sentence\").display()"
   ]
  },
  {
   "cell_type": "code",
   "execution_count": 0,
   "metadata": {
    "application/vnd.databricks.v1+cell": {
     "cellMetadata": {
      "byteLimit": 2048000,
      "rowLimit": 10000
     },
     "inputWidgets": {},
     "nuid": "09b46fc1-33de-42f5-934a-3363ae279a9d",
     "showTitle": false,
     "tableResultSettingsMap": {},
     "title": ""
    }
   },
   "outputs": [
    {
     "output_type": "stream",
     "name": "stdout",
     "output_type": "stream",
     "text": [
      "School Re-opens 21-05-2024 (Tuesday)\nWent for a trip 18-08-2023 (Friday)\nNo event 12-12-2022 (Monday)\n"
     ]
    }
   ],
   "source": [
    "from datetime import datetime\n",
    "\n",
    "# List of events with dates in string format\n",
    "events = [\n",
    "    (\"School Re-opens\", \"21-05-2024\"),\n",
    "    (\"Went for a trip\", \"18-08-2023\"),\n",
    "    (\"No event\", \"12-12-2022\"),\n",
    "]\n",
    "\n",
    "# Function to add day of the week to each event\n",
    "def add_day_of_week(events):\n",
    "    result = []\n",
    "    for event, date_str in events:\n",
    "        # Convert the string date to datetime object\n",
    "        date_obj = datetime.strptime(date_str, \"%d-%m-%Y\")\n",
    "        # Get the day of the week (e.g., Monday, Tuesday)\n",
    "        day_of_week = date_obj.strftime(\"%A\")\n",
    "        result.append(f\"{event} {date_str} ({day_of_week})\")\n",
    "    return result\n",
    "\n",
    "\n",
    "# Output the events with the day of the week\n",
    "updated_events = add_day_of_week(events)\n",
    "for event in updated_events:\n",
    "    print(event)"
   ]
  },
  {
   "cell_type": "code",
   "execution_count": 0,
   "metadata": {
    "application/vnd.databricks.v1+cell": {
     "cellMetadata": {
      "byteLimit": 2048000,
      "rowLimit": 10000
     },
     "inputWidgets": {},
     "nuid": "297e048f-af28-4550-907f-3dbc03be4cf5",
     "showTitle": false,
     "tableResultSettingsMap": {},
     "title": ""
    }
   },
   "outputs": [
    {
     "output_type": "stream",
     "name": "stdout",
     "output_type": "stream",
     "text": [
      "True\n"
     ]
    }
   ],
   "source": [
    "from datetime import datetime\n",
    "\n",
    "def is_valid_date(date_str, date_format=\"%d-%m-%Y\"):\n",
    "    try:\n",
    "        # Try to parse the date using the provided format\n",
    "        datetime.strptime(date_str, date_format)\n",
    "        return True\n",
    "    except ValueError:\n",
    "        # If parsing fails, it's not a valid date\n",
    "        return False\n",
    "\n",
    "# Example usage\n",
    "date_str = \"04-12-2024\"\n",
    "print(is_valid_date(date_str))  # True if the date is valid, False if not\n"
   ]
  }
 ],
 "metadata": {
  "application/vnd.databricks.v1+notebook": {
   "dashboards": [],
   "environmentMetadata": null,
   "language": "python",
   "notebookMetadata": {
    "pythonIndentUnit": 4
   },
   "notebookName": "𝐀𝐝𝐝𝐢𝐧𝐠 𝐃𝐚𝐲 𝐨𝐟 𝐭𝐡𝐞 𝐖𝐞𝐞𝐤 𝐍𝐞𝐱𝐭 𝐭𝐨 𝐃𝐚𝐭𝐞𝐬 𝐢𝐧 𝐓𝐞𝐱𝐭",
   "widgets": {}
  }
 },
 "nbformat": 4,
 "nbformat_minor": 0
}
