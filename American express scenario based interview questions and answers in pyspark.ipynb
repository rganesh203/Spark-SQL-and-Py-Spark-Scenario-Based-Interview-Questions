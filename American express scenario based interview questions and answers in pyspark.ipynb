{
 "cells": [
  {
   "cell_type": "markdown",
   "metadata": {
    "application/vnd.databricks.v1+cell": {
     "cellMetadata": {},
     "inputWidgets": {},
     "nuid": "236753ad-8c48-4309-91ff-5690023f79f6",
     "showTitle": false,
     "title": ""
    }
   },
   "source": [
    "Problem Recap:\n",
    "\n",
    "Goal: Recommend pages to users based on what their friends have liked, but exclude the pages the user has already liked.\n",
    "PySpark Implementation:\n",
    "Identify Friends' Likes: Get the pages liked by each user's friends.\n",
    "Exclude User's Own Likes: Exclude pages that the user has already liked from the recommendations."
   ]
  },
  {
   "cell_type": "code",
   "execution_count": 0,
   "metadata": {
    "application/vnd.databricks.v1+cell": {
     "cellMetadata": {
      "byteLimit": 2048000,
      "rowLimit": 10000
     },
     "inputWidgets": {},
     "nuid": "1f2e6e30-d7fa-40f7-a5c6-4a43dd790f31",
     "showTitle": false,
     "title": ""
    }
   },
   "outputs": [
    {
     "output_type": "display_data",
     "data": {
      "text/html": [
       "<style scoped>\n",
       "  .table-result-container {\n",
       "    max-height: 300px;\n",
       "    overflow: auto;\n",
       "  }\n",
       "  table, th, td {\n",
       "    border: 1px solid black;\n",
       "    border-collapse: collapse;\n",
       "  }\n",
       "  th, td {\n",
       "    padding: 5px;\n",
       "  }\n",
       "  th {\n",
       "    text-align: left;\n",
       "  }\n",
       "</style><div class='table-result-container'><table class='table-result'><thead style='background-color: white'><tr><th>user_id</th><th>friend_id</th></tr></thead><tbody><tr><td>1</td><td>2</td></tr><tr><td>1</td><td>3</td></tr><tr><td>1</td><td>4</td></tr><tr><td>2</td><td>1</td></tr><tr><td>3</td><td>1</td></tr><tr><td>3</td><td>4</td></tr><tr><td>4</td><td>1</td></tr><tr><td>4</td><td>3</td></tr></tbody></table></div>"
      ]
     },
     "metadata": {
      "application/vnd.databricks.v1+output": {
       "addedWidgets": {},
       "aggData": [],
       "aggError": "",
       "aggOverflow": false,
       "aggSchema": [],
       "aggSeriesLimitReached": false,
       "aggType": "",
       "arguments": {},
       "columnCustomDisplayInfos": {},
       "data": [
        [
         1,
         2
        ],
        [
         1,
         3
        ],
        [
         1,
         4
        ],
        [
         2,
         1
        ],
        [
         3,
         1
        ],
        [
         3,
         4
        ],
        [
         4,
         1
        ],
        [
         4,
         3
        ]
       ],
       "datasetInfos": [],
       "dbfsResultPath": null,
       "isJsonSchema": true,
       "metadata": {},
       "overflow": false,
       "plotOptions": {
        "customPlotOptions": {},
        "displayType": "table",
        "pivotAggregation": null,
        "pivotColumns": null,
        "xColumns": null,
        "yColumns": null
       },
       "removedWidgets": [],
       "schema": [
        {
         "metadata": "{}",
         "name": "user_id",
         "type": "\"integer\""
        },
        {
         "metadata": "{}",
         "name": "friend_id",
         "type": "\"integer\""
        }
       ],
       "type": "table"
      }
     },
     "output_type": "display_data"
    },
    {
     "output_type": "display_data",
     "data": {
      "text/html": [
       "<style scoped>\n",
       "  .table-result-container {\n",
       "    max-height: 300px;\n",
       "    overflow: auto;\n",
       "  }\n",
       "  table, th, td {\n",
       "    border: 1px solid black;\n",
       "    border-collapse: collapse;\n",
       "  }\n",
       "  th, td {\n",
       "    padding: 5px;\n",
       "  }\n",
       "  th {\n",
       "    text-align: left;\n",
       "  }\n",
       "</style><div class='table-result-container'><table class='table-result'><thead style='background-color: white'><tr><th>user_id</th><th>page_id</th></tr></thead><tbody><tr><td>1</td><td>A</td></tr><tr><td>1</td><td>B</td></tr><tr><td>1</td><td>C</td></tr><tr><td>2</td><td>A</td></tr><tr><td>3</td><td>B</td></tr><tr><td>3</td><td>C</td></tr><tr><td>4</td><td>B</td></tr></tbody></table></div>"
      ]
     },
     "metadata": {
      "application/vnd.databricks.v1+output": {
       "addedWidgets": {},
       "aggData": [],
       "aggError": "",
       "aggOverflow": false,
       "aggSchema": [],
       "aggSeriesLimitReached": false,
       "aggType": "",
       "arguments": {},
       "columnCustomDisplayInfos": {},
       "data": [
        [
         1,
         "A"
        ],
        [
         1,
         "B"
        ],
        [
         1,
         "C"
        ],
        [
         2,
         "A"
        ],
        [
         3,
         "B"
        ],
        [
         3,
         "C"
        ],
        [
         4,
         "B"
        ]
       ],
       "datasetInfos": [],
       "dbfsResultPath": null,
       "isJsonSchema": true,
       "metadata": {},
       "overflow": false,
       "plotOptions": {
        "customPlotOptions": {},
        "displayType": "table",
        "pivotAggregation": null,
        "pivotColumns": null,
        "xColumns": null,
        "yColumns": null
       },
       "removedWidgets": [],
       "schema": [
        {
         "metadata": "{}",
         "name": "user_id",
         "type": "\"integer\""
        },
        {
         "metadata": "{}",
         "name": "page_id",
         "type": "\"string\""
        }
       ],
       "type": "table"
      }
     },
     "output_type": "display_data"
    }
   ],
   "source": [
    "from pyspark.sql import SparkSession\n",
    "\n",
    "# Create Spark session\n",
    "spark = SparkSession.builder.appName(\"Friends and Likes\").getOrCreate()\n",
    "\n",
    "# Friends data and schema\n",
    "friends_data = [(1, 2), (1, 3), (1, 4), (2, 1), (3, 1), (3, 4), (4, 1), (4, 3)]\n",
    "friend_schema = \"user_id int , friend_id int\"\n",
    "friends_df = spark.createDataFrame(data=friends_data, schema=friend_schema)\n",
    "\n",
    "# Likes data and schema\n",
    "likes_data = [(1, \"A\"), (1, \"B\"), (1, \"C\"), (2, \"A\"), (3, \"B\"), (3, \"C\"), (4, \"B\")]\n",
    "like_schema = \"user_id int , page_id string\"\n",
    "likes_df = spark.createDataFrame(data=likes_data, schema=like_schema)\n",
    "\n",
    "# Display the DataFrames (This works in Databricks or similar notebook environments)\n",
    "friends_df.display()\n",
    "likes_df.display()"
   ]
  },
  {
   "cell_type": "code",
   "execution_count": 0,
   "metadata": {
    "application/vnd.databricks.v1+cell": {
     "cellMetadata": {
      "byteLimit": 2048000,
      "rowLimit": 10000
     },
     "inputWidgets": {},
     "nuid": "15a6d899-88c1-4449-b7d6-bb40c540591c",
     "showTitle": false,
     "title": ""
    }
   },
   "outputs": [
    {
     "output_type": "display_data",
     "data": {
      "text/html": [
       "<style scoped>\n",
       "  .table-result-container {\n",
       "    max-height: 300px;\n",
       "    overflow: auto;\n",
       "  }\n",
       "  table, th, td {\n",
       "    border: 1px solid black;\n",
       "    border-collapse: collapse;\n",
       "  }\n",
       "  th, td {\n",
       "    padding: 5px;\n",
       "  }\n",
       "  th {\n",
       "    text-align: left;\n",
       "  }\n",
       "</style><div class='table-result-container'><table class='table-result'><thead style='background-color: white'><tr><th>user_id</th><th>page_id</th></tr></thead><tbody><tr><td>2</td><td>C</td></tr><tr><td>3</td><td>A</td></tr><tr><td>2</td><td>B</td></tr><tr><td>4</td><td>A</td></tr><tr><td>4</td><td>C</td></tr></tbody></table></div>"
      ]
     },
     "metadata": {
      "application/vnd.databricks.v1+output": {
       "addedWidgets": {},
       "aggData": [],
       "aggError": "",
       "aggOverflow": false,
       "aggSchema": [],
       "aggSeriesLimitReached": false,
       "aggType": "",
       "arguments": {},
       "columnCustomDisplayInfos": {},
       "data": [
        [
         2,
         "C"
        ],
        [
         3,
         "A"
        ],
        [
         2,
         "B"
        ],
        [
         4,
         "A"
        ],
        [
         4,
         "C"
        ]
       ],
       "datasetInfos": [],
       "dbfsResultPath": null,
       "isJsonSchema": true,
       "metadata": {},
       "overflow": false,
       "plotOptions": {
        "customPlotOptions": {},
        "displayType": "table",
        "pivotAggregation": null,
        "pivotColumns": null,
        "xColumns": null,
        "yColumns": null
       },
       "removedWidgets": [],
       "schema": [
        {
         "metadata": "{}",
         "name": "user_id",
         "type": "\"integer\""
        },
        {
         "metadata": "{}",
         "name": "page_id",
         "type": "\"string\""
        }
       ],
       "type": "table"
      }
     },
     "output_type": "display_data"
    }
   ],
   "source": [
    "from pyspark.sql.functions import col\n",
    "\n",
    "# Step 1: Join friends_df with likes_df to find the pages liked by friends\n",
    "friend_likes_df = friends_df.join(\n",
    "    likes_df, friends_df.friend_id == likes_df.user_id, \"inner\"\n",
    ").select(friends_df.user_id, likes_df.page_id)\n",
    "\n",
    "# Step 2: Remove the pages that the user has already liked\n",
    "user_likes_df = likes_df.select(\"user_id\", \"page_id\")\n",
    "\n",
    "# Perform the anti-join to exclude pages already liked by the user\n",
    "recommendations_df = friend_likes_df.join(\n",
    "    user_likes_df,\n",
    "    (friend_likes_df.user_id == user_likes_df.user_id)\n",
    "    & (friend_likes_df.page_id == user_likes_df.page_id),\n",
    "    \"left_anti\",\n",
    ")\n",
    "\n",
    "# Show the final recommended pages for each user\n",
    "recommendations_df.distinct().display()"
   ]
  },
  {
   "cell_type": "code",
   "execution_count": 0,
   "metadata": {
    "application/vnd.databricks.v1+cell": {
     "cellMetadata": {
      "byteLimit": 2048000,
      "rowLimit": 10000
     },
     "inputWidgets": {},
     "nuid": "f5f79619-78d4-4c71-a135-50cfb0c0a136",
     "showTitle": false,
     "title": ""
    }
   },
   "outputs": [],
   "source": [
    "# Register DataFrames as SQL temporary views\n",
    "friends_df.createOrReplaceTempView(\"friends\")\n",
    "likes_df.createOrReplaceTempView(\"likes\")"
   ]
  },
  {
   "cell_type": "code",
   "execution_count": 0,
   "metadata": {
    "application/vnd.databricks.v1+cell": {
     "cellMetadata": {
      "byteLimit": 2048000,
      "rowLimit": 10000
     },
     "inputWidgets": {},
     "nuid": "8de46f15-c7b3-4ec1-80df-41558674c299",
     "showTitle": false,
     "title": ""
    }
   },
   "outputs": [
    {
     "output_type": "display_data",
     "data": {
      "text/html": [
       "<style scoped>\n",
       "  .table-result-container {\n",
       "    max-height: 300px;\n",
       "    overflow: auto;\n",
       "  }\n",
       "  table, th, td {\n",
       "    border: 1px solid black;\n",
       "    border-collapse: collapse;\n",
       "  }\n",
       "  th, td {\n",
       "    padding: 5px;\n",
       "  }\n",
       "  th {\n",
       "    text-align: left;\n",
       "  }\n",
       "</style><div class='table-result-container'><table class='table-result'><thead style='background-color: white'><tr><th>user_id</th><th>page_id</th></tr></thead><tbody><tr><td>2</td><td>C</td></tr><tr><td>3</td><td>A</td></tr><tr><td>2</td><td>B</td></tr><tr><td>4</td><td>A</td></tr><tr><td>4</td><td>C</td></tr></tbody></table></div>"
      ]
     },
     "metadata": {
      "application/vnd.databricks.v1+output": {
       "addedWidgets": {},
       "aggData": [],
       "aggError": "",
       "aggOverflow": false,
       "aggSchema": [],
       "aggSeriesLimitReached": false,
       "aggType": "",
       "arguments": {},
       "columnCustomDisplayInfos": {},
       "data": [
        [
         2,
         "C"
        ],
        [
         3,
         "A"
        ],
        [
         2,
         "B"
        ],
        [
         4,
         "A"
        ],
        [
         4,
         "C"
        ]
       ],
       "datasetInfos": [],
       "dbfsResultPath": null,
       "isJsonSchema": true,
       "metadata": {},
       "overflow": false,
       "plotOptions": {
        "customPlotOptions": {},
        "displayType": "table",
        "pivotAggregation": null,
        "pivotColumns": null,
        "xColumns": null,
        "yColumns": null
       },
       "removedWidgets": [],
       "schema": [
        {
         "metadata": "{}",
         "name": "user_id",
         "type": "\"integer\""
        },
        {
         "metadata": "{}",
         "name": "page_id",
         "type": "\"string\""
        }
       ],
       "type": "table"
      }
     },
     "output_type": "display_data"
    }
   ],
   "source": [
    "# Spark SQL query with DISTINCT to ensure unique records\n",
    "result_df = spark.sql(\n",
    "    \"\"\"\n",
    "    SELECT DISTINCT f.user_id, l.page_id\n",
    "    FROM friends f\n",
    "    JOIN likes l\n",
    "    ON f.friend_id = l.user_id\n",
    "    WHERE (f.user_id, l.page_id) NOT IN (\n",
    "        SELECT user_id, page_id\n",
    "        FROM likes\n",
    "    )\n",
    "\"\"\"\n",
    ")\n",
    "\n",
    "# Show the unique result\n",
    "result_df.display()"
   ]
  },
  {
   "cell_type": "markdown",
   "metadata": {
    "application/vnd.databricks.v1+cell": {
     "cellMetadata": {},
     "inputWidgets": {},
     "nuid": "519b8185-c0ec-4f61-9ca9-279a61ded3bb",
     "showTitle": false,
     "title": ""
    }
   },
   "source": [
    "Explanation:\n",
    "Join Friends with Likes: We perform an inner join between friends_df and likes_df to find the pages that friends of each user have liked. This gives us a DataFrame with columns user_id (the user) and page_id (the page liked by the user's friends).\n",
    "\n",
    "Exclude User's Own Likes: We then perform a left_anti join between this DataFrame and the likes_df, which effectively removes any pages that the user has already liked."
   ]
  }
 ],
 "metadata": {
  "application/vnd.databricks.v1+notebook": {
   "dashboards": [],
   "environmentMetadata": null,
   "language": "python",
   "notebookMetadata": {
    "pythonIndentUnit": 4
   },
   "notebookName": "American express scenario based interview questions and answers in pyspark",
   "widgets": {}
  }
 },
 "nbformat": 4,
 "nbformat_minor": 0
}
