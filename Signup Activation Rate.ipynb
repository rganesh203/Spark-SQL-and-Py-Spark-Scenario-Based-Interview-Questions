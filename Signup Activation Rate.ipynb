{
 "cells": [
  {
   "cell_type": "markdown",
   "metadata": {
    "application/vnd.databricks.v1+cell": {
     "cellMetadata": {},
     "inputWidgets": {},
     "nuid": "fc9bb508-be04-432f-8ed3-c079e0129c7a",
     "showTitle": false,
     "tableResultSettingsMap": {},
     "title": ""
    }
   },
   "source": [
    "Problem Statement:\n",
    "\n",
    "\n",
    "To find employees hired in the last n months using DATEDIFF in PySpark, you can achieve this by calculating the difference between the current date (or a specific reference date) and the HireDate in months, and then filtering based on that difference.\n",
    "\n",
    "Here's how you can do it in PySpark:\n",
    "\n",
    "Approach:\n",
    "Use months_between to calculate the difference in months between the HireDate and the current date (or a specified reference date).\n",
    "Filter the DataFrame based on whether the difference is less than or equal to n."
   ]
  },
  {
   "cell_type": "code",
   "execution_count": 0,
   "metadata": {
    "application/vnd.databricks.v1+cell": {
     "cellMetadata": {
      "byteLimit": 2048000,
      "rowLimit": 10000
     },
     "inputWidgets": {},
     "nuid": "c656f6a6-7b5e-416d-8076-633a7a01eca2",
     "showTitle": false,
     "tableResultSettingsMap": {},
     "title": ""
    }
   },
   "outputs": [
    {
     "output_type": "display_data",
     "data": {
      "text/html": [
       "<style scoped>\n",
       "  .table-result-container {\n",
       "    max-height: 300px;\n",
       "    overflow: auto;\n",
       "  }\n",
       "  table, th, td {\n",
       "    border: 1px solid black;\n",
       "    border-collapse: collapse;\n",
       "  }\n",
       "  th, td {\n",
       "    padding: 5px;\n",
       "  }\n",
       "  th {\n",
       "    text-align: left;\n",
       "  }\n",
       "</style><div class='table-result-container'><table class='table-result'><thead style='background-color: white'><tr><th>FirstName</th><th>LastName</th><th>HireDate</th></tr></thead><tbody><tr><td>Alice</td><td>Ciccu</td><td>2021-01-07</td></tr><tr><td>Paula</td><td>Barreto de Mattos</td><td>2021-01-06</td></tr><tr><td>Alejandro</td><td>McGuel</td><td>2020-12-06</td></tr><tr><td>Kendall</td><td>Keil</td><td>2020-11-05</td></tr><tr><td>Ivo</td><td>Salmre</td><td>2020-10-04</td></tr><tr><td>Paul</td><td>Komosinski</td><td>2020-08-04</td></tr><tr><td>Ashvini</td><td>Sharma</td><td>2020-07-04</td></tr><tr><td>Zheng</td><td>Mu</td><td>2020-04-03</td></tr><tr><td>Stuart</td><td>Munson</td><td>2019-11-02</td></tr><tr><td>Greg</td><td>Alderson</td><td>2019-10-02</td></tr><tr><td>David</td><td>Johnson</td><td>2019-01-02</td></tr></tbody></table></div>"
      ]
     },
     "metadata": {
      "application/vnd.databricks.v1+output": {
       "addedWidgets": {},
       "aggData": [],
       "aggError": "",
       "aggOverflow": false,
       "aggSchema": [],
       "aggSeriesLimitReached": false,
       "aggType": "",
       "arguments": {},
       "columnCustomDisplayInfos": {},
       "data": [
        [
         "Alice",
         "Ciccu",
         "2021-01-07"
        ],
        [
         "Paula",
         "Barreto de Mattos",
         "2021-01-06"
        ],
        [
         "Alejandro",
         "McGuel",
         "2020-12-06"
        ],
        [
         "Kendall",
         "Keil",
         "2020-11-05"
        ],
        [
         "Ivo",
         "Salmre",
         "2020-10-04"
        ],
        [
         "Paul",
         "Komosinski",
         "2020-08-04"
        ],
        [
         "Ashvini",
         "Sharma",
         "2020-07-04"
        ],
        [
         "Zheng",
         "Mu",
         "2020-04-03"
        ],
        [
         "Stuart",
         "Munson",
         "2019-11-02"
        ],
        [
         "Greg",
         "Alderson",
         "2019-10-02"
        ],
        [
         "David",
         "Johnson",
         "2019-01-02"
        ]
       ],
       "datasetInfos": [],
       "dbfsResultPath": null,
       "isJsonSchema": true,
       "metadata": {},
       "overflow": false,
       "plotOptions": {
        "customPlotOptions": {},
        "displayType": "table",
        "pivotAggregation": null,
        "pivotColumns": null,
        "xColumns": null,
        "yColumns": null
       },
       "removedWidgets": [],
       "schema": [
        {
         "metadata": "{}",
         "name": "FirstName",
         "type": "\"string\""
        },
        {
         "metadata": "{}",
         "name": "LastName",
         "type": "\"string\""
        },
        {
         "metadata": "{}",
         "name": "HireDate",
         "type": "\"date\""
        }
       ],
       "type": "table"
      }
     },
     "output_type": "display_data"
    }
   ],
   "source": [
    "from pyspark.sql.types import StructType, StructField, StringType, DateType\n",
    "from pyspark.sql import functions as F\n",
    "\n",
    "# Define the schema for the Emp table\n",
    "emp_schema = StructType(\n",
    "    [\n",
    "        StructField(\"FirstName\", StringType(), nullable=False),\n",
    "        StructField(\"LastName\", StringType(), nullable=False),\n",
    "        StructField(\n",
    "            \"HireDate\", StringType(), nullable=True\n",
    "        ),  # Keep it as string initially\n",
    "    ]\n",
    ")\n",
    "\n",
    "# Define the data with date strings\n",
    "data = [\n",
    "    (\"Alice\", \"Ciccu\", \"2021-01-07\"),\n",
    "    (\"Paula\", \"Barreto de Mattos\", \"2021-01-06\"),\n",
    "    (\"Alejandro\", \"McGuel\", \"2020-12-06\"),\n",
    "    (\"Kendall\", \"Keil\", \"2020-11-05\"),\n",
    "    (\"Ivo\", \"Salmre\", \"2020-10-04\"),\n",
    "    (\"Paul\", \"Komosinski\", \"2020-08-04\"),\n",
    "    (\"Ashvini\", \"Sharma\", \"2020-07-04\"),\n",
    "    (\"Zheng\", \"Mu\", \"2020-04-03\"),\n",
    "    (\"Stuart\", \"Munson\", \"2019-11-02\"),\n",
    "    (\"Greg\", \"Alderson\", \"2019-10-02\"),\n",
    "    (\"David\", \"Johnson\", \"2019-01-02\"),\n",
    "]\n",
    "\n",
    "# Create the DataFrame\n",
    "emp_df = spark.createDataFrame(data, schema=emp_schema)\n",
    "\n",
    "# Convert the HireDate column from string to DateType using to_date function\n",
    "emp_df = emp_df.withColumn(\"HireDate\", F.to_date(emp_df[\"HireDate\"], \"yyyy-MM-dd\"))\n",
    "\n",
    "# Show the DataFrame to confirm the result\n",
    "emp_df.display()"
   ]
  },
  {
   "cell_type": "code",
   "execution_count": 0,
   "metadata": {
    "application/vnd.databricks.v1+cell": {
     "cellMetadata": {
      "byteLimit": 2048000,
      "rowLimit": 10000
     },
     "inputWidgets": {},
     "nuid": "f5972b01-4f1e-4661-adfb-1f1889e89181",
     "showTitle": false,
     "tableResultSettingsMap": {},
     "title": ""
    }
   },
   "outputs": [
    {
     "output_type": "stream",
     "name": "stdout",
     "output_type": "stream",
     "text": [
      "root\n |-- FirstName: string (nullable = false)\n |-- LastName: string (nullable = false)\n |-- HireDate: date (nullable = true)\n\n"
     ]
    }
   ],
   "source": [
    "emp_df.printSchema()"
   ]
  },
  {
   "cell_type": "code",
   "execution_count": 0,
   "metadata": {
    "application/vnd.databricks.v1+cell": {
     "cellMetadata": {
      "byteLimit": 2048000,
      "rowLimit": 10000
     },
     "inputWidgets": {},
     "nuid": "0cf1d0ec-393a-4895-a900-678cadcba27f",
     "showTitle": false,
     "tableResultSettingsMap": {},
     "title": ""
    }
   },
   "outputs": [],
   "source": [
    "emp_df.createOrReplaceTempView(\"emp\")"
   ]
  },
  {
   "cell_type": "code",
   "execution_count": 0,
   "metadata": {
    "application/vnd.databricks.v1+cell": {
     "cellMetadata": {
      "byteLimit": 2048000,
      "implicitDf": true,
      "rowLimit": 10000
     },
     "inputWidgets": {},
     "nuid": "44b41e2d-0e0d-4222-8bea-47e5846b5234",
     "showTitle": false,
     "tableResultSettingsMap": {},
     "title": ""
    }
   },
   "outputs": [
    {
     "output_type": "display_data",
     "data": {
      "text/html": [
       "<style scoped>\n",
       "  .table-result-container {\n",
       "    max-height: 300px;\n",
       "    overflow: auto;\n",
       "  }\n",
       "  table, th, td {\n",
       "    border: 1px solid black;\n",
       "    border-collapse: collapse;\n",
       "  }\n",
       "  th, td {\n",
       "    padding: 5px;\n",
       "  }\n",
       "  th {\n",
       "    text-align: left;\n",
       "  }\n",
       "</style><div class='table-result-container'><table class='table-result'><thead style='background-color: white'><tr><th>FirstName</th><th>LastName</th><th>HireDate</th><th>diff_month</th></tr></thead><tbody><tr><td>Alice</td><td>Ciccu</td><td>2021-01-07</td><td>0</td></tr><tr><td>Paula</td><td>Barreto de Mattos</td><td>2021-01-06</td><td>0</td></tr><tr><td>Alejandro</td><td>McGuel</td><td>2020-12-06</td><td>1</td></tr><tr><td>Kendall</td><td>Keil</td><td>2020-11-05</td><td>2</td></tr><tr><td>Ivo</td><td>Salmre</td><td>2020-10-04</td><td>3</td></tr></tbody></table></div>"
      ]
     },
     "metadata": {
      "application/vnd.databricks.v1+output": {
       "addedWidgets": {},
       "aggData": [],
       "aggError": "",
       "aggOverflow": false,
       "aggSchema": [],
       "aggSeriesLimitReached": false,
       "aggType": "",
       "arguments": {},
       "columnCustomDisplayInfos": {},
       "data": [
        [
         "Alice",
         "Ciccu",
         "2021-01-07",
         0
        ],
        [
         "Paula",
         "Barreto de Mattos",
         "2021-01-06",
         0
        ],
        [
         "Alejandro",
         "McGuel",
         "2020-12-06",
         1
        ],
        [
         "Kendall",
         "Keil",
         "2020-11-05",
         2
        ],
        [
         "Ivo",
         "Salmre",
         "2020-10-04",
         3
        ]
       ],
       "datasetInfos": [],
       "dbfsResultPath": null,
       "isJsonSchema": true,
       "metadata": {},
       "overflow": false,
       "plotOptions": {
        "customPlotOptions": {},
        "displayType": "table",
        "pivotAggregation": null,
        "pivotColumns": null,
        "xColumns": null,
        "yColumns": null
       },
       "removedWidgets": [],
       "schema": [
        {
         "metadata": "{}",
         "name": "FirstName",
         "type": "\"string\""
        },
        {
         "metadata": "{}",
         "name": "LastName",
         "type": "\"string\""
        },
        {
         "metadata": "{}",
         "name": "HireDate",
         "type": "\"date\""
        },
        {
         "metadata": "{}",
         "name": "diff_month",
         "type": "\"long\""
        }
       ],
       "type": "table"
      }
     },
     "output_type": "display_data"
    }
   ],
   "source": [
    "%sql\n",
    "SELECT\n",
    "  *,\n",
    "  DATEDIFF(MONTH, HireDate, '2021-02-01') as diff_month\n",
    "FROM\n",
    "  emp\n",
    "WHERE\n",
    "  DATEDIFF(MONTH, HireDate, '2021-02-01') <= 3;"
   ]
  },
  {
   "cell_type": "code",
   "execution_count": 0,
   "metadata": {
    "application/vnd.databricks.v1+cell": {
     "cellMetadata": {
      "byteLimit": 2048000,
      "rowLimit": 10000
     },
     "inputWidgets": {},
     "nuid": "e81ff26e-8fbe-4885-bf26-7cc9213c5a45",
     "showTitle": false,
     "tableResultSettingsMap": {},
     "title": ""
    }
   },
   "outputs": [
    {
     "output_type": "display_data",
     "data": {
      "text/html": [
       "<style scoped>\n",
       "  .table-result-container {\n",
       "    max-height: 300px;\n",
       "    overflow: auto;\n",
       "  }\n",
       "  table, th, td {\n",
       "    border: 1px solid black;\n",
       "    border-collapse: collapse;\n",
       "  }\n",
       "  th, td {\n",
       "    padding: 5px;\n",
       "  }\n",
       "  th {\n",
       "    text-align: left;\n",
       "  }\n",
       "</style><div class='table-result-container'><table class='table-result'><thead style='background-color: white'><tr><th>FirstName</th><th>LastName</th><th>HireDate</th><th>months_diff</th></tr></thead><tbody><tr><td>Alice</td><td>Ciccu</td><td>2021-01-07</td><td>0</td></tr><tr><td>Paula</td><td>Barreto de Mattos</td><td>2021-01-06</td><td>0</td></tr><tr><td>Alejandro</td><td>McGuel</td><td>2020-12-06</td><td>1</td></tr><tr><td>Kendall</td><td>Keil</td><td>2020-11-05</td><td>2</td></tr><tr><td>Ivo</td><td>Salmre</td><td>2020-10-04</td><td>3</td></tr></tbody></table></div>"
      ]
     },
     "metadata": {
      "application/vnd.databricks.v1+output": {
       "addedWidgets": {},
       "aggData": [],
       "aggError": "",
       "aggOverflow": false,
       "aggSchema": [],
       "aggSeriesLimitReached": false,
       "aggType": "",
       "arguments": {},
       "columnCustomDisplayInfos": {},
       "data": [
        [
         "Alice",
         "Ciccu",
         "2021-01-07",
         0
        ],
        [
         "Paula",
         "Barreto de Mattos",
         "2021-01-06",
         0
        ],
        [
         "Alejandro",
         "McGuel",
         "2020-12-06",
         1
        ],
        [
         "Kendall",
         "Keil",
         "2020-11-05",
         2
        ],
        [
         "Ivo",
         "Salmre",
         "2020-10-04",
         3
        ]
       ],
       "datasetInfos": [],
       "dbfsResultPath": null,
       "isJsonSchema": true,
       "metadata": {},
       "overflow": false,
       "plotOptions": {
        "customPlotOptions": {},
        "displayType": "table",
        "pivotAggregation": null,
        "pivotColumns": null,
        "xColumns": null,
        "yColumns": null
       },
       "removedWidgets": [],
       "schema": [
        {
         "metadata": "{}",
         "name": "FirstName",
         "type": "\"string\""
        },
        {
         "metadata": "{}",
         "name": "LastName",
         "type": "\"string\""
        },
        {
         "metadata": "{}",
         "name": "HireDate",
         "type": "\"date\""
        },
        {
         "metadata": "{}",
         "name": "months_diff",
         "type": "\"integer\""
        }
       ],
       "type": "table"
      }
     },
     "output_type": "display_data"
    }
   ],
   "source": [
    "from pyspark.sql import functions as F\n",
    "from pyspark.sql.types import IntegerType\n",
    "\n",
    "df_filtered = emp_df.withColumn(\n",
    "    \"months_diff\",\n",
    "    (F.months_between(F.lit(\"2021-02-01\"), F.col(\"HireDate\"))).cast(IntegerType()),\n",
    ").filter(F.col(\"months_diff\") <= 3)\n",
    "\n",
    "df_filtered.display()"
   ]
  },
  {
   "cell_type": "markdown",
   "metadata": {
    "application/vnd.databricks.v1+cell": {
     "cellMetadata": {},
     "inputWidgets": {},
     "nuid": "87ee5bd9-4fe1-4c4c-bded-a4175ba3685b",
     "showTitle": false,
     "tableResultSettingsMap": {},
     "title": ""
    }
   },
   "source": [
    "Explanation:\n",
    "\n",
    "F.months_between(F.current_date(), F.col(\"HireDate\")): This calculates the difference in months between the current date and the HireDate.\n",
    "\n",
    ".cast(IntegerType()): Ensures the result is an integer, truncating fractional months.\n",
    ".filter(F.col(\"months_diff\") <= n): Filters the rows where the calculated months difference is less than or equal to n.\n",
    "\n",
    "This will return employees who were hired in the last n months. You can replace n with any number of months you need."
   ]
  }
 ],
 "metadata": {
  "application/vnd.databricks.v1+notebook": {
   "computePreferences": null,
   "dashboards": [],
   "environmentMetadata": {
    "base_environment": "",
    "client": "1"
   },
   "language": "python",
   "notebookMetadata": {
    "mostRecentlyExecutedCommandWithImplicitDF": {
     "commandId": 967643732633620,
     "dataframes": [
      "_sqldf"
     ]
    },
    "pythonIndentUnit": 4
   },
   "notebookName": "Signup Activation Rate",
   "widgets": {}
  }
 },
 "nbformat": 4,
 "nbformat_minor": 0
}
