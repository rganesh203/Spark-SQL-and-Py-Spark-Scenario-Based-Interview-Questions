{
 "cells": [
  {
   "cell_type": "markdown",
   "metadata": {
    "application/vnd.databricks.v1+cell": {
     "cellMetadata": {},
     "inputWidgets": {},
     "nuid": "b0b7a762-d363-42d6-8169-0c892f94fb7c",
     "showTitle": false,
     "title": ""
    }
   },
   "source": [
    "Problem Statement:\n",
    "\n",
    "Here we have a DataFrame containing employee details, including employee IDs (empid), departments (dept), salaries (salary), and dates (date). Your goal is to identify and retrieve the details of employees who appear exactly once in the DataFrame, i.e., employees whose empid is unique in the dataset."
   ]
  },
  {
   "cell_type": "code",
   "execution_count": 0,
   "metadata": {
    "application/vnd.databricks.v1+cell": {
     "cellMetadata": {
      "byteLimit": 2048000,
      "rowLimit": 10000
     },
     "inputWidgets": {},
     "nuid": "77b5bbcb-63f1-48a6-9293-d38c5e1b3655",
     "showTitle": false,
     "title": ""
    }
   },
   "outputs": [
    {
     "output_type": "display_data",
     "data": {
      "text/html": [
       "<style scoped>\n",
       "  .table-result-container {\n",
       "    max-height: 300px;\n",
       "    overflow: auto;\n",
       "  }\n",
       "  table, th, td {\n",
       "    border: 1px solid black;\n",
       "    border-collapse: collapse;\n",
       "  }\n",
       "  th, td {\n",
       "    padding: 5px;\n",
       "  }\n",
       "  th {\n",
       "    text-align: left;\n",
       "  }\n",
       "</style><div class='table-result-container'><table class='table-result'><thead style='background-color: white'><tr><th>empid</th><th>dept</th><th>salary</th><th>date</th></tr></thead><tbody><tr><td>100</td><td>IT</td><td>100</td><td>2024-05-12</td></tr><tr><td>200</td><td>IT</td><td>100</td><td>2024-06-12</td></tr><tr><td>100</td><td>FIN</td><td>400</td><td>2024-07-12</td></tr><tr><td>300</td><td>FIN</td><td>500</td><td>2024-07-12</td></tr><tr><td>300</td><td>FIN</td><td>1543</td><td>2024-07-12</td></tr><tr><td>300</td><td>FIN</td><td>1500</td><td>2024-07-12</td></tr></tbody></table></div>"
      ]
     },
     "metadata": {
      "application/vnd.databricks.v1+output": {
       "addedWidgets": {},
       "aggData": [],
       "aggError": "",
       "aggOverflow": false,
       "aggSchema": [],
       "aggSeriesLimitReached": false,
       "aggType": "",
       "arguments": {},
       "columnCustomDisplayInfos": {},
       "data": [
        [
         100,
         "IT",
         100,
         "2024-05-12"
        ],
        [
         200,
         "IT",
         100,
         "2024-06-12"
        ],
        [
         100,
         "FIN",
         400,
         "2024-07-12"
        ],
        [
         300,
         "FIN",
         500,
         "2024-07-12"
        ],
        [
         300,
         "FIN",
         1543,
         "2024-07-12"
        ],
        [
         300,
         "FIN",
         1500,
         "2024-07-12"
        ]
       ],
       "datasetInfos": [],
       "dbfsResultPath": null,
       "isJsonSchema": true,
       "metadata": {},
       "overflow": false,
       "plotOptions": {
        "customPlotOptions": {},
        "displayType": "table",
        "pivotAggregation": null,
        "pivotColumns": null,
        "xColumns": null,
        "yColumns": null
       },
       "removedWidgets": [],
       "schema": [
        {
         "metadata": "{}",
         "name": "empid",
         "type": "\"integer\""
        },
        {
         "metadata": "{}",
         "name": "dept",
         "type": "\"string\""
        },
        {
         "metadata": "{}",
         "name": "salary",
         "type": "\"integer\""
        },
        {
         "metadata": "{}",
         "name": "date",
         "type": "\"string\""
        }
       ],
       "type": "table"
      }
     },
     "output_type": "display_data"
    }
   ],
   "source": [
    "from pyspark.sql import SparkSession\n",
    "from pyspark.sql.types import StructType, StructField, IntegerType, StringType, DateType\n",
    "\n",
    "# Initialize Spark session\n",
    "spark = SparkSession.builder.appName(\"Create DataFrame Example\").getOrCreate()\n",
    "\n",
    "# Define schema for the DataFrame\n",
    "schema = StructType(\n",
    "    [\n",
    "        StructField(\"empid\", IntegerType(), True),\n",
    "        StructField(\"dept\", StringType(), True),\n",
    "        StructField(\"salary\", IntegerType(), True),\n",
    "        StructField(\"date\", StringType(), True),  # Assuming date as StringType for now\n",
    "    ]\n",
    ")\n",
    "\n",
    "# Input data\n",
    "data = [\n",
    "    (100, \"IT\", 100, \"2024-05-12\"),\n",
    "    (200, \"IT\", 100, \"2024-06-12\"),\n",
    "    (100, \"FIN\", 400, \"2024-07-12\"),\n",
    "    (300, \"FIN\", 500, \"2024-07-12\"),\n",
    "    (300, \"FIN\", 1543, \"2024-07-12\"),\n",
    "    (300, \"FIN\", 1500, \"2024-07-12\"),\n",
    "]\n",
    "\n",
    "# Create DataFrame\n",
    "df = spark.createDataFrame(data, schema=schema)\n",
    "\n",
    "# Show DataFrame\n",
    "df.display()"
   ]
  },
  {
   "cell_type": "code",
   "execution_count": 0,
   "metadata": {
    "application/vnd.databricks.v1+cell": {
     "cellMetadata": {
      "byteLimit": 2048000,
      "rowLimit": 10000
     },
     "inputWidgets": {},
     "nuid": "a3070bab-fc85-4ead-8daa-0a473bfbd3e3",
     "showTitle": false,
     "title": ""
    }
   },
   "outputs": [],
   "source": [
    "df.createOrReplaceTempView(\"test\")"
   ]
  },
  {
   "cell_type": "code",
   "execution_count": 0,
   "metadata": {
    "application/vnd.databricks.v1+cell": {
     "cellMetadata": {
      "byteLimit": 2048000,
      "implicitDf": true,
      "rowLimit": 10000
     },
     "inputWidgets": {},
     "nuid": "50930bf5-76d2-4116-a6f3-1628f5effcec",
     "showTitle": false,
     "title": ""
    }
   },
   "outputs": [
    {
     "output_type": "display_data",
     "data": {
      "text/html": [
       "<style scoped>\n",
       "  .table-result-container {\n",
       "    max-height: 300px;\n",
       "    overflow: auto;\n",
       "  }\n",
       "  table, th, td {\n",
       "    border: 1px solid black;\n",
       "    border-collapse: collapse;\n",
       "  }\n",
       "  th, td {\n",
       "    padding: 5px;\n",
       "  }\n",
       "  th {\n",
       "    text-align: left;\n",
       "  }\n",
       "</style><div class='table-result-container'><table class='table-result'><thead style='background-color: white'><tr><th>empid</th><th>dept</th><th>salary</th><th>date</th></tr></thead><tbody><tr><td>200</td><td>IT</td><td>100</td><td>2024-06-12</td></tr></tbody></table></div>"
      ]
     },
     "metadata": {
      "application/vnd.databricks.v1+output": {
       "addedWidgets": {},
       "aggData": [],
       "aggError": "",
       "aggOverflow": false,
       "aggSchema": [],
       "aggSeriesLimitReached": false,
       "aggType": "",
       "arguments": {},
       "columnCustomDisplayInfos": {},
       "data": [
        [
         200,
         "IT",
         100,
         "2024-06-12"
        ]
       ],
       "datasetInfos": [],
       "dbfsResultPath": null,
       "isJsonSchema": true,
       "metadata": {},
       "overflow": false,
       "plotOptions": {
        "customPlotOptions": {},
        "displayType": "table",
        "pivotAggregation": null,
        "pivotColumns": null,
        "xColumns": null,
        "yColumns": null
       },
       "removedWidgets": [],
       "schema": [
        {
         "metadata": "{}",
         "name": "empid",
         "type": "\"integer\""
        },
        {
         "metadata": "{}",
         "name": "dept",
         "type": "\"string\""
        },
        {
         "metadata": "{}",
         "name": "salary",
         "type": "\"integer\""
        },
        {
         "metadata": "{}",
         "name": "date",
         "type": "\"string\""
        }
       ],
       "type": "table"
      }
     },
     "output_type": "display_data"
    }
   ],
   "source": [
    "%sql\n",
    "with cte as (\n",
    "  select\n",
    "    *,\n",
    "    row_number() over(\n",
    "      partition by empid\n",
    "      order by\n",
    "        empid\n",
    "    ) ranks\n",
    "  from\n",
    "    test\n",
    "),\n",
    "cte1 as(\n",
    "  select\n",
    "    empid,\n",
    "    count(ranks) as varun\n",
    "  from\n",
    "    cte\n",
    "  group by\n",
    "    empid\n",
    "  having\n",
    "    count(ranks) = 1\n",
    ")\n",
    "select\n",
    "  *\n",
    "from\n",
    "  test\n",
    "where\n",
    "  empid in (\n",
    "    select\n",
    "      empid\n",
    "    from\n",
    "      cte1\n",
    "  )"
   ]
  },
  {
   "cell_type": "code",
   "execution_count": 0,
   "metadata": {
    "application/vnd.databricks.v1+cell": {
     "cellMetadata": {
      "byteLimit": 2048000,
      "rowLimit": 10000
     },
     "inputWidgets": {},
     "nuid": "b2d5d569-ad64-43a3-bf1e-4a0bebf1814c",
     "showTitle": false,
     "title": ""
    }
   },
   "outputs": [
    {
     "output_type": "display_data",
     "data": {
      "text/html": [
       "<style scoped>\n",
       "  .table-result-container {\n",
       "    max-height: 300px;\n",
       "    overflow: auto;\n",
       "  }\n",
       "  table, th, td {\n",
       "    border: 1px solid black;\n",
       "    border-collapse: collapse;\n",
       "  }\n",
       "  th, td {\n",
       "    padding: 5px;\n",
       "  }\n",
       "  th {\n",
       "    text-align: left;\n",
       "  }\n",
       "</style><div class='table-result-container'><table class='table-result'><thead style='background-color: white'><tr><th>empid</th><th>dept</th><th>salary</th><th>date</th></tr></thead><tbody><tr><td>200</td><td>IT</td><td>100</td><td>2024-06-12</td></tr></tbody></table></div>"
      ]
     },
     "metadata": {
      "application/vnd.databricks.v1+output": {
       "addedWidgets": {},
       "aggData": [],
       "aggError": "",
       "aggOverflow": false,
       "aggSchema": [],
       "aggSeriesLimitReached": false,
       "aggType": "",
       "arguments": {},
       "columnCustomDisplayInfos": {},
       "data": [
        [
         200,
         "IT",
         100,
         "2024-06-12"
        ]
       ],
       "datasetInfos": [],
       "dbfsResultPath": null,
       "isJsonSchema": true,
       "metadata": {},
       "overflow": false,
       "plotOptions": {
        "customPlotOptions": {},
        "displayType": "table",
        "pivotAggregation": null,
        "pivotColumns": null,
        "xColumns": null,
        "yColumns": null
       },
       "removedWidgets": [],
       "schema": [
        {
         "metadata": "{}",
         "name": "empid",
         "type": "\"integer\""
        },
        {
         "metadata": "{}",
         "name": "dept",
         "type": "\"string\""
        },
        {
         "metadata": "{}",
         "name": "salary",
         "type": "\"integer\""
        },
        {
         "metadata": "{}",
         "name": "date",
         "type": "\"string\""
        }
       ],
       "type": "table"
      }
     },
     "output_type": "display_data"
    }
   ],
   "source": [
    "from pyspark.sql.functions import col, count\n",
    "\n",
    "# Step 1: Group by 'empid' and count occurrences\n",
    "emp_count_df = df.groupBy(\"empid\").agg(count(\"empid\").alias(\"count\"))\n",
    "\n",
    "# Step 2: Filter for empid with count of 1\n",
    "single_occurrence_df = emp_count_df.filter(col(\"count\") == 1).select(\"empid\")\n",
    "\n",
    "# Step 3: Join with original DataFrame to get full details\n",
    "non_repeated_emp_details_df = df.join(single_occurrence_df, on=\"empid\", how=\"inner\")\n",
    "\n",
    "# Show the result\n",
    "non_repeated_emp_details_df.display()"
   ]
  },
  {
   "cell_type": "code",
   "execution_count": 0,
   "metadata": {
    "application/vnd.databricks.v1+cell": {
     "cellMetadata": {},
     "inputWidgets": {},
     "nuid": "29d2d3a3-2a5b-4bf8-958d-738929ec5585",
     "showTitle": false,
     "title": ""
    }
   },
   "outputs": [],
   "source": [
    "Explanation:\n",
    "    \n",
    "To solve this problem, follow these steps:\n",
    "\n",
    "Group by empid:\n",
    "\n",
    "Objective: Determine how many times each empid appears in the dataset.\n",
    "Approach: Use the groupBy method on the empid column and aggregate using count. This will give you a new DataFrame where each row represents an empid and the number of occurrences of that empid.\n",
    "Filter for empid with Count of 1:\n",
    "\n",
    "Objective: Identify empid values that appear exactly once.\n",
    "Approach: Use the filter method to select rows from the grouped DataFrame where the count is 1. This will give you a DataFrame containing only those empid values which are unique in the dataset.\n",
    "Join with Original DataFrame:\n",
    "\n",
    "Objective: Retrieve the full details of the employees identified in the previous step.\n",
    "Approach: Perform an inner join between the original DataFrame and the filtered DataFrame (containing unique empid values). This join will return only the rows from the original DataFrame where the empid is in the filtered list of unique empid values."
   ]
  }
 ],
 "metadata": {
  "application/vnd.databricks.v1+notebook": {
   "dashboards": [],
   "environmentMetadata": null,
   "language": "python",
   "notebookMetadata": {
    "mostRecentlyExecutedCommandWithImplicitDF": {
     "commandId": 3857527225891989,
     "dataframes": [
      "_sqldf"
     ]
    },
    "pythonIndentUnit": 4
   },
   "notebookName": "Brillio Pyspark Interview Question - Find non repeated employee details",
   "widgets": {}
  }
 },
 "nbformat": 4,
 "nbformat_minor": 0
}
