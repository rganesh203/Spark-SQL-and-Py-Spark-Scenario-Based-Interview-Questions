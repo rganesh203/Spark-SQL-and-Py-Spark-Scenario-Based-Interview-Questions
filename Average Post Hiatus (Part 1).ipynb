{
 "cells": [
  {
   "cell_type": "markdown",
   "metadata": {
    "application/vnd.databricks.v1+cell": {
     "cellMetadata": {},
     "inputWidgets": {},
     "nuid": "91ce3369-4748-4632-9071-bafb243c5648",
     "showTitle": false,
     "title": ""
    }
   },
   "source": [
    "Problem Statement:\n",
    "\n",
    "Given a table of Facebook posts, for each user who posted at least twice in 2021, write a query to find the number of days between each user’s first post of the year and last post of the year in the year 2021. Output the user and number of the days between each user's first and last post."
   ]
  },
  {
   "cell_type": "code",
   "execution_count": 0,
   "metadata": {
    "application/vnd.databricks.v1+cell": {
     "cellMetadata": {
      "byteLimit": 2048000,
      "rowLimit": 10000
     },
     "inputWidgets": {},
     "nuid": "711b8f5e-90a1-4660-a1d1-e6c574f0a3a5",
     "showTitle": false,
     "title": ""
    }
   },
   "outputs": [
    {
     "output_type": "display_data",
     "data": {
      "text/html": [
       "<style scoped>\n",
       "  .table-result-container {\n",
       "    max-height: 300px;\n",
       "    overflow: auto;\n",
       "  }\n",
       "  table, th, td {\n",
       "    border: 1px solid black;\n",
       "    border-collapse: collapse;\n",
       "  }\n",
       "  th, td {\n",
       "    padding: 5px;\n",
       "  }\n",
       "  th {\n",
       "    text-align: left;\n",
       "  }\n",
       "</style><div class='table-result-container'><table class='table-result'><thead style='background-color: white'><tr><th>user_id</th><th>post_id</th><th>post_content</th><th>post_date</th></tr></thead><tbody><tr><td>151652</td><td>111766</td><td>it's always winter, but never Christmas.</td><td>2021-12-01T11:00:00.000+0000</td></tr><tr><td>661093</td><td>442560</td><td>Bed. Class 8-12. Work 12-3. Gym 3-5 or 6. Then class 6-10. Another day that's gonna fly by. I miss my girlfriend</td><td>2021-09-08T10:00:00.000+0000</td></tr><tr><td>661093</td><td>624356</td><td>Happy valentines!</td><td>2021-02-14T00:00:00.000+0000</td></tr><tr><td>151652</td><td>599415</td><td>Need a hug</td><td>2021-01-28T00:00:00.000+0000</td></tr><tr><td>178425</td><td>157336</td><td>I'm so done with these restrictions - I want to travel!!!</td><td>2021-03-24T11:00:00.000+0000</td></tr><tr><td>423967</td><td>784254</td><td>Just going to cry myself to sleep after watching Marley and Me.</td><td>2021-05-05T00:00:00.000+0000</td></tr><tr><td>151325</td><td>613451</td><td>Happy new year all my friends!</td><td>2022-01-01T11:00:00.000+0000</td></tr><tr><td>151325</td><td>987562</td><td>The global surface temperature for June 2022 was the sixth-highest in the 143-year record. This is definitely global warming happening.</td><td>2022-07-01T10:00:00.000+0000</td></tr><tr><td>661093</td><td>674356</td><td>Can't wait to start my freshman year - super excited!</td><td>2021-08-18T10:00:00.000+0000</td></tr><tr><td>151325</td><td>451464</td><td>Garage sale this Saturday 1 PM. All welcome to check out!</td><td>2021-10-25T10:00:00.000+0000</td></tr><tr><td>151652</td><td>994156</td><td>Does anyone have an extra iPhone charger to sell?</td><td>2021-04-01T10:00:00.000+0000</td></tr></tbody></table></div>"
      ]
     },
     "metadata": {
      "application/vnd.databricks.v1+output": {
       "addedWidgets": {},
       "aggData": [],
       "aggError": "",
       "aggOverflow": false,
       "aggSchema": [],
       "aggSeriesLimitReached": false,
       "aggType": "",
       "arguments": {},
       "columnCustomDisplayInfos": {},
       "data": [
        [
         151652,
         111766,
         "it's always winter, but never Christmas.",
         "2021-12-01T11:00:00.000+0000"
        ],
        [
         661093,
         442560,
         "Bed. Class 8-12. Work 12-3. Gym 3-5 or 6. Then class 6-10. Another day that's gonna fly by. I miss my girlfriend",
         "2021-09-08T10:00:00.000+0000"
        ],
        [
         661093,
         624356,
         "Happy valentines!",
         "2021-02-14T00:00:00.000+0000"
        ],
        [
         151652,
         599415,
         "Need a hug",
         "2021-01-28T00:00:00.000+0000"
        ],
        [
         178425,
         157336,
         "I'm so done with these restrictions - I want to travel!!!",
         "2021-03-24T11:00:00.000+0000"
        ],
        [
         423967,
         784254,
         "Just going to cry myself to sleep after watching Marley and Me.",
         "2021-05-05T00:00:00.000+0000"
        ],
        [
         151325,
         613451,
         "Happy new year all my friends!",
         "2022-01-01T11:00:00.000+0000"
        ],
        [
         151325,
         987562,
         "The global surface temperature for June 2022 was the sixth-highest in the 143-year record. This is definitely global warming happening.",
         "2022-07-01T10:00:00.000+0000"
        ],
        [
         661093,
         674356,
         "Can't wait to start my freshman year - super excited!",
         "2021-08-18T10:00:00.000+0000"
        ],
        [
         151325,
         451464,
         "Garage sale this Saturday 1 PM. All welcome to check out!",
         "2021-10-25T10:00:00.000+0000"
        ],
        [
         151652,
         994156,
         "Does anyone have an extra iPhone charger to sell?",
         "2021-04-01T10:00:00.000+0000"
        ]
       ],
       "datasetInfos": [],
       "dbfsResultPath": null,
       "isJsonSchema": true,
       "metadata": {},
       "overflow": false,
       "plotOptions": {
        "customPlotOptions": {},
        "displayType": "table",
        "pivotAggregation": null,
        "pivotColumns": null,
        "xColumns": null,
        "yColumns": null
       },
       "removedWidgets": [],
       "schema": [
        {
         "metadata": "{}",
         "name": "user_id",
         "type": "\"integer\""
        },
        {
         "metadata": "{}",
         "name": "post_id",
         "type": "\"integer\""
        },
        {
         "metadata": "{}",
         "name": "post_content",
         "type": "\"string\""
        },
        {
         "metadata": "{}",
         "name": "post_date",
         "type": "\"timestamp\""
        }
       ],
       "type": "table"
      }
     },
     "output_type": "display_data"
    }
   ],
   "source": [
    "from pyspark.sql.types import StructType, StructField, IntegerType, StringType\n",
    "from pyspark.sql.functions import *\n",
    "\n",
    "# Define schema for the DataFrame, use StringType for the date initially\n",
    "schema = StructType(\n",
    "    [\n",
    "        StructField(\"user_id\", IntegerType(), True),\n",
    "        StructField(\"post_id\", IntegerType(), True),\n",
    "        StructField(\"post_content\", StringType(), True),\n",
    "        StructField(\"post_date\", StringType(), True),  # Keep as StringType initially\n",
    "    ]\n",
    ")\n",
    "\n",
    "# Sample data\n",
    "data = [\n",
    "    (151652, 111766, \"it's always winter, but never Christmas.\", \"12/01/2021 11:00:00\"),\n",
    "    (\n",
    "        661093,\n",
    "        442560,\n",
    "        \"Bed. Class 8-12. Work 12-3. Gym 3-5 or 6. Then class 6-10. Another day that's gonna fly by. I miss my girlfriend\",\n",
    "        \"09/08/2021 10:00:00\",\n",
    "    ),\n",
    "    (661093, 624356, \"Happy valentines!\", \"02/14/2021 00:00:00\"),\n",
    "    (151652, 599415, \"Need a hug\", \"01/28/2021 00:00:00\"),\n",
    "    (\n",
    "        178425,\n",
    "        157336,\n",
    "        \"I'm so done with these restrictions - I want to travel!!!\",\n",
    "        \"03/24/2021 11:00:00\",\n",
    "    ),\n",
    "    (\n",
    "        423967,\n",
    "        784254,\n",
    "        \"Just going to cry myself to sleep after watching Marley and Me.\",\n",
    "        \"05/05/2021 00:00:00\",\n",
    "    ),\n",
    "    (151325, 613451, \"Happy new year all my friends!\", \"01/01/2022 11:00:00\"),\n",
    "    (\n",
    "        151325,\n",
    "        987562,\n",
    "        \"The global surface temperature for June 2022 was the sixth-highest in the 143-year record. This is definitely global warming happening.\",\n",
    "        \"07/01/2022 10:00:00\",\n",
    "    ),\n",
    "    (\n",
    "        661093,\n",
    "        674356,\n",
    "        \"Can't wait to start my freshman year - super excited!\",\n",
    "        \"08/18/2021 10:00:00\",\n",
    "    ),\n",
    "    (\n",
    "        151325,\n",
    "        451464,\n",
    "        \"Garage sale this Saturday 1 PM. All welcome to check out!\",\n",
    "        \"10/25/2021 10:00:00\",\n",
    "    ),\n",
    "    (\n",
    "        151652,\n",
    "        994156,\n",
    "        \"Does anyone have an extra iPhone charger to sell?\",\n",
    "        \"04/01/2021 10:00:00\",\n",
    "    ),\n",
    "]\n",
    "\n",
    "# Create DataFrame\n",
    "df = spark.createDataFrame(data, schema=schema)\n",
    "\n",
    "# Convert 'post_date' from StringType to TimestampType\n",
    "df = df.withColumn(\"post_date\", to_timestamp(\"post_date\", \"MM/dd/yyyy HH:mm:ss\"))\n",
    "df.display()"
   ]
  },
  {
   "cell_type": "code",
   "execution_count": 0,
   "metadata": {
    "application/vnd.databricks.v1+cell": {
     "cellMetadata": {
      "byteLimit": 2048000,
      "rowLimit": 10000
     },
     "inputWidgets": {},
     "nuid": "88984df2-35a1-4918-8576-7d6a4e7d66db",
     "showTitle": false,
     "title": ""
    }
   },
   "outputs": [
    {
     "output_type": "display_data",
     "data": {
      "text/html": [
       "<style scoped>\n",
       "  .table-result-container {\n",
       "    max-height: 300px;\n",
       "    overflow: auto;\n",
       "  }\n",
       "  table, th, td {\n",
       "    border: 1px solid black;\n",
       "    border-collapse: collapse;\n",
       "  }\n",
       "  th, td {\n",
       "    padding: 5px;\n",
       "  }\n",
       "  th {\n",
       "    text-align: left;\n",
       "  }\n",
       "</style><div class='table-result-container'><table class='table-result'><thead style='background-color: white'><tr><th>user_id</th><th>days_between</th></tr></thead><tbody><tr><td>151652</td><td>307</td></tr><tr><td>661093</td><td>206</td></tr></tbody></table></div>"
      ]
     },
     "metadata": {
      "application/vnd.databricks.v1+output": {
       "addedWidgets": {},
       "aggData": [],
       "aggError": "",
       "aggOverflow": false,
       "aggSchema": [],
       "aggSeriesLimitReached": false,
       "aggType": "",
       "arguments": {},
       "columnCustomDisplayInfos": {},
       "data": [
        [
         151652,
         307
        ],
        [
         661093,
         206
        ]
       ],
       "datasetInfos": [],
       "dbfsResultPath": null,
       "isJsonSchema": true,
       "metadata": {},
       "overflow": false,
       "plotOptions": {
        "customPlotOptions": {},
        "displayType": "table",
        "pivotAggregation": null,
        "pivotColumns": null,
        "xColumns": null,
        "yColumns": null
       },
       "removedWidgets": [],
       "schema": [
        {
         "metadata": "{}",
         "name": "user_id",
         "type": "\"integer\""
        },
        {
         "metadata": "{}",
         "name": "days_between",
         "type": "\"integer\""
        }
       ],
       "type": "table"
      }
     },
     "output_type": "display_data"
    }
   ],
   "source": [
    "# Calculate days between for users with more than one post in 2021\n",
    "result = df.filter(year(col(\"post_date\")) == 2021).groupBy(\"user_id\").agg(\n",
    "        datediff(max(\"post_date\"), min(\"post_date\")).alias(\"days_between\"),\n",
    "        count(\"*\").alias(\"post_count\"),\n",
    "    ).filter(col(\"post_count\") > 1).select(\"user_id\", \"days_between\")\n",
    "\n",
    "# Show the result\n",
    "result.display()"
   ]
  },
  {
   "cell_type": "code",
   "execution_count": 0,
   "metadata": {
    "application/vnd.databricks.v1+cell": {
     "cellMetadata": {
      "byteLimit": 2048000,
      "rowLimit": 10000
     },
     "inputWidgets": {},
     "nuid": "cf3cf207-17d7-4ccb-81c2-31efbc0b7b4b",
     "showTitle": false,
     "title": ""
    }
   },
   "outputs": [
    {
     "output_type": "stream",
     "name": "stdout",
     "output_type": "stream",
     "text": [
      "+-------+------------------+\n|user_id|      days_between|\n+-------+------------------+\n| 151652|INTERVAL '307' DAY|\n| 661093|INTERVAL '206' DAY|\n+-------+------------------+\n\n"
     ]
    }
   ],
   "source": [
    "# Register the DataFrame as a temporary SQL table\n",
    "df.createOrReplaceTempView(\"posts\")\n",
    "\n",
    "# Example SQL query\n",
    "result = spark.sql(\n",
    "    \"\"\"\n",
    "    SELECT \n",
    "        user_id, \n",
    "        MAX(CAST(post_date AS DATE)) - MIN(CAST(post_date AS DATE)) AS days_between\n",
    "    FROM posts\n",
    "    WHERE YEAR(post_date) = 2021\n",
    "    GROUP BY user_id\n",
    "    HAVING COUNT(post_id) > 1\n",
    "\"\"\"\n",
    ")\n",
    "\n",
    "# Show the result\n",
    "result.show()"
   ]
  },
  {
   "cell_type": "markdown",
   "metadata": {
    "application/vnd.databricks.v1+cell": {
     "cellMetadata": {},
     "inputWidgets": {},
     "nuid": "0a660f56-a50a-4fac-a662-422defb01a42",
     "showTitle": false,
     "title": ""
    }
   },
   "source": [
    "Explanation of Changes:\n",
    "\n",
    "Filtering the Result: \n",
    "After calculating days_between, the results are filtered to show only the users 151652 and 661093, which allows us to see if the expected output is met."
   ]
  }
 ],
 "metadata": {
  "application/vnd.databricks.v1+notebook": {
   "dashboards": [],
   "environmentMetadata": null,
   "language": "python",
   "notebookMetadata": {
    "pythonIndentUnit": 4
   },
   "notebookName": "Average Post Hiatus (Part 1)",
   "widgets": {}
  }
 },
 "nbformat": 4,
 "nbformat_minor": 0
}
