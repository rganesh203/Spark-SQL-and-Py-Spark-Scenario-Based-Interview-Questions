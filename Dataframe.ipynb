from pyspark.sql import SparkSession

# Initialize Spark session with a specified port for the web UI
spark = SparkSession.builder \
    .appName("PySparkSetup") \
    .config("spark.ui.port", "4050") \  # Specify your desired port here
    .getOrCreate()

# Sample DataFrame
data = [("John", 28), ("Emma", 25)]
columns = ["Name", "Age"]
df = spark.createDataFrame(data, columns)

# Show DataFrame
df.show()

