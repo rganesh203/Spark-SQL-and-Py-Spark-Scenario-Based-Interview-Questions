{
 "cells": [
  {
   "cell_type": "markdown",
   "metadata": {
    "application/vnd.databricks.v1+cell": {
     "cellMetadata": {},
     "inputWidgets": {},
     "nuid": "7d10a802-8aea-4f95-915f-0c635343282e",
     "showTitle": false,
     "tableResultSettingsMap": {},
     "title": ""
    }
   },
   "source": [
    "Problem Statement:\n",
    "\n",
    "Objective: Identify and retrieve all employees who have the same salary within the same department.\n",
    "\n",
    "Input: A dataset containing employee information with the following fields:\n",
    "emp_id (Employee ID)\n",
    "name (Employee Name)\n",
    "salary (Employee Salary)\n",
    "dept_id (Department ID)\n",
    "\n",
    "Output: A list of employees who share the same salary with at least one other employee in the same department. The results should be ordered by dept_id and salary."
   ]
  },
  {
   "cell_type": "code",
   "execution_count": 0,
   "metadata": {
    "application/vnd.databricks.v1+cell": {
     "cellMetadata": {
      "byteLimit": 2048000,
      "rowLimit": 10000
     },
     "inputWidgets": {},
     "nuid": "c1634d75-bdcd-4d2e-a9c2-5fa959360f60",
     "showTitle": false,
     "tableResultSettingsMap": {},
     "title": ""
    }
   },
   "outputs": [
    {
     "output_type": "display_data",
     "data": {
      "text/html": [
       "<style scoped>\n",
       "  .table-result-container {\n",
       "    max-height: 300px;\n",
       "    overflow: auto;\n",
       "  }\n",
       "  table, th, td {\n",
       "    border: 1px solid black;\n",
       "    border-collapse: collapse;\n",
       "  }\n",
       "  th, td {\n",
       "    padding: 5px;\n",
       "  }\n",
       "  th {\n",
       "    text-align: left;\n",
       "  }\n",
       "</style><div class='table-result-container'><table class='table-result'><thead style='background-color: white'><tr><th>emp_id</th><th>name</th><th>salary</th><th>dept_id</th></tr></thead><tbody><tr><td>102</td><td>sohan</td><td>3000</td><td>11</td></tr><tr><td>102</td><td>rohan</td><td>4000</td><td>12</td></tr><tr><td>103</td><td>mohan</td><td>5000</td><td>13</td></tr><tr><td>104</td><td>cat</td><td>3000</td><td>11</td></tr><tr><td>105</td><td>suresh</td><td>4000</td><td>12</td></tr><tr><td>109</td><td>mahesh</td><td>7000</td><td>12</td></tr><tr><td>108</td><td>kamal</td><td>8000</td><td>11</td></tr></tbody></table></div>"
      ]
     },
     "metadata": {
      "application/vnd.databricks.v1+output": {
       "addedWidgets": {},
       "aggData": [],
       "aggError": "",
       "aggOverflow": false,
       "aggSchema": [],
       "aggSeriesLimitReached": false,
       "aggType": "",
       "arguments": {},
       "columnCustomDisplayInfos": {},
       "data": [
        [
         102,
         "sohan",
         3000,
         11
        ],
        [
         102,
         "rohan",
         4000,
         12
        ],
        [
         103,
         "mohan",
         5000,
         13
        ],
        [
         104,
         "cat",
         3000,
         11
        ],
        [
         105,
         "suresh",
         4000,
         12
        ],
        [
         109,
         "mahesh",
         7000,
         12
        ],
        [
         108,
         "kamal",
         8000,
         11
        ]
       ],
       "datasetInfos": [],
       "dbfsResultPath": null,
       "isJsonSchema": true,
       "metadata": {},
       "overflow": false,
       "plotOptions": {
        "customPlotOptions": {},
        "displayType": "table",
        "pivotAggregation": null,
        "pivotColumns": null,
        "xColumns": null,
        "yColumns": null
       },
       "removedWidgets": [],
       "schema": [
        {
         "metadata": "{}",
         "name": "emp_id",
         "type": "\"long\""
        },
        {
         "metadata": "{}",
         "name": "name",
         "type": "\"string\""
        },
        {
         "metadata": "{}",
         "name": "salary",
         "type": "\"long\""
        },
        {
         "metadata": "{}",
         "name": "dept_id",
         "type": "\"long\""
        }
       ],
       "type": "table"
      }
     },
     "output_type": "display_data"
    }
   ],
   "source": [
    "# Sample data\n",
    "data = [\n",
    "    (102, \"sohan\", 3000, 11),\n",
    "    (102, \"rohan\", 4000, 12),\n",
    "    (103, \"mohan\", 5000, 13),\n",
    "    (104, \"cat\", 3000, 11),\n",
    "    (105, \"suresh\", 4000, 12),\n",
    "    (109, \"mahesh\", 7000, 12),\n",
    "    (108, \"kamal\", 8000, 11),\n",
    "]\n",
    "\n",
    "# Define the schema\n",
    "columns = [\"emp_id\", \"name\", \"salary\", \"dept_id\"]\n",
    "\n",
    "# Create DataFrame\n",
    "df = spark.createDataFrame(data, schema=columns)\n",
    "\n",
    "# display the DataFrame\n",
    "df.display()"
   ]
  },
  {
   "cell_type": "code",
   "execution_count": 0,
   "metadata": {
    "application/vnd.databricks.v1+cell": {
     "cellMetadata": {
      "byteLimit": 2048000,
      "rowLimit": 10000
     },
     "inputWidgets": {},
     "nuid": "ed7f0271-230d-4aa7-be18-859cb79c2ddb",
     "showTitle": false,
     "tableResultSettingsMap": {},
     "title": ""
    }
   },
   "outputs": [],
   "source": [
    "df.createOrReplaceTempView(\"emp_salary\")"
   ]
  },
  {
   "cell_type": "code",
   "execution_count": 0,
   "metadata": {
    "application/vnd.databricks.v1+cell": {
     "cellMetadata": {
      "byteLimit": 2048000,
      "rowLimit": 10000
     },
     "inputWidgets": {},
     "nuid": "f98865e0-bf7f-4741-b834-18b3c3830988",
     "showTitle": false,
     "tableResultSettingsMap": {},
     "title": ""
    }
   },
   "outputs": [
    {
     "output_type": "display_data",
     "data": {
      "text/html": [
       "<style scoped>\n",
       "  .table-result-container {\n",
       "    max-height: 300px;\n",
       "    overflow: auto;\n",
       "  }\n",
       "  table, th, td {\n",
       "    border: 1px solid black;\n",
       "    border-collapse: collapse;\n",
       "  }\n",
       "  th, td {\n",
       "    padding: 5px;\n",
       "  }\n",
       "  th {\n",
       "    text-align: left;\n",
       "  }\n",
       "</style><div class='table-result-container'><table class='table-result'><thead style='background-color: white'><tr><th>emp_id</th><th>name</th><th>salary</th><th>dept_id</th></tr></thead><tbody><tr><td>102</td><td>sohan</td><td>3000</td><td>11</td></tr><tr><td>104</td><td>cat</td><td>3000</td><td>11</td></tr><tr><td>102</td><td>rohan</td><td>4000</td><td>12</td></tr><tr><td>105</td><td>suresh</td><td>4000</td><td>12</td></tr></tbody></table></div>"
      ]
     },
     "metadata": {
      "application/vnd.databricks.v1+output": {
       "addedWidgets": {},
       "aggData": [],
       "aggError": "",
       "aggOverflow": false,
       "aggSchema": [],
       "aggSeriesLimitReached": false,
       "aggType": "",
       "arguments": {},
       "columnCustomDisplayInfos": {},
       "data": [
        [
         102,
         "sohan",
         3000,
         11
        ],
        [
         104,
         "cat",
         3000,
         11
        ],
        [
         102,
         "rohan",
         4000,
         12
        ],
        [
         105,
         "suresh",
         4000,
         12
        ]
       ],
       "datasetInfos": [],
       "dbfsResultPath": null,
       "isJsonSchema": true,
       "metadata": {},
       "overflow": false,
       "plotOptions": {
        "customPlotOptions": {},
        "displayType": "table",
        "pivotAggregation": null,
        "pivotColumns": null,
        "xColumns": null,
        "yColumns": null
       },
       "removedWidgets": [],
       "schema": [
        {
         "metadata": "{}",
         "name": "emp_id",
         "type": "\"long\""
        },
        {
         "metadata": "{}",
         "name": "name",
         "type": "\"string\""
        },
        {
         "metadata": "{}",
         "name": "salary",
         "type": "\"long\""
        },
        {
         "metadata": "{}",
         "name": "dept_id",
         "type": "\"long\""
        }
       ],
       "type": "table"
      }
     },
     "output_type": "display_data"
    }
   ],
   "source": [
    "# Execute the SQL query\n",
    "result_sql = spark.sql(\n",
    "    \"\"\"\n",
    "    SELECT emp_id, name, salary, dept_id\n",
    "    FROM (\n",
    "        SELECT emp_id, name, salary, dept_id, COUNT(*) OVER (PARTITION BY dept_id, salary) AS employee_count\n",
    "        FROM emp_salary\n",
    "    ) subquery\n",
    "    WHERE employee_count > 1\n",
    "    ORDER BY dept_id, salary\n",
    "\"\"\"\n",
    ")\n",
    "\n",
    "# display the result\n",
    "result_sql.display()"
   ]
  },
  {
   "cell_type": "code",
   "execution_count": 0,
   "metadata": {
    "application/vnd.databricks.v1+cell": {
     "cellMetadata": {
      "byteLimit": 2048000,
      "rowLimit": 10000
     },
     "inputWidgets": {},
     "nuid": "d7f26d3d-49af-4a4f-a151-8327a5cec2bb",
     "showTitle": false,
     "tableResultSettingsMap": {},
     "title": ""
    }
   },
   "outputs": [
    {
     "output_type": "display_data",
     "data": {
      "text/html": [
       "<style scoped>\n",
       "  .table-result-container {\n",
       "    max-height: 300px;\n",
       "    overflow: auto;\n",
       "  }\n",
       "  table, th, td {\n",
       "    border: 1px solid black;\n",
       "    border-collapse: collapse;\n",
       "  }\n",
       "  th, td {\n",
       "    padding: 5px;\n",
       "  }\n",
       "  th {\n",
       "    text-align: left;\n",
       "  }\n",
       "</style><div class='table-result-container'><table class='table-result'><thead style='background-color: white'><tr><th>emp_id</th><th>name</th><th>salary</th><th>dept_id</th></tr></thead><tbody><tr><td>102</td><td>sohan</td><td>3000</td><td>11</td></tr><tr><td>104</td><td>cat</td><td>3000</td><td>11</td></tr><tr><td>102</td><td>rohan</td><td>4000</td><td>12</td></tr><tr><td>105</td><td>suresh</td><td>4000</td><td>12</td></tr></tbody></table></div>"
      ]
     },
     "metadata": {
      "application/vnd.databricks.v1+output": {
       "addedWidgets": {},
       "aggData": [],
       "aggError": "",
       "aggOverflow": false,
       "aggSchema": [],
       "aggSeriesLimitReached": false,
       "aggType": "",
       "arguments": {},
       "columnCustomDisplayInfos": {},
       "data": [
        [
         102,
         "sohan",
         3000,
         11
        ],
        [
         104,
         "cat",
         3000,
         11
        ],
        [
         102,
         "rohan",
         4000,
         12
        ],
        [
         105,
         "suresh",
         4000,
         12
        ]
       ],
       "datasetInfos": [],
       "dbfsResultPath": null,
       "isJsonSchema": true,
       "metadata": {},
       "overflow": false,
       "plotOptions": {
        "customPlotOptions": {},
        "displayType": "table",
        "pivotAggregation": null,
        "pivotColumns": null,
        "xColumns": null,
        "yColumns": null
       },
       "removedWidgets": [],
       "schema": [
        {
         "metadata": "{}",
         "name": "emp_id",
         "type": "\"long\""
        },
        {
         "metadata": "{}",
         "name": "name",
         "type": "\"string\""
        },
        {
         "metadata": "{}",
         "name": "salary",
         "type": "\"long\""
        },
        {
         "metadata": "{}",
         "name": "dept_id",
         "type": "\"long\""
        }
       ],
       "type": "table"
      }
     },
     "output_type": "display_data"
    }
   ],
   "source": [
    "from pyspark.sql import functions as F\n",
    "from pyspark.sql.window import Window\n",
    "\n",
    "# Define a window partitioned by dept_id and salary\n",
    "window_spec = Window.partitionBy(\"dept_id\", \"salary\")\n",
    "\n",
    "# Count the number of employees with the same dept_id and salary\n",
    "df_with_counts = df.withColumn(\"employee_count\", F.count(\"emp_id\").over(window_spec))\n",
    "\n",
    "# Filter only groups where the count is greater than 1\n",
    "result_df = df_with_counts.filter(F.col(\"employee_count\") > 1).drop(\"employee_count\")\n",
    "\n",
    "# display the result\n",
    "result_df.display()"
   ]
  },
  {
   "cell_type": "markdown",
   "metadata": {
    "application/vnd.databricks.v1+cell": {
     "cellMetadata": {},
     "inputWidgets": {},
     "nuid": "e3ef5640-9026-403a-9be0-ee1c17da5808",
     "showTitle": false,
     "tableResultSettingsMap": {},
     "title": ""
    }
   },
   "source": [
    "Explanation:\n",
    "\n",
    "Window Function:\n",
    "COUNT(*) OVER (PARTITION BY dept_id, salary) calculates how many employees share the same dept_id and salary.\n",
    "\n",
    "Subquery:\n",
    "Used to filter employees where the employee_count is greater than 1.\n",
    "\n",
    "Final Selection:\n",
    "Only includes relevant columns (emp_id, name, salary, dept_id).\n",
    "\n",
    "Order By:\n",
    "Orders the results by dept_id and salary for clarity."
   ]
  }
 ],
 "metadata": {
  "application/vnd.databricks.v1+notebook": {
   "computePreferences": null,
   "dashboards": [],
   "environmentMetadata": {
    "base_environment": "",
    "client": "1"
   },
   "language": "python",
   "notebookMetadata": {
    "mostRecentlyExecutedCommandWithImplicitDF": {
     "commandId": 4211969821811388,
     "dataframes": [
      "_sqldf"
     ]
    },
    "pythonIndentUnit": 4
   },
   "notebookName": "Return all employees with the same salary, in the same department",
   "widgets": {}
  }
 },
 "nbformat": 4,
 "nbformat_minor": 0
}
