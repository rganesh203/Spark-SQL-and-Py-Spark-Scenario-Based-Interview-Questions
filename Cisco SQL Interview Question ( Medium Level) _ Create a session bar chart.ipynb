{
 "cells": [
  {
   "cell_type": "markdown",
   "metadata": {
    "application/vnd.databricks.v1+cell": {
     "cellMetadata": {},
     "inputWidgets": {},
     "nuid": "464bbed7-b2e1-42f0-881a-1f4e0111879a",
     "showTitle": false,
     "title": ""
    }
   },
   "source": [
    "Problem Statement: \n",
    "\n",
    "Session Duration Analysis\n",
    "\n",
    "Objective: \n",
    "\n",
    "Analyze session durations from a dataset to classify them into predefined bins.\n",
    "\n",
    "Tasks:\n",
    "\n",
    "Load session data into a DataFrame.\n",
    "\n",
    "Create bins for session durations categorized as:\n",
    "\n",
    "[0-5]: 0 to 5 minutes\n",
    "\n",
    "[5-10]: 5 to 10 minutes\n",
    "\n",
    "[10-15]: 10 to 15 minutes\n",
    "\n",
    "[15 or more]: 15 minutes or more\n",
    "\n",
    "Count the number of sessions that fall into each bin and present the results."
   ]
  },
  {
   "cell_type": "code",
   "execution_count": 0,
   "metadata": {
    "application/vnd.databricks.v1+cell": {
     "cellMetadata": {
      "byteLimit": 2048000,
      "rowLimit": 10000
     },
     "inputWidgets": {},
     "nuid": "278d5c49-bb52-4b61-8d7b-381e01c6cae2",
     "showTitle": false,
     "title": ""
    }
   },
   "outputs": [
    {
     "output_type": "display_data",
     "data": {
      "text/html": [
       "<style scoped>\n",
       "  .table-result-container {\n",
       "    max-height: 300px;\n",
       "    overflow: auto;\n",
       "  }\n",
       "  table, th, td {\n",
       "    border: 1px solid black;\n",
       "    border-collapse: collapse;\n",
       "  }\n",
       "  th, td {\n",
       "    padding: 5px;\n",
       "  }\n",
       "  th {\n",
       "    text-align: left;\n",
       "  }\n",
       "</style><div class='table-result-container'><table class='table-result'><thead style='background-color: white'><tr><th>session_id</th><th>duration</th></tr></thead><tbody><tr><td>1</td><td>30</td></tr><tr><td>2</td><td>199</td></tr><tr><td>3</td><td>299</td></tr><tr><td>4</td><td>580</td></tr><tr><td>5</td><td>1000</td></tr><tr><td>6</td><td>1150</td></tr><tr><td>7</td><td>30</td></tr></tbody></table></div>"
      ]
     },
     "metadata": {
      "application/vnd.databricks.v1+output": {
       "addedWidgets": {},
       "aggData": [],
       "aggError": "",
       "aggOverflow": false,
       "aggSchema": [],
       "aggSeriesLimitReached": false,
       "aggType": "",
       "arguments": {},
       "columnCustomDisplayInfos": {},
       "data": [
        [
         1,
         30
        ],
        [
         2,
         199
        ],
        [
         3,
         299
        ],
        [
         4,
         580
        ],
        [
         5,
         1000
        ],
        [
         6,
         1150
        ],
        [
         7,
         30
        ]
       ],
       "datasetInfos": [],
       "dbfsResultPath": null,
       "isJsonSchema": true,
       "metadata": {},
       "overflow": false,
       "plotOptions": {
        "customPlotOptions": {},
        "displayType": "table",
        "pivotAggregation": null,
        "pivotColumns": null,
        "xColumns": null,
        "yColumns": null
       },
       "removedWidgets": [],
       "schema": [
        {
         "metadata": "{}",
         "name": "session_id",
         "type": "\"integer\""
        },
        {
         "metadata": "{}",
         "name": "duration",
         "type": "\"integer\""
        }
       ],
       "type": "table"
      }
     },
     "output_type": "display_data"
    }
   ],
   "source": [
    "from pyspark.sql.types import *\n",
    "\n",
    "# Define schema\n",
    "schema = StructType(\n",
    "    [\n",
    "        StructField(\"session_id\", IntegerType(), True),\n",
    "        StructField(\"duration\", IntegerType(), True),\n",
    "    ]\n",
    ")\n",
    "\n",
    "# Create DataFrame with data\n",
    "data = [(1, 30), (2, 199), (3, 299), (4, 580), (5, 1000), (6, 1150), (7, 30)]\n",
    "\n",
    "# Create DataFrame\n",
    "sessions_df = spark.createDataFrame(data, schema)\n",
    "\n",
    "# display DataFrame\n",
    "sessions_df.display()"
   ]
  },
  {
   "cell_type": "code",
   "execution_count": 0,
   "metadata": {
    "application/vnd.databricks.v1+cell": {
     "cellMetadata": {
      "byteLimit": 2048000,
      "rowLimit": 10000
     },
     "inputWidgets": {},
     "nuid": "07618eaa-f3da-42ac-b256-15481724e374",
     "showTitle": false,
     "title": ""
    }
   },
   "outputs": [],
   "source": [
    "sessions_df.createOrReplaceTempView(\"session\")"
   ]
  },
  {
   "cell_type": "code",
   "execution_count": 0,
   "metadata": {
    "application/vnd.databricks.v1+cell": {
     "cellMetadata": {
      "byteLimit": 2048000,
      "implicitDf": true,
      "rowLimit": 10000
     },
     "inputWidgets": {},
     "nuid": "9e9c235a-b4fb-409a-9388-a2367d95dd48",
     "showTitle": false,
     "title": ""
    }
   },
   "outputs": [
    {
     "output_type": "display_data",
     "data": {
      "text/html": [
       "<style scoped>\n",
       "  .table-result-container {\n",
       "    max-height: 300px;\n",
       "    overflow: auto;\n",
       "  }\n",
       "  table, th, td {\n",
       "    border: 1px solid black;\n",
       "    border-collapse: collapse;\n",
       "  }\n",
       "  th, td {\n",
       "    padding: 5px;\n",
       "  }\n",
       "  th {\n",
       "    text-align: left;\n",
       "  }\n",
       "</style><div class='table-result-container'><table class='table-result'><thead style='background-color: white'><tr><th>bins</th><th>total</th></tr></thead><tbody><tr><td>[0-5]></td><td>4</td></tr><tr><td>[5-10]></td><td>1</td></tr><tr><td>[10-15]></td><td>0</td></tr><tr><td>[15 or more]</td><td>2</td></tr></tbody></table></div>"
      ]
     },
     "metadata": {
      "application/vnd.databricks.v1+output": {
       "addedWidgets": {},
       "aggData": [],
       "aggError": "",
       "aggOverflow": false,
       "aggSchema": [],
       "aggSeriesLimitReached": false,
       "aggType": "",
       "arguments": {},
       "columnCustomDisplayInfos": {},
       "data": [
        [
         "[0-5]>",
         4
        ],
        [
         "[5-10]>",
         1
        ],
        [
         "[10-15]>",
         0
        ],
        [
         "[15 or more]",
         2
        ]
       ],
       "datasetInfos": [],
       "dbfsResultPath": null,
       "isJsonSchema": true,
       "metadata": {},
       "overflow": false,
       "plotOptions": {
        "customPlotOptions": {},
        "displayType": "table",
        "pivotAggregation": null,
        "pivotColumns": null,
        "xColumns": null,
        "yColumns": null
       },
       "removedWidgets": [],
       "schema": [
        {
         "metadata": "{}",
         "name": "bins",
         "type": "\"string\""
        },
        {
         "metadata": "{}",
         "name": "total",
         "type": "\"long\""
        }
       ],
       "type": "table"
      }
     },
     "output_type": "display_data"
    }
   ],
   "source": [
    "%sql\n",
    "WITH cte1 AS (\n",
    "  SELECT\n",
    "    CASE\n",
    "      WHEN ROUND(duration / 60) BETWEEN 0\n",
    "      AND 5 THEN '[0-5]>'\n",
    "      WHEN ROUND(duration / 60) BETWEEN 5\n",
    "      AND 10 THEN '[5-10]>'\n",
    "      WHEN ROUND(duration / 60) BETWEEN 10\n",
    "      AND 15 THEN '[10-15]>'\n",
    "      ELSE '[15 or more]'\n",
    "    END bins\n",
    "  FROM\n",
    "    session\n",
    "),\n",
    "cte2 AS (\n",
    "  SELECT\n",
    "    '[0-5]>' as bins\n",
    "  UNION\n",
    "  SELECT\n",
    "    '[5-10]>' as bins\n",
    "  UNION\n",
    "  SELECT\n",
    "    '[10-15]>' as bins\n",
    "  UNION\n",
    "  SELECT\n",
    "    '[15 or more]' as bins\n",
    ")\n",
    "SELECT\n",
    "  c2.bins,\n",
    "  COALESCE(count(c1.bins), 0) as total\n",
    "FROM\n",
    "  cte2 as c2\n",
    "  LEFT JOIN cte1 as c1 ON c2.bins = c1.bins\n",
    "GROUP BY\n",
    "  c2.bins;"
   ]
  },
  {
   "cell_type": "code",
   "execution_count": 0,
   "metadata": {
    "application/vnd.databricks.v1+cell": {
     "cellMetadata": {
      "byteLimit": 2048000,
      "rowLimit": 10000
     },
     "inputWidgets": {},
     "nuid": "f9b2da45-1025-4b39-88d2-d6435169ed11",
     "showTitle": false,
     "title": ""
    }
   },
   "outputs": [
    {
     "output_type": "display_data",
     "data": {
      "text/html": [
       "<style scoped>\n",
       "  .table-result-container {\n",
       "    max-height: 300px;\n",
       "    overflow: auto;\n",
       "  }\n",
       "  table, th, td {\n",
       "    border: 1px solid black;\n",
       "    border-collapse: collapse;\n",
       "  }\n",
       "  th, td {\n",
       "    padding: 5px;\n",
       "  }\n",
       "  th {\n",
       "    text-align: left;\n",
       "  }\n",
       "</style><div class='table-result-container'><table class='table-result'><thead style='background-color: white'><tr><th>bins</th><th>total</th></tr></thead><tbody><tr><td>[0-5]></td><td>4</td></tr><tr><td>[5-10]></td><td>1</td></tr><tr><td>[10-15]></td><td>0</td></tr><tr><td>[15 or more]</td><td>2</td></tr></tbody></table></div>"
      ]
     },
     "metadata": {
      "application/vnd.databricks.v1+output": {
       "addedWidgets": {},
       "aggData": [],
       "aggError": "",
       "aggOverflow": false,
       "aggSchema": [],
       "aggSeriesLimitReached": false,
       "aggType": "",
       "arguments": {},
       "columnCustomDisplayInfos": {},
       "data": [
        [
         "[0-5]>",
         4
        ],
        [
         "[5-10]>",
         1
        ],
        [
         "[10-15]>",
         0
        ],
        [
         "[15 or more]",
         2
        ]
       ],
       "datasetInfos": [],
       "dbfsResultPath": null,
       "isJsonSchema": true,
       "metadata": {},
       "overflow": false,
       "plotOptions": {
        "customPlotOptions": {},
        "displayType": "table",
        "pivotAggregation": null,
        "pivotColumns": null,
        "xColumns": null,
        "yColumns": null
       },
       "removedWidgets": [],
       "schema": [
        {
         "metadata": "{}",
         "name": "bins",
         "type": "\"string\""
        },
        {
         "metadata": "{}",
         "name": "total",
         "type": "\"long\""
        }
       ],
       "type": "table"
      }
     },
     "output_type": "display_data"
    }
   ],
   "source": [
    "from pyspark.sql.functions import *\n",
    "\n",
    "# First CTE: Create bins based on duration\n",
    "cte1 = sessions_df.select(\n",
    "    when((round(sessions_df.duration / 60).between(0, 5)), \"[0-5]>\")\n",
    "    .when((round(sessions_df.duration / 60).between(5, 10)), \"[5-10]>\")\n",
    "    .when((round(sessions_df.duration / 60).between(10, 15)), \"[10-15]>\")\n",
    "    .otherwise(\"[15 or more]\")\n",
    "    .alias(\"bins\")\n",
    ")\n",
    "\n",
    "# Second CTE: Define all possible bins\n",
    "cte2 = spark.createDataFrame(\n",
    "    [(\"[0-5]>\",), (\"[5-10]>\",), (\"[10-15]>\",), (\"[15 or more]\",)], [\"bins\"]\n",
    ")\n",
    "\n",
    "# Perform left join and count\n",
    "result_df = (\n",
    "    cte2.join(cte1, cte2.bins == cte1.bins, \"left\")\n",
    "    .groupBy(cte2.bins)\n",
    "    .agg(count(cte1.bins).alias(\"total\"))\n",
    "    .fillna(0)\n",
    ")  # Fill null counts with 0\n",
    "\n",
    "# display the result\n",
    "result_df.display()"
   ]
  },
  {
   "cell_type": "markdown",
   "metadata": {
    "application/vnd.databricks.v1+cell": {
     "cellMetadata": {},
     "inputWidgets": {},
     "nuid": "b123d1d2-05f5-4472-869d-38ec42598058",
     "showTitle": false,
     "title": ""
    }
   },
   "source": [
    "Explanation:\n",
    "\n",
    "Sessions DataFrame: Created from your initial session data.\n",
    "Binning Logic: Uses F.when to categorize the durations into specified bins.\n",
    "Defining Bins: cte2 is defined using a list of tuples to create the required bins.\n",
    "Left Join: Joins cte2 and cte1 on the bins column, and groups by the bins while counting occurrences.\n",
    "Fill Nulls: fillna(0) ensures that any bins with no counts show as zero.\n",
    "\n",
    "Expected Output:\n",
    "\n",
    "This will produce a DataFrame showing the bins and their respective counts, similar to what your SQL query would generate. Let me know if you have any questions or need further adjustments!"
   ]
  }
 ],
 "metadata": {
  "application/vnd.databricks.v1+notebook": {
   "dashboards": [],
   "environmentMetadata": null,
   "language": "python",
   "notebookMetadata": {
    "mostRecentlyExecutedCommandWithImplicitDF": {
     "commandId": 2577638041113736,
     "dataframes": [
      "_sqldf"
     ]
    },
    "pythonIndentUnit": 4
   },
   "notebookName": "Cisco SQL Interview Question ( Medium Level) | Create a session bar chart",
   "widgets": {}
  }
 },
 "nbformat": 4,
 "nbformat_minor": 0
}
