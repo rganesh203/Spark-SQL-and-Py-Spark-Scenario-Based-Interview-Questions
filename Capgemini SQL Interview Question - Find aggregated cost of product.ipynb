{
 "cells": [
  {
   "cell_type": "markdown",
   "metadata": {
    "application/vnd.databricks.v1+cell": {
     "cellMetadata": {},
     "inputWidgets": {},
     "nuid": "3c32668b-2fe1-405f-b3ac-10288676446d",
     "showTitle": false,
     "title": ""
    }
   },
   "source": [
    "Problem Statement:\n",
    "\n",
    "Here are given a dataset of product production records, which includes information about the production date (dt), brand name (brand), model name (model), and production cost (production_cost). The goal is to calculate the total production cost for each brand on a specific date using a window function that partitions the data by dt (date) and brand, and orders the data by production_cost.\n",
    "\n",
    "For each record, you need to compute the sum of the production costs within the same dt and brand group. This sum should be consistent for all rows that belong to the same partition."
   ]
  },
  {
   "cell_type": "code",
   "execution_count": 0,
   "metadata": {
    "application/vnd.databricks.v1+cell": {
     "cellMetadata": {
      "byteLimit": 2048000,
      "rowLimit": 10000
     },
     "inputWidgets": {},
     "nuid": "aa230e0d-c80e-4801-9122-66bc94eb8523",
     "showTitle": false,
     "title": ""
    }
   },
   "outputs": [
    {
     "output_type": "display_data",
     "data": {
      "text/html": [
       "<style scoped>\n",
       "  .table-result-container {\n",
       "    max-height: 300px;\n",
       "    overflow: auto;\n",
       "  }\n",
       "  table, th, td {\n",
       "    border: 1px solid black;\n",
       "    border-collapse: collapse;\n",
       "  }\n",
       "  th, td {\n",
       "    padding: 5px;\n",
       "  }\n",
       "  th {\n",
       "    text-align: left;\n",
       "  }\n",
       "</style><div class='table-result-container'><table class='table-result'><thead style='background-color: white'><tr><th>dt</th><th>brand</th><th>model</th><th>production_cost</th></tr></thead><tbody><tr><td>2023-12-01</td><td>A</td><td>A1</td><td>1000</td></tr><tr><td>2023-12-01</td><td>A</td><td>A2</td><td>1300</td></tr><tr><td>2023-12-01</td><td>B</td><td>B1</td><td>800</td></tr><tr><td>2023-12-02</td><td>A</td><td>A1</td><td>1800</td></tr><tr><td>2023-12-02</td><td>B</td><td>B1</td><td>900</td></tr><tr><td>2023-12-10</td><td>A</td><td>A1</td><td>1400</td></tr><tr><td>2023-12-10</td><td>A</td><td>A1</td><td>1200</td></tr><tr><td>2023-12-10</td><td>C</td><td>C1</td><td>2500</td></tr></tbody></table></div>"
      ]
     },
     "metadata": {
      "application/vnd.databricks.v1+output": {
       "addedWidgets": {},
       "aggData": [],
       "aggError": "",
       "aggOverflow": false,
       "aggSchema": [],
       "aggSeriesLimitReached": false,
       "aggType": "",
       "arguments": {},
       "columnCustomDisplayInfos": {},
       "data": [
        [
         "2023-12-01",
         "A",
         "A1",
         1000
        ],
        [
         "2023-12-01",
         "A",
         "A2",
         1300
        ],
        [
         "2023-12-01",
         "B",
         "B1",
         800
        ],
        [
         "2023-12-02",
         "A",
         "A1",
         1800
        ],
        [
         "2023-12-02",
         "B",
         "B1",
         900
        ],
        [
         "2023-12-10",
         "A",
         "A1",
         1400
        ],
        [
         "2023-12-10",
         "A",
         "A1",
         1200
        ],
        [
         "2023-12-10",
         "C",
         "C1",
         2500
        ]
       ],
       "datasetInfos": [],
       "dbfsResultPath": null,
       "isJsonSchema": true,
       "metadata": {},
       "overflow": false,
       "plotOptions": {
        "customPlotOptions": {},
        "displayType": "table",
        "pivotAggregation": null,
        "pivotColumns": null,
        "xColumns": null,
        "yColumns": null
       },
       "removedWidgets": [],
       "schema": [
        {
         "metadata": "{}",
         "name": "dt",
         "type": "\"date\""
        },
        {
         "metadata": "{}",
         "name": "brand",
         "type": "\"string\""
        },
        {
         "metadata": "{}",
         "name": "model",
         "type": "\"string\""
        },
        {
         "metadata": "{}",
         "name": "production_cost",
         "type": "\"integer\""
        }
       ],
       "type": "table"
      }
     },
     "output_type": "display_data"
    }
   ],
   "source": [
    "from pyspark.sql import SparkSession\n",
    "from pyspark.sql.types import StructType, StructField, StringType, IntegerType, DateType\n",
    "from pyspark.sql import Row\n",
    "from datetime import datetime\n",
    "\n",
    "# Initialize Spark session\n",
    "spark = SparkSession.builder.appName(\"CreateTableAndInsertRecords\").getOrCreate()\n",
    "\n",
    "# Define schema\n",
    "schema = StructType([\n",
    "    StructField(\"dt\", DateType(), True),\n",
    "    StructField(\"brand\", StringType(), True),\n",
    "    StructField(\"model\", StringType(), True),\n",
    "    StructField(\"production_cost\", IntegerType(), True)\n",
    "])\n",
    "\n",
    "# Data for the table\n",
    "data = [\n",
    "    ('2023-12-01', 'A', 'A1', 1000),\n",
    "    ('2023-12-01', 'A', 'A2', 1300),\n",
    "    ('2023-12-01', 'B', 'B1', 800),\n",
    "    ('2023-12-02', 'A', 'A1', 1800),\n",
    "    ('2023-12-02', 'B', 'B1', 900),\n",
    "    ('2023-12-10', 'A', 'A1', 1400),\n",
    "    ('2023-12-10', 'A', 'A1', 1200),\n",
    "    ('2023-12-10', 'C', 'C1', 2500)\n",
    "]\n",
    "\n",
    "# Convert the data to Rows\n",
    "rows = [Row(datetime.strptime(row[0], '%Y-%m-%d'), row[1], row[2], row[3]) for row in data]\n",
    "\n",
    "# Create DataFrame\n",
    "df = spark.createDataFrame(rows, schema)\n",
    "\n",
    "# Show the DataFrame\n",
    "df.display()\n"
   ]
  },
  {
   "cell_type": "code",
   "execution_count": 0,
   "metadata": {
    "application/vnd.databricks.v1+cell": {
     "cellMetadata": {
      "byteLimit": 2048000,
      "rowLimit": 10000
     },
     "inputWidgets": {},
     "nuid": "d315e39c-e91c-4fb3-b3c3-65bbfa0a5f1f",
     "showTitle": false,
     "title": ""
    }
   },
   "outputs": [],
   "source": [
    "# Register the DataFrame as a temporary table\n",
    "df.createOrReplaceTempView(\"prd_tbl\")"
   ]
  },
  {
   "cell_type": "code",
   "execution_count": 0,
   "metadata": {
    "application/vnd.databricks.v1+cell": {
     "cellMetadata": {
      "byteLimit": 2048000,
      "implicitDf": true,
      "rowLimit": 10000
     },
     "inputWidgets": {},
     "nuid": "a43538df-8121-4aac-925d-11ce54446e02",
     "showTitle": false,
     "title": ""
    }
   },
   "outputs": [
    {
     "output_type": "display_data",
     "data": {
      "text/html": [
       "<style scoped>\n",
       "  .table-result-container {\n",
       "    max-height: 300px;\n",
       "    overflow: auto;\n",
       "  }\n",
       "  table, th, td {\n",
       "    border: 1px solid black;\n",
       "    border-collapse: collapse;\n",
       "  }\n",
       "  th, td {\n",
       "    padding: 5px;\n",
       "  }\n",
       "  th {\n",
       "    text-align: left;\n",
       "  }\n",
       "</style><div class='table-result-container'><table class='table-result'><thead style='background-color: white'><tr><th>dt</th><th>brand</th><th>model</th><th>production_cost</th><th>sum_cost</th></tr></thead><tbody><tr><td>2023-12-01</td><td>A</td><td>A1</td><td>1000</td><td>2300</td></tr><tr><td>2023-12-01</td><td>A</td><td>A2</td><td>1300</td><td>2300</td></tr><tr><td>2023-12-01</td><td>B</td><td>B1</td><td>800</td><td>800</td></tr><tr><td>2023-12-02</td><td>A</td><td>A1</td><td>1800</td><td>1800</td></tr><tr><td>2023-12-02</td><td>B</td><td>B1</td><td>900</td><td>900</td></tr><tr><td>2023-12-10</td><td>A</td><td>A1</td><td>1200</td><td>2600</td></tr><tr><td>2023-12-10</td><td>A</td><td>A1</td><td>1400</td><td>2600</td></tr><tr><td>2023-12-10</td><td>C</td><td>C1</td><td>2500</td><td>2500</td></tr></tbody></table></div>"
      ]
     },
     "metadata": {
      "application/vnd.databricks.v1+output": {
       "addedWidgets": {},
       "aggData": [],
       "aggError": "",
       "aggOverflow": false,
       "aggSchema": [],
       "aggSeriesLimitReached": false,
       "aggType": "",
       "arguments": {},
       "columnCustomDisplayInfos": {},
       "data": [
        [
         "2023-12-01",
         "A",
         "A1",
         1000,
         2300
        ],
        [
         "2023-12-01",
         "A",
         "A2",
         1300,
         2300
        ],
        [
         "2023-12-01",
         "B",
         "B1",
         800,
         800
        ],
        [
         "2023-12-02",
         "A",
         "A1",
         1800,
         1800
        ],
        [
         "2023-12-02",
         "B",
         "B1",
         900,
         900
        ],
        [
         "2023-12-10",
         "A",
         "A1",
         1200,
         2600
        ],
        [
         "2023-12-10",
         "A",
         "A1",
         1400,
         2600
        ],
        [
         "2023-12-10",
         "C",
         "C1",
         2500,
         2500
        ]
       ],
       "datasetInfos": [],
       "dbfsResultPath": null,
       "isJsonSchema": true,
       "metadata": {},
       "overflow": false,
       "plotOptions": {
        "customPlotOptions": {},
        "displayType": "table",
        "pivotAggregation": null,
        "pivotColumns": null,
        "xColumns": null,
        "yColumns": null
       },
       "removedWidgets": [],
       "schema": [
        {
         "metadata": "{}",
         "name": "dt",
         "type": "\"date\""
        },
        {
         "metadata": "{}",
         "name": "brand",
         "type": "\"string\""
        },
        {
         "metadata": "{}",
         "name": "model",
         "type": "\"string\""
        },
        {
         "metadata": "{}",
         "name": "production_cost",
         "type": "\"integer\""
        },
        {
         "metadata": "{}",
         "name": "sum_cost",
         "type": "\"long\""
        }
       ],
       "type": "table"
      }
     },
     "output_type": "display_data"
    }
   ],
   "source": [
    "%sql\n",
    "select\n",
    "  *,\n",
    "  sum(production_cost) over (\n",
    "    partition by dt,\n",
    "    brand\n",
    "    order by\n",
    "      production_cost rows between unbounded preceding\n",
    "      and unbounded following\n",
    "  ) as sum_cost\n",
    "from\n",
    "  prd_tbl"
   ]
  },
  {
   "cell_type": "code",
   "execution_count": 0,
   "metadata": {
    "application/vnd.databricks.v1+cell": {
     "cellMetadata": {
      "byteLimit": 2048000,
      "rowLimit": 10000
     },
     "inputWidgets": {},
     "nuid": "2a072968-d506-4e6f-afed-949e2c237340",
     "showTitle": false,
     "title": ""
    }
   },
   "outputs": [
    {
     "output_type": "display_data",
     "data": {
      "text/html": [
       "<style scoped>\n",
       "  .table-result-container {\n",
       "    max-height: 300px;\n",
       "    overflow: auto;\n",
       "  }\n",
       "  table, th, td {\n",
       "    border: 1px solid black;\n",
       "    border-collapse: collapse;\n",
       "  }\n",
       "  th, td {\n",
       "    padding: 5px;\n",
       "  }\n",
       "  th {\n",
       "    text-align: left;\n",
       "  }\n",
       "</style><div class='table-result-container'><table class='table-result'><thead style='background-color: white'><tr><th>dt</th><th>brand</th><th>model</th><th>production_cost</th><th>sum_cost</th></tr></thead><tbody><tr><td>2023-12-01</td><td>A</td><td>A1</td><td>1000</td><td>2300</td></tr><tr><td>2023-12-01</td><td>A</td><td>A2</td><td>1300</td><td>2300</td></tr><tr><td>2023-12-01</td><td>B</td><td>B1</td><td>800</td><td>800</td></tr><tr><td>2023-12-02</td><td>A</td><td>A1</td><td>1800</td><td>1800</td></tr><tr><td>2023-12-02</td><td>B</td><td>B1</td><td>900</td><td>900</td></tr><tr><td>2023-12-10</td><td>A</td><td>A1</td><td>1200</td><td>2600</td></tr><tr><td>2023-12-10</td><td>A</td><td>A1</td><td>1400</td><td>2600</td></tr><tr><td>2023-12-10</td><td>C</td><td>C1</td><td>2500</td><td>2500</td></tr></tbody></table></div>"
      ]
     },
     "metadata": {
      "application/vnd.databricks.v1+output": {
       "addedWidgets": {},
       "aggData": [],
       "aggError": "",
       "aggOverflow": false,
       "aggSchema": [],
       "aggSeriesLimitReached": false,
       "aggType": "",
       "arguments": {},
       "columnCustomDisplayInfos": {},
       "data": [
        [
         "2023-12-01",
         "A",
         "A1",
         1000,
         2300
        ],
        [
         "2023-12-01",
         "A",
         "A2",
         1300,
         2300
        ],
        [
         "2023-12-01",
         "B",
         "B1",
         800,
         800
        ],
        [
         "2023-12-02",
         "A",
         "A1",
         1800,
         1800
        ],
        [
         "2023-12-02",
         "B",
         "B1",
         900,
         900
        ],
        [
         "2023-12-10",
         "A",
         "A1",
         1200,
         2600
        ],
        [
         "2023-12-10",
         "A",
         "A1",
         1400,
         2600
        ],
        [
         "2023-12-10",
         "C",
         "C1",
         2500,
         2500
        ]
       ],
       "datasetInfos": [],
       "dbfsResultPath": null,
       "isJsonSchema": true,
       "metadata": {},
       "overflow": false,
       "plotOptions": {
        "customPlotOptions": {},
        "displayType": "table",
        "pivotAggregation": null,
        "pivotColumns": null,
        "xColumns": null,
        "yColumns": null
       },
       "removedWidgets": [],
       "schema": [
        {
         "metadata": "{}",
         "name": "dt",
         "type": "\"date\""
        },
        {
         "metadata": "{}",
         "name": "brand",
         "type": "\"string\""
        },
        {
         "metadata": "{}",
         "name": "model",
         "type": "\"string\""
        },
        {
         "metadata": "{}",
         "name": "production_cost",
         "type": "\"integer\""
        },
        {
         "metadata": "{}",
         "name": "sum_cost",
         "type": "\"long\""
        }
       ],
       "type": "table"
      }
     },
     "output_type": "display_data"
    }
   ],
   "source": [
    "from pyspark.sql.window import Window\n",
    "from pyspark.sql.functions import sum\n",
    "\n",
    "# Define the window specification\n",
    "window_spec = Window.partitionBy(\"dt\", \"brand\").orderBy(\"production_cost\").rowsBetween(Window.unboundedPreceding, Window.unboundedFollowing)\n",
    "\n",
    "# Calculate the sum of production_cost over the window\n",
    "df_with_sum_cost = df.withColumn(\"sum_cost\", sum(\"production_cost\").over(window_spec))\n",
    "\n",
    "# Show the result\n",
    "df_with_sum_cost.display()\n"
   ]
  },
  {
   "cell_type": "markdown",
   "metadata": {
    "application/vnd.databricks.v1+cell": {
     "cellMetadata": {},
     "inputWidgets": {},
     "nuid": "d64bc616-9454-495f-ab6b-9200385b0268",
     "showTitle": false,
     "title": ""
    }
   },
   "source": [
    "Explanation:\n",
    "\n",
    "Window.partitionBy(\"dt\", \"brand\"): This creates partitions based on the dt and brand columns, similar to PARTITION BY dt, brand in SQL.\n",
    "\n",
    "orderBy(\"production_cost\"): This orders the rows within each partition by production_cost.\n",
    "\n",
    "rowsBetween(Window.unboundedPreceding, Window.unboundedFollowing): This specifies that the sum should be calculated over all rows within the partition (equivalent to ROWS BETWEEN UNBOUNDED PRECEDING AND UNBOUNDED FOLLOWING in SQL).\n",
    "\n",
    "sum(\"production_cost\").over(window_spec): This computes the sum of production_cost over the defined window.\n",
    "\n",
    "This code calculates the rolling sum of production_cost for each dt and brand group, ordered by production_cost, and adds the result as a new column called sum_cost."
   ]
  }
 ],
 "metadata": {
  "application/vnd.databricks.v1+notebook": {
   "dashboards": [],
   "environmentMetadata": null,
   "language": "python",
   "notebookMetadata": {
    "mostRecentlyExecutedCommandWithImplicitDF": {
     "commandId": 1644403002130116,
     "dataframes": [
      "_sqldf"
     ]
    },
    "pythonIndentUnit": 4
   },
   "notebookName": "Capgemini SQL Interview Question - Find aggregated cost of product",
   "widgets": {}
  }
 },
 "nbformat": 4,
 "nbformat_minor": 0
}
