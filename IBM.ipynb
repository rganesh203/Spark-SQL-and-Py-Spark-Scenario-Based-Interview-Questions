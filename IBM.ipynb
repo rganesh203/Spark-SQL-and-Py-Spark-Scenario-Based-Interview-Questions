{
 "cells": [
  {
   "cell_type": "markdown",
   "metadata": {
    "application/vnd.databricks.v1+cell": {
     "cellMetadata": {},
     "inputWidgets": {},
     "nuid": "abea8c9d-6074-4fd8-aa23-82daa1761e93",
     "showTitle": false,
     "tableResultSettingsMap": {},
     "title": ""
    }
   },
   "source": [
    "Problem Statement:\n",
    "We have two datasets:\n",
    "\n",
    "Tickets Table (ticket_df):\n",
    "\n",
    "Contains records of support tickets with their issue and resolution dates.\n",
    "\n",
    "Contains a list of holidays that fall within the ticket issue and resolution dates.\n",
    "\n",
    "The goal is to calculate the final working days required to resolve each ticket. The calculation considers the following:\n",
    "\n",
    "Exclude weekends (Saturday and Sunday) from the total days between issue_date and resolve_date.\n",
    "\n",
    "Subtract any holidays listed in the holiday_df that fall between the issue_date and resolve_date."
   ]
  },
  {
   "cell_type": "code",
   "execution_count": 0,
   "metadata": {
    "application/vnd.databricks.v1+cell": {
     "cellMetadata": {
      "byteLimit": 2048000,
      "rowLimit": 10000
     },
     "inputWidgets": {},
     "nuid": "fa7a6dbb-f08a-4cbf-96d4-373edf2de135",
     "showTitle": false,
     "tableResultSettingsMap": {},
     "title": ""
    }
   },
   "outputs": [
    {
     "output_type": "display_data",
     "data": {
      "text/html": [
       "<style scoped>\n",
       "  .table-result-container {\n",
       "    max-height: 300px;\n",
       "    overflow: auto;\n",
       "  }\n",
       "  table, th, td {\n",
       "    border: 1px solid black;\n",
       "    border-collapse: collapse;\n",
       "  }\n",
       "  th, td {\n",
       "    padding: 5px;\n",
       "  }\n",
       "  th {\n",
       "    text-align: left;\n",
       "  }\n",
       "</style><div class='table-result-container'><table class='table-result'><thead style='background-color: white'><tr><th>ticket_id</th><th>issue_date</th><th>resolve_date</th></tr></thead><tbody><tr><td>1</td><td>2024-12-18</td><td>2025-01-07</td></tr><tr><td>2</td><td>2024-12-20</td><td>2025-01-10</td></tr><tr><td>3</td><td>2024-12-22</td><td>2025-01-11</td></tr><tr><td>4</td><td>2025-01-02</td><td>2025-01-13</td></tr></tbody></table></div>"
      ]
     },
     "metadata": {
      "application/vnd.databricks.v1+output": {
       "addedWidgets": {},
       "aggData": [],
       "aggError": "",
       "aggOverflow": false,
       "aggSchema": [],
       "aggSeriesLimitReached": false,
       "aggType": "",
       "arguments": {},
       "columnCustomDisplayInfos": {},
       "data": [
        [
         1,
         "2024-12-18",
         "2025-01-07"
        ],
        [
         2,
         "2024-12-20",
         "2025-01-10"
        ],
        [
         3,
         "2024-12-22",
         "2025-01-11"
        ],
        [
         4,
         "2025-01-02",
         "2025-01-13"
        ]
       ],
       "datasetInfos": [],
       "dbfsResultPath": null,
       "isJsonSchema": true,
       "metadata": {},
       "overflow": false,
       "plotOptions": {
        "customPlotOptions": {},
        "displayType": "table",
        "pivotAggregation": null,
        "pivotColumns": null,
        "xColumns": null,
        "yColumns": null
       },
       "removedWidgets": [],
       "schema": [
        {
         "metadata": "{}",
         "name": "ticket_id",
         "type": "\"integer\""
        },
        {
         "metadata": "{}",
         "name": "issue_date",
         "type": "\"date\""
        },
        {
         "metadata": "{}",
         "name": "resolve_date",
         "type": "\"date\""
        }
       ],
       "type": "table"
      }
     },
     "output_type": "display_data"
    },
    {
     "output_type": "display_data",
     "data": {
      "text/html": [
       "<style scoped>\n",
       "  .table-result-container {\n",
       "    max-height: 300px;\n",
       "    overflow: auto;\n",
       "  }\n",
       "  table, th, td {\n",
       "    border: 1px solid black;\n",
       "    border-collapse: collapse;\n",
       "  }\n",
       "  th, td {\n",
       "    padding: 5px;\n",
       "  }\n",
       "  th {\n",
       "    text-align: left;\n",
       "  }\n",
       "</style><div class='table-result-container'><table class='table-result'><thead style='background-color: white'><tr><th>holiday_date</th><th>occasion</th></tr></thead><tbody><tr><td>2024-12-25</td><td>christmas</td></tr><tr><td>2025-01-01</td><td>new_year</td></tr></tbody></table></div>"
      ]
     },
     "metadata": {
      "application/vnd.databricks.v1+output": {
       "addedWidgets": {},
       "aggData": [],
       "aggError": "",
       "aggOverflow": false,
       "aggSchema": [],
       "aggSeriesLimitReached": false,
       "aggType": "",
       "arguments": {},
       "columnCustomDisplayInfos": {},
       "data": [
        [
         "2024-12-25",
         "christmas"
        ],
        [
         "2025-01-01",
         "new_year"
        ]
       ],
       "datasetInfos": [],
       "dbfsResultPath": null,
       "isJsonSchema": true,
       "metadata": {},
       "overflow": false,
       "plotOptions": {
        "customPlotOptions": {},
        "displayType": "table",
        "pivotAggregation": null,
        "pivotColumns": null,
        "xColumns": null,
        "yColumns": null
       },
       "removedWidgets": [],
       "schema": [
        {
         "metadata": "{}",
         "name": "holiday_date",
         "type": "\"date\""
        },
        {
         "metadata": "{}",
         "name": "occasion",
         "type": "\"string\""
        }
       ],
       "type": "table"
      }
     },
     "output_type": "display_data"
    }
   ],
   "source": [
    "from pyspark.sql.types import *\n",
    "from datetime import date\n",
    "\n",
    "# Define schema for ticket table\n",
    "ticket_schema = StructType(\n",
    "    [\n",
    "        StructField(\"ticket_id\", IntegerType(), True),\n",
    "        StructField(\"issue_date\", DateType(), True),\n",
    "        StructField(\"resolve_date\", DateType(), True),\n",
    "    ]\n",
    ")\n",
    "\n",
    "# Define schema for holiday_cal table\n",
    "holiday_schema = StructType(\n",
    "    [\n",
    "        StructField(\"holiday_date\", DateType(), True),\n",
    "        StructField(\"occasion\", StringType(), True),\n",
    "    ]\n",
    ")\n",
    "\n",
    "# Data for ticket table\n",
    "ticket_data = [\n",
    "    (1, date(2024, 12, 18), date(2025, 1, 7)),\n",
    "    (2, date(2024, 12, 20), date(2025, 1, 10)),\n",
    "    (3, date(2024, 12, 22), date(2025, 1, 11)),\n",
    "    (4, date(2025, 1, 2), date(2025, 1, 13)),\n",
    "]\n",
    "\n",
    "# Data for holiday_cal table\n",
    "holiday_data = [(date(2024, 12, 25), \"christmas\"), (date(2025, 1, 1), \"new_year\")]\n",
    "\n",
    "# Create DataFrames\n",
    "ticket_df = spark.createDataFrame(ticket_data, schema=ticket_schema)\n",
    "holiday_df = spark.createDataFrame(holiday_data, schema=holiday_schema)\n",
    "\n",
    "# Show the DataFrames\n",
    "ticket_df.display()\n",
    "holiday_df.display()"
   ]
  },
  {
   "cell_type": "code",
   "execution_count": 0,
   "metadata": {
    "application/vnd.databricks.v1+cell": {
     "cellMetadata": {
      "byteLimit": 2048000,
      "rowLimit": 10000
     },
     "inputWidgets": {},
     "nuid": "287fdc85-cfb9-49a1-9b29-a2c553142726",
     "showTitle": false,
     "tableResultSettingsMap": {},
     "title": ""
    }
   },
   "outputs": [
    {
     "output_type": "display_data",
     "data": {
      "text/html": [
       "<style scoped>\n",
       "  .table-result-container {\n",
       "    max-height: 300px;\n",
       "    overflow: auto;\n",
       "  }\n",
       "  table, th, td {\n",
       "    border: 1px solid black;\n",
       "    border-collapse: collapse;\n",
       "  }\n",
       "  th, td {\n",
       "    padding: 5px;\n",
       "  }\n",
       "  th {\n",
       "    text-align: left;\n",
       "  }\n",
       "</style><div class='table-result-container'><table class='table-result'><thead style='background-color: white'><tr><th>ticket_id</th><th>issue_date</th><th>resolve_date</th></tr></thead><tbody><tr><td>1</td><td>2024-12-18</td><td>2025-01-07</td></tr><tr><td>2</td><td>2024-12-20</td><td>2025-01-10</td></tr><tr><td>3</td><td>2024-12-22</td><td>2025-01-11</td></tr><tr><td>4</td><td>2025-01-02</td><td>2025-01-13</td></tr></tbody></table></div>"
      ]
     },
     "metadata": {
      "application/vnd.databricks.v1+output": {
       "addedWidgets": {},
       "aggData": [],
       "aggError": "",
       "aggOverflow": false,
       "aggSchema": [],
       "aggSeriesLimitReached": false,
       "aggType": "",
       "arguments": {},
       "columnCustomDisplayInfos": {},
       "data": [
        [
         1,
         "2024-12-18",
         "2025-01-07"
        ],
        [
         2,
         "2024-12-20",
         "2025-01-10"
        ],
        [
         3,
         "2024-12-22",
         "2025-01-11"
        ],
        [
         4,
         "2025-01-02",
         "2025-01-13"
        ]
       ],
       "datasetInfos": [],
       "dbfsResultPath": null,
       "isJsonSchema": true,
       "metadata": {},
       "overflow": false,
       "plotOptions": {
        "customPlotOptions": {},
        "displayType": "table",
        "pivotAggregation": null,
        "pivotColumns": null,
        "xColumns": null,
        "yColumns": null
       },
       "removedWidgets": [],
       "schema": [
        {
         "metadata": "{}",
         "name": "ticket_id",
         "type": "\"integer\""
        },
        {
         "metadata": "{}",
         "name": "issue_date",
         "type": "\"date\""
        },
        {
         "metadata": "{}",
         "name": "resolve_date",
         "type": "\"date\""
        }
       ],
       "type": "table"
      }
     },
     "output_type": "display_data"
    },
    {
     "output_type": "display_data",
     "data": {
      "text/html": [
       "<style scoped>\n",
       "  .table-result-container {\n",
       "    max-height: 300px;\n",
       "    overflow: auto;\n",
       "  }\n",
       "  table, th, td {\n",
       "    border: 1px solid black;\n",
       "    border-collapse: collapse;\n",
       "  }\n",
       "  th, td {\n",
       "    padding: 5px;\n",
       "  }\n",
       "  th {\n",
       "    text-align: left;\n",
       "  }\n",
       "</style><div class='table-result-container'><table class='table-result'><thead style='background-color: white'><tr><th>holiday_date</th><th>occasion</th></tr></thead><tbody><tr><td>2024-12-25</td><td>christmas</td></tr><tr><td>2025-01-01</td><td>new_year</td></tr></tbody></table></div>"
      ]
     },
     "metadata": {
      "application/vnd.databricks.v1+output": {
       "addedWidgets": {},
       "aggData": [],
       "aggError": "",
       "aggOverflow": false,
       "aggSchema": [],
       "aggSeriesLimitReached": false,
       "aggType": "",
       "arguments": {},
       "columnCustomDisplayInfos": {},
       "data": [
        [
         "2024-12-25",
         "christmas"
        ],
        [
         "2025-01-01",
         "new_year"
        ]
       ],
       "datasetInfos": [],
       "dbfsResultPath": null,
       "isJsonSchema": true,
       "metadata": {},
       "overflow": false,
       "plotOptions": {
        "customPlotOptions": {},
        "displayType": "table",
        "pivotAggregation": null,
        "pivotColumns": null,
        "xColumns": null,
        "yColumns": null
       },
       "removedWidgets": [],
       "schema": [
        {
         "metadata": "{}",
         "name": "holiday_date",
         "type": "\"date\""
        },
        {
         "metadata": "{}",
         "name": "occasion",
         "type": "\"string\""
        }
       ],
       "type": "table"
      }
     },
     "output_type": "display_data"
    }
   ],
   "source": [
    "# Register DataFrames as temporary views\n",
    "ticket_df.createOrReplaceTempView(\"ticket\")\n",
    "holiday_df.createOrReplaceTempView(\"holiday_cal\")\n",
    "\n",
    "# Query the DataFrames using Spark SQL (if needed)\n",
    "queried_ticket_df = spark.sql(\"SELECT * FROM ticket\")\n",
    "queried_holiday_df = spark.sql(\"SELECT * FROM holiday_cal\")\n",
    "\n",
    "# Show the DataFrames\n",
    "queried_ticket_df.display()\n",
    "queried_holiday_df.display()"
   ]
  },
  {
   "cell_type": "code",
   "execution_count": 0,
   "metadata": {
    "application/vnd.databricks.v1+cell": {
     "cellMetadata": {
      "byteLimit": 2048000,
      "rowLimit": 10000
     },
     "inputWidgets": {},
     "nuid": "0f3208ba-8ba7-44b1-b131-7afae6c5d4b8",
     "showTitle": false,
     "tableResultSettingsMap": {},
     "title": ""
    }
   },
   "outputs": [
    {
     "output_type": "display_data",
     "data": {
      "text/html": [
       "<style scoped>\n",
       "  .table-result-container {\n",
       "    max-height: 300px;\n",
       "    overflow: auto;\n",
       "  }\n",
       "  table, th, td {\n",
       "    border: 1px solid black;\n",
       "    border-collapse: collapse;\n",
       "  }\n",
       "  th, td {\n",
       "    padding: 5px;\n",
       "  }\n",
       "  th {\n",
       "    text-align: left;\n",
       "  }\n",
       "</style><div class='table-result-container'><table class='table-result'><thead style='background-color: white'><tr><th>ticket_id</th><th>issue_date</th><th>resolve_date</th><th>final_working_days</th></tr></thead><tbody><tr><td>1</td><td>2024-12-18</td><td>2025-01-07</td><td>14</td></tr><tr><td>2</td><td>2024-12-20</td><td>2025-01-10</td><td>13</td></tr><tr><td>3</td><td>2024-12-22</td><td>2025-01-11</td><td>14</td></tr><tr><td>4</td><td>2025-01-02</td><td>2025-01-13</td><td>9</td></tr></tbody></table></div>"
      ]
     },
     "metadata": {
      "application/vnd.databricks.v1+output": {
       "addedWidgets": {},
       "aggData": [],
       "aggError": "",
       "aggOverflow": false,
       "aggSchema": [],
       "aggSeriesLimitReached": false,
       "aggType": "",
       "arguments": {},
       "columnCustomDisplayInfos": {},
       "data": [
        [
         1,
         "2024-12-18",
         "2025-01-07",
         14
        ],
        [
         2,
         "2024-12-20",
         "2025-01-10",
         13
        ],
        [
         3,
         "2024-12-22",
         "2025-01-11",
         14
        ],
        [
         4,
         "2025-01-02",
         "2025-01-13",
         9
        ]
       ],
       "datasetInfos": [],
       "dbfsResultPath": null,
       "isJsonSchema": true,
       "metadata": {},
       "overflow": false,
       "plotOptions": {
        "customPlotOptions": {},
        "displayType": "table",
        "pivotAggregation": null,
        "pivotColumns": null,
        "xColumns": null,
        "yColumns": null
       },
       "removedWidgets": [],
       "schema": [
        {
         "metadata": "{}",
         "name": "ticket_id",
         "type": "\"integer\""
        },
        {
         "metadata": "{}",
         "name": "issue_date",
         "type": "\"date\""
        },
        {
         "metadata": "{}",
         "name": "resolve_date",
         "type": "\"date\""
        },
        {
         "metadata": "{}",
         "name": "final_working_days",
         "type": "\"long\""
        }
       ],
       "type": "table"
      }
     },
     "output_type": "display_data"
    }
   ],
   "source": [
    "from pyspark.sql import functions as F\n",
    "from pyspark.sql import Window\n",
    "\n",
    "# Step 1: Create ticket_cte with `actual_days`\n",
    "ticket_cte = ticket_df.withColumn(\n",
    "    \"actual_days\",\n",
    "    F.datediff(F.col(\"resolve_date\"), F.col(\"issue_date\")) -\n",
    "    (F.floor(F.datediff(F.col(\"resolve_date\"), F.col(\"issue_date\")) / 7) * 2)\n",
    ")\n",
    "\n",
    "# Step 2: Perform the left join with holiday_cal\n",
    "joined_df = ticket_cte.join(\n",
    "    holiday_df,\n",
    "    (holiday_df[\"holiday_date\"] >= ticket_cte[\"issue_date\"]) &\n",
    "    (holiday_df[\"holiday_date\"] <= ticket_cte[\"resolve_date\"]),\n",
    "    \"left\"\n",
    ")\n",
    "\n",
    "# Step 3: Group by ticket_id and calculate `final_working_days`\n",
    "result_df = joined_df.groupBy(\n",
    "    \"ticket_id\", \"issue_date\", \"resolve_date\", \"actual_days\"\n",
    ").agg(\n",
    "    (F.col(\"actual_days\") - F.count(\"occasion\")).alias(\"final_working_days\")\n",
    ")\n",
    "\n",
    "# Show the final result\n",
    "result_df.select(\"ticket_id\", \"issue_date\", \"resolve_date\", \"final_working_days\").display()"
   ]
  },
  {
   "cell_type": "code",
   "execution_count": 0,
   "metadata": {
    "application/vnd.databricks.v1+cell": {
     "cellMetadata": {
      "byteLimit": 2048000,
      "implicitDf": true,
      "rowLimit": 10000
     },
     "inputWidgets": {},
     "nuid": "ebe8840a-c63f-4895-a811-93e7792bf3ab",
     "showTitle": false,
     "tableResultSettingsMap": {},
     "title": ""
    }
   },
   "outputs": [
    {
     "output_type": "display_data",
     "data": {
      "text/html": [
       "<style scoped>\n",
       "  .table-result-container {\n",
       "    max-height: 300px;\n",
       "    overflow: auto;\n",
       "  }\n",
       "  table, th, td {\n",
       "    border: 1px solid black;\n",
       "    border-collapse: collapse;\n",
       "  }\n",
       "  th, td {\n",
       "    padding: 5px;\n",
       "  }\n",
       "  th {\n",
       "    text-align: left;\n",
       "  }\n",
       "</style><div class='table-result-container'><table class='table-result'><thead style='background-color: white'><tr><th>ticket_id</th><th>issue_date</th><th>resolve_date</th><th>final_working_days</th></tr></thead><tbody><tr><td>1</td><td>2024-12-18</td><td>2025-01-07</td><td>14</td></tr><tr><td>2</td><td>2024-12-20</td><td>2025-01-10</td><td>13</td></tr><tr><td>3</td><td>2024-12-22</td><td>2025-01-11</td><td>14</td></tr><tr><td>4</td><td>2025-01-02</td><td>2025-01-13</td><td>9</td></tr></tbody></table></div>"
      ]
     },
     "metadata": {
      "application/vnd.databricks.v1+output": {
       "addedWidgets": {},
       "aggData": [],
       "aggError": "",
       "aggOverflow": false,
       "aggSchema": [],
       "aggSeriesLimitReached": false,
       "aggType": "",
       "arguments": {},
       "columnCustomDisplayInfos": {},
       "data": [
        [
         1,
         "2024-12-18",
         "2025-01-07",
         14
        ],
        [
         2,
         "2024-12-20",
         "2025-01-10",
         13
        ],
        [
         3,
         "2024-12-22",
         "2025-01-11",
         14
        ],
        [
         4,
         "2025-01-02",
         "2025-01-13",
         9
        ]
       ],
       "datasetInfos": [],
       "dbfsResultPath": null,
       "isJsonSchema": true,
       "metadata": {},
       "overflow": false,
       "plotOptions": {
        "customPlotOptions": {},
        "displayType": "table",
        "pivotAggregation": null,
        "pivotColumns": null,
        "xColumns": null,
        "yColumns": null
       },
       "removedWidgets": [],
       "schema": [
        {
         "metadata": "{}",
         "name": "ticket_id",
         "type": "\"integer\""
        },
        {
         "metadata": "{}",
         "name": "issue_date",
         "type": "\"date\""
        },
        {
         "metadata": "{}",
         "name": "resolve_date",
         "type": "\"date\""
        },
        {
         "metadata": "{}",
         "name": "final_working_days",
         "type": "\"long\""
        }
       ],
       "type": "table"
      }
     },
     "output_type": "display_data"
    }
   ],
   "source": [
    "%sql\n",
    "WITH ticket_cte AS (\n",
    "  SELECT\n",
    "    *,\n",
    "    DATEDIFF(resolve_date, issue_date) - FLOOR(DATEDIFF(resolve_date, issue_date) / 7) * 2 AS actual_days\n",
    "  FROM ticket\n",
    ")\n",
    "SELECT\n",
    "  tc.ticket_id,\n",
    "  tc.issue_date,\n",
    "  tc.resolve_date,\n",
    "  tc.actual_days - COUNT(hc.occasion) AS final_working_days\n",
    "FROM ticket_cte AS tc\n",
    "LEFT JOIN holiday_cal AS hc\n",
    "  ON hc.holiday_date BETWEEN tc.issue_date AND tc.resolve_date\n",
    "GROUP BY\n",
    "  tc.ticket_id,\n",
    "  tc.issue_date,\n",
    "  tc.resolve_date,\n",
    "  tc.actual_days"
   ]
  },
  {
   "cell_type": "markdown",
   "metadata": {
    "application/vnd.databricks.v1+cell": {
     "cellMetadata": {},
     "inputWidgets": {},
     "nuid": "e3103819-1d3f-4be1-bc4e-2d54f589b7e1",
     "showTitle": false,
     "tableResultSettingsMap": {},
     "title": ""
    }
   },
   "source": [
    "Explanation:\n",
    "    \n",
    "Step 1: Compute actual_days:\n",
    "\n",
    "Subtract weekends from the total days between issue_date and resolve_date using F.datediff and F.floor.\n",
    "\n",
    "Step 2: Left join with holiday_cal:\n",
    "\n",
    "Match rows where the holiday_date falls between the issue_date and resolve_date.\n",
    "\n",
    "Step 3: Group by the ticket details:\n",
    "\n",
    "Aggregate to calculate final_working_days by subtracting the count of holidays from actual_days.\n",
    "\n",
    "Step 4: Select only the required columns:\n",
    "\n",
    "Filter out unwanted columns (actual_days and others).\n",
    "\n",
    "Step 5: Display the result."
   ]
  }
 ],
 "metadata": {
  "application/vnd.databricks.v1+notebook": {
   "computePreferences": null,
   "dashboards": [],
   "environmentMetadata": null,
   "language": "python",
   "notebookMetadata": {
    "mostRecentlyExecutedCommandWithImplicitDF": {
     "commandId": 1208330743948306,
     "dataframes": [
      "_sqldf"
     ]
    },
    "pythonIndentUnit": 4
   },
   "notebookName": "IBM",
   "widgets": {}
  }
 },
 "nbformat": 4,
 "nbformat_minor": 0
}
