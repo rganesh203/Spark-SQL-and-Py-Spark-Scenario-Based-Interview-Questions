{
 "cells": [
  {
   "cell_type": "markdown",
   "metadata": {
    "application/vnd.databricks.v1+cell": {
     "cellMetadata": {},
     "inputWidgets": {},
     "nuid": "ddfaeac6-bd36-4691-82e4-944f0dcc82dc",
     "showTitle": false,
     "title": ""
    }
   },
   "source": [
    "The problem statement is as follows:\n",
    "\n",
    "Here are working with two tables, polls and poll_answers, which contain information about poll responses and the correct answer for each poll, respectively. The goal is to calculate the winnings for users who selected the correct poll option, where the total winnings are derived based on the sum of amounts from incorrect answers.\n",
    "\n",
    "polls Table:\n",
    "\n",
    "Contains information about individual responses to various polls.\n",
    "Columns:\n",
    "user_id: The ID of the user who participated in the poll.\n",
    "poll_id: The ID of the poll.\n",
    "poll_option_id: The option chosen by the user.\n",
    "amount: The amount wagered by the user.\n",
    "created_date: The date when the poll response was submitted.\n",
    "poll_answers Table:\n",
    "\n",
    "Contains the correct option for each poll.\n",
    "Columns:\n",
    "poll_id: The ID of the poll.\n",
    "correct_option_id: The correct option for the poll."
   ]
  },
  {
   "cell_type": "code",
   "execution_count": 0,
   "metadata": {
    "application/vnd.databricks.v1+cell": {
     "cellMetadata": {
      "byteLimit": 2048000,
      "rowLimit": 10000
     },
     "inputWidgets": {},
     "nuid": "dd10544c-57e6-4046-9a36-4325a1538bd9",
     "showTitle": false,
     "title": ""
    }
   },
   "outputs": [],
   "source": [
    "from datetime import datetime\n",
    "from pyspark.sql.types import StructType, StructField, StringType, IntegerType, DateType\n"
   ]
  },
  {
   "cell_type": "code",
   "execution_count": 0,
   "metadata": {
    "application/vnd.databricks.v1+cell": {
     "cellMetadata": {
      "byteLimit": 2048000,
      "rowLimit": 10000
     },
     "inputWidgets": {},
     "nuid": "f5421aae-6570-4cc9-87a1-9b26a9dcd3b6",
     "showTitle": false,
     "title": ""
    }
   },
   "outputs": [
    {
     "output_type": "display_data",
     "data": {
      "text/html": [
       "<style scoped>\n",
       "  .table-result-container {\n",
       "    max-height: 300px;\n",
       "    overflow: auto;\n",
       "  }\n",
       "  table, th, td {\n",
       "    border: 1px solid black;\n",
       "    border-collapse: collapse;\n",
       "  }\n",
       "  th, td {\n",
       "    padding: 5px;\n",
       "  }\n",
       "  th {\n",
       "    text-align: left;\n",
       "  }\n",
       "</style><div class='table-result-container'><table class='table-result'><thead style='background-color: white'><tr><th>user_id</th><th>poll_id</th><th>poll_option_id</th><th>amount</th><th>created_date</th></tr></thead><tbody><tr><td>id1</td><td>p1</td><td>A</td><td>200</td><td>2021-12-01</td></tr><tr><td>id2</td><td>p1</td><td>C</td><td>250</td><td>2021-12-01</td></tr><tr><td>id3</td><td>p1</td><td>A</td><td>200</td><td>2021-12-01</td></tr><tr><td>id4</td><td>p1</td><td>B</td><td>500</td><td>2021-12-01</td></tr><tr><td>id5</td><td>p1</td><td>C</td><td>50</td><td>2021-12-01</td></tr><tr><td>id6</td><td>p1</td><td>D</td><td>500</td><td>2021-12-01</td></tr><tr><td>id7</td><td>p1</td><td>C</td><td>200</td><td>2021-12-01</td></tr><tr><td>id8</td><td>p1</td><td>A</td><td>100</td><td>2021-12-01</td></tr><tr><td>id9</td><td>p2</td><td>A</td><td>300</td><td>2023-01-10</td></tr><tr><td>id10</td><td>p2</td><td>C</td><td>400</td><td>2023-01-11</td></tr><tr><td>id11</td><td>p2</td><td>B</td><td>250</td><td>2023-01-12</td></tr><tr><td>id12</td><td>p2</td><td>D</td><td>600</td><td>2023-01-13</td></tr><tr><td>id13</td><td>p2</td><td>C</td><td>150</td><td>2023-01-14</td></tr><tr><td>id14</td><td>p2</td><td>A</td><td>100</td><td>2023-01-15</td></tr><tr><td>id15</td><td>p2</td><td>C</td><td>200</td><td>2023-01-16</td></tr></tbody></table></div>"
      ]
     },
     "metadata": {
      "application/vnd.databricks.v1+output": {
       "addedWidgets": {},
       "aggData": [],
       "aggError": "",
       "aggOverflow": false,
       "aggSchema": [],
       "aggSeriesLimitReached": false,
       "aggType": "",
       "arguments": {},
       "columnCustomDisplayInfos": {},
       "data": [
        [
         "id1",
         "p1",
         "A",
         200,
         "2021-12-01"
        ],
        [
         "id2",
         "p1",
         "C",
         250,
         "2021-12-01"
        ],
        [
         "id3",
         "p1",
         "A",
         200,
         "2021-12-01"
        ],
        [
         "id4",
         "p1",
         "B",
         500,
         "2021-12-01"
        ],
        [
         "id5",
         "p1",
         "C",
         50,
         "2021-12-01"
        ],
        [
         "id6",
         "p1",
         "D",
         500,
         "2021-12-01"
        ],
        [
         "id7",
         "p1",
         "C",
         200,
         "2021-12-01"
        ],
        [
         "id8",
         "p1",
         "A",
         100,
         "2021-12-01"
        ],
        [
         "id9",
         "p2",
         "A",
         300,
         "2023-01-10"
        ],
        [
         "id10",
         "p2",
         "C",
         400,
         "2023-01-11"
        ],
        [
         "id11",
         "p2",
         "B",
         250,
         "2023-01-12"
        ],
        [
         "id12",
         "p2",
         "D",
         600,
         "2023-01-13"
        ],
        [
         "id13",
         "p2",
         "C",
         150,
         "2023-01-14"
        ],
        [
         "id14",
         "p2",
         "A",
         100,
         "2023-01-15"
        ],
        [
         "id15",
         "p2",
         "C",
         200,
         "2023-01-16"
        ]
       ],
       "datasetInfos": [],
       "dbfsResultPath": null,
       "isJsonSchema": true,
       "metadata": {},
       "overflow": false,
       "plotOptions": {
        "customPlotOptions": {},
        "displayType": "table",
        "pivotAggregation": null,
        "pivotColumns": null,
        "xColumns": null,
        "yColumns": null
       },
       "removedWidgets": [],
       "schema": [
        {
         "metadata": "{}",
         "name": "user_id",
         "type": "\"string\""
        },
        {
         "metadata": "{}",
         "name": "poll_id",
         "type": "\"string\""
        },
        {
         "metadata": "{}",
         "name": "poll_option_id",
         "type": "\"string\""
        },
        {
         "metadata": "{}",
         "name": "amount",
         "type": "\"integer\""
        },
        {
         "metadata": "{}",
         "name": "created_date",
         "type": "\"date\""
        }
       ],
       "type": "table"
      }
     },
     "output_type": "display_data"
    }
   ],
   "source": [
    "# Sample data for the polls DataFrame with proper date conversion\n",
    "polls_data = [\n",
    "    ('id1', 'p1', 'A', 200, datetime.strptime('2021-12-01', '%Y-%m-%d').date()),\n",
    "    ('id2', 'p1', 'C', 250, datetime.strptime('2021-12-01', '%Y-%m-%d').date()),\n",
    "    ('id3', 'p1', 'A', 200, datetime.strptime('2021-12-01', '%Y-%m-%d').date()),\n",
    "    ('id4', 'p1', 'B', 500, datetime.strptime('2021-12-01', '%Y-%m-%d').date()),\n",
    "    ('id5', 'p1', 'C', 50, datetime.strptime('2021-12-01', '%Y-%m-%d').date()),\n",
    "    ('id6', 'p1', 'D', 500, datetime.strptime('2021-12-01', '%Y-%m-%d').date()),\n",
    "    ('id7', 'p1', 'C', 200, datetime.strptime('2021-12-01', '%Y-%m-%d').date()),\n",
    "    ('id8', 'p1', 'A', 100, datetime.strptime('2021-12-01', '%Y-%m-%d').date()),\n",
    "    ('id9', 'p2', 'A', 300, datetime.strptime('2023-01-10', '%Y-%m-%d').date()),\n",
    "    ('id10', 'p2', 'C', 400, datetime.strptime('2023-01-11', '%Y-%m-%d').date()),\n",
    "    ('id11', 'p2', 'B', 250, datetime.strptime('2023-01-12', '%Y-%m-%d').date()),\n",
    "    ('id12', 'p2', 'D', 600, datetime.strptime('2023-01-13', '%Y-%m-%d').date()),\n",
    "    ('id13', 'p2', 'C', 150, datetime.strptime('2023-01-14', '%Y-%m-%d').date()),\n",
    "    ('id14', 'p2', 'A', 100, datetime.strptime('2023-01-15', '%Y-%m-%d').date()),\n",
    "    ('id15', 'p2', 'C', 200, datetime.strptime('2023-01-16', '%Y-%m-%d').date())\n",
    "]\n",
    "# Create polls DataFrame\n",
    "polls_df = spark.createDataFrame(polls_data, schema=polls_schema)\n",
    "polls_df.display()\n"
   ]
  },
  {
   "cell_type": "code",
   "execution_count": 0,
   "metadata": {
    "application/vnd.databricks.v1+cell": {
     "cellMetadata": {
      "byteLimit": 2048000,
      "rowLimit": 10000
     },
     "inputWidgets": {},
     "nuid": "7fa670ad-dade-48a7-b914-2d8a1de4932e",
     "showTitle": false,
     "title": ""
    }
   },
   "outputs": [
    {
     "output_type": "display_data",
     "data": {
      "text/html": [
       "<style scoped>\n",
       "  .table-result-container {\n",
       "    max-height: 300px;\n",
       "    overflow: auto;\n",
       "  }\n",
       "  table, th, td {\n",
       "    border: 1px solid black;\n",
       "    border-collapse: collapse;\n",
       "  }\n",
       "  th, td {\n",
       "    padding: 5px;\n",
       "  }\n",
       "  th {\n",
       "    text-align: left;\n",
       "  }\n",
       "</style><div class='table-result-container'><table class='table-result'><thead style='background-color: white'><tr><th>poll_id</th><th>correct_option_id</th></tr></thead><tbody><tr><td>p1</td><td>C</td></tr><tr><td>p2</td><td>A</td></tr></tbody></table></div>"
      ]
     },
     "metadata": {
      "application/vnd.databricks.v1+output": {
       "addedWidgets": {},
       "aggData": [],
       "aggError": "",
       "aggOverflow": false,
       "aggSchema": [],
       "aggSeriesLimitReached": false,
       "aggType": "",
       "arguments": {},
       "columnCustomDisplayInfos": {},
       "data": [
        [
         "p1",
         "C"
        ],
        [
         "p2",
         "A"
        ]
       ],
       "datasetInfos": [],
       "dbfsResultPath": null,
       "isJsonSchema": true,
       "metadata": {},
       "overflow": false,
       "plotOptions": {
        "customPlotOptions": {},
        "displayType": "table",
        "pivotAggregation": null,
        "pivotColumns": null,
        "xColumns": null,
        "yColumns": null
       },
       "removedWidgets": [],
       "schema": [
        {
         "metadata": "{}",
         "name": "poll_id",
         "type": "\"string\""
        },
        {
         "metadata": "{}",
         "name": "correct_option_id",
         "type": "\"string\""
        }
       ],
       "type": "table"
      }
     },
     "output_type": "display_data"
    }
   ],
   "source": [
    "# Define schema for the poll_answers DataFrame\n",
    "poll_answers_schema = StructType([\n",
    "    StructField(\"poll_id\", StringType(), True),\n",
    "    StructField(\"correct_option_id\", StringType(), True)\n",
    "])\n",
    "\n",
    "# Sample data for the poll_answers DataFrame\n",
    "poll_answers_data = [\n",
    "    ('p1', 'C'),\n",
    "    ('p2', 'A')\n",
    "]\n",
    "\n",
    "# Create poll_answers DataFrame\n",
    "poll_answers_df = spark.createDataFrame(poll_answers_data, schema=poll_answers_schema)\n",
    "poll_answers_df.display()"
   ]
  },
  {
   "cell_type": "code",
   "execution_count": 0,
   "metadata": {
    "application/vnd.databricks.v1+cell": {
     "cellMetadata": {
      "byteLimit": 2048000,
      "rowLimit": 10000
     },
     "inputWidgets": {},
     "nuid": "8dd689bb-5d75-42e5-ade4-1c898c63052d",
     "showTitle": false,
     "title": ""
    }
   },
   "outputs": [],
   "source": [
    "poll_answers_df.createOrReplaceTempView('poll_answers')\n",
    "polls_df.createOrReplaceTempView('polls')"
   ]
  },
  {
   "cell_type": "code",
   "execution_count": 0,
   "metadata": {
    "application/vnd.databricks.v1+cell": {
     "cellMetadata": {
      "byteLimit": 2048000,
      "implicitDf": true,
      "rowLimit": 10000
     },
     "inputWidgets": {},
     "nuid": "ea2a4ade-ed11-426f-a91d-a7bde8562e89",
     "showTitle": false,
     "title": ""
    }
   },
   "outputs": [
    {
     "output_type": "display_data",
     "data": {
      "text/html": [
       "<style scoped>\n",
       "  .table-result-container {\n",
       "    max-height: 300px;\n",
       "    overflow: auto;\n",
       "  }\n",
       "  table, th, td {\n",
       "    border: 1px solid black;\n",
       "    border-collapse: collapse;\n",
       "  }\n",
       "  th, td {\n",
       "    padding: 5px;\n",
       "  }\n",
       "  th {\n",
       "    text-align: left;\n",
       "  }\n",
       "</style><div class='table-result-container'><table class='table-result'><thead style='background-color: white'><tr><th>user_id</th><th>poll_id</th><th>amount_win</th></tr></thead><tbody><tr><td>id2</td><td>p1</td><td>750</td></tr><tr><td>id5</td><td>p1</td><td>150</td></tr><tr><td>id7</td><td>p1</td><td>600</td></tr><tr><td>id9</td><td>p2</td><td>1200</td></tr><tr><td>id14</td><td>p2</td><td>400</td></tr></tbody></table></div>"
      ]
     },
     "metadata": {
      "application/vnd.databricks.v1+output": {
       "addedWidgets": {},
       "aggData": [],
       "aggError": "",
       "aggOverflow": false,
       "aggSchema": [],
       "aggSeriesLimitReached": false,
       "aggType": "",
       "arguments": {},
       "columnCustomDisplayInfos": {},
       "data": [
        [
         "id2",
         "p1",
         "750"
        ],
        [
         "id5",
         "p1",
         "150"
        ],
        [
         "id7",
         "p1",
         "600"
        ],
        [
         "id9",
         "p2",
         "1200"
        ],
        [
         "id14",
         "p2",
         "400"
        ]
       ],
       "datasetInfos": [],
       "dbfsResultPath": null,
       "isJsonSchema": true,
       "metadata": {},
       "overflow": false,
       "plotOptions": {
        "customPlotOptions": {},
        "displayType": "table",
        "pivotAggregation": null,
        "pivotColumns": null,
        "xColumns": null,
        "yColumns": null
       },
       "removedWidgets": [],
       "schema": [
        {
         "metadata": "{}",
         "name": "user_id",
         "type": "\"string\""
        },
        {
         "metadata": "{}",
         "name": "poll_id",
         "type": "\"string\""
        },
        {
         "metadata": "{}",
         "name": "amount_win",
         "type": "\"decimal(33,0)\""
        }
       ],
       "type": "table"
      }
     },
     "output_type": "display_data"
    }
   ],
   "source": [
    "%sql\n",
    "WITH a as (\n",
    "SELECT user_id, a.poll_id, correct_option_id,\n",
    "\t\tFLOOR(\n",
    "\t\tSUM(CASE WHEN correct_option_id IS NULL THEN amount END) OVER (PARTITION BY a.poll_id)\n",
    "\t\t*\n",
    "\t\tCASE WHEN correct_option_id IS NOT NULL THEN\n",
    "\t\t(amount*1.0 / SUM(CASE WHEN correct_option_id IS NOT NULL THEN amount END) OVER (PARTITION BY a.poll_id) * 100)\n",
    "\t\tEND / 100) amount_win\n",
    "FROM\n",
    "polls a\n",
    "LEFT JOIN poll_answers b\n",
    "ON a.poll_id = b.poll_id AND b.correct_option_id = a.poll_option_id\n",
    ")\n",
    "\n",
    "SELECT user_id, poll_id, amount_win\n",
    "FROM a\n",
    "WHERE correct_option_id IS NOT NULL\n",
    "\n"
   ]
  },
  {
   "cell_type": "code",
   "execution_count": 0,
   "metadata": {
    "application/vnd.databricks.v1+cell": {
     "cellMetadata": {
      "byteLimit": 2048000,
      "rowLimit": 10000
     },
     "inputWidgets": {},
     "nuid": "e502ed22-34cf-4076-8388-b4590e02fa8a",
     "showTitle": false,
     "title": ""
    }
   },
   "outputs": [
    {
     "output_type": "display_data",
     "data": {
      "text/html": [
       "<style scoped>\n",
       "  .table-result-container {\n",
       "    max-height: 300px;\n",
       "    overflow: auto;\n",
       "  }\n",
       "  table, th, td {\n",
       "    border: 1px solid black;\n",
       "    border-collapse: collapse;\n",
       "  }\n",
       "  th, td {\n",
       "    padding: 5px;\n",
       "  }\n",
       "  th {\n",
       "    text-align: left;\n",
       "  }\n",
       "</style><div class='table-result-container'><table class='table-result'><thead style='background-color: white'><tr><th>user_id</th><th>poll_id</th><th>amount_win</th></tr></thead><tbody><tr><td>id2</td><td>p1</td><td>750</td></tr><tr><td>id5</td><td>p1</td><td>150</td></tr><tr><td>id7</td><td>p1</td><td>600</td></tr><tr><td>id9</td><td>p2</td><td>1200</td></tr><tr><td>id14</td><td>p2</td><td>400</td></tr></tbody></table></div>"
      ]
     },
     "metadata": {
      "application/vnd.databricks.v1+output": {
       "addedWidgets": {},
       "aggData": [],
       "aggError": "",
       "aggOverflow": false,
       "aggSchema": [],
       "aggSeriesLimitReached": false,
       "aggType": "",
       "arguments": {},
       "columnCustomDisplayInfos": {},
       "data": [
        [
         "id2",
         "p1",
         750
        ],
        [
         "id5",
         "p1",
         150
        ],
        [
         "id7",
         "p1",
         600
        ],
        [
         "id9",
         "p2",
         1200
        ],
        [
         "id14",
         "p2",
         400
        ]
       ],
       "datasetInfos": [],
       "dbfsResultPath": null,
       "isJsonSchema": true,
       "metadata": {},
       "overflow": false,
       "plotOptions": {
        "customPlotOptions": {},
        "displayType": "table",
        "pivotAggregation": null,
        "pivotColumns": null,
        "xColumns": null,
        "yColumns": null
       },
       "removedWidgets": [],
       "schema": [
        {
         "metadata": "{}",
         "name": "user_id",
         "type": "\"string\""
        },
        {
         "metadata": "{}",
         "name": "poll_id",
         "type": "\"string\""
        },
        {
         "metadata": "{}",
         "name": "amount_win",
         "type": "\"long\""
        }
       ],
       "type": "table"
      }
     },
     "output_type": "display_data"
    }
   ],
   "source": [
    "from pyspark.sql import functions as F\n",
    "from pyspark.sql.window import Window\n",
    "\n",
    "# Assuming polls_df and poll_answers_df are already created\n",
    "\n",
    "# Step 1: Perform LEFT JOIN on poll_id and poll_option_id\n",
    "# Rename columns to avoid ambiguity after the join\n",
    "joined_df = polls_df.alias(\"a\").join(\n",
    "    poll_answers_df.alias(\"b\"),\n",
    "    (F.col(\"a.poll_id\") == F.col(\"b.poll_id\")) & (F.col(\"a.poll_option_id\") == F.col(\"b.correct_option_id\")),\n",
    "    \"left\"\n",
    ").select(\n",
    "    F.col(\"a.user_id\"),\n",
    "    F.col(\"a.poll_id\").alias(\"poll_id\"),\n",
    "    F.col(\"a.poll_option_id\"),\n",
    "    F.col(\"a.amount\"),\n",
    "    F.col(\"b.correct_option_id\")\n",
    ")\n",
    "\n",
    "# Step 2: Define window specification to partition by poll_id\n",
    "window_spec = Window.partitionBy(\"poll_id\")\n",
    "\n",
    "# Step 3: Calculate total losers amount and winners amount using conditional aggregation\n",
    "result_df = joined_df.withColumn(\n",
    "    \"total_losers_amount\", \n",
    "    F.sum(F.when(F.col(\"correct_option_id\").isNull(), F.col(\"amount\")).otherwise(0)).over(window_spec)\n",
    ").withColumn(\n",
    "    \"total_winners_amount\", \n",
    "    F.sum(F.when(F.col(\"correct_option_id\").isNotNull(), F.col(\"amount\")).otherwise(0)).over(window_spec)\n",
    ").withColumn(\n",
    "    \"amount_win\", \n",
    "    F.floor(\n",
    "        F.col(\"total_losers_amount\") * (\n",
    "            F.when(F.col(\"correct_option_id\").isNotNull(), \n",
    "                   (F.col(\"amount\") * 1.0) / F.col(\"total_winners_amount\") * 100\n",
    "            ).otherwise(0)\n",
    "        ) / 100\n",
    "    )\n",
    ")\n",
    "\n",
    "# Step 4: Filter for only those records where correct_option_id is not null\n",
    "final_df = result_df.filter(F.col(\"correct_option_id\").isNotNull()).select(\"user_id\", \"poll_id\", \"amount_win\")\n",
    "\n",
    "# Display the final result\n",
    "final_df.display()\n"
   ]
  },
  {
   "cell_type": "markdown",
   "metadata": {
    "application/vnd.databricks.v1+cell": {
     "cellMetadata": {},
     "inputWidgets": {},
     "nuid": "5afb550b-2031-4e47-ad15-d54f74dcb417",
     "showTitle": false,
     "title": ""
    }
   },
   "source": [
    "Explanation:\n",
    "\n",
    "Join: Left join between polls_df and poll_answers_df on poll_id and poll_option_id.\n",
    "\n",
    "Window Functions: Window.partitionBy(\"poll_id\") is used for window operations like summing the amounts based on correct_option_id being NULL or NOT NULL.\n",
    "\n",
    "Conditional Aggregation: The when function is used to apply the conditional logic inside the sum and floor functions.\n",
    "\n",
    "Filter: The final step filters out records where correct_option_id is NULL."
   ]
  },
  {
   "cell_type": "code",
   "execution_count": 0,
   "metadata": {
    "application/vnd.databricks.v1+cell": {
     "cellMetadata": {},
     "inputWidgets": {},
     "nuid": "e878d175-10d4-4c6b-9abb-d9a9312ca3fe",
     "showTitle": false,
     "title": ""
    }
   },
   "outputs": [],
   "source": [
    "Final Output:\n",
    "    \n",
    "You need to output the following columns:\n",
    "\n",
    "user_id: The ID of the user.\n",
    "poll_id: The ID of the poll.\n",
    "amount_win: The amount won by the user who selected the correct option.\n",
    "Constraints:\n",
    "Ensure that the calculation handles cases where the correct_option_id is NULL (indicating incorrect answers).\n",
    "Avoid column name ambiguities when joining the two tables."
   ]
  }
 ],
 "metadata": {
  "application/vnd.databricks.v1+notebook": {
   "dashboards": [],
   "environmentMetadata": null,
   "language": "python",
   "notebookMetadata": {
    "mostRecentlyExecutedCommandWithImplicitDF": {
     "commandId": 1173549879257268,
     "dataframes": [
      "_sqldf"
     ]
    },
    "pythonIndentUnit": 4
   },
   "notebookName": "Probo Very Interesting SQL Interview Question | Difficulty Level Hard | SQL For Data Analytics",
   "widgets": {}
  }
 },
 "nbformat": 4,
 "nbformat_minor": 0
}
