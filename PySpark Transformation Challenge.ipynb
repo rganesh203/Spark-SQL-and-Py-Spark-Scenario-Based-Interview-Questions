{
 "cells": [
  {
   "cell_type": "code",
   "execution_count": 0,
   "metadata": {
    "application/vnd.databricks.v1+cell": {
     "cellMetadata": {
      "byteLimit": 2048000,
      "rowLimit": 10000
     },
     "inputWidgets": {},
     "nuid": "e02d4db1-e591-43ea-9751-99d3c8531841",
     "showTitle": false,
     "tableResultSettingsMap": {},
     "title": ""
    }
   },
   "outputs": [
    {
     "output_type": "display_data",
     "data": {
      "text/html": [
       "<style scoped>\n",
       "  .table-result-container {\n",
       "    max-height: 300px;\n",
       "    overflow: auto;\n",
       "  }\n",
       "  table, th, td {\n",
       "    border: 1px solid black;\n",
       "    border-collapse: collapse;\n",
       "  }\n",
       "  th, td {\n",
       "    padding: 5px;\n",
       "  }\n",
       "  th {\n",
       "    text-align: left;\n",
       "  }\n",
       "</style><div class='table-result-container'><table class='table-result'><thead style='background-color: white'><tr><th>customer_id</th><th>transactions</th></tr></thead><tbody><tr><td>1</td><td>List(Map(transaction_date -> 2024-01-10, transaction_id -> 101, transaction_amount -> 50.0), Map(transaction_date -> 2024-02-15, transaction_id -> 102, transaction_amount -> 100.0))</td></tr><tr><td>2</td><td>List(Map(transaction_date -> 2024-03-01, transaction_id -> 103, transaction_amount -> 75.0))</td></tr><tr><td>3</td><td>List(Map(transaction_date -> 2023-12-20, transaction_id -> 104, transaction_amount -> 120.0), Map(transaction_date -> 2024-01-25, transaction_id -> 105, transaction_amount -> 200.0), Map(transaction_date -> 2024-02-10, transaction_id -> 106, transaction_amount -> 90.0))</td></tr></tbody></table></div>"
      ]
     },
     "metadata": {
      "application/vnd.databricks.v1+output": {
       "addedWidgets": {},
       "aggData": [],
       "aggError": "",
       "aggOverflow": false,
       "aggSchema": [],
       "aggSeriesLimitReached": false,
       "aggType": "",
       "arguments": {},
       "columnCustomDisplayInfos": {},
       "data": [
        [
         1,
         [
          {
           "transaction_amount": "50.0",
           "transaction_date": "2024-01-10",
           "transaction_id": "101"
          },
          {
           "transaction_amount": "100.0",
           "transaction_date": "2024-02-15",
           "transaction_id": "102"
          }
         ]
        ],
        [
         2,
         [
          {
           "transaction_amount": "75.0",
           "transaction_date": "2024-03-01",
           "transaction_id": "103"
          }
         ]
        ],
        [
         3,
         [
          {
           "transaction_amount": "120.0",
           "transaction_date": "2023-12-20",
           "transaction_id": "104"
          },
          {
           "transaction_amount": "200.0",
           "transaction_date": "2024-01-25",
           "transaction_id": "105"
          },
          {
           "transaction_amount": "90.0",
           "transaction_date": "2024-02-10",
           "transaction_id": "106"
          }
         ]
        ]
       ],
       "datasetInfos": [],
       "dbfsResultPath": null,
       "isJsonSchema": true,
       "metadata": {},
       "overflow": false,
       "plotOptions": {
        "customPlotOptions": {},
        "displayType": "table",
        "pivotAggregation": null,
        "pivotColumns": null,
        "xColumns": null,
        "yColumns": null
       },
       "removedWidgets": [],
       "schema": [
        {
         "metadata": "{}",
         "name": "customer_id",
         "type": "\"integer\""
        },
        {
         "metadata": "{}",
         "name": "transactions",
         "type": "{\"type\":\"array\",\"elementType\":{\"type\":\"map\",\"keyType\":\"string\",\"valueType\":\"string\",\"valueContainsNull\":true},\"containsNull\":true}"
        }
       ],
       "type": "table"
      }
     },
     "output_type": "display_data"
    }
   ],
   "source": [
    "from pyspark.sql.types import *\n",
    "\n",
    "# Initialize Spark session\n",
    "\n",
    "# Define schema\n",
    "schema = StructType(\n",
    "    [\n",
    "        StructField(\"customer_id\", IntegerType(), True),\n",
    "        StructField(\n",
    "            \"transactions\", ArrayType(MapType(StringType(), StringType())), True\n",
    "        ),\n",
    "    ]\n",
    ")\n",
    "\n",
    "# Sample data\n",
    "data = [\n",
    "    (\n",
    "        1,\n",
    "        [\n",
    "            {\n",
    "                \"transaction_id\": \"101\",\n",
    "                \"transaction_date\": \"2024-01-10\",\n",
    "                \"transaction_amount\": \"50.0\",\n",
    "            },\n",
    "            {\n",
    "                \"transaction_id\": \"102\",\n",
    "                \"transaction_date\": \"2024-02-15\",\n",
    "                \"transaction_amount\": \"100.0\",\n",
    "            },\n",
    "        ],\n",
    "    ),\n",
    "    (\n",
    "        2,\n",
    "        [\n",
    "            {\n",
    "                \"transaction_id\": \"103\",\n",
    "                \"transaction_date\": \"2024-03-01\",\n",
    "                \"transaction_amount\": \"75.0\",\n",
    "            }\n",
    "        ],\n",
    "    ),\n",
    "    (\n",
    "        3,\n",
    "        [\n",
    "            {\n",
    "                \"transaction_id\": \"104\",\n",
    "                \"transaction_date\": \"2023-12-20\",\n",
    "                \"transaction_amount\": \"120.0\",\n",
    "            },\n",
    "            {\n",
    "                \"transaction_id\": \"105\",\n",
    "                \"transaction_date\": \"2024-01-25\",\n",
    "                \"transaction_amount\": \"200.0\",\n",
    "            },\n",
    "            {\n",
    "                \"transaction_id\": \"106\",\n",
    "                \"transaction_date\": \"2024-02-10\",\n",
    "                \"transaction_amount\": \"90.0\",\n",
    "            },\n",
    "        ],\n",
    "    ),\n",
    "]\n",
    "\n",
    "# Create DataFrame\n",
    "df = spark.createDataFrame(data, schema=schema)\n",
    "\n",
    "# display DataFrame\n",
    "df.display()"
   ]
  },
  {
   "cell_type": "code",
   "execution_count": 0,
   "metadata": {
    "application/vnd.databricks.v1+cell": {
     "cellMetadata": {
      "byteLimit": 2048000,
      "rowLimit": 10000
     },
     "inputWidgets": {},
     "nuid": "fa1dea08-f463-46cf-b5c4-2e61364b096c",
     "showTitle": false,
     "tableResultSettingsMap": {},
     "title": ""
    }
   },
   "outputs": [
    {
     "output_type": "display_data",
     "data": {
      "text/html": [
       "<style scoped>\n",
       "  .table-result-container {\n",
       "    max-height: 300px;\n",
       "    overflow: auto;\n",
       "  }\n",
       "  table, th, td {\n",
       "    border: 1px solid black;\n",
       "    border-collapse: collapse;\n",
       "  }\n",
       "  th, td {\n",
       "    padding: 5px;\n",
       "  }\n",
       "  th {\n",
       "    text-align: left;\n",
       "  }\n",
       "</style><div class='table-result-container'><table class='table-result'><thead style='background-color: white'><tr><th>customer_id</th><th>total_transactions</th><th>total_spend</th><th>most_recent_transaction</th></tr></thead><tbody><tr><td>1</td><td>2</td><td>150.0</td><td>2024-02-15</td></tr><tr><td>2</td><td>1</td><td>75.0</td><td>2024-03-01</td></tr><tr><td>3</td><td>3</td><td>410.0</td><td>2024-02-10</td></tr></tbody></table></div>"
      ]
     },
     "metadata": {
      "application/vnd.databricks.v1+output": {
       "addedWidgets": {},
       "aggData": [],
       "aggError": "",
       "aggOverflow": false,
       "aggSchema": [],
       "aggSeriesLimitReached": false,
       "aggType": "",
       "arguments": {},
       "columnCustomDisplayInfos": {},
       "data": [
        [
         1,
         2,
         150.0,
         "2024-02-15"
        ],
        [
         2,
         1,
         75.0,
         "2024-03-01"
        ],
        [
         3,
         3,
         410.0,
         "2024-02-10"
        ]
       ],
       "datasetInfos": [],
       "dbfsResultPath": null,
       "isJsonSchema": true,
       "metadata": {},
       "overflow": false,
       "plotOptions": {
        "customPlotOptions": {},
        "displayType": "table",
        "pivotAggregation": null,
        "pivotColumns": null,
        "xColumns": null,
        "yColumns": null
       },
       "removedWidgets": [],
       "schema": [
        {
         "metadata": "{}",
         "name": "customer_id",
         "type": "\"integer\""
        },
        {
         "metadata": "{}",
         "name": "total_transactions",
         "type": "\"long\""
        },
        {
         "metadata": "{}",
         "name": "total_spend",
         "type": "\"double\""
        },
        {
         "metadata": "{}",
         "name": "most_recent_transaction",
         "type": "\"string\""
        }
       ],
       "type": "table"
      }
     },
     "output_type": "display_data"
    }
   ],
   "source": [
    "from pyspark.sql.functions import *\n",
    "\n",
    "exploded_df = df.withColumn(\"transaction\", explode(\"transactions\"))\n",
    "\n",
    "result_df = (\n",
    "    exploded_df.select(\n",
    "        col(\"customer_id\"),\n",
    "        col(\"transaction.transaction_amount\").alias(\"transaction_amount\"),\n",
    "        col(\"transaction.transaction_date\").alias(\"transaction_date\"),\n",
    "    )\n",
    "    .groupBy(\"customer_id\")\n",
    "    .agg(\n",
    "        count(\"transaction_date\").alias(\"total_transactions\"),\n",
    "        sum(\"transaction_amount\").alias(\"total_spend\"),\n",
    "        max(\"transaction_date\").alias(\"most_recent_transaction\"),\n",
    "    )\n",
    "    .orderBy(\"customer_id\")\n",
    ")\n",
    "\n",
    "result_df.display()"
   ]
  },
  {
   "cell_type": "code",
   "execution_count": 0,
   "metadata": {
    "application/vnd.databricks.v1+cell": {
     "cellMetadata": {
      "byteLimit": 2048000,
      "rowLimit": 10000
     },
     "inputWidgets": {},
     "nuid": "15bbe947-9326-4d18-9da2-58e75adc7131",
     "showTitle": false,
     "tableResultSettingsMap": {},
     "title": ""
    }
   },
   "outputs": [
    {
     "output_type": "display_data",
     "data": {
      "text/html": [
       "<style scoped>\n",
       "  .table-result-container {\n",
       "    max-height: 300px;\n",
       "    overflow: auto;\n",
       "  }\n",
       "  table, th, td {\n",
       "    border: 1px solid black;\n",
       "    border-collapse: collapse;\n",
       "  }\n",
       "  th, td {\n",
       "    padding: 5px;\n",
       "  }\n",
       "  th {\n",
       "    text-align: left;\n",
       "  }\n",
       "</style><div class='table-result-container'><table class='table-result'><thead style='background-color: white'><tr><th>customer_id</th><th>total_transactions</th><th>total_spend</th><th>most_recent_transaction</th></tr></thead><tbody><tr><td>1</td><td>2</td><td>150.0</td><td>2024-02-15</td></tr><tr><td>2</td><td>1</td><td>75.0</td><td>2024-03-01</td></tr><tr><td>3</td><td>3</td><td>410.0</td><td>2024-02-10</td></tr></tbody></table></div>"
      ]
     },
     "metadata": {
      "application/vnd.databricks.v1+output": {
       "addedWidgets": {},
       "aggData": [],
       "aggError": "",
       "aggOverflow": false,
       "aggSchema": [],
       "aggSeriesLimitReached": false,
       "aggType": "",
       "arguments": {},
       "columnCustomDisplayInfos": {},
       "data": [
        [
         1,
         2,
         150.0,
         "2024-02-15"
        ],
        [
         2,
         1,
         75.0,
         "2024-03-01"
        ],
        [
         3,
         3,
         410.0,
         "2024-02-10"
        ]
       ],
       "datasetInfos": [],
       "dbfsResultPath": null,
       "isJsonSchema": true,
       "metadata": {},
       "overflow": false,
       "plotOptions": {
        "customPlotOptions": {},
        "displayType": "table",
        "pivotAggregation": null,
        "pivotColumns": null,
        "xColumns": null,
        "yColumns": null
       },
       "removedWidgets": [],
       "schema": [
        {
         "metadata": "{}",
         "name": "customer_id",
         "type": "\"integer\""
        },
        {
         "metadata": "{}",
         "name": "total_transactions",
         "type": "\"long\""
        },
        {
         "metadata": "{}",
         "name": "total_spend",
         "type": "\"double\""
        },
        {
         "metadata": "{}",
         "name": "most_recent_transaction",
         "type": "\"string\""
        }
       ],
       "type": "table"
      }
     },
     "output_type": "display_data"
    }
   ],
   "source": [
    "# Register the exploded DataFrame as a temporary view\n",
    "exploded_df.createOrReplaceTempView(\"transactions_view\")\n",
    "\n",
    "# Use Spark SQL to perform the transformation\n",
    "result_df = spark.sql(\"\"\"\n",
    "    SELECT \n",
    "        customer_id,\n",
    "        COUNT(transaction.transaction_date) AS total_transactions,\n",
    "        SUM(CAST(transaction.transaction_amount AS FLOAT)) AS total_spend,\n",
    "        MAX(transaction.transaction_date) AS most_recent_transaction\n",
    "    FROM transactions_view\n",
    "    GROUP BY customer_id\n",
    "    ORDER BY customer_id\n",
    "\"\"\")\n",
    "\n",
    "# Show the result\n",
    "result_df.display()"
   ]
  }
 ],
 "metadata": {
  "application/vnd.databricks.v1+notebook": {
   "dashboards": [],
   "environmentMetadata": null,
   "language": "python",
   "notebookMetadata": {
    "pythonIndentUnit": 4
   },
   "notebookName": "PySpark Transformation Challenge",
   "widgets": {}
  }
 },
 "nbformat": 4,
 "nbformat_minor": 0
}
