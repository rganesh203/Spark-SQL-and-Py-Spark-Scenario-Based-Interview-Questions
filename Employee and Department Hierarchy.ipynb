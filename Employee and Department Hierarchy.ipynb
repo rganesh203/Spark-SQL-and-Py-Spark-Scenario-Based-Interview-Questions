{
 "cells": [
  {
   "cell_type": "code",
   "execution_count": 0,
   "metadata": {
    "application/vnd.databricks.v1+cell": {
     "cellMetadata": {
      "byteLimit": 2048000,
      "rowLimit": 10000
     },
     "inputWidgets": {},
     "nuid": "bb9d0a4f-75d0-4753-840d-b91bbbe686bf",
     "showTitle": false,
     "title": ""
    }
   },
   "outputs": [
    {
     "output_type": "stream",
     "name": "stdout",
     "output_type": "stream",
     "text": [
      "Employees DataFrame:\n"
     ]
    },
    {
     "output_type": "display_data",
     "data": {
      "text/html": [
       "<style scoped>\n",
       "  .table-result-container {\n",
       "    max-height: 300px;\n",
       "    overflow: auto;\n",
       "  }\n",
       "  table, th, td {\n",
       "    border: 1px solid black;\n",
       "    border-collapse: collapse;\n",
       "  }\n",
       "  th, td {\n",
       "    padding: 5px;\n",
       "  }\n",
       "  th {\n",
       "    text-align: left;\n",
       "  }\n",
       "</style><div class='table-result-container'><table class='table-result'><thead style='background-color: white'><tr><th>employee_id</th><th>employee_name</th><th>manager_id</th></tr></thead><tbody><tr><td>1</td><td>John Doe</td><td>null</td></tr><tr><td>2</td><td>Jane Smith</td><td>1</td></tr><tr><td>3</td><td>Alex Brown</td><td>2</td></tr><tr><td>4</td><td>Emily Davis</td><td>2</td></tr><tr><td>5</td><td>Michael Clark</td><td>1</td></tr><tr><td>6</td><td>Sarah Wilson</td><td>5</td></tr><tr><td>7</td><td>David Lee</td><td>5</td></tr><tr><td>8</td><td>Laura Turner</td><td>1</td></tr><tr><td>9</td><td>Kevin Green</td><td>8</td></tr></tbody></table></div>"
      ]
     },
     "metadata": {
      "application/vnd.databricks.v1+output": {
       "addedWidgets": {},
       "aggData": [],
       "aggError": "",
       "aggOverflow": false,
       "aggSchema": [],
       "aggSeriesLimitReached": false,
       "aggType": "",
       "arguments": {},
       "columnCustomDisplayInfos": {},
       "data": [
        [
         1,
         "John Doe",
         null
        ],
        [
         2,
         "Jane Smith",
         1
        ],
        [
         3,
         "Alex Brown",
         2
        ],
        [
         4,
         "Emily Davis",
         2
        ],
        [
         5,
         "Michael Clark",
         1
        ],
        [
         6,
         "Sarah Wilson",
         5
        ],
        [
         7,
         "David Lee",
         5
        ],
        [
         8,
         "Laura Turner",
         1
        ],
        [
         9,
         "Kevin Green",
         8
        ]
       ],
       "datasetInfos": [],
       "dbfsResultPath": null,
       "isJsonSchema": true,
       "metadata": {},
       "overflow": false,
       "plotOptions": {
        "customPlotOptions": {},
        "displayType": "table",
        "pivotAggregation": null,
        "pivotColumns": null,
        "xColumns": null,
        "yColumns": null
       },
       "removedWidgets": [],
       "schema": [
        {
         "metadata": "{}",
         "name": "employee_id",
         "type": "\"integer\""
        },
        {
         "metadata": "{}",
         "name": "employee_name",
         "type": "\"string\""
        },
        {
         "metadata": "{}",
         "name": "manager_id",
         "type": "\"integer\""
        }
       ],
       "type": "table"
      }
     },
     "output_type": "display_data"
    },
    {
     "output_type": "stream",
     "name": "stdout",
     "output_type": "stream",
     "text": [
      "Departments DataFrame:\n"
     ]
    },
    {
     "output_type": "display_data",
     "data": {
      "text/html": [
       "<style scoped>\n",
       "  .table-result-container {\n",
       "    max-height: 300px;\n",
       "    overflow: auto;\n",
       "  }\n",
       "  table, th, td {\n",
       "    border: 1px solid black;\n",
       "    border-collapse: collapse;\n",
       "  }\n",
       "  th, td {\n",
       "    padding: 5px;\n",
       "  }\n",
       "  th {\n",
       "    text-align: left;\n",
       "  }\n",
       "</style><div class='table-result-container'><table class='table-result'><thead style='background-color: white'><tr><th>department_id</th><th>department_name</th><th>parent_department_id</th></tr></thead><tbody><tr><td>1</td><td>Human Resources</td><td>null</td></tr><tr><td>2</td><td>Recruitment</td><td>1</td></tr><tr><td>3</td><td>Employee Relations</td><td>1</td></tr><tr><td>4</td><td>Training</td><td>3</td></tr><tr><td>5</td><td>Finance</td><td>null</td></tr><tr><td>6</td><td>Accounting</td><td>5</td></tr><tr><td>7</td><td>Payroll</td><td>5</td></tr></tbody></table></div>"
      ]
     },
     "metadata": {
      "application/vnd.databricks.v1+output": {
       "addedWidgets": {},
       "aggData": [],
       "aggError": "",
       "aggOverflow": false,
       "aggSchema": [],
       "aggSeriesLimitReached": false,
       "aggType": "",
       "arguments": {},
       "columnCustomDisplayInfos": {},
       "data": [
        [
         1,
         "Human Resources",
         null
        ],
        [
         2,
         "Recruitment",
         1
        ],
        [
         3,
         "Employee Relations",
         1
        ],
        [
         4,
         "Training",
         3
        ],
        [
         5,
         "Finance",
         null
        ],
        [
         6,
         "Accounting",
         5
        ],
        [
         7,
         "Payroll",
         5
        ]
       ],
       "datasetInfos": [],
       "dbfsResultPath": null,
       "isJsonSchema": true,
       "metadata": {},
       "overflow": false,
       "plotOptions": {
        "customPlotOptions": {},
        "displayType": "table",
        "pivotAggregation": null,
        "pivotColumns": null,
        "xColumns": null,
        "yColumns": null
       },
       "removedWidgets": [],
       "schema": [
        {
         "metadata": "{}",
         "name": "department_id",
         "type": "\"integer\""
        },
        {
         "metadata": "{}",
         "name": "department_name",
         "type": "\"string\""
        },
        {
         "metadata": "{}",
         "name": "parent_department_id",
         "type": "\"integer\""
        }
       ],
       "type": "table"
      }
     },
     "output_type": "display_data"
    }
   ],
   "source": [
    "from pyspark.sql.types import *\n",
    "\n",
    "# Define schema for Employees\n",
    "employees_schema = StructType(\n",
    "    [\n",
    "        StructField(\"employee_id\", IntegerType(), nullable=False),\n",
    "        StructField(\"employee_name\", StringType(), nullable=False),\n",
    "        StructField(\"manager_id\", IntegerType(), nullable=True),\n",
    "    ]\n",
    ")\n",
    "\n",
    "# Define schema for Departments\n",
    "departments_schema = StructType(\n",
    "    [\n",
    "        StructField(\"department_id\", IntegerType(), nullable=False),\n",
    "        StructField(\"department_name\", StringType(), nullable=False),\n",
    "        StructField(\"parent_department_id\", IntegerType(), nullable=True),\n",
    "    ]\n",
    ")\n",
    "\n",
    "# Sample data for Employees\n",
    "employees_data = [\n",
    "    (1, \"John Doe\", None),\n",
    "    (2, \"Jane Smith\", 1),\n",
    "    (3, \"Alex Brown\", 2),\n",
    "    (4, \"Emily Davis\", 2),\n",
    "    (5, \"Michael Clark\", 1),\n",
    "    (6, \"Sarah Wilson\", 5),\n",
    "    (7, \"David Lee\", 5),\n",
    "    (8, \"Laura Turner\", 1),\n",
    "    (9, \"Kevin Green\", 8),\n",
    "]\n",
    "\n",
    "# Sample data for Departments\n",
    "departments_data = [\n",
    "    (1, \"Human Resources\", None),\n",
    "    (2, \"Recruitment\", 1),\n",
    "    (3, \"Employee Relations\", 1),\n",
    "    (4, \"Training\", 3),\n",
    "    (5, \"Finance\", None),\n",
    "    (6, \"Accounting\", 5),\n",
    "    (7, \"Payroll\", 5),\n",
    "]\n",
    "\n",
    "# Create DataFrames with defined schemas\n",
    "employees_df = spark.createDataFrame(employees_data, schema=employees_schema)\n",
    "departments_df = spark.createDataFrame(departments_data, schema=departments_schema)\n",
    "\n",
    "# display the DataFrames\n",
    "print(\"Employees DataFrame:\")\n",
    "employees_df.display()\n",
    "\n",
    "print(\"Departments DataFrame:\")\n",
    "departments_df.display()"
   ]
  },
  {
   "cell_type": "code",
   "execution_count": 0,
   "metadata": {
    "application/vnd.databricks.v1+cell": {
     "cellMetadata": {
      "byteLimit": 2048000,
      "rowLimit": 10000
     },
     "inputWidgets": {},
     "nuid": "94b01c5c-13ca-4023-bc10-76e0ea9ee3c2",
     "showTitle": false,
     "title": ""
    }
   },
   "outputs": [],
   "source": [
    "employees_df.createOrReplaceTempView(\"Employees \")\n",
    "departments_df.createOrReplaceTempView(\"Departments\")"
   ]
  },
  {
   "cell_type": "markdown",
   "metadata": {
    "application/vnd.databricks.v1+cell": {
     "cellMetadata": {},
     "inputWidgets": {},
     "nuid": "a809c15b-a5cf-48dd-98e6-ca332e93bf0c",
     "showTitle": false,
     "title": ""
    }
   },
   "source": [
    "#Department Hierarchy"
   ]
  },
  {
   "cell_type": "code",
   "execution_count": 0,
   "metadata": {
    "application/vnd.databricks.v1+cell": {
     "cellMetadata": {
      "byteLimit": 2048000,
      "rowLimit": 10000
     },
     "inputWidgets": {},
     "nuid": "1196e355-90ef-41c6-8284-810b4306573f",
     "showTitle": false,
     "title": ""
    }
   },
   "outputs": [
    {
     "output_type": "display_data",
     "data": {
      "text/html": [
       "<style scoped>\n",
       "  .table-result-container {\n",
       "    max-height: 300px;\n",
       "    overflow: auto;\n",
       "  }\n",
       "  table, th, td {\n",
       "    border: 1px solid black;\n",
       "    border-collapse: collapse;\n",
       "  }\n",
       "  th, td {\n",
       "    padding: 5px;\n",
       "  }\n",
       "  th {\n",
       "    text-align: left;\n",
       "  }\n",
       "</style><div class='table-result-container'><table class='table-result'><thead style='background-color: white'><tr><th>department_id</th><th>department_name</th><th>parent_department_id</th><th>level</th></tr></thead><tbody><tr><td>1</td><td>Human Resources</td><td>null</td><td>0</td></tr><tr><td>5</td><td>Finance</td><td>null</td><td>0</td></tr><tr><td>2</td><td>Recruitment</td><td>1</td><td>1</td></tr><tr><td>3</td><td>Employee Relations</td><td>1</td><td>1</td></tr><tr><td>6</td><td>Accounting</td><td>5</td><td>1</td></tr><tr><td>7</td><td>Payroll</td><td>5</td><td>1</td></tr><tr><td>4</td><td>Training</td><td>3</td><td>2</td></tr></tbody></table></div>"
      ]
     },
     "metadata": {
      "application/vnd.databricks.v1+output": {
       "addedWidgets": {},
       "aggData": [],
       "aggError": "",
       "aggOverflow": false,
       "aggSchema": [],
       "aggSeriesLimitReached": false,
       "aggType": "",
       "arguments": {},
       "columnCustomDisplayInfos": {},
       "data": [
        [
         1,
         "Human Resources",
         null,
         0
        ],
        [
         5,
         "Finance",
         null,
         0
        ],
        [
         2,
         "Recruitment",
         1,
         1
        ],
        [
         3,
         "Employee Relations",
         1,
         1
        ],
        [
         6,
         "Accounting",
         5,
         1
        ],
        [
         7,
         "Payroll",
         5,
         1
        ],
        [
         4,
         "Training",
         3,
         2
        ]
       ],
       "datasetInfos": [],
       "dbfsResultPath": null,
       "isJsonSchema": true,
       "metadata": {},
       "overflow": false,
       "plotOptions": {
        "customPlotOptions": {},
        "displayType": "table",
        "pivotAggregation": null,
        "pivotColumns": null,
        "xColumns": null,
        "yColumns": null
       },
       "removedWidgets": [],
       "schema": [
        {
         "metadata": "{}",
         "name": "department_id",
         "type": "\"integer\""
        },
        {
         "metadata": "{}",
         "name": "department_name",
         "type": "\"string\""
        },
        {
         "metadata": "{}",
         "name": "parent_department_id",
         "type": "\"integer\""
        },
        {
         "metadata": "{}",
         "name": "level",
         "type": "\"integer\""
        }
       ],
       "type": "table"
      }
     },
     "output_type": "display_data"
    }
   ],
   "source": [
    "from pyspark.sql.functions import *\n",
    "\n",
    "# Start building hierarchy by getting the top-level departments\n",
    "hierarchy_df = departments_df.filter(col(\"parent_department_id\").isNull()).withColumn(\n",
    "    \"level\", lit(0)\n",
    ")\n",
    "\n",
    "# Initialize the current hierarchy level\n",
    "current_hierarchy_df = hierarchy_df\n",
    "\n",
    "# Loop to add child departments\n",
    "for level in range(1, 5):  # Adjust the range as per the depth of hierarchy\n",
    "    next_level_df = (\n",
    "        departments_df.alias(\"d\")\n",
    "        .join(\n",
    "            current_hierarchy_df.alias(\"h\"),\n",
    "            col(\"d.parent_department_id\") == col(\"h.department_id\"),\n",
    "        )\n",
    "        .select(\n",
    "            col(\"d.department_id\"),\n",
    "            col(\"d.department_name\"),\n",
    "            col(\"d.parent_department_id\"),\n",
    "            (col(\"h.level\") + 1).alias(\"level\"),\n",
    "        )\n",
    "    )\n",
    "\n",
    "    # Union the new level to the existing hierarchy\n",
    "    hierarchy_df = hierarchy_df.union(next_level_df)\n",
    "\n",
    "    # Update current hierarchy for the next iteration\n",
    "    current_hierarchy_df = next_level_df\n",
    "\n",
    "# Show the final department hierarchy\n",
    "hierarchy_df.orderBy(\"level\", \"department_id\").display()"
   ]
  },
  {
   "cell_type": "markdown",
   "metadata": {
    "application/vnd.databricks.v1+cell": {
     "cellMetadata": {},
     "inputWidgets": {},
     "nuid": "c63c1819-4744-4fed-9138-a5941146f2fd",
     "showTitle": false,
     "title": ""
    }
   },
   "source": [
    "#Employee Hierarchy"
   ]
  },
  {
   "cell_type": "code",
   "execution_count": 0,
   "metadata": {
    "application/vnd.databricks.v1+cell": {
     "cellMetadata": {
      "byteLimit": 2048000,
      "rowLimit": 10000
     },
     "inputWidgets": {},
     "nuid": "ee80f955-7afe-4e8f-ae69-72266ee8eeda",
     "showTitle": false,
     "title": ""
    }
   },
   "outputs": [
    {
     "output_type": "display_data",
     "data": {
      "text/html": [
       "<style scoped>\n",
       "  .table-result-container {\n",
       "    max-height: 300px;\n",
       "    overflow: auto;\n",
       "  }\n",
       "  table, th, td {\n",
       "    border: 1px solid black;\n",
       "    border-collapse: collapse;\n",
       "  }\n",
       "  th, td {\n",
       "    padding: 5px;\n",
       "  }\n",
       "  th {\n",
       "    text-align: left;\n",
       "  }\n",
       "</style><div class='table-result-container'><table class='table-result'><thead style='background-color: white'><tr><th>employee_id</th><th>employee_name</th><th>manager_id</th><th>level</th></tr></thead><tbody><tr><td>1</td><td>John Doe</td><td>null</td><td>0</td></tr><tr><td>2</td><td>Jane Smith</td><td>1</td><td>1</td></tr><tr><td>5</td><td>Michael Clark</td><td>1</td><td>1</td></tr><tr><td>8</td><td>Laura Turner</td><td>1</td><td>1</td></tr><tr><td>3</td><td>Alex Brown</td><td>2</td><td>2</td></tr><tr><td>4</td><td>Emily Davis</td><td>2</td><td>2</td></tr><tr><td>6</td><td>Sarah Wilson</td><td>5</td><td>2</td></tr><tr><td>7</td><td>David Lee</td><td>5</td><td>2</td></tr><tr><td>9</td><td>Kevin Green</td><td>8</td><td>2</td></tr></tbody></table></div>"
      ]
     },
     "metadata": {
      "application/vnd.databricks.v1+output": {
       "addedWidgets": {},
       "aggData": [],
       "aggError": "",
       "aggOverflow": false,
       "aggSchema": [],
       "aggSeriesLimitReached": false,
       "aggType": "",
       "arguments": {},
       "columnCustomDisplayInfos": {},
       "data": [
        [
         1,
         "John Doe",
         null,
         0
        ],
        [
         2,
         "Jane Smith",
         1,
         1
        ],
        [
         5,
         "Michael Clark",
         1,
         1
        ],
        [
         8,
         "Laura Turner",
         1,
         1
        ],
        [
         3,
         "Alex Brown",
         2,
         2
        ],
        [
         4,
         "Emily Davis",
         2,
         2
        ],
        [
         6,
         "Sarah Wilson",
         5,
         2
        ],
        [
         7,
         "David Lee",
         5,
         2
        ],
        [
         9,
         "Kevin Green",
         8,
         2
        ]
       ],
       "datasetInfos": [],
       "dbfsResultPath": null,
       "isJsonSchema": true,
       "metadata": {},
       "overflow": false,
       "plotOptions": {
        "customPlotOptions": {},
        "displayType": "table",
        "pivotAggregation": null,
        "pivotColumns": null,
        "xColumns": null,
        "yColumns": null
       },
       "removedWidgets": [],
       "schema": [
        {
         "metadata": "{}",
         "name": "employee_id",
         "type": "\"integer\""
        },
        {
         "metadata": "{}",
         "name": "employee_name",
         "type": "\"string\""
        },
        {
         "metadata": "{}",
         "name": "manager_id",
         "type": "\"integer\""
        },
        {
         "metadata": "{}",
         "name": "level",
         "type": "\"integer\""
        }
       ],
       "type": "table"
      }
     },
     "output_type": "display_data"
    }
   ],
   "source": [
    "# Start building hierarchy by getting the top-level employees (those without a manager)\n",
    "hierarchy_df = employees_df.filter(col(\"manager_id\").isNull()).withColumn(\n",
    "    \"level\", lit(0)\n",
    ")\n",
    "\n",
    "# Initialize the current hierarchy level\n",
    "current_hierarchy_df = hierarchy_df\n",
    "\n",
    "# Loop to simulate recursion and add employees under managers\n",
    "for level in range(1, 5):  # Adjust range depending on how deep the hierarchy is\n",
    "    next_level_df = (\n",
    "        employees_df.alias(\"e\")\n",
    "        .join(\n",
    "            current_hierarchy_df.alias(\"h\"), col(\"e.manager_id\") == col(\"h.employee_id\")\n",
    "        )\n",
    "        .select(\n",
    "            col(\"e.employee_id\"),\n",
    "            col(\"e.employee_name\"),\n",
    "            col(\"e.manager_id\"),\n",
    "            (col(\"h.level\") + 1).alias(\"level\"),\n",
    "        )\n",
    "    )\n",
    "\n",
    "    # Union the new level to the existing hierarchy\n",
    "    hierarchy_df = hierarchy_df.union(next_level_df)\n",
    "\n",
    "    # Update current hierarchy for the next iteration\n",
    "    current_hierarchy_df = next_level_df\n",
    "\n",
    "# Show the final employee hierarchy\n",
    "hierarchy_df.orderBy(\"level\", \"employee_id\").display()"
   ]
  }
 ],
 "metadata": {
  "application/vnd.databricks.v1+notebook": {
   "dashboards": [],
   "environmentMetadata": null,
   "language": "python",
   "notebookMetadata": {
    "mostRecentlyExecutedCommandWithImplicitDF": {
     "commandId": 4387048994007707,
     "dataframes": [
      "_sqldf"
     ]
    },
    "pythonIndentUnit": 4
   },
   "notebookName": "Employee and Department Hierarchy",
   "widgets": {}
  }
 },
 "nbformat": 4,
 "nbformat_minor": 0
}
