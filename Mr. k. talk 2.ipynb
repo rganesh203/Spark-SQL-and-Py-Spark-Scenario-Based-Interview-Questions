{
 "cells": [
  {
   "cell_type": "code",
   "execution_count": 0,
   "metadata": {
    "application/vnd.databricks.v1+cell": {
     "cellMetadata": {
      "byteLimit": 2048000,
      "rowLimit": 10000
     },
     "inputWidgets": {},
     "nuid": "b55b51b3-52a0-466e-9b62-8d884612518d",
     "showTitle": false,
     "tableResultSettingsMap": {},
     "title": ""
    }
   },
   "outputs": [
    {
     "output_type": "display_data",
     "data": {
      "text/html": [
       "<style scoped>\n",
       "  .table-result-container {\n",
       "    max-height: 300px;\n",
       "    overflow: auto;\n",
       "  }\n",
       "  table, th, td {\n",
       "    border: 1px solid black;\n",
       "    border-collapse: collapse;\n",
       "  }\n",
       "  th, td {\n",
       "    padding: 5px;\n",
       "  }\n",
       "  th {\n",
       "    text-align: left;\n",
       "  }\n",
       "</style><div class='table-result-container'><table class='table-result'><thead style='background-color: white'><tr><th>stock_id</th><th>date</th><th>price</th></tr></thead><tbody><tr><td>A</td><td>2024-01-01</td><td>100</td></tr><tr><td>A</td><td>2024-01-02</td><td>105</td></tr><tr><td>A</td><td>2024-01-03</td><td>104</td></tr><tr><td>B</td><td>2024-01-01</td><td>200</td></tr><tr><td>B</td><td>2024-01-02</td><td>200</td></tr><tr><td>B</td><td>2024-01-03</td><td>201</td></tr></tbody></table></div>"
      ]
     },
     "metadata": {
      "application/vnd.databricks.v1+output": {
       "addedWidgets": {},
       "aggData": [],
       "aggError": "",
       "aggOverflow": false,
       "aggSchema": [],
       "aggSeriesLimitReached": false,
       "aggType": "",
       "arguments": {},
       "columnCustomDisplayInfos": {},
       "data": [
        [
         "A",
         "2024-01-01",
         100
        ],
        [
         "A",
         "2024-01-02",
         105
        ],
        [
         "A",
         "2024-01-03",
         104
        ],
        [
         "B",
         "2024-01-01",
         200
        ],
        [
         "B",
         "2024-01-02",
         200
        ],
        [
         "B",
         "2024-01-03",
         201
        ]
       ],
       "datasetInfos": [],
       "dbfsResultPath": null,
       "isJsonSchema": true,
       "metadata": {},
       "overflow": false,
       "plotOptions": {
        "customPlotOptions": {},
        "displayType": "table",
        "pivotAggregation": null,
        "pivotColumns": null,
        "xColumns": null,
        "yColumns": null
       },
       "removedWidgets": [],
       "schema": [
        {
         "metadata": "{}",
         "name": "stock_id",
         "type": "\"string\""
        },
        {
         "metadata": "{}",
         "name": "date",
         "type": "\"string\""
        },
        {
         "metadata": "{}",
         "name": "price",
         "type": "\"integer\""
        }
       ],
       "type": "table"
      }
     },
     "output_type": "display_data"
    }
   ],
   "source": [
    "from pyspark.sql.functions import *\n",
    "from pyspark.sql.window import Window\n",
    "\n",
    "from pyspark.sql.types import *\n",
    "\n",
    "# Define schema\n",
    "schema = StructType([\n",
    "    StructField(\"stock_id\", StringType(), True),\n",
    "    StructField(\"date\", StringType(), True),\n",
    "    StructField(\"price\", IntegerType(), True)\n",
    "])\n",
    "\n",
    "# Sample data\n",
    "data = [\n",
    "    (\"A\", \"2024-01-01\", 100),\n",
    "    (\"A\", \"2024-01-02\", 105),\n",
    "    (\"A\", \"2024-01-03\", 104),\n",
    "    (\"B\", \"2024-01-01\", 200),\n",
    "    (\"B\", \"2024-01-02\", 200),\n",
    "    (\"B\", \"2024-01-03\", 201)\n",
    "]\n",
    "\n",
    "# Create DataFrame\n",
    "df = spark.createDataFrame(data, schema=schema)\n",
    "\n",
    "df.display()"
   ]
  },
  {
   "cell_type": "code",
   "execution_count": 0,
   "metadata": {
    "application/vnd.databricks.v1+cell": {
     "cellMetadata": {
      "byteLimit": 2048000,
      "rowLimit": 10000
     },
     "inputWidgets": {},
     "nuid": "7d38f302-4682-4869-b074-4b4b78bbbb94",
     "showTitle": false,
     "tableResultSettingsMap": {},
     "title": ""
    }
   },
   "outputs": [
    {
     "output_type": "display_data",
     "data": {
      "text/html": [
       "<style scoped>\n",
       "  .table-result-container {\n",
       "    max-height: 300px;\n",
       "    overflow: auto;\n",
       "  }\n",
       "  table, th, td {\n",
       "    border: 1px solid black;\n",
       "    border-collapse: collapse;\n",
       "  }\n",
       "  th, td {\n",
       "    padding: 5px;\n",
       "  }\n",
       "  th {\n",
       "    text-align: left;\n",
       "  }\n",
       "</style><div class='table-result-container'><table class='table-result'><thead style='background-color: white'><tr><th>stock_id</th><th>date</th><th>price</th><th>price_change</th></tr></thead><tbody><tr><td>A</td><td>2024-01-01</td><td>100</td><td>NULL</td></tr><tr><td>A</td><td>2024-01-02</td><td>105</td><td>UP</td></tr><tr><td>A</td><td>2024-01-03</td><td>104</td><td>DOWN</td></tr><tr><td>B</td><td>2024-01-01</td><td>200</td><td>NULL</td></tr><tr><td>B</td><td>2024-01-02</td><td>200</td><td>SAME</td></tr><tr><td>B</td><td>2024-01-03</td><td>201</td><td>UP</td></tr></tbody></table></div>"
      ]
     },
     "metadata": {
      "application/vnd.databricks.v1+output": {
       "addedWidgets": {},
       "aggData": [],
       "aggError": "",
       "aggOverflow": false,
       "aggSchema": [],
       "aggSeriesLimitReached": false,
       "aggType": "",
       "arguments": {},
       "columnCustomDisplayInfos": {},
       "data": [
        [
         "A",
         "2024-01-01",
         100,
         "NULL"
        ],
        [
         "A",
         "2024-01-02",
         105,
         "UP"
        ],
        [
         "A",
         "2024-01-03",
         104,
         "DOWN"
        ],
        [
         "B",
         "2024-01-01",
         200,
         "NULL"
        ],
        [
         "B",
         "2024-01-02",
         200,
         "SAME"
        ],
        [
         "B",
         "2024-01-03",
         201,
         "UP"
        ]
       ],
       "datasetInfos": [],
       "dbfsResultPath": null,
       "isJsonSchema": true,
       "metadata": {},
       "overflow": false,
       "plotOptions": {
        "customPlotOptions": {},
        "displayType": "table",
        "pivotAggregation": null,
        "pivotColumns": null,
        "xColumns": null,
        "yColumns": null
       },
       "removedWidgets": [],
       "schema": [
        {
         "metadata": "{}",
         "name": "stock_id",
         "type": "\"string\""
        },
        {
         "metadata": "{}",
         "name": "date",
         "type": "\"string\""
        },
        {
         "metadata": "{}",
         "name": "price",
         "type": "\"integer\""
        },
        {
         "metadata": "{}",
         "name": "price_change",
         "type": "\"string\""
        }
       ],
       "type": "table"
      }
     },
     "output_type": "display_data"
    }
   ],
   "source": [
    "\n",
    "# Define window specification\n",
    "window_spec = Window.partitionBy(\"stock_id\").orderBy(\"date\")\n",
    "\n",
    "# Use lag function to get the previous day's price\n",
    "df = df.withColumn(\"prev_price\", lag(\"price\").over(window_spec))\n",
    "\n",
    "# Calculate price change direction\n",
    "df = df.withColumn(\"price_change\", \n",
    "          when(col(\"prev_price\").isNull(), \"NULL\")\n",
    "          .when(col(\"price\") > col(\"prev_price\"), \"UP\")\n",
    "          .when(col(\"price\") < col(\"prev_price\"), \"DOWN\")\n",
    "          .otherwise(\"SAME\"))\n",
    "\n",
    "# Select final columns\n",
    "df_results = df.select(\"stock_id\", \"date\", \"price\", \"price_change\")\n",
    "\n",
    "# Show results\n",
    "df_results.display()"
   ]
  },
  {
   "cell_type": "code",
   "execution_count": 0,
   "metadata": {
    "application/vnd.databricks.v1+cell": {
     "cellMetadata": {
      "byteLimit": 2048000,
      "rowLimit": 10000
     },
     "inputWidgets": {},
     "nuid": "6acab1e7-65c4-4878-89fd-781d43de77c0",
     "showTitle": false,
     "tableResultSettingsMap": {},
     "title": ""
    }
   },
   "outputs": [
    {
     "output_type": "display_data",
     "data": {
      "text/html": [
       "<style scoped>\n",
       "  .table-result-container {\n",
       "    max-height: 300px;\n",
       "    overflow: auto;\n",
       "  }\n",
       "  table, th, td {\n",
       "    border: 1px solid black;\n",
       "    border-collapse: collapse;\n",
       "  }\n",
       "  th, td {\n",
       "    padding: 5px;\n",
       "  }\n",
       "  th {\n",
       "    text-align: left;\n",
       "  }\n",
       "</style><div class='table-result-container'><table class='table-result'><thead style='background-color: white'><tr><th>stock_id</th><th>date</th><th>price</th><th>price_change</th></tr></thead><tbody><tr><td>A</td><td>2024-01-01</td><td>100</td><td>NULL</td></tr><tr><td>A</td><td>2024-01-02</td><td>105</td><td>UP</td></tr><tr><td>A</td><td>2024-01-03</td><td>104</td><td>DOWN</td></tr><tr><td>B</td><td>2024-01-01</td><td>200</td><td>NULL</td></tr><tr><td>B</td><td>2024-01-02</td><td>200</td><td>SAME</td></tr><tr><td>B</td><td>2024-01-03</td><td>201</td><td>UP</td></tr></tbody></table></div>"
      ]
     },
     "metadata": {
      "application/vnd.databricks.v1+output": {
       "addedWidgets": {},
       "aggData": [],
       "aggError": "",
       "aggOverflow": false,
       "aggSchema": [],
       "aggSeriesLimitReached": false,
       "aggType": "",
       "arguments": {},
       "columnCustomDisplayInfos": {},
       "data": [
        [
         "A",
         "2024-01-01",
         100,
         "NULL"
        ],
        [
         "A",
         "2024-01-02",
         105,
         "UP"
        ],
        [
         "A",
         "2024-01-03",
         104,
         "DOWN"
        ],
        [
         "B",
         "2024-01-01",
         200,
         "NULL"
        ],
        [
         "B",
         "2024-01-02",
         200,
         "SAME"
        ],
        [
         "B",
         "2024-01-03",
         201,
         "UP"
        ]
       ],
       "datasetInfos": [],
       "dbfsResultPath": null,
       "isJsonSchema": true,
       "metadata": {},
       "overflow": false,
       "plotOptions": {
        "customPlotOptions": {},
        "displayType": "table",
        "pivotAggregation": null,
        "pivotColumns": null,
        "xColumns": null,
        "yColumns": null
       },
       "removedWidgets": [],
       "schema": [
        {
         "metadata": "{}",
         "name": "stock_id",
         "type": "\"string\""
        },
        {
         "metadata": "{}",
         "name": "date",
         "type": "\"string\""
        },
        {
         "metadata": "{}",
         "name": "price",
         "type": "\"integer\""
        },
        {
         "metadata": "{}",
         "name": "price_change",
         "type": "\"string\""
        }
       ],
       "type": "table"
      }
     },
     "output_type": "display_data"
    }
   ],
   "source": [
    "df.createOrReplaceTempView(\"stocks\")\n",
    "\n",
    "# Run Spark SQL query to calculate price change\n",
    "query = \"\"\"\n",
    "SELECT\n",
    "    stock_id,\n",
    "    date,\n",
    "    price,\n",
    "    CASE\n",
    "        WHEN LAG(price) OVER(PARTITION BY stock_id ORDER BY date) IS NULL THEN 'NULL'\n",
    "        WHEN price > LAG(price) OVER(PARTITION BY stock_id ORDER BY date) THEN 'UP'\n",
    "        WHEN price < LAG(price) OVER(PARTITION BY stock_id ORDER BY date) THEN 'DOWN'\n",
    "        ELSE 'SAME'\n",
    "    END AS price_change\n",
    "FROM stocks\n",
    "\"\"\"\n",
    "\n",
    "# Execute the query\n",
    "df_results = spark.sql(query)\n",
    "\n",
    "# Show results\n",
    "df_results.display()"
   ]
  }
 ],
 "metadata": {
  "application/vnd.databricks.v1+notebook": {
   "dashboards": [],
   "environmentMetadata": null,
   "language": "python",
   "notebookMetadata": {
    "pythonIndentUnit": 2
   },
   "notebookName": "Mr. k. talk 2",
   "widgets": {}
  }
 },
 "nbformat": 4,
 "nbformat_minor": 0
}
