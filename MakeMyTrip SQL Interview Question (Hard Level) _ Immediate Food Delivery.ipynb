{
 "cells": [
  {
   "cell_type": "markdown",
   "metadata": {
    "application/vnd.databricks.v1+cell": {
     "cellMetadata": {},
     "inputWidgets": {},
     "nuid": "36f3a51b-1945-4da3-9547-0dfbed1cb42b",
     "showTitle": false,
     "tableResultSettingsMap": {},
     "title": ""
    }
   },
   "source": [
    "Problem Statement:\n",
    "\n",
    "You are tasked with analyzing delivery data to calculate the percentage of immediate first orders for each customer. An immediate order is defined as an order where the order_date is the same as the customer_pref_delivery_date. The analysis should focus only on the first order for each customer, based on the order_date.\n",
    "\n",
    "Requirements:\n",
    "\n",
    "Input Data:\n",
    "A dataset containing delivery records with the following fields:\n",
    "\n",
    "delivery_id (Integer): A unique identifier for each delivery.\n",
    "\n",
    "customer_id (Integer): The ID of the customer who placed the order.\n",
    "\n",
    "order_date (Date): The date the order was placed.\n",
    "\n",
    "customer_pref_delivery_date (Date): The date the customer prefers to have the delivery."
   ]
  },
  {
   "cell_type": "code",
   "execution_count": 0,
   "metadata": {
    "application/vnd.databricks.v1+cell": {
     "cellMetadata": {
      "byteLimit": 2048000,
      "rowLimit": 10000
     },
     "inputWidgets": {},
     "nuid": "3061a7bd-7ab0-4ba9-9398-7ac4c74ea681",
     "showTitle": false,
     "tableResultSettingsMap": {},
     "title": ""
    }
   },
   "outputs": [
    {
     "output_type": "display_data",
     "data": {
      "text/html": [
       "<style scoped>\n",
       "  .table-result-container {\n",
       "    max-height: 300px;\n",
       "    overflow: auto;\n",
       "  }\n",
       "  table, th, td {\n",
       "    border: 1px solid black;\n",
       "    border-collapse: collapse;\n",
       "  }\n",
       "  th, td {\n",
       "    padding: 5px;\n",
       "  }\n",
       "  th {\n",
       "    text-align: left;\n",
       "  }\n",
       "</style><div class='table-result-container'><table class='table-result'><thead style='background-color: white'><tr><th>delivery_id</th><th>customer_id</th><th>order_date</th><th>customer_pref_delivery_date</th></tr></thead><tbody><tr><td>1</td><td>1</td><td>2019-08-01</td><td>2019-08-02</td></tr><tr><td>2</td><td>2</td><td>2019-08-02</td><td>2019-08-02</td></tr><tr><td>3</td><td>1</td><td>2019-08-11</td><td>2019-08-12</td></tr><tr><td>4</td><td>3</td><td>2019-08-24</td><td>2019-08-24</td></tr><tr><td>5</td><td>3</td><td>2019-08-21</td><td>2019-08-22</td></tr><tr><td>6</td><td>2</td><td>2019-08-11</td><td>2019-08-13</td></tr><tr><td>7</td><td>4</td><td>2019-08-09</td><td>2019-08-09</td></tr></tbody></table></div>"
      ]
     },
     "metadata": {
      "application/vnd.databricks.v1+output": {
       "addedWidgets": {},
       "aggData": [],
       "aggError": "",
       "aggOverflow": false,
       "aggSchema": [],
       "aggSeriesLimitReached": false,
       "aggType": "",
       "arguments": {},
       "columnCustomDisplayInfos": {},
       "data": [
        [
         1,
         1,
         "2019-08-01",
         "2019-08-02"
        ],
        [
         2,
         2,
         "2019-08-02",
         "2019-08-02"
        ],
        [
         3,
         1,
         "2019-08-11",
         "2019-08-12"
        ],
        [
         4,
         3,
         "2019-08-24",
         "2019-08-24"
        ],
        [
         5,
         3,
         "2019-08-21",
         "2019-08-22"
        ],
        [
         6,
         2,
         "2019-08-11",
         "2019-08-13"
        ],
        [
         7,
         4,
         "2019-08-09",
         "2019-08-09"
        ]
       ],
       "datasetInfos": [],
       "dbfsResultPath": null,
       "isJsonSchema": true,
       "metadata": {},
       "overflow": false,
       "plotOptions": {
        "customPlotOptions": {},
        "displayType": "table",
        "pivotAggregation": null,
        "pivotColumns": null,
        "xColumns": null,
        "yColumns": null
       },
       "removedWidgets": [],
       "schema": [
        {
         "metadata": "{}",
         "name": "delivery_id",
         "type": "\"integer\""
        },
        {
         "metadata": "{}",
         "name": "customer_id",
         "type": "\"integer\""
        },
        {
         "metadata": "{}",
         "name": "order_date",
         "type": "\"date\""
        },
        {
         "metadata": "{}",
         "name": "customer_pref_delivery_date",
         "type": "\"date\""
        }
       ],
       "type": "table"
      }
     },
     "output_type": "display_data"
    }
   ],
   "source": [
    "from pyspark.sql.types import *\n",
    "import datetime\n",
    "\n",
    "delivery_data = [\n",
    "    (1, 1, datetime.date(2019, 8, 1), datetime.date(2019, 8, 2)),\n",
    "    (2, 2, datetime.date(2019, 8, 2), datetime.date(2019, 8, 2)),\n",
    "    (3, 1, datetime.date(2019, 8, 11), datetime.date(2019, 8, 12)),\n",
    "    (4, 3, datetime.date(2019, 8, 24), datetime.date(2019, 8, 24)),\n",
    "    (5, 3, datetime.date(2019, 8, 21), datetime.date(2019, 8, 22)),\n",
    "    (6, 2, datetime.date(2019, 8, 11), datetime.date(2019, 8, 13)),\n",
    "    (7, 4, datetime.date(2019, 8, 9), datetime.date(2019, 8, 9))\n",
    "]\n",
    "\n",
    "# Define schema for the Delivery table\n",
    "delivery_schema = StructType([\n",
    "    StructField(\"delivery_id\", IntegerType(), True),\n",
    "    StructField(\"customer_id\", IntegerType(), True),\n",
    "    StructField(\"order_date\", DateType(), True),\n",
    "    StructField(\"customer_pref_delivery_date\", DateType(), True)\n",
    "])\n",
    "# Create a DataFrame for the Delivery table\n",
    "delivery_df = spark.createDataFrame(delivery_data, schema=delivery_schema)\n",
    "\n",
    "# display the content of the DataFrame\n",
    "delivery_df.display()\n"
   ]
  },
  {
   "cell_type": "code",
   "execution_count": 0,
   "metadata": {
    "application/vnd.databricks.v1+cell": {
     "cellMetadata": {
      "byteLimit": 2048000,
      "rowLimit": 10000
     },
     "inputWidgets": {},
     "nuid": "2a237917-a526-4a9c-8fe5-7650bdd5e1a1",
     "showTitle": false,
     "tableResultSettingsMap": {},
     "title": ""
    }
   },
   "outputs": [],
   "source": [
    "# Register the DataFrame as a temporary SQL table\n",
    "delivery_df.createOrReplaceTempView(\"DELIVERY\")"
   ]
  },
  {
   "cell_type": "code",
   "execution_count": 0,
   "metadata": {
    "application/vnd.databricks.v1+cell": {
     "cellMetadata": {
      "byteLimit": 2048000,
      "rowLimit": 10000
     },
     "inputWidgets": {},
     "nuid": "e4da2432-1731-4a60-89f9-04ff77091f10",
     "showTitle": false,
     "tableResultSettingsMap": {},
     "title": ""
    }
   },
   "outputs": [
    {
     "output_type": "display_data",
     "data": {
      "text/html": [
       "<style scoped>\n",
       "  .table-result-container {\n",
       "    max-height: 300px;\n",
       "    overflow: auto;\n",
       "  }\n",
       "  table, th, td {\n",
       "    border: 1px solid black;\n",
       "    border-collapse: collapse;\n",
       "  }\n",
       "  th, td {\n",
       "    padding: 5px;\n",
       "  }\n",
       "  th {\n",
       "    text-align: left;\n",
       "  }\n",
       "</style><div class='table-result-container'><table class='table-result'><thead style='background-color: white'><tr><th>IMMEDIATE_ORDERS_PERCENTAGE</th></tr></thead><tbody><tr><td>50.00</td></tr></tbody></table></div>"
      ]
     },
     "metadata": {
      "application/vnd.databricks.v1+output": {
       "addedWidgets": {},
       "aggData": [],
       "aggError": "",
       "aggOverflow": false,
       "aggSchema": [],
       "aggSeriesLimitReached": false,
       "aggType": "",
       "arguments": {},
       "columnCustomDisplayInfos": {},
       "data": [
        [
         "50.00"
        ]
       ],
       "datasetInfos": [],
       "dbfsResultPath": null,
       "isJsonSchema": true,
       "metadata": {},
       "overflow": false,
       "plotOptions": {
        "customPlotOptions": {},
        "displayType": "table",
        "pivotAggregation": null,
        "pivotColumns": null,
        "xColumns": null,
        "yColumns": null
       },
       "removedWidgets": [],
       "schema": [
        {
         "metadata": "{}",
         "name": "IMMEDIATE_ORDERS_PERCENTAGE",
         "type": "\"decimal(27,2)\""
        }
       ],
       "type": "table"
      }
     },
     "output_type": "display_data"
    }
   ],
   "source": [
    "from pyspark.sql.functions import col, when, count, sum as _sum, round\n",
    "# Spark SQL query to calculate immediate orders percentage\n",
    "query = \"\"\"\n",
    "WITH ORDER_RANK AS (\n",
    "    SELECT\n",
    "        CUSTOMER_ID,\n",
    "        ORDER_DATE,\n",
    "        RANK() OVER (PARTITION BY CUSTOMER_ID ORDER BY ORDER_DATE) AS RNK\n",
    "    FROM DELIVERY\n",
    ")\n",
    "SELECT \n",
    "    ROUND(\n",
    "        (SUM(\n",
    "            CASE \n",
    "                WHEN D.ORDER_DATE = D.CUSTOMER_PREF_DELIVERY_DATE THEN 1\n",
    "                ELSE 0\n",
    "            END\n",
    "        ) * 100.0) / COUNT(*), 2\n",
    "    ) AS IMMEDIATE_ORDERS_PERCENTAGE\n",
    "FROM DELIVERY D\n",
    "JOIN ORDER_RANK OR1\n",
    "ON D.CUSTOMER_ID = OR1.CUSTOMER_ID\n",
    "AND D.ORDER_DATE = OR1.ORDER_DATE\n",
    "WHERE OR1.RNK = 1\n",
    "\"\"\"\n",
    "\n",
    "# Execute the query\n",
    "result_df = spark.sql(query)\n",
    "\n",
    "# Show the result\n",
    "result_df.display()"
   ]
  },
  {
   "cell_type": "code",
   "execution_count": 0,
   "metadata": {
    "application/vnd.databricks.v1+cell": {
     "cellMetadata": {
      "byteLimit": 2048000,
      "rowLimit": 10000
     },
     "inputWidgets": {},
     "nuid": "22652d4c-ab43-4e85-b8fd-c0f18386a3f0",
     "showTitle": false,
     "tableResultSettingsMap": {},
     "title": ""
    }
   },
   "outputs": [
    {
     "output_type": "display_data",
     "data": {
      "text/html": [
       "<style scoped>\n",
       "  .table-result-container {\n",
       "    max-height: 300px;\n",
       "    overflow: auto;\n",
       "  }\n",
       "  table, th, td {\n",
       "    border: 1px solid black;\n",
       "    border-collapse: collapse;\n",
       "  }\n",
       "  th, td {\n",
       "    padding: 5px;\n",
       "  }\n",
       "  th {\n",
       "    text-align: left;\n",
       "  }\n",
       "</style><div class='table-result-container'><table class='table-result'><thead style='background-color: white'><tr><th>immediate_orders_percentage</th></tr></thead><tbody><tr><td>50.0</td></tr></tbody></table></div>"
      ]
     },
     "metadata": {
      "application/vnd.databricks.v1+output": {
       "addedWidgets": {},
       "aggData": [],
       "aggError": "",
       "aggOverflow": false,
       "aggSchema": [],
       "aggSeriesLimitReached": false,
       "aggType": "",
       "arguments": {},
       "columnCustomDisplayInfos": {},
       "data": [
        [
         50.0
        ]
       ],
       "datasetInfos": [],
       "dbfsResultPath": null,
       "isJsonSchema": true,
       "metadata": {},
       "overflow": false,
       "plotOptions": {
        "customPlotOptions": {},
        "displayType": "table",
        "pivotAggregation": null,
        "pivotColumns": null,
        "xColumns": null,
        "yColumns": null
       },
       "removedWidgets": [],
       "schema": [
        {
         "metadata": "{}",
         "name": "immediate_orders_percentage",
         "type": "\"double\""
        }
       ],
       "type": "table"
      }
     },
     "output_type": "display_data"
    }
   ],
   "source": [
    "from pyspark.sql.functions import col, when, rank, round\n",
    "from pyspark.sql.window import Window\n",
    "import datetime\n",
    "# Add rank column for each customer's orders\n",
    "window_spec = Window.partitionBy(\"customer_id\").orderBy(\"order_date\")\n",
    "delivery_ranked_df = delivery_df.withColumn(\"rank\", rank().over(window_spec))\n",
    "\n",
    "# Filter for the first order for each customer (rank = 1)\n",
    "first_orders_df = delivery_ranked_df.filter(col(\"rank\") == 1)\n",
    "\n",
    "# Calculate immediate orders (where order_date = customer_pref_delivery_date)\n",
    "immediate_orders_df = first_orders_df.withColumn(\n",
    "    \"is_immediate\",\n",
    "    when(col(\"order_date\") == col(\"customer_pref_delivery_date\"), 1).otherwise(0)\n",
    ")\n",
    "\n",
    "# Calculate the percentage of immediate orders\n",
    "result_df = immediate_orders_df.agg(\n",
    "    round(\n",
    "        (_sum(col(\"is_immediate\")) * 100.0) / count(\"*\"), 2\n",
    "    ).alias(\"immediate_orders_percentage\")\n",
    ")\n",
    "\n",
    "# Show the result\n",
    "result_df.display()"
   ]
  },
  {
   "cell_type": "markdown",
   "metadata": {
    "application/vnd.databricks.v1+cell": {
     "cellMetadata": {},
     "inputWidgets": {},
     "nuid": "a89c45f4-f04f-49a9-a1b9-2c461d669300",
     "showTitle": false,
     "tableResultSettingsMap": {},
     "title": ""
    }
   },
   "source": [
    "Explanation of the Code:\n",
    "\n",
    "Data Initialization:\n",
    "\n",
    "The delivery_data contains tuples with Python datetime.date objects for date fields.\n",
    "\n",
    "Rank Calculation:\n",
    "\n",
    "A Window specification (Window.partitionBy(\"customer_id\").orderBy(\"order_date\")) is used to compute the rank of orders for each customer.\n",
    "The rank() function assigns a rank to each order based on the order date for a customer.\n",
    "\n",
    "Filter for First Orders:\n",
    "\n",
    "Only rows where rank = 1 are kept, representing the first orders for each customer.\n",
    "\n",
    "Immediate Order Calculation:\n",
    "\n",
    "A new column is_immediate is added to indicate whether the order_date matches the customer_pref_delivery_date.\n",
    "\n",
    "Percentage Calculation:\n",
    "\n",
    "\n",
    "The formula (sum(is_immediate) * 100.0) / total_count calculates the percentage of immediate orders.\n",
    "The result is rounded to 2 decimal places using round()."
   ]
  }
 ],
 "metadata": {
  "application/vnd.databricks.v1+notebook": {
   "computePreferences": null,
   "dashboards": [],
   "environmentMetadata": {
    "base_environment": "",
    "client": "1"
   },
   "language": "python",
   "notebookMetadata": {
    "pythonIndentUnit": 4
   },
   "notebookName": "MakeMyTrip SQL Interview Question (Hard Level) | Immediate Food Delivery",
   "widgets": {}
  }
 },
 "nbformat": 4,
 "nbformat_minor": 0
}
