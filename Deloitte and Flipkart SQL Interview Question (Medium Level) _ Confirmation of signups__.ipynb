{
 "cells": [
  {
   "cell_type": "markdown",
   "metadata": {
    "application/vnd.databricks.v1+cell": {
     "cellMetadata": {},
     "inputWidgets": {},
     "nuid": "d76eaa8a-7e98-4599-bb35-970db5df5046",
     "showTitle": false,
     "tableResultSettingsMap": {},
     "title": ""
    }
   },
   "source": [
    "Problem Statement:\n",
    "\n",
    "Write a SQL query to find the confirmatio rate of each user.\n",
    "The confiramtion rate of a user is the number of 'confirmed' messages divided by the total number of requested confirmation messages.\n",
    "The confirmation rate of a user that did not requets any confirmation messages is 0. Round the confiramtion rate to two decimal places.\n"
   ]
  },
  {
   "cell_type": "code",
   "execution_count": 0,
   "metadata": {
    "application/vnd.databricks.v1+cell": {
     "cellMetadata": {
      "byteLimit": 2048000,
      "rowLimit": 10000
     },
     "inputWidgets": {},
     "nuid": "b867e65f-9ff3-426a-891d-274b422d12bf",
     "showTitle": false,
     "tableResultSettingsMap": {},
     "title": ""
    }
   },
   "outputs": [],
   "source": [
    "from pyspark.sql.types import *\n",
    "from datetime import datetime"
   ]
  },
  {
   "cell_type": "code",
   "execution_count": 0,
   "metadata": {
    "application/vnd.databricks.v1+cell": {
     "cellMetadata": {
      "byteLimit": 2048000,
      "rowLimit": 10000
     },
     "inputWidgets": {},
     "nuid": "394c3256-4428-4346-b70e-6fe308da0187",
     "showTitle": false,
     "tableResultSettingsMap": {},
     "title": ""
    }
   },
   "outputs": [],
   "source": [
    "# Schema for Signups\n",
    "signups_schema = StructType(\n",
    "    [\n",
    "        StructField(\"user_id\", IntegerType(), True),\n",
    "        StructField(\"time_stamp\", TimestampType(), True),\n",
    "    ]\n",
    ")\n",
    "\n",
    "# Schema for Confirmations\n",
    "confirmations_schema = StructType(\n",
    "    [\n",
    "        StructField(\"user_id\", IntegerType(), True),\n",
    "        StructField(\"time_stamp\", TimestampType(), True),\n",
    "        StructField(\"action_\", StringType(), True),\n",
    "    ]\n",
    ")"
   ]
  },
  {
   "cell_type": "code",
   "execution_count": 0,
   "metadata": {
    "application/vnd.databricks.v1+cell": {
     "cellMetadata": {
      "byteLimit": 2048000,
      "rowLimit": 10000
     },
     "inputWidgets": {},
     "nuid": "adc268da-5d64-4695-a54d-abe9ff331591",
     "showTitle": false,
     "tableResultSettingsMap": {},
     "title": ""
    }
   },
   "outputs": [],
   "source": [
    "# Data for Signups with datetime objects\n",
    "signups_data = [\n",
    "    (3, datetime.strptime(\"2020-03-21 10:16:13\", \"%Y-%m-%d %H:%M:%S\")),\n",
    "    (7, datetime.strptime(\"2020-01-04 13:57:59\", \"%Y-%m-%d %H:%M:%S\")),\n",
    "    (2, datetime.strptime(\"2020-07-29 23:09:44\", \"%Y-%m-%d %H:%M:%S\")),\n",
    "    (6, datetime.strptime(\"2020-12-09 10:39:37\", \"%Y-%m-%d %H:%M:%S\")),\n",
    "]\n",
    "\n",
    "# Data for Confirmations with datetime objects\n",
    "confirmations_data = [\n",
    "    (3, datetime.strptime(\"2021-01-06 03:30:46\", \"%Y-%m-%d %H:%M:%S\"), \"timeout\"),\n",
    "    (3, datetime.strptime(\"2021-07-14 14:00:00\", \"%Y-%m-%d %H:%M:%S\"), \"timeout\"),\n",
    "    (7, datetime.strptime(\"2021-06-12 11:57:29\", \"%Y-%m-%d %H:%M:%S\"), \"confirmed\"),\n",
    "    (7, datetime.strptime(\"2021-06-13 12:58:28\", \"%Y-%m-%d %H:%M:%S\"), \"confirmed\"),\n",
    "    (7, datetime.strptime(\"2021-06-14 13:59:27\", \"%Y-%m-%d %H:%M:%S\"), \"confirmed\"),\n",
    "    (2, datetime.strptime(\"2021-01-22 00:00:00\", \"%Y-%m-%d %H:%M:%S\"), \"confirmed\"),\n",
    "    (2, datetime.strptime(\"2021-02-28 23:59:59\", \"%Y-%m-%d %H:%M:%S\"), \"timeout\"),\n",
    "]"
   ]
  },
  {
   "cell_type": "code",
   "execution_count": 0,
   "metadata": {
    "application/vnd.databricks.v1+cell": {
     "cellMetadata": {
      "byteLimit": 2048000,
      "rowLimit": 10000
     },
     "inputWidgets": {},
     "nuid": "53625498-1022-45b9-9144-4e310aaa662a",
     "showTitle": false,
     "tableResultSettingsMap": {},
     "title": ""
    }
   },
   "outputs": [],
   "source": [
    "# Create Signups DataFrame\n",
    "signups_df = spark.createDataFrame(signups_data, schema=signups_schema)\n",
    "\n",
    "# Create Confirmations DataFrame\n",
    "confirmations_df = spark.createDataFrame(\n",
    "    confirmations_data, schema=confirmations_schema\n",
    ")"
   ]
  },
  {
   "cell_type": "code",
   "execution_count": 0,
   "metadata": {
    "application/vnd.databricks.v1+cell": {
     "cellMetadata": {
      "byteLimit": 2048000,
      "rowLimit": 10000
     },
     "inputWidgets": {},
     "nuid": "1b1c620e-7287-4eb3-b8f3-481649eadc06",
     "showTitle": false,
     "tableResultSettingsMap": {},
     "title": ""
    }
   },
   "outputs": [
    {
     "output_type": "display_data",
     "data": {
      "text/html": [
       "<style scoped>\n",
       "  .table-result-container {\n",
       "    max-height: 300px;\n",
       "    overflow: auto;\n",
       "  }\n",
       "  table, th, td {\n",
       "    border: 1px solid black;\n",
       "    border-collapse: collapse;\n",
       "  }\n",
       "  th, td {\n",
       "    padding: 5px;\n",
       "  }\n",
       "  th {\n",
       "    text-align: left;\n",
       "  }\n",
       "</style><div class='table-result-container'><table class='table-result'><thead style='background-color: white'><tr><th>user_id</th><th>time_stamp</th></tr></thead><tbody><tr><td>3</td><td>2020-03-21T10:16:13.000+0000</td></tr><tr><td>7</td><td>2020-01-04T13:57:59.000+0000</td></tr><tr><td>2</td><td>2020-07-29T23:09:44.000+0000</td></tr><tr><td>6</td><td>2020-12-09T10:39:37.000+0000</td></tr></tbody></table></div>"
      ]
     },
     "metadata": {
      "application/vnd.databricks.v1+output": {
       "addedWidgets": {},
       "aggData": [],
       "aggError": "",
       "aggOverflow": false,
       "aggSchema": [],
       "aggSeriesLimitReached": false,
       "aggType": "",
       "arguments": {},
       "columnCustomDisplayInfos": {},
       "data": [
        [
         3,
         "2020-03-21T10:16:13.000+0000"
        ],
        [
         7,
         "2020-01-04T13:57:59.000+0000"
        ],
        [
         2,
         "2020-07-29T23:09:44.000+0000"
        ],
        [
         6,
         "2020-12-09T10:39:37.000+0000"
        ]
       ],
       "datasetInfos": [],
       "dbfsResultPath": null,
       "isJsonSchema": true,
       "metadata": {},
       "overflow": false,
       "plotOptions": {
        "customPlotOptions": {},
        "displayType": "table",
        "pivotAggregation": null,
        "pivotColumns": null,
        "xColumns": null,
        "yColumns": null
       },
       "removedWidgets": [],
       "schema": [
        {
         "metadata": "{}",
         "name": "user_id",
         "type": "\"integer\""
        },
        {
         "metadata": "{}",
         "name": "time_stamp",
         "type": "\"timestamp\""
        }
       ],
       "type": "table"
      }
     },
     "output_type": "display_data"
    },
    {
     "output_type": "display_data",
     "data": {
      "text/html": [
       "<style scoped>\n",
       "  .table-result-container {\n",
       "    max-height: 300px;\n",
       "    overflow: auto;\n",
       "  }\n",
       "  table, th, td {\n",
       "    border: 1px solid black;\n",
       "    border-collapse: collapse;\n",
       "  }\n",
       "  th, td {\n",
       "    padding: 5px;\n",
       "  }\n",
       "  th {\n",
       "    text-align: left;\n",
       "  }\n",
       "</style><div class='table-result-container'><table class='table-result'><thead style='background-color: white'><tr><th>user_id</th><th>time_stamp</th><th>action_</th></tr></thead><tbody><tr><td>3</td><td>2021-01-06T03:30:46.000+0000</td><td>timeout</td></tr><tr><td>3</td><td>2021-07-14T14:00:00.000+0000</td><td>timeout</td></tr><tr><td>7</td><td>2021-06-12T11:57:29.000+0000</td><td>confirmed</td></tr><tr><td>7</td><td>2021-06-13T12:58:28.000+0000</td><td>confirmed</td></tr><tr><td>7</td><td>2021-06-14T13:59:27.000+0000</td><td>confirmed</td></tr><tr><td>2</td><td>2021-01-22T00:00:00.000+0000</td><td>confirmed</td></tr><tr><td>2</td><td>2021-02-28T23:59:59.000+0000</td><td>timeout</td></tr></tbody></table></div>"
      ]
     },
     "metadata": {
      "application/vnd.databricks.v1+output": {
       "addedWidgets": {},
       "aggData": [],
       "aggError": "",
       "aggOverflow": false,
       "aggSchema": [],
       "aggSeriesLimitReached": false,
       "aggType": "",
       "arguments": {},
       "columnCustomDisplayInfos": {},
       "data": [
        [
         3,
         "2021-01-06T03:30:46.000+0000",
         "timeout"
        ],
        [
         3,
         "2021-07-14T14:00:00.000+0000",
         "timeout"
        ],
        [
         7,
         "2021-06-12T11:57:29.000+0000",
         "confirmed"
        ],
        [
         7,
         "2021-06-13T12:58:28.000+0000",
         "confirmed"
        ],
        [
         7,
         "2021-06-14T13:59:27.000+0000",
         "confirmed"
        ],
        [
         2,
         "2021-01-22T00:00:00.000+0000",
         "confirmed"
        ],
        [
         2,
         "2021-02-28T23:59:59.000+0000",
         "timeout"
        ]
       ],
       "datasetInfos": [],
       "dbfsResultPath": null,
       "isJsonSchema": true,
       "metadata": {},
       "overflow": false,
       "plotOptions": {
        "customPlotOptions": {},
        "displayType": "table",
        "pivotAggregation": null,
        "pivotColumns": null,
        "xColumns": null,
        "yColumns": null
       },
       "removedWidgets": [],
       "schema": [
        {
         "metadata": "{}",
         "name": "user_id",
         "type": "\"integer\""
        },
        {
         "metadata": "{}",
         "name": "time_stamp",
         "type": "\"timestamp\""
        },
        {
         "metadata": "{}",
         "name": "action_",
         "type": "\"string\""
        }
       ],
       "type": "table"
      }
     },
     "output_type": "display_data"
    }
   ],
   "source": [
    "signups_df.display()\n",
    "confirmations_df.display()"
   ]
  },
  {
   "cell_type": "code",
   "execution_count": 0,
   "metadata": {
    "application/vnd.databricks.v1+cell": {
     "cellMetadata": {
      "byteLimit": 2048000,
      "rowLimit": 10000
     },
     "inputWidgets": {},
     "nuid": "548e81da-321f-413b-a600-52be02e765d5",
     "showTitle": false,
     "tableResultSettingsMap": {},
     "title": ""
    }
   },
   "outputs": [],
   "source": [
    "signups_df.createOrReplaceTempView(\"signups\")\n",
    "confirmations_df.createOrReplaceTempView(\"confirmations\")"
   ]
  },
  {
   "cell_type": "code",
   "execution_count": 0,
   "metadata": {
    "application/vnd.databricks.v1+cell": {
     "cellMetadata": {
      "byteLimit": 2048000,
      "rowLimit": 10000
     },
     "inputWidgets": {},
     "nuid": "1f7ab209-a5fb-4f4b-b12b-98a65258e327",
     "showTitle": false,
     "tableResultSettingsMap": {},
     "title": ""
    }
   },
   "outputs": [
    {
     "output_type": "display_data",
     "data": {
      "text/html": [
       "<style scoped>\n",
       "  .table-result-container {\n",
       "    max-height: 300px;\n",
       "    overflow: auto;\n",
       "  }\n",
       "  table, th, td {\n",
       "    border: 1px solid black;\n",
       "    border-collapse: collapse;\n",
       "  }\n",
       "  th, td {\n",
       "    padding: 5px;\n",
       "  }\n",
       "  th {\n",
       "    text-align: left;\n",
       "  }\n",
       "</style><div class='table-result-container'><table class='table-result'><thead style='background-color: white'><tr><th>user_id</th><th>confirmation_rate</th></tr></thead><tbody><tr><td>3</td><td>0.00</td></tr><tr><td>7</td><td>1.00</td></tr><tr><td>2</td><td>0.50</td></tr><tr><td>6</td><td>0.00</td></tr></tbody></table></div>"
      ]
     },
     "metadata": {
      "application/vnd.databricks.v1+output": {
       "addedWidgets": {},
       "aggData": [],
       "aggError": "",
       "aggOverflow": false,
       "aggSchema": [],
       "aggSeriesLimitReached": false,
       "aggType": "",
       "arguments": {},
       "columnCustomDisplayInfos": {},
       "data": [
        [
         3,
         "0.00"
        ],
        [
         7,
         "1.00"
        ],
        [
         2,
         "0.50"
        ],
        [
         6,
         "0.00"
        ]
       ],
       "datasetInfos": [],
       "dbfsResultPath": null,
       "isJsonSchema": true,
       "metadata": {},
       "overflow": false,
       "plotOptions": {
        "customPlotOptions": {},
        "displayType": "table",
        "pivotAggregation": null,
        "pivotColumns": null,
        "xColumns": null,
        "yColumns": null
       },
       "removedWidgets": [],
       "schema": [
        {
         "metadata": "{}",
         "name": "user_id",
         "type": "\"integer\""
        },
        {
         "metadata": "{}",
         "name": "confirmation_rate",
         "type": "\"string\""
        }
       ],
       "type": "table"
      }
     },
     "output_type": "display_data"
    }
   ],
   "source": [
    "from pyspark.sql.functions import col, when, avg, format_number\n",
    "\n",
    "# Left join Signups with Confirmations\n",
    "joined_df = signups_df.join(confirmations_df, on=\"user_id\", how=\"left\")\n",
    "# Add confirmation status column\n",
    "joined_df = joined_df.withColumn(\n",
    "    \"confirmation_status\", when(col(\"action\") == \"confirmed\", 1.0).otherwise(0.0)\n",
    ")\n",
    "# Calculate confirmation rate\n",
    "confirmation_rate_df = joined_df.groupBy(\"user_id\").agg(\n",
    "    avg(\"confirmation_status\").alias(\"confirmation_rate\")\n",
    ")\n",
    "\n",
    "# Format the confirmation rate to two decimal places\n",
    "confirmation_rate_df = confirmation_rate_df.withColumn(\n",
    "    \"confirmation_rate\", format_number(\"confirmation_rate\", 2)\n",
    ")\n",
    "confirmation_rate_df.display()"
   ]
  },
  {
   "cell_type": "code",
   "execution_count": 0,
   "metadata": {
    "application/vnd.databricks.v1+cell": {
     "cellMetadata": {
      "byteLimit": 2048000,
      "implicitDf": true,
      "rowLimit": 10000
     },
     "inputWidgets": {},
     "nuid": "8c2fb772-cd80-4349-9bb0-ee5051596d9d",
     "showTitle": false,
     "tableResultSettingsMap": {},
     "title": ""
    }
   },
   "outputs": [
    {
     "output_type": "display_data",
     "data": {
      "text/html": [
       "<style scoped>\n",
       "  .table-result-container {\n",
       "    max-height: 300px;\n",
       "    overflow: auto;\n",
       "  }\n",
       "  table, th, td {\n",
       "    border: 1px solid black;\n",
       "    border-collapse: collapse;\n",
       "  }\n",
       "  th, td {\n",
       "    padding: 5px;\n",
       "  }\n",
       "  th {\n",
       "    text-align: left;\n",
       "  }\n",
       "</style><div class='table-result-container'><table class='table-result'><thead style='background-color: white'><tr><th>user_id</th><th>confirmation_rate</th></tr></thead><tbody><tr><td>3</td><td>0.00</td></tr><tr><td>7</td><td>1.00</td></tr><tr><td>2</td><td>0.50</td></tr><tr><td>6</td><td>0.00</td></tr></tbody></table></div>"
      ]
     },
     "metadata": {
      "application/vnd.databricks.v1+output": {
       "addedWidgets": {},
       "aggData": [],
       "aggError": "",
       "aggOverflow": false,
       "aggSchema": [],
       "aggSeriesLimitReached": false,
       "aggType": "",
       "arguments": {},
       "columnCustomDisplayInfos": {},
       "data": [
        [
         3,
         "0.00"
        ],
        [
         7,
         "1.00"
        ],
        [
         2,
         "0.50"
        ],
        [
         6,
         "0.00"
        ]
       ],
       "datasetInfos": [],
       "dbfsResultPath": null,
       "isJsonSchema": true,
       "metadata": {},
       "overflow": false,
       "plotOptions": {
        "customPlotOptions": {},
        "displayType": "table",
        "pivotAggregation": null,
        "pivotColumns": null,
        "xColumns": null,
        "yColumns": null
       },
       "removedWidgets": [],
       "schema": [
        {
         "metadata": "{}",
         "name": "user_id",
         "type": "\"integer\""
        },
        {
         "metadata": "{}",
         "name": "confirmation_rate",
         "type": "\"decimal(6,2)\""
        }
       ],
       "type": "table"
      }
     },
     "output_type": "display_data"
    }
   ],
   "source": [
    "%sql\n",
    "WITH cte AS (\n",
    "  SELECT\n",
    "    s.user_id,\n",
    "    c.action_\n",
    "  FROM\n",
    "    signups s\n",
    "    LEFT JOIN confirmations c ON s.user_id = c.user_id\n",
    ")\n",
    "SELECT\n",
    "  user_id,\n",
    "  CAST(\n",
    "    AVG(\n",
    "      CASE\n",
    "        WHEN action_ = 'confirmed' THEN 1.00\n",
    "        ELSE 0.00\n",
    "      END\n",
    "    ) AS DECIMAL(6, 2)\n",
    "  ) AS confirmation_rate\n",
    "FROM\n",
    "  cte\n",
    "GROUP BY\n",
    "  user_id;"
   ]
  },
  {
   "cell_type": "markdown",
   "metadata": {
    "application/vnd.databricks.v1+cell": {
     "cellMetadata": {},
     "inputWidgets": {},
     "nuid": "e3685e5c-123d-4ec2-9704-0155828b88ab",
     "showTitle": false,
     "tableResultSettingsMap": {},
     "title": ""
    }
   },
   "source": [
    "Explanation:\n",
    "\n",
    "CTE Definition:\n",
    "\n",
    "The cte combines data from the signups and confirmations tables.\n",
    "It ensures that all user_ids from signups are included (via the LEFT JOIN), along with the corresponding action from confirmations.\n",
    "Main Query:\n",
    "\n",
    "The AVG function computes the average of 1.00 (for confirmed actions) and 0.00 (for non-confirmed actions) to calculate the confirmation_rate.\n",
    "The CAST ensures the result is displayed with a precision of 2 decimal places.\n",
    "GROUP BY Clause:\n",
    "\n",
    "This groups the results by user_id, ensuring a confirmation_rate is calculated for each user.![](path)"
   ]
  }
 ],
 "metadata": {
  "application/vnd.databricks.v1+notebook": {
   "computePreferences": null,
   "dashboards": [],
   "environmentMetadata": {
    "base_environment": "",
    "client": "1"
   },
   "language": "python",
   "notebookMetadata": {
    "mostRecentlyExecutedCommandWithImplicitDF": {
     "commandId": 4382802402969486,
     "dataframes": [
      "_sqldf"
     ]
    },
    "pythonIndentUnit": 4
   },
   "notebookName": "Deloitte and Flipkart SQL Interview Question (Medium Level) | Confirmation of signups💡",
   "widgets": {}
  }
 },
 "nbformat": 4,
 "nbformat_minor": 0
}
