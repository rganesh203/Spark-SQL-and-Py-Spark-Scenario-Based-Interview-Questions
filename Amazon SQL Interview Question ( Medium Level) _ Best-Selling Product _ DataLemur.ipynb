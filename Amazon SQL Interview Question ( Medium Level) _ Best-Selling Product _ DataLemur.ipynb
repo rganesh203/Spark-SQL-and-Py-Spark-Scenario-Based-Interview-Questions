{
 "cells": [
  {
   "cell_type": "markdown",
   "metadata": {
    "application/vnd.databricks.v1+cell": {
     "cellMetadata": {},
     "inputWidgets": {},
     "nuid": "7b123a49-ca60-40dc-b83b-4f536d41847a",
     "showTitle": false,
     "title": ""
    }
   },
   "source": [
    "Problem Statement:\n",
    "\n",
    "Write an SQL query to find the best-selling product in each product category. If there are two or more products with the same sales quantity, go by whichever product which has the higher review rating.\n",
    "\n",
    "Return the category name and product name in alphabetical order of the category."
   ]
  },
  {
   "cell_type": "code",
   "execution_count": 0,
   "metadata": {
    "application/vnd.databricks.v1+cell": {
     "cellMetadata": {
      "byteLimit": 2048000,
      "rowLimit": 10000
     },
     "inputWidgets": {},
     "nuid": "3eb90f27-2a8b-4765-bc46-b46d53ae2cd2",
     "showTitle": false,
     "title": ""
    }
   },
   "outputs": [
    {
     "output_type": "display_data",
     "data": {
      "text/html": [
       "<style scoped>\n",
       "  .table-result-container {\n",
       "    max-height: 300px;\n",
       "    overflow: auto;\n",
       "  }\n",
       "  table, th, td {\n",
       "    border: 1px solid black;\n",
       "    border-collapse: collapse;\n",
       "  }\n",
       "  th, td {\n",
       "    padding: 5px;\n",
       "  }\n",
       "  th {\n",
       "    text-align: left;\n",
       "  }\n",
       "</style><div class='table-result-container'><table class='table-result'><thead style='background-color: white'><tr><th>product_id</th><th>product_name</th><th>category_name</th></tr></thead><tbody><tr><td>3690</td><td>Game of Thrones</td><td>Books</td></tr><tr><td>5520</td><td>Refrigerator</td><td>Home Appliances</td></tr><tr><td>5952</td><td>Dishwasher</td><td>Home Appliances</td></tr><tr><td>3561</td><td>IKGAI</td><td>Books</td></tr><tr><td>8741</td><td>Convertible Laptop</td><td>Tech Gadgets</td></tr><tr><td>8154</td><td>Gaming Keyboard</td><td>Tech Gadgets</td></tr><tr><td>8963</td><td>Ultra Slim Smartphone</td><td>Tech Gadgets</td></tr><tr><td>5666</td><td>Washing Machine</td><td>Home Appliances</td></tr><tr><td>3300</td><td>Ace the Data Science Interview</td><td>Books</td></tr><tr><td>6078</td><td>Kindle Oasis</td><td>Amazon Kindle</td></tr><tr><td>6077</td><td>Kindle Paperwhite</td><td>Amazon Kindle</td></tr></tbody></table></div>"
      ]
     },
     "metadata": {
      "application/vnd.databricks.v1+output": {
       "addedWidgets": {},
       "aggData": [],
       "aggError": "",
       "aggOverflow": false,
       "aggSchema": [],
       "aggSeriesLimitReached": false,
       "aggType": "",
       "arguments": {},
       "columnCustomDisplayInfos": {},
       "data": [
        [
         3690,
         "Game of Thrones",
         "Books"
        ],
        [
         5520,
         "Refrigerator",
         "Home Appliances"
        ],
        [
         5952,
         "Dishwasher",
         "Home Appliances"
        ],
        [
         3561,
         "IKGAI",
         "Books"
        ],
        [
         8741,
         "Convertible Laptop",
         "Tech Gadgets"
        ],
        [
         8154,
         "Gaming Keyboard",
         "Tech Gadgets"
        ],
        [
         8963,
         "Ultra Slim Smartphone",
         "Tech Gadgets"
        ],
        [
         5666,
         "Washing Machine",
         "Home Appliances"
        ],
        [
         3300,
         "Ace the Data Science Interview",
         "Books"
        ],
        [
         6078,
         "Kindle Oasis",
         "Amazon Kindle"
        ],
        [
         6077,
         "Kindle Paperwhite",
         "Amazon Kindle"
        ]
       ],
       "datasetInfos": [],
       "dbfsResultPath": null,
       "isJsonSchema": true,
       "metadata": {},
       "overflow": false,
       "plotOptions": {
        "customPlotOptions": {},
        "displayType": "table",
        "pivotAggregation": null,
        "pivotColumns": null,
        "xColumns": null,
        "yColumns": null
       },
       "removedWidgets": [],
       "schema": [
        {
         "metadata": "{}",
         "name": "product_id",
         "type": "\"long\""
        },
        {
         "metadata": "{}",
         "name": "product_name",
         "type": "\"string\""
        },
        {
         "metadata": "{}",
         "name": "category_name",
         "type": "\"string\""
        }
       ],
       "type": "table"
      }
     },
     "output_type": "display_data"
    },
    {
     "output_type": "display_data",
     "data": {
      "text/html": [
       "<style scoped>\n",
       "  .table-result-container {\n",
       "    max-height: 300px;\n",
       "    overflow: auto;\n",
       "  }\n",
       "  table, th, td {\n",
       "    border: 1px solid black;\n",
       "    border-collapse: collapse;\n",
       "  }\n",
       "  th, td {\n",
       "    padding: 5px;\n",
       "  }\n",
       "  th {\n",
       "    text-align: left;\n",
       "  }\n",
       "</style><div class='table-result-container'><table class='table-result'><thead style='background-color: white'><tr><th>product_id</th><th>sales_quantity</th><th>rating</th></tr></thead><tbody><tr><td>3690</td><td>300</td><td>4.9</td></tr><tr><td>5520</td><td>70</td><td>3.8</td></tr><tr><td>5952</td><td>70</td><td>4.0</td></tr><tr><td>3561</td><td>290</td><td>4.5</td></tr><tr><td>3300</td><td>450</td><td>5.0</td></tr><tr><td>6077</td><td>126</td><td>4.1</td></tr><tr><td>6078</td><td>230</td><td>4.3</td></tr><tr><td>8741</td><td>40</td><td>3.5</td></tr><tr><td>8963</td><td>190</td><td>4.5</td></tr><tr><td>5666</td><td>30</td><td>3.4</td></tr><tr><td>8154</td><td>190</td><td>4.6</td></tr></tbody></table></div>"
      ]
     },
     "metadata": {
      "application/vnd.databricks.v1+output": {
       "addedWidgets": {},
       "aggData": [],
       "aggError": "",
       "aggOverflow": false,
       "aggSchema": [],
       "aggSeriesLimitReached": false,
       "aggType": "",
       "arguments": {},
       "columnCustomDisplayInfos": {},
       "data": [
        [
         3690,
         300,
         4.9
        ],
        [
         5520,
         70,
         3.8
        ],
        [
         5952,
         70,
         4.0
        ],
        [
         3561,
         290,
         4.5
        ],
        [
         3300,
         450,
         5.0
        ],
        [
         6077,
         126,
         4.1
        ],
        [
         6078,
         230,
         4.3
        ],
        [
         8741,
         40,
         3.5
        ],
        [
         8963,
         190,
         4.5
        ],
        [
         5666,
         30,
         3.4
        ],
        [
         8154,
         190,
         4.6
        ]
       ],
       "datasetInfos": [],
       "dbfsResultPath": null,
       "isJsonSchema": true,
       "metadata": {},
       "overflow": false,
       "plotOptions": {
        "customPlotOptions": {},
        "displayType": "table",
        "pivotAggregation": null,
        "pivotColumns": null,
        "xColumns": null,
        "yColumns": null
       },
       "removedWidgets": [],
       "schema": [
        {
         "metadata": "{}",
         "name": "product_id",
         "type": "\"long\""
        },
        {
         "metadata": "{}",
         "name": "sales_quantity",
         "type": "\"long\""
        },
        {
         "metadata": "{}",
         "name": "rating",
         "type": "\"double\""
        }
       ],
       "type": "table"
      }
     },
     "output_type": "display_data"
    }
   ],
   "source": [
    "# Create Products DataFrame\n",
    "products_data = [\n",
    "    (3690, \"Game of Thrones\", \"Books\"),\n",
    "    (5520, \"Refrigerator\", \"Home Appliances\"),\n",
    "    (5952, \"Dishwasher\", \"Home Appliances\"),\n",
    "    (3561, \"IKGAI\", \"Books\"),\n",
    "    (8741, \"Convertible Laptop\", \"Tech Gadgets\"),\n",
    "    (8154, \"Gaming Keyboard\", \"Tech Gadgets\"),\n",
    "    (8963, \"Ultra Slim Smartphone\", \"Tech Gadgets\"),\n",
    "    (5666, \"Washing Machine\", \"Home Appliances\"),\n",
    "    (3300, \"Ace the Data Science Interview\", \"Books\"),\n",
    "    (6078, \"Kindle Oasis\", \"Amazon Kindle\"),\n",
    "    (6077, \"Kindle Paperwhite\", \"Amazon Kindle\"),\n",
    "]\n",
    "\n",
    "products_columns = [\"product_id\", \"product_name\", \"category_name\"]\n",
    "products_df = spark.createDataFrame(products_data, products_columns)\n",
    "\n",
    "# Create Product_Sales DataFrame\n",
    "sales_data = [\n",
    "    (3690, 300, 4.9),\n",
    "    (5520, 70, 3.8),\n",
    "    (5952, 70, 4.0),\n",
    "    (3561, 290, 4.5),\n",
    "    (3300, 450, 5.0),\n",
    "    (6077, 126, 4.1),\n",
    "    (6078, 230, 4.3),\n",
    "    (8741, 40, 3.5),\n",
    "    (8963, 190, 4.5),\n",
    "    (5666, 30, 3.4),\n",
    "    (8154, 190, 4.6),\n",
    "]\n",
    "\n",
    "sales_columns = [\"product_id\", \"sales_quantity\", \"rating\"]\n",
    "sales_df = spark.createDataFrame(sales_data, sales_columns)\n",
    "\n",
    "# display the data\n",
    "products_df.display()\n",
    "sales_df.display()"
   ]
  },
  {
   "cell_type": "code",
   "execution_count": 0,
   "metadata": {
    "application/vnd.databricks.v1+cell": {
     "cellMetadata": {
      "byteLimit": 2048000,
      "rowLimit": 10000
     },
     "inputWidgets": {},
     "nuid": "e1f1c1f6-a8cc-4e54-9d15-c609414cd65c",
     "showTitle": false,
     "title": ""
    }
   },
   "outputs": [],
   "source": [
    "products_df.createOrReplaceTempView(\"products\")\n",
    "sales_df.createOrReplaceTempView(\"product_sales\")"
   ]
  },
  {
   "cell_type": "code",
   "execution_count": 0,
   "metadata": {
    "application/vnd.databricks.v1+cell": {
     "cellMetadata": {
      "byteLimit": 2048000,
      "implicitDf": true,
      "rowLimit": 10000
     },
     "inputWidgets": {},
     "nuid": "cfac46ea-6c79-47df-b65e-7a8ea790e0cd",
     "showTitle": false,
     "title": ""
    }
   },
   "outputs": [
    {
     "output_type": "display_data",
     "data": {
      "text/html": [
       "<style scoped>\n",
       "  .table-result-container {\n",
       "    max-height: 300px;\n",
       "    overflow: auto;\n",
       "  }\n",
       "  table, th, td {\n",
       "    border: 1px solid black;\n",
       "    border-collapse: collapse;\n",
       "  }\n",
       "  th, td {\n",
       "    padding: 5px;\n",
       "  }\n",
       "  th {\n",
       "    text-align: left;\n",
       "  }\n",
       "</style><div class='table-result-container'><table class='table-result'><thead style='background-color: white'><tr><th>category_name</th><th>product_name</th></tr></thead><tbody><tr><td>Amazon Kindle</td><td>Kindle Oasis</td></tr><tr><td>Books</td><td>Ace the Data Science Interview</td></tr><tr><td>Home Appliances</td><td>Dishwasher</td></tr><tr><td>Tech Gadgets</td><td>Gaming Keyboard</td></tr></tbody></table></div>"
      ]
     },
     "metadata": {
      "application/vnd.databricks.v1+output": {
       "addedWidgets": {},
       "aggData": [],
       "aggError": "",
       "aggOverflow": false,
       "aggSchema": [],
       "aggSeriesLimitReached": false,
       "aggType": "",
       "arguments": {},
       "columnCustomDisplayInfos": {},
       "data": [
        [
         "Amazon Kindle",
         "Kindle Oasis"
        ],
        [
         "Books",
         "Ace the Data Science Interview"
        ],
        [
         "Home Appliances",
         "Dishwasher"
        ],
        [
         "Tech Gadgets",
         "Gaming Keyboard"
        ]
       ],
       "datasetInfos": [],
       "dbfsResultPath": null,
       "isJsonSchema": true,
       "metadata": {},
       "overflow": false,
       "plotOptions": {
        "customPlotOptions": {},
        "displayType": "table",
        "pivotAggregation": null,
        "pivotColumns": null,
        "xColumns": null,
        "yColumns": null
       },
       "removedWidgets": [],
       "schema": [
        {
         "metadata": "{}",
         "name": "category_name",
         "type": "\"string\""
        },
        {
         "metadata": "{}",
         "name": "product_name",
         "type": "\"string\""
        }
       ],
       "type": "table"
      }
     },
     "output_type": "display_data"
    }
   ],
   "source": [
    "%sql\n",
    "WITH RankedProducts AS (\n",
    "  SELECT\n",
    "    RANK() OVER (\n",
    "      PARTITION BY p.category_name\n",
    "      ORDER BY\n",
    "        ps.sales_quantity DESC,\n",
    "        ps.rating DESC\n",
    "    ) AS product_rank,\n",
    "    p.category_name,\n",
    "    p.product_name,\n",
    "    ps.sales_quantity,\n",
    "    ps.rating\n",
    "  FROM\n",
    "    products p\n",
    "    JOIN product_sales ps ON p.product_id = ps.product_id\n",
    ")\n",
    "SELECT\n",
    "  category_name,\n",
    "  product_name\n",
    "FROM\n",
    "  RankedProducts\n",
    "WHERE\n",
    "  product_rank = 1"
   ]
  },
  {
   "cell_type": "code",
   "execution_count": 0,
   "metadata": {
    "application/vnd.databricks.v1+cell": {
     "cellMetadata": {
      "byteLimit": 2048000,
      "rowLimit": 10000
     },
     "inputWidgets": {},
     "nuid": "ea91435e-c7c2-47eb-ac0b-568abe59b046",
     "showTitle": false,
     "title": ""
    }
   },
   "outputs": [
    {
     "output_type": "display_data",
     "data": {
      "text/html": [
       "<style scoped>\n",
       "  .table-result-container {\n",
       "    max-height: 300px;\n",
       "    overflow: auto;\n",
       "  }\n",
       "  table, th, td {\n",
       "    border: 1px solid black;\n",
       "    border-collapse: collapse;\n",
       "  }\n",
       "  th, td {\n",
       "    padding: 5px;\n",
       "  }\n",
       "  th {\n",
       "    text-align: left;\n",
       "  }\n",
       "</style><div class='table-result-container'><table class='table-result'><thead style='background-color: white'><tr><th>category_name</th><th>product_name</th></tr></thead><tbody><tr><td>Amazon Kindle</td><td>Kindle Oasis</td></tr><tr><td>Books</td><td>Ace the Data Science Interview</td></tr><tr><td>Home Appliances</td><td>Dishwasher</td></tr><tr><td>Tech Gadgets</td><td>Gaming Keyboard</td></tr></tbody></table></div>"
      ]
     },
     "metadata": {
      "application/vnd.databricks.v1+output": {
       "addedWidgets": {},
       "aggData": [],
       "aggError": "",
       "aggOverflow": false,
       "aggSchema": [],
       "aggSeriesLimitReached": false,
       "aggType": "",
       "arguments": {},
       "columnCustomDisplayInfos": {},
       "data": [
        [
         "Amazon Kindle",
         "Kindle Oasis"
        ],
        [
         "Books",
         "Ace the Data Science Interview"
        ],
        [
         "Home Appliances",
         "Dishwasher"
        ],
        [
         "Tech Gadgets",
         "Gaming Keyboard"
        ]
       ],
       "datasetInfos": [],
       "dbfsResultPath": null,
       "isJsonSchema": true,
       "metadata": {},
       "overflow": false,
       "plotOptions": {
        "customPlotOptions": {},
        "displayType": "table",
        "pivotAggregation": null,
        "pivotColumns": null,
        "xColumns": null,
        "yColumns": null
       },
       "removedWidgets": [],
       "schema": [
        {
         "metadata": "{}",
         "name": "category_name",
         "type": "\"string\""
        },
        {
         "metadata": "{}",
         "name": "product_name",
         "type": "\"string\""
        }
       ],
       "type": "table"
      }
     },
     "output_type": "display_data"
    }
   ],
   "source": [
    "from pyspark.sql import Window\n",
    "from pyspark.sql.functions import *\n",
    "\n",
    "# Define the window specification\n",
    "windowSpec = Window.partitionBy(\"category_name\").orderBy(\n",
    "    col(\"sales_quantity\").desc(), col(\"rating\").desc()\n",
    ")\n",
    "\n",
    "# Join the products and sales DataFrames\n",
    "joined_df = products_df.join(sales_df, on=\"product_id\")\n",
    "\n",
    "# Add the rank column\n",
    "ranked_df = joined_df.withColumn(\"product_rank\", rank().over(windowSpec))\n",
    "\n",
    "# Filter to get only the top-ranked products (product_rank = 1)\n",
    "top_products_df = ranked_df.filter(col(\"product_rank\") == 1).select(\n",
    "    \"category_name\", \"product_name\"\n",
    ")\n",
    "\n",
    "# Show the result\n",
    "top_products_df.display()"
   ]
  },
  {
   "cell_type": "markdown",
   "metadata": {
    "application/vnd.databricks.v1+cell": {
     "cellMetadata": {},
     "inputWidgets": {},
     "nuid": "88a5c56b-7c0d-4932-b379-2ccc84c7e205",
     "showTitle": false,
     "title": ""
    }
   },
   "source": [
    "Explanation:\n",
    "\n",
    "A CTE (HighestRatedProducts) is used to:\n",
    "\n",
    "Join the products and product_sales tables on the product_id.\n",
    "\n",
    "Use rank() to rank products within each category based on their rating (highest rating first).\n",
    "\n",
    "The final query selects the product with the highest rating (rank = 1) for each category."
   ]
  },
  {
   "cell_type": "markdown",
   "metadata": {
    "application/vnd.databricks.v1+cell": {
     "cellMetadata": {},
     "inputWidgets": {},
     "nuid": "509ff835-07bc-4a9a-9485-7a0a718dd5de",
     "showTitle": false,
     "title": ""
    }
   },
   "source": [
    "Example Output:\n",
    "\n",
    "category_name\tproduct_name\n",
    "\n",
    "Books\tGame of Thrones\n",
    "\n",
    "Home Appliances\tDishwasher\n",
    "\n",
    "The dataset you are querying against may have different input & output - this is just an example!"
   ]
  }
 ],
 "metadata": {
  "application/vnd.databricks.v1+notebook": {
   "dashboards": [],
   "environmentMetadata": null,
   "language": "python",
   "notebookMetadata": {
    "mostRecentlyExecutedCommandWithImplicitDF": {
     "commandId": 3960711834723359,
     "dataframes": [
      "_sqldf"
     ]
    },
    "pythonIndentUnit": 4
   },
   "notebookName": "Amazon SQL Interview Question ( Medium Level) | Best-Selling Product | DataLemur",
   "widgets": {}
  }
 },
 "nbformat": 4,
 "nbformat_minor": 0
}
