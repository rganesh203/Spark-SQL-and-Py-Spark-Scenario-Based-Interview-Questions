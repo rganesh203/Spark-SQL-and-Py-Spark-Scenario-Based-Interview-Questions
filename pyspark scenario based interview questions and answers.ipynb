{
 "cells": [
  {
   "cell_type": "markdown",
   "metadata": {
    "application/vnd.databricks.v1+cell": {
     "cellMetadata": {},
     "inputWidgets": {},
     "nuid": "e805d047-bb71-4281-9adf-f017fbd6e3b9",
     "showTitle": false,
     "title": ""
    }
   },
   "source": [
    "Problem Statement:\n",
    "\n",
    "You are given a dataset of travel records where each record includes a customer ID, a start location, and an end location. The dataset is represented as follows:\n",
    "\n",
    "customer: An identifier for the customer.\n",
    "start_location: The location from where the customer starts their journey.\n",
    "end_location: The location where the customer ends their journey.\n",
    "Your task is to identify and list the following for each customer:\n",
    "\n",
    "Start Locations: Locations where the customer started a journey but did not end any journey.\n",
    "End Locations: Locations where the customer ended a journey but did not start any journey.\n",
    "You need to produce a result that matches the following criteria:\n",
    "\n",
    "For each customer, find start locations that do not appear as end locations in any records for that customer.\n",
    "For each customer, find end locations that do not appear as start locations in any records for that customer.\n",
    "Return a combined result showing the customer, their unique start location, and the corresponding unique end location where the conditions above are met."
   ]
  },
  {
   "cell_type": "code",
   "execution_count": 0,
   "metadata": {
    "application/vnd.databricks.v1+cell": {
     "cellMetadata": {
      "byteLimit": 2048000,
      "rowLimit": 10000
     },
     "inputWidgets": {},
     "nuid": "963963e9-ea17-4ae2-b378-6761d9eef679",
     "showTitle": false,
     "title": ""
    }
   },
   "outputs": [
    {
     "output_type": "stream",
     "name": "stdout",
     "output_type": "stream",
     "text": [
      "+--------+--------------+------------+\n|customer|start_location|end_location|\n+--------+--------------+------------+\n|      c1|      New York|        Lima|\n|      c1|        London|    New York|\n|      c1|          Lima|   Sao Paulo|\n|      c1|     Sao Paulo|   New Delhi|\n|      c2|        Mumbai|   Hyderabad|\n|      c2|         Surat|        Pune|\n|      c2|     Hyderabad|       Surat|\n|      c3|         Kochi|     Kurnool|\n|      c3|       Lucknow|        Agra|\n|      c3|          Agra|      Jaipur|\n|      c3|        Jaipur|       Kochi|\n+--------+--------------+------------+\n\n"
     ]
    }
   ],
   "source": [
    "from pyspark.sql import SparkSession\n",
    "\n",
    "# Create a Spark session\n",
    "spark = SparkSession.builder.appName(\"DataFrameExample\").getOrCreate()\n",
    "\n",
    "# Sample data\n",
    "data = [\n",
    "    (\"c1\", \"New York\", \"Lima\"),\n",
    "    (\"c1\", \"London\", \"New York\"),\n",
    "    (\"c1\", \"Lima\", \"Sao Paulo\"),\n",
    "    (\"c1\", \"Sao Paulo\", \"New Delhi\"),\n",
    "    (\"c2\", \"Mumbai\", \"Hyderabad\"),\n",
    "    (\"c2\", \"Surat\", \"Pune\"),\n",
    "    (\"c2\", \"Hyderabad\", \"Surat\"),\n",
    "    (\"c3\", \"Kochi\", \"Kurnool\"),\n",
    "    (\"c3\", \"Lucknow\", \"Agra\"),\n",
    "    (\"c3\", \"Agra\", \"Jaipur\"),\n",
    "    (\"c3\", \"Jaipur\", \"Kochi\"),\n",
    "]\n",
    "\n",
    "# Define the schema\n",
    "schema = \"customer string, start_location string, end_location string\"\n",
    "\n",
    "# Create the DataFrame\n",
    "df = spark.createDataFrame(data=data, schema=schema)\n",
    "\n",
    "# Show the DataFrame\n",
    "df.show()"
   ]
  },
  {
   "cell_type": "code",
   "execution_count": 0,
   "metadata": {
    "application/vnd.databricks.v1+cell": {
     "cellMetadata": {
      "byteLimit": 2048000,
      "rowLimit": 10000
     },
     "inputWidgets": {},
     "nuid": "b2c1fb41-0da6-443e-b366-16b30e0a9d8a",
     "showTitle": false,
     "title": ""
    }
   },
   "outputs": [
    {
     "output_type": "display_data",
     "data": {
      "text/html": [
       "<style scoped>\n",
       "  .table-result-container {\n",
       "    max-height: 300px;\n",
       "    overflow: auto;\n",
       "  }\n",
       "  table, th, td {\n",
       "    border: 1px solid black;\n",
       "    border-collapse: collapse;\n",
       "  }\n",
       "  th, td {\n",
       "    padding: 5px;\n",
       "  }\n",
       "  th {\n",
       "    text-align: left;\n",
       "  }\n",
       "</style><div class='table-result-container'><table class='table-result'><thead style='background-color: white'><tr><th>customer</th><th>start_list</th><th>end_list</th></tr></thead><tbody><tr><td>c1</td><td>List(New York, London, Lima, Sao Paulo)</td><td>List(Lima, New York, Sao Paulo, New Delhi)</td></tr><tr><td>c2</td><td>List(Mumbai, Surat, Hyderabad)</td><td>List(Hyderabad, Pune, Surat)</td></tr><tr><td>c3</td><td>List(Kochi, Lucknow, Agra, Jaipur)</td><td>List(Kurnool, Agra, Jaipur, Kochi)</td></tr></tbody></table></div>"
      ]
     },
     "metadata": {
      "application/vnd.databricks.v1+output": {
       "addedWidgets": {},
       "aggData": [],
       "aggError": "",
       "aggOverflow": false,
       "aggSchema": [],
       "aggSeriesLimitReached": false,
       "aggType": "",
       "arguments": {},
       "columnCustomDisplayInfos": {},
       "data": [
        [
         "c1",
         [
          "New York",
          "London",
          "Lima",
          "Sao Paulo"
         ],
         [
          "Lima",
          "New York",
          "Sao Paulo",
          "New Delhi"
         ]
        ],
        [
         "c2",
         [
          "Mumbai",
          "Surat",
          "Hyderabad"
         ],
         [
          "Hyderabad",
          "Pune",
          "Surat"
         ]
        ],
        [
         "c3",
         [
          "Kochi",
          "Lucknow",
          "Agra",
          "Jaipur"
         ],
         [
          "Kurnool",
          "Agra",
          "Jaipur",
          "Kochi"
         ]
        ]
       ],
       "datasetInfos": [],
       "dbfsResultPath": null,
       "isJsonSchema": true,
       "metadata": {},
       "overflow": false,
       "plotOptions": {
        "customPlotOptions": {},
        "displayType": "table",
        "pivotAggregation": null,
        "pivotColumns": null,
        "xColumns": null,
        "yColumns": null
       },
       "removedWidgets": [],
       "schema": [
        {
         "metadata": "{}",
         "name": "customer",
         "type": "\"string\""
        },
        {
         "metadata": "{}",
         "name": "start_list",
         "type": "{\"type\":\"array\",\"elementType\":\"string\",\"containsNull\":false}"
        },
        {
         "metadata": "{}",
         "name": "end_list",
         "type": "{\"type\":\"array\",\"elementType\":\"string\",\"containsNull\":false}"
        }
       ],
       "type": "table"
      }
     },
     "output_type": "display_data"
    },
    {
     "output_type": "display_data",
     "data": {
      "text/html": [
       "<style scoped>\n",
       "  .table-result-container {\n",
       "    max-height: 300px;\n",
       "    overflow: auto;\n",
       "  }\n",
       "  table, th, td {\n",
       "    border: 1px solid black;\n",
       "    border-collapse: collapse;\n",
       "  }\n",
       "  th, td {\n",
       "    padding: 5px;\n",
       "  }\n",
       "  th {\n",
       "    text-align: left;\n",
       "  }\n",
       "</style><div class='table-result-container'><table class='table-result'><thead style='background-color: white'><tr><th>customer</th><th>start</th><th>end</th></tr></thead><tbody><tr><td>c1</td><td>London</td><td>New Delhi</td></tr><tr><td>c2</td><td>Mumbai</td><td>Pune</td></tr><tr><td>c3</td><td>Lucknow</td><td>Kurnool</td></tr></tbody></table></div>"
      ]
     },
     "metadata": {
      "application/vnd.databricks.v1+output": {
       "addedWidgets": {},
       "aggData": [],
       "aggError": "",
       "aggOverflow": false,
       "aggSchema": [],
       "aggSeriesLimitReached": false,
       "aggType": "",
       "arguments": {},
       "columnCustomDisplayInfos": {},
       "data": [
        [
         "c1",
         "London",
         "New Delhi"
        ],
        [
         "c2",
         "Mumbai",
         "Pune"
        ],
        [
         "c3",
         "Lucknow",
         "Kurnool"
        ]
       ],
       "datasetInfos": [],
       "dbfsResultPath": null,
       "isJsonSchema": true,
       "metadata": {},
       "overflow": false,
       "plotOptions": {
        "customPlotOptions": {},
        "displayType": "table",
        "pivotAggregation": null,
        "pivotColumns": null,
        "xColumns": null,
        "yColumns": null
       },
       "removedWidgets": [],
       "schema": [
        {
         "metadata": "{}",
         "name": "customer",
         "type": "\"string\""
        },
        {
         "metadata": "{}",
         "name": "start",
         "type": "\"string\""
        },
        {
         "metadata": "{}",
         "name": "end",
         "type": "\"string\""
        }
       ],
       "type": "table"
      }
     },
     "output_type": "display_data"
    }
   ],
   "source": [
    "from pyspark.sql.functions import collect_list, udf\n",
    "from pyspark.sql.types import StringType\n",
    "\n",
    "\n",
    "def loc(x, y):\n",
    "    a = [i for i in x if i not in y]\n",
    "    return a[0]\n",
    "\n",
    "\n",
    "loc_udf = udf(loc, StringType())\n",
    "df1 = df.groupBy(\"customer\").agg(\n",
    "    collect_list(\"start_location\").alias(\"start_list\"),\n",
    "    collect_list(\"end_location\").alias(\"end_list\"),\n",
    ")\n",
    "display(df1)\n",
    "df2 = (\n",
    "    df1.withColumn(\"start\", loc_udf(df1.start_list, df1.end_list))\n",
    "    .withColumn(\"end\", loc_udf(df1.end_list, df1.start_list))\n",
    "    .drop(*(\"start_list\", \"end_list\"))\n",
    ")\n",
    "display(df2)"
   ]
  },
  {
   "cell_type": "code",
   "execution_count": 0,
   "metadata": {
    "application/vnd.databricks.v1+cell": {
     "cellMetadata": {
      "byteLimit": 2048000,
      "rowLimit": 10000
     },
     "inputWidgets": {},
     "nuid": "699d3c18-10c7-464d-9a60-01d410b932cf",
     "showTitle": false,
     "title": ""
    }
   },
   "outputs": [],
   "source": [
    "df.createOrReplaceTempView('travel_data')"
   ]
  },
  {
   "cell_type": "code",
   "execution_count": 0,
   "metadata": {
    "application/vnd.databricks.v1+cell": {
     "cellMetadata": {
      "byteLimit": 2048000,
      "rowLimit": 10000
     },
     "inputWidgets": {},
     "nuid": "67af689e-a05c-49ab-be8d-7d6b13368049",
     "showTitle": false,
     "title": ""
    }
   },
   "outputs": [
    {
     "output_type": "display_data",
     "data": {
      "text/html": [
       "<style scoped>\n",
       "  .table-result-container {\n",
       "    max-height: 300px;\n",
       "    overflow: auto;\n",
       "  }\n",
       "  table, th, td {\n",
       "    border: 1px solid black;\n",
       "    border-collapse: collapse;\n",
       "  }\n",
       "  th, td {\n",
       "    padding: 5px;\n",
       "  }\n",
       "  th {\n",
       "    text-align: left;\n",
       "  }\n",
       "</style><div class='table-result-container'><table class='table-result'><thead style='background-color: white'><tr><th>customer</th><th>start</th><th>end</th></tr></thead><tbody><tr><td>c1</td><td>London</td><td>New Delhi</td></tr><tr><td>c2</td><td>Mumbai</td><td>Pune</td></tr><tr><td>c3</td><td>Lucknow</td><td>Kurnool</td></tr></tbody></table></div>"
      ]
     },
     "metadata": {
      "application/vnd.databricks.v1+output": {
       "addedWidgets": {},
       "aggData": [],
       "aggError": "",
       "aggOverflow": false,
       "aggSchema": [],
       "aggSeriesLimitReached": false,
       "aggType": "",
       "arguments": {},
       "columnCustomDisplayInfos": {},
       "data": [
        [
         "c1",
         "London",
         "New Delhi"
        ],
        [
         "c2",
         "Mumbai",
         "Pune"
        ],
        [
         "c3",
         "Lucknow",
         "Kurnool"
        ]
       ],
       "datasetInfos": [],
       "dbfsResultPath": null,
       "isJsonSchema": true,
       "metadata": {},
       "overflow": false,
       "plotOptions": {
        "customPlotOptions": {},
        "displayType": "table",
        "pivotAggregation": null,
        "pivotColumns": null,
        "xColumns": null,
        "yColumns": null
       },
       "removedWidgets": [],
       "schema": [
        {
         "metadata": "{}",
         "name": "customer",
         "type": "\"string\""
        },
        {
         "metadata": "{}",
         "name": "start",
         "type": "\"string\""
        },
        {
         "metadata": "{}",
         "name": "end",
         "type": "\"string\""
        }
       ],
       "type": "table"
      }
     },
     "output_type": "display_data"
    }
   ],
   "source": [
    "# SQL query to get the results\n",
    "query = \"\"\"\n",
    "WITH t1 AS (\n",
    "  SELECT\n",
    "    customer,\n",
    "    start_location AS start\n",
    "  FROM\n",
    "    travel_data\n",
    "  WHERE\n",
    "    start_location NOT IN (\n",
    "      SELECT\n",
    "        end_location\n",
    "      FROM\n",
    "        travel_data\n",
    "    )\n",
    "),\n",
    "t2 AS (\n",
    "  SELECT\n",
    "    customer,\n",
    "    end_location AS end\n",
    "  FROM\n",
    "    travel_data\n",
    "  WHERE\n",
    "    end_location NOT IN (\n",
    "      SELECT\n",
    "        start_location\n",
    "      FROM\n",
    "        travel_data\n",
    "    )\n",
    ")\n",
    "SELECT\n",
    "  t1.customer,\n",
    "  t1.start,\n",
    "  t2.end\n",
    "FROM\n",
    "  t2\n",
    "  JOIN t1 ON t2.customer = t1.customer\n",
    "\"\"\"\n",
    "\n",
    "# Execute the SQL query\n",
    "result_df = spark.sql(query)\n",
    "\n",
    "# Show the result\n",
    "result_df.display()"
   ]
  },
  {
   "cell_type": "markdown",
   "metadata": {
    "application/vnd.databricks.v1+cell": {
     "cellMetadata": {},
     "inputWidgets": {},
     "nuid": "a6e0c1c6-fb8a-411e-bc2e-02905522a84a",
     "showTitle": false,
     "title": ""
    }
   },
   "source": [
    "Explanation:\n",
    "\n",
    "customer: Represents the customer ID.\n",
    "\n",
    "start_location: Represents the starting location of a journey.\n",
    "\n",
    "end_location: Represents the ending location of a journey."
   ]
  }
 ],
 "metadata": {
  "application/vnd.databricks.v1+notebook": {
   "dashboards": [],
   "environmentMetadata": null,
   "language": "python",
   "notebookMetadata": {
    "mostRecentlyExecutedCommandWithImplicitDF": {
     "commandId": 4200344252811698,
     "dataframes": [
      "_sqldf"
     ]
    },
    "pythonIndentUnit": 4
   },
   "notebookName": "pyspark scenario based interview questions and answers",
   "widgets": {}
  }
 },
 "nbformat": 4,
 "nbformat_minor": 0
}
