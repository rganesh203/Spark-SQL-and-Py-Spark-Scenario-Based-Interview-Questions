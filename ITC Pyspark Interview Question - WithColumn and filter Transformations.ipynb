{
 "cells": [
  {
   "cell_type": "markdown",
   "metadata": {
    "application/vnd.databricks.v1+cell": {
     "cellMetadata": {},
     "inputWidgets": {},
     "nuid": "acabbf92-4164-47e0-92f2-93c1f622dcf4",
     "showTitle": false,
     "title": ""
    }
   },
   "source": [
    "Problem Statement\n",
    "\n",
    "Here are tasked with analyzing cricket player statistics from two datasets: one containing player performance data and another containing country codes and names. The goal is to extract and aggregate specific player statistics and present them in a formatted table."
   ]
  },
  {
   "cell_type": "code",
   "execution_count": 0,
   "metadata": {
    "application/vnd.databricks.v1+cell": {
     "cellMetadata": {
      "byteLimit": 2048000,
      "rowLimit": 10000
     },
     "inputWidgets": {},
     "nuid": "322d7dc1-2ead-4cfc-8f71-66ef42bf7965",
     "showTitle": false,
     "title": ""
    }
   },
   "outputs": [],
   "source": [
    "from pyspark.sql import SparkSession\n",
    "from pyspark.sql.types import StructType, StructField, StringType, IntegerType\n",
    "\n",
    "# Assuming SparkSession is already created or create it like this\n",
    "spark = SparkSession.builder.appName(\"CricketAnalysis\").getOrCreate()\n",
    "\n",
    "# Define schema for players DataFrame\n",
    "schema = StructType(\n",
    "    [\n",
    "        StructField(\"player\", StringType(), True),\n",
    "        StructField(\"runs\", IntegerType(), True),\n",
    "        StructField(\"50s/100s\", StringType(), True),\n",
    "    ]\n",
    ")\n",
    "\n",
    "# Create players DataFrame using defined schema and data\n",
    "data = [\n",
    "    (\"Sachin-IND\", 18694, \"93/49\"),\n",
    "    (\"Ricky-AUS\", 11274, \"66/31\"),\n",
    "    (\"Lara-WI\", 10222, \"45/21\"),\n",
    "    (\"Rahul-IND\", 10355, \"95/11\"),\n",
    "    (\"Jhonty-SA\", 7051, \"43/5\"),\n",
    "    (\"Hayden-AUS\", 8722, \"67/19\"),\n",
    "]\n",
    "\n",
    "players_df = spark.createDataFrame(data, schema)\n",
    "\n",
    "# Define schema for countries DataFrame\n",
    "schema_countries = StructType(\n",
    "    [StructField(\"SRT\", StringType(), True), StructField(\"country\", StringType(), True)]\n",
    ")\n",
    "\n",
    "# Create countries DataFrame using defined schema and data\n",
    "data1 = [\n",
    "    (\"IND\", \"India\"),\n",
    "    (\"AUS\", \"Australia\"),\n",
    "    (\"WI\", \"WestIndies\"),\n",
    "    (\"SA\", \"SouthAfrica\"),\n",
    "]\n",
    "\n",
    "countries_df = spark.createDataFrame(data1, schema_countries)"
   ]
  },
  {
   "cell_type": "code",
   "execution_count": 0,
   "metadata": {
    "application/vnd.databricks.v1+cell": {
     "cellMetadata": {
      "byteLimit": 2048000,
      "rowLimit": 10000
     },
     "inputWidgets": {},
     "nuid": "4c86b928-605d-419a-a8d0-ed68a6be362a",
     "showTitle": false,
     "title": ""
    }
   },
   "outputs": [
    {
     "output_type": "display_data",
     "data": {
      "text/html": [
       "<style scoped>\n",
       "  .table-result-container {\n",
       "    max-height: 300px;\n",
       "    overflow: auto;\n",
       "  }\n",
       "  table, th, td {\n",
       "    border: 1px solid black;\n",
       "    border-collapse: collapse;\n",
       "  }\n",
       "  th, td {\n",
       "    padding: 5px;\n",
       "  }\n",
       "  th {\n",
       "    text-align: left;\n",
       "  }\n",
       "</style><div class='table-result-container'><table class='table-result'><thead style='background-color: white'><tr><th>SRT</th><th>country</th></tr></thead><tbody><tr><td>IND</td><td>India</td></tr><tr><td>AUS</td><td>Australia</td></tr><tr><td>WI</td><td>WestIndies</td></tr><tr><td>SA</td><td>SouthAfrica</td></tr></tbody></table></div>"
      ]
     },
     "metadata": {
      "application/vnd.databricks.v1+output": {
       "addedWidgets": {},
       "aggData": [],
       "aggError": "",
       "aggOverflow": false,
       "aggSchema": [],
       "aggSeriesLimitReached": false,
       "aggType": "",
       "arguments": {},
       "columnCustomDisplayInfos": {},
       "data": [
        [
         "IND",
         "India"
        ],
        [
         "AUS",
         "Australia"
        ],
        [
         "WI",
         "WestIndies"
        ],
        [
         "SA",
         "SouthAfrica"
        ]
       ],
       "datasetInfos": [],
       "dbfsResultPath": null,
       "isJsonSchema": true,
       "metadata": {},
       "overflow": false,
       "plotOptions": {
        "customPlotOptions": {},
        "displayType": "table",
        "pivotAggregation": null,
        "pivotColumns": null,
        "xColumns": null,
        "yColumns": null
       },
       "removedWidgets": [],
       "schema": [
        {
         "metadata": "{}",
         "name": "SRT",
         "type": "\"string\""
        },
        {
         "metadata": "{}",
         "name": "country",
         "type": "\"string\""
        }
       ],
       "type": "table"
      }
     },
     "output_type": "display_data"
    },
    {
     "output_type": "display_data",
     "data": {
      "text/html": [
       "<style scoped>\n",
       "  .table-result-container {\n",
       "    max-height: 300px;\n",
       "    overflow: auto;\n",
       "  }\n",
       "  table, th, td {\n",
       "    border: 1px solid black;\n",
       "    border-collapse: collapse;\n",
       "  }\n",
       "  th, td {\n",
       "    padding: 5px;\n",
       "  }\n",
       "  th {\n",
       "    text-align: left;\n",
       "  }\n",
       "</style><div class='table-result-container'><table class='table-result'><thead style='background-color: white'><tr><th>player</th><th>runs</th><th>50s/100s</th></tr></thead><tbody><tr><td>Sachin-IND</td><td>18694</td><td>93/49</td></tr><tr><td>Ricky-AUS</td><td>11274</td><td>66/31</td></tr><tr><td>Lara-WI</td><td>10222</td><td>45/21</td></tr><tr><td>Rahul-IND</td><td>10355</td><td>95/11</td></tr><tr><td>Jhonty-SA</td><td>7051</td><td>43/5</td></tr><tr><td>Hayden-AUS</td><td>8722</td><td>67/19</td></tr></tbody></table></div>"
      ]
     },
     "metadata": {
      "application/vnd.databricks.v1+output": {
       "addedWidgets": {},
       "aggData": [],
       "aggError": "",
       "aggOverflow": false,
       "aggSchema": [],
       "aggSeriesLimitReached": false,
       "aggType": "",
       "arguments": {},
       "columnCustomDisplayInfos": {},
       "data": [
        [
         "Sachin-IND",
         18694,
         "93/49"
        ],
        [
         "Ricky-AUS",
         11274,
         "66/31"
        ],
        [
         "Lara-WI",
         10222,
         "45/21"
        ],
        [
         "Rahul-IND",
         10355,
         "95/11"
        ],
        [
         "Jhonty-SA",
         7051,
         "43/5"
        ],
        [
         "Hayden-AUS",
         8722,
         "67/19"
        ]
       ],
       "datasetInfos": [],
       "dbfsResultPath": null,
       "isJsonSchema": true,
       "metadata": {},
       "overflow": false,
       "plotOptions": {
        "customPlotOptions": {},
        "displayType": "table",
        "pivotAggregation": null,
        "pivotColumns": null,
        "xColumns": null,
        "yColumns": null
       },
       "removedWidgets": [],
       "schema": [
        {
         "metadata": "{}",
         "name": "player",
         "type": "\"string\""
        },
        {
         "metadata": "{}",
         "name": "runs",
         "type": "\"integer\""
        },
        {
         "metadata": "{}",
         "name": "50s/100s",
         "type": "\"string\""
        }
       ],
       "type": "table"
      }
     },
     "output_type": "display_data"
    }
   ],
   "source": [
    "countries_df.display()\n",
    "players_df.display()"
   ]
  },
  {
   "cell_type": "code",
   "execution_count": 0,
   "metadata": {
    "application/vnd.databricks.v1+cell": {
     "cellMetadata": {
      "byteLimit": 2048000,
      "rowLimit": 10000
     },
     "inputWidgets": {},
     "nuid": "164cfbd7-efc6-481a-a7f6-7a955f5f39c0",
     "showTitle": false,
     "title": ""
    }
   },
   "outputs": [],
   "source": [
    "countries_df.createOrReplaceTempView(\"country\")\n",
    "players_df.createOrReplaceTempView(\"player\")"
   ]
  },
  {
   "cell_type": "code",
   "execution_count": 0,
   "metadata": {
    "application/vnd.databricks.v1+cell": {
     "cellMetadata": {
      "byteLimit": 2048000,
      "rowLimit": 10000
     },
     "inputWidgets": {},
     "nuid": "709ad262-0bb9-4469-a820-2c9978b21a86",
     "showTitle": false,
     "title": ""
    }
   },
   "outputs": [
    {
     "output_type": "display_data",
     "data": {
      "text/html": [
       "<style scoped>\n",
       "  .table-result-container {\n",
       "    max-height: 300px;\n",
       "    overflow: auto;\n",
       "  }\n",
       "  table, th, td {\n",
       "    border: 1px solid black;\n",
       "    border-collapse: collapse;\n",
       "  }\n",
       "  th, td {\n",
       "    padding: 5px;\n",
       "  }\n",
       "  th {\n",
       "    text-align: left;\n",
       "  }\n",
       "</style><div class='table-result-container'><table class='table-result'><thead style='background-color: white'><tr><th>player_name</th><th>country</th><th>runs</th><th>50s_100s_sum</th></tr></thead><tbody><tr><td>Ricky</td><td>Australia</td><td>11274</td><td>97</td></tr><tr><td>Sachin</td><td>India</td><td>18694</td><td>142</td></tr><tr><td>Rahul</td><td>India</td><td>10355</td><td>106</td></tr></tbody></table></div>"
      ]
     },
     "metadata": {
      "application/vnd.databricks.v1+output": {
       "addedWidgets": {},
       "aggData": [],
       "aggError": "",
       "aggOverflow": false,
       "aggSchema": [],
       "aggSeriesLimitReached": false,
       "aggType": "",
       "arguments": {},
       "columnCustomDisplayInfos": {},
       "data": [
        [
         "Ricky",
         "Australia",
         11274,
         97
        ],
        [
         "Sachin",
         "India",
         18694,
         142
        ],
        [
         "Rahul",
         "India",
         10355,
         106
        ]
       ],
       "datasetInfos": [],
       "dbfsResultPath": null,
       "isJsonSchema": true,
       "metadata": {},
       "overflow": false,
       "plotOptions": {
        "customPlotOptions": {},
        "displayType": "table",
        "pivotAggregation": null,
        "pivotColumns": null,
        "xColumns": null,
        "yColumns": null
       },
       "removedWidgets": [],
       "schema": [
        {
         "metadata": "{}",
         "name": "player_name",
         "type": "\"string\""
        },
        {
         "metadata": "{}",
         "name": "country",
         "type": "\"string\""
        },
        {
         "metadata": "{}",
         "name": "runs",
         "type": "\"integer\""
        },
        {
         "metadata": "{}",
         "name": "50s_100s_sum",
         "type": "\"integer\""
        }
       ],
       "type": "table"
      }
     },
     "output_type": "display_data"
    }
   ],
   "source": [
    "# Step 1: Split \"player\" column into \"player_name\" and \"country_code\"\n",
    "players_df = players_df.withColumn(\n",
    "    \"player_name\", F.split(F.col(\"player\"), \"-\").getItem(0)\n",
    ").withColumn(\"country_code\", F.split(F.col(\"player\"), \"-\").getItem(1))\n",
    "\n",
    "# Step 2: Join players_df with countries_df on \"country_code\" = \"SRT\"\n",
    "joined_df = players_df.join(\n",
    "    countries_df, players_df.country_code == countries_df.SRT, \"inner\"\n",
    ").select(\"player_name\", \"country\", \"runs\", \"50s/100s\")\n",
    "\n",
    "# Step 3: Split the \"50s/100s\" column into separate 50s and 100s\n",
    "joined_df = (\n",
    "    joined_df.withColumn(\n",
    "        \"50s\", F.split(F.col(\"50s/100s\"), \"/\").getItem(0).cast(\"integer\")\n",
    "    )\n",
    "    .withColumn(\"100s\", F.split(F.col(\"50s/100s\"), \"/\").getItem(1).cast(\"integer\"))\n",
    "    .withColumn(\"50s_100s_sum\", F.col(\"50s\") + F.col(\"100s\"))\n",
    ")\n",
    "\n",
    "# Step 4: Filter the relevant players (Ricky, Sachin, Rahul) and select the required columns\n",
    "final_df = joined_df.filter(\n",
    "    F.col(\"player_name\").isin(\"Ricky\", \"Sachin\", \"Rahul\")\n",
    ").select(\"player_name\", \"country\", \"runs\", \"50s_100s_sum\")\n",
    "\n",
    "# Show the final output\n",
    "final_df.display()"
   ]
  },
  {
   "cell_type": "code",
   "execution_count": 0,
   "metadata": {
    "application/vnd.databricks.v1+cell": {
     "cellMetadata": {
      "byteLimit": 2048000,
      "rowLimit": 10000
     },
     "inputWidgets": {},
     "nuid": "6e88920b-9f39-4677-b590-dde18ca1ba19",
     "showTitle": false,
     "title": ""
    }
   },
   "outputs": [
    {
     "output_type": "display_data",
     "data": {
      "text/html": [
       "<style scoped>\n",
       "  .table-result-container {\n",
       "    max-height: 300px;\n",
       "    overflow: auto;\n",
       "  }\n",
       "  table, th, td {\n",
       "    border: 1px solid black;\n",
       "    border-collapse: collapse;\n",
       "  }\n",
       "  th, td {\n",
       "    padding: 5px;\n",
       "  }\n",
       "  th {\n",
       "    text-align: left;\n",
       "  }\n",
       "</style><div class='table-result-container'><table class='table-result'><thead style='background-color: white'><tr><th>player_name</th><th>country</th><th>runs</th><th>50s_100s_sum</th></tr></thead><tbody><tr><td>Ricky</td><td>Australia</td><td>11274</td><td>97</td></tr><tr><td>Sachin</td><td>India</td><td>18694</td><td>142</td></tr><tr><td>Rahul</td><td>India</td><td>10355</td><td>106</td></tr></tbody></table></div>"
      ]
     },
     "metadata": {
      "application/vnd.databricks.v1+output": {
       "addedWidgets": {},
       "aggData": [],
       "aggError": "",
       "aggOverflow": false,
       "aggSchema": [],
       "aggSeriesLimitReached": false,
       "aggType": "",
       "arguments": {},
       "columnCustomDisplayInfos": {},
       "data": [
        [
         "Ricky",
         "Australia",
         11274,
         97
        ],
        [
         "Sachin",
         "India",
         18694,
         142
        ],
        [
         "Rahul",
         "India",
         10355,
         106
        ]
       ],
       "datasetInfos": [],
       "dbfsResultPath": null,
       "isJsonSchema": true,
       "metadata": {},
       "overflow": false,
       "plotOptions": {
        "customPlotOptions": {},
        "displayType": "table",
        "pivotAggregation": null,
        "pivotColumns": null,
        "xColumns": null,
        "yColumns": null
       },
       "removedWidgets": [],
       "schema": [
        {
         "metadata": "{}",
         "name": "player_name",
         "type": "\"string\""
        },
        {
         "metadata": "{}",
         "name": "country",
         "type": "\"string\""
        },
        {
         "metadata": "{}",
         "name": "runs",
         "type": "\"integer\""
        },
        {
         "metadata": "{}",
         "name": "50s_100s_sum",
         "type": "\"integer\""
        }
       ],
       "type": "table"
      }
     },
     "output_type": "display_data"
    }
   ],
   "source": [
    "# Define and execute SQL query\n",
    "query = \"\"\"\n",
    "    SELECT \n",
    "        p.player_name, \n",
    "        c.country, \n",
    "        p.runs, \n",
    "        (CAST(SPLIT(p.`50s/100s`, '/')[0] AS INT) + CAST(SPLIT(p.`50s/100s`, '/')[1] AS INT)) AS 50s_100s_sum\n",
    "    FROM (\n",
    "        SELECT \n",
    "            SPLIT(player, '-')[0] AS player_name, \n",
    "            SPLIT(player, '-')[1] AS country_code, \n",
    "            runs, \n",
    "            `50s/100s`\n",
    "        FROM player\n",
    "    ) p\n",
    "    JOIN country c\n",
    "    ON p.country_code = c.SRT\n",
    "    WHERE p.player_name IN ('Ricky', 'Sachin', 'Rahul')\n",
    "\"\"\"\n",
    "\n",
    "# Execute the SQL query and get the result\n",
    "result_df = spark.sql(query)\n",
    "\n",
    "# Show the result\n",
    "result_df.display()"
   ]
  },
  {
   "cell_type": "markdown",
   "metadata": {
    "application/vnd.databricks.v1+cell": {
     "cellMetadata": {},
     "inputWidgets": {},
     "nuid": "4547b0d9-3551-4a85-8813-4e019d63e9aa",
     "showTitle": false,
     "title": ""
    }
   },
   "source": [
    "Explanation:\n",
    "\n",
    "Register Views:\n",
    "\n",
    "players_df and countries_df are registered as SQL temporary views named \"players\" and \"countries\" respectively.\n",
    "\n",
    "SQL Query:\n",
    "\n",
    "Split player column: Extract player_name and country_code from the player column.\n",
    "Join: Join the players view with the countries view on country_code and SRT.\n",
    "Calculate 50s_100s_sum: Split the 50s/100s column into 50s and 100s, cast them to integers, and sum them up.\n",
    "Filter: Include only the players 'Ricky', 'Sachin', and 'Rahul'.\n",
    "Show Results: Displays the result DataFrame with the desired output format."
   ]
  }
 ],
 "metadata": {
  "application/vnd.databricks.v1+notebook": {
   "dashboards": [],
   "environmentMetadata": null,
   "language": "python",
   "notebookMetadata": {
    "mostRecentlyExecutedCommandWithImplicitDF": {
     "commandId": 3857527225891982,
     "dataframes": [
      "_sqldf"
     ]
    },
    "pythonIndentUnit": 4
   },
   "notebookName": "ITC Pyspark Interview Question - WithColumn and filter Transformations",
   "widgets": {}
  }
 },
 "nbformat": 4,
 "nbformat_minor": 0
}
