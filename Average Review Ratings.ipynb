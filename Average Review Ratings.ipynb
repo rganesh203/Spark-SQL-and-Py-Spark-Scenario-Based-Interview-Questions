{
 "cells": [
  {
   "cell_type": "markdown",
   "metadata": {
    "application/vnd.databricks.v1+cell": {
     "cellMetadata": {},
     "inputWidgets": {},
     "nuid": "05561880-e922-4021-b126-3467689856d6",
     "showTitle": false,
     "tableResultSettingsMap": {},
     "title": ""
    }
   },
   "source": [
    "Probelm statement:\n",
    "\n",
    "Given the reviews table, write a query to retrieve the average star rating for each product, grouped by month. The output should display the month as a numerical value, product ID, and average star rating rounded to two decimal places. Sort the output first by month and then by product ID."
   ]
  },
  {
   "cell_type": "code",
   "execution_count": 0,
   "metadata": {
    "application/vnd.databricks.v1+cell": {
     "cellMetadata": {
      "byteLimit": 2048000,
      "rowLimit": 10000
     },
     "inputWidgets": {},
     "nuid": "56510b90-0887-4a66-9544-e23405ea465c",
     "showTitle": false,
     "tableResultSettingsMap": {},
     "title": ""
    }
   },
   "outputs": [
    {
     "output_type": "display_data",
     "data": {
      "text/html": [
       "<style scoped>\n",
       "  .table-result-container {\n",
       "    max-height: 300px;\n",
       "    overflow: auto;\n",
       "  }\n",
       "  table, th, td {\n",
       "    border: 1px solid black;\n",
       "    border-collapse: collapse;\n",
       "  }\n",
       "  th, td {\n",
       "    padding: 5px;\n",
       "  }\n",
       "  th {\n",
       "    text-align: left;\n",
       "  }\n",
       "</style><div class='table-result-container'><table class='table-result'><thead style='background-color: white'><tr><th>review_id</th><th>user_id</th><th>submit_date</th><th>product_id</th><th>stars</th></tr></thead><tbody><tr><td>6171</td><td>123</td><td>08/16/2022 12:00:00</td><td>50001</td><td>4</td></tr><tr><td>7802</td><td>265</td><td>10/28/2022 12:00:00</td><td>69852</td><td>4</td></tr><tr><td>5293</td><td>362</td><td>10/04/2021 12:00:00</td><td>50001</td><td>3</td></tr><tr><td>6352</td><td>192</td><td>10/06/2024 12:00:00</td><td>69852</td><td>3</td></tr><tr><td>4517</td><td>981</td><td>09/16/2024 12:00:00</td><td>69852</td><td>2</td></tr></tbody></table></div>"
      ]
     },
     "metadata": {
      "application/vnd.databricks.v1+output": {
       "addedWidgets": {},
       "aggData": [],
       "aggError": "",
       "aggOverflow": false,
       "aggSchema": [],
       "aggSeriesLimitReached": false,
       "aggType": "",
       "arguments": {},
       "columnCustomDisplayInfos": {},
       "data": [
        [
         6171,
         123,
         "08/16/2022 12:00:00",
         50001,
         4
        ],
        [
         7802,
         265,
         "10/28/2022 12:00:00",
         69852,
         4
        ],
        [
         5293,
         362,
         "10/04/2021 12:00:00",
         50001,
         3
        ],
        [
         6352,
         192,
         "10/06/2024 12:00:00",
         69852,
         3
        ],
        [
         4517,
         981,
         "09/16/2024 12:00:00",
         69852,
         2
        ]
       ],
       "datasetInfos": [],
       "dbfsResultPath": null,
       "isJsonSchema": true,
       "metadata": {},
       "overflow": false,
       "plotOptions": {
        "customPlotOptions": {},
        "displayType": "table",
        "pivotAggregation": null,
        "pivotColumns": null,
        "xColumns": null,
        "yColumns": null
       },
       "removedWidgets": [],
       "schema": [
        {
         "metadata": "{}",
         "name": "review_id",
         "type": "\"integer\""
        },
        {
         "metadata": "{}",
         "name": "user_id",
         "type": "\"integer\""
        },
        {
         "metadata": "{}",
         "name": "submit_date",
         "type": "\"string\""
        },
        {
         "metadata": "{}",
         "name": "product_id",
         "type": "\"integer\""
        },
        {
         "metadata": "{}",
         "name": "stars",
         "type": "\"integer\""
        }
       ],
       "type": "table"
      }
     },
     "output_type": "display_data"
    }
   ],
   "source": [
    "from pyspark.sql.types import *\n",
    "\n",
    "# Define schema\n",
    "schema = StructType(\n",
    "    [\n",
    "        StructField(\"review_id\", IntegerType(), True),\n",
    "        StructField(\"user_id\", IntegerType(), True),\n",
    "        StructField(\"submit_date\", StringType(), True),\n",
    "        StructField(\"product_id\", IntegerType(), True),\n",
    "        StructField(\"stars\", IntegerType(), True),\n",
    "    ]\n",
    ")\n",
    "\n",
    "# Define data\n",
    "data = [\n",
    "    (6171, 123, \"08/16/2022 12:00:00\", 50001, 4),\n",
    "    (7802, 265, \"10/28/2022 12:00:00\", 69852, 4),\n",
    "    (5293, 362, \"10/04/2021 12:00:00\", 50001, 3),\n",
    "    (6352, 192, \"10/06/2024 12:00:00\", 69852, 3),\n",
    "    (4517, 981, \"09/16/2024 12:00:00\", 69852, 2),\n",
    "]\n",
    "\n",
    "# Create DataFrame\n",
    "df = spark.createDataFrame(data, schema=schema)\n",
    "\n",
    "# display DataFrame\n",
    "df.display()"
   ]
  },
  {
   "cell_type": "code",
   "execution_count": 0,
   "metadata": {
    "application/vnd.databricks.v1+cell": {
     "cellMetadata": {
      "byteLimit": 2048000,
      "rowLimit": 10000
     },
     "inputWidgets": {},
     "nuid": "5e3b0b46-2943-4f41-9a46-c190b2472d61",
     "showTitle": false,
     "tableResultSettingsMap": {},
     "title": ""
    }
   },
   "outputs": [
    {
     "output_type": "display_data",
     "data": {
      "text/html": [
       "<style scoped>\n",
       "  .table-result-container {\n",
       "    max-height: 300px;\n",
       "    overflow: auto;\n",
       "  }\n",
       "  table, th, td {\n",
       "    border: 1px solid black;\n",
       "    border-collapse: collapse;\n",
       "  }\n",
       "  th, td {\n",
       "    padding: 5px;\n",
       "  }\n",
       "  th {\n",
       "    text-align: left;\n",
       "  }\n",
       "</style><div class='table-result-container'><table class='table-result'><thead style='background-color: white'><tr><th>mth</th><th>product_id</th><th>avg_stars</th></tr></thead><tbody><tr><td>8</td><td>50001</td><td>4.0</td></tr><tr><td>9</td><td>69852</td><td>2.0</td></tr><tr><td>10</td><td>50001</td><td>3.0</td></tr><tr><td>10</td><td>69852</td><td>3.5</td></tr></tbody></table></div>"
      ]
     },
     "metadata": {
      "application/vnd.databricks.v1+output": {
       "addedWidgets": {},
       "aggData": [],
       "aggError": "",
       "aggOverflow": false,
       "aggSchema": [],
       "aggSeriesLimitReached": false,
       "aggType": "",
       "arguments": {},
       "columnCustomDisplayInfos": {},
       "data": [
        [
         8,
         50001,
         4.0
        ],
        [
         9,
         69852,
         2.0
        ],
        [
         10,
         50001,
         3.0
        ],
        [
         10,
         69852,
         3.5
        ]
       ],
       "datasetInfos": [],
       "dbfsResultPath": null,
       "isJsonSchema": true,
       "metadata": {},
       "overflow": false,
       "plotOptions": {
        "customPlotOptions": {},
        "displayType": "table",
        "pivotAggregation": null,
        "pivotColumns": null,
        "xColumns": null,
        "yColumns": null
       },
       "removedWidgets": [],
       "schema": [
        {
         "metadata": "{}",
         "name": "mth",
         "type": "\"integer\""
        },
        {
         "metadata": "{}",
         "name": "product_id",
         "type": "\"integer\""
        },
        {
         "metadata": "{}",
         "name": "avg_stars",
         "type": "\"double\""
        }
       ],
       "type": "table"
      }
     },
     "output_type": "display_data"
    }
   ],
   "source": [
    "from pyspark.sql import functions as F\n",
    "\n",
    "# Convert 'submit_date' to timestamp, extract month, and calculate average stars\n",
    "df = df.withColumn(\"submit_date\", F.to_timestamp(\"submit_date\", \"MM/dd/yyyy HH:mm:ss\"))\n",
    "result_df = (\n",
    "    df.groupBy(F.month(\"submit_date\").alias(\"mth\"), \"product_id\")\n",
    "    .agg(F.round(F.avg(\"stars\"), 2).alias(\"avg_stars\"))\n",
    "    .orderBy(\"mth\", \"product_id\")\n",
    ")\n",
    "\n",
    "# display the result\n",
    "result_df.display()"
   ]
  },
  {
   "cell_type": "code",
   "execution_count": 0,
   "metadata": {
    "application/vnd.databricks.v1+cell": {
     "cellMetadata": {
      "byteLimit": 2048000,
      "rowLimit": 10000
     },
     "inputWidgets": {},
     "nuid": "055e5735-505f-4db5-b0a9-c66341ae3fc1",
     "showTitle": false,
     "tableResultSettingsMap": {},
     "title": ""
    }
   },
   "outputs": [],
   "source": [
    "df.createOrReplaceTempView(\"reviews\")"
   ]
  },
  {
   "cell_type": "code",
   "execution_count": 0,
   "metadata": {
    "application/vnd.databricks.v1+cell": {
     "cellMetadata": {
      "byteLimit": 2048000,
      "implicitDf": true,
      "rowLimit": 10000
     },
     "inputWidgets": {},
     "nuid": "42d67db5-29e2-451f-abf2-08566f677ae0",
     "showTitle": false,
     "tableResultSettingsMap": {},
     "title": ""
    }
   },
   "outputs": [
    {
     "output_type": "display_data",
     "data": {
      "text/html": [
       "<style scoped>\n",
       "  .table-result-container {\n",
       "    max-height: 300px;\n",
       "    overflow: auto;\n",
       "  }\n",
       "  table, th, td {\n",
       "    border: 1px solid black;\n",
       "    border-collapse: collapse;\n",
       "  }\n",
       "  th, td {\n",
       "    padding: 5px;\n",
       "  }\n",
       "  th {\n",
       "    text-align: left;\n",
       "  }\n",
       "</style><div class='table-result-container'><table class='table-result'><thead style='background-color: white'><tr><th>mth</th><th>product_id</th><th>avg_stars</th></tr></thead><tbody><tr><td>8</td><td>50001</td><td>4.0</td></tr><tr><td>9</td><td>69852</td><td>2.0</td></tr><tr><td>10</td><td>50001</td><td>3.0</td></tr><tr><td>10</td><td>69852</td><td>3.5</td></tr></tbody></table></div>"
      ]
     },
     "metadata": {
      "application/vnd.databricks.v1+output": {
       "addedWidgets": {},
       "aggData": [],
       "aggError": "",
       "aggOverflow": false,
       "aggSchema": [],
       "aggSeriesLimitReached": false,
       "aggType": "",
       "arguments": {},
       "columnCustomDisplayInfos": {},
       "data": [
        [
         8,
         50001,
         4.0
        ],
        [
         9,
         69852,
         2.0
        ],
        [
         10,
         50001,
         3.0
        ],
        [
         10,
         69852,
         3.5
        ]
       ],
       "datasetInfos": [],
       "dbfsResultPath": null,
       "isJsonSchema": true,
       "metadata": {},
       "overflow": false,
       "plotOptions": {
        "customPlotOptions": {},
        "displayType": "table",
        "pivotAggregation": null,
        "pivotColumns": null,
        "xColumns": null,
        "yColumns": null
       },
       "removedWidgets": [],
       "schema": [
        {
         "metadata": "{}",
         "name": "mth",
         "type": "\"integer\""
        },
        {
         "metadata": "{}",
         "name": "product_id",
         "type": "\"integer\""
        },
        {
         "metadata": "{}",
         "name": "avg_stars",
         "type": "\"double\""
        }
       ],
       "type": "table"
      }
     },
     "output_type": "display_data"
    }
   ],
   "source": [
    "%sql\n",
    "SELECT\n",
    "  MONTH(submit_date) AS mth,\n",
    "  product_id,\n",
    "  ROUND(AVG(stars), 2) AS avg_stars\n",
    "FROM\n",
    "  reviews\n",
    "GROUP BY\n",
    "  MONTH(submit_date),\n",
    "  product_id\n",
    "ORDER BY\n",
    "  mth,\n",
    "  product_id;"
   ]
  },
  {
   "cell_type": "markdown",
   "metadata": {
    "application/vnd.databricks.v1+cell": {
     "cellMetadata": {},
     "inputWidgets": {},
     "nuid": "95ae2ebc-2278-475e-bf6c-44d3ca212637",
     "showTitle": false,
     "tableResultSettingsMap": {},
     "title": ""
    }
   },
   "source": [
    "Explanation:\n",
    "\n",
    "MONTH(submit_date) AS mth: Extracts the month directly using MONTH(), which is supported by Spark SQL.\n",
    "ROUND(AVG(stars), 2) AS avg_stars: Computes the average of stars and rounds it to two decimal places.\n",
    "This query groups and sorts by mth and product_id as in your original SQL version, giving you the monthly average stars rating per product.\n",
    "\n",
    "Let me know if there’s more you need with this!"
   ]
  }
 ],
 "metadata": {
  "application/vnd.databricks.v1+notebook": {
   "dashboards": [],
   "environmentMetadata": null,
   "language": "python",
   "notebookMetadata": {
    "mostRecentlyExecutedCommandWithImplicitDF": {
     "commandId": 1550376350833083,
     "dataframes": [
      "_sqldf"
     ]
    },
    "pythonIndentUnit": 4
   },
   "notebookName": "Average Review Ratings",
   "widgets": {}
  }
 },
 "nbformat": 4,
 "nbformat_minor": 0
}
