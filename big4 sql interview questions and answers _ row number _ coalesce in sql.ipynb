{
 "cells": [
  {
   "cell_type": "markdown",
   "metadata": {
    "application/vnd.databricks.v1+cell": {
     "cellMetadata": {},
     "inputWidgets": {},
     "nuid": "715de66b-a7f9-4e3b-80f0-fe32cb90d37e",
     "showTitle": false,
     "tableResultSettingsMap": {},
     "title": ""
    }
   },
   "source": [
    "\n",
    "Problem Statement:\n",
    "\n",
    "It seems to involve retrieving the most recent price change for each product and determining a new price based on specific conditions related to the ChangeDate. Here’s the breakdown:\n",
    "\n",
    "Input Table:\n",
    "\n",
    "The table ProductPrice Changes contains the following columns.\n",
    "\n",
    "ProductID: The unique identifier for each product.\n",
    "ChangeDate: The date when the price change occurred.\n",
    "NewPrice: The price after the change."
   ]
  },
  {
   "cell_type": "code",
   "execution_count": 0,
   "metadata": {
    "application/vnd.databricks.v1+cell": {
     "cellMetadata": {
      "byteLimit": 2048000,
      "rowLimit": 10000
     },
     "inputWidgets": {},
     "nuid": "0acd9fa1-195d-4c0f-8e39-158b0e7a6ad5",
     "showTitle": false,
     "tableResultSettingsMap": {},
     "title": ""
    }
   },
   "outputs": [
    {
     "output_type": "stream",
     "name": "stdout",
     "output_type": "stream",
     "text": [
      "Out[2]: <bound method apply_dataframe_display_patch.<locals>.df_display of DataFrame[ProductID: bigint, NewPrice: bigint, ChangeDate: string]>"
     ]
    }
   ],
   "source": [
    "from pyspark.sql.functions import row_number, col, when\n",
    "from pyspark.sql.window import Window\n",
    "\n",
    "# Create DataFrame\n",
    "data = [\n",
    "    (1, 10, \"2024-08-11\"),\n",
    "    (1, 20, \"2024-08-12\"),\n",
    "    (2, 20, \"2024-08-14\"),\n",
    "    (1, 40, \"2024-08-16\"),\n",
    "    (2, 50, \"2024-08-15\"),\n",
    "    (3, 90, \"2024-08-18\"),\n",
    "]\n",
    "#Schema\n",
    "columns = [\"ProductID\", \"NewPrice\", \"ChangeDate\"]\n",
    "\n",
    "df = spark.createDataFrame(data, columns)\n",
    "#display the dataframe\n",
    "df.display"
   ]
  },
  {
   "cell_type": "code",
   "execution_count": 0,
   "metadata": {
    "application/vnd.databricks.v1+cell": {
     "cellMetadata": {
      "byteLimit": 2048000,
      "rowLimit": 10000
     },
     "inputWidgets": {},
     "nuid": "cc5a45e1-f352-4566-8f55-a99db1219787",
     "showTitle": false,
     "tableResultSettingsMap": {},
     "title": ""
    }
   },
   "outputs": [
    {
     "output_type": "display_data",
     "data": {
      "text/html": [
       "<style scoped>\n",
       "  .table-result-container {\n",
       "    max-height: 300px;\n",
       "    overflow: auto;\n",
       "  }\n",
       "  table, th, td {\n",
       "    border: 1px solid black;\n",
       "    border-collapse: collapse;\n",
       "  }\n",
       "  th, td {\n",
       "    padding: 5px;\n",
       "  }\n",
       "  th {\n",
       "    text-align: left;\n",
       "  }\n",
       "</style><div class='table-result-container'><table class='table-result'><thead style='background-color: white'><tr><th>ProductID</th><th>NewPrice</th></tr></thead><tbody><tr><td>1</td><td>40</td></tr><tr><td>2</td><td>50</td></tr><tr><td>3</td><td>10</td></tr></tbody></table></div>"
      ]
     },
     "metadata": {
      "application/vnd.databricks.v1+output": {
       "addedWidgets": {},
       "aggData": [],
       "aggError": "",
       "aggOverflow": false,
       "aggSchema": [],
       "aggSeriesLimitReached": false,
       "aggType": "",
       "arguments": {},
       "columnCustomDisplayInfos": {},
       "data": [
        [
         1,
         "40"
        ],
        [
         2,
         "50"
        ],
        [
         3,
         "10"
        ]
       ],
       "datasetInfos": [],
       "dbfsResultPath": null,
       "isJsonSchema": true,
       "metadata": {},
       "overflow": false,
       "plotOptions": {
        "customPlotOptions": {},
        "displayType": "table",
        "pivotAggregation": null,
        "pivotColumns": null,
        "xColumns": null,
        "yColumns": null
       },
       "removedWidgets": [],
       "schema": [
        {
         "metadata": "{}",
         "name": "ProductID",
         "type": "\"long\""
        },
        {
         "metadata": "{}",
         "name": "NewPrice",
         "type": "\"string\""
        }
       ],
       "type": "table"
      }
     },
     "output_type": "display_data"
    }
   ],
   "source": [
    "# Convert ChangeDate column to DateType\n",
    "df = df.withColumn(\"ChangeDate\", col(\"ChangeDate\").cast(\"date\"))\n",
    "\n",
    "# Define the window specification\n",
    "window_spec = Window.partitionBy(\"ProductID\").orderBy(col(\"ChangeDate\").desc())\n",
    "\n",
    "# Add row numbers to identify the latest entry for each ProductID\n",
    "df_with_rownum = df.withColumn(\"RN\", row_number().over(window_spec))\n",
    "\n",
    "# Filter the rows where RN = 1 (latest entry per ProductID)\n",
    "latest_prices_df = df_with_rownum.filter(col(\"RN\") == 1)\n",
    "\n",
    "# Apply conditional logic for NewPrice based on ChangeDate\n",
    "result_df = latest_prices_df.withColumn(\n",
    "    \"NewPrice\",\n",
    "    when(col(\"ChangeDate\") == \"2024-08-16\", col(\"NewPrice\").cast(\"string\"))\n",
    "    .when(col(\"ChangeDate\") < \"2024-08-16\", col(\"NewPrice\").cast(\"string\"))\n",
    "    .when(col(\"ChangeDate\") > \"2024-08-16\", \"10\"),\n",
    ")\n",
    "\n",
    "# Select required columns\n",
    "result_df = result_df.select(\"ProductID\", \"NewPrice\")\n",
    "\n",
    "# display the final result\n",
    "result_df.display()"
   ]
  },
  {
   "cell_type": "code",
   "execution_count": 0,
   "metadata": {
    "application/vnd.databricks.v1+cell": {
     "cellMetadata": {
      "byteLimit": 2048000,
      "rowLimit": 10000
     },
     "inputWidgets": {},
     "nuid": "77b8aada-6daf-4985-9d78-259a3da78c51",
     "showTitle": false,
     "tableResultSettingsMap": {},
     "title": ""
    }
   },
   "outputs": [],
   "source": [
    "df.createOrReplaceTempView(\"ProductPriceChanges\")"
   ]
  },
  {
   "cell_type": "code",
   "execution_count": 0,
   "metadata": {
    "application/vnd.databricks.v1+cell": {
     "cellMetadata": {
      "byteLimit": 2048000,
      "implicitDf": true,
      "rowLimit": 10000
     },
     "inputWidgets": {},
     "nuid": "624be6f6-c964-4437-a332-0f8100bf2c23",
     "showTitle": false,
     "tableResultSettingsMap": {},
     "title": ""
    }
   },
   "outputs": [
    {
     "output_type": "display_data",
     "data": {
      "text/html": [
       "<style scoped>\n",
       "  .table-result-container {\n",
       "    max-height: 300px;\n",
       "    overflow: auto;\n",
       "  }\n",
       "  table, th, td {\n",
       "    border: 1px solid black;\n",
       "    border-collapse: collapse;\n",
       "  }\n",
       "  th, td {\n",
       "    padding: 5px;\n",
       "  }\n",
       "  th {\n",
       "    text-align: left;\n",
       "  }\n",
       "</style><div class='table-result-container'><table class='table-result'><thead style='background-color: white'><tr><th>ProductID</th><th>newPrice</th></tr></thead><tbody><tr><td>1</td><td>40</td></tr><tr><td>2</td><td>50</td></tr><tr><td>3</td><td>10</td></tr></tbody></table></div>"
      ]
     },
     "metadata": {
      "application/vnd.databricks.v1+output": {
       "addedWidgets": {},
       "aggData": [],
       "aggError": "",
       "aggOverflow": false,
       "aggSchema": [],
       "aggSeriesLimitReached": false,
       "aggType": "",
       "arguments": {},
       "columnCustomDisplayInfos": {},
       "data": [
        [
         1,
         "40"
        ],
        [
         2,
         "50"
        ],
        [
         3,
         "10"
        ]
       ],
       "datasetInfos": [],
       "dbfsResultPath": null,
       "isJsonSchema": true,
       "metadata": {},
       "overflow": false,
       "plotOptions": {
        "customPlotOptions": {},
        "displayType": "table",
        "pivotAggregation": null,
        "pivotColumns": null,
        "xColumns": null,
        "yColumns": null
       },
       "removedWidgets": [],
       "schema": [
        {
         "metadata": "{}",
         "name": "ProductID",
         "type": "\"long\""
        },
        {
         "metadata": "{}",
         "name": "newPrice",
         "type": "\"string\""
        }
       ],
       "type": "table"
      }
     },
     "output_type": "display_data"
    }
   ],
   "source": [
    "%sql\n",
    "WITH cte AS (\n",
    "  SELECT\n",
    "    *,\n",
    "    ROW_NUMBER() OVER (\n",
    "      PARTITION BY ProductID\n",
    "      ORDER BY\n",
    "        ChangeDate DESC\n",
    "    ) AS RN\n",
    "  FROM\n",
    "    ProductPriceChanges\n",
    ")\n",
    "SELECT\n",
    "  ProductID,\n",
    "  CASE\n",
    "    WHEN ChangeDate = '2024-08-16' THEN NewPrice\n",
    "    WHEN ChangeDate < '2024-08-16' THEN NewPrice\n",
    "    WHEN ChangeDate > '2024-08-16' THEN CAST(10 AS STRING)\n",
    "  END AS newPrice\n",
    "FROM\n",
    "  cte\n",
    "WHERE\n",
    "  RN = 1;"
   ]
  },
  {
   "cell_type": "markdown",
   "metadata": {
    "application/vnd.databricks.v1+cell": {
     "cellMetadata": {},
     "inputWidgets": {},
     "nuid": "30a4212f-4941-4216-b252-b2591d707e36",
     "showTitle": false,
     "tableResultSettingsMap": {},
     "title": ""
    }
   },
   "source": [
    "Explanation:\n",
    "\n",
    "ROW_NUMBER Function: Spark SQL supports ROW_NUMBER() with PARTITION BY and ORDER BY for window functions.\n",
    "\n",
    "CASE Expression: The CASE statement works the same way in Spark SQL.\n",
    "\n",
    "CAST Function: Use CAST(value AS STRING) to ensure consistent data types in the CASE statement since NewPrice might have a different data type."
   ]
  }
 ],
 "metadata": {
  "application/vnd.databricks.v1+notebook": {
   "dashboards": [],
   "environmentMetadata": null,
   "language": "python",
   "notebookMetadata": {
    "mostRecentlyExecutedCommandWithImplicitDF": {
     "commandId": 4441322659973937,
     "dataframes": [
      "_sqldf"
     ]
    },
    "pythonIndentUnit": 4
   },
   "notebookName": "big4 sql interview questions and answers | row number | coalesce in sql",
   "widgets": {}
  }
 },
 "nbformat": 4,
 "nbformat_minor": 0
}
