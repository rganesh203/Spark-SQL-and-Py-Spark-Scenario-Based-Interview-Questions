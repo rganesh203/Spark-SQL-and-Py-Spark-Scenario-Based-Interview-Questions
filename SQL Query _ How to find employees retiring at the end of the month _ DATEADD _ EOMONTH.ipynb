{
 "cells": [
  {
   "cell_type": "markdown",
   "metadata": {
    "application/vnd.databricks.v1+cell": {
     "cellMetadata": {},
     "inputWidgets": {},
     "nuid": "afe7826e-6c57-4e67-adce-f1ebc6d303f1",
     "showTitle": false,
     "tableResultSettingsMap": {},
     "title": ""
    }
   },
   "source": [
    "Problem Statement:\n",
    "\n",
    "Objective:\n",
    "\n",
    "You are tasked with identifying employees who will be retiring at the end of the current month, based on their BirthDate. The goal is to create a solution that calculates the RetirementDate by adding 60 years to each employee’s BirthDate and filters those who are turning 60 years old on or before the last day of the current month."
   ]
  },
  {
   "cell_type": "code",
   "execution_count": 0,
   "metadata": {
    "application/vnd.databricks.v1+cell": {
     "cellMetadata": {
      "byteLimit": 2048000,
      "rowLimit": 10000
     },
     "inputWidgets": {},
     "nuid": "04f7efd1-23da-4ab5-a1c3-8488d2e6248b",
     "showTitle": false,
     "tableResultSettingsMap": {},
     "title": ""
    }
   },
   "outputs": [
    {
     "output_type": "display_data",
     "data": {
      "text/html": [
       "<style scoped>\n",
       "  .table-result-container {\n",
       "    max-height: 300px;\n",
       "    overflow: auto;\n",
       "  }\n",
       "  table, th, td {\n",
       "    border: 1px solid black;\n",
       "    border-collapse: collapse;\n",
       "  }\n",
       "  th, td {\n",
       "    padding: 5px;\n",
       "  }\n",
       "  th {\n",
       "    text-align: left;\n",
       "  }\n",
       "</style><div class='table-result-container'><table class='table-result'><thead style='background-color: white'><tr><th>EmployeeID</th><th>Name</th><th>JobTitle</th><th>Department</th><th>Birthdate</th></tr></thead><tbody><tr><td>101</td><td>John Smith</td><td>Manager</td><td>Sales</td><td>1990-01-31</td></tr><tr><td>102</td><td>Jane Doe</td><td>Engineer</td><td>IT</td><td>1985-02-25</td></tr><tr><td>103</td><td>Alice Johnson</td><td>Analyst</td><td>Finance</td><td>1992-01-15</td></tr><tr><td>104</td><td>Robert Brown</td><td>Technician</td><td>Maintenance</td><td>1988-03-31</td></tr><tr><td>105</td><td>Emily Davis</td><td>Consultant</td><td>Marketing</td><td>1975-01-30</td></tr><tr><td>106</td><td>Michael Clark</td><td>Supervisor</td><td>Operations</td><td>1980-01-31</td></tr><tr><td>107</td><td>Sarah Miller</td><td>Designer</td><td>Design</td><td>1991-04-29</td></tr><tr><td>108</td><td>David Wilson</td><td>HR Specialist</td><td>HR</td><td>1961-01-31</td></tr><tr><td>109</td><td>Linda Thompson</td><td>Developer</td><td>IT</td><td>1962-05-20</td></tr><tr><td>110</td><td>Kevin Harris</td><td>Architect</td><td>Engineering</td><td>1960-01-31</td></tr></tbody></table></div>"
      ]
     },
     "metadata": {
      "application/vnd.databricks.v1+output": {
       "addedWidgets": {},
       "aggData": [],
       "aggError": "",
       "aggOverflow": false,
       "aggSchema": [],
       "aggSeriesLimitReached": false,
       "aggType": "",
       "arguments": {},
       "columnCustomDisplayInfos": {},
       "data": [
        [
         101,
         "John Smith",
         "Manager",
         "Sales",
         "1990-01-31"
        ],
        [
         102,
         "Jane Doe",
         "Engineer",
         "IT",
         "1985-02-25"
        ],
        [
         103,
         "Alice Johnson",
         "Analyst",
         "Finance",
         "1992-01-15"
        ],
        [
         104,
         "Robert Brown",
         "Technician",
         "Maintenance",
         "1988-03-31"
        ],
        [
         105,
         "Emily Davis",
         "Consultant",
         "Marketing",
         "1975-01-30"
        ],
        [
         106,
         "Michael Clark",
         "Supervisor",
         "Operations",
         "1980-01-31"
        ],
        [
         107,
         "Sarah Miller",
         "Designer",
         "Design",
         "1991-04-29"
        ],
        [
         108,
         "David Wilson",
         "HR Specialist",
         "HR",
         "1961-01-31"
        ],
        [
         109,
         "Linda Thompson",
         "Developer",
         "IT",
         "1962-05-20"
        ],
        [
         110,
         "Kevin Harris",
         "Architect",
         "Engineering",
         "1960-01-31"
        ]
       ],
       "datasetInfos": [],
       "dbfsResultPath": null,
       "isJsonSchema": true,
       "metadata": {},
       "overflow": false,
       "plotOptions": {
        "customPlotOptions": {},
        "displayType": "table",
        "pivotAggregation": null,
        "pivotColumns": null,
        "xColumns": null,
        "yColumns": null
       },
       "removedWidgets": [],
       "schema": [
        {
         "metadata": "{}",
         "name": "EmployeeID",
         "type": "\"long\""
        },
        {
         "metadata": "{}",
         "name": "Name",
         "type": "\"string\""
        },
        {
         "metadata": "{}",
         "name": "JobTitle",
         "type": "\"string\""
        },
        {
         "metadata": "{}",
         "name": "Department",
         "type": "\"string\""
        },
        {
         "metadata": "{}",
         "name": "Birthdate",
         "type": "\"date\""
        }
       ],
       "type": "table"
      }
     },
     "output_type": "display_data"
    }
   ],
   "source": [
    "from pyspark.sql.functions import *\n",
    "\n",
    "# Sample data\n",
    "data = [\n",
    "    (101, \"John Smith\", \"Manager\", \"Sales\", \"1990-01-31\"),\n",
    "    (102, \"Jane Doe\", \"Engineer\", \"IT\", \"1985-02-25\"),\n",
    "    (103, \"Alice Johnson\", \"Analyst\", \"Finance\", \"1992-01-15\"),\n",
    "    (104, \"Robert Brown\", \"Technician\", \"Maintenance\", \"1988-03-31\"),\n",
    "    (105, \"Emily Davis\", \"Consultant\", \"Marketing\", \"1975-01-30\"),\n",
    "    (106, \"Michael Clark\", \"Supervisor\", \"Operations\", \"1980-01-31\"),\n",
    "    (107, \"Sarah Miller\", \"Designer\", \"Design\", \"1991-04-29\"),\n",
    "    (108, \"David Wilson\", \"HR Specialist\", \"HR\", \"1961-01-31\"),\n",
    "    (109, \"Linda Thompson\", \"Developer\", \"IT\", \"1962-05-20\"),\n",
    "    (110, \"Kevin Harris\", \"Architect\", \"Engineering\", \"1960-01-31\"),\n",
    "]\n",
    "\n",
    "# Add Birthdate column\n",
    "columns = [\"EmployeeID\", \"Name\", \"JobTitle\", \"Department\", \"Birthdate\"]\n",
    "\n",
    "# Create DataFrame\n",
    "df = spark.createDataFrame(data, columns)\n",
    "\n",
    "# Convert Birthdate to date type\n",
    "df = df.withColumn(\"Birthdate\", col(\"Birthdate\").cast(\"date\"))\n",
    "\n",
    "df.display()"
   ]
  },
  {
   "cell_type": "code",
   "execution_count": 0,
   "metadata": {
    "application/vnd.databricks.v1+cell": {
     "cellMetadata": {
      "byteLimit": 2048000,
      "rowLimit": 10000
     },
     "inputWidgets": {},
     "nuid": "3f7d4cb6-bede-4a85-b78e-b0f4e6a87f56",
     "showTitle": false,
     "tableResultSettingsMap": {},
     "title": ""
    }
   },
   "outputs": [
    {
     "output_type": "display_data",
     "data": {
      "text/html": [
       "<style scoped>\n",
       "  .table-result-container {\n",
       "    max-height: 300px;\n",
       "    overflow: auto;\n",
       "  }\n",
       "  table, th, td {\n",
       "    border: 1px solid black;\n",
       "    border-collapse: collapse;\n",
       "  }\n",
       "  th, td {\n",
       "    padding: 5px;\n",
       "  }\n",
       "  th {\n",
       "    text-align: left;\n",
       "  }\n",
       "</style><div class='table-result-container'><table class='table-result'><thead style='background-color: white'><tr><th>EmployeeID</th><th>Name</th><th>JobTitle</th><th>Department</th><th>RetirementDate</th></tr></thead><tbody><tr><td>108</td><td>David Wilson</td><td>HR Specialist</td><td>HR</td><td>2021-01-31</td></tr><tr><td>109</td><td>Linda Thompson</td><td>Developer</td><td>IT</td><td>2022-05-20</td></tr><tr><td>110</td><td>Kevin Harris</td><td>Architect</td><td>Engineering</td><td>2020-01-31</td></tr></tbody></table></div>"
      ]
     },
     "metadata": {
      "application/vnd.databricks.v1+output": {
       "addedWidgets": {},
       "aggData": [],
       "aggError": "",
       "aggOverflow": false,
       "aggSchema": [],
       "aggSeriesLimitReached": false,
       "aggType": "",
       "arguments": {},
       "columnCustomDisplayInfos": {},
       "data": [
        [
         108,
         "David Wilson",
         "HR Specialist",
         "HR",
         "2021-01-31"
        ],
        [
         109,
         "Linda Thompson",
         "Developer",
         "IT",
         "2022-05-20"
        ],
        [
         110,
         "Kevin Harris",
         "Architect",
         "Engineering",
         "2020-01-31"
        ]
       ],
       "datasetInfos": [],
       "dbfsResultPath": null,
       "isJsonSchema": true,
       "metadata": {},
       "overflow": false,
       "plotOptions": {
        "customPlotOptions": {},
        "displayType": "table",
        "pivotAggregation": null,
        "pivotColumns": null,
        "xColumns": null,
        "yColumns": null
       },
       "removedWidgets": [],
       "schema": [
        {
         "metadata": "{}",
         "name": "EmployeeID",
         "type": "\"long\""
        },
        {
         "metadata": "{}",
         "name": "Name",
         "type": "\"string\""
        },
        {
         "metadata": "{}",
         "name": "JobTitle",
         "type": "\"string\""
        },
        {
         "metadata": "{}",
         "name": "Department",
         "type": "\"string\""
        },
        {
         "metadata": "{}",
         "name": "RetirementDate",
         "type": "\"date\""
        }
       ],
       "type": "table"
      }
     },
     "output_type": "display_data"
    }
   ],
   "source": [
    "from pyspark.sql.functions import col, add_months, current_date, last_day\n",
    "\n",
    "# Assuming df represents dbo.DimEmployee\n",
    "result_df = (\n",
    "    df.withColumn(\"RetirementDate\", add_months(col(\"BirthDate\"), 60 * 12))\n",
    "    .filter(col(\"RetirementDate\") <= last_day(current_date()))\n",
    "    .select(\"EmployeeID\", \"Name\", \"JobTitle\", \"Department\", \"RetirementDate\")\n",
    ")\n",
    "\n",
    "# Show results\n",
    "result_df.display()"
   ]
  },
  {
   "cell_type": "code",
   "execution_count": 0,
   "metadata": {
    "application/vnd.databricks.v1+cell": {
     "cellMetadata": {
      "byteLimit": 2048000,
      "rowLimit": 10000
     },
     "inputWidgets": {},
     "nuid": "1fe43eaa-6797-4a19-ac79-13f0285295bf",
     "showTitle": false,
     "tableResultSettingsMap": {},
     "title": ""
    }
   },
   "outputs": [],
   "source": [
    "df.createOrReplaceTempView(\"DimEmployee \")"
   ]
  },
  {
   "cell_type": "code",
   "execution_count": 0,
   "metadata": {
    "application/vnd.databricks.v1+cell": {
     "cellMetadata": {
      "byteLimit": 2048000,
      "implicitDf": true,
      "rowLimit": 10000
     },
     "inputWidgets": {},
     "nuid": "5b1899e5-d9b5-4cc0-bd17-78867bb9f00f",
     "showTitle": false,
     "tableResultSettingsMap": {},
     "title": ""
    }
   },
   "outputs": [
    {
     "output_type": "display_data",
     "data": {
      "text/html": [
       "<style scoped>\n",
       "  .table-result-container {\n",
       "    max-height: 300px;\n",
       "    overflow: auto;\n",
       "  }\n",
       "  table, th, td {\n",
       "    border: 1px solid black;\n",
       "    border-collapse: collapse;\n",
       "  }\n",
       "  th, td {\n",
       "    padding: 5px;\n",
       "  }\n",
       "  th {\n",
       "    text-align: left;\n",
       "  }\n",
       "</style><div class='table-result-container'><table class='table-result'><thead style='background-color: white'><tr><th>EmployeeID</th><th>Name</th><th>JobTitle</th><th>Department</th><th>RetirementDate</th></tr></thead><tbody><tr><td>108</td><td>David Wilson</td><td>HR Specialist</td><td>HR</td><td>2021-01-31</td></tr><tr><td>109</td><td>Linda Thompson</td><td>Developer</td><td>IT</td><td>2022-05-20</td></tr><tr><td>110</td><td>Kevin Harris</td><td>Architect</td><td>Engineering</td><td>2020-01-31</td></tr></tbody></table></div>"
      ]
     },
     "metadata": {
      "application/vnd.databricks.v1+output": {
       "addedWidgets": {},
       "aggData": [],
       "aggError": "",
       "aggOverflow": false,
       "aggSchema": [],
       "aggSeriesLimitReached": false,
       "aggType": "",
       "arguments": {},
       "columnCustomDisplayInfos": {},
       "data": [
        [
         108,
         "David Wilson",
         "HR Specialist",
         "HR",
         "2021-01-31"
        ],
        [
         109,
         "Linda Thompson",
         "Developer",
         "IT",
         "2022-05-20"
        ],
        [
         110,
         "Kevin Harris",
         "Architect",
         "Engineering",
         "2020-01-31"
        ]
       ],
       "datasetInfos": [],
       "dbfsResultPath": null,
       "isJsonSchema": true,
       "metadata": {},
       "overflow": false,
       "plotOptions": {
        "customPlotOptions": {},
        "displayType": "table",
        "pivotAggregation": null,
        "pivotColumns": null,
        "xColumns": null,
        "yColumns": null
       },
       "removedWidgets": [],
       "schema": [
        {
         "metadata": "{}",
         "name": "EmployeeID",
         "type": "\"long\""
        },
        {
         "metadata": "{}",
         "name": "Name",
         "type": "\"string\""
        },
        {
         "metadata": "{}",
         "name": "JobTitle",
         "type": "\"string\""
        },
        {
         "metadata": "{}",
         "name": "Department",
         "type": "\"string\""
        },
        {
         "metadata": "{}",
         "name": "RetirementDate",
         "type": "\"date\""
        }
       ],
       "type": "table"
      }
     },
     "output_type": "display_data"
    }
   ],
   "source": [
    "# Spark SQL query\n",
    "result_df = spark.sql(\n",
    "    \"\"\"\n",
    "    SELECT \n",
    "        EmployeeID, \n",
    "        Name, \n",
    "        JobTitle, \n",
    "        Department, \n",
    "        ADD_MONTHS(BirthDate, 60 * 12) AS RetirementDate\n",
    "    FROM \n",
    "        DimEmployee\n",
    "    WHERE \n",
    "        ADD_MONTHS(BirthDate, 60 * 12) <= LAST_DAY(current_date())\n",
    "\"\"\"\n",
    ")\n",
    "\n",
    "# Display results\n",
    "result_df.display()"
   ]
  },
  {
   "cell_type": "code",
   "execution_count": 0,
   "metadata": {
    "application/vnd.databricks.v1+cell": {
     "cellMetadata": {},
     "inputWidgets": {},
     "nuid": "3adbf15f-3aac-4349-ab2e-f05a95254aef",
     "showTitle": false,
     "tableResultSettingsMap": {},
     "title": ""
    }
   },
   "outputs": [],
   "source": [
    "%sql\n",
    "SELECT\n",
    "  EmployeeID,\n",
    "  Name,\n",
    "  Department,\n",
    "  ADD_MONTHS(Birthdate, 0) AS RetirementDate,\n",
    "  LAST_DAY(current_date())\n",
    "FROM\n",
    "  DimEmployee\n",
    "WHERE\n",
    "  ADD_MONTHS(Birthdate, 0) <= LAST_DAY(current_date())"
   ]
  },
  {
   "cell_type": "markdown",
   "metadata": {
    "application/vnd.databricks.v1+cell": {
     "cellMetadata": {},
     "inputWidgets": {},
     "nuid": "4b7ce6d1-24ca-48d5-9926-6e2464b28df5",
     "showTitle": false,
     "tableResultSettingsMap": {},
     "title": ""
    }
   },
   "source": [
    "Explanation:\n",
    "\n",
    "add_months(col(\"BirthDate\"), 60 * 12):\n",
    "Adds 60 years (60 × 12 months) to the BirthDate.\n",
    "\n",
    "last_day(current_date()):\n",
    "Returns the last day of the current month.\n",
    "\n",
    "Filter Clause:\n",
    "Filters employees whose 60th birthday falls on or before the last day of the current month."
   ]
  },
  {
   "cell_type": "code",
   "execution_count": 0,
   "metadata": {
    "application/vnd.databricks.v1+cell": {
     "cellMetadata": {},
     "inputWidgets": {},
     "nuid": "efbf7662-c192-4328-abe3-cb5bdd86ec9a",
     "showTitle": false,
     "tableResultSettingsMap": {},
     "title": ""
    }
   },
   "outputs": [],
   "source": [
    "%sql\n",
    "SELECT\n",
    "  LAST_DAY(current_date())"
   ]
  }
 ],
 "metadata": {
  "application/vnd.databricks.v1+notebook": {
   "computePreferences": null,
   "dashboards": [],
   "environmentMetadata": {
    "base_environment": "",
    "client": "1"
   },
   "language": "python",
   "notebookMetadata": {
    "mostRecentlyExecutedCommandWithImplicitDF": {
     "commandId": 2636004606698920,
     "dataframes": [
      "_sqldf"
     ]
    },
    "pythonIndentUnit": 4
   },
   "notebookName": "SQL Query | How to find employees retiring at the end of the month | DATEADD | EOMONTH",
   "widgets": {}
  }
 },
 "nbformat": 4,
 "nbformat_minor": 0
}
