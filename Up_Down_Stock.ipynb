{
 "cells": [
  {
   "cell_type": "markdown",
   "metadata": {
    "application/vnd.databricks.v1+cell": {
     "cellMetadata": {},
     "inputWidgets": {},
     "nuid": "8b289a86-737c-4227-bf90-703aac650efe",
     "showTitle": false,
     "tableResultSettingsMap": {},
     "title": ""
    }
   },
   "source": [
    "\n",
    "We have a dataset with daily stock prices for various stocks. For each stock, you need to flag rows where the price has increased, decreased, or remained the same compared to the previous day. The first day for each stock should have a NULL value in the new column, as there is no previous day to compare.\n"
   ]
  },
  {
   "cell_type": "code",
   "execution_count": 0,
   "metadata": {
    "application/vnd.databricks.v1+cell": {
     "cellMetadata": {
      "byteLimit": 2048000,
      "rowLimit": 10000
     },
     "inputWidgets": {},
     "nuid": "c54e78de-ced6-4dca-8e1f-378a331f2f96",
     "showTitle": false,
     "tableResultSettingsMap": {},
     "title": ""
    }
   },
   "outputs": [
    {
     "output_type": "display_data",
     "data": {
      "text/html": [
       "<style scoped>\n",
       "  .table-result-container {\n",
       "    max-height: 300px;\n",
       "    overflow: auto;\n",
       "  }\n",
       "  table, th, td {\n",
       "    border: 1px solid black;\n",
       "    border-collapse: collapse;\n",
       "  }\n",
       "  th, td {\n",
       "    padding: 5px;\n",
       "  }\n",
       "  th {\n",
       "    text-align: left;\n",
       "  }\n",
       "</style><div class='table-result-container'><table class='table-result'><thead style='background-color: white'><tr><th>stockid</th><th>date</th><th>price</th></tr></thead><tbody><tr><td>A</td><td>2024-01-01</td><td>100</td></tr><tr><td>A</td><td>2024-01-02</td><td>105</td></tr><tr><td>A</td><td>2024-01-03</td><td>104</td></tr><tr><td>B</td><td>2024-01-01</td><td>200</td></tr><tr><td>B</td><td>2024-01-02</td><td>200</td></tr><tr><td>B</td><td>2024-01-03</td><td>201</td></tr></tbody></table></div>"
      ]
     },
     "metadata": {
      "application/vnd.databricks.v1+output": {
       "addedWidgets": {},
       "aggData": [],
       "aggError": "",
       "aggOverflow": false,
       "aggSchema": [],
       "aggSeriesLimitReached": false,
       "aggType": "",
       "arguments": {},
       "columnCustomDisplayInfos": {},
       "data": [
        [
         "A",
         "2024-01-01",
         "100"
        ],
        [
         "A",
         "2024-01-02",
         "105"
        ],
        [
         "A",
         "2024-01-03",
         "104"
        ],
        [
         "B",
         "2024-01-01",
         "200"
        ],
        [
         "B",
         "2024-01-02",
         "200"
        ],
        [
         "B",
         "2024-01-03",
         "201"
        ]
       ],
       "datasetInfos": [],
       "dbfsResultPath": null,
       "isJsonSchema": true,
       "metadata": {},
       "overflow": false,
       "plotOptions": {
        "customPlotOptions": {},
        "displayType": "table",
        "pivotAggregation": null,
        "pivotColumns": null,
        "xColumns": null,
        "yColumns": null
       },
       "removedWidgets": [],
       "schema": [
        {
         "metadata": "{}",
         "name": "stockid",
         "type": "\"string\""
        },
        {
         "metadata": "{}",
         "name": "date",
         "type": "\"string\""
        },
        {
         "metadata": "{}",
         "name": "price",
         "type": "\"string\""
        }
       ],
       "type": "table"
      }
     },
     "output_type": "display_data"
    }
   ],
   "source": [
    "from pyspark.sql.functions import *\n",
    "from pyspark.sql.functions import lead, lag, to_timestamp\n",
    "from pyspark.sql.window import Window\n",
    "\n",
    "data = [\n",
    "    (\"A\", \"2024-01-01\", \"100\"),\n",
    "    (\"A\", \"2024-01-02\", \"105\"),\n",
    "    (\"A\", \"2024-01-03\", \"104\"),\n",
    "    (\"B\", \"2024-01-01\", \"200\"),\n",
    "    (\"B\", \"2024-01-02\", \"200\"),\n",
    "    (\"B\", \"2024-01-03\", \"201\"),\n",
    "]\n",
    "\n",
    "schema = [\"stockid\", \"date\", \"price\"]\n",
    "\n",
    "df = spark.createDataFrame(data, schema)\n",
    "df.display()"
   ]
  },
  {
   "cell_type": "code",
   "execution_count": 0,
   "metadata": {
    "application/vnd.databricks.v1+cell": {
     "cellMetadata": {
      "byteLimit": 2048000,
      "rowLimit": 10000
     },
     "inputWidgets": {},
     "nuid": "344da1d9-6917-4974-9502-4e74174e5ee2",
     "showTitle": false,
     "tableResultSettingsMap": {},
     "title": ""
    }
   },
   "outputs": [
    {
     "output_type": "display_data",
     "data": {
      "text/html": [
       "<style scoped>\n",
       "  .table-result-container {\n",
       "    max-height: 300px;\n",
       "    overflow: auto;\n",
       "  }\n",
       "  table, th, td {\n",
       "    border: 1px solid black;\n",
       "    border-collapse: collapse;\n",
       "  }\n",
       "  th, td {\n",
       "    padding: 5px;\n",
       "  }\n",
       "  th {\n",
       "    text-align: left;\n",
       "  }\n",
       "</style><div class='table-result-container'><table class='table-result'><thead style='background-color: white'><tr><th>stockid</th><th>date</th><th>price</th><th>price_change</th></tr></thead><tbody><tr><td>A</td><td>2024-01-01</td><td>100</td><td>null</td></tr><tr><td>A</td><td>2024-01-02</td><td>105</td><td>UP</td></tr><tr><td>A</td><td>2024-01-03</td><td>104</td><td>DOWN</td></tr><tr><td>B</td><td>2024-01-01</td><td>200</td><td>null</td></tr><tr><td>B</td><td>2024-01-02</td><td>200</td><td>SAME</td></tr><tr><td>B</td><td>2024-01-03</td><td>201</td><td>UP</td></tr></tbody></table></div>"
      ]
     },
     "metadata": {
      "application/vnd.databricks.v1+output": {
       "addedWidgets": {},
       "aggData": [],
       "aggError": "",
       "aggOverflow": false,
       "aggSchema": [],
       "aggSeriesLimitReached": false,
       "aggType": "",
       "arguments": {},
       "columnCustomDisplayInfos": {},
       "data": [
        [
         "A",
         "2024-01-01",
         "100",
         null
        ],
        [
         "A",
         "2024-01-02",
         "105",
         "UP"
        ],
        [
         "A",
         "2024-01-03",
         "104",
         "DOWN"
        ],
        [
         "B",
         "2024-01-01",
         "200",
         null
        ],
        [
         "B",
         "2024-01-02",
         "200",
         "SAME"
        ],
        [
         "B",
         "2024-01-03",
         "201",
         "UP"
        ]
       ],
       "datasetInfos": [],
       "dbfsResultPath": null,
       "isJsonSchema": true,
       "metadata": {},
       "overflow": false,
       "plotOptions": {
        "customPlotOptions": {},
        "displayType": "table",
        "pivotAggregation": null,
        "pivotColumns": null,
        "xColumns": null,
        "yColumns": null
       },
       "removedWidgets": [],
       "schema": [
        {
         "metadata": "{}",
         "name": "stockid",
         "type": "\"string\""
        },
        {
         "metadata": "{}",
         "name": "date",
         "type": "\"string\""
        },
        {
         "metadata": "{}",
         "name": "price",
         "type": "\"string\""
        },
        {
         "metadata": "{}",
         "name": "price_change",
         "type": "\"string\""
        }
       ],
       "type": "table"
      }
     },
     "output_type": "display_data"
    }
   ],
   "source": [
    "myWindow = Window.partitionBy(\"stockid\").orderBy(\"date\")\n",
    "df1 = df.withColumn(\"previousprice\", lag(\"price\").over(myWindow)).orderBy(\n",
    "    col(\"stockid\"), col(\"date\")\n",
    ")\n",
    "df2 = df1.withColumn(\"pricediff\", col(\"price\") - col(\"previousprice\"))\n",
    "df3 = df2.withColumn(\n",
    "    \"price_change\",\n",
    "    when(col(\"pricediff\") == 0.0, \"SAME\")\n",
    "    .when(col(\"pricediff\") == \"null\", \"NULL\")\n",
    "    .when(col(\"pricediff\") >= 1.0, \"UP\")\n",
    "    .when(col(\"pricediff\") < 0.0, \"DOWN\"),\n",
    ")\n",
    "df4 = df3.select(\"stockid\", \"date\", \"price\", \"price_change\")\n",
    "df4.display()"
   ]
  },
  {
   "cell_type": "code",
   "execution_count": 0,
   "metadata": {
    "application/vnd.databricks.v1+cell": {
     "cellMetadata": {
      "byteLimit": 2048000,
      "rowLimit": 10000
     },
     "inputWidgets": {},
     "nuid": "8b080d9e-e241-4dc2-a059-95c72b18ca44",
     "showTitle": false,
     "tableResultSettingsMap": {},
     "title": ""
    }
   },
   "outputs": [],
   "source": [
    "df.createOrReplaceTempView(\"stock_data\")"
   ]
  },
  {
   "cell_type": "code",
   "execution_count": 0,
   "metadata": {
    "application/vnd.databricks.v1+cell": {
     "cellMetadata": {
      "byteLimit": 2048000,
      "implicitDf": true,
      "rowLimit": 10000
     },
     "inputWidgets": {},
     "nuid": "069a4513-93fa-4d8b-ae62-4f9dd984c48e",
     "showTitle": false,
     "tableResultSettingsMap": {},
     "title": ""
    }
   },
   "outputs": [
    {
     "output_type": "display_data",
     "data": {
      "text/html": [
       "<style scoped>\n",
       "  .table-result-container {\n",
       "    max-height: 300px;\n",
       "    overflow: auto;\n",
       "  }\n",
       "  table, th, td {\n",
       "    border: 1px solid black;\n",
       "    border-collapse: collapse;\n",
       "  }\n",
       "  th, td {\n",
       "    padding: 5px;\n",
       "  }\n",
       "  th {\n",
       "    text-align: left;\n",
       "  }\n",
       "</style><div class='table-result-container'><table class='table-result'><thead style='background-color: white'><tr><th>stockid</th><th>date</th><th>price</th><th>price_change</th></tr></thead><tbody><tr><td>A</td><td>2024-01-01</td><td>100</td><td>NULL</td></tr><tr><td>A</td><td>2024-01-02</td><td>105</td><td>UP</td></tr><tr><td>A</td><td>2024-01-03</td><td>104</td><td>DOWN</td></tr><tr><td>B</td><td>2024-01-01</td><td>200</td><td>NULL</td></tr><tr><td>B</td><td>2024-01-02</td><td>200</td><td>SAME</td></tr><tr><td>B</td><td>2024-01-03</td><td>201</td><td>UP</td></tr></tbody></table></div>"
      ]
     },
     "metadata": {
      "application/vnd.databricks.v1+output": {
       "addedWidgets": {},
       "aggData": [],
       "aggError": "",
       "aggOverflow": false,
       "aggSchema": [],
       "aggSeriesLimitReached": false,
       "aggType": "",
       "arguments": {},
       "columnCustomDisplayInfos": {},
       "data": [
        [
         "A",
         "2024-01-01",
         "100",
         "NULL"
        ],
        [
         "A",
         "2024-01-02",
         "105",
         "UP"
        ],
        [
         "A",
         "2024-01-03",
         "104",
         "DOWN"
        ],
        [
         "B",
         "2024-01-01",
         "200",
         "NULL"
        ],
        [
         "B",
         "2024-01-02",
         "200",
         "SAME"
        ],
        [
         "B",
         "2024-01-03",
         "201",
         "UP"
        ]
       ],
       "datasetInfos": [],
       "dbfsResultPath": null,
       "isJsonSchema": true,
       "metadata": {},
       "overflow": false,
       "plotOptions": {
        "customPlotOptions": {},
        "displayType": "table",
        "pivotAggregation": null,
        "pivotColumns": null,
        "xColumns": null,
        "yColumns": null
       },
       "removedWidgets": [],
       "schema": [
        {
         "metadata": "{}",
         "name": "stockid",
         "type": "\"string\""
        },
        {
         "metadata": "{}",
         "name": "date",
         "type": "\"string\""
        },
        {
         "metadata": "{}",
         "name": "price",
         "type": "\"string\""
        },
        {
         "metadata": "{}",
         "name": "price_change",
         "type": "\"string\""
        }
       ],
       "type": "table"
      }
     },
     "output_type": "display_data"
    }
   ],
   "source": [
    "%sql\n",
    "WITH cte AS (\n",
    "    SELECT \n",
    "        stockid,\n",
    "        date,\n",
    "        price,\n",
    "        LAG(price) OVER (PARTITION BY stockid ORDER BY date) AS lprice\n",
    "    FROM stock_data\n",
    ")\n",
    "SELECT \n",
    "    stockid,\n",
    "    date,\n",
    "    price,\n",
    "    CASE \n",
    "        WHEN lprice IS NULL THEN 'NULL'\n",
    "        WHEN price > lprice THEN 'UP'\n",
    "        WHEN price < lprice THEN 'DOWN'\n",
    "        ELSE 'SAME' \n",
    "    END AS price_change\n",
    "FROM cte;\n"
   ]
  },
  {
   "cell_type": "markdown",
   "metadata": {
    "application/vnd.databricks.v1+cell": {
     "cellMetadata": {},
     "inputWidgets": {},
     "nuid": "69731157-47e2-4c15-96ae-e132ea712c07",
     "showTitle": false,
     "tableResultSettingsMap": {},
     "title": ""
    }
   },
   "source": [
    "Explanation:\n",
    "\n",
    "Temporary View:\n",
    " \n",
    "We use createOrReplaceTempView(\"stock_data\") to make the DataFrame accessible via SQL queries.\n",
    "LAG Window Function: In the SQL query, we use the LAG function to get the previous price (previousprice), partitioned by stock_id and ordered by date.\n",
    "Price Difference: We compute the price difference (pricediff) by subtracting the previousprice from the current price.\n",
    "CASE WHEN: We use CASE WHEN to categorize the price change (price_change):\n",
    "\"SAME\" if the price difference is 0,\n",
    "\"NULL\" if the pricediff is NULL,\n",
    "\"UP\" if the price went up,\n",
    "\"DOWN\" if the price went down."
   ]
  }
 ],
 "metadata": {
  "application/vnd.databricks.v1+notebook": {
   "dashboards": [],
   "environmentMetadata": null,
   "language": "python",
   "notebookMetadata": {
    "mostRecentlyExecutedCommandWithImplicitDF": {
     "commandId": 4395391681939669,
     "dataframes": [
      "_sqldf"
     ]
    },
    "pythonIndentUnit": 4
   },
   "notebookName": "Up_Down_Stock",
   "widgets": {}
  }
 },
 "nbformat": 4,
 "nbformat_minor": 0
}
