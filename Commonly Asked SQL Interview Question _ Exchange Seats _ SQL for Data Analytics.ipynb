{
 "cells": [
  {
   "cell_type": "markdown",
   "metadata": {
    "application/vnd.databricks.v1+cell": {
     "cellMetadata": {},
     "inputWidgets": {},
     "nuid": "bf2aa942-7c63-40b1-8e1f-e458d301b89b",
     "showTitle": false,
     "title": ""
    }
   },
   "source": [
    "Problem Statement:\n",
    "\n",
    "You have a table named seats with two columns: id and student, representing a seating arrangement for students. Your goal is to rearrange the students in a way that:\n",
    "\n",
    "Odd-numbered seats (i.e., where id is odd) should be filled with the student seated in the next seat (i.e., the student from the seat with the next higher id).\n",
    "\n",
    "If the current seat is the last seat (has no next seat), keep the same student in place.\n",
    "Even-numbered seats (i.e., where id is even) should be filled with the student seated in the previous seat (i.e., the student from the seat with the next lower id)."
   ]
  },
  {
   "cell_type": "code",
   "execution_count": 0,
   "metadata": {
    "application/vnd.databricks.v1+cell": {
     "cellMetadata": {
      "byteLimit": 2048000,
      "rowLimit": 10000
     },
     "inputWidgets": {},
     "nuid": "58eee6f5-c282-475e-b831-7d8280b77920",
     "showTitle": false,
     "title": ""
    }
   },
   "outputs": [
    {
     "output_type": "display_data",
     "data": {
      "text/html": [
       "<style scoped>\n",
       "  .table-result-container {\n",
       "    max-height: 300px;\n",
       "    overflow: auto;\n",
       "  }\n",
       "  table, th, td {\n",
       "    border: 1px solid black;\n",
       "    border-collapse: collapse;\n",
       "  }\n",
       "  th, td {\n",
       "    padding: 5px;\n",
       "  }\n",
       "  th {\n",
       "    text-align: left;\n",
       "  }\n",
       "</style><div class='table-result-container'><table class='table-result'><thead style='background-color: white'><tr><th>id</th><th>student</th></tr></thead><tbody><tr><td>1</td><td>Amit</td></tr><tr><td>2</td><td>Deepa</td></tr><tr><td>3</td><td>Rohit</td></tr><tr><td>4</td><td>Anjali</td></tr><tr><td>5</td><td>Neha</td></tr><tr><td>6</td><td>Sanjay</td></tr><tr><td>7</td><td>Priya</td></tr></tbody></table></div>"
      ]
     },
     "metadata": {
      "application/vnd.databricks.v1+output": {
       "addedWidgets": {},
       "aggData": [],
       "aggError": "",
       "aggOverflow": false,
       "aggSchema": [],
       "aggSeriesLimitReached": false,
       "aggType": "",
       "arguments": {},
       "columnCustomDisplayInfos": {},
       "data": [
        [
         1,
         "Amit"
        ],
        [
         2,
         "Deepa"
        ],
        [
         3,
         "Rohit"
        ],
        [
         4,
         "Anjali"
        ],
        [
         5,
         "Neha"
        ],
        [
         6,
         "Sanjay"
        ],
        [
         7,
         "Priya"
        ]
       ],
       "datasetInfos": [],
       "dbfsResultPath": null,
       "isJsonSchema": true,
       "metadata": {},
       "overflow": false,
       "plotOptions": {
        "customPlotOptions": {},
        "displayType": "table",
        "pivotAggregation": null,
        "pivotColumns": null,
        "xColumns": null,
        "yColumns": null
       },
       "removedWidgets": [],
       "schema": [
        {
         "metadata": "{}",
         "name": "id",
         "type": "\"long\""
        },
        {
         "metadata": "{}",
         "name": "student",
         "type": "\"string\""
        }
       ],
       "type": "table"
      }
     },
     "output_type": "display_data"
    }
   ],
   "source": [
    "# Define the data\n",
    "data = [\n",
    "    (1, \"Amit\"),\n",
    "    (2, \"Deepa\"),\n",
    "    (3, \"Rohit\"),\n",
    "    (4, \"Anjali\"),\n",
    "    (5, \"Neha\"),\n",
    "    (6, \"Sanjay\"),\n",
    "    (7, \"Priya\"),\n",
    "]\n",
    "\n",
    "# Define the schema\n",
    "columns = [\"id\", \"student\"]\n",
    "\n",
    "# Create a DataFrame\n",
    "df = spark.createDataFrame(data, schema=columns)\n",
    "\n",
    "# Write DataFrame to a table in Databricks\n",
    "df.display()"
   ]
  },
  {
   "cell_type": "code",
   "execution_count": 0,
   "metadata": {
    "application/vnd.databricks.v1+cell": {
     "cellMetadata": {
      "byteLimit": 2048000,
      "rowLimit": 10000
     },
     "inputWidgets": {},
     "nuid": "e6517ed6-9c78-4b7d-acec-4250720ffd11",
     "showTitle": false,
     "title": ""
    }
   },
   "outputs": [],
   "source": [
    "df.createGlobalTempView(\"seats\")"
   ]
  },
  {
   "cell_type": "code",
   "execution_count": 0,
   "metadata": {
    "application/vnd.databricks.v1+cell": {
     "cellMetadata": {
      "byteLimit": 2048000,
      "implicitDf": true,
      "rowLimit": 10000
     },
     "inputWidgets": {},
     "nuid": "b38e96a0-b8f8-4dc8-9ce1-1ae1dc2db6f9",
     "showTitle": false,
     "title": ""
    }
   },
   "outputs": [
    {
     "output_type": "display_data",
     "data": {
      "text/html": [
       "<style scoped>\n",
       "  .table-result-container {\n",
       "    max-height: 300px;\n",
       "    overflow: auto;\n",
       "  }\n",
       "  table, th, td {\n",
       "    border: 1px solid black;\n",
       "    border-collapse: collapse;\n",
       "  }\n",
       "  th, td {\n",
       "    padding: 5px;\n",
       "  }\n",
       "  th {\n",
       "    text-align: left;\n",
       "  }\n",
       "</style><div class='table-result-container'><table class='table-result'><thead style='background-color: white'><tr><th>id</th><th>swaped_student</th></tr></thead><tbody><tr><td>1</td><td>Deepa</td></tr><tr><td>2</td><td>Amit</td></tr><tr><td>3</td><td>Anjali</td></tr><tr><td>4</td><td>Rohit</td></tr><tr><td>5</td><td>Sanjay</td></tr><tr><td>6</td><td>Neha</td></tr><tr><td>7</td><td>Priya</td></tr></tbody></table></div>"
      ]
     },
     "metadata": {
      "application/vnd.databricks.v1+output": {
       "addedWidgets": {},
       "aggData": [],
       "aggError": "",
       "aggOverflow": false,
       "aggSchema": [],
       "aggSeriesLimitReached": false,
       "aggType": "",
       "arguments": {},
       "columnCustomDisplayInfos": {},
       "data": [
        [
         1,
         "Deepa"
        ],
        [
         2,
         "Amit"
        ],
        [
         3,
         "Anjali"
        ],
        [
         4,
         "Rohit"
        ],
        [
         5,
         "Sanjay"
        ],
        [
         6,
         "Neha"
        ],
        [
         7,
         "Priya"
        ]
       ],
       "datasetInfos": [],
       "dbfsResultPath": null,
       "isJsonSchema": true,
       "metadata": {},
       "overflow": false,
       "plotOptions": {
        "customPlotOptions": {},
        "displayType": "table",
        "pivotAggregation": null,
        "pivotColumns": null,
        "xColumns": null,
        "yColumns": null
       },
       "removedWidgets": [],
       "schema": [
        {
         "metadata": "{}",
         "name": "id",
         "type": "\"long\""
        },
        {
         "metadata": "{}",
         "name": "swaped_student",
         "type": "\"string\""
        }
       ],
       "type": "table"
      }
     },
     "output_type": "display_data"
    }
   ],
   "source": [
    "%sql\n",
    "with cte as (\n",
    "  select\n",
    "    *,\n",
    "    lead(student) over(\n",
    "      order by\n",
    "        id\n",
    "    ) as ld,\n",
    "    lag(student) over(\n",
    "      order by\n",
    "        id\n",
    "    ) as lg\n",
    "  from\n",
    "    seats\n",
    ")\n",
    "select\n",
    "  id,\n",
    "  case\n",
    "    when id % 2 = 1 then coalesce(ld, student)\n",
    "    else lg\n",
    "  end as swaped_student\n",
    "from\n",
    "  cte"
   ]
  },
  {
   "cell_type": "code",
   "execution_count": 0,
   "metadata": {
    "application/vnd.databricks.v1+cell": {
     "cellMetadata": {
      "byteLimit": 2048000,
      "rowLimit": 10000
     },
     "inputWidgets": {},
     "nuid": "b0dd0dbe-02c4-4282-aff8-4713718494b4",
     "showTitle": false,
     "title": ""
    }
   },
   "outputs": [
    {
     "output_type": "display_data",
     "data": {
      "text/html": [
       "<style scoped>\n",
       "  .table-result-container {\n",
       "    max-height: 300px;\n",
       "    overflow: auto;\n",
       "  }\n",
       "  table, th, td {\n",
       "    border: 1px solid black;\n",
       "    border-collapse: collapse;\n",
       "  }\n",
       "  th, td {\n",
       "    padding: 5px;\n",
       "  }\n",
       "  th {\n",
       "    text-align: left;\n",
       "  }\n",
       "</style><div class='table-result-container'><table class='table-result'><thead style='background-color: white'><tr><th>id</th><th>swapped_student</th></tr></thead><tbody><tr><td>1</td><td>Deepa</td></tr><tr><td>2</td><td>Amit</td></tr><tr><td>3</td><td>Anjali</td></tr><tr><td>4</td><td>Rohit</td></tr><tr><td>5</td><td>Sanjay</td></tr><tr><td>6</td><td>Neha</td></tr><tr><td>7</td><td>Priya</td></tr></tbody></table></div>"
      ]
     },
     "metadata": {
      "application/vnd.databricks.v1+output": {
       "addedWidgets": {},
       "aggData": [],
       "aggError": "",
       "aggOverflow": false,
       "aggSchema": [],
       "aggSeriesLimitReached": false,
       "aggType": "",
       "arguments": {},
       "columnCustomDisplayInfos": {},
       "data": [
        [
         1,
         "Deepa"
        ],
        [
         2,
         "Amit"
        ],
        [
         3,
         "Anjali"
        ],
        [
         4,
         "Rohit"
        ],
        [
         5,
         "Sanjay"
        ],
        [
         6,
         "Neha"
        ],
        [
         7,
         "Priya"
        ]
       ],
       "datasetInfos": [],
       "dbfsResultPath": null,
       "isJsonSchema": true,
       "metadata": {},
       "overflow": false,
       "plotOptions": {
        "customPlotOptions": {},
        "displayType": "table",
        "pivotAggregation": null,
        "pivotColumns": null,
        "xColumns": null,
        "yColumns": null
       },
       "removedWidgets": [],
       "schema": [
        {
         "metadata": "{}",
         "name": "id",
         "type": "\"long\""
        },
        {
         "metadata": "{}",
         "name": "swapped_student",
         "type": "\"string\""
        }
       ],
       "type": "table"
      }
     },
     "output_type": "display_data"
    }
   ],
   "source": [
    "from pyspark.sql.window import Window\n",
    "import pyspark.sql.functions as F\n",
    "\n",
    "# Define a window specification that orders by 'id'\n",
    "window_spec = Window.orderBy(\"id\")\n",
    "\n",
    "# Apply LEAD and LAG functions\n",
    "df_with_lag_lead = df.withColumn(\"ld\", F.lead(\"student\").over(window_spec)) \\\n",
    "                     .withColumn(\"lg\", F.lag(\"student\").over(window_spec))\n",
    "\n",
    "# Apply CASE logic with when and coalesce\n",
    "df_swapped = df_with_lag_lead.withColumn(\n",
    "    \"swapped_student\",\n",
    "    F.when(F.col(\"id\") % 2 == 1, F.coalesce(F.col(\"ld\"), F.col(\"student\")))  # If id is odd\n",
    "     .otherwise(F.col(\"lg\"))  # If id is even\n",
    ")\n",
    "\n",
    "# Select the relevant columns\n",
    "result_df = df_swapped.select(\"id\", \"swapped_student\")\n",
    "\n",
    "# display the result\n",
    "result_df.display()\n"
   ]
  },
  {
   "cell_type": "markdown",
   "metadata": {
    "application/vnd.databricks.v1+cell": {
     "cellMetadata": {},
     "inputWidgets": {},
     "nuid": "9e0192cb-bb50-403c-b3d4-57e085bf7c59",
     "showTitle": false,
     "title": ""
    }
   },
   "source": [
    "Explanation:\n",
    "\n",
    "Window Specification: Defines the window for LEAD and LAG, ordering by id.\n",
    "withColumn: Adds two columns: ld for lead and lg for lag.\n",
    "when and coalesce: Implements the CASE logic to swap students based on whether the id is odd or even.\n",
    "coalesce: Ensures that if lead returns None, the current student value is retained."
   ]
  }
 ],
 "metadata": {
  "application/vnd.databricks.v1+notebook": {
   "dashboards": [],
   "environmentMetadata": null,
   "language": "python",
   "notebookMetadata": {
    "mostRecentlyExecutedCommandWithImplicitDF": {
     "commandId": 3810749654706436,
     "dataframes": [
      "_sqldf"
     ]
    },
    "pythonIndentUnit": 4
   },
   "notebookName": "Commonly Asked SQL Interview Question | Exchange Seats | SQL for Data Analytics",
   "widgets": {}
  }
 },
 "nbformat": 4,
 "nbformat_minor": 0
}
