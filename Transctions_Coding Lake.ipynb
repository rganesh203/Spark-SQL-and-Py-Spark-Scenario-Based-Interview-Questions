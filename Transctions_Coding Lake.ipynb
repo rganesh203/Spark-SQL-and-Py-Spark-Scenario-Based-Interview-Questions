{
 "cells": [
  {
   "cell_type": "markdown",
   "metadata": {
    "application/vnd.databricks.v1+cell": {
     "cellMetadata": {},
     "inputWidgets": {},
     "nuid": "b9ca7caf-7278-4685-a695-c9e0318c14a7",
     "showTitle": false,
     "tableResultSettingsMap": {},
     "title": ""
    }
   },
   "source": [
    "Problem Statement:\n",
    "\n",
    "Write a SQL Query to find each month and country, the number of transactions and their total amount, the number of approved transactions and their amount."
   ]
  },
  {
   "cell_type": "code",
   "execution_count": 0,
   "metadata": {
    "application/vnd.databricks.v1+cell": {
     "cellMetadata": {
      "byteLimit": 2048000,
      "rowLimit": 10000
     },
     "inputWidgets": {},
     "nuid": "0d63451b-b73d-4005-8bcd-28cc23ade1bf",
     "showTitle": false,
     "tableResultSettingsMap": {},
     "title": ""
    }
   },
   "outputs": [
    {
     "output_type": "display_data",
     "data": {
      "text/html": [
       "<style scoped>\n",
       "  .table-result-container {\n",
       "    max-height: 300px;\n",
       "    overflow: auto;\n",
       "  }\n",
       "  table, th, td {\n",
       "    border: 1px solid black;\n",
       "    border-collapse: collapse;\n",
       "  }\n",
       "  th, td {\n",
       "    padding: 5px;\n",
       "  }\n",
       "  th {\n",
       "    text-align: left;\n",
       "  }\n",
       "</style><div class='table-result-container'><table class='table-result'><thead style='background-color: white'><tr><th>id</th><th>country</th><th>state</th><th>amount</th><th>trans_date</th></tr></thead><tbody><tr><td>1</td><td>US</td><td>approved</td><td>1000</td><td>2023-12-18</td></tr><tr><td>2</td><td>US</td><td>declined</td><td>2000</td><td>2023-12-19</td></tr><tr><td>3</td><td>US</td><td>approved</td><td>2000</td><td>2024-01-01</td></tr><tr><td>4</td><td>India</td><td>approved</td><td>2000</td><td>2023-01-07</td></tr></tbody></table></div>"
      ]
     },
     "metadata": {
      "application/vnd.databricks.v1+output": {
       "addedWidgets": {},
       "aggData": [],
       "aggError": "",
       "aggOverflow": false,
       "aggSchema": [],
       "aggSeriesLimitReached": false,
       "aggType": "",
       "arguments": {},
       "columnCustomDisplayInfos": {},
       "data": [
        [
         1,
         "US",
         "approved",
         1000,
         "2023-12-18"
        ],
        [
         2,
         "US",
         "declined",
         2000,
         "2023-12-19"
        ],
        [
         3,
         "US",
         "approved",
         2000,
         "2024-01-01"
        ],
        [
         4,
         "India",
         "approved",
         2000,
         "2023-01-07"
        ]
       ],
       "datasetInfos": [],
       "dbfsResultPath": null,
       "isJsonSchema": true,
       "metadata": {},
       "overflow": false,
       "plotOptions": {
        "customPlotOptions": {},
        "displayType": "table",
        "pivotAggregation": null,
        "pivotColumns": null,
        "xColumns": null,
        "yColumns": null
       },
       "removedWidgets": [],
       "schema": [
        {
         "metadata": "{}",
         "name": "id",
         "type": "\"integer\""
        },
        {
         "metadata": "{}",
         "name": "country",
         "type": "\"string\""
        },
        {
         "metadata": "{}",
         "name": "state",
         "type": "\"string\""
        },
        {
         "metadata": "{}",
         "name": "amount",
         "type": "\"integer\""
        },
        {
         "metadata": "{}",
         "name": "trans_date",
         "type": "\"date\""
        }
       ],
       "type": "table"
      }
     },
     "output_type": "display_data"
    }
   ],
   "source": [
    "from pyspark.sql.types import *\n",
    "from datetime import datetime\n",
    "from pyspark.sql.functions import date_format, col, count, sum as _sum\n",
    "\n",
    "# Define the schema for the DataFrame\n",
    "schema = StructType(\n",
    "    [\n",
    "        StructField(\"id\", IntegerType(), True),\n",
    "        StructField(\"country\", StringType(), True),\n",
    "        StructField(\"state\", StringType(), True),\n",
    "        StructField(\"amount\", IntegerType(), True),\n",
    "        StructField(\"trans_date\", DateType(), True),\n",
    "    ]\n",
    ")\n",
    "\n",
    "# Create the data with date objects\n",
    "data = [\n",
    "    (1, \"US\", \"approved\", 1000, datetime.strptime(\"2023-12-18\", \"%Y-%m-%d\").date()),\n",
    "    (2, \"US\", \"declined\", 2000, datetime.strptime(\"2023-12-19\", \"%Y-%m-%d\").date()),\n",
    "    (3, \"US\", \"approved\", 2000, datetime.strptime(\"2024-01-01\", \"%Y-%m-%d\").date()),\n",
    "    (4, \"India\", \"approved\", 2000, datetime.strptime(\"2023-01-07\", \"%Y-%m-%d\").date()),\n",
    "]\n",
    "\n",
    "# Create the DataFrame\n",
    "transactions_df = spark.createDataFrame(data, schema)\n",
    "\n",
    "# display the DataFrame\n",
    "transactions_df.display()"
   ]
  },
  {
   "cell_type": "code",
   "execution_count": 0,
   "metadata": {
    "application/vnd.databricks.v1+cell": {
     "cellMetadata": {
      "byteLimit": 2048000,
      "rowLimit": 10000
     },
     "inputWidgets": {},
     "nuid": "b60e491b-59e4-462d-bdba-e71f1368253c",
     "showTitle": false,
     "tableResultSettingsMap": {},
     "title": ""
    }
   },
   "outputs": [
    {
     "output_type": "display_data",
     "data": {
      "text/html": [
       "<style scoped>\n",
       "  .table-result-container {\n",
       "    max-height: 300px;\n",
       "    overflow: auto;\n",
       "  }\n",
       "  table, th, td {\n",
       "    border: 1px solid black;\n",
       "    border-collapse: collapse;\n",
       "  }\n",
       "  th, td {\n",
       "    padding: 5px;\n",
       "  }\n",
       "  th {\n",
       "    text-align: left;\n",
       "  }\n",
       "</style><div class='table-result-container'><table class='table-result'><thead style='background-color: white'><tr><th>month</th><th>country</th><th>cnt</th><th>trans_total_amount</th><th>approved</th><th>amount</th></tr></thead><tbody><tr><td>2023-12</td><td>US</td><td>2</td><td>3000</td><td>1</td><td>1000</td></tr><tr><td>2024-01</td><td>US</td><td>1</td><td>2000</td><td>1</td><td>2000</td></tr><tr><td>2023-01</td><td>India</td><td>1</td><td>2000</td><td>1</td><td>2000</td></tr></tbody></table></div>"
      ]
     },
     "metadata": {
      "application/vnd.databricks.v1+output": {
       "addedWidgets": {},
       "aggData": [],
       "aggError": "",
       "aggOverflow": false,
       "aggSchema": [],
       "aggSeriesLimitReached": false,
       "aggType": "",
       "arguments": {},
       "columnCustomDisplayInfos": {},
       "data": [
        [
         "2023-12",
         "US",
         2,
         3000,
         1,
         1000
        ],
        [
         "2024-01",
         "US",
         1,
         2000,
         1,
         2000
        ],
        [
         "2023-01",
         "India",
         1,
         2000,
         1,
         2000
        ]
       ],
       "datasetInfos": [],
       "dbfsResultPath": null,
       "isJsonSchema": true,
       "metadata": {},
       "overflow": false,
       "plotOptions": {
        "customPlotOptions": {},
        "displayType": "table",
        "pivotAggregation": null,
        "pivotColumns": null,
        "xColumns": null,
        "yColumns": null
       },
       "removedWidgets": [],
       "schema": [
        {
         "metadata": "{}",
         "name": "month",
         "type": "\"string\""
        },
        {
         "metadata": "{}",
         "name": "country",
         "type": "\"string\""
        },
        {
         "metadata": "{}",
         "name": "cnt",
         "type": "\"long\""
        },
        {
         "metadata": "{}",
         "name": "trans_total_amount",
         "type": "\"long\""
        },
        {
         "metadata": "{}",
         "name": "approved",
         "type": "\"long\""
        },
        {
         "metadata": "{}",
         "name": "amount",
         "type": "\"long\""
        }
       ],
       "type": "table"
      }
     },
     "output_type": "display_data"
    }
   ],
   "source": [
    "from pyspark.sql import functions as F\n",
    "\n",
    "# Step 1: Aggregate for `cte`\n",
    "cte = transactions_df.groupBy(\n",
    "    F.date_format(\"trans_date\", \"yyyy-MM\").alias(\"month\"), \"country\"\n",
    ").agg(F.count(\"*\").alias(\"cnt\"), F.sum(\"amount\").alias(\"trans_total_amount\"))\n",
    "\n",
    "# Step 2: Aggregate for `cte2`\n",
    "cte2 = (\n",
    "    transactions_df.filter(F.col(\"state\") == \"approved\")\n",
    "    .groupBy(F.date_format(\"trans_date\", \"yyyy-MM\").alias(\"month2\"), \"amount\")\n",
    "    .agg(F.count(\"*\").alias(\"approved\"))\n",
    ")\n",
    "\n",
    "# Step 3: Perform the INNER JOIN\n",
    "result = (\n",
    "    cte.alias(\"c1\")\n",
    "    .join(cte2.alias(\"c2\"), cte[\"month\"] == cte2[\"month2\"])\n",
    "    .select(\"c1.*\", \"c2.approved\", \"c2.amount\")\n",
    ")\n",
    "\n",
    "# display the final result\n",
    "result.display()"
   ]
  },
  {
   "cell_type": "code",
   "execution_count": 0,
   "metadata": {
    "application/vnd.databricks.v1+cell": {
     "cellMetadata": {
      "byteLimit": 2048000,
      "rowLimit": 10000
     },
     "inputWidgets": {},
     "nuid": "3ab35aad-5289-4be3-b285-470ca3b29754",
     "showTitle": false,
     "tableResultSettingsMap": {},
     "title": ""
    }
   },
   "outputs": [],
   "source": [
    "transactions_df.createOrReplaceTempView(\"transactions\")"
   ]
  },
  {
   "cell_type": "code",
   "execution_count": 0,
   "metadata": {
    "application/vnd.databricks.v1+cell": {
     "cellMetadata": {
      "byteLimit": 2048000,
      "implicitDf": true,
      "rowLimit": 10000
     },
     "inputWidgets": {},
     "nuid": "d590dc62-af52-47fe-bd61-a52354ff0d3f",
     "showTitle": false,
     "tableResultSettingsMap": {},
     "title": ""
    }
   },
   "outputs": [
    {
     "output_type": "display_data",
     "data": {
      "text/html": [
       "<style scoped>\n",
       "  .table-result-container {\n",
       "    max-height: 300px;\n",
       "    overflow: auto;\n",
       "  }\n",
       "  table, th, td {\n",
       "    border: 1px solid black;\n",
       "    border-collapse: collapse;\n",
       "  }\n",
       "  th, td {\n",
       "    padding: 5px;\n",
       "  }\n",
       "  th {\n",
       "    text-align: left;\n",
       "  }\n",
       "</style><div class='table-result-container'><table class='table-result'><thead style='background-color: white'><tr><th>month</th><th>country</th><th>cnt</th><th>trans_total_amount</th><th>approved</th><th>amount</th></tr></thead><tbody><tr><td>2023-12</td><td>US</td><td>2</td><td>3000</td><td>1</td><td>1000</td></tr><tr><td>2024-01</td><td>US</td><td>1</td><td>2000</td><td>1</td><td>2000</td></tr><tr><td>2023-01</td><td>India</td><td>1</td><td>2000</td><td>1</td><td>2000</td></tr></tbody></table></div>"
      ]
     },
     "metadata": {
      "application/vnd.databricks.v1+output": {
       "addedWidgets": {},
       "aggData": [],
       "aggError": "",
       "aggOverflow": false,
       "aggSchema": [],
       "aggSeriesLimitReached": false,
       "aggType": "",
       "arguments": {},
       "columnCustomDisplayInfos": {},
       "data": [
        [
         "2023-12",
         "US",
         2,
         3000,
         1,
         1000
        ],
        [
         "2024-01",
         "US",
         1,
         2000,
         1,
         2000
        ],
        [
         "2023-01",
         "India",
         1,
         2000,
         1,
         2000
        ]
       ],
       "datasetInfos": [],
       "dbfsResultPath": null,
       "isJsonSchema": true,
       "metadata": {},
       "overflow": false,
       "plotOptions": {
        "customPlotOptions": {},
        "displayType": "table",
        "pivotAggregation": null,
        "pivotColumns": null,
        "xColumns": null,
        "yColumns": null
       },
       "removedWidgets": [],
       "schema": [
        {
         "metadata": "{}",
         "name": "month",
         "type": "\"string\""
        },
        {
         "metadata": "{}",
         "name": "country",
         "type": "\"string\""
        },
        {
         "metadata": "{}",
         "name": "cnt",
         "type": "\"long\""
        },
        {
         "metadata": "{}",
         "name": "trans_total_amount",
         "type": "\"long\""
        },
        {
         "metadata": "{}",
         "name": "approved",
         "type": "\"long\""
        },
        {
         "metadata": "{}",
         "name": "amount",
         "type": "\"integer\""
        }
       ],
       "type": "table"
      }
     },
     "output_type": "display_data"
    }
   ],
   "source": [
    "# Use Spark SQL to perform the equivalent of your SQL Server query\n",
    "query = \"\"\"\n",
    "WITH cte AS (\n",
    "    SELECT \n",
    "        date_format(trans_date, 'yyyy-MM') AS month,\n",
    "        country,\n",
    "        COUNT(*) AS cnt,\n",
    "        SUM(amount) AS trans_total_amount\n",
    "    FROM transactions\n",
    "    GROUP BY date_format(trans_date, 'yyyy-MM'), country\n",
    "), \n",
    "cte2 AS (\n",
    "    SELECT \n",
    "        date_format(trans_date, 'yyyy-MM') AS month2,\n",
    "        COUNT(*) AS approved,\n",
    "        amount\n",
    "    FROM transactions\n",
    "    WHERE state = 'approved'\n",
    "    GROUP BY amount, date_format(trans_date, 'yyyy-MM')\n",
    ")\n",
    "SELECT \n",
    "    c1.*, \n",
    "    c2.approved, \n",
    "    c2.amount\n",
    "FROM cte c1\n",
    "INNER JOIN cte2 c2\n",
    "ON c1.month = c2.month2\n",
    "\"\"\"\n",
    "\n",
    "# Execute the query\n",
    "result_df = spark.sql(query)\n",
    "\n",
    "# display the result\n",
    "result_df.display()"
   ]
  },
  {
   "cell_type": "markdown",
   "metadata": {
    "application/vnd.databricks.v1+cell": {
     "cellMetadata": {},
     "inputWidgets": {},
     "nuid": "eacb6a50-9861-4f79-ab72-9f99d33edb7e",
     "showTitle": false,
     "tableResultSettingsMap": {},
     "title": ""
    }
   },
   "source": [
    "Explanation:\n",
    "\n",
    "WITH CTEs:\n",
    "\n",
    "cte: \n",
    "\n",
    "Aggregates transactions by month (date_format(trans_date, 'yyyy-MM')) and country, calculating cnt (count of transactions) and trans_total_amount (sum of amounts).\n",
    "\n",
    "cte2: \n",
    "\n",
    "Filters only approved transactions, grouping by amount and month.\n",
    "Join Operation:\n",
    "\n",
    "The final query joins the results of cte and cte2 on the month field.\n",
    "\n",
    "Functions Used:\n",
    "\n",
    "date_format: Converts the trans_date into a yyyy-MM string format.\n",
    "count and _sum: Aggregate functions for counting rows and summing amounts.\n",
    "\n",
    "Execution:\n",
    "\n",
    "The SQL query is run using spark.sql() after registering the DataFrame as a temporary SQL table."
   ]
  }
 ],
 "metadata": {
  "application/vnd.databricks.v1+notebook": {
   "computePreferences": null,
   "dashboards": [],
   "environmentMetadata": {
    "base_environment": "",
    "client": "1"
   },
   "language": "python",
   "notebookMetadata": {
    "mostRecentlyExecutedCommandWithImplicitDF": {
     "commandId": -1,
     "dataframes": [
      "_sqldf"
     ]
    },
    "pythonIndentUnit": 4
   },
   "notebookName": "Transctions_Coding Lake",
   "widgets": {}
  }
 },
 "nbformat": 4,
 "nbformat_minor": 0
}
