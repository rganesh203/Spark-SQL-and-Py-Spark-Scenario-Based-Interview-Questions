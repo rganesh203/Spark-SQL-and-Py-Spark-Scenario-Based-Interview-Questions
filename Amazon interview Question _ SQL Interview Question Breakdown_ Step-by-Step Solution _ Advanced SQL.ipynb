{
 "cells": [
  {
   "cell_type": "markdown",
   "metadata": {
    "application/vnd.databricks.v1+cell": {
     "cellMetadata": {},
     "inputWidgets": {},
     "nuid": "1467750b-c7fd-4846-b60a-afd1a2eed026",
     "showTitle": false,
     "tableResultSettingsMap": {},
     "title": ""
    }
   },
   "source": [
    "Problem Statement:\n",
    "\n",
    "You are working with an orderss dataset containing customer order information, including customer_id, order_date, and order_amount. The goal is to:\n",
    "\n",
    "Identify the latest two orders for each customer based on the order_date.\n",
    "Extract the order_amount of the latest order and the second latest order for each customer.\n",
    "Filter out customers who do not have at least two orders (i.e., ensure that both latest and second latest order amounts are available).\n",
    "\n",
    "Output the following columns:\n",
    "\n",
    "customer_id\n",
    "latest_order_amount (amount of the most recent order)\n",
    "second_latest_order_amount (amount of the second most recent order)"
   ]
  },
  {
   "cell_type": "code",
   "execution_count": 0,
   "metadata": {
    "application/vnd.databricks.v1+cell": {
     "cellMetadata": {
      "byteLimit": 2048000,
      "rowLimit": 10000
     },
     "inputWidgets": {},
     "nuid": "dbf989f0-4c55-46a8-b2c1-19186fdd03a4",
     "showTitle": false,
     "tableResultSettingsMap": {},
     "title": ""
    }
   },
   "outputs": [
    {
     "output_type": "display_data",
     "data": {
      "text/html": [
       "<style scoped>\n",
       "  .table-result-container {\n",
       "    max-height: 300px;\n",
       "    overflow: auto;\n",
       "  }\n",
       "  table, th, td {\n",
       "    border: 1px solid black;\n",
       "    border-collapse: collapse;\n",
       "  }\n",
       "  th, td {\n",
       "    padding: 5px;\n",
       "  }\n",
       "  th {\n",
       "    text-align: left;\n",
       "  }\n",
       "</style><div class='table-result-container'><table class='table-result'><thead style='background-color: white'><tr><th>order_id</th><th>customer_id</th><th>order_date</th><th>order_amount</th></tr></thead><tbody><tr><td>1</td><td>101</td><td>2024-01-10</td><td>150.00</td></tr><tr><td>2</td><td>101</td><td>2024-02-15</td><td>200.00</td></tr><tr><td>3</td><td>101</td><td>2024-03-20</td><td>180.00</td></tr><tr><td>4</td><td>102</td><td>2024-01-12</td><td>200.00</td></tr><tr><td>5</td><td>102</td><td>2024-02-25</td><td>250.00</td></tr><tr><td>6</td><td>102</td><td>2024-03-10</td><td>320.00</td></tr><tr><td>7</td><td>103</td><td>2024-01-25</td><td>400.00</td></tr><tr><td>8</td><td>103</td><td>2024-02-15</td><td>420.00</td></tr></tbody></table></div>"
      ]
     },
     "metadata": {
      "application/vnd.databricks.v1+output": {
       "addedWidgets": {},
       "aggData": [],
       "aggError": "",
       "aggOverflow": false,
       "aggSchema": [],
       "aggSeriesLimitReached": false,
       "aggType": "",
       "arguments": {},
       "columnCustomDisplayInfos": {},
       "data": [
        [
         1,
         101,
         "2024-01-10",
         "150.00"
        ],
        [
         2,
         101,
         "2024-02-15",
         "200.00"
        ],
        [
         3,
         101,
         "2024-03-20",
         "180.00"
        ],
        [
         4,
         102,
         "2024-01-12",
         "200.00"
        ],
        [
         5,
         102,
         "2024-02-25",
         "250.00"
        ],
        [
         6,
         102,
         "2024-03-10",
         "320.00"
        ],
        [
         7,
         103,
         "2024-01-25",
         "400.00"
        ],
        [
         8,
         103,
         "2024-02-15",
         "420.00"
        ]
       ],
       "datasetInfos": [],
       "dbfsResultPath": null,
       "isJsonSchema": true,
       "metadata": {},
       "overflow": false,
       "plotOptions": {
        "customPlotOptions": {},
        "displayType": "table",
        "pivotAggregation": null,
        "pivotColumns": null,
        "xColumns": null,
        "yColumns": null
       },
       "removedWidgets": [],
       "schema": [
        {
         "metadata": "{}",
         "name": "order_id",
         "type": "\"integer\""
        },
        {
         "metadata": "{}",
         "name": "customer_id",
         "type": "\"integer\""
        },
        {
         "metadata": "{}",
         "name": "order_date",
         "type": "\"date\""
        },
        {
         "metadata": "{}",
         "name": "order_amount",
         "type": "\"decimal(10,2)\""
        }
       ],
       "type": "table"
      }
     },
     "output_type": "display_data"
    }
   ],
   "source": [
    "from pyspark.sql.types import (\n",
    "    StructType,\n",
    "    StructField,\n",
    "    IntegerType,\n",
    "    DateType,\n",
    "    DecimalType,\n",
    ")\n",
    "from datetime import datetime\n",
    "from decimal import Decimal\n",
    "\n",
    "# Define schema for the DataFrame\n",
    "schema = StructType(\n",
    "    [\n",
    "        StructField(\"order_id\", IntegerType(), True),\n",
    "        StructField(\"customer_id\", IntegerType(), True),\n",
    "        StructField(\"order_date\", DateType(), True),\n",
    "        StructField(\"order_amount\", DecimalType(10, 2), True),\n",
    "    ]\n",
    ")\n",
    "\n",
    "# Create data for the DataFrame with correct types\n",
    "data = [\n",
    "    (1, 101, datetime.strptime(\"2024-01-10\", \"%Y-%m-%d\").date(), Decimal(\"150.00\")),\n",
    "    (2, 101, datetime.strptime(\"2024-02-15\", \"%Y-%m-%d\").date(), Decimal(\"200.00\")),\n",
    "    (3, 101, datetime.strptime(\"2024-03-20\", \"%Y-%m-%d\").date(), Decimal(\"180.00\")),\n",
    "    (4, 102, datetime.strptime(\"2024-01-12\", \"%Y-%m-%d\").date(), Decimal(\"200.00\")),\n",
    "    (5, 102, datetime.strptime(\"2024-02-25\", \"%Y-%m-%d\").date(), Decimal(\"250.00\")),\n",
    "    (6, 102, datetime.strptime(\"2024-03-10\", \"%Y-%m-%d\").date(), Decimal(\"320.00\")),\n",
    "    (7, 103, datetime.strptime(\"2024-01-25\", \"%Y-%m-%d\").date(), Decimal(\"400.00\")),\n",
    "    (8, 103, datetime.strptime(\"2024-02-15\", \"%Y-%m-%d\").date(), Decimal(\"420.00\")),\n",
    "]\n",
    "\n",
    "# Create DataFrame\n",
    "orders_df = spark.createDataFrame(data, schema=schema)\n",
    "\n",
    "# Show the DataFrame\n",
    "orders_df.display()"
   ]
  },
  {
   "cell_type": "code",
   "execution_count": 0,
   "metadata": {
    "application/vnd.databricks.v1+cell": {
     "cellMetadata": {
      "byteLimit": 2048000,
      "rowLimit": 10000
     },
     "inputWidgets": {},
     "nuid": "72a678b1-404f-4522-8e36-48b5464ca422",
     "showTitle": false,
     "tableResultSettingsMap": {},
     "title": ""
    }
   },
   "outputs": [],
   "source": [
    "orders_df.createOrReplaceTempView(\"orderss\")"
   ]
  },
  {
   "cell_type": "code",
   "execution_count": 0,
   "metadata": {
    "application/vnd.databricks.v1+cell": {
     "cellMetadata": {
      "byteLimit": 2048000,
      "implicitDf": true,
      "rowLimit": 10000
     },
     "inputWidgets": {},
     "nuid": "8e568abc-5dee-4e0f-84c0-290b6c17ad50",
     "showTitle": false,
     "tableResultSettingsMap": {},
     "title": ""
    }
   },
   "outputs": [
    {
     "output_type": "display_data",
     "data": {
      "text/html": [
       "<style scoped>\n",
       "  .table-result-container {\n",
       "    max-height: 300px;\n",
       "    overflow: auto;\n",
       "  }\n",
       "  table, th, td {\n",
       "    border: 1px solid black;\n",
       "    border-collapse: collapse;\n",
       "  }\n",
       "  th, td {\n",
       "    padding: 5px;\n",
       "  }\n",
       "  th {\n",
       "    text-align: left;\n",
       "  }\n",
       "</style><div class='table-result-container'><table class='table-result'><thead style='background-color: white'><tr><th>customer_id</th><th>latest_order_amount</th><th>second_latest_order_amount</th></tr></thead><tbody><tr><td>101</td><td>180.00</td><td>200.00</td></tr><tr><td>102</td><td>320.00</td><td>250.00</td></tr><tr><td>103</td><td>420.00</td><td>400.00</td></tr></tbody></table></div>"
      ]
     },
     "metadata": {
      "application/vnd.databricks.v1+output": {
       "addedWidgets": {},
       "aggData": [],
       "aggError": "",
       "aggOverflow": false,
       "aggSchema": [],
       "aggSeriesLimitReached": false,
       "aggType": "",
       "arguments": {},
       "columnCustomDisplayInfos": {},
       "data": [
        [
         101,
         "180.00",
         "200.00"
        ],
        [
         102,
         "320.00",
         "250.00"
        ],
        [
         103,
         "420.00",
         "400.00"
        ]
       ],
       "datasetInfos": [],
       "dbfsResultPath": null,
       "isJsonSchema": true,
       "metadata": {},
       "overflow": false,
       "plotOptions": {
        "customPlotOptions": {},
        "displayType": "table",
        "pivotAggregation": null,
        "pivotColumns": null,
        "xColumns": null,
        "yColumns": null
       },
       "removedWidgets": [],
       "schema": [
        {
         "metadata": "{}",
         "name": "customer_id",
         "type": "\"integer\""
        },
        {
         "metadata": "{}",
         "name": "latest_order_amount",
         "type": "\"decimal(10,2)\""
        },
        {
         "metadata": "{}",
         "name": "second_latest_order_amount",
         "type": "\"decimal(10,2)\""
        }
       ],
       "type": "table"
      }
     },
     "output_type": "display_data"
    }
   ],
   "source": [
    "%sql\n",
    "with cte as(\n",
    "  select\n",
    "    orderss.*,\n",
    "    DENSE_RANK() OVER(\n",
    "      PARTITION BY customer_id\n",
    "      ORDER BY\n",
    "        order_date DESC\n",
    "    ) as r1\n",
    "  FROM\n",
    "    orderss\n",
    "),\n",
    "cte1 as(\n",
    "  select\n",
    "    customer_id,\n",
    "    order_amount as latest_order_amount,\n",
    "    order_date\n",
    "  FROM\n",
    "    cte\n",
    "  where\n",
    "    r1 <= 2\n",
    "),\n",
    "cte2 as(\n",
    "  select\n",
    "    cte1.*,\n",
    "    LEAD(latest_order_amount) OVER(\n",
    "      PARTITION BY customer_id\n",
    "      ORDER BY\n",
    "        order_date DESC\n",
    "    ) as second_latest_order_amount\n",
    "  FROM\n",
    "    cte1\n",
    ")\n",
    "select\n",
    "  customer_id,\n",
    "  latest_order_amount,\n",
    "  second_latest_order_amount\n",
    "FROM\n",
    "  cte2\n",
    "where\n",
    "  second_latest_order_amount is not null;"
   ]
  },
  {
   "cell_type": "code",
   "execution_count": 0,
   "metadata": {
    "application/vnd.databricks.v1+cell": {
     "cellMetadata": {
      "byteLimit": 2048000,
      "rowLimit": 10000
     },
     "inputWidgets": {},
     "nuid": "efe4c3bb-9be6-4557-be0c-ce9451439e4d",
     "showTitle": false,
     "tableResultSettingsMap": {},
     "title": ""
    }
   },
   "outputs": [
    {
     "output_type": "display_data",
     "data": {
      "text/html": [
       "<style scoped>\n",
       "  .table-result-container {\n",
       "    max-height: 300px;\n",
       "    overflow: auto;\n",
       "  }\n",
       "  table, th, td {\n",
       "    border: 1px solid black;\n",
       "    border-collapse: collapse;\n",
       "  }\n",
       "  th, td {\n",
       "    padding: 5px;\n",
       "  }\n",
       "  th {\n",
       "    text-align: left;\n",
       "  }\n",
       "</style><div class='table-result-container'><table class='table-result'><thead style='background-color: white'><tr><th>customer_id</th><th>order_amount</th><th>second_latest_order_amount</th></tr></thead><tbody><tr><td>101</td><td>180.00</td><td>200.00</td></tr><tr><td>102</td><td>320.00</td><td>250.00</td></tr><tr><td>103</td><td>420.00</td><td>400.00</td></tr></tbody></table></div>"
      ]
     },
     "metadata": {
      "application/vnd.databricks.v1+output": {
       "addedWidgets": {},
       "aggData": [],
       "aggError": "",
       "aggOverflow": false,
       "aggSchema": [],
       "aggSeriesLimitReached": false,
       "aggType": "",
       "arguments": {},
       "columnCustomDisplayInfos": {},
       "data": [
        [
         101,
         "180.00",
         "200.00"
        ],
        [
         102,
         "320.00",
         "250.00"
        ],
        [
         103,
         "420.00",
         "400.00"
        ]
       ],
       "datasetInfos": [],
       "dbfsResultPath": null,
       "isJsonSchema": true,
       "metadata": {},
       "overflow": false,
       "plotOptions": {
        "customPlotOptions": {},
        "displayType": "table",
        "pivotAggregation": null,
        "pivotColumns": null,
        "xColumns": null,
        "yColumns": null
       },
       "removedWidgets": [],
       "schema": [
        {
         "metadata": "{}",
         "name": "customer_id",
         "type": "\"integer\""
        },
        {
         "metadata": "{}",
         "name": "order_amount",
         "type": "\"decimal(10,2)\""
        },
        {
         "metadata": "{}",
         "name": "second_latest_order_amount",
         "type": "\"decimal(10,2)\""
        }
       ],
       "type": "table"
      }
     },
     "output_type": "display_data"
    }
   ],
   "source": [
    "from pyspark.sql import Window\n",
    "from pyspark.sql.functions import col, dense_rank, lead\n",
    "\n",
    "# Define a window for DENSE_RANK based on customer_id and order_date\n",
    "rank_window = Window.partitionBy(\"customer_id\").orderBy(col(\"order_date\").desc())\n",
    "\n",
    "# Step 1: Add a column for DENSE_RANK\n",
    "orders_df_ranked = orders_df.withColumn(\"r1\", dense_rank().over(rank_window))\n",
    "\n",
    "# Step 2: Filter rows where r1 <= 2\n",
    "latest_orders = orders_df_ranked.filter(col(\"r1\") <= 2)\n",
    "\n",
    "# Step 3: Add a column for LEAD to get the second_latest_order_amount\n",
    "lead_window = Window.partitionBy(\"customer_id\").orderBy(col(\"order_date\").desc())\n",
    "latest_orders_with_lead = latest_orders.withColumn(\n",
    "    \"second_latest_order_amount\", lead(\"order_amount\").over(lead_window)\n",
    ")\n",
    "\n",
    "# Step 4: Filter rows where second_latest_order_amount is not null\n",
    "result_df = latest_orders_with_lead.filter(\n",
    "    col(\"second_latest_order_amount\").isNotNull()\n",
    ").select(\"customer_id\", \"order_amount\", \"second_latest_order_amount\")\n",
    "\n",
    "# Show the result\n",
    "result_df.display()"
   ]
  },
  {
   "cell_type": "markdown",
   "metadata": {
    "application/vnd.databricks.v1+cell": {
     "cellMetadata": {},
     "inputWidgets": {},
     "nuid": "61919391-b5ea-43f8-9ea8-d946acdee40a",
     "showTitle": false,
     "tableResultSettingsMap": {},
     "title": ""
    }
   },
   "source": [
    "Explanation of Steps:\n",
    "    \n",
    "dense_rank():\n",
    "\n",
    "Adds a rank (r1) to orders for each customer_id, ordered by order_date in descending order.\n",
    "Filter r1 <= 2:\n",
    "\n",
    "Selects only the latest and second-latest orders for each customer.\n",
    "lead():\n",
    "\n",
    "Adds a column (second_latest_order_amount) with the next order's order_amount for the same customer_id.\n",
    "Filter second_latest_order_amount IS NOT NULL:\n",
    "\n",
    "Ensures that only rows with valid second-latest order amounts are included in the final result.\n",
    "select:\n",
    "\n",
    "Retrieves only the relevant columns: customer_id, latest_order_amount, and second_latest_order_amount."
   ]
  }
 ],
 "metadata": {
  "application/vnd.databricks.v1+notebook": {
   "computePreferences": null,
   "dashboards": [],
   "environmentMetadata": {
    "base_environment": "",
    "client": "1"
   },
   "language": "python",
   "notebookMetadata": {
    "mostRecentlyExecutedCommandWithImplicitDF": {
     "commandId": 1287573245819827,
     "dataframes": [
      "_sqldf"
     ]
    },
    "pythonIndentUnit": 4
   },
   "notebookName": "Amazon interview Question | SQL Interview Question Breakdown: Step-by-Step Solution | Advanced SQL",
   "widgets": {}
  }
 },
 "nbformat": 4,
 "nbformat_minor": 0
}
