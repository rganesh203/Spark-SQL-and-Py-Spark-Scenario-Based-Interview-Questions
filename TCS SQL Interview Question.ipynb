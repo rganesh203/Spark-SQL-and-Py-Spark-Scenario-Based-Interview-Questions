{
 "cells": [
  {
   "cell_type": "markdown",
   "metadata": {
    "application/vnd.databricks.v1+cell": {
     "cellMetadata": {},
     "inputWidgets": {},
     "nuid": "d3eda220-ad72-4ec1-a131-71fd3ceeeb0c",
     "showTitle": false,
     "title": ""
    }
   },
   "source": [
    "Problem Statement:\n",
    "\n",
    "Generate a monthly sales report for all products in the year 2024. The report should include the total sales for each product by month, ensuring that even months with no sales data are represented with a total sales value of zero."
   ]
  },
  {
   "cell_type": "code",
   "execution_count": 0,
   "metadata": {
    "application/vnd.databricks.v1+cell": {
     "cellMetadata": {
      "byteLimit": 2048000,
      "rowLimit": 10000
     },
     "inputWidgets": {},
     "nuid": "c264bcf1-261a-4008-b6cb-3d2620b3beab",
     "showTitle": false,
     "title": ""
    }
   },
   "outputs": [
    {
     "output_type": "stream",
     "name": "stdout",
     "output_type": "stream",
     "text": [
      "Products:\n"
     ]
    },
    {
     "output_type": "display_data",
     "data": {
      "text/html": [
       "<style scoped>\n",
       "  .table-result-container {\n",
       "    max-height: 300px;\n",
       "    overflow: auto;\n",
       "  }\n",
       "  table, th, td {\n",
       "    border: 1px solid black;\n",
       "    border-collapse: collapse;\n",
       "  }\n",
       "  th, td {\n",
       "    padding: 5px;\n",
       "  }\n",
       "  th {\n",
       "    text-align: left;\n",
       "  }\n",
       "</style><div class='table-result-container'><table class='table-result'><thead style='background-color: white'><tr><th>pid</th><th>pname</th><th>price</th></tr></thead><tbody><tr><td>1</td><td>A</td><td>1000</td></tr><tr><td>2</td><td>B</td><td>400</td></tr><tr><td>3</td><td>C</td><td>500</td></tr></tbody></table></div>"
      ]
     },
     "metadata": {
      "application/vnd.databricks.v1+output": {
       "addedWidgets": {},
       "aggData": [],
       "aggError": "",
       "aggOverflow": false,
       "aggSchema": [],
       "aggSeriesLimitReached": false,
       "aggType": "",
       "arguments": {},
       "columnCustomDisplayInfos": {},
       "data": [
        [
         1,
         "A",
         1000
        ],
        [
         2,
         "B",
         400
        ],
        [
         3,
         "C",
         500
        ]
       ],
       "datasetInfos": [],
       "dbfsResultPath": null,
       "isJsonSchema": true,
       "metadata": {},
       "overflow": false,
       "plotOptions": {
        "customPlotOptions": {},
        "displayType": "table",
        "pivotAggregation": null,
        "pivotColumns": null,
        "xColumns": null,
        "yColumns": null
       },
       "removedWidgets": [],
       "schema": [
        {
         "metadata": "{}",
         "name": "pid",
         "type": "\"integer\""
        },
        {
         "metadata": "{}",
         "name": "pname",
         "type": "\"string\""
        },
        {
         "metadata": "{}",
         "name": "price",
         "type": "\"integer\""
        }
       ],
       "type": "table"
      }
     },
     "output_type": "display_data"
    },
    {
     "output_type": "stream",
     "name": "stdout",
     "output_type": "stream",
     "text": [
      "Transactions:\n"
     ]
    },
    {
     "output_type": "display_data",
     "data": {
      "text/html": [
       "<style scoped>\n",
       "  .table-result-container {\n",
       "    max-height: 300px;\n",
       "    overflow: auto;\n",
       "  }\n",
       "  table, th, td {\n",
       "    border: 1px solid black;\n",
       "    border-collapse: collapse;\n",
       "  }\n",
       "  th, td {\n",
       "    padding: 5px;\n",
       "  }\n",
       "  th {\n",
       "    text-align: left;\n",
       "  }\n",
       "</style><div class='table-result-container'><table class='table-result'><thead style='background-color: white'><tr><th>pid</th><th>sold_date</th><th>qty</th><th>amount</th></tr></thead><tbody><tr><td>1</td><td>2024-02-01</td><td>2</td><td>2000</td></tr><tr><td>1</td><td>2024-03-01</td><td>4</td><td>4000</td></tr><tr><td>1</td><td>2024-03-15</td><td>2</td><td>2000</td></tr><tr><td>3</td><td>2024-04-24</td><td>3</td><td>1500</td></tr><tr><td>3</td><td>2024-05-16</td><td>5</td><td>2500</td></tr></tbody></table></div>"
      ]
     },
     "metadata": {
      "application/vnd.databricks.v1+output": {
       "addedWidgets": {},
       "aggData": [],
       "aggError": "",
       "aggOverflow": false,
       "aggSchema": [],
       "aggSeriesLimitReached": false,
       "aggType": "",
       "arguments": {},
       "columnCustomDisplayInfos": {},
       "data": [
        [
         1,
         "2024-02-01",
         2,
         2000
        ],
        [
         1,
         "2024-03-01",
         4,
         4000
        ],
        [
         1,
         "2024-03-15",
         2,
         2000
        ],
        [
         3,
         "2024-04-24",
         3,
         1500
        ],
        [
         3,
         "2024-05-16",
         5,
         2500
        ]
       ],
       "datasetInfos": [],
       "dbfsResultPath": null,
       "isJsonSchema": true,
       "metadata": {},
       "overflow": false,
       "plotOptions": {
        "customPlotOptions": {},
        "displayType": "table",
        "pivotAggregation": null,
        "pivotColumns": null,
        "xColumns": null,
        "yColumns": null
       },
       "removedWidgets": [],
       "schema": [
        {
         "metadata": "{}",
         "name": "pid",
         "type": "\"integer\""
        },
        {
         "metadata": "{}",
         "name": "sold_date",
         "type": "\"date\""
        },
        {
         "metadata": "{}",
         "name": "qty",
         "type": "\"integer\""
        },
        {
         "metadata": "{}",
         "name": "amount",
         "type": "\"integer\""
        }
       ],
       "type": "table"
      }
     },
     "output_type": "display_data"
    },
    {
     "output_type": "display_data",
     "data": {
      "text/html": [
       "<style scoped>\n",
       "  .table-result-container {\n",
       "    max-height: 300px;\n",
       "    overflow: auto;\n",
       "  }\n",
       "  table, th, td {\n",
       "    border: 1px solid black;\n",
       "    border-collapse: collapse;\n",
       "  }\n",
       "  th, td {\n",
       "    padding: 5px;\n",
       "  }\n",
       "  th {\n",
       "    text-align: left;\n",
       "  }\n",
       "</style><div class='table-result-container'><table class='table-result'><thead style='background-color: white'><tr><th>pid</th><th>sold_date</th><th>qty</th><th>amount</th><th>pname</th><th>price</th></tr></thead><tbody><tr><td>1</td><td>2024-02-01</td><td>2</td><td>2000</td><td>A</td><td>1000</td></tr><tr><td>1</td><td>2024-03-01</td><td>4</td><td>4000</td><td>A</td><td>1000</td></tr><tr><td>1</td><td>2024-03-15</td><td>2</td><td>2000</td><td>A</td><td>1000</td></tr><tr><td>3</td><td>2024-04-24</td><td>3</td><td>1500</td><td>C</td><td>500</td></tr><tr><td>3</td><td>2024-05-16</td><td>5</td><td>2500</td><td>C</td><td>500</td></tr></tbody></table></div>"
      ]
     },
     "metadata": {
      "application/vnd.databricks.v1+output": {
       "addedWidgets": {},
       "aggData": [],
       "aggError": "",
       "aggOverflow": false,
       "aggSchema": [],
       "aggSeriesLimitReached": false,
       "aggType": "",
       "arguments": {},
       "columnCustomDisplayInfos": {},
       "data": [
        [
         1,
         "2024-02-01",
         2,
         2000,
         "A",
         1000
        ],
        [
         1,
         "2024-03-01",
         4,
         4000,
         "A",
         1000
        ],
        [
         1,
         "2024-03-15",
         2,
         2000,
         "A",
         1000
        ],
        [
         3,
         "2024-04-24",
         3,
         1500,
         "C",
         500
        ],
        [
         3,
         "2024-05-16",
         5,
         2500,
         "C",
         500
        ]
       ],
       "datasetInfos": [],
       "dbfsResultPath": null,
       "isJsonSchema": true,
       "metadata": {},
       "overflow": false,
       "plotOptions": {
        "customPlotOptions": {},
        "displayType": "table",
        "pivotAggregation": null,
        "pivotColumns": null,
        "xColumns": null,
        "yColumns": null
       },
       "removedWidgets": [],
       "schema": [
        {
         "metadata": "{}",
         "name": "pid",
         "type": "\"integer\""
        },
        {
         "metadata": "{}",
         "name": "sold_date",
         "type": "\"date\""
        },
        {
         "metadata": "{}",
         "name": "qty",
         "type": "\"integer\""
        },
        {
         "metadata": "{}",
         "name": "amount",
         "type": "\"integer\""
        },
        {
         "metadata": "{}",
         "name": "pname",
         "type": "\"string\""
        },
        {
         "metadata": "{}",
         "name": "price",
         "type": "\"integer\""
        }
       ],
       "type": "table"
      }
     },
     "output_type": "display_data"
    }
   ],
   "source": [
    "from pyspark.sql import SparkSession\n",
    "from pyspark.sql.types import StructType, StructField, IntegerType, StringType, DateType\n",
    "from datetime import datetime\n",
    "\n",
    "# Initialize Spark session\n",
    "spark = SparkSession.builder \\\n",
    "    .appName(\"ProductTransactions\") \\\n",
    "    .getOrCreate()\n",
    "\n",
    "# Define schema for products table\n",
    "products_schema = StructType([\n",
    "    StructField(\"pid\", IntegerType(), True),\n",
    "    StructField(\"pname\", StringType(), True),\n",
    "    StructField(\"price\", IntegerType(), True)\n",
    "])\n",
    "\n",
    "# Define schema for transactions table\n",
    "transactions_schema = StructType([\n",
    "    StructField(\"pid\", IntegerType(), True),\n",
    "    StructField(\"sold_date\", DateType(), True),\n",
    "    StructField(\"qty\", IntegerType(), True),\n",
    "    StructField(\"amount\", IntegerType(), True)\n",
    "])\n",
    "\n",
    "# Create DataFrame for products\n",
    "products_data = [\n",
    "    (1, 'A', 1000),\n",
    "    (2, 'B', 400),\n",
    "    (3, 'C', 500)\n",
    "]\n",
    "products_df = spark.createDataFrame(products_data, schema=products_schema)\n",
    "\n",
    "# Create DataFrame for transactions\n",
    "transactions_data = [\n",
    "    (1, datetime.strptime('2024-02-01', '%Y-%m-%d').date(), 2, 2000),\n",
    "    (1, datetime.strptime('2024-03-01', '%Y-%m-%d').date(), 4, 4000),\n",
    "    (1, datetime.strptime('2024-03-15', '%Y-%m-%d').date(), 2, 2000),\n",
    "    (3, datetime.strptime('2024-04-24', '%Y-%m-%d').date(), 3, 1500),\n",
    "    (3, datetime.strptime('2024-05-16', '%Y-%m-%d').date(), 5, 2500)\n",
    "]\n",
    "transactions_df = spark.createDataFrame(transactions_data, schema=transactions_schema)\n",
    "\n",
    "# Show the dataframes\n",
    "print(\"Products:\")\n",
    "products_df.display()\n",
    "\n",
    "print(\"Transactions:\")\n",
    "transactions_df.display()\n",
    "\n",
    "# Further processing or analysis can be done using Spark SQL or DataFrame operations\n",
    "# For example, joining products and transactions to calculate total sales per product\n",
    "joined_df = transactions_df.join(products_df, on='pid', how='inner')\n",
    "joined_df.display()\n"
   ]
  },
  {
   "cell_type": "code",
   "execution_count": 0,
   "metadata": {
    "application/vnd.databricks.v1+cell": {
     "cellMetadata": {
      "byteLimit": 2048000,
      "rowLimit": 10000
     },
     "inputWidgets": {},
     "nuid": "5251d946-73b8-4b40-a29a-22a5f650eba1",
     "showTitle": false,
     "title": ""
    }
   },
   "outputs": [
    {
     "output_type": "display_data",
     "data": {
      "text/html": [
       "<style scoped>\n",
       "  .table-result-container {\n",
       "    max-height: 300px;\n",
       "    overflow: auto;\n",
       "  }\n",
       "  table, th, td {\n",
       "    border: 1px solid black;\n",
       "    border-collapse: collapse;\n",
       "  }\n",
       "  th, td {\n",
       "    padding: 5px;\n",
       "  }\n",
       "  th {\n",
       "    text-align: left;\n",
       "  }\n",
       "</style><div class='table-result-container'><table class='table-result'><thead style='background-color: white'><tr><th>pid</th><th>pname</th><th>years</th><th>month</th><th>total_sales</th></tr></thead><tbody><tr><td>1</td><td>A</td><td>2024</td><td>1</td><td>0</td></tr><tr><td>1</td><td>A</td><td>2024</td><td>2</td><td>2000</td></tr><tr><td>1</td><td>A</td><td>2024</td><td>3</td><td>6000</td></tr><tr><td>1</td><td>A</td><td>2024</td><td>4</td><td>0</td></tr><tr><td>1</td><td>A</td><td>2024</td><td>5</td><td>0</td></tr><tr><td>1</td><td>A</td><td>2024</td><td>6</td><td>0</td></tr><tr><td>1</td><td>A</td><td>2024</td><td>7</td><td>0</td></tr><tr><td>1</td><td>A</td><td>2024</td><td>8</td><td>0</td></tr><tr><td>1</td><td>A</td><td>2024</td><td>9</td><td>0</td></tr><tr><td>1</td><td>A</td><td>2024</td><td>10</td><td>0</td></tr><tr><td>1</td><td>A</td><td>2024</td><td>11</td><td>0</td></tr><tr><td>1</td><td>A</td><td>2024</td><td>12</td><td>0</td></tr><tr><td>2</td><td>B</td><td>2024</td><td>1</td><td>0</td></tr><tr><td>2</td><td>B</td><td>2024</td><td>2</td><td>0</td></tr><tr><td>2</td><td>B</td><td>2024</td><td>3</td><td>0</td></tr><tr><td>2</td><td>B</td><td>2024</td><td>4</td><td>0</td></tr><tr><td>2</td><td>B</td><td>2024</td><td>5</td><td>0</td></tr><tr><td>2</td><td>B</td><td>2024</td><td>6</td><td>0</td></tr><tr><td>2</td><td>B</td><td>2024</td><td>7</td><td>0</td></tr><tr><td>2</td><td>B</td><td>2024</td><td>8</td><td>0</td></tr><tr><td>2</td><td>B</td><td>2024</td><td>9</td><td>0</td></tr><tr><td>2</td><td>B</td><td>2024</td><td>10</td><td>0</td></tr><tr><td>2</td><td>B</td><td>2024</td><td>11</td><td>0</td></tr><tr><td>2</td><td>B</td><td>2024</td><td>12</td><td>0</td></tr><tr><td>3</td><td>C</td><td>2024</td><td>1</td><td>0</td></tr><tr><td>3</td><td>C</td><td>2024</td><td>2</td><td>0</td></tr><tr><td>3</td><td>C</td><td>2024</td><td>3</td><td>0</td></tr><tr><td>3</td><td>C</td><td>2024</td><td>4</td><td>1500</td></tr><tr><td>3</td><td>C</td><td>2024</td><td>5</td><td>2500</td></tr><tr><td>3</td><td>C</td><td>2024</td><td>6</td><td>0</td></tr><tr><td>3</td><td>C</td><td>2024</td><td>7</td><td>0</td></tr><tr><td>3</td><td>C</td><td>2024</td><td>8</td><td>0</td></tr><tr><td>3</td><td>C</td><td>2024</td><td>9</td><td>0</td></tr><tr><td>3</td><td>C</td><td>2024</td><td>10</td><td>0</td></tr><tr><td>3</td><td>C</td><td>2024</td><td>11</td><td>0</td></tr><tr><td>3</td><td>C</td><td>2024</td><td>12</td><td>0</td></tr></tbody></table></div>"
      ]
     },
     "metadata": {
      "application/vnd.databricks.v1+output": {
       "addedWidgets": {},
       "aggData": [],
       "aggError": "",
       "aggOverflow": false,
       "aggSchema": [],
       "aggSeriesLimitReached": false,
       "aggType": "",
       "arguments": {},
       "columnCustomDisplayInfos": {},
       "data": [
        [
         1,
         "A",
         2024,
         1,
         0
        ],
        [
         1,
         "A",
         2024,
         2,
         2000
        ],
        [
         1,
         "A",
         2024,
         3,
         6000
        ],
        [
         1,
         "A",
         2024,
         4,
         0
        ],
        [
         1,
         "A",
         2024,
         5,
         0
        ],
        [
         1,
         "A",
         2024,
         6,
         0
        ],
        [
         1,
         "A",
         2024,
         7,
         0
        ],
        [
         1,
         "A",
         2024,
         8,
         0
        ],
        [
         1,
         "A",
         2024,
         9,
         0
        ],
        [
         1,
         "A",
         2024,
         10,
         0
        ],
        [
         1,
         "A",
         2024,
         11,
         0
        ],
        [
         1,
         "A",
         2024,
         12,
         0
        ],
        [
         2,
         "B",
         2024,
         1,
         0
        ],
        [
         2,
         "B",
         2024,
         2,
         0
        ],
        [
         2,
         "B",
         2024,
         3,
         0
        ],
        [
         2,
         "B",
         2024,
         4,
         0
        ],
        [
         2,
         "B",
         2024,
         5,
         0
        ],
        [
         2,
         "B",
         2024,
         6,
         0
        ],
        [
         2,
         "B",
         2024,
         7,
         0
        ],
        [
         2,
         "B",
         2024,
         8,
         0
        ],
        [
         2,
         "B",
         2024,
         9,
         0
        ],
        [
         2,
         "B",
         2024,
         10,
         0
        ],
        [
         2,
         "B",
         2024,
         11,
         0
        ],
        [
         2,
         "B",
         2024,
         12,
         0
        ],
        [
         3,
         "C",
         2024,
         1,
         0
        ],
        [
         3,
         "C",
         2024,
         2,
         0
        ],
        [
         3,
         "C",
         2024,
         3,
         0
        ],
        [
         3,
         "C",
         2024,
         4,
         1500
        ],
        [
         3,
         "C",
         2024,
         5,
         2500
        ],
        [
         3,
         "C",
         2024,
         6,
         0
        ],
        [
         3,
         "C",
         2024,
         7,
         0
        ],
        [
         3,
         "C",
         2024,
         8,
         0
        ],
        [
         3,
         "C",
         2024,
         9,
         0
        ],
        [
         3,
         "C",
         2024,
         10,
         0
        ],
        [
         3,
         "C",
         2024,
         11,
         0
        ],
        [
         3,
         "C",
         2024,
         12,
         0
        ]
       ],
       "datasetInfos": [],
       "dbfsResultPath": null,
       "isJsonSchema": true,
       "metadata": {},
       "overflow": false,
       "plotOptions": {
        "customPlotOptions": {},
        "displayType": "table",
        "pivotAggregation": null,
        "pivotColumns": null,
        "xColumns": null,
        "yColumns": null
       },
       "removedWidgets": [],
       "schema": [
        {
         "metadata": "{}",
         "name": "pid",
         "type": "\"integer\""
        },
        {
         "metadata": "{}",
         "name": "pname",
         "type": "\"string\""
        },
        {
         "metadata": "{}",
         "name": "years",
         "type": "\"integer\""
        },
        {
         "metadata": "{}",
         "name": "month",
         "type": "\"integer\""
        },
        {
         "metadata": "{}",
         "name": "total_sales",
         "type": "\"long\""
        }
       ],
       "type": "table"
      }
     },
     "output_type": "display_data"
    }
   ],
   "source": [
    "from pyspark.sql import functions as F\n",
    "\n",
    "# Assuming `products_df` and `transactions_df` are already created\n",
    "\n",
    "# Step 1: Create the base DataFrame with `pid`, `pname`, `years`, and `month` initialized to 1.\n",
    "initial_df = products_df.alias(\"p\").join(transactions_df.alias(\"t\"), F.col(\"p.pid\") == F.col(\"t.pid\"), 'left') \\\n",
    "    .select(F.col(\"p.pid\").alias(\"pid\"), F.col(\"p.pname\").alias(\"pname\"), \n",
    "            F.when(F.col(\"t.sold_date\").isNotNull(), F.year(\"t.sold_date\")).otherwise(2024).alias(\"years\"),\n",
    "            F.lit(1).alias(\"month\")).distinct()\n",
    "\n",
    "# Step 2: Create DataFrame for all months (1 to 12) using a loop.\n",
    "months_df = initial_df\n",
    "for i in range(2, 13):  # Loop from month 2 to 12\n",
    "    new_month_df = initial_df.withColumn(\"month\", F.lit(i))\n",
    "    months_df = months_df.union(new_month_df)\n",
    "\n",
    "# Step 3: Join with `transactions_df` again to calculate total_sales for each `pid`, `pname`, `years`, and `month`.\n",
    "final_df = months_df.alias(\"r\").join(transactions_df.alias(\"t\"), \n",
    "                                     (F.col(\"r.pid\") == F.col(\"t.pid\")) & \n",
    "                                     (F.month(\"t.sold_date\") == F.col(\"r.month\")), \n",
    "                                     'left')\n",
    "\n",
    "# Step 4: Perform group by to aggregate `total_sales`\n",
    "final_df = final_df.groupBy(\"r.pid\", \"r.pname\", \"r.years\", \"r.month\") \\\n",
    "    .agg(F.sum(\"t.amount\").alias(\"total_sales\"))\n",
    "\n",
    "# Step 5: Replace `NULL` values in `total_sales` with 0.\n",
    "final_df = final_df.withColumn(\"total_sales\", F.coalesce(F.col(\"total_sales\"), F.lit(0)))\n",
    "\n",
    "# Step 6: Order the final result.\n",
    "final_df = final_df.orderBy(\"r.pid\", \"r.pname\", \"r.years\", \"r.month\")\n",
    "\n",
    "# Display the final result\n",
    "final_df.display()\n",
    "\n"
   ]
  },
  {
   "cell_type": "code",
   "execution_count": 0,
   "metadata": {
    "application/vnd.databricks.v1+cell": {
     "cellMetadata": {
      "byteLimit": 2048000,
      "rowLimit": 10000
     },
     "inputWidgets": {},
     "nuid": "e24f94ab-e492-4ae0-bd40-6d90fc97dea7",
     "showTitle": false,
     "title": ""
    }
   },
   "outputs": [],
   "source": [
    "products_df.createOrReplaceTempView('products')\n",
    "transactions_df.createOrReplaceTempView('transactions')\n"
   ]
  },
  {
   "cell_type": "code",
   "execution_count": 0,
   "metadata": {
    "application/vnd.databricks.v1+cell": {
     "cellMetadata": {
      "byteLimit": 2048000,
      "implicitDf": true,
      "rowLimit": 10000
     },
     "inputWidgets": {},
     "nuid": "390ecb1d-d97e-47f6-8c35-ab9a50b36134",
     "showTitle": false,
     "title": ""
    }
   },
   "outputs": [
    {
     "output_type": "display_data",
     "data": {
      "text/html": [
       "<style scoped>\n",
       "  .table-result-container {\n",
       "    max-height: 300px;\n",
       "    overflow: auto;\n",
       "  }\n",
       "  table, th, td {\n",
       "    border: 1px solid black;\n",
       "    border-collapse: collapse;\n",
       "  }\n",
       "  th, td {\n",
       "    padding: 5px;\n",
       "  }\n",
       "  th {\n",
       "    text-align: left;\n",
       "  }\n",
       "</style><div class='table-result-container'><table class='table-result'><thead style='background-color: white'><tr><th>pid</th><th>pname</th><th>years</th><th>month</th><th>total_sales</th></tr></thead><tbody><tr><td>1</td><td>A</td><td>2024</td><td>1</td><td>0</td></tr><tr><td>1</td><td>A</td><td>2024</td><td>2</td><td>2000</td></tr><tr><td>1</td><td>A</td><td>2024</td><td>3</td><td>6000</td></tr><tr><td>1</td><td>A</td><td>2024</td><td>4</td><td>0</td></tr><tr><td>1</td><td>A</td><td>2024</td><td>5</td><td>0</td></tr><tr><td>1</td><td>A</td><td>2024</td><td>6</td><td>0</td></tr><tr><td>1</td><td>A</td><td>2024</td><td>7</td><td>0</td></tr><tr><td>1</td><td>A</td><td>2024</td><td>8</td><td>0</td></tr><tr><td>1</td><td>A</td><td>2024</td><td>9</td><td>0</td></tr><tr><td>1</td><td>A</td><td>2024</td><td>10</td><td>0</td></tr><tr><td>1</td><td>A</td><td>2024</td><td>11</td><td>0</td></tr><tr><td>1</td><td>A</td><td>2024</td><td>12</td><td>0</td></tr><tr><td>2</td><td>B</td><td>2024</td><td>1</td><td>0</td></tr><tr><td>2</td><td>B</td><td>2024</td><td>2</td><td>0</td></tr><tr><td>2</td><td>B</td><td>2024</td><td>3</td><td>0</td></tr><tr><td>2</td><td>B</td><td>2024</td><td>4</td><td>0</td></tr><tr><td>2</td><td>B</td><td>2024</td><td>5</td><td>0</td></tr><tr><td>2</td><td>B</td><td>2024</td><td>6</td><td>0</td></tr><tr><td>2</td><td>B</td><td>2024</td><td>7</td><td>0</td></tr><tr><td>2</td><td>B</td><td>2024</td><td>8</td><td>0</td></tr><tr><td>2</td><td>B</td><td>2024</td><td>9</td><td>0</td></tr><tr><td>2</td><td>B</td><td>2024</td><td>10</td><td>0</td></tr><tr><td>2</td><td>B</td><td>2024</td><td>11</td><td>0</td></tr><tr><td>2</td><td>B</td><td>2024</td><td>12</td><td>0</td></tr><tr><td>3</td><td>C</td><td>2024</td><td>1</td><td>0</td></tr><tr><td>3</td><td>C</td><td>2024</td><td>2</td><td>0</td></tr><tr><td>3</td><td>C</td><td>2024</td><td>3</td><td>0</td></tr><tr><td>3</td><td>C</td><td>2024</td><td>4</td><td>1500</td></tr><tr><td>3</td><td>C</td><td>2024</td><td>5</td><td>2500</td></tr><tr><td>3</td><td>C</td><td>2024</td><td>6</td><td>0</td></tr><tr><td>3</td><td>C</td><td>2024</td><td>7</td><td>0</td></tr><tr><td>3</td><td>C</td><td>2024</td><td>8</td><td>0</td></tr><tr><td>3</td><td>C</td><td>2024</td><td>9</td><td>0</td></tr><tr><td>3</td><td>C</td><td>2024</td><td>10</td><td>0</td></tr><tr><td>3</td><td>C</td><td>2024</td><td>11</td><td>0</td></tr><tr><td>3</td><td>C</td><td>2024</td><td>12</td><td>0</td></tr></tbody></table></div>"
      ]
     },
     "metadata": {
      "application/vnd.databricks.v1+output": {
       "addedWidgets": {},
       "aggData": [],
       "aggError": "",
       "aggOverflow": false,
       "aggSchema": [],
       "aggSeriesLimitReached": false,
       "aggType": "",
       "arguments": {},
       "columnCustomDisplayInfos": {},
       "data": [
        [
         1,
         "A",
         2024,
         1,
         0
        ],
        [
         1,
         "A",
         2024,
         2,
         2000
        ],
        [
         1,
         "A",
         2024,
         3,
         6000
        ],
        [
         1,
         "A",
         2024,
         4,
         0
        ],
        [
         1,
         "A",
         2024,
         5,
         0
        ],
        [
         1,
         "A",
         2024,
         6,
         0
        ],
        [
         1,
         "A",
         2024,
         7,
         0
        ],
        [
         1,
         "A",
         2024,
         8,
         0
        ],
        [
         1,
         "A",
         2024,
         9,
         0
        ],
        [
         1,
         "A",
         2024,
         10,
         0
        ],
        [
         1,
         "A",
         2024,
         11,
         0
        ],
        [
         1,
         "A",
         2024,
         12,
         0
        ],
        [
         2,
         "B",
         2024,
         1,
         0
        ],
        [
         2,
         "B",
         2024,
         2,
         0
        ],
        [
         2,
         "B",
         2024,
         3,
         0
        ],
        [
         2,
         "B",
         2024,
         4,
         0
        ],
        [
         2,
         "B",
         2024,
         5,
         0
        ],
        [
         2,
         "B",
         2024,
         6,
         0
        ],
        [
         2,
         "B",
         2024,
         7,
         0
        ],
        [
         2,
         "B",
         2024,
         8,
         0
        ],
        [
         2,
         "B",
         2024,
         9,
         0
        ],
        [
         2,
         "B",
         2024,
         10,
         0
        ],
        [
         2,
         "B",
         2024,
         11,
         0
        ],
        [
         2,
         "B",
         2024,
         12,
         0
        ],
        [
         3,
         "C",
         2024,
         1,
         0
        ],
        [
         3,
         "C",
         2024,
         2,
         0
        ],
        [
         3,
         "C",
         2024,
         3,
         0
        ],
        [
         3,
         "C",
         2024,
         4,
         1500
        ],
        [
         3,
         "C",
         2024,
         5,
         2500
        ],
        [
         3,
         "C",
         2024,
         6,
         0
        ],
        [
         3,
         "C",
         2024,
         7,
         0
        ],
        [
         3,
         "C",
         2024,
         8,
         0
        ],
        [
         3,
         "C",
         2024,
         9,
         0
        ],
        [
         3,
         "C",
         2024,
         10,
         0
        ],
        [
         3,
         "C",
         2024,
         11,
         0
        ],
        [
         3,
         "C",
         2024,
         12,
         0
        ]
       ],
       "datasetInfos": [],
       "dbfsResultPath": null,
       "isJsonSchema": true,
       "metadata": {},
       "overflow": false,
       "plotOptions": {
        "customPlotOptions": {},
        "displayType": "table",
        "pivotAggregation": null,
        "pivotColumns": null,
        "xColumns": null,
        "yColumns": null
       },
       "removedWidgets": [],
       "schema": [
        {
         "metadata": "{}",
         "name": "pid",
         "type": "\"integer\""
        },
        {
         "metadata": "{}",
         "name": "pname",
         "type": "\"string\""
        },
        {
         "metadata": "{}",
         "name": "years",
         "type": "\"integer\""
        },
        {
         "metadata": "{}",
         "name": "month",
         "type": "\"integer\""
        },
        {
         "metadata": "{}",
         "name": "total_sales",
         "type": "\"long\""
        }
       ],
       "type": "table"
      }
     },
     "output_type": "display_data"
    }
   ],
   "source": [
    "%sql\n",
    "WITH initial_data AS (\n",
    "    -- Step 1: Create the base DataFrame with `pid`, `pname`, `years`, and `month` initialized to 1.\n",
    "    SELECT \n",
    "        p.pid, \n",
    "        p.pname, \n",
    "        COALESCE(YEAR(t.sold_date), 2024) AS years,\n",
    "        1 AS month\n",
    "    FROM products p\n",
    "    LEFT JOIN transactions t ON p.pid = t.pid\n",
    "    GROUP BY p.pid, p.pname, COALESCE(YEAR(t.sold_date), 2024)\n",
    "),\n",
    "\n",
    "-- Step 2: Create DataFrame for all months (1 to 12)\n",
    "all_months_data AS (\n",
    "    SELECT pid, pname, years, 1 AS month FROM initial_data\n",
    "    UNION ALL SELECT pid, pname, years, 2 AS month FROM initial_data\n",
    "    UNION ALL SELECT pid, pname, years, 3 AS month FROM initial_data\n",
    "    UNION ALL SELECT pid, pname, years, 4 AS month FROM initial_data\n",
    "    UNION ALL SELECT pid, pname, years, 5 AS month FROM initial_data\n",
    "    UNION ALL SELECT pid, pname, years, 6 AS month FROM initial_data\n",
    "    UNION ALL SELECT pid, pname, years, 7 AS month FROM initial_data\n",
    "    UNION ALL SELECT pid, pname, years, 8 AS month FROM initial_data\n",
    "    UNION ALL SELECT pid, pname, years, 9 AS month FROM initial_data\n",
    "    UNION ALL SELECT pid, pname, years, 10 AS month FROM initial_data\n",
    "    UNION ALL SELECT pid, pname, years, 11 AS month FROM initial_data\n",
    "    UNION ALL SELECT pid, pname, years, 12 AS month FROM initial_data\n",
    "),\n",
    "\n",
    "-- Step 3: Join with `transactions` again to calculate total_sales\n",
    "joined_data AS (\n",
    "    SELECT \n",
    "        am.pid,\n",
    "        am.pname,\n",
    "        am.years,\n",
    "        am.month,\n",
    "        SUM(t.amount) AS total_sales\n",
    "    FROM all_months_data am\n",
    "    LEFT JOIN transactions t \n",
    "        ON am.pid = t.pid \n",
    "        AND MONTH(t.sold_date) = am.month\n",
    "        AND YEAR(t.sold_date) = am.years\n",
    "    GROUP BY am.pid, am.pname, am.years, am.month\n",
    ")\n",
    "\n",
    "-- Step 4: Replace NULL values in `total_sales` with 0 and order the result\n",
    "SELECT \n",
    "    pid, \n",
    "    pname, \n",
    "    years, \n",
    "    month, \n",
    "    COALESCE(total_sales, 0) AS total_sales\n",
    "FROM joined_data\n",
    "ORDER BY pid, pname, years, month;\n"
   ]
  },
  {
   "cell_type": "markdown",
   "metadata": {
    "application/vnd.databricks.v1+cell": {
     "cellMetadata": {},
     "inputWidgets": {},
     "nuid": "4115d843-9289-46b6-b9c6-5b3ecb221254",
     "showTitle": false,
     "title": ""
    }
   },
   "source": [
    "Explanation:\n",
    "\n",
    "1. Initial DataFrame (initial_df): This corresponds to the first part of the recursive CTE, where we select distinct products and set the initial month to \n",
    "\n",
    "2. Manual Recursion (Loop): Instead of using recursion (which PySpark doesn't support), we generate the next months (2 to 12) by looping and unioning the DataFrame for each month.\n",
    "\n",
    "3. Join and Aggregation: We use a left join to match each product's month with transaction data and aggregate the amount column to calculate total_sales.\n",
    "Handling NULL Values: The coalesce() function replaces NULL values in total_sales with 0.\n",
    "\n",
    "4. Ordering: The result is ordered by pid, pname, years, and month, mimicking the final ORDER BY in the SQL query."
   ]
  }
 ],
 "metadata": {
  "application/vnd.databricks.v1+notebook": {
   "dashboards": [],
   "environmentMetadata": null,
   "language": "python",
   "notebookMetadata": {
    "mostRecentlyExecutedCommandWithImplicitDF": {
     "commandId": 1879144105777284,
     "dataframes": [
      "_sqldf"
     ]
    },
    "pythonIndentUnit": 4
   },
   "notebookName": "TCS SQL Interview Question",
   "widgets": {}
  }
 },
 "nbformat": 4,
 "nbformat_minor": 0
}
