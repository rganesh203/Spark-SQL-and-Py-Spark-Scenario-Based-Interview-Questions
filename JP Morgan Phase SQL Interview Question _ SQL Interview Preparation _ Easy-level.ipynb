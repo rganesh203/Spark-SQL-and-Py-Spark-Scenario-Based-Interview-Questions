{
 "cells": [
  {
   "cell_type": "markdown",
   "metadata": {
    "application/vnd.databricks.v1+cell": {
     "cellMetadata": {},
     "inputWidgets": {},
     "nuid": "76eb5673-d756-4603-8e10-47eb3341e42e",
     "showTitle": false,
     "tableResultSettingsMap": {},
     "title": ""
    }
   },
   "source": [
    "Problem Statement:\n",
    "    \n",
    "You are tasked with analyzing credit card issuance data to identify the range of issued amounts for each card. Specifically, calculate the difference between the maximum and minimum issuance amounts (issued_amount) for each credit card (card_name). This analysis should group data by the card name and compute the range using SQL-like operations in Spark SQL."
   ]
  },
  {
   "cell_type": "code",
   "execution_count": 0,
   "metadata": {
    "application/vnd.databricks.v1+cell": {
     "cellMetadata": {
      "byteLimit": 2048000,
      "rowLimit": 10000
     },
     "inputWidgets": {},
     "nuid": "f05fb1f1-3c1f-4d88-b561-e1298c041813",
     "showTitle": false,
     "tableResultSettingsMap": {},
     "title": ""
    }
   },
   "outputs": [
    {
     "output_type": "display_data",
     "data": {
      "text/html": [
       "<style scoped>\n",
       "  .table-result-container {\n",
       "    max-height: 300px;\n",
       "    overflow: auto;\n",
       "  }\n",
       "  table, th, td {\n",
       "    border: 1px solid black;\n",
       "    border-collapse: collapse;\n",
       "  }\n",
       "  th, td {\n",
       "    padding: 5px;\n",
       "  }\n",
       "  th {\n",
       "    text-align: left;\n",
       "  }\n",
       "</style><div class='table-result-container'><table class='table-result'><thead style='background-color: white'><tr><th>card_name</th><th>issued_amount</th><th>issue_month</th><th>issue_year</th></tr></thead><tbody><tr><td>Chase Freedom Flex</td><td>55000</td><td>1</td><td>2021</td></tr><tr><td>Chase Freedom Flex</td><td>60000</td><td>2</td><td>2021</td></tr><tr><td>Chase Freedom Flex</td><td>65000</td><td>3</td><td>2021</td></tr><tr><td>Chase Freedom Flex</td><td>70000</td><td>4</td><td>2021</td></tr><tr><td>Chase Sapphire Reserve</td><td>170000</td><td>1</td><td>2021</td></tr><tr><td>Chase Sapphire Reserve</td><td>175000</td><td>2</td><td>2021</td></tr><tr><td>Chase Sapphire Reserve</td><td>180000</td><td>3</td><td>2021</td></tr><tr><td>Chase Sapphire Reserve</td><td>185000</td><td>4</td><td>2021</td></tr></tbody></table></div>"
      ]
     },
     "metadata": {
      "application/vnd.databricks.v1+output": {
       "addedWidgets": {},
       "aggData": [],
       "aggError": "",
       "aggOverflow": false,
       "aggSchema": [],
       "aggSeriesLimitReached": false,
       "aggType": "",
       "arguments": {},
       "columnCustomDisplayInfos": {},
       "data": [
        [
         "Chase Freedom Flex",
         55000,
         1,
         2021
        ],
        [
         "Chase Freedom Flex",
         60000,
         2,
         2021
        ],
        [
         "Chase Freedom Flex",
         65000,
         3,
         2021
        ],
        [
         "Chase Freedom Flex",
         70000,
         4,
         2021
        ],
        [
         "Chase Sapphire Reserve",
         170000,
         1,
         2021
        ],
        [
         "Chase Sapphire Reserve",
         175000,
         2,
         2021
        ],
        [
         "Chase Sapphire Reserve",
         180000,
         3,
         2021
        ],
        [
         "Chase Sapphire Reserve",
         185000,
         4,
         2021
        ]
       ],
       "datasetInfos": [],
       "dbfsResultPath": null,
       "isJsonSchema": true,
       "metadata": {},
       "overflow": false,
       "plotOptions": {
        "customPlotOptions": {},
        "displayType": "table",
        "pivotAggregation": null,
        "pivotColumns": null,
        "xColumns": null,
        "yColumns": null
       },
       "removedWidgets": [],
       "schema": [
        {
         "metadata": "{}",
         "name": "card_name",
         "type": "\"string\""
        },
        {
         "metadata": "{}",
         "name": "issued_amount",
         "type": "\"integer\""
        },
        {
         "metadata": "{}",
         "name": "issue_month",
         "type": "\"integer\""
        },
        {
         "metadata": "{}",
         "name": "issue_year",
         "type": "\"integer\""
        }
       ],
       "type": "table"
      }
     },
     "output_type": "display_data"
    }
   ],
   "source": [
    "from pyspark.sql.types import *\n",
    "\n",
    "# Define schema\n",
    "schema = StructType([\n",
    "    StructField(\"card_name\", StringType(), nullable=False),\n",
    "    StructField(\"issued_amount\", IntegerType(), nullable=False),\n",
    "    StructField(\"issue_month\", IntegerType(), nullable=False),\n",
    "    StructField(\"issue_year\", IntegerType(), nullable=False)\n",
    "])\n",
    "\n",
    "# Create data\n",
    "data = [\n",
    "    (\"Chase Freedom Flex\", 55000, 1, 2021),\n",
    "    (\"Chase Freedom Flex\", 60000, 2, 2021),\n",
    "    (\"Chase Freedom Flex\", 65000, 3, 2021),\n",
    "    (\"Chase Freedom Flex\", 70000, 4, 2021),\n",
    "    (\"Chase Sapphire Reserve\", 170000, 1, 2021),\n",
    "    (\"Chase Sapphire Reserve\", 175000, 2, 2021),\n",
    "    (\"Chase Sapphire Reserve\", 180000, 3, 2021),\n",
    "    (\"Chase Sapphire Reserve\", 185000, 4, 2021)\n",
    "]\n",
    "\n",
    "# Create DataFrame\n",
    "df = spark.createDataFrame(data, schema=schema)\n",
    "\n",
    "# display the DataFrame\n",
    "df.display()\n"
   ]
  },
  {
   "cell_type": "code",
   "execution_count": 0,
   "metadata": {
    "application/vnd.databricks.v1+cell": {
     "cellMetadata": {
      "byteLimit": 2048000,
      "rowLimit": 10000
     },
     "inputWidgets": {},
     "nuid": "7364689c-9ba6-476c-8bd7-fb23b7a26faa",
     "showTitle": false,
     "tableResultSettingsMap": {},
     "title": ""
    }
   },
   "outputs": [
    {
     "output_type": "display_data",
     "data": {
      "text/html": [
       "<style scoped>\n",
       "  .table-result-container {\n",
       "    max-height: 300px;\n",
       "    overflow: auto;\n",
       "  }\n",
       "  table, th, td {\n",
       "    border: 1px solid black;\n",
       "    border-collapse: collapse;\n",
       "  }\n",
       "  th, td {\n",
       "    padding: 5px;\n",
       "  }\n",
       "  th {\n",
       "    text-align: left;\n",
       "  }\n",
       "</style><div class='table-result-container'><table class='table-result'><thead style='background-color: white'><tr><th>card_name</th><th>difference</th></tr></thead><tbody><tr><td>Chase Freedom Flex</td><td>15000</td></tr><tr><td>Chase Sapphire Reserve</td><td>15000</td></tr></tbody></table></div>"
      ]
     },
     "metadata": {
      "application/vnd.databricks.v1+output": {
       "addedWidgets": {},
       "aggData": [],
       "aggError": "",
       "aggOverflow": false,
       "aggSchema": [],
       "aggSeriesLimitReached": false,
       "aggType": "",
       "arguments": {},
       "columnCustomDisplayInfos": {},
       "data": [
        [
         "Chase Freedom Flex",
         15000
        ],
        [
         "Chase Sapphire Reserve",
         15000
        ]
       ],
       "datasetInfos": [],
       "dbfsResultPath": null,
       "isJsonSchema": true,
       "metadata": {},
       "overflow": false,
       "plotOptions": {
        "customPlotOptions": {},
        "displayType": "table",
        "pivotAggregation": null,
        "pivotColumns": null,
        "xColumns": null,
        "yColumns": null
       },
       "removedWidgets": [],
       "schema": [
        {
         "metadata": "{}",
         "name": "card_name",
         "type": "\"string\""
        },
        {
         "metadata": "{}",
         "name": "difference",
         "type": "\"integer\""
        }
       ],
       "type": "table"
      }
     },
     "output_type": "display_data"
    }
   ],
   "source": [
    "from pyspark.sql import functions as F\n",
    "\n",
    "# Calculate max and min issued_amount for each card_name\n",
    "cte1 = df.groupBy(\"card_name\").agg(\n",
    "        F.max(\"issued_amount\").alias(\"max\"),\n",
    "        F.min(\"issued_amount\").alias(\"min\")\n",
    "    )\n",
    "\n",
    "# Calculate the difference\n",
    "result = cte1.withColumn(\"difference\", cte1[\"max\"] - cte1[\"min\"])\n",
    "\n",
    "# Show the result\n",
    "result.select(\"card_name\", \"difference\").display()\n"
   ]
  },
  {
   "cell_type": "code",
   "execution_count": 0,
   "metadata": {
    "application/vnd.databricks.v1+cell": {
     "cellMetadata": {
      "byteLimit": 2048000,
      "rowLimit": 10000
     },
     "inputWidgets": {},
     "nuid": "a2e7973d-0ff8-4da2-a7c3-00f7b835b5bd",
     "showTitle": false,
     "tableResultSettingsMap": {},
     "title": ""
    }
   },
   "outputs": [],
   "source": [
    "# Register DataFrame as a temporary view\n",
    "df.createOrReplaceTempView(\"credit_card_issuance\")"
   ]
  },
  {
   "cell_type": "code",
   "execution_count": 0,
   "metadata": {
    "application/vnd.databricks.v1+cell": {
     "cellMetadata": {
      "byteLimit": 2048000,
      "rowLimit": 10000
     },
     "inputWidgets": {},
     "nuid": "1be1e5e7-e6c6-4c40-a693-f04ad0cab5ce",
     "showTitle": false,
     "tableResultSettingsMap": {},
     "title": ""
    }
   },
   "outputs": [
    {
     "output_type": "display_data",
     "data": {
      "text/html": [
       "<style scoped>\n",
       "  .table-result-container {\n",
       "    max-height: 300px;\n",
       "    overflow: auto;\n",
       "  }\n",
       "  table, th, td {\n",
       "    border: 1px solid black;\n",
       "    border-collapse: collapse;\n",
       "  }\n",
       "  th, td {\n",
       "    padding: 5px;\n",
       "  }\n",
       "  th {\n",
       "    text-align: left;\n",
       "  }\n",
       "</style><div class='table-result-container'><table class='table-result'><thead style='background-color: white'><tr><th>card_name</th><th>difference</th></tr></thead><tbody><tr><td>Chase Freedom Flex</td><td>15000</td></tr><tr><td>Chase Sapphire Reserve</td><td>15000</td></tr></tbody></table></div>"
      ]
     },
     "metadata": {
      "application/vnd.databricks.v1+output": {
       "addedWidgets": {},
       "aggData": [],
       "aggError": "",
       "aggOverflow": false,
       "aggSchema": [],
       "aggSeriesLimitReached": false,
       "aggType": "",
       "arguments": {},
       "columnCustomDisplayInfos": {},
       "data": [
        [
         "Chase Freedom Flex",
         15000
        ],
        [
         "Chase Sapphire Reserve",
         15000
        ]
       ],
       "datasetInfos": [],
       "dbfsResultPath": null,
       "isJsonSchema": true,
       "metadata": {},
       "overflow": false,
       "plotOptions": {
        "customPlotOptions": {},
        "displayType": "table",
        "pivotAggregation": null,
        "pivotColumns": null,
        "xColumns": null,
        "yColumns": null
       },
       "removedWidgets": [],
       "schema": [
        {
         "metadata": "{}",
         "name": "card_name",
         "type": "\"string\""
        },
        {
         "metadata": "{}",
         "name": "difference",
         "type": "\"integer\""
        }
       ],
       "type": "table"
      }
     },
     "output_type": "display_data"
    }
   ],
   "source": [
    "\n",
    "# Use SQL query\n",
    "result_sql = spark.sql(\"\"\"\n",
    "    WITH cte1 AS (\n",
    "        SELECT card_name, MAX(issued_amount) AS max, MIN(issued_amount) AS min\n",
    "        FROM credit_card_issuance\n",
    "        GROUP BY card_name\n",
    "    )\n",
    "    SELECT card_name, (max - min) AS difference\n",
    "    FROM cte1\n",
    "\"\"\")\n",
    "\n",
    "# Show the result\n",
    "result_sql.display()\n"
   ]
  },
  {
   "cell_type": "markdown",
   "metadata": {
    "application/vnd.databricks.v1+cell": {
     "cellMetadata": {},
     "inputWidgets": {},
     "nuid": "8f4eff7e-3d42-436d-8fdd-e370e1e48d3a",
     "showTitle": false,
     "tableResultSettingsMap": {},
     "title": ""
    }
   },
   "source": [
    "Explanation:\n",
    "\n",
    "CTE (cte1):\n",
    "\n",
    "Computes the maximum and minimum issued_amount for each card_name.\n",
    "\n",
    "Final Query:\n",
    "\n",
    "Calculates the difference (max - min) for each card_name and retrieves it"
   ]
  }
 ],
 "metadata": {
  "application/vnd.databricks.v1+notebook": {
   "dashboards": [],
   "environmentMetadata": null,
   "language": "python",
   "notebookMetadata": {
    "pythonIndentUnit": 4
   },
   "notebookName": "JP Morgan Phase SQL Interview Question | SQL Interview Preparation | Easy-level",
   "widgets": {}
  }
 },
 "nbformat": 4,
 "nbformat_minor": 0
}
