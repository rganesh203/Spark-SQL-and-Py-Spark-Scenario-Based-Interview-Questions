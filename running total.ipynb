{
 "cells": [
  {
   "cell_type": "code",
   "execution_count": 0,
   "metadata": {
    "application/vnd.databricks.v1+cell": {
     "cellMetadata": {
      "byteLimit": 2048000,
      "rowLimit": 10000
     },
     "inputWidgets": {},
     "nuid": "9dc5e24d-df36-4c67-b88d-6024ccc06e99",
     "showTitle": false,
     "tableResultSettingsMap": {},
     "title": ""
    }
   },
   "outputs": [
    {
     "output_type": "display_data",
     "data": {
      "text/html": [
       "<style scoped>\n",
       "  .table-result-container {\n",
       "    max-height: 300px;\n",
       "    overflow: auto;\n",
       "  }\n",
       "  table, th, td {\n",
       "    border: 1px solid black;\n",
       "    border-collapse: collapse;\n",
       "  }\n",
       "  th, td {\n",
       "    padding: 5px;\n",
       "  }\n",
       "  th {\n",
       "    text-align: left;\n",
       "  }\n",
       "</style><div class='table-result-container'><table class='table-result'><thead style='background-color: white'><tr><th>date</th><th>sales</th><th>cumulative_sum</th></tr></thead><tbody><tr><td>2024-01-01</td><td>20000</td><td>20000</td></tr><tr><td>2024-01-02</td><td>10000</td><td>30000</td></tr><tr><td>2024-01-03</td><td>150000</td><td>180000</td></tr><tr><td>2024-01-04</td><td>100000</td><td>280000</td></tr><tr><td>2024-01-05</td><td>210000</td><td>490000</td></tr></tbody></table></div>"
      ]
     },
     "metadata": {
      "application/vnd.databricks.v1+output": {
       "addedWidgets": {},
       "aggData": [],
       "aggError": "",
       "aggOverflow": false,
       "aggSchema": [],
       "aggSeriesLimitReached": false,
       "aggType": "",
       "arguments": {},
       "columnCustomDisplayInfos": {},
       "data": [
        [
         "2024-01-01",
         20000,
         20000
        ],
        [
         "2024-01-02",
         10000,
         30000
        ],
        [
         "2024-01-03",
         150000,
         180000
        ],
        [
         "2024-01-04",
         100000,
         280000
        ],
        [
         "2024-01-05",
         210000,
         490000
        ]
       ],
       "datasetInfos": [],
       "dbfsResultPath": null,
       "isJsonSchema": true,
       "metadata": {},
       "overflow": false,
       "plotOptions": {
        "customPlotOptions": {},
        "displayType": "table",
        "pivotAggregation": null,
        "pivotColumns": null,
        "xColumns": null,
        "yColumns": null
       },
       "removedWidgets": [],
       "schema": [
        {
         "metadata": "{}",
         "name": "date",
         "type": "\"string\""
        },
        {
         "metadata": "{}",
         "name": "sales",
         "type": "\"long\""
        },
        {
         "metadata": "{}",
         "name": "cumulative_sum",
         "type": "\"long\""
        }
       ],
       "type": "table"
      }
     },
     "output_type": "display_data"
    }
   ],
   "source": [
    "from pyspark.sql.functions import col, sum as spark_sum\n",
    "from pyspark.sql.window import Window\n",
    "\n",
    "# Define data and columns\n",
    "data = [\n",
    "    ['2024-01-01', 20000],\n",
    "    ['2024-01-02', 10000],\n",
    "    ['2024-01-03', 150000],\n",
    "    ['2024-01-04', 100000],\n",
    "    ['2024-01-05', 210000]\n",
    "]\n",
    "columns = ['date', 'sales']\n",
    "\n",
    "# Create a DataFrame\n",
    "df = spark.createDataFrame(data, columns)\n",
    "\n",
    "# Calculate cumulative sum\n",
    "df_with_cumsum = df.withColumn(\n",
    "    \"cumulative_sum\",\n",
    "    spark_sum(col(\"sales\")).over(Window.orderBy(\"date\"))\n",
    ")\n",
    "\n",
    "# Show the result\n",
    "df_with_cumsum.display()\n"
   ]
  }
 ],
 "metadata": {
  "application/vnd.databricks.v1+notebook": {
   "dashboards": [],
   "environmentMetadata": null,
   "language": "python",
   "notebookMetadata": {
    "pythonIndentUnit": 4
   },
   "notebookName": "running total",
   "widgets": {}
  }
 },
 "nbformat": 4,
 "nbformat_minor": 0
}
