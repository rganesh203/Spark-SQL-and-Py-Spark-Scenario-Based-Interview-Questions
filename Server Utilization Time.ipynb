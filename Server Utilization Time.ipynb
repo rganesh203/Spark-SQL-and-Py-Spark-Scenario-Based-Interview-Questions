{
 "cells": [
  {
   "cell_type": "markdown",
   "metadata": {
    "application/vnd.databricks.v1+cell": {
     "cellMetadata": {},
     "inputWidgets": {},
     "nuid": "fd3155c7-8977-460d-ba0c-199ec57c972b",
     "showTitle": false,
     "title": ""
    }
   },
   "source": [
    "Problem Statement:\n",
    "\n",
    "Amazon Web Services (AWS) is powered by fleets of servers. Senior management has requested data-driven solutions to optimize server usage.\n",
    "\n",
    "Write a query that calculates the total time that the fleet of servers was running. The output should be in units of full days.\n",
    "\n",
    "Assumptions:\n",
    "\n",
    "Each server might start and stop several times.\n",
    "The total time in which the server fleet is running can be calculated as the sum of each server's uptime."
   ]
  },
  {
   "cell_type": "code",
   "execution_count": 0,
   "metadata": {
    "application/vnd.databricks.v1+cell": {
     "cellMetadata": {
      "byteLimit": 2048000,
      "rowLimit": 10000
     },
     "inputWidgets": {},
     "nuid": "1ec20ecc-8716-45de-9d37-4aca1447f445",
     "showTitle": false,
     "title": ""
    }
   },
   "outputs": [
    {
     "output_type": "display_data",
     "data": {
      "text/html": [
       "<style scoped>\n",
       "  .table-result-container {\n",
       "    max-height: 300px;\n",
       "    overflow: auto;\n",
       "  }\n",
       "  table, th, td {\n",
       "    border: 1px solid black;\n",
       "    border-collapse: collapse;\n",
       "  }\n",
       "  th, td {\n",
       "    padding: 5px;\n",
       "  }\n",
       "  th {\n",
       "    text-align: left;\n",
       "  }\n",
       "</style><div class='table-result-container'><table class='table-result'><thead style='background-color: white'><tr><th>server_id</th><th>session_status</th><th>status_time</th></tr></thead><tbody><tr><td>1</td><td>start</td><td>2022-08-02T10:00:00.000+0000</td></tr><tr><td>1</td><td>stop</td><td>2022-08-04T10:00:00.000+0000</td></tr><tr><td>1</td><td>start</td><td>2022-08-13T10:00:00.000+0000</td></tr><tr><td>1</td><td>stop</td><td>2022-08-13T19:00:00.000+0000</td></tr><tr><td>2</td><td>start</td><td>2022-08-17T10:00:00.000+0000</td></tr><tr><td>2</td><td>stop</td><td>2022-08-24T10:00:00.000+0000</td></tr><tr><td>3</td><td>start</td><td>2022-08-06T10:00:00.000+0000</td></tr><tr><td>3</td><td>stop</td><td>2022-08-14T10:00:00.000+0000</td></tr><tr><td>3</td><td>start</td><td>2022-08-18T10:00:00.000+0000</td></tr><tr><td>3</td><td>stop</td><td>2022-08-19T10:00:00.000+0000</td></tr><tr><td>4</td><td>start</td><td>2022-08-16T10:00:00.000+0000</td></tr><tr><td>4</td><td>stop</td><td>2022-08-19T14:00:00.000+0000</td></tr><tr><td>5</td><td>start</td><td>2022-08-14T21:00:00.000+0000</td></tr><tr><td>5</td><td>stop</td><td>2022-08-19T10:00:00.000+0000</td></tr></tbody></table></div>"
      ]
     },
     "metadata": {
      "application/vnd.databricks.v1+output": {
       "addedWidgets": {},
       "aggData": [],
       "aggError": "",
       "aggOverflow": false,
       "aggSchema": [],
       "aggSeriesLimitReached": false,
       "aggType": "",
       "arguments": {},
       "columnCustomDisplayInfos": {},
       "data": [
        [
         1,
         "start",
         "2022-08-02T10:00:00.000+0000"
        ],
        [
         1,
         "stop",
         "2022-08-04T10:00:00.000+0000"
        ],
        [
         1,
         "start",
         "2022-08-13T10:00:00.000+0000"
        ],
        [
         1,
         "stop",
         "2022-08-13T19:00:00.000+0000"
        ],
        [
         2,
         "start",
         "2022-08-17T10:00:00.000+0000"
        ],
        [
         2,
         "stop",
         "2022-08-24T10:00:00.000+0000"
        ],
        [
         3,
         "start",
         "2022-08-06T10:00:00.000+0000"
        ],
        [
         3,
         "stop",
         "2022-08-14T10:00:00.000+0000"
        ],
        [
         3,
         "start",
         "2022-08-18T10:00:00.000+0000"
        ],
        [
         3,
         "stop",
         "2022-08-19T10:00:00.000+0000"
        ],
        [
         4,
         "start",
         "2022-08-16T10:00:00.000+0000"
        ],
        [
         4,
         "stop",
         "2022-08-19T14:00:00.000+0000"
        ],
        [
         5,
         "start",
         "2022-08-14T21:00:00.000+0000"
        ],
        [
         5,
         "stop",
         "2022-08-19T10:00:00.000+0000"
        ]
       ],
       "datasetInfos": [],
       "dbfsResultPath": null,
       "isJsonSchema": true,
       "metadata": {},
       "overflow": false,
       "plotOptions": {
        "customPlotOptions": {},
        "displayType": "table",
        "pivotAggregation": null,
        "pivotColumns": null,
        "xColumns": null,
        "yColumns": null
       },
       "removedWidgets": [],
       "schema": [
        {
         "metadata": "{}",
         "name": "server_id",
         "type": "\"long\""
        },
        {
         "metadata": "{}",
         "name": "session_status",
         "type": "\"string\""
        },
        {
         "metadata": "{}",
         "name": "status_time",
         "type": "\"timestamp\""
        }
       ],
       "type": "table"
      }
     },
     "output_type": "display_data"
    }
   ],
   "source": [
    "from pyspark.sql.functions import *\n",
    "\n",
    "# Create a list of data\n",
    "data = [\n",
    "    (1, \"start\", \"08/02/2022 10:00:00\"),\n",
    "    (1, \"stop\", \"08/04/2022 10:00:00\"),\n",
    "    (1, \"stop\", \"08/13/2022 19:00:00\"),\n",
    "    (1, \"start\", \"08/13/2022 10:00:00\"),\n",
    "    (3, \"stop\", \"08/19/2022 10:00:00\"),\n",
    "    (3, \"start\", \"08/18/2022 10:00:00\"),\n",
    "    (5, \"stop\", \"08/19/2022 10:00:00\"),\n",
    "    (4, \"stop\", \"08/19/2022 14:00:00\"),\n",
    "    (4, \"start\", \"08/16/2022 10:00:00\"),\n",
    "    (3, \"stop\", \"08/14/2022 10:00:00\"),\n",
    "    (3, \"start\", \"08/06/2022 10:00:00\"),\n",
    "    (2, \"stop\", \"08/24/2022 10:00:00\"),\n",
    "    (2, \"start\", \"08/17/2022 10:00:00\"),\n",
    "    (5, \"start\", \"08/14/2022 21:00:00\"),\n",
    "]\n",
    "\n",
    "# Define schema\n",
    "columns = [\"server_id\", \"session_status\", \"status_time\"]\n",
    "\n",
    "# Create DataFrame\n",
    "df = spark.createDataFrame(data, schema=columns)\n",
    "\n",
    "# Convert 'status_time' to timestamp\n",
    "df = df.withColumn(\n",
    "    \"status_time\", to_timestamp(col(\"status_time\"), \"MM/dd/yyyy HH:mm:ss\")\n",
    ")\n",
    "\n",
    "# Sort the DataFrame by 'server_id' and 'status_time'\n",
    "df = df.sort(\"server_id\", \"status_time\")\n",
    "\n",
    "# display the DataFrame\n",
    "df.display()"
   ]
  },
  {
   "cell_type": "code",
   "execution_count": 0,
   "metadata": {
    "application/vnd.databricks.v1+cell": {
     "cellMetadata": {
      "byteLimit": 2048000,
      "rowLimit": 10000
     },
     "inputWidgets": {},
     "nuid": "cd20a595-4f64-48f8-904a-3707d6764b0a",
     "showTitle": false,
     "title": ""
    }
   },
   "outputs": [],
   "source": [
    "df.createOrReplaceTempView(\"server_utilization\")"
   ]
  },
  {
   "cell_type": "code",
   "execution_count": 0,
   "metadata": {
    "application/vnd.databricks.v1+cell": {
     "cellMetadata": {
      "byteLimit": 2048000,
      "implicitDf": true,
      "rowLimit": 10000
     },
     "inputWidgets": {},
     "nuid": "592bef36-6646-4a10-8489-80b7581f900d",
     "showTitle": false,
     "title": ""
    }
   },
   "outputs": [
    {
     "output_type": "display_data",
     "data": {
      "text/html": [
       "<style scoped>\n",
       "  .table-result-container {\n",
       "    max-height: 300px;\n",
       "    overflow: auto;\n",
       "  }\n",
       "  table, th, td {\n",
       "    border: 1px solid black;\n",
       "    border-collapse: collapse;\n",
       "  }\n",
       "  th, td {\n",
       "    padding: 5px;\n",
       "  }\n",
       "  th {\n",
       "    text-align: left;\n",
       "  }\n",
       "</style><div class='table-result-container'><table class='table-result'><thead style='background-color: white'><tr><th>total_uptime_days</th></tr></thead><tbody><tr><td>26</td></tr></tbody></table></div>"
      ]
     },
     "metadata": {
      "application/vnd.databricks.v1+output": {
       "addedWidgets": {},
       "aggData": [],
       "aggError": "",
       "aggOverflow": false,
       "aggSchema": [],
       "aggSeriesLimitReached": false,
       "aggType": "",
       "arguments": {},
       "columnCustomDisplayInfos": {},
       "data": [
        [
         26
        ]
       ],
       "datasetInfos": [],
       "dbfsResultPath": null,
       "isJsonSchema": true,
       "metadata": {},
       "overflow": false,
       "plotOptions": {
        "customPlotOptions": {},
        "displayType": "table",
        "pivotAggregation": null,
        "pivotColumns": null,
        "xColumns": null,
        "yColumns": null
       },
       "removedWidgets": [],
       "schema": [
        {
         "metadata": "{}",
         "name": "total_uptime_days",
         "type": "\"integer\""
        }
       ],
       "type": "table"
      }
     },
     "output_type": "display_data"
    }
   ],
   "source": [
    "%sql\n",
    "WITH running_time AS (\n",
    "  SELECT\n",
    "    server_id,\n",
    "    session_status,\n",
    "    status_time AS start_time,\n",
    "    LEAD(status_time) OVER (\n",
    "      PARTITION BY server_id\n",
    "      ORDER BY\n",
    "        status_time\n",
    "    ) AS stop_time\n",
    "  FROM\n",
    "    server_utilization\n",
    ")\n",
    "SELECT\n",
    "  CAST(\n",
    "    SUM(\n",
    "      (\n",
    "        UNIX_TIMESTAMP(stop_time) - UNIX_TIMESTAMP(start_time)\n",
    "      ) / 86400\n",
    "    ) AS INT\n",
    "  ) AS total_uptime_days\n",
    "FROM\n",
    "  running_time\n",
    "WHERE\n",
    "  session_status = 'start'\n",
    "  AND stop_time IS NOT NULL;"
   ]
  },
  {
   "cell_type": "code",
   "execution_count": 0,
   "metadata": {
    "application/vnd.databricks.v1+cell": {
     "cellMetadata": {
      "byteLimit": 2048000,
      "rowLimit": 10000
     },
     "inputWidgets": {},
     "nuid": "dd2785df-fd4d-4970-8839-7fe5659c68a0",
     "showTitle": false,
     "title": ""
    }
   },
   "outputs": [
    {
     "output_type": "display_data",
     "data": {
      "text/html": [
       "<style scoped>\n",
       "  .table-result-container {\n",
       "    max-height: 300px;\n",
       "    overflow: auto;\n",
       "  }\n",
       "  table, th, td {\n",
       "    border: 1px solid black;\n",
       "    border-collapse: collapse;\n",
       "  }\n",
       "  th, td {\n",
       "    padding: 5px;\n",
       "  }\n",
       "  th {\n",
       "    text-align: left;\n",
       "  }\n",
       "</style><div class='table-result-container'><table class='table-result'><thead style='background-color: white'><tr><th>total_uptime_days</th></tr></thead><tbody><tr><td>26</td></tr></tbody></table></div>"
      ]
     },
     "metadata": {
      "application/vnd.databricks.v1+output": {
       "addedWidgets": {},
       "aggData": [],
       "aggError": "",
       "aggOverflow": false,
       "aggSchema": [],
       "aggSeriesLimitReached": false,
       "aggType": "",
       "arguments": {},
       "columnCustomDisplayInfos": {},
       "data": [
        [
         26
        ]
       ],
       "datasetInfos": [],
       "dbfsResultPath": null,
       "isJsonSchema": true,
       "metadata": {},
       "overflow": false,
       "plotOptions": {
        "customPlotOptions": {},
        "displayType": "table",
        "pivotAggregation": null,
        "pivotColumns": null,
        "xColumns": null,
        "yColumns": null
       },
       "removedWidgets": [],
       "schema": [
        {
         "metadata": "{}",
         "name": "total_uptime_days",
         "type": "\"integer\""
        }
       ],
       "type": "table"
      }
     },
     "output_type": "display_data"
    }
   ],
   "source": [
    "from pyspark.sql.functions import *\n",
    "from pyspark.sql.window import Window\n",
    "\n",
    "df = df.withColumn(\"status_time\", to_timestamp(\"status_time\"))\n",
    "\n",
    "# Define the window to get the next status_time\n",
    "window_spec = Window.partitionBy(\"server_id\").orderBy(\"status_time\")\n",
    "\n",
    "# Create the running_time DataFrame\n",
    "running_time = df.withColumn(\"stop_time\", lead(\"status_time\").over(window_spec)).filter(\n",
    "    (col(\"session_status\") == \"start\") & (col(\"stop_time\").isNotNull())\n",
    ")\n",
    "\n",
    "# Calculate total uptime days\n",
    "total_uptime_days = running_time.select(\n",
    "    (sum((unix_timestamp(\"stop_time\") - unix_timestamp(\"status_time\")) / 86400))\n",
    "    .cast(\"int\")\n",
    "    .alias(\"total_uptime_days\")\n",
    ")\n",
    "\n",
    "# Show the result\n",
    "total_uptime_days.display()"
   ]
  },
  {
   "cell_type": "markdown",
   "metadata": {
    "application/vnd.databricks.v1+cell": {
     "cellMetadata": {},
     "inputWidgets": {},
     "nuid": "15503fb2-5d0d-4513-8ae2-b0f8d9977388",
     "showTitle": false,
     "title": ""
    }
   },
   "source": [
    "Explanation:\n",
    "\n",
    "Spark Session: Initializes the Spark session.\n",
    "Sample DataFrame: A sample DataFrame (df) is created for demonstration purposes. Replace this with your actual DataFrame loading method.\n",
    "Convert to Timestamp: Converts the status_time column to a timestamp type for time calculations.\n",
    "Window Specification: Defines a window specification to partition by server_id and order by status_time.\n",
    "Create running_time DataFrame:\n",
    "Uses lead to get the next status_time as stop_time.\n",
    "Filters to keep only rows where session_status is 'start' and stop_time is not null.\n",
    "Calculate Total Uptime Days:\n",
    "Computes the difference between stop_time and status_time, converts it to days, and sums the results.\n",
    "The result is cast to an integer type.\n",
    "Show the Result: Displays the total uptime days.\n",
    "Make sure you adjust the code to fit your actual DataFrame structure and data types."
   ]
  }
 ],
 "metadata": {
  "application/vnd.databricks.v1+notebook": {
   "dashboards": [],
   "environmentMetadata": null,
   "language": "python",
   "notebookMetadata": {
    "mostRecentlyExecutedCommandWithImplicitDF": {
     "commandId": 1229147244594113,
     "dataframes": [
      "_sqldf"
     ]
    },
    "pythonIndentUnit": 4
   },
   "notebookName": "Server Utilization Time",
   "widgets": {}
  }
 },
 "nbformat": 4,
 "nbformat_minor": 0
}
