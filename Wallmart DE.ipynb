{
 "cells": [
  {
   "cell_type": "markdown",
   "metadata": {
    "application/vnd.databricks.v1+cell": {
     "cellMetadata": {},
     "inputWidgets": {},
     "nuid": "34975c4d-2a14-4954-897b-8a1e3b48e9ff",
     "showTitle": false,
     "title": ""
    }
   },
   "source": [
    "Problem Statement:\n",
    "\n",
    "Here are working with two dataframes:\n",
    "\n",
    "Transactions Dataset: Contains customer transactions with information about transaction type (debit or credit) and the transaction amount.\n",
    "\n",
    "Amounts Dataset: Contains the current balance for each customer.\n",
    "Your task is to adjust the current balances in the Amounts Dataset based on the transactions from the Transactions Dataset. Specifically:\n",
    "\n",
    "For debit transactions, subtract the transaction amount from the current balance.\n",
    "For credit transactions, add the transaction amount to the current balance.\n",
    "If a customer has no transactions, their current balance remains unchanged."
   ]
  },
  {
   "cell_type": "code",
   "execution_count": 0,
   "metadata": {
    "application/vnd.databricks.v1+cell": {
     "cellMetadata": {
      "byteLimit": 2048000,
      "rowLimit": 10000
     },
     "inputWidgets": {},
     "nuid": "2eff0f80-139c-41e5-94dc-e580e74912d1",
     "showTitle": false,
     "title": ""
    }
   },
   "outputs": [
    {
     "output_type": "display_data",
     "data": {
      "text/html": [
       "<style scoped>\n",
       "  .table-result-container {\n",
       "    max-height: 300px;\n",
       "    overflow: auto;\n",
       "  }\n",
       "  table, th, td {\n",
       "    border: 1px solid black;\n",
       "    border-collapse: collapse;\n",
       "  }\n",
       "  th, td {\n",
       "    padding: 5px;\n",
       "  }\n",
       "  th {\n",
       "    text-align: left;\n",
       "  }\n",
       "</style><div class='table-result-container'><table class='table-result'><thead style='background-color: white'><tr><th>customer_id</th><th>transaction_type</th><th>transaction_amount</th></tr></thead><tbody><tr><td>1</td><td>credit</td><td>30.0</td></tr><tr><td>1</td><td>debit</td><td>90.0</td></tr><tr><td>2</td><td>credit</td><td>50.0</td></tr><tr><td>3</td><td>debit</td><td>57.0</td></tr><tr><td>2</td><td>debit</td><td>90.0</td></tr></tbody></table></div>"
      ]
     },
     "metadata": {
      "application/vnd.databricks.v1+output": {
       "addedWidgets": {},
       "aggData": [],
       "aggError": "",
       "aggOverflow": false,
       "aggSchema": [],
       "aggSeriesLimitReached": false,
       "aggType": "",
       "arguments": {},
       "columnCustomDisplayInfos": {},
       "data": [
        [
         1,
         "credit",
         30.0
        ],
        [
         1,
         "debit",
         90.0
        ],
        [
         2,
         "credit",
         50.0
        ],
        [
         3,
         "debit",
         57.0
        ],
        [
         2,
         "debit",
         90.0
        ]
       ],
       "datasetInfos": [],
       "dbfsResultPath": null,
       "isJsonSchema": true,
       "metadata": {},
       "overflow": false,
       "plotOptions": {
        "customPlotOptions": {},
        "displayType": "table",
        "pivotAggregation": null,
        "pivotColumns": null,
        "xColumns": null,
        "yColumns": null
       },
       "removedWidgets": [],
       "schema": [
        {
         "metadata": "{}",
         "name": "customer_id",
         "type": "\"integer\""
        },
        {
         "metadata": "{}",
         "name": "transaction_type",
         "type": "\"string\""
        },
        {
         "metadata": "{}",
         "name": "transaction_amount",
         "type": "\"float\""
        }
       ],
       "type": "table"
      }
     },
     "output_type": "display_data"
    },
    {
     "output_type": "display_data",
     "data": {
      "text/html": [
       "<style scoped>\n",
       "  .table-result-container {\n",
       "    max-height: 300px;\n",
       "    overflow: auto;\n",
       "  }\n",
       "  table, th, td {\n",
       "    border: 1px solid black;\n",
       "    border-collapse: collapse;\n",
       "  }\n",
       "  th, td {\n",
       "    padding: 5px;\n",
       "  }\n",
       "  th {\n",
       "    text-align: left;\n",
       "  }\n",
       "</style><div class='table-result-container'><table class='table-result'><thead style='background-color: white'><tr><th>customer_id</th><th>current_amount</th></tr></thead><tbody><tr><td>1</td><td>1000.0</td></tr><tr><td>2</td><td>2000.0</td></tr><tr><td>3</td><td>3000.0</td></tr><tr><td>4</td><td>4000.0</td></tr></tbody></table></div>"
      ]
     },
     "metadata": {
      "application/vnd.databricks.v1+output": {
       "addedWidgets": {},
       "aggData": [],
       "aggError": "",
       "aggOverflow": false,
       "aggSchema": [],
       "aggSeriesLimitReached": false,
       "aggType": "",
       "arguments": {},
       "columnCustomDisplayInfos": {},
       "data": [
        [
         1,
         1000.0
        ],
        [
         2,
         2000.0
        ],
        [
         3,
         3000.0
        ],
        [
         4,
         4000.0
        ]
       ],
       "datasetInfos": [],
       "dbfsResultPath": null,
       "isJsonSchema": true,
       "metadata": {},
       "overflow": false,
       "plotOptions": {
        "customPlotOptions": {},
        "displayType": "table",
        "pivotAggregation": null,
        "pivotColumns": null,
        "xColumns": null,
        "yColumns": null
       },
       "removedWidgets": [],
       "schema": [
        {
         "metadata": "{}",
         "name": "customer_id",
         "type": "\"integer\""
        },
        {
         "metadata": "{}",
         "name": "current_amount",
         "type": "\"float\""
        }
       ],
       "type": "table"
      }
     },
     "output_type": "display_data"
    }
   ],
   "source": [
    "from pyspark.sql.types import (\n",
    "    StructType,\n",
    "    StructField,\n",
    "    IntegerType,\n",
    "    StringType,\n",
    "    FloatType,\n",
    ")\n",
    "\n",
    "# Define the schema for transactions\n",
    "transaction_schema = StructType(\n",
    "    [\n",
    "        StructField(\"customer_id\", IntegerType(), True),\n",
    "        StructField(\"transaction_type\", StringType(), True),\n",
    "        StructField(\"transaction_amount\", FloatType(), True),\n",
    "    ]\n",
    ")\n",
    "\n",
    "# Create the transactions DataFrame\n",
    "transactions_data = [\n",
    "    (1, \"credit\", 30.0),\n",
    "    (1, \"debit\", 90.0),\n",
    "    (2, \"credit\", 50.0),\n",
    "    (3, \"debit\", 57.0),\n",
    "    (2, \"debit\", 90.0),\n",
    "]\n",
    "\n",
    "transactions_df = spark.createDataFrame(transactions_data, schema=transaction_schema)\n",
    "\n",
    "# Show the transactions DataFrame\n",
    "transactions_df.display()\n",
    "\n",
    "# Define the schema for amounts\n",
    "amount_schema = StructType(\n",
    "    [\n",
    "        StructField(\"customer_id\", IntegerType(), True),\n",
    "        StructField(\"current_amount\", FloatType(), True),\n",
    "    ]\n",
    ")\n",
    "\n",
    "# Create the amounts DataFrame\n",
    "amounts_data = [(1, 1000.0), (2, 2000.0), (3, 3000.0), (4, 4000.0)]\n",
    "\n",
    "amounts_df = spark.createDataFrame(amounts_data, schema=amount_schema)\n",
    "\n",
    "# Show the amounts DataFrame\n",
    "amounts_df.display()"
   ]
  },
  {
   "cell_type": "code",
   "execution_count": 0,
   "metadata": {
    "application/vnd.databricks.v1+cell": {
     "cellMetadata": {
      "byteLimit": 2048000,
      "rowLimit": 10000
     },
     "inputWidgets": {},
     "nuid": "875ed677-c695-4629-8a36-677f61a447e1",
     "showTitle": false,
     "title": ""
    }
   },
   "outputs": [
    {
     "output_type": "display_data",
     "data": {
      "text/html": [
       "<style scoped>\n",
       "  .table-result-container {\n",
       "    max-height: 300px;\n",
       "    overflow: auto;\n",
       "  }\n",
       "  table, th, td {\n",
       "    border: 1px solid black;\n",
       "    border-collapse: collapse;\n",
       "  }\n",
       "  th, td {\n",
       "    padding: 5px;\n",
       "  }\n",
       "  th {\n",
       "    text-align: left;\n",
       "  }\n",
       "</style><div class='table-result-container'><table class='table-result'><thead style='background-color: white'><tr><th>customer_id</th><th>total_transaction_amount</th></tr></thead><tbody><tr><td>1</td><td>-60.0</td></tr><tr><td>2</td><td>-40.0</td></tr><tr><td>3</td><td>-57.0</td></tr></tbody></table></div>"
      ]
     },
     "metadata": {
      "application/vnd.databricks.v1+output": {
       "addedWidgets": {},
       "aggData": [],
       "aggError": "",
       "aggOverflow": false,
       "aggSchema": [],
       "aggSeriesLimitReached": false,
       "aggType": "",
       "arguments": {},
       "columnCustomDisplayInfos": {},
       "data": [
        [
         1,
         -60.0
        ],
        [
         2,
         -40.0
        ],
        [
         3,
         -57.0
        ]
       ],
       "datasetInfos": [],
       "dbfsResultPath": null,
       "isJsonSchema": true,
       "metadata": {},
       "overflow": false,
       "plotOptions": {
        "customPlotOptions": {},
        "displayType": "table",
        "pivotAggregation": null,
        "pivotColumns": null,
        "xColumns": null,
        "yColumns": null
       },
       "removedWidgets": [],
       "schema": [
        {
         "metadata": "{}",
         "name": "customer_id",
         "type": "\"integer\""
        },
        {
         "metadata": "{}",
         "name": "total_transaction_amount",
         "type": "\"double\""
        }
       ],
       "type": "table"
      }
     },
     "output_type": "display_data"
    }
   ],
   "source": [
    "from pyspark.sql.functions import *\n",
    "\n",
    "transaction_agg = (\n",
    "    transactions_df.withColumn(\n",
    "        \"transaction_amount\",\n",
    "        when(col(\"transaction_type\") == \"debit\", -col(\"transaction_amount\")).otherwise(\n",
    "            col(\"transaction_amount\")\n",
    "        ),\n",
    "    )\n",
    "    .groupBy(\"customer_id\")\n",
    "    .agg(sum(\"transaction_amount\").alias(\"total_transaction_amount\"))\n",
    ")\n",
    "transaction_agg.display()"
   ]
  },
  {
   "cell_type": "code",
   "execution_count": 0,
   "metadata": {
    "application/vnd.databricks.v1+cell": {
     "cellMetadata": {
      "byteLimit": 2048000,
      "rowLimit": 10000
     },
     "inputWidgets": {},
     "nuid": "1dd681ac-a6f2-492e-b2ac-5eb0f1d99196",
     "showTitle": false,
     "title": ""
    }
   },
   "outputs": [
    {
     "output_type": "display_data",
     "data": {
      "text/html": [
       "<style scoped>\n",
       "  .table-result-container {\n",
       "    max-height: 300px;\n",
       "    overflow: auto;\n",
       "  }\n",
       "  table, th, td {\n",
       "    border: 1px solid black;\n",
       "    border-collapse: collapse;\n",
       "  }\n",
       "  th, td {\n",
       "    padding: 5px;\n",
       "  }\n",
       "  th {\n",
       "    text-align: left;\n",
       "  }\n",
       "</style><div class='table-result-container'><table class='table-result'><thead style='background-color: white'><tr><th>customer_id</th><th>current_amount</th><th>total_transaction_amount</th></tr></thead><tbody><tr><td>1</td><td>1000.0</td><td>-60.0</td></tr><tr><td>2</td><td>2000.0</td><td>-40.0</td></tr><tr><td>3</td><td>3000.0</td><td>-57.0</td></tr><tr><td>4</td><td>4000.0</td><td>null</td></tr></tbody></table></div>"
      ]
     },
     "metadata": {
      "application/vnd.databricks.v1+output": {
       "addedWidgets": {},
       "aggData": [],
       "aggError": "",
       "aggOverflow": false,
       "aggSchema": [],
       "aggSeriesLimitReached": false,
       "aggType": "",
       "arguments": {},
       "columnCustomDisplayInfos": {},
       "data": [
        [
         1,
         1000.0,
         -60.0
        ],
        [
         2,
         2000.0,
         -40.0
        ],
        [
         3,
         3000.0,
         -57.0
        ],
        [
         4,
         4000.0,
         null
        ]
       ],
       "datasetInfos": [],
       "dbfsResultPath": null,
       "isJsonSchema": true,
       "metadata": {},
       "overflow": false,
       "plotOptions": {
        "customPlotOptions": {},
        "displayType": "table",
        "pivotAggregation": null,
        "pivotColumns": null,
        "xColumns": null,
        "yColumns": null
       },
       "removedWidgets": [],
       "schema": [
        {
         "metadata": "{}",
         "name": "customer_id",
         "type": "\"integer\""
        },
        {
         "metadata": "{}",
         "name": "current_amount",
         "type": "\"float\""
        },
        {
         "metadata": "{}",
         "name": "total_transaction_amount",
         "type": "\"double\""
        }
       ],
       "type": "table"
      }
     },
     "output_type": "display_data"
    }
   ],
   "source": [
    "final_df = amounts_df.join(transaction_agg, on=\"customer_id\", how=\"left\")\n",
    "final_df.display()"
   ]
  },
  {
   "cell_type": "code",
   "execution_count": 0,
   "metadata": {
    "application/vnd.databricks.v1+cell": {
     "cellMetadata": {
      "byteLimit": 2048000,
      "rowLimit": 10000
     },
     "inputWidgets": {},
     "nuid": "c72edb04-d42e-402e-868b-fe301e5ad6ef",
     "showTitle": false,
     "title": ""
    }
   },
   "outputs": [
    {
     "output_type": "display_data",
     "data": {
      "text/html": [
       "<style scoped>\n",
       "  .table-result-container {\n",
       "    max-height: 300px;\n",
       "    overflow: auto;\n",
       "  }\n",
       "  table, th, td {\n",
       "    border: 1px solid black;\n",
       "    border-collapse: collapse;\n",
       "  }\n",
       "  th, td {\n",
       "    padding: 5px;\n",
       "  }\n",
       "  th {\n",
       "    text-align: left;\n",
       "  }\n",
       "</style><div class='table-result-container'><table class='table-result'><thead style='background-color: white'><tr><th>customer_id</th><th>current_amount</th></tr></thead><tbody><tr><td>1</td><td>940.0</td></tr><tr><td>2</td><td>1960.0</td></tr><tr><td>3</td><td>2943.0</td></tr><tr><td>4</td><td>4000.0</td></tr></tbody></table></div>"
      ]
     },
     "metadata": {
      "application/vnd.databricks.v1+output": {
       "addedWidgets": {},
       "aggData": [],
       "aggError": "",
       "aggOverflow": false,
       "aggSchema": [],
       "aggSeriesLimitReached": false,
       "aggType": "",
       "arguments": {},
       "columnCustomDisplayInfos": {},
       "data": [
        [
         1,
         940.0
        ],
        [
         2,
         1960.0
        ],
        [
         3,
         2943.0
        ],
        [
         4,
         4000.0
        ]
       ],
       "datasetInfos": [],
       "dbfsResultPath": null,
       "isJsonSchema": true,
       "metadata": {},
       "overflow": false,
       "plotOptions": {
        "customPlotOptions": {},
        "displayType": "table",
        "pivotAggregation": null,
        "pivotColumns": null,
        "xColumns": null,
        "yColumns": null
       },
       "removedWidgets": [],
       "schema": [
        {
         "metadata": "{}",
         "name": "customer_id",
         "type": "\"integer\""
        },
        {
         "metadata": "{}",
         "name": "current_amount",
         "type": "\"double\""
        }
       ],
       "type": "table"
      }
     },
     "output_type": "display_data"
    }
   ],
   "source": [
    "final_df = final_df.withColumn(\n",
    "    \"current_amount\",\n",
    "    when(\n",
    "        col(\"total_transaction_amount\").isNotNull(),\n",
    "        col(\"current_amount\") + col(\"total_transaction_amount\"),\n",
    "    ).otherwise(col(\"current_amount\")),\n",
    ").drop(\"total_transaction_amount\")\n",
    "\n",
    "final_df.display()"
   ]
  },
  {
   "cell_type": "code",
   "execution_count": 0,
   "metadata": {
    "application/vnd.databricks.v1+cell": {
     "cellMetadata": {},
     "inputWidgets": {},
     "nuid": "3eea26de-638e-4072-907c-3fe12c797601",
     "showTitle": false,
     "title": ""
    }
   },
   "outputs": [],
   "source": [
    "# Create the DataFrames as temporary SQL tables\n",
    "transactions_df.createOrReplaceTempView(\"transactions\")\n",
    "amounts_df.createOrReplaceTempView(\"amounts\")"
   ]
  },
  {
   "cell_type": "code",
   "execution_count": 0,
   "metadata": {
    "application/vnd.databricks.v1+cell": {
     "cellMetadata": {
      "byteLimit": 2048000,
      "rowLimit": 10000
     },
     "inputWidgets": {},
     "nuid": "058e4d04-c421-4feb-8aa7-6de559df42bf",
     "showTitle": false,
     "title": ""
    }
   },
   "outputs": [
    {
     "output_type": "display_data",
     "data": {
      "text/html": [
       "<style scoped>\n",
       "  .table-result-container {\n",
       "    max-height: 300px;\n",
       "    overflow: auto;\n",
       "  }\n",
       "  table, th, td {\n",
       "    border: 1px solid black;\n",
       "    border-collapse: collapse;\n",
       "  }\n",
       "  th, td {\n",
       "    padding: 5px;\n",
       "  }\n",
       "  th {\n",
       "    text-align: left;\n",
       "  }\n",
       "</style><div class='table-result-container'><table class='table-result'><thead style='background-color: white'><tr><th>customer_id</th><th>updated_amount</th></tr></thead><tbody><tr><td>1</td><td>940.0</td></tr><tr><td>2</td><td>1960.0</td></tr><tr><td>3</td><td>2943.0</td></tr><tr><td>4</td><td>4000.0</td></tr></tbody></table></div>"
      ]
     },
     "metadata": {
      "application/vnd.databricks.v1+output": {
       "addedWidgets": {},
       "aggData": [],
       "aggError": "",
       "aggOverflow": false,
       "aggSchema": [],
       "aggSeriesLimitReached": false,
       "aggType": "",
       "arguments": {},
       "columnCustomDisplayInfos": {},
       "data": [
        [
         1,
         940.0
        ],
        [
         2,
         1960.0
        ],
        [
         3,
         2943.0
        ],
        [
         4,
         4000.0
        ]
       ],
       "datasetInfos": [],
       "dbfsResultPath": null,
       "isJsonSchema": true,
       "metadata": {},
       "overflow": false,
       "plotOptions": {
        "customPlotOptions": {},
        "displayType": "table",
        "pivotAggregation": null,
        "pivotColumns": null,
        "xColumns": null,
        "yColumns": null
       },
       "removedWidgets": [],
       "schema": [
        {
         "metadata": "{}",
         "name": "customer_id",
         "type": "\"integer\""
        },
        {
         "metadata": "{}",
         "name": "updated_amount",
         "type": "\"double\""
        }
       ],
       "type": "table"
      }
     },
     "output_type": "display_data"
    }
   ],
   "source": [
    "# Write a SQL query to adjust the current amount based on transactions\n",
    "result_df = spark.sql(\n",
    "    \"\"\"\n",
    "    SELECT a.customer_id,\n",
    "           a.current_amount + COALESCE(SUM(CASE \n",
    "               WHEN t.transaction_type = 'debit' THEN -t.transaction_amount\n",
    "               WHEN t.transaction_type = 'credit' THEN t.transaction_amount\n",
    "               ELSE 0\n",
    "           END), 0) AS updated_amount\n",
    "    FROM amounts a\n",
    "    LEFT JOIN transactions t\n",
    "    ON a.customer_id = t.customer_id\n",
    "    GROUP BY a.customer_id, a.current_amount\n",
    "\"\"\"\n",
    ")\n",
    "\n",
    "# Show the final result\n",
    "result_df.display()"
   ]
  },
  {
   "cell_type": "markdown",
   "metadata": {
    "application/vnd.databricks.v1+cell": {
     "cellMetadata": {},
     "inputWidgets": {},
     "nuid": "6c5848e0-97da-43b9-982d-a035ded52f78",
     "showTitle": false,
     "title": ""
    }
   },
   "source": [
    "Explanation:\n",
    "\n",
    "Step 1: Both DataFrames (transactions_df and amounts_df) are registered as temporary SQL views (transactions and amounts).\n",
    "\n",
    "Step 2: We perform a LEFT JOIN to combine the two tables on customer_id.\n",
    "A CASE statement is used to adjust the transaction_amount based on whether the transaction_type is 'debit' or 'credit'.\n",
    "Debits are subtracted, and credits are added to the current_amount.\n",
    "We use COALESCE() to handle cases where there are no transactions for a customer.\n",
    "\n",
    "Step 3: The SUM function calculates the total impact of the transactions, and this is added to the current_amount to compute the updated_amount."
   ]
  }
 ],
 "metadata": {
  "application/vnd.databricks.v1+notebook": {
   "dashboards": [],
   "environmentMetadata": null,
   "language": "python",
   "notebookMetadata": {
    "pythonIndentUnit": 4
   },
   "notebookName": "Untitled Notebook 2024-09-20 12:47:07",
   "widgets": {}
  }
 },
 "nbformat": 4,
 "nbformat_minor": 0
}
