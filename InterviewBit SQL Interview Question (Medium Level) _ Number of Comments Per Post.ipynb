{
 "cells": [
  {
   "cell_type": "markdown",
   "metadata": {
    "application/vnd.databricks.v1+cell": {
     "cellMetadata": {},
     "inputWidgets": {},
     "nuid": "e02ce516-960e-4023-9587-ee731b6d6e72",
     "showTitle": false,
     "title": ""
    }
   },
   "source": [
    "Problem Statement: Analyzing Post Comments Hierarchy\n",
    "\n",
    "We have a table named Submissions containing two columns:\n",
    "\n",
    "sub_id: A unique identifier for a post or comment.\n",
    "parent_id: This indicates whether the entry is a reply to another post (parent_id contains the sub_id of the parent post). If it’s a top-level post, the parent_id will be NULL.\n",
    "\n",
    "Your task is to:\n",
    "\n",
    "Identify all distinct top-level posts (entries where parent_id is NULL).\n",
    "For each top-level post, count the number of distinct direct comments (i.e., entries where the parent_id matches the sub_id of the post).\n",
    "Ensure that posts with no comments are assigned a count of 0.\n",
    "\n",
    "The output should display:\n",
    "post_id: The sub_id of the top-level post.\n",
    "\n",
    "No_of_cmnt: \n",
    "The number of distinct comments each post received.\n",
    "The result should be sorted by post_id in ascending order."
   ]
  },
  {
   "cell_type": "code",
   "execution_count": 0,
   "metadata": {
    "application/vnd.databricks.v1+cell": {
     "cellMetadata": {
      "byteLimit": 2048000,
      "rowLimit": 10000
     },
     "inputWidgets": {},
     "nuid": "92bb2077-f06b-4fbb-8061-9e3649dcb6ab",
     "showTitle": false,
     "title": ""
    }
   },
   "outputs": [
    {
     "output_type": "display_data",
     "data": {
      "text/html": [
       "<style scoped>\n",
       "  .table-result-container {\n",
       "    max-height: 300px;\n",
       "    overflow: auto;\n",
       "  }\n",
       "  table, th, td {\n",
       "    border: 1px solid black;\n",
       "    border-collapse: collapse;\n",
       "  }\n",
       "  th, td {\n",
       "    padding: 5px;\n",
       "  }\n",
       "  th {\n",
       "    text-align: left;\n",
       "  }\n",
       "</style><div class='table-result-container'><table class='table-result'><thead style='background-color: white'><tr><th>sub_id</th><th>parent_id</th></tr></thead><tbody><tr><td>1</td><td>null</td></tr><tr><td>2</td><td>null</td></tr><tr><td>1</td><td>null</td></tr><tr><td>12</td><td>null</td></tr><tr><td>3</td><td>1</td></tr><tr><td>5</td><td>2</td></tr><tr><td>3</td><td>1</td></tr><tr><td>4</td><td>1</td></tr><tr><td>9</td><td>1</td></tr><tr><td>10</td><td>2</td></tr><tr><td>6</td><td>7</td></tr></tbody></table></div>"
      ]
     },
     "metadata": {
      "application/vnd.databricks.v1+output": {
       "addedWidgets": {},
       "aggData": [],
       "aggError": "",
       "aggOverflow": false,
       "aggSchema": [],
       "aggSeriesLimitReached": false,
       "aggType": "",
       "arguments": {},
       "columnCustomDisplayInfos": {},
       "data": [
        [
         1,
         null
        ],
        [
         2,
         null
        ],
        [
         1,
         null
        ],
        [
         12,
         null
        ],
        [
         3,
         1
        ],
        [
         5,
         2
        ],
        [
         3,
         1
        ],
        [
         4,
         1
        ],
        [
         9,
         1
        ],
        [
         10,
         2
        ],
        [
         6,
         7
        ]
       ],
       "datasetInfos": [],
       "dbfsResultPath": null,
       "isJsonSchema": true,
       "metadata": {},
       "overflow": false,
       "plotOptions": {
        "customPlotOptions": {},
        "displayType": "table",
        "pivotAggregation": null,
        "pivotColumns": null,
        "xColumns": null,
        "yColumns": null
       },
       "removedWidgets": [],
       "schema": [
        {
         "metadata": "{}",
         "name": "sub_id",
         "type": "\"long\""
        },
        {
         "metadata": "{}",
         "name": "parent_id",
         "type": "\"long\""
        }
       ],
       "type": "table"
      }
     },
     "output_type": "display_data"
    }
   ],
   "source": [
    "from pyspark.sql.functions import *\n",
    "\n",
    "# Define the data as a list of tuples\n",
    "data = [\n",
    "    (1, None),\n",
    "    (2, None),\n",
    "    (1, None),\n",
    "    (12, None),\n",
    "    (3, 1),\n",
    "    (5, 2),\n",
    "    (3, 1),\n",
    "    (4, 1),\n",
    "    (9, 1),\n",
    "    (10, 2),\n",
    "    (6, 7),\n",
    "]\n",
    "\n",
    "# Define schema for DataFrame\n",
    "schema = [\"sub_id\", \"parent_id\"]\n",
    "\n",
    "# Create DataFrame\n",
    "df = spark.createDataFrame(data, schema)\n",
    "\n",
    "# display the DataFrame\n",
    "df.display()"
   ]
  },
  {
   "cell_type": "code",
   "execution_count": 0,
   "metadata": {
    "application/vnd.databricks.v1+cell": {
     "cellMetadata": {
      "byteLimit": 2048000,
      "rowLimit": 10000
     },
     "inputWidgets": {},
     "nuid": "fac40a4b-c697-4d59-a5cb-fe0de2357c5a",
     "showTitle": false,
     "title": ""
    }
   },
   "outputs": [
    {
     "output_type": "display_data",
     "data": {
      "text/html": [
       "<style scoped>\n",
       "  .table-result-container {\n",
       "    max-height: 300px;\n",
       "    overflow: auto;\n",
       "  }\n",
       "  table, th, td {\n",
       "    border: 1px solid black;\n",
       "    border-collapse: collapse;\n",
       "  }\n",
       "  th, td {\n",
       "    padding: 5px;\n",
       "  }\n",
       "  th {\n",
       "    text-align: left;\n",
       "  }\n",
       "</style><div class='table-result-container'><table class='table-result'><thead style='background-color: white'><tr><th>sub_id</th><th>No_of_cmnt</th></tr></thead><tbody><tr><td>1</td><td>3</td></tr><tr><td>2</td><td>2</td></tr><tr><td>12</td><td>0</td></tr></tbody></table></div>"
      ]
     },
     "metadata": {
      "application/vnd.databricks.v1+output": {
       "addedWidgets": {},
       "aggData": [],
       "aggError": "",
       "aggOverflow": false,
       "aggSchema": [],
       "aggSeriesLimitReached": false,
       "aggType": "",
       "arguments": {},
       "columnCustomDisplayInfos": {},
       "data": [
        [
         1,
         3
        ],
        [
         2,
         2
        ],
        [
         12,
         0
        ]
       ],
       "datasetInfos": [],
       "dbfsResultPath": null,
       "isJsonSchema": true,
       "metadata": {},
       "overflow": false,
       "plotOptions": {
        "customPlotOptions": {},
        "displayType": "table",
        "pivotAggregation": null,
        "pivotColumns": null,
        "xColumns": null,
        "yColumns": null
       },
       "removedWidgets": [],
       "schema": [
        {
         "metadata": "{}",
         "name": "sub_id",
         "type": "\"long\""
        },
        {
         "metadata": "{}",
         "name": "No_of_cmnt",
         "type": "\"long\""
        }
       ],
       "type": "table"
      }
     },
     "output_type": "display_data"
    }
   ],
   "source": [
    "# Step 1: Create the equivalent of the CTE\n",
    "cte_df = df.filter(col(\"parent_id\").isNull()).select(\"sub_id\").distinct().alias(\"cte\")\n",
    "\n",
    "# Step 2: Perform LEFT JOIN with the original DataFrame using aliases\n",
    "joined_df = cte_df.alias(\"c\").join(\n",
    "    df.alias(\"s\"), col(\"c.sub_id\") == col(\"s.parent_id\"), \"left\"\n",
    ")\n",
    "\n",
    "# Step 3: Group by the post ID and calculate the number of distinct comments\n",
    "result_df = (\n",
    "    joined_df.groupBy(\"c.sub_id\")\n",
    "    .agg(coalesce(countDistinct(\"s.sub_id\"), lit(0)).alias(\"No_of_cmnt\"))\n",
    "    .orderBy(\"c.sub_id\")\n",
    ")\n",
    "\n",
    "# Display the result\n",
    "result_df.display()"
   ]
  },
  {
   "cell_type": "code",
   "execution_count": 0,
   "metadata": {
    "application/vnd.databricks.v1+cell": {
     "cellMetadata": {
      "byteLimit": 2048000,
      "rowLimit": 10000
     },
     "inputWidgets": {},
     "nuid": "55144f16-438c-41ee-8828-a581fa983c4a",
     "showTitle": false,
     "title": ""
    }
   },
   "outputs": [],
   "source": [
    "# Register DataFrame as a temporary SQL view\n",
    "df.createOrReplaceTempView(\"submissions\")"
   ]
  },
  {
   "cell_type": "code",
   "execution_count": 0,
   "metadata": {
    "application/vnd.databricks.v1+cell": {
     "cellMetadata": {
      "byteLimit": 2048000,
      "rowLimit": 10000
     },
     "inputWidgets": {},
     "nuid": "ca9c7084-35dd-4828-af8e-f574f9984860",
     "showTitle": false,
     "title": ""
    }
   },
   "outputs": [
    {
     "output_type": "stream",
     "name": "stdout",
     "output_type": "stream",
     "text": [
      "+-------+----------+\n|post_id|No_of_cmnt|\n+-------+----------+\n|      1|         3|\n|      2|         2|\n|     12|         0|\n+-------+----------+\n\n"
     ]
    }
   ],
   "source": [
    "# Spark SQL query with CTE logic\n",
    "query = \"\"\"\n",
    "WITH cte AS (\n",
    "    SELECT DISTINCT sub_id AS post \n",
    "    FROM submissions \n",
    "    WHERE parent_id IS NULL\n",
    ")\n",
    "SELECT \n",
    "    c.post AS post_id, \n",
    "    COALESCE(COUNT(DISTINCT s.sub_id), 0) AS No_of_cmnt\n",
    "FROM cte c\n",
    "LEFT JOIN submissions s \n",
    "    ON c.post = s.parent_id\n",
    "GROUP BY c.post\n",
    "ORDER BY post_id\n",
    "\"\"\"\n",
    "\n",
    "# Execute the query using Spark SQL\n",
    "result_df = spark.sql(query)\n",
    "\n",
    "# Show the result\n",
    "result_df.show()"
   ]
  },
  {
   "cell_type": "markdown",
   "metadata": {
    "application/vnd.databricks.v1+cell": {
     "cellMetadata": {},
     "inputWidgets": {},
     "nuid": "c1c08d80-6fe8-42a6-b111-092a4b4e3114",
     "showTitle": false,
     "title": ""
    }
   },
   "source": [
    "Explanation\n",
    "\n",
    "Create a temporary SQL view:\n",
    "\n",
    "We register the DataFrame as a temporary view using createOrReplaceTempView(). This lets us query it with SQL syntax.\n",
    "Write the SQL query with CTE:\n",
    "\n",
    "The WITH cte clause selects distinct sub_id values where parent_id is NULL.\n",
    "It performs a LEFT JOIN with the original submissions view on parent_id.\n",
    "The query uses COALESCE to ensure No_of_cmnt is 0 if no comments are found.\n",
    "Execute the SQL query:\n",
    "\n",
    "Use spark.sql() to run the query."
   ]
  }
 ],
 "metadata": {
  "application/vnd.databricks.v1+notebook": {
   "dashboards": [],
   "environmentMetadata": null,
   "language": "python",
   "notebookMetadata": {
    "mostRecentlyExecutedCommandWithImplicitDF": {
     "commandId": 369958488285505,
     "dataframes": [
      "_sqldf"
     ]
    },
    "pythonIndentUnit": 4
   },
   "notebookName": "InterviewBit SQL Interview Question (Medium Level) | Number of Comments Per Post",
   "widgets": {}
  }
 },
 "nbformat": 4,
 "nbformat_minor": 0
}
