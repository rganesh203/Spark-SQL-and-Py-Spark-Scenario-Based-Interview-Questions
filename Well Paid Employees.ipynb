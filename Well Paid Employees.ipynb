{
 "cells": [
  {
   "cell_type": "markdown",
   "metadata": {
    "application/vnd.databricks.v1+cell": {
     "cellMetadata": {},
     "inputWidgets": {},
     "nuid": "8ad725f7-dd3e-4cb1-ba89-3f6629283846",
     "showTitle": false,
     "tableResultSettingsMap": {},
     "title": ""
    }
   },
   "source": [
    "Problem Statement:\n",
    "\n",
    "Companies often perform salary analyses to ensure fair compensation practices. One useful analysis is to check if there are any employees earning more than their direct managers.\n",
    "\n",
    "As a HR Analyst, you're asked to identify all employees who earn more than their direct managers. The result should include the employee's ID and name."
   ]
  },
  {
   "cell_type": "code",
   "execution_count": 0,
   "metadata": {
    "application/vnd.databricks.v1+cell": {
     "cellMetadata": {
      "byteLimit": 2048000,
      "rowLimit": 10000
     },
     "inputWidgets": {},
     "nuid": "dc77473a-9403-4b01-b2eb-c07c24ad6dbd",
     "showTitle": false,
     "tableResultSettingsMap": {},
     "title": ""
    }
   },
   "outputs": [
    {
     "output_type": "display_data",
     "data": {
      "text/html": [
       "<style scoped>\n",
       "  .table-result-container {\n",
       "    max-height: 300px;\n",
       "    overflow: auto;\n",
       "  }\n",
       "  table, th, td {\n",
       "    border: 1px solid black;\n",
       "    border-collapse: collapse;\n",
       "  }\n",
       "  th, td {\n",
       "    padding: 5px;\n",
       "  }\n",
       "  th {\n",
       "    text-align: left;\n",
       "  }\n",
       "</style><div class='table-result-container'><table class='table-result'><thead style='background-color: white'><tr><th>employee_id</th><th>name</th><th>salary</th><th>department_id</th><th>manager_id</th></tr></thead><tbody><tr><td>1</td><td>Emma Thompson</td><td>3800</td><td>1</td><td>6</td></tr><tr><td>2</td><td>Daniel Rodriguez</td><td>2230</td><td>1</td><td>7</td></tr><tr><td>3</td><td>Olivia Smith</td><td>7000</td><td>1</td><td>8</td></tr><tr><td>4</td><td>Noah Johnson</td><td>6800</td><td>2</td><td>9</td></tr><tr><td>5</td><td>Sophia Martinez</td><td>1750</td><td>1</td><td>11</td></tr><tr><td>6</td><td>Liam Brown</td><td>13000</td><td>3</td><td>null</td></tr><tr><td>7</td><td>Ava Garcia</td><td>12500</td><td>3</td><td>null</td></tr><tr><td>8</td><td>William Davis</td><td>6800</td><td>2</td><td>null</td></tr><tr><td>9</td><td>Isabella Wilson</td><td>11000</td><td>3</td><td>null</td></tr><tr><td>10</td><td>James Anderson</td><td>4000</td><td>1</td><td>11</td></tr><tr><td>11</td><td>Mia Taylor</td><td>10800</td><td>3</td><td>null</td></tr><tr><td>12</td><td>Benjamin Hernandez</td><td>9500</td><td>3</td><td>8</td></tr><tr><td>13</td><td>Charlotte Miller</td><td>7000</td><td>2</td><td>6</td></tr><tr><td>14</td><td>Logan Moore</td><td>8000</td><td>2</td><td>6</td></tr><tr><td>15</td><td>Amelia Lee</td><td>4000</td><td>1</td><td>7</td></tr></tbody></table></div>"
      ]
     },
     "metadata": {
      "application/vnd.databricks.v1+output": {
       "addedWidgets": {},
       "aggData": [],
       "aggError": "",
       "aggOverflow": false,
       "aggSchema": [],
       "aggSeriesLimitReached": false,
       "aggType": "",
       "arguments": {},
       "columnCustomDisplayInfos": {},
       "data": [
        [
         1,
         "Emma Thompson",
         3800,
         1,
         6
        ],
        [
         2,
         "Daniel Rodriguez",
         2230,
         1,
         7
        ],
        [
         3,
         "Olivia Smith",
         7000,
         1,
         8
        ],
        [
         4,
         "Noah Johnson",
         6800,
         2,
         9
        ],
        [
         5,
         "Sophia Martinez",
         1750,
         1,
         11
        ],
        [
         6,
         "Liam Brown",
         13000,
         3,
         null
        ],
        [
         7,
         "Ava Garcia",
         12500,
         3,
         null
        ],
        [
         8,
         "William Davis",
         6800,
         2,
         null
        ],
        [
         9,
         "Isabella Wilson",
         11000,
         3,
         null
        ],
        [
         10,
         "James Anderson",
         4000,
         1,
         11
        ],
        [
         11,
         "Mia Taylor",
         10800,
         3,
         null
        ],
        [
         12,
         "Benjamin Hernandez",
         9500,
         3,
         8
        ],
        [
         13,
         "Charlotte Miller",
         7000,
         2,
         6
        ],
        [
         14,
         "Logan Moore",
         8000,
         2,
         6
        ],
        [
         15,
         "Amelia Lee",
         4000,
         1,
         7
        ]
       ],
       "datasetInfos": [],
       "dbfsResultPath": null,
       "isJsonSchema": true,
       "metadata": {},
       "overflow": false,
       "plotOptions": {
        "customPlotOptions": {},
        "displayType": "table",
        "pivotAggregation": null,
        "pivotColumns": null,
        "xColumns": null,
        "yColumns": null
       },
       "removedWidgets": [],
       "schema": [
        {
         "metadata": "{}",
         "name": "employee_id",
         "type": "\"long\""
        },
        {
         "metadata": "{}",
         "name": "name",
         "type": "\"string\""
        },
        {
         "metadata": "{}",
         "name": "salary",
         "type": "\"long\""
        },
        {
         "metadata": "{}",
         "name": "department_id",
         "type": "\"long\""
        },
        {
         "metadata": "{}",
         "name": "manager_id",
         "type": "\"long\""
        }
       ],
       "type": "table"
      }
     },
     "output_type": "display_data"
    }
   ],
   "source": [
    "# Sample data\n",
    "data = [\n",
    "    (1, \"Emma Thompson\", 3800, 1, 6),\n",
    "    (2, \"Daniel Rodriguez\", 2230, 1, 7),\n",
    "    (3, \"Olivia Smith\", 7000, 1, 8),\n",
    "    (4, \"Noah Johnson\", 6800, 2, 9),\n",
    "    (5, \"Sophia Martinez\", 1750, 1, 11),\n",
    "    (6, \"Liam Brown\", 13000, 3, None),\n",
    "    (7, \"Ava Garcia\", 12500, 3, None),\n",
    "    (8, \"William Davis\", 6800, 2, None),\n",
    "    (9, \"Isabella Wilson\", 11000, 3, None),\n",
    "    (10, \"James Anderson\", 4000, 1, 11),\n",
    "    (11, \"Mia Taylor\", 10800, 3, None),\n",
    "    (12, \"Benjamin Hernandez\", 9500, 3, 8),\n",
    "    (13, \"Charlotte Miller\", 7000, 2, 6),\n",
    "    (14, \"Logan Moore\", 8000, 2, 6),\n",
    "    (15, \"Amelia Lee\", 4000, 1, 7),\n",
    "]\n",
    "\n",
    "# Column names\n",
    "columns = [\"employee_id\", \"name\", \"salary\", \"department_id\", \"manager_id\"]\n",
    "\n",
    "# Create DataFrame\n",
    "df = spark.createDataFrame(data, columns)\n",
    "\n",
    "# display DataFrame\n",
    "df.display()"
   ]
  },
  {
   "cell_type": "code",
   "execution_count": 0,
   "metadata": {
    "application/vnd.databricks.v1+cell": {
     "cellMetadata": {
      "byteLimit": 2048000,
      "rowLimit": 10000
     },
     "inputWidgets": {},
     "nuid": "b28da4c9-e8d7-4478-96cb-698a1cefebc9",
     "showTitle": false,
     "tableResultSettingsMap": {},
     "title": ""
    }
   },
   "outputs": [],
   "source": [
    "df.createOrReplaceTempView(\"employee\")"
   ]
  },
  {
   "cell_type": "code",
   "execution_count": 0,
   "metadata": {
    "application/vnd.databricks.v1+cell": {
     "cellMetadata": {
      "byteLimit": 2048000,
      "implicitDf": true,
      "rowLimit": 10000
     },
     "inputWidgets": {},
     "nuid": "ce9a00f1-16a5-414a-8a7e-6c3cdbb7af7a",
     "showTitle": false,
     "tableResultSettingsMap": {},
     "title": ""
    }
   },
   "outputs": [
    {
     "output_type": "display_data",
     "data": {
      "text/html": [
       "<style scoped>\n",
       "  .table-result-container {\n",
       "    max-height: 300px;\n",
       "    overflow: auto;\n",
       "  }\n",
       "  table, th, td {\n",
       "    border: 1px solid black;\n",
       "    border-collapse: collapse;\n",
       "  }\n",
       "  th, td {\n",
       "    padding: 5px;\n",
       "  }\n",
       "  th {\n",
       "    text-align: left;\n",
       "  }\n",
       "</style><div class='table-result-container'><table class='table-result'><thead style='background-color: white'><tr><th>employee_id</th><th>employee_name</th></tr></thead><tbody><tr><td>3</td><td>Olivia Smith</td></tr><tr><td>12</td><td>Benjamin Hernandez</td></tr></tbody></table></div>"
      ]
     },
     "metadata": {
      "application/vnd.databricks.v1+output": {
       "addedWidgets": {},
       "aggData": [],
       "aggError": "",
       "aggOverflow": false,
       "aggSchema": [],
       "aggSeriesLimitReached": false,
       "aggType": "",
       "arguments": {},
       "columnCustomDisplayInfos": {},
       "data": [
        [
         3,
         "Olivia Smith"
        ],
        [
         12,
         "Benjamin Hernandez"
        ]
       ],
       "datasetInfos": [],
       "dbfsResultPath": null,
       "isJsonSchema": true,
       "metadata": {},
       "overflow": false,
       "plotOptions": {
        "customPlotOptions": {},
        "displayType": "table",
        "pivotAggregation": null,
        "pivotColumns": null,
        "xColumns": null,
        "yColumns": null
       },
       "removedWidgets": [],
       "schema": [
        {
         "metadata": "{}",
         "name": "employee_id",
         "type": "\"long\""
        },
        {
         "metadata": "{}",
         "name": "employee_name",
         "type": "\"string\""
        }
       ],
       "type": "table"
      }
     },
     "output_type": "display_data"
    }
   ],
   "source": [
    "%sql\n",
    "WITH ManagerEmployee AS (\n",
    "  SELECT\n",
    "    emp.employee_id AS employee_id,\n",
    "    emp.name AS employee_name,\n",
    "    emp.salary AS employee_salary,\n",
    "    mgr.salary AS manager_salary\n",
    "  FROM\n",
    "    employee AS mgr\n",
    "    INNER JOIN employee AS emp ON mgr.employee_id = emp.manager_id\n",
    ")\n",
    "SELECT\n",
    "  employee_id,\n",
    "  employee_name\n",
    "FROM\n",
    "  ManagerEmployee\n",
    "WHERE\n",
    "  employee_salary > manager_salary;"
   ]
  },
  {
   "cell_type": "code",
   "execution_count": 0,
   "metadata": {
    "application/vnd.databricks.v1+cell": {
     "cellMetadata": {
      "byteLimit": 2048000,
      "rowLimit": 10000
     },
     "inputWidgets": {},
     "nuid": "b49197fc-64b5-4052-92d5-16e64689f699",
     "showTitle": false,
     "tableResultSettingsMap": {},
     "title": ""
    }
   },
   "outputs": [
    {
     "output_type": "display_data",
     "data": {
      "text/html": [
       "<style scoped>\n",
       "  .table-result-container {\n",
       "    max-height: 300px;\n",
       "    overflow: auto;\n",
       "  }\n",
       "  table, th, td {\n",
       "    border: 1px solid black;\n",
       "    border-collapse: collapse;\n",
       "  }\n",
       "  th, td {\n",
       "    padding: 5px;\n",
       "  }\n",
       "  th {\n",
       "    text-align: left;\n",
       "  }\n",
       "</style><div class='table-result-container'><table class='table-result'><thead style='background-color: white'><tr><th>employee_id</th><th>employee_name</th></tr></thead><tbody><tr><td>3</td><td>Olivia Smith</td></tr><tr><td>12</td><td>Benjamin Hernandez</td></tr></tbody></table></div>"
      ]
     },
     "metadata": {
      "application/vnd.databricks.v1+output": {
       "addedWidgets": {},
       "aggData": [],
       "aggError": "",
       "aggOverflow": false,
       "aggSchema": [],
       "aggSeriesLimitReached": false,
       "aggType": "",
       "arguments": {},
       "columnCustomDisplayInfos": {},
       "data": [
        [
         3,
         "Olivia Smith"
        ],
        [
         12,
         "Benjamin Hernandez"
        ]
       ],
       "datasetInfos": [],
       "dbfsResultPath": null,
       "isJsonSchema": true,
       "metadata": {},
       "overflow": false,
       "plotOptions": {
        "customPlotOptions": {},
        "displayType": "table",
        "pivotAggregation": null,
        "pivotColumns": null,
        "xColumns": null,
        "yColumns": null
       },
       "removedWidgets": [],
       "schema": [
        {
         "metadata": "{}",
         "name": "employee_id",
         "type": "\"long\""
        },
        {
         "metadata": "{}",
         "name": "employee_name",
         "type": "\"string\""
        }
       ],
       "type": "table"
      }
     },
     "output_type": "display_data"
    }
   ],
   "source": [
    "from pyspark.sql.functions import *\n",
    "\n",
    "# Join DataFrame with itself to compare employee and manager salaries\n",
    "result_df = (\n",
    "    df.alias(\"emp\")\n",
    "    .join(df.alias(\"mgr\"), col(\"emp.manager_id\") == col(\"mgr.employee_id\"))\n",
    "    .select(\n",
    "        col(\"emp.employee_id\").alias(\"employee_id\"),\n",
    "        col(\"emp.name\").alias(\"employee_name\"),\n",
    "    )\n",
    "    .filter(col(\"emp.salary\") > col(\"mgr.salary\"))\n",
    ")\n",
    "\n",
    "# Show the result\n",
    "result_df.display()"
   ]
  },
  {
   "cell_type": "markdown",
   "metadata": {
    "application/vnd.databricks.v1+cell": {
     "cellMetadata": {},
     "inputWidgets": {},
     "nuid": "a4fa827f-e015-49da-b422-578ae03165ea",
     "showTitle": false,
     "tableResultSettingsMap": {},
     "title": ""
    }
   },
   "source": [
    "Explanation:\n",
    "\n",
    "Data: A dataset is defined and converted into a DataFrame.\n",
    "\n",
    "Self-Join: The DataFrame is joined with itself (emp as employees and mgr as managers) based on the manager_id and employee_id.\n",
    "\n",
    "Select Columns: The select method retrieves the desired columns (employee ID and name).\n",
    "\n",
    "Filter Condition: The filter method applies the condition to get employees with salaries greater than their managers'.\n",
    "\n",
    "Display Result: Finally, the result is displayed using display().\n",
    "\n",
    "You can run this code in your PySpark environment, and it will give you the employees who earn more than their managers. If you have further questions or need modifications, let me know!"
   ]
  }
 ],
 "metadata": {
  "application/vnd.databricks.v1+notebook": {
   "dashboards": [],
   "environmentMetadata": null,
   "language": "python",
   "notebookMetadata": {
    "mostRecentlyExecutedCommandWithImplicitDF": {
     "commandId": 2879026051814838,
     "dataframes": [
      "_sqldf"
     ]
    },
    "pythonIndentUnit": 4
   },
   "notebookName": "Well Paid Employees",
   "widgets": {}
  }
 },
 "nbformat": 4,
 "nbformat_minor": 0
}
