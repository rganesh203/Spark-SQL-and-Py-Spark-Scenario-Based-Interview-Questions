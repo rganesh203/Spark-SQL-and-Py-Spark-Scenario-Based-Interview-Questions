{
 "cells": [
  {
   "cell_type": "markdown",
   "metadata": {
    "application/vnd.databricks.v1+cell": {
     "cellMetadata": {},
     "inputWidgets": {},
     "nuid": "e12f7299-c88b-4a01-9480-dff497de257b",
     "showTitle": false,
     "title": ""
    }
   },
   "source": [
    "Problem Statement:\n",
    "\n",
    "We have two datasets: one for employees and one for departments. Your task is to calculate the difference between the maximum salaries in the 'engineering' and 'marketing' departments.\n",
    "\n",
    "Employee Dataset:\n",
    "\n",
    "id: Unique identifier for each employee.\n",
    "first_name: Employee's first name.\n",
    "last_name: Employee's last name.\n",
    "salary: Employee's salary.\n",
    "department_id: Foreign key to the department the employee belongs to.\n",
    "\n",
    "Department Dataset:\n",
    "\n",
    "id: Unique identifier for each department.\n",
    "department: Name of the department.\n",
    "Write a query that calculates the difference between the highest salaries found in the marketing and engineering departments. Output just the absolute difference in salaries."
   ]
  },
  {
   "cell_type": "code",
   "execution_count": 0,
   "metadata": {
    "application/vnd.databricks.v1+cell": {
     "cellMetadata": {
      "byteLimit": 2048000,
      "rowLimit": 10000
     },
     "inputWidgets": {},
     "nuid": "84163f20-3378-4317-b131-285731378c55",
     "showTitle": false,
     "title": ""
    }
   },
   "outputs": [
    {
     "output_type": "display_data",
     "data": {
      "text/html": [
       "<style scoped>\n",
       "  .table-result-container {\n",
       "    max-height: 300px;\n",
       "    overflow: auto;\n",
       "  }\n",
       "  table, th, td {\n",
       "    border: 1px solid black;\n",
       "    border-collapse: collapse;\n",
       "  }\n",
       "  th, td {\n",
       "    padding: 5px;\n",
       "  }\n",
       "  th {\n",
       "    text-align: left;\n",
       "  }\n",
       "</style><div class='table-result-container'><table class='table-result'><thead style='background-color: white'><tr><th>id</th><th>first_name</th><th>last_name</th><th>salary</th><th>department_id</th></tr></thead><tbody><tr><td>1</td><td>John</td><td>Doe</td><td>60000</td><td>1</td></tr><tr><td>2</td><td>Jane</td><td>Smith</td><td>55000</td><td>2</td></tr><tr><td>3</td><td>Emily</td><td>Johnson</td><td>70000</td><td>1</td></tr><tr><td>4</td><td>Michael</td><td>Brown</td><td>80000</td><td>3</td></tr><tr><td>5</td><td>Chris</td><td>Davis</td><td>45000</td><td>4</td></tr><tr><td>6</td><td>Anna</td><td>Wilson</td><td>52000</td><td>5</td></tr></tbody></table></div>"
      ]
     },
     "metadata": {
      "application/vnd.databricks.v1+output": {
       "addedWidgets": {},
       "aggData": [],
       "aggError": "",
       "aggOverflow": false,
       "aggSchema": [],
       "aggSeriesLimitReached": false,
       "aggType": "",
       "arguments": {},
       "columnCustomDisplayInfos": {},
       "data": [
        [
         1,
         "John",
         "Doe",
         60000,
         1
        ],
        [
         2,
         "Jane",
         "Smith",
         55000,
         2
        ],
        [
         3,
         "Emily",
         "Johnson",
         70000,
         1
        ],
        [
         4,
         "Michael",
         "Brown",
         80000,
         3
        ],
        [
         5,
         "Chris",
         "Davis",
         45000,
         4
        ],
        [
         6,
         "Anna",
         "Wilson",
         52000,
         5
        ]
       ],
       "datasetInfos": [],
       "dbfsResultPath": null,
       "isJsonSchema": true,
       "metadata": {},
       "overflow": false,
       "plotOptions": {
        "customPlotOptions": {},
        "displayType": "table",
        "pivotAggregation": null,
        "pivotColumns": null,
        "xColumns": null,
        "yColumns": null
       },
       "removedWidgets": [],
       "schema": [
        {
         "metadata": "{}",
         "name": "id",
         "type": "\"integer\""
        },
        {
         "metadata": "{}",
         "name": "first_name",
         "type": "\"string\""
        },
        {
         "metadata": "{}",
         "name": "last_name",
         "type": "\"string\""
        },
        {
         "metadata": "{}",
         "name": "salary",
         "type": "\"integer\""
        },
        {
         "metadata": "{}",
         "name": "department_id",
         "type": "\"integer\""
        }
       ],
       "type": "table"
      }
     },
     "output_type": "display_data"
    },
    {
     "output_type": "display_data",
     "data": {
      "text/html": [
       "<style scoped>\n",
       "  .table-result-container {\n",
       "    max-height: 300px;\n",
       "    overflow: auto;\n",
       "  }\n",
       "  table, th, td {\n",
       "    border: 1px solid black;\n",
       "    border-collapse: collapse;\n",
       "  }\n",
       "  th, td {\n",
       "    padding: 5px;\n",
       "  }\n",
       "  th {\n",
       "    text-align: left;\n",
       "  }\n",
       "</style><div class='table-result-container'><table class='table-result'><thead style='background-color: white'><tr><th>id</th><th>department</th></tr></thead><tbody><tr><td>1</td><td>engineering</td></tr><tr><td>2</td><td>human resource</td></tr><tr><td>3</td><td>operation</td></tr><tr><td>4</td><td>marketing</td></tr><tr><td>5</td><td>sales</td></tr><tr><td>6</td><td>customer care</td></tr></tbody></table></div>"
      ]
     },
     "metadata": {
      "application/vnd.databricks.v1+output": {
       "addedWidgets": {},
       "aggData": [],
       "aggError": "",
       "aggOverflow": false,
       "aggSchema": [],
       "aggSeriesLimitReached": false,
       "aggType": "",
       "arguments": {},
       "columnCustomDisplayInfos": {},
       "data": [
        [
         1,
         "engineering"
        ],
        [
         2,
         "human resource"
        ],
        [
         3,
         "operation"
        ],
        [
         4,
         "marketing"
        ],
        [
         5,
         "sales"
        ],
        [
         6,
         "customer care"
        ]
       ],
       "datasetInfos": [],
       "dbfsResultPath": null,
       "isJsonSchema": true,
       "metadata": {},
       "overflow": false,
       "plotOptions": {
        "customPlotOptions": {},
        "displayType": "table",
        "pivotAggregation": null,
        "pivotColumns": null,
        "xColumns": null,
        "yColumns": null
       },
       "removedWidgets": [],
       "schema": [
        {
         "metadata": "{}",
         "name": "id",
         "type": "\"integer\""
        },
        {
         "metadata": "{}",
         "name": "department",
         "type": "\"string\""
        }
       ],
       "type": "table"
      }
     },
     "output_type": "display_data"
    }
   ],
   "source": [
    "from pyspark.sql.types import *\n",
    "\n",
    "# Employee Data\n",
    "employee_data = [\n",
    "    (1, \"John\", \"Doe\", 60000, 1),\n",
    "    (2, \"Jane\", \"Smith\", 55000, 2),\n",
    "    (3, \"Emily\", \"Johnson\", 70000, 1),\n",
    "    (4, \"Michael\", \"Brown\", 80000, 3),\n",
    "    (5, \"Chris\", \"Davis\", 45000, 4),\n",
    "    (6, \"Anna\", \"Wilson\", 52000, 5),\n",
    "]\n",
    "\n",
    "employee_schema = StructType(\n",
    "    [\n",
    "        StructField(\"id\", IntegerType(), True),\n",
    "        StructField(\"first_name\", StringType(), True),\n",
    "        StructField(\"last_name\", StringType(), True),\n",
    "        StructField(\"salary\", IntegerType(), True),\n",
    "        StructField(\"department_id\", IntegerType(), True),\n",
    "    ]\n",
    ")\n",
    "\n",
    "employee_df = spark.createDataFrame(employee_data, schema=employee_schema)\n",
    "\n",
    "# Department Data\n",
    "department_data = [\n",
    "    (1, \"engineering\"),\n",
    "    (2, \"human resource\"),\n",
    "    (3, \"operation\"),\n",
    "    (4, \"marketing\"),\n",
    "    (5, \"sales\"),\n",
    "    (6, \"customer care\"),\n",
    "]\n",
    "\n",
    "department_schema = StructType(\n",
    "    [\n",
    "        StructField(\"id\", IntegerType(), True),\n",
    "        StructField(\"department\", StringType(), True),\n",
    "    ]\n",
    ")\n",
    "\n",
    "department_df = spark.createDataFrame(department_data, schema=department_schema)\n",
    "\n",
    "# Show both DataFrames\n",
    "employee_df.display()\n",
    "department_df.display()"
   ]
  },
  {
   "cell_type": "code",
   "execution_count": 0,
   "metadata": {
    "application/vnd.databricks.v1+cell": {
     "cellMetadata": {
      "byteLimit": 2048000,
      "rowLimit": 10000
     },
     "inputWidgets": {},
     "nuid": "1b428bdd-3899-45e1-aeda-e4f0db94fdf0",
     "showTitle": false,
     "title": ""
    }
   },
   "outputs": [],
   "source": [
    "employee_df.createOrReplaceTempView(\"employee\")\n",
    "department_df.createOrReplaceTempView(\"dept\")"
   ]
  },
  {
   "cell_type": "code",
   "execution_count": 0,
   "metadata": {
    "application/vnd.databricks.v1+cell": {
     "cellMetadata": {
      "byteLimit": 2048000,
      "implicitDf": true,
      "rowLimit": 10000
     },
     "inputWidgets": {},
     "nuid": "6c9f4a71-d0fd-4acb-aded-b9fac8ca531d",
     "showTitle": false,
     "title": ""
    }
   },
   "outputs": [
    {
     "output_type": "display_data",
     "data": {
      "text/html": [
       "<style scoped>\n",
       "  .table-result-container {\n",
       "    max-height: 300px;\n",
       "    overflow: auto;\n",
       "  }\n",
       "  table, th, td {\n",
       "    border: 1px solid black;\n",
       "    border-collapse: collapse;\n",
       "  }\n",
       "  th, td {\n",
       "    padding: 5px;\n",
       "  }\n",
       "  th {\n",
       "    text-align: left;\n",
       "  }\n",
       "</style><div class='table-result-container'><table class='table-result'><thead style='background-color: white'><tr><th>Diff</th></tr></thead><tbody><tr><td>25000</td></tr></tbody></table></div>"
      ]
     },
     "metadata": {
      "application/vnd.databricks.v1+output": {
       "addedWidgets": {},
       "aggData": [],
       "aggError": "",
       "aggOverflow": false,
       "aggSchema": [],
       "aggSeriesLimitReached": false,
       "aggType": "",
       "arguments": {},
       "columnCustomDisplayInfos": {},
       "data": [
        [
         25000
        ]
       ],
       "datasetInfos": [],
       "dbfsResultPath": null,
       "isJsonSchema": true,
       "metadata": {},
       "overflow": false,
       "plotOptions": {
        "customPlotOptions": {},
        "displayType": "table",
        "pivotAggregation": null,
        "pivotColumns": null,
        "xColumns": null,
        "yColumns": null
       },
       "removedWidgets": [],
       "schema": [
        {
         "metadata": "{}",
         "name": "Diff",
         "type": "\"integer\""
        }
       ],
       "type": "table"
      }
     },
     "output_type": "display_data"
    }
   ],
   "source": [
    "%sql\n",
    "With CTE as (\n",
    "  select\n",
    "    D.department,\n",
    "    max(salary) as Max_Salary\n",
    "  from\n",
    "    employee E\n",
    "    Join dept D on E.department_id = D.id\n",
    "  Where\n",
    "    D.department in ('engineering', 'marketing')\n",
    "  Group by\n",
    "    D.department\n",
    ")\n",
    "Select\n",
    "  Max(max_salary) - Min(max_salary) as Diff\n",
    "From\n",
    "  CTE"
   ]
  },
  {
   "cell_type": "code",
   "execution_count": 0,
   "metadata": {
    "application/vnd.databricks.v1+cell": {
     "cellMetadata": {
      "byteLimit": 2048000,
      "rowLimit": 10000
     },
     "inputWidgets": {},
     "nuid": "14e6bddc-0377-4b4a-8096-fbff7dd6d7cc",
     "showTitle": false,
     "title": ""
    }
   },
   "outputs": [
    {
     "output_type": "display_data",
     "data": {
      "text/html": [
       "<style scoped>\n",
       "  .table-result-container {\n",
       "    max-height: 300px;\n",
       "    overflow: auto;\n",
       "  }\n",
       "  table, th, td {\n",
       "    border: 1px solid black;\n",
       "    border-collapse: collapse;\n",
       "  }\n",
       "  th, td {\n",
       "    padding: 5px;\n",
       "  }\n",
       "  th {\n",
       "    text-align: left;\n",
       "  }\n",
       "</style><div class='table-result-container'><table class='table-result'><thead style='background-color: white'><tr><th>(max(Max_Salary) - min(Max_Salary))</th></tr></thead><tbody><tr><td>25000</td></tr></tbody></table></div>"
      ]
     },
     "metadata": {
      "application/vnd.databricks.v1+output": {
       "addedWidgets": {},
       "aggData": [],
       "aggError": "",
       "aggOverflow": false,
       "aggSchema": [],
       "aggSeriesLimitReached": false,
       "aggType": "",
       "arguments": {},
       "columnCustomDisplayInfos": {},
       "data": [
        [
         25000
        ]
       ],
       "datasetInfos": [],
       "dbfsResultPath": null,
       "isJsonSchema": true,
       "metadata": {},
       "overflow": false,
       "plotOptions": {
        "customPlotOptions": {},
        "displayType": "table",
        "pivotAggregation": null,
        "pivotColumns": null,
        "xColumns": null,
        "yColumns": null
       },
       "removedWidgets": [],
       "schema": [
        {
         "metadata": "{}",
         "name": "(max(Max_Salary) - min(Max_Salary))",
         "type": "\"integer\""
        }
       ],
       "type": "table"
      }
     },
     "output_type": "display_data"
    }
   ],
   "source": [
    "from pyspark.sql.functions import *\n",
    "\n",
    "# Step 1: Join Employee and Department DataFrames\n",
    "joined_df = employee_df.join(\n",
    "    department_df, employee_df.department_id == department_df.id\n",
    ")\n",
    "# Step 2: Filter by departments 'engineering' and 'marketing'\n",
    "filtered_df = joined_df.filter(\n",
    "    department_df.department.isin(\"engineering\", \"marketing\")\n",
    ")\n",
    "# Step 3: Group by department and calculate the maximum salary for each department\n",
    "max_salary_df = filtered_df.groupBy(department_df.department).agg(\n",
    "    max(\"salary\").alias(\"Max_Salary\")\n",
    ")\n",
    "# Step 4: Find the difference between max and min salaries from the grouped result\n",
    "salary_diff_df = max_salary_df.agg(max(\"Max_Salary\") - min(\"Max_Salary\")).alias(\"Diff\")\n",
    "# Display the result\n",
    "salary_diff_df.display()"
   ]
  },
  {
   "cell_type": "markdown",
   "metadata": {
    "application/vnd.databricks.v1+cell": {
     "cellMetadata": {},
     "inputWidgets": {},
     "nuid": "109ac5b1-a493-49eb-a308-41225ffb9250",
     "showTitle": false,
     "title": ""
    }
   },
   "source": [
    "Expected Output:\n",
    "\n",
    "The difference between the highest salary in 'engineering' and the highest salary in 'marketing'."
   ]
  },
  {
   "cell_type": "markdown",
   "metadata": {
    "application/vnd.databricks.v1+cell": {
     "cellMetadata": {},
     "inputWidgets": {},
     "nuid": "46c8f9eb-ae75-4aba-9c58-42116a8a1612",
     "showTitle": false,
     "title": ""
    }
   },
   "source": [
    "Breakdown:\n",
    "\n",
    "joined_df: Joins the employee and department DataFrames on department_id.\n",
    "\n",
    "filtered_df: Filters the departments to only include 'engineering' and 'marketing'.\n",
    "\n",
    "max_salary_df: Groups the data by department and computes the maximum salary for each.\n",
    "\n",
    "salary_diff_df: Aggregates to find the difference between the max and min of the maximum salaries."
   ]
  }
 ],
 "metadata": {
  "application/vnd.databricks.v1+notebook": {
   "dashboards": [],
   "environmentMetadata": null,
   "language": "python",
   "notebookMetadata": {
    "mostRecentlyExecutedCommandWithImplicitDF": {
     "commandId": 2432328068778741,
     "dataframes": [
      "_sqldf"
     ]
    },
    "pythonIndentUnit": 4
   },
   "notebookName": "LinkedIn and DropBox SQL Interview Question",
   "widgets": {}
  }
 },
 "nbformat": 4,
 "nbformat_minor": 0
}
