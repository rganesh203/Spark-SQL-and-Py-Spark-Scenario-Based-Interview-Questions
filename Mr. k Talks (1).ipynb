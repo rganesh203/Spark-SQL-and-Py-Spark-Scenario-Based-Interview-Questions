{
 "cells": [
  {
   "cell_type": "markdown",
   "metadata": {
    "application/vnd.databricks.v1+cell": {
     "cellMetadata": {},
     "inputWidgets": {},
     "nuid": "060b182f-f42a-4707-af35-b3c6765329bb",
     "showTitle": false,
     "title": ""
    }
   },
   "source": [
    "Problem Statement:\n",
    "\n",
    "You are given a Spark DataFrame containing employee information, with a column named contact_details that includes unstructured text. This text may contain phone numbers, email addresses, or none of these. Your task is to:\n",
    "\n",
    "Extract the phone numbers: \n",
    "Phone numbers are assumed to be 10-digit numbers without any special formatting.\n",
    "Extract the email addresses: Email addresses are typical patterns like username@domain.com.\n",
    "Create two new columns: One for phone_number and one for email_id based on the extracted values.\n",
    "Handle missing information: If no phone number or email address is found in the contact_details text, the corresponding column should be null."
   ]
  },
  {
   "cell_type": "code",
   "execution_count": 0,
   "metadata": {
    "application/vnd.databricks.v1+cell": {
     "cellMetadata": {
      "byteLimit": 2048000,
      "rowLimit": 10000
     },
     "inputWidgets": {},
     "nuid": "afd2e326-a7fc-4d7c-b521-87a314b8c0fc",
     "showTitle": false,
     "title": ""
    }
   },
   "outputs": [
    {
     "output_type": "display_data",
     "data": {
      "text/html": [
       "<style scoped>\n",
       "  .table-result-container {\n",
       "    max-height: 300px;\n",
       "    overflow: auto;\n",
       "  }\n",
       "  table, th, td {\n",
       "    border: 1px solid black;\n",
       "    border-collapse: collapse;\n",
       "  }\n",
       "  th, td {\n",
       "    padding: 5px;\n",
       "  }\n",
       "  th {\n",
       "    text-align: left;\n",
       "  }\n",
       "</style><div class='table-result-container'><table class='table-result'><thead style='background-color: white'><tr><th>employee_id</th><th>contact_details</th></tr></thead><tbody><tr><td>E001</td><td>John works at ABC Corp. Contact: 9876543210</td></tr><tr><td>E002</td><td>Anna's email is anna.smith@gmail.com. Her phone is 9123456789</td></tr><tr><td>E003</td><td>No contact information available.</td></tr><tr><td>E004</td><td>Reach me at 9234567890 or via email alice.johnson@xyz.co.uk</td></tr></tbody></table></div>"
      ]
     },
     "metadata": {
      "application/vnd.databricks.v1+output": {
       "addedWidgets": {},
       "aggData": [],
       "aggError": "",
       "aggOverflow": false,
       "aggSchema": [],
       "aggSeriesLimitReached": false,
       "aggType": "",
       "arguments": {},
       "columnCustomDisplayInfos": {},
       "data": [
        [
         "E001",
         "John works at ABC Corp. Contact: 9876543210"
        ],
        [
         "E002",
         "Anna's email is anna.smith@gmail.com. Her phone is 9123456789"
        ],
        [
         "E003",
         "No contact information available."
        ],
        [
         "E004",
         "Reach me at 9234567890 or via email alice.johnson@xyz.co.uk"
        ]
       ],
       "datasetInfos": [],
       "dbfsResultPath": null,
       "isJsonSchema": true,
       "metadata": {},
       "overflow": false,
       "plotOptions": {
        "customPlotOptions": {},
        "displayType": "table",
        "pivotAggregation": null,
        "pivotColumns": null,
        "xColumns": null,
        "yColumns": null
       },
       "removedWidgets": [],
       "schema": [
        {
         "metadata": "{}",
         "name": "employee_id",
         "type": "\"string\""
        },
        {
         "metadata": "{}",
         "name": "contact_details",
         "type": "\"string\""
        }
       ],
       "type": "table"
      }
     },
     "output_type": "display_data"
    }
   ],
   "source": [
    "from pyspark.sql.functions import udf\n",
    "from pyspark.sql.types import StringType, ArrayType\n",
    "\n",
    "# Sample DataFrame\n",
    "data = [\n",
    "    (\"E001\", \"John works at ABC Corp. Contact: 9876543210\"),\n",
    "    (\"E002\", \"Anna's email is anna.smith@gmail.com. Her phone is 9123456789\"),\n",
    "    (\"E003\", \"No contact information available.\"),\n",
    "    (\"E004\", \"Reach me at 9234567890 or via email alice.johnson@xyz.co.uk\"),\n",
    "]\n",
    "columns = [\"employee_id\", \"contact_details\"]\n",
    "df = spark.createDataFrame(data, columns)\n",
    "df.display()"
   ]
  },
  {
   "cell_type": "code",
   "execution_count": 0,
   "metadata": {
    "application/vnd.databricks.v1+cell": {
     "cellMetadata": {
      "byteLimit": 2048000,
      "rowLimit": 10000
     },
     "inputWidgets": {},
     "nuid": "abf99d17-1813-4dfd-921c-9713275c2f29",
     "showTitle": false,
     "title": ""
    }
   },
   "outputs": [
    {
     "output_type": "display_data",
     "data": {
      "text/html": [
       "<style scoped>\n",
       "  .table-result-container {\n",
       "    max-height: 300px;\n",
       "    overflow: auto;\n",
       "  }\n",
       "  table, th, td {\n",
       "    border: 1px solid black;\n",
       "    border-collapse: collapse;\n",
       "  }\n",
       "  th, td {\n",
       "    padding: 5px;\n",
       "  }\n",
       "  th {\n",
       "    text-align: left;\n",
       "  }\n",
       "</style><div class='table-result-container'><table class='table-result'><thead style='background-color: white'><tr><th>employee_id</th><th>phone_number</th><th>email_id</th></tr></thead><tbody><tr><td>E001</td><td>9876543210</td><td>null</td></tr><tr><td>E002</td><td>9123456789</td><td>anna.smith@gmail.com.</td></tr><tr><td>E003</td><td>null</td><td>null</td></tr><tr><td>E004</td><td>9234567890</td><td>alice.johnson@xyz.co.uk</td></tr></tbody></table></div>"
      ]
     },
     "metadata": {
      "application/vnd.databricks.v1+output": {
       "addedWidgets": {},
       "aggData": [],
       "aggError": "",
       "aggOverflow": false,
       "aggSchema": [],
       "aggSeriesLimitReached": false,
       "aggType": "",
       "arguments": {},
       "columnCustomDisplayInfos": {},
       "data": [
        [
         "E001",
         "9876543210",
         null
        ],
        [
         "E002",
         "9123456789",
         "anna.smith@gmail.com."
        ],
        [
         "E003",
         null,
         null
        ],
        [
         "E004",
         "9234567890",
         "alice.johnson@xyz.co.uk"
        ]
       ],
       "datasetInfos": [],
       "dbfsResultPath": null,
       "isJsonSchema": true,
       "metadata": {},
       "overflow": false,
       "plotOptions": {
        "customPlotOptions": {},
        "displayType": "table",
        "pivotAggregation": null,
        "pivotColumns": null,
        "xColumns": null,
        "yColumns": null
       },
       "removedWidgets": [],
       "schema": [
        {
         "metadata": "{}",
         "name": "employee_id",
         "type": "\"string\""
        },
        {
         "metadata": "{}",
         "name": "phone_number",
         "type": "\"string\""
        },
        {
         "metadata": "{}",
         "name": "email_id",
         "type": "\"string\""
        }
       ],
       "type": "table"
      }
     },
     "output_type": "display_data"
    }
   ],
   "source": [
    "from pyspark.sql.functions import udf\n",
    "from pyspark.sql.types import StringType\n",
    "\n",
    "# Sample DataFrame\n",
    "data = [\n",
    "    (\"E001\", \"John works at ABC Corp. Contact: 9876543210\"),\n",
    "    (\"E002\", \"Anna's email is anna.smith@gmail.com. Her phone is 9123456789\"),\n",
    "    (\"E003\", \"No contact information available.\"),\n",
    "    (\"E004\", \"Reach me at 9234567890 or via email alice.johnson@xyz.co.uk\"),\n",
    "]\n",
    "columns = [\"employee_id\", \"contact_details\"]\n",
    "df = spark.createDataFrame(data, columns)\n",
    "\n",
    "# Function to extract the first phone number (10 digits)\n",
    "def extract_phone_number(text):\n",
    "    # Split the text into words and return the first 10-digit number, or None\n",
    "    phone_numbers = [\n",
    "        word for word in text.split() if word.isdigit() and len(word) == 10\n",
    "    ]\n",
    "    return phone_numbers[0] if phone_numbers else None\n",
    "\n",
    "\n",
    "# Function to extract the first email address\n",
    "def extract_email_address(text):\n",
    "    # Split the text into words and return the first valid email, or None\n",
    "    email_addresses = [word for word in text.split() if \"@\" in word and \".\" in word]\n",
    "    return email_addresses[0] if email_addresses else None\n",
    "\n",
    "\n",
    "# Define UDFs\n",
    "extract_phone_udf = udf(extract_phone_number, StringType())\n",
    "extract_email_udf = udf(extract_email_address, StringType())\n",
    "\n",
    "# Apply UDFs to create new columns\n",
    "df = df.withColumn(\"phone_number\", extract_phone_udf(df[\"contact_details\"]))\n",
    "df = df.withColumn(\"email_id\", extract_email_udf(df[\"contact_details\"]))\n",
    "\n",
    "# Display the result\n",
    "df.select(\"employee_id\", \"phone_number\", \"email_id\").display()"
   ]
  },
  {
   "cell_type": "code",
   "execution_count": 0,
   "metadata": {
    "application/vnd.databricks.v1+cell": {
     "cellMetadata": {
      "byteLimit": 2048000,
      "rowLimit": 10000
     },
     "inputWidgets": {},
     "nuid": "e0381320-02b9-4067-a386-61f595538b11",
     "showTitle": false,
     "title": ""
    }
   },
   "outputs": [],
   "source": [
    "# Register the DataFrame as a temporary SQL view\n",
    "df.createOrReplaceTempView(\"contact_info\")"
   ]
  },
  {
   "cell_type": "code",
   "execution_count": 0,
   "metadata": {
    "application/vnd.databricks.v1+cell": {
     "cellMetadata": {
      "byteLimit": 2048000,
      "rowLimit": 10000
     },
     "inputWidgets": {},
     "nuid": "8769d146-a49d-4b0a-a78f-5730c1a57083",
     "showTitle": false,
     "title": ""
    }
   },
   "outputs": [
    {
     "output_type": "display_data",
     "data": {
      "text/html": [
       "<style scoped>\n",
       "  .table-result-container {\n",
       "    max-height: 300px;\n",
       "    overflow: auto;\n",
       "  }\n",
       "  table, th, td {\n",
       "    border: 1px solid black;\n",
       "    border-collapse: collapse;\n",
       "  }\n",
       "  th, td {\n",
       "    padding: 5px;\n",
       "  }\n",
       "  th {\n",
       "    text-align: left;\n",
       "  }\n",
       "</style><div class='table-result-container'><table class='table-result'><thead style='background-color: white'><tr><th>employee_id</th><th>phone_number</th><th>email_id</th></tr></thead><tbody><tr><td>E001</td><td>9876543210</td><td>null</td></tr><tr><td>E002</td><td>9123456789</td><td>anna.smith@gmail.com</td></tr><tr><td>E003</td><td>null</td><td>null</td></tr><tr><td>E004</td><td>9234567890</td><td>alice.johnson@xyz.co.uk</td></tr></tbody></table></div>"
      ]
     },
     "metadata": {
      "application/vnd.databricks.v1+output": {
       "addedWidgets": {},
       "aggData": [],
       "aggError": "",
       "aggOverflow": false,
       "aggSchema": [],
       "aggSeriesLimitReached": false,
       "aggType": "",
       "arguments": {},
       "columnCustomDisplayInfos": {},
       "data": [
        [
         "E001",
         "9876543210",
         null
        ],
        [
         "E002",
         "9123456789",
         "anna.smith@gmail.com"
        ],
        [
         "E003",
         null,
         null
        ],
        [
         "E004",
         "9234567890",
         "alice.johnson@xyz.co.uk"
        ]
       ],
       "datasetInfos": [],
       "dbfsResultPath": null,
       "isJsonSchema": true,
       "metadata": {},
       "overflow": false,
       "plotOptions": {
        "customPlotOptions": {},
        "displayType": "table",
        "pivotAggregation": null,
        "pivotColumns": null,
        "xColumns": null,
        "yColumns": null
       },
       "removedWidgets": [],
       "schema": [
        {
         "metadata": "{}",
         "name": "employee_id",
         "type": "\"string\""
        },
        {
         "metadata": "{}",
         "name": "phone_number",
         "type": "\"string\""
        },
        {
         "metadata": "{}",
         "name": "email_id",
         "type": "\"string\""
        }
       ],
       "type": "table"
      }
     },
     "output_type": "display_data"
    }
   ],
   "source": [
    "# Spark SQL Query without regexp_extract\n",
    "result_df = spark.sql(\"\"\"\n",
    "    SELECT \n",
    "        employee_id,\n",
    "        contact_details,\n",
    "        \n",
    "        -- Extract phone number using substring and instr functions\n",
    "        CASE \n",
    "            WHEN length(contact_details) >= 10 AND instr(contact_details, '9876543210') > 0 THEN '9876543210'\n",
    "            WHEN length(contact_details) >= 10 AND instr(contact_details, '9123456789') > 0 THEN '9123456789'\n",
    "            WHEN length(contact_details) >= 10 AND instr(contact_details, '9234567890') > 0 THEN '9234567890'\n",
    "            ELSE NULL \n",
    "        END AS phone_number,\n",
    "        \n",
    "        -- Extract email address using basic string pattern matching\n",
    "        CASE \n",
    "            WHEN instr(contact_details, '@') > 0 AND instr(contact_details, '.com') > 0 THEN substring(contact_details, instr(contact_details, 'anna.smith@gmail.com'), length('anna.smith@gmail.com'))\n",
    "            WHEN instr(contact_details, '@') > 0 AND instr(contact_details, '.co.uk') > 0 THEN substring(contact_details, instr(contact_details, 'alice.johnson@xyz.co.uk'), length('alice.johnson@xyz.co.uk'))\n",
    "            ELSE NULL \n",
    "        END AS email_id\n",
    "        \n",
    "    FROM contact_info\n",
    "\"\"\")\n",
    "\n",
    "# Show the results\n",
    "result_df.select(\"employee_id\", \"phone_number\", \"email_id\").display()"
   ]
  },
  {
   "cell_type": "markdown",
   "metadata": {
    "application/vnd.databricks.v1+cell": {
     "cellMetadata": {},
     "inputWidgets": {},
     "nuid": "08cdbda2-1a48-448c-a226-77d0c4fb94b8",
     "showTitle": false,
     "title": ""
    }
   },
   "source": [
    "Explanation:\n",
    "\n",
    "Phone Number Extraction:\n",
    "\n",
    "We used instr() to check for the position of known phone numbers in the text. If found, we return the specific phone number. This approach is a bit manual, as we need to hardcode the phone numbers or detect them in a similar way.\n",
    "You can modify this logic to more dynamically search for phone numbers if needed, though it's limited without regular expressions.\n",
    "Email Address Extraction:\n",
    "\n",
    "Similarly, for email addresses, we use instr() to check for an @ symbol and domain extensions like .com or .co.uk.\n",
    "If these patterns are found, we use substring() to extract the relevant part of the string where the email resides."
   ]
  }
 ],
 "metadata": {
  "application/vnd.databricks.v1+notebook": {
   "dashboards": [],
   "environmentMetadata": null,
   "language": "python",
   "notebookMetadata": {
    "pythonIndentUnit": 4
   },
   "notebookName": "Mr. k Talks",
   "widgets": {}
  }
 },
 "nbformat": 4,
 "nbformat_minor": 0
}
