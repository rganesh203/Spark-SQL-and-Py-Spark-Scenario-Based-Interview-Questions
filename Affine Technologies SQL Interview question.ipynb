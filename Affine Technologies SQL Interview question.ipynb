{
 "cells": [
  {
   "cell_type": "markdown",
   "metadata": {
    "application/vnd.databricks.v1+cell": {
     "cellMetadata": {},
     "inputWidgets": {},
     "nuid": "8df20c18-8358-4b05-ac58-eb9ff307d01e",
     "showTitle": false,
     "title": ""
    }
   },
   "source": [
    "Problem Statement:\n",
    "\n",
    "To find the 2nd Wednesday of the current month and display it in Spark SQL with the columns DayDate, Weekday, and RowNum, you can use the following SQL query. This query will generate all dates for the current month, identify Wednesdays, rank them, and select the 2nd Wednesday..."
   ]
  },
  {
   "cell_type": "code",
   "execution_count": 0,
   "metadata": {
    "application/vnd.databricks.v1+cell": {
     "cellMetadata": {
      "byteLimit": 2048000,
      "rowLimit": 10000
     },
     "inputWidgets": {},
     "nuid": "0c7206d5-117e-418d-b931-8ce11925a9f0",
     "showTitle": false,
     "title": ""
    }
   },
   "outputs": [
    {
     "output_type": "display_data",
     "data": {
      "text/html": [
       "<style scoped>\n",
       "  .table-result-container {\n",
       "    max-height: 300px;\n",
       "    overflow: auto;\n",
       "  }\n",
       "  table, th, td {\n",
       "    border: 1px solid black;\n",
       "    border-collapse: collapse;\n",
       "  }\n",
       "  th, td {\n",
       "    padding: 5px;\n",
       "  }\n",
       "  th {\n",
       "    text-align: left;\n",
       "  }\n",
       "</style><div class='table-result-container'><table class='table-result'><thead style='background-color: white'><tr><th>DayDate</th><th>Weekday</th></tr></thead><tbody><tr><td>2024-08-01</td><td>Thursday</td></tr><tr><td>2024-08-02</td><td>Friday</td></tr><tr><td>2024-08-03</td><td>Saturday</td></tr><tr><td>2024-08-04</td><td>Sunday</td></tr><tr><td>2024-08-05</td><td>Monday</td></tr><tr><td>2024-08-06</td><td>Tuesday</td></tr><tr><td>2024-08-07</td><td>Wednesday</td></tr><tr><td>2024-08-08</td><td>Thursday</td></tr><tr><td>2024-08-09</td><td>Friday</td></tr><tr><td>2024-08-10</td><td>Saturday</td></tr><tr><td>2024-08-11</td><td>Sunday</td></tr><tr><td>2024-08-12</td><td>Monday</td></tr><tr><td>2024-08-13</td><td>Tuesday</td></tr><tr><td>2024-08-14</td><td>Wednesday</td></tr><tr><td>2024-08-15</td><td>Thursday</td></tr><tr><td>2024-08-16</td><td>Friday</td></tr><tr><td>2024-08-17</td><td>Saturday</td></tr><tr><td>2024-08-18</td><td>Sunday</td></tr><tr><td>2024-08-19</td><td>Monday</td></tr><tr><td>2024-08-20</td><td>Tuesday</td></tr><tr><td>2024-08-21</td><td>Wednesday</td></tr><tr><td>2024-08-22</td><td>Thursday</td></tr><tr><td>2024-08-23</td><td>Friday</td></tr><tr><td>2024-08-24</td><td>Saturday</td></tr><tr><td>2024-08-25</td><td>Sunday</td></tr><tr><td>2024-08-26</td><td>Monday</td></tr><tr><td>2024-08-27</td><td>Tuesday</td></tr><tr><td>2024-08-28</td><td>Wednesday</td></tr><tr><td>2024-08-29</td><td>Thursday</td></tr><tr><td>2024-08-30</td><td>Friday</td></tr><tr><td>2024-08-31</td><td>Saturday</td></tr></tbody></table></div>"
      ]
     },
     "metadata": {
      "application/vnd.databricks.v1+output": {
       "addedWidgets": {},
       "aggData": [],
       "aggError": "",
       "aggOverflow": false,
       "aggSchema": [],
       "aggSeriesLimitReached": false,
       "aggType": "",
       "arguments": {},
       "columnCustomDisplayInfos": {},
       "data": [
        [
         "2024-08-01",
         "Thursday"
        ],
        [
         "2024-08-02",
         "Friday"
        ],
        [
         "2024-08-03",
         "Saturday"
        ],
        [
         "2024-08-04",
         "Sunday"
        ],
        [
         "2024-08-05",
         "Monday"
        ],
        [
         "2024-08-06",
         "Tuesday"
        ],
        [
         "2024-08-07",
         "Wednesday"
        ],
        [
         "2024-08-08",
         "Thursday"
        ],
        [
         "2024-08-09",
         "Friday"
        ],
        [
         "2024-08-10",
         "Saturday"
        ],
        [
         "2024-08-11",
         "Sunday"
        ],
        [
         "2024-08-12",
         "Monday"
        ],
        [
         "2024-08-13",
         "Tuesday"
        ],
        [
         "2024-08-14",
         "Wednesday"
        ],
        [
         "2024-08-15",
         "Thursday"
        ],
        [
         "2024-08-16",
         "Friday"
        ],
        [
         "2024-08-17",
         "Saturday"
        ],
        [
         "2024-08-18",
         "Sunday"
        ],
        [
         "2024-08-19",
         "Monday"
        ],
        [
         "2024-08-20",
         "Tuesday"
        ],
        [
         "2024-08-21",
         "Wednesday"
        ],
        [
         "2024-08-22",
         "Thursday"
        ],
        [
         "2024-08-23",
         "Friday"
        ],
        [
         "2024-08-24",
         "Saturday"
        ],
        [
         "2024-08-25",
         "Sunday"
        ],
        [
         "2024-08-26",
         "Monday"
        ],
        [
         "2024-08-27",
         "Tuesday"
        ],
        [
         "2024-08-28",
         "Wednesday"
        ],
        [
         "2024-08-29",
         "Thursday"
        ],
        [
         "2024-08-30",
         "Friday"
        ],
        [
         "2024-08-31",
         "Saturday"
        ]
       ],
       "datasetInfos": [],
       "dbfsResultPath": null,
       "isJsonSchema": true,
       "metadata": {},
       "overflow": false,
       "plotOptions": {
        "customPlotOptions": {},
        "displayType": "table",
        "pivotAggregation": null,
        "pivotColumns": null,
        "xColumns": null,
        "yColumns": null
       },
       "removedWidgets": [],
       "schema": [
        {
         "metadata": "{}",
         "name": "DayDate",
         "type": "\"string\""
        },
        {
         "metadata": "{}",
         "name": "Weekday",
         "type": "\"string\""
        }
       ],
       "type": "table"
      }
     },
     "output_type": "display_data"
    }
   ],
   "source": [
    "from pyspark.sql import SparkSession\n",
    "from pyspark.sql.functions import col, date_format, expr, row_number\n",
    "from pyspark.sql.window import Window\n",
    "from datetime import datetime, timedelta\n",
    "\n",
    "# Initialize Spark session\n",
    "spark = SparkSession.builder \\\n",
    "    .appName(\"Find 2nd Wednesday\") \\\n",
    "    .getOrCreate()\n",
    "\n",
    "# Define the current date and the first and last dates of the current month\n",
    "now = datetime.now()\n",
    "start_date = datetime(now.year, now.month, 1)\n",
    "end_date = (start_date + timedelta(days=31)).replace(day=1) - timedelta(days=1)\n",
    "\n",
    "# Generate a list of dates for the current month\n",
    "date_list = [(start_date + timedelta(days=x)).strftime('%Y-%m-%d') for x in range((end_date - start_date).days + 1)]\n",
    "\n",
    "# Create DataFrame from the list\n",
    "date_df = spark.createDataFrame([(date,) for date in date_list], [\"DayDate\"])\n",
    "\n",
    "# Add a column for the day of the week as a string\n",
    "date_df = date_df.withColumn(\"Weekday\", date_format(col(\"DayDate\"), \"EEEE\"))\n",
    "# Show the DataFrame to verify\n",
    "date_df.display()"
   ]
  },
  {
   "cell_type": "code",
   "execution_count": 0,
   "metadata": {
    "application/vnd.databricks.v1+cell": {
     "cellMetadata": {
      "byteLimit": 2048000,
      "rowLimit": 10000
     },
     "inputWidgets": {},
     "nuid": "000b1cd9-43e3-44aa-a013-50860d256cd0",
     "showTitle": false,
     "title": ""
    }
   },
   "outputs": [
    {
     "output_type": "display_data",
     "data": {
      "text/html": [
       "<style scoped>\n",
       "  .table-result-container {\n",
       "    max-height: 300px;\n",
       "    overflow: auto;\n",
       "  }\n",
       "  table, th, td {\n",
       "    border: 1px solid black;\n",
       "    border-collapse: collapse;\n",
       "  }\n",
       "  th, td {\n",
       "    padding: 5px;\n",
       "  }\n",
       "  th {\n",
       "    text-align: left;\n",
       "  }\n",
       "</style><div class='table-result-container'><table class='table-result'><thead style='background-color: white'><tr><th>DayDate</th><th>Weekday</th><th>RowNum</th></tr></thead><tbody><tr><td>2024-08-14</td><td>Wednesday</td><td>2</td></tr></tbody></table></div>"
      ]
     },
     "metadata": {
      "application/vnd.databricks.v1+output": {
       "addedWidgets": {},
       "aggData": [],
       "aggError": "",
       "aggOverflow": false,
       "aggSchema": [],
       "aggSeriesLimitReached": false,
       "aggType": "",
       "arguments": {},
       "columnCustomDisplayInfos": {},
       "data": [
        [
         "2024-08-14",
         "Wednesday",
         2
        ]
       ],
       "datasetInfos": [],
       "dbfsResultPath": null,
       "isJsonSchema": true,
       "metadata": {},
       "overflow": false,
       "plotOptions": {
        "customPlotOptions": {},
        "displayType": "table",
        "pivotAggregation": null,
        "pivotColumns": null,
        "xColumns": null,
        "yColumns": null
       },
       "removedWidgets": [],
       "schema": [
        {
         "metadata": "{}",
         "name": "DayDate",
         "type": "\"string\""
        },
        {
         "metadata": "{}",
         "name": "Weekday",
         "type": "\"string\""
        },
        {
         "metadata": "{}",
         "name": "RowNum",
         "type": "\"integer\""
        }
       ],
       "type": "table"
      }
     },
     "output_type": "display_data"
    }
   ],
   "source": [
    "# Add a column for the day of the week number (1 = Monday, ..., 7 = Sunday)\n",
    "date_df = date_df.withColumn(\"WeekDayNum\", expr(\"dayofweek(to_date(DayDate, 'yyyy-MM-dd'))\"))\n",
    "\n",
    "# Filter for Wednesdays (WeekDayNum = 4, since dayofweek function returns 1 for Sunday)\n",
    "wednesdays_df = date_df.filter(col(\"WeekDayNum\") == 4)  # 4 represents Wednesday\n",
    "\n",
    "# Rank Wednesdays and select the 2nd one\n",
    "window_spec = Window.orderBy(\"DayDate\")\n",
    "wednesdays_ranked_df = wednesdays_df.withColumn(\"RowNum\", row_number().over(window_spec))\n",
    "\n",
    "# Select the 2nd Wednesday\n",
    "second_wednesday_df = wednesdays_ranked_df.filter(col(\"RowNum\") == 2)\n",
    "\n",
    "# Show the result\n",
    "second_wednesday_df.select(\"DayDate\", \"Weekday\", \"RowNum\").display()"
   ]
  },
  {
   "cell_type": "code",
   "execution_count": 0,
   "metadata": {
    "application/vnd.databricks.v1+cell": {
     "cellMetadata": {
      "byteLimit": 2048000,
      "rowLimit": 10000
     },
     "inputWidgets": {},
     "nuid": "6860dc01-4369-453a-9bab-b6f3f43ec9ff",
     "showTitle": false,
     "title": ""
    }
   },
   "outputs": [],
   "source": [
    "date_df_with_weekday.createOrReplaceTempView(\"DayDate\")"
   ]
  },
  {
   "cell_type": "code",
   "execution_count": 0,
   "metadata": {
    "application/vnd.databricks.v1+cell": {
     "cellMetadata": {
      "byteLimit": 2048000,
      "implicitDf": true,
      "rowLimit": 10000
     },
     "inputWidgets": {},
     "nuid": "3ce1d298-8c0a-4f60-ad26-0670e5e312ff",
     "showTitle": false,
     "title": ""
    }
   },
   "outputs": [
    {
     "output_type": "display_data",
     "data": {
      "text/html": [
       "<style scoped>\n",
       "  .table-result-container {\n",
       "    max-height: 300px;\n",
       "    overflow: auto;\n",
       "  }\n",
       "  table, th, td {\n",
       "    border: 1px solid black;\n",
       "    border-collapse: collapse;\n",
       "  }\n",
       "  th, td {\n",
       "    padding: 5px;\n",
       "  }\n",
       "  th {\n",
       "    text-align: left;\n",
       "  }\n",
       "</style><div class='table-result-container'><table class='table-result'><thead style='background-color: white'><tr><th>DayDate</th><th>Weekday</th><th>RowNum</th></tr></thead><tbody><tr><td>2024-08-14</td><td>Wednesday</td><td>2</td></tr></tbody></table></div>"
      ]
     },
     "metadata": {
      "application/vnd.databricks.v1+output": {
       "addedWidgets": {},
       "aggData": [],
       "aggError": "",
       "aggOverflow": false,
       "aggSchema": [],
       "aggSeriesLimitReached": false,
       "aggType": "",
       "arguments": {},
       "columnCustomDisplayInfos": {},
       "data": [
        [
         "2024-08-14",
         "Wednesday",
         2
        ]
       ],
       "datasetInfos": [],
       "dbfsResultPath": null,
       "isJsonSchema": true,
       "metadata": {},
       "overflow": false,
       "plotOptions": {
        "customPlotOptions": {},
        "displayType": "table",
        "pivotAggregation": null,
        "pivotColumns": null,
        "xColumns": null,
        "yColumns": null
       },
       "removedWidgets": [],
       "schema": [
        {
         "metadata": "{}",
         "name": "DayDate",
         "type": "\"date\""
        },
        {
         "metadata": "{}",
         "name": "Weekday",
         "type": "\"string\""
        },
        {
         "metadata": "{}",
         "name": "RowNum",
         "type": "\"integer\""
        }
       ],
       "type": "table"
      }
     },
     "output_type": "display_data"
    }
   ],
   "source": [
    "%sql\n",
    "-- Create a temporary view with all dates for the current month\n",
    "-- Create a temporary view with all dates for the current month\n",
    "WITH DateSeries AS (\n",
    "    -- Generate all dates for the current month\n",
    "    SELECT \n",
    "        DATE_ADD(DATE_TRUNC('month', CURRENT_DATE()), seq) AS DayDate\n",
    "    FROM (\n",
    "        SELECT posexplode(sequence(0, DAY(LAST_DAY(CURRENT_DATE())) - 1)) AS (seq, day)\n",
    "    )\n",
    "),\n",
    "Wednesdays AS (\n",
    "    -- Filter out only Wednesdays\n",
    "    SELECT \n",
    "        DayDate,\n",
    "        CASE DAYOFWEEK(DayDate)\n",
    "            WHEN 1 THEN 'Sunday'\n",
    "            WHEN 2 THEN 'Monday'\n",
    "            WHEN 3 THEN 'Tuesday'\n",
    "            WHEN 4 THEN 'Wednesday'\n",
    "            WHEN 5 THEN 'Thursday'\n",
    "            WHEN 6 THEN 'Friday'\n",
    "            WHEN 7 THEN 'Saturday'\n",
    "        END AS Weekday\n",
    "    FROM DateSeries\n",
    "    WHERE DAYOFWEEK(DayDate) = 4 -- 4 represents Wednesday (where Sunday = 1)\n",
    "),\n",
    "RankedWednesdays AS (\n",
    "    -- Rank the Wednesdays\n",
    "    SELECT \n",
    "        DayDate,\n",
    "        Weekday,\n",
    "        ROW_NUMBER() OVER (ORDER BY DayDate) AS RowNum\n",
    "    FROM Wednesdays\n",
    ")\n",
    "-- Select the 2nd Wednesday\n",
    "SELECT \n",
    "    DayDate,\n",
    "    Weekday,\n",
    "    RowNum\n",
    "FROM RankedWednesdays\n",
    "WHERE RowNum = 2;\n"
   ]
  },
  {
   "cell_type": "markdown",
   "metadata": {
    "application/vnd.databricks.v1+cell": {
     "cellMetadata": {},
     "inputWidgets": {},
     "nuid": "ff4e605f-d57e-4e4c-93e1-7f6f1c90b637",
     "showTitle": false,
     "title": ""
    }
   },
   "source": [
    "Explanation:\n",
    "\n",
    "Generate Dates:\n",
    "\n",
    "DATE_TRUNC('month', CURRENT_DATE()): Gets the first day of the current month.\n",
    "sequence(0, DAY(LAST_DAY(CURRENT_DATE())) - 1): Creates a sequence of integers representing days from 0 to the last day of the month.\n",
    "DATE_ADD: Adds these days to the start date to generate all dates for the current month.\n",
    "Identify Wednesdays:\n",
    "\n",
    "DAYOFWEEK: Determines the weekday number. This function returns 1 for Sunday, 2 for Monday, ..., 7 for Saturday. Thus, 4 represents Wednesday.\n",
    "CASE: Converts the weekday number to the day name.\n",
    "Rank and Select:\n",
    "\n",
    "ROW_NUMBER(): Ranks the Wednesdays in ascending order of date.\n",
    "WHERE RowNum = 2: Filters to select the 2nd Wednesday.\n",
    "Notes\n",
    "Day of the Week: Adjust the CASE expression and DAYOFWEEK logic based on your Spark SQL configuration if needed.\n",
    "Temporary View: If you run this in a notebook or interactive SQL environment, ensure you have the necessary permissions to create and query temporary views.\n",
    "This query will return the 2nd Wednesday of the current month, showing the DayDate, the day of the week as Weekday, and the RowNum."
   ]
  }
 ],
 "metadata": {
  "application/vnd.databricks.v1+notebook": {
   "dashboards": [],
   "environmentMetadata": null,
   "language": "python",
   "notebookMetadata": {
    "mostRecentlyExecutedCommandWithImplicitDF": {
     "commandId": 2161197982787006,
     "dataframes": [
      "_sqldf"
     ]
    },
    "pythonIndentUnit": 4
   },
   "notebookName": "Affine Technologies SQL Interview question",
   "widgets": {}
  }
 },
 "nbformat": 4,
 "nbformat_minor": 0
}
