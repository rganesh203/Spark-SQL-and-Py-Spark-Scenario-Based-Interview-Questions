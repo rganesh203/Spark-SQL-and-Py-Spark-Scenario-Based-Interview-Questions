{
 "cells": [
  {
   "cell_type": "markdown",
   "metadata": {
    "application/vnd.databricks.v1+cell": {
     "cellMetadata": {},
     "inputWidgets": {},
     "nuid": "c36948b6-af86-4a10-a43f-a4851d45918e",
     "showTitle": false,
     "tableResultSettingsMap": {},
     "title": ""
    }
   },
   "source": [
    "Problem Statement:\n",
    "\n",
    "Here is tasked with transforming and summarizing a dataset that contains information about individuals, items, and their associated weights. The goal is to group the data by the name column, aggregate the weights for each item per name, and present the results in a compact, readable format.\n",
    "\n",
    "Input Data:\n",
    "\n",
    "A dataset (data_table) with the following columns:\n",
    "\n",
    "name: The name of the individual or entity.\n",
    "\n",
    "item: The item associated with the name.\n",
    "\n",
    "weight: The numeric weight associated with the name-item pair."
   ]
  },
  {
   "cell_type": "code",
   "execution_count": 0,
   "metadata": {
    "application/vnd.databricks.v1+cell": {
     "cellMetadata": {
      "byteLimit": 2048000,
      "rowLimit": 10000
     },
     "inputWidgets": {},
     "nuid": "9c8c2cc4-9398-4083-b313-25dc854296dc",
     "showTitle": false,
     "tableResultSettingsMap": {},
     "title": ""
    }
   },
   "outputs": [
    {
     "output_type": "display_data",
     "data": {
      "text/html": [
       "<style scoped>\n",
       "  .table-result-container {\n",
       "    max-height: 300px;\n",
       "    overflow: auto;\n",
       "  }\n",
       "  table, th, td {\n",
       "    border: 1px solid black;\n",
       "    border-collapse: collapse;\n",
       "  }\n",
       "  th, td {\n",
       "    padding: 5px;\n",
       "  }\n",
       "  th {\n",
       "    text-align: left;\n",
       "  }\n",
       "</style><div class='table-result-container'><table class='table-result'><thead style='background-color: white'><tr><th>name</th><th>item</th><th>weight</th></tr></thead><tbody><tr><td>john</td><td>tomato</td><td>2</td></tr><tr><td>𝚋𝚒𝚕𝚕</td><td>𝚊𝚙𝚙𝚕𝚎</td><td>2</td></tr><tr><td>john</td><td>𝚋𝚊𝚗𝚊𝚗𝚊</td><td>2</td></tr><tr><td>john</td><td>tomato</td><td>3</td></tr><tr><td>𝚋𝚒𝚕𝚕</td><td>𝚝𝚊𝚌𝚘</td><td>2</td></tr><tr><td>𝚋𝚒𝚕𝚕</td><td>𝚊𝚙𝚙𝚕𝚎</td><td>2</td></tr></tbody></table></div>"
      ]
     },
     "metadata": {
      "application/vnd.databricks.v1+output": {
       "addedWidgets": {},
       "aggData": [],
       "aggError": "",
       "aggOverflow": false,
       "aggSchema": [],
       "aggSeriesLimitReached": false,
       "aggType": "",
       "arguments": {},
       "columnCustomDisplayInfos": {},
       "data": [
        [
         "john",
         "tomato",
         2
        ],
        [
         "𝚋𝚒𝚕𝚕",
         "𝚊𝚙𝚙𝚕𝚎",
         2
        ],
        [
         "john",
         "𝚋𝚊𝚗𝚊𝚗𝚊",
         2
        ],
        [
         "john",
         "tomato",
         3
        ],
        [
         "𝚋𝚒𝚕𝚕",
         "𝚝𝚊𝚌𝚘",
         2
        ],
        [
         "𝚋𝚒𝚕𝚕",
         "𝚊𝚙𝚙𝚕𝚎",
         2
        ]
       ],
       "datasetInfos": [],
       "dbfsResultPath": null,
       "isJsonSchema": true,
       "metadata": {},
       "overflow": false,
       "plotOptions": {
        "customPlotOptions": {},
        "displayType": "table",
        "pivotAggregation": null,
        "pivotColumns": null,
        "xColumns": null,
        "yColumns": null
       },
       "removedWidgets": [],
       "schema": [
        {
         "metadata": "{}",
         "name": "name",
         "type": "\"string\""
        },
        {
         "metadata": "{}",
         "name": "item",
         "type": "\"string\""
        },
        {
         "metadata": "{}",
         "name": "weight",
         "type": "\"integer\""
        }
       ],
       "type": "table"
      }
     },
     "output_type": "display_data"
    }
   ],
   "source": [
    "data = [\n",
    "    (\"john\", \"tomato\", 2),\n",
    "    (\"𝚋𝚒𝚕𝚕\", \"𝚊𝚙𝚙𝚕𝚎\", 2),\n",
    "    (\"john\", \"𝚋𝚊𝚗𝚊𝚗𝚊\", 2),\n",
    "    (\"john\", \"tomato\", 3),\n",
    "    (\"𝚋𝚒𝚕𝚕\", \"𝚝𝚊𝚌𝚘\", 2),\n",
    "    (\"𝚋𝚒𝚕𝚕\", \"𝚊𝚙𝚙𝚕𝚎\", 2),\n",
    "]\n",
    "schema = \"name string,item string,weight int\"\n",
    "df = spark.createDataFrame(data, schema)\n",
    "df.display()"
   ]
  },
  {
   "cell_type": "code",
   "execution_count": 0,
   "metadata": {
    "application/vnd.databricks.v1+cell": {
     "cellMetadata": {
      "byteLimit": 2048000,
      "rowLimit": 10000
     },
     "inputWidgets": {},
     "nuid": "ddda552a-e95c-4c45-a8f5-4dcd536eab1e",
     "showTitle": false,
     "tableResultSettingsMap": {},
     "title": ""
    }
   },
   "outputs": [
    {
     "output_type": "display_data",
     "data": {
      "text/html": [
       "<style scoped>\n",
       "  .table-result-container {\n",
       "    max-height: 300px;\n",
       "    overflow: auto;\n",
       "  }\n",
       "  table, th, td {\n",
       "    border: 1px solid black;\n",
       "    border-collapse: collapse;\n",
       "  }\n",
       "  th, td {\n",
       "    padding: 5px;\n",
       "  }\n",
       "  th {\n",
       "    text-align: left;\n",
       "  }\n",
       "</style><div class='table-result-container'><table class='table-result'><thead style='background-color: white'><tr><th>name</th><th>tuple</th></tr></thead><tbody><tr><td>𝚋𝚒𝚕𝚕</td><td>(𝚊𝚙𝚙𝚕𝚎,4),(𝚝𝚊𝚌𝚘,2)</td></tr><tr><td>john</td><td>(tomato,5),(𝚋𝚊𝚗𝚊𝚗𝚊,2)</td></tr></tbody></table></div>"
      ]
     },
     "metadata": {
      "application/vnd.databricks.v1+output": {
       "addedWidgets": {},
       "aggData": [],
       "aggError": "",
       "aggOverflow": false,
       "aggSchema": [],
       "aggSeriesLimitReached": false,
       "aggType": "",
       "arguments": {},
       "columnCustomDisplayInfos": {},
       "data": [
        [
         "𝚋𝚒𝚕𝚕",
         "(𝚊𝚙𝚙𝚕𝚎,4),(𝚝𝚊𝚌𝚘,2)"
        ],
        [
         "john",
         "(tomato,5),(𝚋𝚊𝚗𝚊𝚗𝚊,2)"
        ]
       ],
       "datasetInfos": [],
       "dbfsResultPath": null,
       "isJsonSchema": true,
       "metadata": {},
       "overflow": false,
       "plotOptions": {
        "customPlotOptions": {},
        "displayType": "table",
        "pivotAggregation": null,
        "pivotColumns": null,
        "xColumns": null,
        "yColumns": null
       },
       "removedWidgets": [],
       "schema": [
        {
         "metadata": "{}",
         "name": "name",
         "type": "\"string\""
        },
        {
         "metadata": "{}",
         "name": "tuple",
         "type": "\"string\""
        }
       ],
       "type": "table"
      }
     },
     "output_type": "display_data"
    }
   ],
   "source": [
    "from pyspark.sql import functions as F\n",
    "\n",
    "result_df = (\n",
    "    df.groupBy(\"name\", \"item\")\n",
    "      .agg(F.sum(\"weight\").alias(\"weight\"))\n",
    "      .withColumn(\"tuple\", F.concat(F.lit(\"(\"), F.col(\"item\"), F.lit(\",\"), F.col(\"weight\"), F.lit(\")\")))\n",
    "      .groupBy(\"name\")\n",
    "      .agg(F.concat_ws(',', F.collect_list(\"tuple\")).alias(\"tuple\"))\n",
    ")\n",
    "\n",
    "result_df.display()"
   ]
  },
  {
   "cell_type": "code",
   "execution_count": 0,
   "metadata": {
    "application/vnd.databricks.v1+cell": {
     "cellMetadata": {
      "byteLimit": 2048000,
      "rowLimit": 10000
     },
     "inputWidgets": {},
     "nuid": "0d9c30ce-6579-401c-9386-02c680b26d6f",
     "showTitle": false,
     "tableResultSettingsMap": {},
     "title": ""
    }
   },
   "outputs": [],
   "source": [
    "df.createOrReplaceTempView(\"data_table\")"
   ]
  },
  {
   "cell_type": "code",
   "execution_count": 0,
   "metadata": {
    "application/vnd.databricks.v1+cell": {
     "cellMetadata": {
      "byteLimit": 2048000,
      "rowLimit": 10000
     },
     "inputWidgets": {},
     "nuid": "7fc7b80b-0720-456a-8c92-a24970453f84",
     "showTitle": false,
     "tableResultSettingsMap": {},
     "title": ""
    }
   },
   "outputs": [
    {
     "output_type": "display_data",
     "data": {
      "text/html": [
       "<style scoped>\n",
       "  .table-result-container {\n",
       "    max-height: 300px;\n",
       "    overflow: auto;\n",
       "  }\n",
       "  table, th, td {\n",
       "    border: 1px solid black;\n",
       "    border-collapse: collapse;\n",
       "  }\n",
       "  th, td {\n",
       "    padding: 5px;\n",
       "  }\n",
       "  th {\n",
       "    text-align: left;\n",
       "  }\n",
       "</style><div class='table-result-container'><table class='table-result'><thead style='background-color: white'><tr><th>name</th><th>tuple</th></tr></thead><tbody><tr><td>𝚋𝚒𝚕𝚕</td><td>(𝚊𝚙𝚙𝚕𝚎,4),(𝚝𝚊𝚌𝚘,2)</td></tr><tr><td>john</td><td>(tomato,5),(𝚋𝚊𝚗𝚊𝚗𝚊,2)</td></tr></tbody></table></div>"
      ]
     },
     "metadata": {
      "application/vnd.databricks.v1+output": {
       "addedWidgets": {},
       "aggData": [],
       "aggError": "",
       "aggOverflow": false,
       "aggSchema": [],
       "aggSeriesLimitReached": false,
       "aggType": "",
       "arguments": {},
       "columnCustomDisplayInfos": {},
       "data": [
        [
         "𝚋𝚒𝚕𝚕",
         "(𝚊𝚙𝚙𝚕𝚎,4),(𝚝𝚊𝚌𝚘,2)"
        ],
        [
         "john",
         "(tomato,5),(𝚋𝚊𝚗𝚊𝚗𝚊,2)"
        ]
       ],
       "datasetInfos": [],
       "dbfsResultPath": null,
       "isJsonSchema": true,
       "metadata": {},
       "overflow": false,
       "plotOptions": {
        "customPlotOptions": {},
        "displayType": "table",
        "pivotAggregation": null,
        "pivotColumns": null,
        "xColumns": null,
        "yColumns": null
       },
       "removedWidgets": [],
       "schema": [
        {
         "metadata": "{}",
         "name": "name",
         "type": "\"string\""
        },
        {
         "metadata": "{}",
         "name": "tuple",
         "type": "\"string\""
        }
       ],
       "type": "table"
      }
     },
     "output_type": "display_data"
    }
   ],
   "source": [
    "# Execute Spark SQL Query\n",
    "result_df = spark.sql(\"\"\"\n",
    "    WITH SummedWeights AS (\n",
    "    SELECT \n",
    "        name, \n",
    "        item, \n",
    "        SUM(weight) AS weight\n",
    "    FROM data_table\n",
    "    GROUP BY name, item\n",
    "),\n",
    "Tuples AS (\n",
    "    SELECT \n",
    "        name, \n",
    "        CONCAT('(', item, ',', weight, ')') AS tuple\n",
    "    FROM SummedWeights\n",
    "),\n",
    "GroupedTuples AS (\n",
    "    SELECT \n",
    "        name, \n",
    "        CONCAT_WS(',', COLLECT_LIST(tuple)) AS tuple\n",
    "    FROM Tuples\n",
    "    GROUP BY name\n",
    ")\n",
    "SELECT * \n",
    "FROM GroupedTuples\n",
    "\"\"\")\n",
    "result_df.display()\n"
   ]
  },
  {
   "cell_type": "markdown",
   "metadata": {
    "application/vnd.databricks.v1+cell": {
     "cellMetadata": {},
     "inputWidgets": {},
     "nuid": "cb1a4890-c880-42c0-9d77-4c002515d25e",
     "showTitle": false,
     "tableResultSettingsMap": {},
     "title": ""
    }
   },
   "source": [
    "Explanation:\n",
    "\n",
    "The result of the query summarizes and transforms data in the following way:\n",
    "\n",
    "Grouping by Name: Each unique name forms a single row in the output.\n",
    "\n",
    "Aggregated Tuples: For each name, all (item, weight) combinations are aggregated into a comma-separated list of tuples.\n",
    "\n",
    "Final Structure: The result is a table with two columns:\n",
    "\n",
    "name: The name of the person/entity.\n",
    "\n",
    "tuple: A single string containing all (item, weight) pairs associated with that name, separated by commas."
   ]
  },
  {
   "cell_type": "code",
   "execution_count": 0,
   "metadata": {
    "application/vnd.databricks.v1+cell": {
     "cellMetadata": {},
     "inputWidgets": {},
     "nuid": "c692e5f5-38aa-451c-8744-327b6073aca0",
     "showTitle": false,
     "tableResultSettingsMap": {},
     "title": ""
    }
   },
   "outputs": [],
   "source": []
  }
 ],
 "metadata": {
  "application/vnd.databricks.v1+notebook": {
   "computePreferences": null,
   "dashboards": [],
   "environmentMetadata": {
    "base_environment": "",
    "client": "1"
   },
   "language": "python",
   "notebookMetadata": {
    "pythonIndentUnit": 4
   },
   "notebookName": "Solve using PySpark- Collect_list and Aggregation | Fractal Interview Question |",
   "widgets": {}
  }
 },
 "nbformat": 4,
 "nbformat_minor": 0
}
