{
 "cells": [
  {
   "cell_type": "code",
   "execution_count": 0,
   "metadata": {
    "application/vnd.databricks.v1+cell": {
     "cellMetadata": {
      "byteLimit": 2048000,
      "rowLimit": 10000
     },
     "inputWidgets": {},
     "nuid": "96cb7f7c-255a-441d-93b7-a9be5ff1fd2d",
     "showTitle": false,
     "tableResultSettingsMap": {},
     "title": ""
    }
   },
   "outputs": [],
   "source": [
    "# Sample DataFrames\n",
    "employee_data = [(1, \"Alice\", 50000, 1), (2, \"Bob\", 60000, 1), (3, \"Charlie\", 55000, 2),\n",
    "                 (4, \"David\", 70000, 2), (5, \"Eve\", 45000, 3), (6, \"Frank\", 48000, 3), (7, \"Grace\", 70000, 3)]\n",
    "\n",
    "department_data = [(1, \"HR\"), (2, \"IT\"), (3, \"Marketing\")]\n",
    "\n",
    "# Create DataFrames\n",
    "employee_columns = [\"employee_id\", \"name\", \"salary\", \"department_id\"]\n",
    "department_columns = [\"department_id\", \"department_name\"]\n",
    "employee_df = spark.createDataFrame(employee_data, employee_columns)\n",
    "department_df = spark.createDataFrame(department_data, department_columns)\n"
   ]
  },
  {
   "cell_type": "code",
   "execution_count": 0,
   "metadata": {
    "application/vnd.databricks.v1+cell": {
     "cellMetadata": {
      "byteLimit": 2048000,
      "rowLimit": 10000
     },
     "inputWidgets": {},
     "nuid": "5ed77f65-e7cd-4f2f-a208-e9fdfedb003c",
     "showTitle": false,
     "tableResultSettingsMap": {},
     "title": ""
    }
   },
   "outputs": [
    {
     "output_type": "display_data",
     "data": {
      "text/html": [
       "<style scoped>\n",
       "  .table-result-container {\n",
       "    max-height: 300px;\n",
       "    overflow: auto;\n",
       "  }\n",
       "  table, th, td {\n",
       "    border: 1px solid black;\n",
       "    border-collapse: collapse;\n",
       "  }\n",
       "  th, td {\n",
       "    padding: 5px;\n",
       "  }\n",
       "  th {\n",
       "    text-align: left;\n",
       "  }\n",
       "</style><div class='table-result-container'><table class='table-result'><thead style='background-color: white'><tr><th>employee_id</th><th>name</th><th>salary</th><th>department_id</th></tr></thead><tbody><tr><td>1</td><td>Alice</td><td>50000</td><td>1</td></tr><tr><td>2</td><td>Bob</td><td>60000</td><td>1</td></tr><tr><td>3</td><td>Charlie</td><td>55000</td><td>2</td></tr><tr><td>4</td><td>David</td><td>70000</td><td>2</td></tr><tr><td>5</td><td>Eve</td><td>45000</td><td>3</td></tr><tr><td>6</td><td>Frank</td><td>48000</td><td>3</td></tr><tr><td>7</td><td>Grace</td><td>70000</td><td>3</td></tr></tbody></table></div>"
      ]
     },
     "metadata": {
      "application/vnd.databricks.v1+output": {
       "addedWidgets": {},
       "aggData": [],
       "aggError": "",
       "aggOverflow": false,
       "aggSchema": [],
       "aggSeriesLimitReached": false,
       "aggType": "",
       "arguments": {},
       "columnCustomDisplayInfos": {},
       "data": [
        [
         1,
         "Alice",
         50000,
         1
        ],
        [
         2,
         "Bob",
         60000,
         1
        ],
        [
         3,
         "Charlie",
         55000,
         2
        ],
        [
         4,
         "David",
         70000,
         2
        ],
        [
         5,
         "Eve",
         45000,
         3
        ],
        [
         6,
         "Frank",
         48000,
         3
        ],
        [
         7,
         "Grace",
         70000,
         3
        ]
       ],
       "datasetInfos": [],
       "dbfsResultPath": null,
       "isJsonSchema": true,
       "metadata": {},
       "overflow": false,
       "plotOptions": {
        "customPlotOptions": {},
        "displayType": "table",
        "pivotAggregation": null,
        "pivotColumns": null,
        "xColumns": null,
        "yColumns": null
       },
       "removedWidgets": [],
       "schema": [
        {
         "metadata": "{}",
         "name": "employee_id",
         "type": "\"long\""
        },
        {
         "metadata": "{}",
         "name": "name",
         "type": "\"string\""
        },
        {
         "metadata": "{}",
         "name": "salary",
         "type": "\"long\""
        },
        {
         "metadata": "{}",
         "name": "department_id",
         "type": "\"long\""
        }
       ],
       "type": "table"
      }
     },
     "output_type": "display_data"
    },
    {
     "output_type": "display_data",
     "data": {
      "text/html": [
       "<style scoped>\n",
       "  .table-result-container {\n",
       "    max-height: 300px;\n",
       "    overflow: auto;\n",
       "  }\n",
       "  table, th, td {\n",
       "    border: 1px solid black;\n",
       "    border-collapse: collapse;\n",
       "  }\n",
       "  th, td {\n",
       "    padding: 5px;\n",
       "  }\n",
       "  th {\n",
       "    text-align: left;\n",
       "  }\n",
       "</style><div class='table-result-container'><table class='table-result'><thead style='background-color: white'><tr><th>department_id</th><th>department_name</th></tr></thead><tbody><tr><td>1</td><td>HR</td></tr><tr><td>2</td><td>IT</td></tr><tr><td>3</td><td>Marketing</td></tr></tbody></table></div>"
      ]
     },
     "metadata": {
      "application/vnd.databricks.v1+output": {
       "addedWidgets": {},
       "aggData": [],
       "aggError": "",
       "aggOverflow": false,
       "aggSchema": [],
       "aggSeriesLimitReached": false,
       "aggType": "",
       "arguments": {},
       "columnCustomDisplayInfos": {},
       "data": [
        [
         1,
         "HR"
        ],
        [
         2,
         "IT"
        ],
        [
         3,
         "Marketing"
        ]
       ],
       "datasetInfos": [],
       "dbfsResultPath": null,
       "isJsonSchema": true,
       "metadata": {},
       "overflow": false,
       "plotOptions": {
        "customPlotOptions": {},
        "displayType": "table",
        "pivotAggregation": null,
        "pivotColumns": null,
        "xColumns": null,
        "yColumns": null
       },
       "removedWidgets": [],
       "schema": [
        {
         "metadata": "{}",
         "name": "department_id",
         "type": "\"long\""
        },
        {
         "metadata": "{}",
         "name": "department_name",
         "type": "\"string\""
        }
       ],
       "type": "table"
      }
     },
     "output_type": "display_data"
    }
   ],
   "source": [
    "employee_df.display()\n",
    "department_df.display()"
   ]
  },
  {
   "cell_type": "code",
   "execution_count": 0,
   "metadata": {
    "application/vnd.databricks.v1+cell": {
     "cellMetadata": {
      "byteLimit": 2048000,
      "rowLimit": 10000
     },
     "inputWidgets": {},
     "nuid": "91491e3b-78ac-4c92-af03-c1219b5fd8f4",
     "showTitle": true,
     "tableResultSettingsMap": {},
     "title": "Find the Highest Salary Based on Each Department Name"
    }
   },
   "outputs": [
    {
     "output_type": "display_data",
     "data": {
      "text/html": [
       "<style scoped>\n",
       "  .table-result-container {\n",
       "    max-height: 300px;\n",
       "    overflow: auto;\n",
       "  }\n",
       "  table, th, td {\n",
       "    border: 1px solid black;\n",
       "    border-collapse: collapse;\n",
       "  }\n",
       "  th, td {\n",
       "    padding: 5px;\n",
       "  }\n",
       "  th {\n",
       "    text-align: left;\n",
       "  }\n",
       "</style><div class='table-result-container'><table class='table-result'><thead style='background-color: white'><tr><th>department_name</th><th>highest_salary</th></tr></thead><tbody><tr><td>HR</td><td>60000</td></tr><tr><td>Marketing</td><td>70000</td></tr><tr><td>IT</td><td>70000</td></tr></tbody></table></div>"
      ]
     },
     "metadata": {
      "application/vnd.databricks.v1+output": {
       "addedWidgets": {},
       "aggData": [],
       "aggError": "",
       "aggOverflow": false,
       "aggSchema": [],
       "aggSeriesLimitReached": false,
       "aggType": "",
       "arguments": {},
       "columnCustomDisplayInfos": {},
       "data": [
        [
         "HR",
         60000
        ],
        [
         "Marketing",
         70000
        ],
        [
         "IT",
         70000
        ]
       ],
       "datasetInfos": [],
       "dbfsResultPath": null,
       "isJsonSchema": true,
       "metadata": {},
       "overflow": false,
       "plotOptions": {
        "customPlotOptions": {},
        "displayType": "table",
        "pivotAggregation": null,
        "pivotColumns": null,
        "xColumns": null,
        "yColumns": null
       },
       "removedWidgets": [],
       "schema": [
        {
         "metadata": "{}",
         "name": "department_name",
         "type": "\"string\""
        },
        {
         "metadata": "{}",
         "name": "highest_salary",
         "type": "\"long\""
        }
       ],
       "type": "table"
      }
     },
     "output_type": "display_data"
    }
   ],
   "source": [
    "from pyspark.sql.functions import max\n",
    "\n",
    "# Assuming employee_df and department_df are your DataFrames\n",
    "\n",
    "# Join Employee and Department tables\n",
    "employee_department_df = employee_df.join(department_df, \"department_id\")\n",
    "\n",
    "# Find highest salary per department\n",
    "highest_salary_df = employee_department_df.groupBy(\"department_name\").agg(max(\"salary\").alias(\"highest_salary\"))\n",
    "\n",
    "highest_salary_df.display()\n"
   ]
  },
  {
   "cell_type": "code",
   "execution_count": 0,
   "metadata": {
    "application/vnd.databricks.v1+cell": {
     "cellMetadata": {
      "byteLimit": 2048000,
      "rowLimit": 10000
     },
     "inputWidgets": {},
     "nuid": "f9d0351f-a24d-4964-ab59-88118a239a0f",
     "showTitle": true,
     "tableResultSettingsMap": {},
     "title": "Find the Employee Who Is Getting the Highest Salary Based on Each Department Name"
    }
   },
   "outputs": [
    {
     "output_type": "stream",
     "name": "stdout",
     "output_type": "stream",
     "text": [
      "+-------------+-----------+-----+------+---------------+----+\n|department_id|employee_id| name|salary|department_name|rank|\n+-------------+-----------+-----+------+---------------+----+\n|            1|          2|  Bob| 60000|             HR|   1|\n|            2|          4|David| 70000|             IT|   1|\n|            3|          7|Grace| 70000|      Marketing|   1|\n+-------------+-----------+-----+------+---------------+----+\n\n"
     ]
    }
   ],
   "source": [
    "from pyspark.sql.window import Window\n",
    "from pyspark.sql.functions import col, rank\n",
    "\n",
    "# Create a window spec for ranking employees within each department by salary in descending order\n",
    "window_spec = Window.partitionBy(\"department_name\").orderBy(col(\"salary\").desc())\n",
    "\n",
    "# Add rank to each row\n",
    "employee_with_rank_df = employee_department_df.withColumn(\"rank\", rank().over(window_spec))\n",
    "\n",
    "# Filter to get only the top-ranked employee per department (highest salary)\n",
    "highest_paid_employee_df = employee_with_rank_df.filter(col(\"rank\") == 1)\n",
    "\n",
    "highest_paid_employee_df.show()\n"
   ]
  },
  {
   "cell_type": "code",
   "execution_count": 0,
   "metadata": {
    "application/vnd.databricks.v1+cell": {
     "cellMetadata": {
      "byteLimit": 2048000,
      "rowLimit": 10000
     },
     "inputWidgets": {},
     "nuid": "9b74865c-9fd8-4f9d-9de1-074b5b92dfa8",
     "showTitle": true,
     "tableResultSettingsMap": {},
     "title": "3. Find the Lowest Salary Based on Each Department Name"
    }
   },
   "outputs": [
    {
     "output_type": "stream",
     "name": "stdout",
     "output_type": "stream",
     "text": [
      "+---------------+-------------+\n|department_name|lowest_salary|\n+---------------+-------------+\n|             HR|        50000|\n|      Marketing|        45000|\n|             IT|        55000|\n+---------------+-------------+\n\n"
     ]
    }
   ],
   "source": [
    "from pyspark.sql.functions import min\n",
    "\n",
    "# Find lowest salary per department\n",
    "lowest_salary_df = employee_department_df.groupBy(\"department_name\").agg(min(\"salary\").alias(\"lowest_salary\"))\n",
    "\n",
    "lowest_salary_df.show()\n"
   ]
  },
  {
   "cell_type": "code",
   "execution_count": 0,
   "metadata": {
    "application/vnd.databricks.v1+cell": {
     "cellMetadata": {
      "byteLimit": 2048000,
      "rowLimit": 10000
     },
     "inputWidgets": {},
     "nuid": "fbeae796-0598-4819-9b0f-6b8252016eff",
     "showTitle": true,
     "tableResultSettingsMap": {},
     "title": "Find the Employee Who Is Getting the Lowest Salary Based on Each Department Name"
    }
   },
   "outputs": [
    {
     "output_type": "stream",
     "name": "stdout",
     "output_type": "stream",
     "text": [
      "+-------------+-----------+-------+------+---------------+----+\n|department_id|employee_id|   name|salary|department_name|rank|\n+-------------+-----------+-------+------+---------------+----+\n|            1|          1|  Alice| 50000|             HR|   1|\n|            2|          3|Charlie| 55000|             IT|   1|\n|            3|          5|    Eve| 45000|      Marketing|   1|\n+-------------+-----------+-------+------+---------------+----+\n\n"
     ]
    }
   ],
   "source": [
    "# Create a window spec for ranking employees within each department by salary in ascending order\n",
    "window_spec = Window.partitionBy(\"department_name\").orderBy(col(\"salary\").asc())\n",
    "\n",
    "# Add rank to each row\n",
    "employee_with_rank_df = employee_department_df.withColumn(\"rank\", rank().over(window_spec))\n",
    "\n",
    "# Filter to get only the top-ranked employee per department (lowest salary)\n",
    "lowest_paid_employee_df = employee_with_rank_df.filter(col(\"rank\") == 1)\n",
    "\n",
    "lowest_paid_employee_df.show()\n"
   ]
  }
 ],
 "metadata": {
  "application/vnd.databricks.v1+notebook": {
   "dashboards": [],
   "environmentMetadata": null,
   "language": "python",
   "notebookMetadata": {
    "pythonIndentUnit": 4
   },
   "notebookName": "Important Pyspark Interview Question | LTIMindTree Interview",
   "widgets": {}
  }
 },
 "nbformat": 4,
 "nbformat_minor": 0
}
