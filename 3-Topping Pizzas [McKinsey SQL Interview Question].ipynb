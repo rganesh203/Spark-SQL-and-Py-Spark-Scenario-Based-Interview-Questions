{
 "cells": [
  {
   "cell_type": "markdown",
   "metadata": {
    "application/vnd.databricks.v1+cell": {
     "cellMetadata": {},
     "inputWidgets": {},
     "nuid": "6c3bde55-51d3-4dc7-8589-de21a03fbb25",
     "showTitle": false,
     "title": ""
    }
   },
   "source": [
    "Problem Statement:\n",
    "\n",
    "You’re a consultant for a major pizza chain that will be running a promotion where all 3-topping pizzas will be sold for a fixed price, and are trying to understand the costs involved.\n",
    "\n",
    "Given a list of pizza toppings, consider all the possible 3-topping pizzas, and print out the total cost of those 3 toppings. Sort the results with the highest total cost on the top followed by pizza toppings in ascending order.\n",
    "\n",
    "Break ties by listing the ingredients in alphabetical order, starting from the first ingredient, followed by the second and third."
   ]
  },
  {
   "cell_type": "code",
   "execution_count": 0,
   "metadata": {
    "application/vnd.databricks.v1+cell": {
     "cellMetadata": {
      "byteLimit": 2048000,
      "rowLimit": 10000
     },
     "inputWidgets": {},
     "nuid": "ce87ed58-2aad-4669-b475-ad4ac70491e7",
     "showTitle": false,
     "title": ""
    }
   },
   "outputs": [
    {
     "output_type": "display_data",
     "data": {
      "text/html": [
       "<style scoped>\n",
       "  .table-result-container {\n",
       "    max-height: 300px;\n",
       "    overflow: auto;\n",
       "  }\n",
       "  table, th, td {\n",
       "    border: 1px solid black;\n",
       "    border-collapse: collapse;\n",
       "  }\n",
       "  th, td {\n",
       "    padding: 5px;\n",
       "  }\n",
       "  th {\n",
       "    text-align: left;\n",
       "  }\n",
       "</style><div class='table-result-container'><table class='table-result'><thead style='background-color: white'><tr><th>topping_name</th><th>ingredient_cost</th></tr></thead><tbody><tr><td>Pepperoni</td><td>0.5</td></tr><tr><td>Sausage</td><td>0.7</td></tr><tr><td>Chicken</td><td>0.55</td></tr><tr><td>Extra Cheese</td><td>0.4</td></tr></tbody></table></div>"
      ]
     },
     "metadata": {
      "application/vnd.databricks.v1+output": {
       "addedWidgets": {},
       "aggData": [],
       "aggError": "",
       "aggOverflow": false,
       "aggSchema": [],
       "aggSeriesLimitReached": false,
       "aggType": "",
       "arguments": {},
       "columnCustomDisplayInfos": {},
       "data": [
        [
         "Pepperoni",
         0.5
        ],
        [
         "Sausage",
         0.7
        ],
        [
         "Chicken",
         0.55
        ],
        [
         "Extra Cheese",
         0.4
        ]
       ],
       "datasetInfos": [],
       "dbfsResultPath": null,
       "isJsonSchema": true,
       "metadata": {},
       "overflow": false,
       "plotOptions": {
        "customPlotOptions": {},
        "displayType": "table",
        "pivotAggregation": null,
        "pivotColumns": null,
        "xColumns": null,
        "yColumns": null
       },
       "removedWidgets": [],
       "schema": [
        {
         "metadata": "{}",
         "name": "topping_name",
         "type": "\"string\""
        },
        {
         "metadata": "{}",
         "name": "ingredient_cost",
         "type": "\"double\""
        }
       ],
       "type": "table"
      }
     },
     "output_type": "display_data"
    }
   ],
   "source": [
    "from pyspark.sql.functions import *\n",
    "\n",
    "# Define the pizza toppings and their costs\n",
    "data = [\n",
    "    (\"Pepperoni\", 0.50),\n",
    "    (\"Sausage\", 0.70),\n",
    "    (\"Chicken\", 0.55),\n",
    "    (\"Extra Cheese\", 0.40),\n",
    "]\n",
    "\n",
    "# Create a DataFrame from the input data\n",
    "toppings_df = spark.createDataFrame(data, [\"topping_name\", \"ingredient_cost\"])\n",
    "toppings_df.display()"
   ]
  },
  {
   "cell_type": "code",
   "execution_count": 0,
   "metadata": {
    "application/vnd.databricks.v1+cell": {
     "cellMetadata": {
      "byteLimit": 2048000,
      "rowLimit": 10000
     },
     "inputWidgets": {},
     "nuid": "66130502-f957-4d12-add4-b9c14d632cdc",
     "showTitle": false,
     "title": ""
    }
   },
   "outputs": [
    {
     "output_type": "display_data",
     "data": {
      "text/html": [
       "<style scoped>\n",
       "  .table-result-container {\n",
       "    max-height: 300px;\n",
       "    overflow: auto;\n",
       "  }\n",
       "  table, th, td {\n",
       "    border: 1px solid black;\n",
       "    border-collapse: collapse;\n",
       "  }\n",
       "  th, td {\n",
       "    padding: 5px;\n",
       "  }\n",
       "  th {\n",
       "    text-align: left;\n",
       "  }\n",
       "</style><div class='table-result-container'><table class='table-result'><thead style='background-color: white'><tr><th>pizza</th><th>total_cost</th></tr></thead><tbody><tr><td>Chicken,Pepperoni,Sausage</td><td>1.75</td></tr><tr><td>Chicken,Extra Cheese,Sausage</td><td>1.65</td></tr><tr><td>Extra Cheese,Pepperoni,Sausage</td><td>1.6</td></tr><tr><td>Chicken,Extra Cheese,Pepperoni</td><td>1.45</td></tr></tbody></table></div>"
      ]
     },
     "metadata": {
      "application/vnd.databricks.v1+output": {
       "addedWidgets": {},
       "aggData": [],
       "aggError": "",
       "aggOverflow": false,
       "aggSchema": [],
       "aggSeriesLimitReached": false,
       "aggType": "",
       "arguments": {},
       "columnCustomDisplayInfos": {},
       "data": [
        [
         "Chicken,Pepperoni,Sausage",
         1.75
        ],
        [
         "Chicken,Extra Cheese,Sausage",
         1.65
        ],
        [
         "Extra Cheese,Pepperoni,Sausage",
         1.6
        ],
        [
         "Chicken,Extra Cheese,Pepperoni",
         1.45
        ]
       ],
       "datasetInfos": [],
       "dbfsResultPath": null,
       "isJsonSchema": true,
       "metadata": {},
       "overflow": false,
       "plotOptions": {
        "customPlotOptions": {},
        "displayType": "table",
        "pivotAggregation": null,
        "pivotColumns": null,
        "xColumns": null,
        "yColumns": null
       },
       "removedWidgets": [],
       "schema": [
        {
         "metadata": "{}",
         "name": "pizza",
         "type": "\"string\""
        },
        {
         "metadata": "{}",
         "name": "total_cost",
         "type": "\"double\""
        }
       ],
       "type": "table"
      }
     },
     "output_type": "display_data"
    }
   ],
   "source": [
    "from pyspark.sql.functions import *\n",
    "\n",
    "# Create combinations of three toppings\n",
    "combinations = (\n",
    "    toppings_df.alias(\"p1\")\n",
    "    .join(toppings_df.alias(\"p2\"), col(\"p1.topping_name\") < col(\"p2.topping_name\"))\n",
    "    .join(toppings_df.alias(\"p3\"), col(\"p2.topping_name\") < col(\"p3.topping_name\"))\n",
    "    .select(\n",
    "        concat(\n",
    "            col(\"p1.topping_name\"),\n",
    "            lit(\",\"),\n",
    "            col(\"p2.topping_name\"),\n",
    "            lit(\",\"),\n",
    "            col(\"p3.topping_name\"),\n",
    "        ).alias(\"pizza\"),\n",
    "        (\n",
    "            col(\"p1.ingredient_cost\")\n",
    "            + col(\"p2.ingredient_cost\")\n",
    "            + col(\"p3.ingredient_cost\")\n",
    "        ).alias(\"total_cost\"),\n",
    "    )\n",
    ")\n",
    "\n",
    "# Round up the total cost\n",
    "result = combinations.withColumn(\"total_cost\", round(col(\"total_cost\"), 2))\n",
    "# Order by total cost descending\n",
    "result.orderBy(col(\"total_cost\").desc()).display()"
   ]
  },
  {
   "cell_type": "code",
   "execution_count": 0,
   "metadata": {
    "application/vnd.databricks.v1+cell": {
     "cellMetadata": {
      "byteLimit": 2048000,
      "rowLimit": 10000
     },
     "inputWidgets": {},
     "nuid": "1ea39e83-12b5-433d-a752-8789e32e2560",
     "showTitle": false,
     "title": ""
    }
   },
   "outputs": [],
   "source": [
    "toppings_df.createOrReplaceTempView(\"pizza_toppings\")"
   ]
  },
  {
   "cell_type": "code",
   "execution_count": 0,
   "metadata": {
    "application/vnd.databricks.v1+cell": {
     "cellMetadata": {
      "byteLimit": 2048000,
      "implicitDf": true,
      "rowLimit": 10000
     },
     "inputWidgets": {},
     "nuid": "03994da1-9f6d-40e1-b9bb-37eefd6da56f",
     "showTitle": false,
     "title": ""
    }
   },
   "outputs": [
    {
     "output_type": "display_data",
     "data": {
      "text/html": [
       "<style scoped>\n",
       "  .table-result-container {\n",
       "    max-height: 300px;\n",
       "    overflow: auto;\n",
       "  }\n",
       "  table, th, td {\n",
       "    border: 1px solid black;\n",
       "    border-collapse: collapse;\n",
       "  }\n",
       "  th, td {\n",
       "    padding: 5px;\n",
       "  }\n",
       "  th {\n",
       "    text-align: left;\n",
       "  }\n",
       "</style><div class='table-result-container'><table class='table-result'><thead style='background-color: white'><tr><th>pizza</th><th>total_cost</th></tr></thead><tbody><tr><td>Chicken,Pepperoni,Sausage</td><td>1.75</td></tr><tr><td>Chicken,Extra Cheese,Sausage</td><td>1.65</td></tr><tr><td>Extra Cheese,Pepperoni,Sausage</td><td>1.6</td></tr><tr><td>Chicken,Extra Cheese,Pepperoni</td><td>1.45</td></tr></tbody></table></div>"
      ]
     },
     "metadata": {
      "application/vnd.databricks.v1+output": {
       "addedWidgets": {},
       "aggData": [],
       "aggError": "",
       "aggOverflow": false,
       "aggSchema": [],
       "aggSeriesLimitReached": false,
       "aggType": "",
       "arguments": {},
       "columnCustomDisplayInfos": {},
       "data": [
        [
         "Chicken,Pepperoni,Sausage",
         1.75
        ],
        [
         "Chicken,Extra Cheese,Sausage",
         1.65
        ],
        [
         "Extra Cheese,Pepperoni,Sausage",
         1.6
        ],
        [
         "Chicken,Extra Cheese,Pepperoni",
         1.45
        ]
       ],
       "datasetInfos": [],
       "dbfsResultPath": null,
       "isJsonSchema": true,
       "metadata": {},
       "overflow": false,
       "plotOptions": {
        "customPlotOptions": {},
        "displayType": "table",
        "pivotAggregation": null,
        "pivotColumns": null,
        "xColumns": null,
        "yColumns": null
       },
       "removedWidgets": [],
       "schema": [
        {
         "metadata": "{}",
         "name": "pizza",
         "type": "\"string\""
        },
        {
         "metadata": "{}",
         "name": "total_cost",
         "type": "\"double\""
        }
       ],
       "type": "table"
      }
     },
     "output_type": "display_data"
    }
   ],
   "source": [
    "%sql\n",
    "WITH Toppings AS (\n",
    "  SELECT\n",
    "    topping_name,\n",
    "    ingredient_cost\n",
    "  FROM\n",
    "    pizza_toppings\n",
    ")\n",
    "SELECT\n",
    "  CONCAT(\n",
    "    p1.topping_name,\n",
    "    ',',\n",
    "    p2.topping_name,\n",
    "    ',',\n",
    "    p3.topping_name\n",
    "  ) AS pizza,\n",
    "  ROUND(\n",
    "    (\n",
    "      p1.ingredient_cost + p2.ingredient_cost + p3.ingredient_cost\n",
    "    ),\n",
    "    2\n",
    "  ) AS total_cost\n",
    "FROM\n",
    "  Toppings AS p1\n",
    "  INNER JOIN Toppings AS p2 ON p1.topping_name < p2.topping_name\n",
    "  INNER JOIN Toppings AS p3 ON p2.topping_name < p3.topping_name\n",
    "ORDER BY\n",
    "  total_cost DESC;"
   ]
  },
  {
   "cell_type": "markdown",
   "metadata": {
    "application/vnd.databricks.v1+cell": {
     "cellMetadata": {},
     "inputWidgets": {},
     "nuid": "5a463481-9bad-481b-86c2-a78166b61edd",
     "showTitle": false,
     "title": ""
    }
   },
   "source": [
    "Explanation:\n",
    "\n",
    "There are four different combinations of the three toppings. Cost of the pizza with toppings Chicken, Pepperoni and Sausage is $0.55 + $0.50 + $0.70 = $1.75.\n",
    "\n",
    "Additionally, they are arranged alphabetically; in the dictionary, the chicken comes before pepperoni and pepperoni comes before sausage.\n",
    "\n",
    "The dataset you are querying against may have different input & output - this is just an example!"
   ]
  }
 ],
 "metadata": {
  "application/vnd.databricks.v1+notebook": {
   "dashboards": [],
   "environmentMetadata": null,
   "language": "python",
   "notebookMetadata": {
    "mostRecentlyExecutedCommandWithImplicitDF": {
     "commandId": 2965957052013876,
     "dataframes": [
      "_sqldf"
     ]
    },
    "pythonIndentUnit": 4
   },
   "notebookName": "3-Topping Pizzas [McKinsey SQL Interview Question]",
   "widgets": {}
  }
 },
 "nbformat": 4,
 "nbformat_minor": 0
}
