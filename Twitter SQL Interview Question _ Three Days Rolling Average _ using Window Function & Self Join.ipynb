{
 "cells": [
  {
   "cell_type": "code",
   "execution_count": 0,
   "metadata": {
    "application/vnd.databricks.v1+cell": {
     "cellMetadata": {
      "byteLimit": 2048000,
      "rowLimit": 10000
     },
     "inputWidgets": {},
     "nuid": "aaa8a8b1-1c3a-405e-b33d-837d85c962da",
     "showTitle": false,
     "title": ""
    }
   },
   "outputs": [
    {
     "output_type": "display_data",
     "data": {
      "text/html": [
       "<style scoped>\n",
       "  .table-result-container {\n",
       "    max-height: 300px;\n",
       "    overflow: auto;\n",
       "  }\n",
       "  table, th, td {\n",
       "    border: 1px solid black;\n",
       "    border-collapse: collapse;\n",
       "  }\n",
       "  th, td {\n",
       "    padding: 5px;\n",
       "  }\n",
       "  th {\n",
       "    text-align: left;\n",
       "  }\n",
       "</style><div class='table-result-container'><table class='table-result'><thead style='background-color: white'><tr><th>user_id</th><th>tweet_date</th><th>tweet_count</th></tr></thead><tbody><tr><td>111</td><td>2022-06-01T00:00:00.000+0000</td><td>2</td></tr><tr><td>111</td><td>2022-06-02T00:00:00.000+0000</td><td>1</td></tr><tr><td>111</td><td>2022-06-03T00:00:00.000+0000</td><td>3</td></tr><tr><td>111</td><td>2022-06-04T00:00:00.000+0000</td><td>4</td></tr><tr><td>111</td><td>2022-06-05T00:00:00.000+0000</td><td>5</td></tr><tr><td>111</td><td>2022-06-06T00:00:00.000+0000</td><td>4</td></tr><tr><td>111</td><td>2022-06-07T00:00:00.000+0000</td><td>6</td></tr><tr><td>199</td><td>2022-06-01T00:00:00.000+0000</td><td>7</td></tr><tr><td>199</td><td>2022-06-02T00:00:00.000+0000</td><td>5</td></tr><tr><td>199</td><td>2022-06-03T00:00:00.000+0000</td><td>9</td></tr><tr><td>199</td><td>2022-06-04T00:00:00.000+0000</td><td>1</td></tr><tr><td>199</td><td>2022-06-05T00:00:00.000+0000</td><td>8</td></tr><tr><td>199</td><td>2022-06-06T00:00:00.000+0000</td><td>2</td></tr><tr><td>199</td><td>2022-06-07T00:00:00.000+0000</td><td>2</td></tr><tr><td>254</td><td>2022-06-01T00:00:00.000+0000</td><td>1</td></tr><tr><td>254</td><td>2022-06-02T00:00:00.000+0000</td><td>1</td></tr><tr><td>254</td><td>2022-06-03T00:00:00.000+0000</td><td>2</td></tr><tr><td>254</td><td>2022-06-04T00:00:00.000+0000</td><td>1</td></tr><tr><td>254</td><td>2022-06-05T00:00:00.000+0000</td><td>3</td></tr><tr><td>254</td><td>2022-06-06T00:00:00.000+0000</td><td>1</td></tr><tr><td>254</td><td>2022-06-07T00:00:00.000+0000</td><td>3</td></tr></tbody></table></div>"
      ]
     },
     "metadata": {
      "application/vnd.databricks.v1+output": {
       "addedWidgets": {},
       "aggData": [],
       "aggError": "",
       "aggOverflow": false,
       "aggSchema": [],
       "aggSeriesLimitReached": false,
       "aggType": "",
       "arguments": {},
       "columnCustomDisplayInfos": {},
       "data": [
        [
         111,
         "2022-06-01T00:00:00.000+0000",
         2
        ],
        [
         111,
         "2022-06-02T00:00:00.000+0000",
         1
        ],
        [
         111,
         "2022-06-03T00:00:00.000+0000",
         3
        ],
        [
         111,
         "2022-06-04T00:00:00.000+0000",
         4
        ],
        [
         111,
         "2022-06-05T00:00:00.000+0000",
         5
        ],
        [
         111,
         "2022-06-06T00:00:00.000+0000",
         4
        ],
        [
         111,
         "2022-06-07T00:00:00.000+0000",
         6
        ],
        [
         199,
         "2022-06-01T00:00:00.000+0000",
         7
        ],
        [
         199,
         "2022-06-02T00:00:00.000+0000",
         5
        ],
        [
         199,
         "2022-06-03T00:00:00.000+0000",
         9
        ],
        [
         199,
         "2022-06-04T00:00:00.000+0000",
         1
        ],
        [
         199,
         "2022-06-05T00:00:00.000+0000",
         8
        ],
        [
         199,
         "2022-06-06T00:00:00.000+0000",
         2
        ],
        [
         199,
         "2022-06-07T00:00:00.000+0000",
         2
        ],
        [
         254,
         "2022-06-01T00:00:00.000+0000",
         1
        ],
        [
         254,
         "2022-06-02T00:00:00.000+0000",
         1
        ],
        [
         254,
         "2022-06-03T00:00:00.000+0000",
         2
        ],
        [
         254,
         "2022-06-04T00:00:00.000+0000",
         1
        ],
        [
         254,
         "2022-06-05T00:00:00.000+0000",
         3
        ],
        [
         254,
         "2022-06-06T00:00:00.000+0000",
         1
        ],
        [
         254,
         "2022-06-07T00:00:00.000+0000",
         3
        ]
       ],
       "datasetInfos": [],
       "dbfsResultPath": null,
       "isJsonSchema": true,
       "metadata": {},
       "overflow": false,
       "plotOptions": {
        "customPlotOptions": {},
        "displayType": "table",
        "pivotAggregation": null,
        "pivotColumns": null,
        "xColumns": null,
        "yColumns": null
       },
       "removedWidgets": [],
       "schema": [
        {
         "metadata": "{}",
         "name": "user_id",
         "type": "\"integer\""
        },
        {
         "metadata": "{}",
         "name": "tweet_date",
         "type": "\"timestamp\""
        },
        {
         "metadata": "{}",
         "name": "tweet_count",
         "type": "\"integer\""
        }
       ],
       "type": "table"
      }
     },
     "output_type": "display_data"
    }
   ],
   "source": [
    "from pyspark.sql.functions import avg, round as _round\n",
    "from pyspark.sql.types import StructType, StructField, IntegerType, TimestampType\n",
    "from datetime import datetime\n",
    "from pyspark.sql.window import Window\n",
    "\n",
    "# Define schema\n",
    "schema = StructType([\n",
    "    StructField(\"user_id\", IntegerType(), True),\n",
    "    StructField(\"tweet_date\", TimestampType(), True),\n",
    "    StructField(\"tweet_count\", IntegerType(), True)\n",
    "])\n",
    "\n",
    "# Sample data with datetime conversion\n",
    "data = [\n",
    "    (111, datetime(2022, 6, 1, 0, 0, 0), 2),\n",
    "    (111, datetime(2022, 6, 2, 0, 0, 0), 1),\n",
    "    (111, datetime(2022, 6, 3, 0, 0, 0), 3),\n",
    "    (111, datetime(2022, 6, 4, 0, 0, 0), 4),\n",
    "    (111, datetime(2022, 6, 5, 0, 0, 0), 5),\n",
    "    (111, datetime(2022, 6, 6, 0, 0, 0), 4),\n",
    "    (111, datetime(2022, 6, 7, 0, 0, 0), 6),\n",
    "    (199, datetime(2022, 6, 1, 0, 0, 0), 7),\n",
    "    (199, datetime(2022, 6, 2, 0, 0, 0), 5),\n",
    "    (199, datetime(2022, 6, 3, 0, 0, 0), 9),\n",
    "    (199, datetime(2022, 6, 4, 0, 0, 0), 1),\n",
    "    (199, datetime(2022, 6, 5, 0, 0, 0), 8),\n",
    "    (199, datetime(2022, 6, 6, 0, 0, 0), 2),\n",
    "    (199, datetime(2022, 6, 7, 0, 0, 0), 2),\n",
    "    (254, datetime(2022, 6, 1, 0, 0, 0), 1),\n",
    "    (254, datetime(2022, 6, 2, 0, 0, 0), 1),\n",
    "    (254, datetime(2022, 6, 3, 0, 0, 0), 2),\n",
    "    (254, datetime(2022, 6, 4, 0, 0, 0), 1),\n",
    "    (254, datetime(2022, 6, 5, 0, 0, 0), 3),\n",
    "    (254, datetime(2022, 6, 6, 0, 0, 0), 1),\n",
    "    (254, datetime(2022, 6, 7, 0, 0, 0), 3)\n",
    "]\n",
    "\n",
    "# Create DataFrame\n",
    "df = spark.createDataFrame(data, schema=schema)\n",
    "\n",
    "# display the DataFrame\n",
    "df.display()\n",
    "\n",
    "\n"
   ]
  },
  {
   "cell_type": "code",
   "execution_count": 0,
   "metadata": {
    "application/vnd.databricks.v1+cell": {
     "cellMetadata": {
      "byteLimit": 2048000,
      "rowLimit": 10000
     },
     "inputWidgets": {},
     "nuid": "bd15032c-6e19-4635-b7ba-2ca667cada6d",
     "showTitle": false,
     "title": ""
    }
   },
   "outputs": [
    {
     "output_type": "display_data",
     "data": {
      "text/html": [
       "<style scoped>\n",
       "  .table-result-container {\n",
       "    max-height: 300px;\n",
       "    overflow: auto;\n",
       "  }\n",
       "  table, th, td {\n",
       "    border: 1px solid black;\n",
       "    border-collapse: collapse;\n",
       "  }\n",
       "  th, td {\n",
       "    padding: 5px;\n",
       "  }\n",
       "  th {\n",
       "    text-align: left;\n",
       "  }\n",
       "</style><div class='table-result-container'><table class='table-result'><thead style='background-color: white'><tr><th>user_id</th><th>tweet_date</th><th>tweet_count</th><th>average_3_day_rolling</th></tr></thead><tbody><tr><td>111</td><td>2022-06-01T00:00:00.000+0000</td><td>2</td><td>2.0</td></tr><tr><td>111</td><td>2022-06-02T00:00:00.000+0000</td><td>1</td><td>1.5</td></tr><tr><td>111</td><td>2022-06-03T00:00:00.000+0000</td><td>3</td><td>2.0</td></tr><tr><td>111</td><td>2022-06-04T00:00:00.000+0000</td><td>4</td><td>2.67</td></tr><tr><td>111</td><td>2022-06-05T00:00:00.000+0000</td><td>5</td><td>4.0</td></tr><tr><td>111</td><td>2022-06-06T00:00:00.000+0000</td><td>4</td><td>4.33</td></tr><tr><td>111</td><td>2022-06-07T00:00:00.000+0000</td><td>6</td><td>5.0</td></tr><tr><td>199</td><td>2022-06-01T00:00:00.000+0000</td><td>7</td><td>7.0</td></tr><tr><td>199</td><td>2022-06-02T00:00:00.000+0000</td><td>5</td><td>6.0</td></tr><tr><td>199</td><td>2022-06-03T00:00:00.000+0000</td><td>9</td><td>7.0</td></tr><tr><td>199</td><td>2022-06-04T00:00:00.000+0000</td><td>1</td><td>5.0</td></tr><tr><td>199</td><td>2022-06-05T00:00:00.000+0000</td><td>8</td><td>6.0</td></tr><tr><td>199</td><td>2022-06-06T00:00:00.000+0000</td><td>2</td><td>3.67</td></tr><tr><td>199</td><td>2022-06-07T00:00:00.000+0000</td><td>2</td><td>4.0</td></tr><tr><td>254</td><td>2022-06-01T00:00:00.000+0000</td><td>1</td><td>1.0</td></tr><tr><td>254</td><td>2022-06-02T00:00:00.000+0000</td><td>1</td><td>1.0</td></tr><tr><td>254</td><td>2022-06-03T00:00:00.000+0000</td><td>2</td><td>1.33</td></tr><tr><td>254</td><td>2022-06-04T00:00:00.000+0000</td><td>1</td><td>1.33</td></tr><tr><td>254</td><td>2022-06-05T00:00:00.000+0000</td><td>3</td><td>2.0</td></tr><tr><td>254</td><td>2022-06-06T00:00:00.000+0000</td><td>1</td><td>1.67</td></tr><tr><td>254</td><td>2022-06-07T00:00:00.000+0000</td><td>3</td><td>2.33</td></tr></tbody></table></div>"
      ]
     },
     "metadata": {
      "application/vnd.databricks.v1+output": {
       "addedWidgets": {},
       "aggData": [],
       "aggError": "",
       "aggOverflow": false,
       "aggSchema": [],
       "aggSeriesLimitReached": false,
       "aggType": "",
       "arguments": {},
       "columnCustomDisplayInfos": {},
       "data": [
        [
         111,
         "2022-06-01T00:00:00.000+0000",
         2,
         2.0
        ],
        [
         111,
         "2022-06-02T00:00:00.000+0000",
         1,
         1.5
        ],
        [
         111,
         "2022-06-03T00:00:00.000+0000",
         3,
         2.0
        ],
        [
         111,
         "2022-06-04T00:00:00.000+0000",
         4,
         2.67
        ],
        [
         111,
         "2022-06-05T00:00:00.000+0000",
         5,
         4.0
        ],
        [
         111,
         "2022-06-06T00:00:00.000+0000",
         4,
         4.33
        ],
        [
         111,
         "2022-06-07T00:00:00.000+0000",
         6,
         5.0
        ],
        [
         199,
         "2022-06-01T00:00:00.000+0000",
         7,
         7.0
        ],
        [
         199,
         "2022-06-02T00:00:00.000+0000",
         5,
         6.0
        ],
        [
         199,
         "2022-06-03T00:00:00.000+0000",
         9,
         7.0
        ],
        [
         199,
         "2022-06-04T00:00:00.000+0000",
         1,
         5.0
        ],
        [
         199,
         "2022-06-05T00:00:00.000+0000",
         8,
         6.0
        ],
        [
         199,
         "2022-06-06T00:00:00.000+0000",
         2,
         3.67
        ],
        [
         199,
         "2022-06-07T00:00:00.000+0000",
         2,
         4.0
        ],
        [
         254,
         "2022-06-01T00:00:00.000+0000",
         1,
         1.0
        ],
        [
         254,
         "2022-06-02T00:00:00.000+0000",
         1,
         1.0
        ],
        [
         254,
         "2022-06-03T00:00:00.000+0000",
         2,
         1.33
        ],
        [
         254,
         "2022-06-04T00:00:00.000+0000",
         1,
         1.33
        ],
        [
         254,
         "2022-06-05T00:00:00.000+0000",
         3,
         2.0
        ],
        [
         254,
         "2022-06-06T00:00:00.000+0000",
         1,
         1.67
        ],
        [
         254,
         "2022-06-07T00:00:00.000+0000",
         3,
         2.33
        ]
       ],
       "datasetInfos": [],
       "dbfsResultPath": null,
       "isJsonSchema": true,
       "metadata": {},
       "overflow": false,
       "plotOptions": {
        "customPlotOptions": {},
        "displayType": "table",
        "pivotAggregation": null,
        "pivotColumns": null,
        "xColumns": null,
        "yColumns": null
       },
       "removedWidgets": [],
       "schema": [
        {
         "metadata": "{}",
         "name": "user_id",
         "type": "\"integer\""
        },
        {
         "metadata": "{}",
         "name": "tweet_date",
         "type": "\"timestamp\""
        },
        {
         "metadata": "{}",
         "name": "tweet_count",
         "type": "\"integer\""
        },
        {
         "metadata": "{}",
         "name": "average_3_day_rolling",
         "type": "\"double\""
        }
       ],
       "type": "table"
      }
     },
     "output_type": "display_data"
    }
   ],
   "source": [
    "# Define window specification for 3-day rolling average\n",
    "window_spec = Window.partitionBy(\"user_id\").orderBy(\"tweet_date\").rowsBetween(-2, 0)\n",
    "\n",
    "# Calculate rolling average and round the result\n",
    "result_df = df.withColumn(\n",
    "    \"average_3_day_rolling\", \n",
    "    _round(avg(\"tweet_count\").over(window_spec), 2)\n",
    ")\n",
    "\n",
    "# display the result\n",
    "result_df.display()\n"
   ]
  },
  {
   "cell_type": "code",
   "execution_count": 0,
   "metadata": {
    "application/vnd.databricks.v1+cell": {
     "cellMetadata": {
      "byteLimit": 2048000,
      "rowLimit": 10000
     },
     "inputWidgets": {},
     "nuid": "87c472ea-d36d-4e3c-bc6c-049c1413699e",
     "showTitle": false,
     "title": ""
    }
   },
   "outputs": [],
   "source": [
    "df.createOrReplaceTempView(\"tweet_data\")"
   ]
  },
  {
   "cell_type": "code",
   "execution_count": 0,
   "metadata": {
    "application/vnd.databricks.v1+cell": {
     "cellMetadata": {
      "byteLimit": 2048000,
      "implicitDf": true,
      "rowLimit": 10000
     },
     "inputWidgets": {},
     "nuid": "12ce9620-6371-4782-9781-2e3a2baea30b",
     "showTitle": false,
     "title": ""
    }
   },
   "outputs": [
    {
     "output_type": "display_data",
     "data": {
      "text/html": [
       "<style scoped>\n",
       "  .table-result-container {\n",
       "    max-height: 300px;\n",
       "    overflow: auto;\n",
       "  }\n",
       "  table, th, td {\n",
       "    border: 1px solid black;\n",
       "    border-collapse: collapse;\n",
       "  }\n",
       "  th, td {\n",
       "    padding: 5px;\n",
       "  }\n",
       "  th {\n",
       "    text-align: left;\n",
       "  }\n",
       "</style><div class='table-result-container'><table class='table-result'><thead style='background-color: white'><tr><th>user_id</th><th>tweet_date</th><th>rolling_avg_3d</th></tr></thead><tbody><tr><td>111</td><td>2022-06-01T00:00:00.000+0000</td><td>2.0</td></tr><tr><td>111</td><td>2022-06-02T00:00:00.000+0000</td><td>1.5</td></tr><tr><td>111</td><td>2022-06-03T00:00:00.000+0000</td><td>2.0</td></tr><tr><td>111</td><td>2022-06-04T00:00:00.000+0000</td><td>2.67</td></tr><tr><td>111</td><td>2022-06-05T00:00:00.000+0000</td><td>4.0</td></tr><tr><td>111</td><td>2022-06-06T00:00:00.000+0000</td><td>4.33</td></tr><tr><td>111</td><td>2022-06-07T00:00:00.000+0000</td><td>5.0</td></tr><tr><td>199</td><td>2022-06-01T00:00:00.000+0000</td><td>7.0</td></tr><tr><td>199</td><td>2022-06-02T00:00:00.000+0000</td><td>6.0</td></tr><tr><td>199</td><td>2022-06-03T00:00:00.000+0000</td><td>7.0</td></tr><tr><td>199</td><td>2022-06-04T00:00:00.000+0000</td><td>5.0</td></tr><tr><td>199</td><td>2022-06-05T00:00:00.000+0000</td><td>6.0</td></tr><tr><td>199</td><td>2022-06-06T00:00:00.000+0000</td><td>3.67</td></tr><tr><td>199</td><td>2022-06-07T00:00:00.000+0000</td><td>4.0</td></tr><tr><td>254</td><td>2022-06-01T00:00:00.000+0000</td><td>1.0</td></tr><tr><td>254</td><td>2022-06-02T00:00:00.000+0000</td><td>1.0</td></tr><tr><td>254</td><td>2022-06-03T00:00:00.000+0000</td><td>1.33</td></tr><tr><td>254</td><td>2022-06-04T00:00:00.000+0000</td><td>1.33</td></tr><tr><td>254</td><td>2022-06-05T00:00:00.000+0000</td><td>2.0</td></tr><tr><td>254</td><td>2022-06-06T00:00:00.000+0000</td><td>1.67</td></tr><tr><td>254</td><td>2022-06-07T00:00:00.000+0000</td><td>2.33</td></tr></tbody></table></div>"
      ]
     },
     "metadata": {
      "application/vnd.databricks.v1+output": {
       "addedWidgets": {},
       "aggData": [],
       "aggError": "",
       "aggOverflow": false,
       "aggSchema": [],
       "aggSeriesLimitReached": false,
       "aggType": "",
       "arguments": {},
       "columnCustomDisplayInfos": {},
       "data": [
        [
         111,
         "2022-06-01T00:00:00.000+0000",
         2.0
        ],
        [
         111,
         "2022-06-02T00:00:00.000+0000",
         1.5
        ],
        [
         111,
         "2022-06-03T00:00:00.000+0000",
         2.0
        ],
        [
         111,
         "2022-06-04T00:00:00.000+0000",
         2.67
        ],
        [
         111,
         "2022-06-05T00:00:00.000+0000",
         4.0
        ],
        [
         111,
         "2022-06-06T00:00:00.000+0000",
         4.33
        ],
        [
         111,
         "2022-06-07T00:00:00.000+0000",
         5.0
        ],
        [
         199,
         "2022-06-01T00:00:00.000+0000",
         7.0
        ],
        [
         199,
         "2022-06-02T00:00:00.000+0000",
         6.0
        ],
        [
         199,
         "2022-06-03T00:00:00.000+0000",
         7.0
        ],
        [
         199,
         "2022-06-04T00:00:00.000+0000",
         5.0
        ],
        [
         199,
         "2022-06-05T00:00:00.000+0000",
         6.0
        ],
        [
         199,
         "2022-06-06T00:00:00.000+0000",
         3.67
        ],
        [
         199,
         "2022-06-07T00:00:00.000+0000",
         4.0
        ],
        [
         254,
         "2022-06-01T00:00:00.000+0000",
         1.0
        ],
        [
         254,
         "2022-06-02T00:00:00.000+0000",
         1.0
        ],
        [
         254,
         "2022-06-03T00:00:00.000+0000",
         1.33
        ],
        [
         254,
         "2022-06-04T00:00:00.000+0000",
         1.33
        ],
        [
         254,
         "2022-06-05T00:00:00.000+0000",
         2.0
        ],
        [
         254,
         "2022-06-06T00:00:00.000+0000",
         1.67
        ],
        [
         254,
         "2022-06-07T00:00:00.000+0000",
         2.33
        ]
       ],
       "datasetInfos": [],
       "dbfsResultPath": null,
       "isJsonSchema": true,
       "metadata": {},
       "overflow": false,
       "plotOptions": {
        "customPlotOptions": {},
        "displayType": "table",
        "pivotAggregation": null,
        "pivotColumns": null,
        "xColumns": null,
        "yColumns": null
       },
       "removedWidgets": [],
       "schema": [
        {
         "metadata": "{}",
         "name": "user_id",
         "type": "\"integer\""
        },
        {
         "metadata": "{}",
         "name": "tweet_date",
         "type": "\"timestamp\""
        },
        {
         "metadata": "{}",
         "name": "rolling_avg_3d",
         "type": "\"double\""
        }
       ],
       "type": "table"
      }
     },
     "output_type": "display_data"
    }
   ],
   "source": [
    "%sql\n",
    "WITH TweetData AS (\n",
    "  SELECT    \n",
    "    user_id,    \n",
    "    tweet_date,    \n",
    "    tweet_count\n",
    "  FROM tweet_data\n",
    ")\n",
    "\n",
    "SELECT    \n",
    "  user_id,    \n",
    "  tweet_date,   \n",
    "  ROUND(AVG(tweet_count) OVER (\n",
    "    PARTITION BY user_id     \n",
    "    ORDER BY tweet_date     \n",
    "    ROWS BETWEEN 2 PRECEDING AND CURRENT ROW), 2) AS rolling_avg_3d\n",
    "FROM TweetData;"
   ]
  }
 ],
 "metadata": {
  "application/vnd.databricks.v1+notebook": {
   "dashboards": [],
   "environmentMetadata": null,
   "language": "python",
   "notebookMetadata": {
    "mostRecentlyExecutedCommandWithImplicitDF": {
     "commandId": 627560765825348,
     "dataframes": [
      "_sqldf"
     ]
    },
    "pythonIndentUnit": 4
   },
   "notebookName": "Twitter SQL Interview Question | Three Days Rolling Average | using Window Function & Self Join",
   "widgets": {}
  }
 },
 "nbformat": 4,
 "nbformat_minor": 0
}
