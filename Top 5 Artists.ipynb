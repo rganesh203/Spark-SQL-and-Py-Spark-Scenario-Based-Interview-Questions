{
 "cells": [
  {
   "cell_type": "markdown",
   "metadata": {
    "application/vnd.databricks.v1+cell": {
     "cellMetadata": {},
     "inputWidgets": {},
     "nuid": "fc262388-c9f1-474c-acfd-6226c1fda2a0",
     "showTitle": false,
     "tableResultSettingsMap": {},
     "title": ""
    }
   },
   "source": [
    "Problem Statement:\n",
    "\n",
    "As part of an ongoing analysis of salary distribution within the company, your manager has requested a report identifying high earners in each department. A 'high earner' within a department is defined as an employee with a salary ranking among the top three salaries within that department.\n",
    "\n",
    "You're tasked with identifying these high earners across all departments. Write a query to display the employee's name along with their department name and salary. In case of duplicates, sort the results of department name in ascending order, then by salary in descending order. If multiple employees have the same salary, then order them alphabetically.\n",
    "\n",
    "Note: Ensure to utilize the appropriate ranking window function to handle duplicate salaries effectively.\n",
    "\n",
    "As of June 18th, we have removed the requirement for unique salaries and revised the sorting order for the results."
   ]
  },
  {
   "cell_type": "code",
   "execution_count": 0,
   "metadata": {
    "application/vnd.databricks.v1+cell": {
     "cellMetadata": {
      "byteLimit": 2048000,
      "rowLimit": 10000
     },
     "inputWidgets": {},
     "nuid": "2a853645-7ef9-4bdd-8a4c-90f1630cb4d1",
     "showTitle": false,
     "tableResultSettingsMap": {},
     "title": ""
    }
   },
   "outputs": [
    {
     "output_type": "display_data",
     "data": {
      "text/html": [
       "<style scoped>\n",
       "  .table-result-container {\n",
       "    max-height: 300px;\n",
       "    overflow: auto;\n",
       "  }\n",
       "  table, th, td {\n",
       "    border: 1px solid black;\n",
       "    border-collapse: collapse;\n",
       "  }\n",
       "  th, td {\n",
       "    padding: 5px;\n",
       "  }\n",
       "  th {\n",
       "    text-align: left;\n",
       "  }\n",
       "</style><div class='table-result-container'><table class='table-result'><thead style='background-color: white'><tr><th>employee_id</th><th>name</th><th>salary</th><th>department_id</th><th>manager_id</th></tr></thead><tbody><tr><td>1</td><td>Emma Thompson</td><td>3800</td><td>1</td><td>6</td></tr><tr><td>2</td><td>Daniel Rodriguez</td><td>2230</td><td>1</td><td>7</td></tr><tr><td>3</td><td>Olivia Smith</td><td>7000</td><td>1</td><td>8</td></tr><tr><td>4</td><td>Noah Johnson</td><td>6800</td><td>2</td><td>9</td></tr><tr><td>5</td><td>Sophia Martinez</td><td>1750</td><td>1</td><td>11</td></tr><tr><td>6</td><td>Liam Brown</td><td>13000</td><td>3</td><td>null</td></tr><tr><td>7</td><td>Ava Garcia</td><td>12500</td><td>3</td><td>null</td></tr><tr><td>8</td><td>William Davis</td><td>6800</td><td>2</td><td>null</td></tr><tr><td>9</td><td>Isabella Wilson</td><td>11000</td><td>3</td><td>null</td></tr><tr><td>10</td><td>James Anderson</td><td>4000</td><td>1</td><td>11</td></tr><tr><td>11</td><td>Mia Taylor</td><td>10800</td><td>3</td><td>null</td></tr><tr><td>12</td><td>Benjamin Hernandez</td><td>9500</td><td>3</td><td>8</td></tr><tr><td>13</td><td>Charlotte Miller</td><td>7000</td><td>2</td><td>6</td></tr><tr><td>14</td><td>Logan Moore</td><td>8000</td><td>2</td><td>6</td></tr><tr><td>15</td><td>Amelia Lee</td><td>4000</td><td>1</td><td>7</td></tr></tbody></table></div>"
      ]
     },
     "metadata": {
      "application/vnd.databricks.v1+output": {
       "addedWidgets": {},
       "aggData": [],
       "aggError": "",
       "aggOverflow": false,
       "aggSchema": [],
       "aggSeriesLimitReached": false,
       "aggType": "",
       "arguments": {},
       "columnCustomDisplayInfos": {},
       "data": [
        [
         1,
         "Emma Thompson",
         3800,
         1,
         6
        ],
        [
         2,
         "Daniel Rodriguez",
         2230,
         1,
         7
        ],
        [
         3,
         "Olivia Smith",
         7000,
         1,
         8
        ],
        [
         4,
         "Noah Johnson",
         6800,
         2,
         9
        ],
        [
         5,
         "Sophia Martinez",
         1750,
         1,
         11
        ],
        [
         6,
         "Liam Brown",
         13000,
         3,
         null
        ],
        [
         7,
         "Ava Garcia",
         12500,
         3,
         null
        ],
        [
         8,
         "William Davis",
         6800,
         2,
         null
        ],
        [
         9,
         "Isabella Wilson",
         11000,
         3,
         null
        ],
        [
         10,
         "James Anderson",
         4000,
         1,
         11
        ],
        [
         11,
         "Mia Taylor",
         10800,
         3,
         null
        ],
        [
         12,
         "Benjamin Hernandez",
         9500,
         3,
         8
        ],
        [
         13,
         "Charlotte Miller",
         7000,
         2,
         6
        ],
        [
         14,
         "Logan Moore",
         8000,
         2,
         6
        ],
        [
         15,
         "Amelia Lee",
         4000,
         1,
         7
        ]
       ],
       "datasetInfos": [],
       "dbfsResultPath": null,
       "isJsonSchema": true,
       "metadata": {},
       "overflow": false,
       "plotOptions": {
        "customPlotOptions": {},
        "displayType": "table",
        "pivotAggregation": null,
        "pivotColumns": null,
        "xColumns": null,
        "yColumns": null
       },
       "removedWidgets": [],
       "schema": [
        {
         "metadata": "{}",
         "name": "employee_id",
         "type": "\"long\""
        },
        {
         "metadata": "{}",
         "name": "name",
         "type": "\"string\""
        },
        {
         "metadata": "{}",
         "name": "salary",
         "type": "\"long\""
        },
        {
         "metadata": "{}",
         "name": "department_id",
         "type": "\"long\""
        },
        {
         "metadata": "{}",
         "name": "manager_id",
         "type": "\"long\""
        }
       ],
       "type": "table"
      }
     },
     "output_type": "display_data"
    }
   ],
   "source": [
    "# Define the employee data\n",
    "data = [\n",
    "    (1, \"Emma Thompson\", 3800, 1, 6),\n",
    "    (2, \"Daniel Rodriguez\", 2230, 1, 7),\n",
    "    (3, \"Olivia Smith\", 7000, 1, 8),\n",
    "    (4, \"Noah Johnson\", 6800, 2, 9),\n",
    "    (5, \"Sophia Martinez\", 1750, 1, 11),\n",
    "    (6, \"Liam Brown\", 13000, 3, None),\n",
    "    (7, \"Ava Garcia\", 12500, 3, None),\n",
    "    (8, \"William Davis\", 6800, 2, None),\n",
    "    (9, \"Isabella Wilson\", 11000, 3, None),\n",
    "    (10, \"James Anderson\", 4000, 1, 11),\n",
    "    (11, \"Mia Taylor\", 10800, 3, None),\n",
    "    (12, \"Benjamin Hernandez\", 9500, 3, 8),\n",
    "    (13, \"Charlotte Miller\", 7000, 2, 6),\n",
    "    (14, \"Logan Moore\", 8000, 2, 6),\n",
    "    (15, \"Amelia Lee\", 4000, 1, 7),\n",
    "]\n",
    "\n",
    "# Define the schema\n",
    "columns = [\"employee_id\", \"name\", \"salary\", \"department_id\", \"manager_id\"]\n",
    "\n",
    "# Create the DataFrame\n",
    "employee_df = spark.createDataFrame(data, schema=columns)\n",
    "\n",
    "# display the DataFrame\n",
    "employee_df.display()"
   ]
  },
  {
   "cell_type": "code",
   "execution_count": 0,
   "metadata": {
    "application/vnd.databricks.v1+cell": {
     "cellMetadata": {
      "byteLimit": 2048000,
      "rowLimit": 10000
     },
     "inputWidgets": {},
     "nuid": "7d9dad2b-51d2-4946-adbf-2ff5f7000505",
     "showTitle": false,
     "tableResultSettingsMap": {},
     "title": ""
    }
   },
   "outputs": [
    {
     "output_type": "display_data",
     "data": {
      "text/html": [
       "<style scoped>\n",
       "  .table-result-container {\n",
       "    max-height: 300px;\n",
       "    overflow: auto;\n",
       "  }\n",
       "  table, th, td {\n",
       "    border: 1px solid black;\n",
       "    border-collapse: collapse;\n",
       "  }\n",
       "  th, td {\n",
       "    padding: 5px;\n",
       "  }\n",
       "  th {\n",
       "    text-align: left;\n",
       "  }\n",
       "</style><div class='table-result-container'><table class='table-result'><thead style='background-color: white'><tr><th>department_id</th><th>department_name</th></tr></thead><tbody><tr><td>1</td><td>Data Analytics</td></tr><tr><td>2</td><td>Data Science</td></tr><tr><td>3</td><td>Data Engineering</td></tr></tbody></table></div>"
      ]
     },
     "metadata": {
      "application/vnd.databricks.v1+output": {
       "addedWidgets": {},
       "aggData": [],
       "aggError": "",
       "aggOverflow": false,
       "aggSchema": [],
       "aggSeriesLimitReached": false,
       "aggType": "",
       "arguments": {},
       "columnCustomDisplayInfos": {},
       "data": [
        [
         1,
         "Data Analytics"
        ],
        [
         2,
         "Data Science"
        ],
        [
         3,
         "Data Engineering"
        ]
       ],
       "datasetInfos": [],
       "dbfsResultPath": null,
       "isJsonSchema": true,
       "metadata": {},
       "overflow": false,
       "plotOptions": {
        "customPlotOptions": {},
        "displayType": "table",
        "pivotAggregation": null,
        "pivotColumns": null,
        "xColumns": null,
        "yColumns": null
       },
       "removedWidgets": [],
       "schema": [
        {
         "metadata": "{}",
         "name": "department_id",
         "type": "\"long\""
        },
        {
         "metadata": "{}",
         "name": "department_name",
         "type": "\"string\""
        }
       ],
       "type": "table"
      }
     },
     "output_type": "display_data"
    }
   ],
   "source": [
    "# Define the department data\n",
    "department_data = [\n",
    "    (1, \"Data Analytics\"),\n",
    "    (2, \"Data Science\"),\n",
    "    (3, \"Data Engineering\"),\n",
    "]\n",
    "\n",
    "# Define the schema for the department DataFrame\n",
    "department_columns = [\"department_id\", \"department_name\"]\n",
    "\n",
    "# Create the DataFrame for departments\n",
    "department_df = spark.createDataFrame(department_data, schema=department_columns)\n",
    "\n",
    "# Show the DataFrame\n",
    "department_df.display()"
   ]
  },
  {
   "cell_type": "code",
   "execution_count": 0,
   "metadata": {
    "application/vnd.databricks.v1+cell": {
     "cellMetadata": {
      "byteLimit": 2048000,
      "rowLimit": 10000
     },
     "inputWidgets": {},
     "nuid": "cce4c6a4-196c-4f46-a7a8-ca11f73f1b81",
     "showTitle": false,
     "tableResultSettingsMap": {},
     "title": ""
    }
   },
   "outputs": [],
   "source": [
    "employee_df.createOrReplaceTempView(\"employee\")\n",
    "department_df.createOrReplaceTempView(\"department\")"
   ]
  },
  {
   "cell_type": "code",
   "execution_count": 0,
   "metadata": {
    "application/vnd.databricks.v1+cell": {
     "cellMetadata": {
      "byteLimit": 2048000,
      "implicitDf": true,
      "rowLimit": 10000
     },
     "inputWidgets": {},
     "nuid": "0fa62030-a743-4a39-9126-f7883188741f",
     "showTitle": false,
     "tableResultSettingsMap": {},
     "title": ""
    }
   },
   "outputs": [
    {
     "output_type": "display_data",
     "data": {
      "text/html": [
       "<style scoped>\n",
       "  .table-result-container {\n",
       "    max-height: 300px;\n",
       "    overflow: auto;\n",
       "  }\n",
       "  table, th, td {\n",
       "    border: 1px solid black;\n",
       "    border-collapse: collapse;\n",
       "  }\n",
       "  th, td {\n",
       "    padding: 5px;\n",
       "  }\n",
       "  th {\n",
       "    text-align: left;\n",
       "  }\n",
       "</style><div class='table-result-container'><table class='table-result'><thead style='background-color: white'><tr><th>department_name</th><th>name</th><th>salary</th></tr></thead><tbody><tr><td>Data Analytics</td><td>Olivia Smith</td><td>7000</td></tr><tr><td>Data Analytics</td><td>Amelia Lee</td><td>4000</td></tr><tr><td>Data Analytics</td><td>James Anderson</td><td>4000</td></tr><tr><td>Data Analytics</td><td>Emma Thompson</td><td>3800</td></tr><tr><td>Data Engineering</td><td>Liam Brown</td><td>13000</td></tr><tr><td>Data Engineering</td><td>Ava Garcia</td><td>12500</td></tr><tr><td>Data Engineering</td><td>Isabella Wilson</td><td>11000</td></tr><tr><td>Data Science</td><td>Logan Moore</td><td>8000</td></tr><tr><td>Data Science</td><td>Charlotte Miller</td><td>7000</td></tr><tr><td>Data Science</td><td>Noah Johnson</td><td>6800</td></tr><tr><td>Data Science</td><td>William Davis</td><td>6800</td></tr></tbody></table></div>"
      ]
     },
     "metadata": {
      "application/vnd.databricks.v1+output": {
       "addedWidgets": {},
       "aggData": [],
       "aggError": "",
       "aggOverflow": false,
       "aggSchema": [],
       "aggSeriesLimitReached": false,
       "aggType": "",
       "arguments": {},
       "columnCustomDisplayInfos": {},
       "data": [
        [
         "Data Analytics",
         "Olivia Smith",
         7000
        ],
        [
         "Data Analytics",
         "Amelia Lee",
         4000
        ],
        [
         "Data Analytics",
         "James Anderson",
         4000
        ],
        [
         "Data Analytics",
         "Emma Thompson",
         3800
        ],
        [
         "Data Engineering",
         "Liam Brown",
         13000
        ],
        [
         "Data Engineering",
         "Ava Garcia",
         12500
        ],
        [
         "Data Engineering",
         "Isabella Wilson",
         11000
        ],
        [
         "Data Science",
         "Logan Moore",
         8000
        ],
        [
         "Data Science",
         "Charlotte Miller",
         7000
        ],
        [
         "Data Science",
         "Noah Johnson",
         6800
        ],
        [
         "Data Science",
         "William Davis",
         6800
        ]
       ],
       "datasetInfos": [],
       "dbfsResultPath": null,
       "isJsonSchema": true,
       "metadata": {},
       "overflow": false,
       "plotOptions": {
        "customPlotOptions": {},
        "displayType": "table",
        "pivotAggregation": null,
        "pivotColumns": null,
        "xColumns": null,
        "yColumns": null
       },
       "removedWidgets": [],
       "schema": [
        {
         "metadata": "{}",
         "name": "department_name",
         "type": "\"string\""
        },
        {
         "metadata": "{}",
         "name": "name",
         "type": "\"string\""
        },
        {
         "metadata": "{}",
         "name": "salary",
         "type": "\"long\""
        }
       ],
       "type": "table"
      }
     },
     "output_type": "display_data"
    }
   ],
   "source": [
    "%sql\n",
    "WITH ranked_salary AS (\n",
    "  SELECT\n",
    "    name,\n",
    "    salary,\n",
    "    department_id,\n",
    "    DENSE_RANK() OVER (\n",
    "      PARTITION BY department_id\n",
    "      ORDER BY\n",
    "        salary DESC\n",
    "    ) AS ranking\n",
    "  FROM\n",
    "    employee\n",
    ")\n",
    "SELECT\n",
    "  d.department_name,\n",
    "  s.name,\n",
    "  s.salary\n",
    "FROM\n",
    "  ranked_salary AS s\n",
    "  INNER JOIN department AS d ON s.department_id = d.department_id\n",
    "WHERE\n",
    "  s.ranking <= 3\n",
    "ORDER BY\n",
    "  d.department_name ASC,\n",
    "  s.salary DESC,\n",
    "  s.name ASC;"
   ]
  },
  {
   "cell_type": "code",
   "execution_count": 0,
   "metadata": {
    "application/vnd.databricks.v1+cell": {
     "cellMetadata": {
      "byteLimit": 2048000,
      "rowLimit": 10000
     },
     "inputWidgets": {},
     "nuid": "1ee0b6dd-615d-47bf-9045-19fb8ad54e56",
     "showTitle": false,
     "tableResultSettingsMap": {},
     "title": ""
    }
   },
   "outputs": [
    {
     "output_type": "display_data",
     "data": {
      "text/html": [
       "<style scoped>\n",
       "  .table-result-container {\n",
       "    max-height: 300px;\n",
       "    overflow: auto;\n",
       "  }\n",
       "  table, th, td {\n",
       "    border: 1px solid black;\n",
       "    border-collapse: collapse;\n",
       "  }\n",
       "  th, td {\n",
       "    padding: 5px;\n",
       "  }\n",
       "  th {\n",
       "    text-align: left;\n",
       "  }\n",
       "</style><div class='table-result-container'><table class='table-result'><thead style='background-color: white'><tr><th>department_name</th><th>name</th><th>salary</th></tr></thead><tbody><tr><td>Data Analytics</td><td>Olivia Smith</td><td>7000</td></tr><tr><td>Data Analytics</td><td>Amelia Lee</td><td>4000</td></tr><tr><td>Data Analytics</td><td>James Anderson</td><td>4000</td></tr><tr><td>Data Analytics</td><td>Emma Thompson</td><td>3800</td></tr><tr><td>Data Engineering</td><td>Liam Brown</td><td>13000</td></tr><tr><td>Data Engineering</td><td>Ava Garcia</td><td>12500</td></tr><tr><td>Data Engineering</td><td>Isabella Wilson</td><td>11000</td></tr><tr><td>Data Science</td><td>Logan Moore</td><td>8000</td></tr><tr><td>Data Science</td><td>Charlotte Miller</td><td>7000</td></tr><tr><td>Data Science</td><td>Noah Johnson</td><td>6800</td></tr><tr><td>Data Science</td><td>William Davis</td><td>6800</td></tr></tbody></table></div>"
      ]
     },
     "metadata": {
      "application/vnd.databricks.v1+output": {
       "addedWidgets": {},
       "aggData": [],
       "aggError": "",
       "aggOverflow": false,
       "aggSchema": [],
       "aggSeriesLimitReached": false,
       "aggType": "",
       "arguments": {},
       "columnCustomDisplayInfos": {},
       "data": [
        [
         "Data Analytics",
         "Olivia Smith",
         7000
        ],
        [
         "Data Analytics",
         "Amelia Lee",
         4000
        ],
        [
         "Data Analytics",
         "James Anderson",
         4000
        ],
        [
         "Data Analytics",
         "Emma Thompson",
         3800
        ],
        [
         "Data Engineering",
         "Liam Brown",
         13000
        ],
        [
         "Data Engineering",
         "Ava Garcia",
         12500
        ],
        [
         "Data Engineering",
         "Isabella Wilson",
         11000
        ],
        [
         "Data Science",
         "Logan Moore",
         8000
        ],
        [
         "Data Science",
         "Charlotte Miller",
         7000
        ],
        [
         "Data Science",
         "Noah Johnson",
         6800
        ],
        [
         "Data Science",
         "William Davis",
         6800
        ]
       ],
       "datasetInfos": [],
       "dbfsResultPath": null,
       "isJsonSchema": true,
       "metadata": {},
       "overflow": false,
       "plotOptions": {
        "customPlotOptions": {},
        "displayType": "table",
        "pivotAggregation": null,
        "pivotColumns": null,
        "xColumns": null,
        "yColumns": null
       },
       "removedWidgets": [],
       "schema": [
        {
         "metadata": "{}",
         "name": "department_name",
         "type": "\"string\""
        },
        {
         "metadata": "{}",
         "name": "name",
         "type": "\"string\""
        },
        {
         "metadata": "{}",
         "name": "salary",
         "type": "\"long\""
        }
       ],
       "type": "table"
      }
     },
     "output_type": "display_data"
    }
   ],
   "source": [
    "from pyspark.sql import functions as F\n",
    "from pyspark.sql import Window\n",
    "\n",
    "# Define a window specification for ranking\n",
    "window_spec = Window.partitionBy(\"department_id\").orderBy(F.desc(\"salary\"))\n",
    "\n",
    "# Create a ranked DataFrame\n",
    "ranked_salary_df = employee_df.withColumn(\"ranking\", F.dense_rank().over(window_spec))\n",
    "\n",
    "# Join the ranked DataFrame with the department DataFrame\n",
    "result_df = (\n",
    "    ranked_salary_df.join(department_df, \"department_id\")\n",
    "    .filter(ranked_salary_df.ranking <= 3)\n",
    "    .select(\n",
    "        department_df.department_name, ranked_salary_df.name, ranked_salary_df.salary\n",
    "    )\n",
    "    .orderBy(\n",
    "        department_df.department_name.asc(),\n",
    "        ranked_salary_df.salary.desc(),\n",
    "        ranked_salary_df.name.asc(),\n",
    "    )\n",
    ")\n",
    "\n",
    "# Show the result\n",
    "result_df.display()"
   ]
  },
  {
   "cell_type": "markdown",
   "metadata": {
    "application/vnd.databricks.v1+cell": {
     "cellMetadata": {},
     "inputWidgets": {},
     "nuid": "f619a7bb-6d5b-46b0-8bea-e2194ce056f2",
     "showTitle": false,
     "tableResultSettingsMap": {},
     "title": ""
    }
   },
   "source": [
    "Explanation:\n",
    "\n",
    "Window Specification: A Window is defined to partition the data by department_id and order it by salary in descending order.\n",
    "\n",
    "Ranking: The dense_rank() function is used to calculate rankings for each employee within their department.\n",
    "\n",
    "Joining: The join() method combines the ranked employee DataFrame with the department DataFrame on the department_id.\n",
    "\n",
    "Filtering and Selecting: The filter condition restricts the results to only include the top 3 salaries in each department, and specific columns are selected for the final output.\n",
    "\n",
    "Ordering: Finally, the results are ordered according to the department name, salary, and employee name as required.\n",
    "\n",
    "You can run this PySpark code in your environment to get the top three employees by salary for each department along with the department names."
   ]
  }
 ],
 "metadata": {
  "application/vnd.databricks.v1+notebook": {
   "dashboards": [],
   "environmentMetadata": null,
   "language": "python",
   "notebookMetadata": {
    "mostRecentlyExecutedCommandWithImplicitDF": {
     "commandId": 1237823318553801,
     "dataframes": [
      "_sqldf"
     ]
    },
    "pythonIndentUnit": 4
   },
   "notebookName": "Top 5 Artists",
   "widgets": {}
  }
 },
 "nbformat": 4,
 "nbformat_minor": 0
}
