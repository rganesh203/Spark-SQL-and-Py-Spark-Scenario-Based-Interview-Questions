{
 "cells": [
  {
   "cell_type": "code",
   "execution_count": 0,
   "metadata": {
    "application/vnd.databricks.v1+cell": {
     "cellMetadata": {
      "byteLimit": 2048000,
      "rowLimit": 10000
     },
     "inputWidgets": {},
     "nuid": "8210b7ae-981a-4462-9fb4-6d3d50ac2806",
     "showTitle": false,
     "tableResultSettingsMap": {},
     "title": ""
    }
   },
   "outputs": [
    {
     "output_type": "display_data",
     "data": {
      "text/html": [
       "<style scoped>\n",
       "  .table-result-container {\n",
       "    max-height: 300px;\n",
       "    overflow: auto;\n",
       "  }\n",
       "  table, th, td {\n",
       "    border: 1px solid black;\n",
       "    border-collapse: collapse;\n",
       "  }\n",
       "  th, td {\n",
       "    padding: 5px;\n",
       "  }\n",
       "  th {\n",
       "    text-align: left;\n",
       "  }\n",
       "</style><div class='table-result-container'><table class='table-result'><thead style='background-color: white'><tr><th>Center_ID</th><th>Case_ID</th><th>Stage1</th><th>Stage2</th><th>Stage3</th><th>Stage4</th><th>Stage5</th></tr></thead><tbody><tr><td>C1</td><td>1</td><td>2024-01-01</td><td>null</td><td>null</td><td>2024-01-13</td><td>null</td></tr><tr><td>C1</td><td>2</td><td>2024-01-05</td><td>2024-01-10</td><td>null</td><td>null</td><td>null</td></tr><tr><td>C2</td><td>3</td><td>null</td><td>2024-01-10</td><td>null</td><td>null</td><td>2024-01-20</td></tr><tr><td>C3</td><td>4</td><td>2024-01-05</td><td>2024-01-12</td><td>2024-01-12</td><td>2024-01-14</td><td>2024-01-20</td></tr><tr><td>C3</td><td>5</td><td>2024-01-10</td><td>2024-01-15</td><td>null</td><td>null</td><td>null</td></tr><tr><td>C3</td><td>6</td><td>null</td><td>null</td><td>null</td><td>2024-01-15</td><td>null</td></tr></tbody></table></div>"
      ]
     },
     "metadata": {
      "application/vnd.databricks.v1+output": {
       "addedWidgets": {},
       "aggData": [],
       "aggError": "",
       "aggOverflow": false,
       "aggSchema": [],
       "aggSeriesLimitReached": false,
       "aggType": "",
       "arguments": {},
       "columnCustomDisplayInfos": {},
       "data": [
        [
         "C1",
         1,
         "2024-01-01",
         null,
         null,
         "2024-01-13",
         null
        ],
        [
         "C1",
         2,
         "2024-01-05",
         "2024-01-10",
         null,
         null,
         null
        ],
        [
         "C2",
         3,
         null,
         "2024-01-10",
         null,
         null,
         "2024-01-20"
        ],
        [
         "C3",
         4,
         "2024-01-05",
         "2024-01-12",
         "2024-01-12",
         "2024-01-14",
         "2024-01-20"
        ],
        [
         "C3",
         5,
         "2024-01-10",
         "2024-01-15",
         null,
         null,
         null
        ],
        [
         "C3",
         6,
         null,
         null,
         null,
         "2024-01-15",
         null
        ]
       ],
       "datasetInfos": [],
       "dbfsResultPath": null,
       "isJsonSchema": true,
       "metadata": {},
       "overflow": false,
       "plotOptions": {
        "customPlotOptions": {},
        "displayType": "table",
        "pivotAggregation": null,
        "pivotColumns": null,
        "xColumns": null,
        "yColumns": null
       },
       "removedWidgets": [],
       "schema": [
        {
         "metadata": "{}",
         "name": "Center_ID",
         "type": "\"string\""
        },
        {
         "metadata": "{}",
         "name": "Case_ID",
         "type": "\"integer\""
        },
        {
         "metadata": "{}",
         "name": "Stage1",
         "type": "\"date\""
        },
        {
         "metadata": "{}",
         "name": "Stage2",
         "type": "\"date\""
        },
        {
         "metadata": "{}",
         "name": "Stage3",
         "type": "\"date\""
        },
        {
         "metadata": "{}",
         "name": "Stage4",
         "type": "\"date\""
        },
        {
         "metadata": "{}",
         "name": "Stage5",
         "type": "\"date\""
        }
       ],
       "type": "table"
      }
     },
     "output_type": "display_data"
    }
   ],
   "source": [
    "from pyspark.sql.types import *\n",
    "from datetime import datetime\n",
    "\n",
    "# Initialize Spark session\n",
    "\n",
    "# Define the schema\n",
    "schema = StructType([\n",
    "    StructField(\"Center_ID\", StringType(), True),\n",
    "    StructField(\"Case_ID\", IntegerType(), True),\n",
    "    StructField(\"Stage1\", DateType(), True),\n",
    "    StructField(\"Stage2\", DateType(), True),\n",
    "    StructField(\"Stage3\", DateType(), True),\n",
    "    StructField(\"Stage4\", DateType(), True),\n",
    "    StructField(\"Stage5\", DateType(), True),\n",
    "])\n",
    "\n",
    "# Define the data\n",
    "data = [\n",
    "    (\"C1\", 1, datetime.strptime(\"2024-01-01\", \"%Y-%m-%d\"), None, None, datetime.strptime(\"2024-01-13\", \"%Y-%m-%d\"), None),\n",
    "    (\"C1\", 2, datetime.strptime(\"2024-01-05\", \"%Y-%m-%d\"), datetime.strptime(\"2024-01-10\", \"%Y-%m-%d\"), None, None, None),\n",
    "    (\"C2\", 3, None, datetime.strptime(\"2024-01-10\", \"%Y-%m-%d\"), None, None, datetime.strptime(\"2024-01-20\", \"%Y-%m-%d\")),\n",
    "    (\"C3\", 4, datetime.strptime(\"2024-01-05\", \"%Y-%m-%d\"), datetime.strptime(\"2024-01-12\", \"%Y-%m-%d\"), datetime.strptime(\"2024-01-12\", \"%Y-%m-%d\"), datetime.strptime(\"2024-01-14\", \"%Y-%m-%d\"), datetime.strptime(\"2024-01-20\", \"%Y-%m-%d\")),\n",
    "    (\"C3\", 5, datetime.strptime(\"2024-01-10\", \"%Y-%m-%d\"), datetime.strptime(\"2024-01-15\", \"%Y-%m-%d\"), None, None, None),\n",
    "    (\"C3\", 6, None, None, None, datetime.strptime(\"2024-01-15\", \"%Y-%m-%d\"), None),\n",
    "]\n",
    "\n",
    "# Create the DataFrame\n",
    "case_progress_df = spark.createDataFrame(data, schema=schema)\n",
    "\n",
    "# Show the DataFrame\n",
    "case_progress_df.display()\n"
   ]
  },
  {
   "cell_type": "code",
   "execution_count": 0,
   "metadata": {
    "application/vnd.databricks.v1+cell": {
     "cellMetadata": {
      "byteLimit": 2048000,
      "rowLimit": 10000
     },
     "inputWidgets": {},
     "nuid": "528fa279-100e-4e56-8aa8-49f0c1fbdfc2",
     "showTitle": false,
     "tableResultSettingsMap": {},
     "title": ""
    }
   },
   "outputs": [],
   "source": [
    "# Create a temporary view for SQL\n",
    "case_progress_df.createOrReplaceTempView(\"CaseProgress\")"
   ]
  },
  {
   "cell_type": "code",
   "execution_count": 0,
   "metadata": {
    "application/vnd.databricks.v1+cell": {
     "cellMetadata": {
      "byteLimit": 2048000,
      "rowLimit": 10000
     },
     "inputWidgets": {},
     "nuid": "9f40cae5-d11e-4a5a-a3ee-8fa5ef8e9d6c",
     "showTitle": false,
     "tableResultSettingsMap": {},
     "title": ""
    }
   },
   "outputs": [
    {
     "output_type": "display_data",
     "data": {
      "text/html": [
       "<style scoped>\n",
       "  .table-result-container {\n",
       "    max-height: 300px;\n",
       "    overflow: auto;\n",
       "  }\n",
       "  table, th, td {\n",
       "    border: 1px solid black;\n",
       "    border-collapse: collapse;\n",
       "  }\n",
       "  th, td {\n",
       "    padding: 5px;\n",
       "  }\n",
       "  th {\n",
       "    text-align: left;\n",
       "  }\n",
       "</style><div class='table-result-container'><table class='table-result'><thead style='background-color: white'><tr><th>Center_ID</th><th>Stage1</th><th>Stage2</th><th>Stage3</th><th>Stage4</th><th>Stage5</th></tr></thead><tbody><tr><td>C1</td><td>2</td><td>2</td><td>1</td><td>1</td><td>0</td></tr><tr><td>C2</td><td>1</td><td>1</td><td>1</td><td>1</td><td>1</td></tr><tr><td>C3</td><td>3</td><td>3</td><td>2</td><td>2</td><td>1</td></tr></tbody></table></div>"
      ]
     },
     "metadata": {
      "application/vnd.databricks.v1+output": {
       "addedWidgets": {},
       "aggData": [],
       "aggError": "",
       "aggOverflow": false,
       "aggSchema": [],
       "aggSeriesLimitReached": false,
       "aggType": "",
       "arguments": {},
       "columnCustomDisplayInfos": {},
       "data": [
        [
         "C1",
         2,
         2,
         1,
         1,
         0
        ],
        [
         "C2",
         1,
         1,
         1,
         1,
         1
        ],
        [
         "C3",
         3,
         3,
         2,
         2,
         1
        ]
       ],
       "datasetInfos": [],
       "dbfsResultPath": null,
       "isJsonSchema": true,
       "metadata": {},
       "overflow": false,
       "plotOptions": {
        "customPlotOptions": {},
        "displayType": "table",
        "pivotAggregation": null,
        "pivotColumns": null,
        "xColumns": null,
        "yColumns": null
       },
       "removedWidgets": [],
       "schema": [
        {
         "metadata": "{}",
         "name": "Center_ID",
         "type": "\"string\""
        },
        {
         "metadata": "{}",
         "name": "Stage1",
         "type": "\"long\""
        },
        {
         "metadata": "{}",
         "name": "Stage2",
         "type": "\"long\""
        },
        {
         "metadata": "{}",
         "name": "Stage3",
         "type": "\"long\""
        },
        {
         "metadata": "{}",
         "name": "Stage4",
         "type": "\"long\""
        },
        {
         "metadata": "{}",
         "name": "Stage5",
         "type": "\"long\""
        }
       ],
       "type": "table"
      }
     },
     "output_type": "display_data"
    }
   ],
   "source": [
    "# Spark SQL query\n",
    "query = \"\"\"\n",
    "WITH cte AS (\n",
    "    SELECT *,\n",
    "           concat_ws(\",\", Stage1, Stage2, Stage3, Stage4, Stage5) AS cnct1,\n",
    "           concat_ws(\",\", Stage2, Stage3, Stage4, Stage5) AS cnct2,\n",
    "           concat_ws(\",\", Stage3, Stage4, Stage5) AS cnct3,\n",
    "           concat_ws(\",\", Stage4, Stage5) AS cnct4,\n",
    "           concat_ws(\",\", Stage5) AS cnct5\n",
    "    FROM CaseProgress\n",
    ")\n",
    "SELECT \n",
    "    Center_ID,\n",
    "    SUM(IF(LENGTH(cnct1) <> 0, 1, 0)) AS Stage1,\n",
    "    SUM(IF(LENGTH(cnct2) <> 0, 1, 0)) AS Stage2,\n",
    "    SUM(IF(LENGTH(cnct3) <> 0, 1, 0)) AS Stage3,\n",
    "    SUM(IF(LENGTH(cnct4) <> 0, 1, 0)) AS Stage4,\n",
    "    SUM(IF(LENGTH(cnct5) <> 0, 1, 0)) AS Stage5\n",
    "FROM cte\n",
    "GROUP BY Center_ID\n",
    "\"\"\"\n",
    "\n",
    "# Execute the query\n",
    "result_df = spark.sql(query)\n",
    "\n",
    "# Show the result\n",
    "result_df.display()\n"
   ]
  }
 ],
 "metadata": {
  "application/vnd.databricks.v1+notebook": {
   "dashboards": [],
   "environmentMetadata": null,
   "language": "python",
   "notebookMetadata": {
    "pythonIndentUnit": 4
   },
   "notebookName": "Deloitte SQL Interview Question 2024 | Cases that reached each stage of completion for each center",
   "widgets": {}
  }
 },
 "nbformat": 4,
 "nbformat_minor": 0
}
