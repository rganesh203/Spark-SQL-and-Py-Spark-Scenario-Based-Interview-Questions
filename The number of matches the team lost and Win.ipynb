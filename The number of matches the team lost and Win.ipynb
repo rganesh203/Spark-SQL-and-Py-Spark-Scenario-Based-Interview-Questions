{
 "cells": [
  {
   "cell_type": "markdown",
   "metadata": {
    "application/vnd.databricks.v1+cell": {
     "cellMetadata": {},
     "inputWidgets": {},
     "nuid": "3844601d-5db1-4a03-a266-cc764cadd406",
     "showTitle": false,
     "tableResultSettingsMap": {},
     "title": ""
    }
   },
   "source": [
    "Problem Statement:\n",
    "\n",
    "Here are tasked with analyzing cricket match data stored in a PySpark DataFrame. Each row in the dataset represents a match with the following details:\n",
    "\n",
    "The goal is to compute the following statistics for each team:\n",
    "\n",
    "Team Name: \n",
    "The name of the cricket team.\n",
    "Number of Matches Played: \n",
    "The total number of matches in which the team participated.\n",
    "Number of Matches Won: \n",
    "The number of matches the team won (when the team's name matches the result column).\n",
    "Number of Matches Lost: \n",
    "The number of matches the team lost (when the result column does not match the team name and is not \"DRAW\")."
   ]
  },
  {
   "cell_type": "code",
   "execution_count": 0,
   "metadata": {
    "application/vnd.databricks.v1+cell": {
     "cellMetadata": {
      "byteLimit": 2048000,
      "rowLimit": 10000
     },
     "inputWidgets": {},
     "nuid": "b54f0308-55f6-4bc4-8305-f7d3447737ce",
     "showTitle": false,
     "tableResultSettingsMap": {},
     "title": ""
    }
   },
   "outputs": [
    {
     "output_type": "display_data",
     "data": {
      "text/html": [
       "<style scoped>\n",
       "  .table-result-container {\n",
       "    max-height: 300px;\n",
       "    overflow: auto;\n",
       "  }\n",
       "  table, th, td {\n",
       "    border: 1px solid black;\n",
       "    border-collapse: collapse;\n",
       "  }\n",
       "  th, td {\n",
       "    padding: 5px;\n",
       "  }\n",
       "  th {\n",
       "    text-align: left;\n",
       "  }\n",
       "</style><div class='table-result-container'><table class='table-result'><thead style='background-color: white'><tr><th>match_id</th><th>team1</th><th>team2</th><th>result</th></tr></thead><tbody><tr><td>1</td><td>ENG</td><td>NZ</td><td>NZ</td></tr><tr><td>2</td><td>PAK</td><td>NED</td><td>PAK</td></tr><tr><td>3</td><td>AFG</td><td>BAN</td><td>BAN</td></tr><tr><td>4</td><td>SA</td><td>SL</td><td>SA</td></tr><tr><td>5</td><td>AUS</td><td>IND</td><td>AUS</td></tr><tr><td>6</td><td>NZ</td><td>NED</td><td>NZ</td></tr><tr><td>7</td><td>ENG</td><td>BAN</td><td>ENG</td></tr><tr><td>8</td><td>SL</td><td>PAK</td><td>PAK</td></tr><tr><td>9</td><td>AFG</td><td>IND</td><td>IND</td></tr><tr><td>10</td><td>SA</td><td>AUS</td><td>SA</td></tr><tr><td>11</td><td>BAN</td><td>NZ</td><td>BAN</td></tr><tr><td>12</td><td>PAK</td><td>IND</td><td>IND</td></tr><tr><td>13</td><td>SA</td><td>IND</td><td>DRAW</td></tr></tbody></table></div>"
      ]
     },
     "metadata": {
      "application/vnd.databricks.v1+output": {
       "addedWidgets": {},
       "aggData": [],
       "aggError": "",
       "aggOverflow": false,
       "aggSchema": [],
       "aggSeriesLimitReached": false,
       "aggType": "",
       "arguments": {},
       "columnCustomDisplayInfos": {},
       "data": [
        [
         1,
         "ENG",
         "NZ",
         "NZ"
        ],
        [
         2,
         "PAK",
         "NED",
         "PAK"
        ],
        [
         3,
         "AFG",
         "BAN",
         "BAN"
        ],
        [
         4,
         "SA",
         "SL",
         "SA"
        ],
        [
         5,
         "AUS",
         "IND",
         "AUS"
        ],
        [
         6,
         "NZ",
         "NED",
         "NZ"
        ],
        [
         7,
         "ENG",
         "BAN",
         "ENG"
        ],
        [
         8,
         "SL",
         "PAK",
         "PAK"
        ],
        [
         9,
         "AFG",
         "IND",
         "IND"
        ],
        [
         10,
         "SA",
         "AUS",
         "SA"
        ],
        [
         11,
         "BAN",
         "NZ",
         "BAN"
        ],
        [
         12,
         "PAK",
         "IND",
         "IND"
        ],
        [
         13,
         "SA",
         "IND",
         "DRAW"
        ]
       ],
       "datasetInfos": [],
       "dbfsResultPath": null,
       "isJsonSchema": true,
       "metadata": {},
       "overflow": false,
       "plotOptions": {
        "customPlotOptions": {},
        "displayType": "table",
        "pivotAggregation": null,
        "pivotColumns": null,
        "xColumns": null,
        "yColumns": null
       },
       "removedWidgets": [],
       "schema": [
        {
         "metadata": "{}",
         "name": "match_id",
         "type": "\"integer\""
        },
        {
         "metadata": "{}",
         "name": "team1",
         "type": "\"string\""
        },
        {
         "metadata": "{}",
         "name": "team2",
         "type": "\"string\""
        },
        {
         "metadata": "{}",
         "name": "result",
         "type": "\"string\""
        }
       ],
       "type": "table"
      }
     },
     "output_type": "display_data"
    }
   ],
   "source": [
    "from pyspark.sql.types import *\n",
    "from pyspark.sql.functions import col, when, count, sum as _sum\n",
    "\n",
    "# Define the schema for the cricket_match DataFrame\n",
    "schema = StructType([\n",
    "    StructField(\"match_id\", IntegerType(), True),\n",
    "    StructField(\"team1\", StringType(), True),\n",
    "    StructField(\"team2\", StringType(), True),\n",
    "    StructField(\"result\", StringType(), True)\n",
    "])\n",
    "\n",
    "# Define the data\n",
    "data = [\n",
    "    (1, 'ENG', 'NZ', 'NZ'),\n",
    "    (2, 'PAK', 'NED', 'PAK'),\n",
    "    (3, 'AFG', 'BAN', 'BAN'),\n",
    "    (4, 'SA', 'SL', 'SA'),\n",
    "    (5, 'AUS', 'IND', 'AUS'),\n",
    "    (6, 'NZ', 'NED', 'NZ'),\n",
    "    (7, 'ENG', 'BAN', 'ENG'),\n",
    "    (8, 'SL', 'PAK', 'PAK'),\n",
    "    (9, 'AFG', 'IND', 'IND'),\n",
    "    (10, 'SA', 'AUS', 'SA'),\n",
    "    (11, 'BAN', 'NZ', 'BAN'),\n",
    "    (12, 'PAK', 'IND', 'IND'),\n",
    "    (13, 'SA', 'IND', 'DRAW')\n",
    "]\n",
    "\n",
    "# Create a PySpark DataFrame\n",
    "df = spark.createDataFrame(data, schema)\n",
    "\n",
    "# Show the DataFrame\n",
    "df.display()\n"
   ]
  },
  {
   "cell_type": "code",
   "execution_count": 0,
   "metadata": {
    "application/vnd.databricks.v1+cell": {
     "cellMetadata": {
      "byteLimit": 2048000,
      "rowLimit": 10000
     },
     "inputWidgets": {},
     "nuid": "b5bcc540-6a46-4cd1-9731-229a94d53fa8",
     "showTitle": false,
     "tableResultSettingsMap": {},
     "title": ""
    }
   },
   "outputs": [
    {
     "output_type": "display_data",
     "data": {
      "text/html": [
       "<style scoped>\n",
       "  .table-result-container {\n",
       "    max-height: 300px;\n",
       "    overflow: auto;\n",
       "  }\n",
       "  table, th, td {\n",
       "    border: 1px solid black;\n",
       "    border-collapse: collapse;\n",
       "  }\n",
       "  th, td {\n",
       "    padding: 5px;\n",
       "  }\n",
       "  th {\n",
       "    text-align: left;\n",
       "  }\n",
       "</style><div class='table-result-container'><table class='table-result'><thead style='background-color: white'><tr><th>team</th><th>matches_played</th><th>matches_won</th><th>matches_lost</th></tr></thead><tbody><tr><td>AFG</td><td>2</td><td>0</td><td>2</td></tr><tr><td>AUS</td><td>2</td><td>1</td><td>1</td></tr><tr><td>BAN</td><td>3</td><td>2</td><td>1</td></tr><tr><td>ENG</td><td>2</td><td>1</td><td>1</td></tr><tr><td>IND</td><td>4</td><td>2</td><td>1</td></tr><tr><td>NED</td><td>2</td><td>0</td><td>2</td></tr><tr><td>NZ</td><td>3</td><td>2</td><td>1</td></tr><tr><td>PAK</td><td>3</td><td>2</td><td>1</td></tr><tr><td>SA</td><td>3</td><td>2</td><td>0</td></tr><tr><td>SL</td><td>2</td><td>0</td><td>2</td></tr></tbody></table></div>"
      ]
     },
     "metadata": {
      "application/vnd.databricks.v1+output": {
       "addedWidgets": {},
       "aggData": [],
       "aggError": "",
       "aggOverflow": false,
       "aggSchema": [],
       "aggSeriesLimitReached": false,
       "aggType": "",
       "arguments": {},
       "columnCustomDisplayInfos": {},
       "data": [
        [
         "AFG",
         2,
         0,
         2
        ],
        [
         "AUS",
         2,
         1,
         1
        ],
        [
         "BAN",
         3,
         2,
         1
        ],
        [
         "ENG",
         2,
         1,
         1
        ],
        [
         "IND",
         4,
         2,
         1
        ],
        [
         "NED",
         2,
         0,
         2
        ],
        [
         "NZ",
         3,
         2,
         1
        ],
        [
         "PAK",
         3,
         2,
         1
        ],
        [
         "SA",
         3,
         2,
         0
        ],
        [
         "SL",
         2,
         0,
         2
        ]
       ],
       "datasetInfos": [],
       "dbfsResultPath": null,
       "isJsonSchema": true,
       "metadata": {},
       "overflow": false,
       "plotOptions": {
        "customPlotOptions": {},
        "displayType": "table",
        "pivotAggregation": null,
        "pivotColumns": null,
        "xColumns": null,
        "yColumns": null
       },
       "removedWidgets": [],
       "schema": [
        {
         "metadata": "{}",
         "name": "team",
         "type": "\"string\""
        },
        {
         "metadata": "{}",
         "name": "matches_played",
         "type": "\"long\""
        },
        {
         "metadata": "{}",
         "name": "matches_won",
         "type": "\"long\""
        },
        {
         "metadata": "{}",
         "name": "matches_lost",
         "type": "\"long\""
        }
       ],
       "type": "table"
      }
     },
     "output_type": "display_data"
    }
   ],
   "source": [
    "# Step 1: Combine team1 and team2 into a single column along with match_id and result (similar to the CTE `all_matches`)\n",
    "all_matches = df.select(\n",
    "    col(\"match_id\"),\n",
    "    col(\"team1\").alias(\"team\"),\n",
    "    col(\"result\")\n",
    ").union(\n",
    "    df.select(\n",
    "        col(\"match_id\"),\n",
    "        col(\"team2\").alias(\"team\"),\n",
    "        col(\"result\")\n",
    "    )\n",
    ")\n",
    "\n",
    "# Step 2: Calculate statistics for each team\n",
    "team_stats = all_matches.groupBy(\"team\").agg(\n",
    "    count(\"match_id\").alias(\"matches_played\"),\n",
    "    _sum(when(col(\"result\") == col(\"team\"), 1).otherwise(0)).alias(\"matches_won\"),\n",
    "    _sum(when((col(\"result\") != col(\"team\")) & (col(\"result\") != \"DRAW\"), 1).otherwise(0)).alias(\"matches_lost\")\n",
    ")\n",
    "\n",
    "# Step 3: Show the results\n",
    "team_stats.orderBy(\"team\").display()"
   ]
  },
  {
   "cell_type": "code",
   "execution_count": 0,
   "metadata": {
    "application/vnd.databricks.v1+cell": {
     "cellMetadata": {
      "byteLimit": 2048000,
      "rowLimit": 10000
     },
     "inputWidgets": {},
     "nuid": "5f82f973-2331-4eab-b6c8-2af38c5c1327",
     "showTitle": false,
     "tableResultSettingsMap": {},
     "title": ""
    }
   },
   "outputs": [],
   "source": [
    "df.createOrReplaceTempView(\"cricket_match\")"
   ]
  },
  {
   "cell_type": "code",
   "execution_count": 0,
   "metadata": {
    "application/vnd.databricks.v1+cell": {
     "cellMetadata": {
      "byteLimit": 2048000,
      "implicitDf": true,
      "rowLimit": 10000
     },
     "inputWidgets": {},
     "nuid": "94365bf7-7fd4-4e84-aff6-5cdff4cb4af2",
     "showTitle": false,
     "tableResultSettingsMap": {},
     "title": ""
    }
   },
   "outputs": [
    {
     "output_type": "display_data",
     "data": {
      "text/html": [
       "<style scoped>\n",
       "  .table-result-container {\n",
       "    max-height: 300px;\n",
       "    overflow: auto;\n",
       "  }\n",
       "  table, th, td {\n",
       "    border: 1px solid black;\n",
       "    border-collapse: collapse;\n",
       "  }\n",
       "  th, td {\n",
       "    padding: 5px;\n",
       "  }\n",
       "  th {\n",
       "    text-align: left;\n",
       "  }\n",
       "</style><div class='table-result-container'><table class='table-result'><thead style='background-color: white'><tr><th>team_name</th><th>matches_played</th><th>matches_won</th><th>matches_lost</th></tr></thead><tbody><tr><td>AFG</td><td>2</td><td>0</td><td>2</td></tr><tr><td>AUS</td><td>2</td><td>1</td><td>1</td></tr><tr><td>BAN</td><td>3</td><td>2</td><td>1</td></tr><tr><td>ENG</td><td>2</td><td>1</td><td>1</td></tr><tr><td>IND</td><td>4</td><td>2</td><td>1</td></tr><tr><td>NED</td><td>2</td><td>0</td><td>2</td></tr><tr><td>NZ</td><td>3</td><td>2</td><td>1</td></tr><tr><td>PAK</td><td>3</td><td>2</td><td>1</td></tr><tr><td>SA</td><td>3</td><td>2</td><td>0</td></tr><tr><td>SL</td><td>2</td><td>0</td><td>2</td></tr></tbody></table></div>"
      ]
     },
     "metadata": {
      "application/vnd.databricks.v1+output": {
       "addedWidgets": {},
       "aggData": [],
       "aggError": "",
       "aggOverflow": false,
       "aggSchema": [],
       "aggSeriesLimitReached": false,
       "aggType": "",
       "arguments": {},
       "columnCustomDisplayInfos": {},
       "data": [
        [
         "AFG",
         2,
         0,
         2
        ],
        [
         "AUS",
         2,
         1,
         1
        ],
        [
         "BAN",
         3,
         2,
         1
        ],
        [
         "ENG",
         2,
         1,
         1
        ],
        [
         "IND",
         4,
         2,
         1
        ],
        [
         "NED",
         2,
         0,
         2
        ],
        [
         "NZ",
         3,
         2,
         1
        ],
        [
         "PAK",
         3,
         2,
         1
        ],
        [
         "SA",
         3,
         2,
         0
        ],
        [
         "SL",
         2,
         0,
         2
        ]
       ],
       "datasetInfos": [],
       "dbfsResultPath": null,
       "isJsonSchema": true,
       "metadata": {},
       "overflow": false,
       "plotOptions": {
        "customPlotOptions": {},
        "displayType": "table",
        "pivotAggregation": null,
        "pivotColumns": null,
        "xColumns": null,
        "yColumns": null
       },
       "removedWidgets": [],
       "schema": [
        {
         "metadata": "{}",
         "name": "team_name",
         "type": "\"string\""
        },
        {
         "metadata": "{}",
         "name": "matches_played",
         "type": "\"long\""
        },
        {
         "metadata": "{}",
         "name": "matches_won",
         "type": "\"long\""
        },
        {
         "metadata": "{}",
         "name": "matches_lost",
         "type": "\"long\""
        }
       ],
       "type": "table"
      }
     },
     "output_type": "display_data"
    }
   ],
   "source": [
    "%sql\n",
    "WITH all_matches AS (\n",
    "    SELECT match_id, team1 AS team, result FROM cricket_match\n",
    "    UNION ALL\n",
    "    SELECT match_id, team2 AS team, result FROM cricket_match\n",
    "),\n",
    "team_stats AS (\n",
    "    SELECT \n",
    "        team AS team_name,\n",
    "        COUNT(match_id) AS matches_played,\n",
    "        SUM(CASE WHEN result = team THEN 1 ELSE 0 END) AS matches_won,\n",
    "        SUM(CASE WHEN result != team AND result != 'DRAW' THEN 1 ELSE 0 END) AS matches_lost\n",
    "    FROM all_matches\n",
    "    GROUP BY team\n",
    ")\n",
    "SELECT *\n",
    "FROM team_stats\n",
    "ORDER BY team_name;\n",
    "\n"
   ]
  },
  {
   "cell_type": "markdown",
   "metadata": {
    "application/vnd.databricks.v1+cell": {
     "cellMetadata": {},
     "inputWidgets": {},
     "nuid": "18b6dcb9-1efc-4eb3-9788-f6993faa4ee8",
     "showTitle": false,
     "tableResultSettingsMap": {},
     "title": ""
    }
   },
   "source": [
    "Explanation:\n",
    "First CTE (all_matches):\n",
    "\n",
    "Combines team1 and team2 into a single column (team) using UNION ALL to ensure every match is considered for both teams.\n",
    "Second CTE (team_stats):\n",
    "\n",
    "Calculates the required statistics:\n",
    "COUNT(match_id) for the total matches played.\n",
    "SUM(CASE WHEN result = team THEN 1 ELSE 0 END) for the matches won.\n",
    "SUM(CASE WHEN result != team AND result != 'DRAW' THEN 1 ELSE 0 END) for the matches lost.\n",
    "Final SELECT:\n",
    "\n",
    "Fetches all columns from the team_stats CTE and orders the output by team_name."
   ]
  }
 ],
 "metadata": {
  "application/vnd.databricks.v1+notebook": {
   "computePreferences": null,
   "dashboards": [],
   "environmentMetadata": {
    "base_environment": "",
    "client": "1"
   },
   "language": "python",
   "notebookMetadata": {
    "mostRecentlyExecutedCommandWithImplicitDF": {
     "commandId": 2994249618791356,
     "dataframes": [
      "_sqldf"
     ]
    },
    "pythonIndentUnit": 4
   },
   "notebookName": "cricket_match",
   "widgets": {}
  }
 },
 "nbformat": 4,
 "nbformat_minor": 0
}
