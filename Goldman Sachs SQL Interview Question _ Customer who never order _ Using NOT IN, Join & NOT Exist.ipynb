{
 "cells": [
  {
   "cell_type": "markdown",
   "metadata": {
    "application/vnd.databricks.v1+cell": {
     "cellMetadata": {},
     "inputWidgets": {},
     "nuid": "5644d925-1e50-470c-811f-83c650e1ac44",
     "showTitle": false,
     "title": ""
    }
   },
   "source": [
    "Problem Statement:\n",
    "\n",
    "You are given two datasets: \n",
    "\n",
    "          one containing customer information and the other containing order information. \n",
    "          Your task is to identify customers who have never placed an order. \n",
    "          The Customers dataset contains customer details such as Id and Name, while the Orders \n",
    "          dataset contains the Id of the orders and the corresponding CustomerId.\n",
    "\n",
    "Dataset Details:\n",
    "\n",
    "Customers:\n",
    "\n",
    "          This table contains customer information:\n",
    "          Id: Unique identifier for each customer.\n",
    "          NameCust: Name of the customer.\n",
    "\n",
    "Orders: \n",
    "\n",
    "          This table contains order information:\n",
    "          Id: Unique identifier for each order.\n",
    "          CustomerId: Foreign key that references the customer who placed the order."
   ]
  },
  {
   "cell_type": "code",
   "execution_count": 0,
   "metadata": {
    "application/vnd.databricks.v1+cell": {
     "cellMetadata": {
      "byteLimit": 2048000,
      "rowLimit": 10000
     },
     "inputWidgets": {},
     "nuid": "16f8b88a-8613-4711-913f-6bf3d81fa6de",
     "showTitle": false,
     "title": ""
    }
   },
   "outputs": [
    {
     "output_type": "stream",
     "name": "stdout",
     "output_type": "stream",
     "text": [
      "Customers DataFrame:\n"
     ]
    },
    {
     "output_type": "display_data",
     "data": {
      "text/html": [
       "<style scoped>\n",
       "  .table-result-container {\n",
       "    max-height: 300px;\n",
       "    overflow: auto;\n",
       "  }\n",
       "  table, th, td {\n",
       "    border: 1px solid black;\n",
       "    border-collapse: collapse;\n",
       "  }\n",
       "  th, td {\n",
       "    padding: 5px;\n",
       "  }\n",
       "  th {\n",
       "    text-align: left;\n",
       "  }\n",
       "</style><div class='table-result-container'><table class='table-result'><thead style='background-color: white'><tr><th>Id</th><th>NameCust</th></tr></thead><tbody><tr><td>1</td><td>Joe</td></tr><tr><td>2</td><td>Henry</td></tr><tr><td>3</td><td>Sam</td></tr><tr><td>4</td><td>Max</td></tr></tbody></table></div>"
      ]
     },
     "metadata": {
      "application/vnd.databricks.v1+output": {
       "addedWidgets": {},
       "aggData": [],
       "aggError": "",
       "aggOverflow": false,
       "aggSchema": [],
       "aggSeriesLimitReached": false,
       "aggType": "",
       "arguments": {},
       "columnCustomDisplayInfos": {},
       "data": [
        [
         1,
         "Joe"
        ],
        [
         2,
         "Henry"
        ],
        [
         3,
         "Sam"
        ],
        [
         4,
         "Max"
        ]
       ],
       "datasetInfos": [],
       "dbfsResultPath": null,
       "isJsonSchema": true,
       "metadata": {},
       "overflow": false,
       "plotOptions": {
        "customPlotOptions": {},
        "displayType": "table",
        "pivotAggregation": null,
        "pivotColumns": null,
        "xColumns": null,
        "yColumns": null
       },
       "removedWidgets": [],
       "schema": [
        {
         "metadata": "{}",
         "name": "Id",
         "type": "\"integer\""
        },
        {
         "metadata": "{}",
         "name": "NameCust",
         "type": "\"string\""
        }
       ],
       "type": "table"
      }
     },
     "output_type": "display_data"
    },
    {
     "output_type": "stream",
     "name": "stdout",
     "output_type": "stream",
     "text": [
      "Orders DataFrame:\n"
     ]
    },
    {
     "output_type": "display_data",
     "data": {
      "text/html": [
       "<style scoped>\n",
       "  .table-result-container {\n",
       "    max-height: 300px;\n",
       "    overflow: auto;\n",
       "  }\n",
       "  table, th, td {\n",
       "    border: 1px solid black;\n",
       "    border-collapse: collapse;\n",
       "  }\n",
       "  th, td {\n",
       "    padding: 5px;\n",
       "  }\n",
       "  th {\n",
       "    text-align: left;\n",
       "  }\n",
       "</style><div class='table-result-container'><table class='table-result'><thead style='background-color: white'><tr><th>Id</th><th>CustomerId</th></tr></thead><tbody><tr><td>1</td><td>3</td></tr><tr><td>2</td><td>1</td></tr></tbody></table></div>"
      ]
     },
     "metadata": {
      "application/vnd.databricks.v1+output": {
       "addedWidgets": {},
       "aggData": [],
       "aggError": "",
       "aggOverflow": false,
       "aggSchema": [],
       "aggSeriesLimitReached": false,
       "aggType": "",
       "arguments": {},
       "columnCustomDisplayInfos": {},
       "data": [
        [
         1,
         3
        ],
        [
         2,
         1
        ]
       ],
       "datasetInfos": [],
       "dbfsResultPath": null,
       "isJsonSchema": true,
       "metadata": {},
       "overflow": false,
       "plotOptions": {
        "customPlotOptions": {},
        "displayType": "table",
        "pivotAggregation": null,
        "pivotColumns": null,
        "xColumns": null,
        "yColumns": null
       },
       "removedWidgets": [],
       "schema": [
        {
         "metadata": "{}",
         "name": "Id",
         "type": "\"integer\""
        },
        {
         "metadata": "{}",
         "name": "CustomerId",
         "type": "\"integer\""
        }
       ],
       "type": "table"
      }
     },
     "output_type": "display_data"
    }
   ],
   "source": [
    "from pyspark.sql.types import *\n",
    "\n",
    "# Create a Spark session\n",
    "\n",
    "# Define schema for Customers table\n",
    "schema_customers = StructType(\n",
    "    [\n",
    "        StructField(\"Id\", IntegerType(), True),\n",
    "        StructField(\"NameCust\", StringType(), True),\n",
    "    ]\n",
    ")\n",
    "\n",
    "# Define schema for Order_ table\n",
    "schema_orders = StructType(\n",
    "    [\n",
    "        StructField(\"Id\", IntegerType(), True),\n",
    "        StructField(\"CustomerId\", IntegerType(), True),\n",
    "    ]\n",
    ")\n",
    "\n",
    "# Create DataFrame for Customers\n",
    "customers_data = [(1, \"Joe\"), (2, \"Henry\"), (3, \"Sam\"), (4, \"Max\")]\n",
    "df_customers = spark.createDataFrame(customers_data, schema_customers)\n",
    "\n",
    "# Create DataFrame for Order_\n",
    "orders_data = [(1, 3), (2, 1)]\n",
    "df_orders = spark.createDataFrame(orders_data, schema_orders)\n",
    "\n",
    "# display the DataFrames\n",
    "print(\"Customers DataFrame:\")\n",
    "df_customers.display()\n",
    "\n",
    "print(\"Orders DataFrame:\")\n",
    "df_orders.display()"
   ]
  },
  {
   "cell_type": "code",
   "execution_count": 0,
   "metadata": {
    "application/vnd.databricks.v1+cell": {
     "cellMetadata": {
      "byteLimit": 2048000,
      "rowLimit": 10000
     },
     "inputWidgets": {},
     "nuid": "4984212c-4c51-40a7-9070-48c9a1c17705",
     "showTitle": false,
     "title": ""
    }
   },
   "outputs": [],
   "source": [
    "df_customers.createOrReplaceTempView(\"Customers\")\n",
    "df_orders.createOrReplaceTempView(\"Orders\")"
   ]
  },
  {
   "cell_type": "code",
   "execution_count": 0,
   "metadata": {
    "application/vnd.databricks.v1+cell": {
     "cellMetadata": {
      "byteLimit": 2048000,
      "implicitDf": true,
      "rowLimit": 10000
     },
     "inputWidgets": {},
     "nuid": "e7bb6a1b-d04f-4fdc-8c0f-197273770156",
     "showTitle": false,
     "title": ""
    }
   },
   "outputs": [
    {
     "output_type": "display_data",
     "data": {
      "text/html": [
       "<style scoped>\n",
       "  .table-result-container {\n",
       "    max-height: 300px;\n",
       "    overflow: auto;\n",
       "  }\n",
       "  table, th, td {\n",
       "    border: 1px solid black;\n",
       "    border-collapse: collapse;\n",
       "  }\n",
       "  th, td {\n",
       "    padding: 5px;\n",
       "  }\n",
       "  th {\n",
       "    text-align: left;\n",
       "  }\n",
       "</style><div class='table-result-container'><table class='table-result'><thead style='background-color: white'><tr><th>id</th><th>NameCust</th></tr></thead><tbody><tr><td>2</td><td>Henry</td></tr><tr><td>4</td><td>Max</td></tr></tbody></table></div>"
      ]
     },
     "metadata": {
      "application/vnd.databricks.v1+output": {
       "addedWidgets": {},
       "aggData": [],
       "aggError": "",
       "aggOverflow": false,
       "aggSchema": [],
       "aggSeriesLimitReached": false,
       "aggType": "",
       "arguments": {},
       "columnCustomDisplayInfos": {},
       "data": [
        [
         2,
         "Henry"
        ],
        [
         4,
         "Max"
        ]
       ],
       "datasetInfos": [],
       "dbfsResultPath": null,
       "isJsonSchema": true,
       "metadata": {},
       "overflow": false,
       "plotOptions": {
        "customPlotOptions": {},
        "displayType": "table",
        "pivotAggregation": null,
        "pivotColumns": null,
        "xColumns": null,
        "yColumns": null
       },
       "removedWidgets": [],
       "schema": [
        {
         "metadata": "{}",
         "name": "id",
         "type": "\"integer\""
        },
        {
         "metadata": "{}",
         "name": "NameCust",
         "type": "\"string\""
        }
       ],
       "type": "table"
      }
     },
     "output_type": "display_data"
    }
   ],
   "source": [
    "%sql\n",
    "WITH OrderedCustomers AS (\n",
    "  SELECT\n",
    "    CustomerId\n",
    "  FROM\n",
    "    Orders\n",
    ")\n",
    "SELECT id, \n",
    "  NameCust\n",
    "FROM\n",
    "  Customers\n",
    "WHERE\n",
    "  Id NOT IN (\n",
    "    SELECT\n",
    "      CustomerId\n",
    "    FROM\n",
    "      OrderedCustomers\n",
    "  );"
   ]
  },
  {
   "cell_type": "code",
   "execution_count": 0,
   "metadata": {
    "application/vnd.databricks.v1+cell": {
     "cellMetadata": {
      "byteLimit": 2048000,
      "rowLimit": 10000
     },
     "inputWidgets": {},
     "nuid": "2783de0e-4e9a-42db-b145-eb9b7765b237",
     "showTitle": false,
     "title": ""
    }
   },
   "outputs": [
    {
     "output_type": "display_data",
     "data": {
      "text/html": [
       "<style scoped>\n",
       "  .table-result-container {\n",
       "    max-height: 300px;\n",
       "    overflow: auto;\n",
       "  }\n",
       "  table, th, td {\n",
       "    border: 1px solid black;\n",
       "    border-collapse: collapse;\n",
       "  }\n",
       "  th, td {\n",
       "    padding: 5px;\n",
       "  }\n",
       "  th {\n",
       "    text-align: left;\n",
       "  }\n",
       "</style><div class='table-result-container'><table class='table-result'><thead style='background-color: white'><tr><th>Id</th><th>NameCust</th></tr></thead><tbody><tr><td>2</td><td>Henry</td></tr><tr><td>4</td><td>Max</td></tr></tbody></table></div>"
      ]
     },
     "metadata": {
      "application/vnd.databricks.v1+output": {
       "addedWidgets": {},
       "aggData": [],
       "aggError": "",
       "aggOverflow": false,
       "aggSchema": [],
       "aggSeriesLimitReached": false,
       "aggType": "",
       "arguments": {},
       "columnCustomDisplayInfos": {},
       "data": [
        [
         2,
         "Henry"
        ],
        [
         4,
         "Max"
        ]
       ],
       "datasetInfos": [],
       "dbfsResultPath": null,
       "isJsonSchema": true,
       "metadata": {},
       "overflow": false,
       "plotOptions": {
        "customPlotOptions": {},
        "displayType": "table",
        "pivotAggregation": null,
        "pivotColumns": null,
        "xColumns": null,
        "yColumns": null
       },
       "removedWidgets": [],
       "schema": [
        {
         "metadata": "{}",
         "name": "Id",
         "type": "\"integer\""
        },
        {
         "metadata": "{}",
         "name": "NameCust",
         "type": "\"string\""
        }
       ],
       "type": "table"
      }
     },
     "output_type": "display_data"
    }
   ],
   "source": [
    "# Extract customers who have placed an order\n",
    "ordered_customers = df_orders.select(\"CustomerId\").distinct()\n",
    "\n",
    "# Filter customers who are not in the orders\n",
    "customers_never_ordered = df_customers.filter(\n",
    "    ~df_customers[\"Id\"].isin([row[\"CustomerId\"] for row in ordered_customers.collect()])\n",
    ")\n",
    "\n",
    "customers_never_ordered.display()"
   ]
  },
  {
   "cell_type": "markdown",
   "metadata": {
    "application/vnd.databricks.v1+cell": {
     "cellMetadata": {},
     "inputWidgets": {},
     "nuid": "c352b1ce-f497-4f4f-83e7-1e25b45ebd21",
     "showTitle": false,
     "title": ""
    }
   },
   "source": [
    "Summary of Results:\n",
    "\n",
    "Using NOT IN: Converts IN logic using Python list comprehension.\n",
    "\n",
    "Using LEFT JOIN + IS NULL: Left joins the tables and filters by NULL values.\n",
    "\n",
    "Using LEFT ANTI JOIN: Most efficient approach to find records that don’t exist in another table.\n",
    "\n",
    "Each approach works in PySpark similarly to its SQL counterpart, and you can choose based on your specific needs."
   ]
  }
 ],
 "metadata": {
  "application/vnd.databricks.v1+notebook": {
   "dashboards": [],
   "environmentMetadata": null,
   "language": "python",
   "notebookMetadata": {
    "mostRecentlyExecutedCommandWithImplicitDF": {
     "commandId": 4387048994007696,
     "dataframes": [
      "_sqldf"
     ]
    },
    "pythonIndentUnit": 4
   },
   "notebookName": "Goldman Sachs SQL Interview Question | Customer who never order | Using NOT IN, Join & NOT Exist",
   "widgets": {}
  }
 },
 "nbformat": 4,
 "nbformat_minor": 0
}
