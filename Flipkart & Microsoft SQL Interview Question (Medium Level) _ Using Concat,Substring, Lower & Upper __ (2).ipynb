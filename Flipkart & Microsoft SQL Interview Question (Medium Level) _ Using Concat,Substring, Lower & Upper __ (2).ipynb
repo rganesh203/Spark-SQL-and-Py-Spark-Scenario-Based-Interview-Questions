{
 "cells": [
  {
   "cell_type": "markdown",
   "metadata": {
    "application/vnd.databricks.v1+cell": {
     "cellMetadata": {},
     "inputWidgets": {},
     "nuid": "76f12558-a176-4316-aace-f87f44f088c6",
     "showTitle": false,
     "tableResultSettingsMap": {},
     "title": ""
    }
   },
   "source": [
    "Problem Statement:\n",
    "\n",
    "write an SQL query to report the latest login for all users in the year 2020 and do not include the users who did not login in 2020."
   ]
  },
  {
   "cell_type": "code",
   "execution_count": 0,
   "metadata": {
    "application/vnd.databricks.v1+cell": {
     "cellMetadata": {
      "byteLimit": 2048000,
      "rowLimit": 10000
     },
     "inputWidgets": {},
     "nuid": "ea6dd694-725a-4bbd-948b-947a20e2f2fb",
     "showTitle": false,
     "tableResultSettingsMap": {},
     "title": ""
    }
   },
   "outputs": [
    {
     "output_type": "stream",
     "name": "stdout",
     "output_type": "stream",
     "text": [
      "Logins Table:\n"
     ]
    },
    {
     "output_type": "display_data",
     "data": {
      "text/html": [
       "<style scoped>\n",
       "  .table-result-container {\n",
       "    max-height: 300px;\n",
       "    overflow: auto;\n",
       "  }\n",
       "  table, th, td {\n",
       "    border: 1px solid black;\n",
       "    border-collapse: collapse;\n",
       "  }\n",
       "  th, td {\n",
       "    padding: 5px;\n",
       "  }\n",
       "  th {\n",
       "    text-align: left;\n",
       "  }\n",
       "</style><div class='table-result-container'><table class='table-result'><thead style='background-color: white'><tr><th>user_id</th><th>time_stamp</th></tr></thead><tbody><tr><td>6</td><td>2020-06-30T15:06:07.000+0000</td></tr><tr><td>6</td><td>2021-04-21T14:06:06.000+0000</td></tr><tr><td>6</td><td>2019-03-07T00:18:15.000+0000</td></tr><tr><td>8</td><td>2020-02-01T05:10:53.000+0000</td></tr><tr><td>8</td><td>2020-12-30T00:46:50.000+0000</td></tr><tr><td>2</td><td>2020-01-16T02:49:50.000+0000</td></tr><tr><td>2</td><td>2019-08-25T07:59:08.000+0000</td></tr><tr><td>14</td><td>2019-07-14T09:00:00.000+0000</td></tr><tr><td>14</td><td>2021-01-06T11:59:59.000+0000</td></tr></tbody></table></div>"
      ]
     },
     "metadata": {
      "application/vnd.databricks.v1+output": {
       "addedWidgets": {},
       "aggData": [],
       "aggError": "",
       "aggOverflow": false,
       "aggSchema": [],
       "aggSeriesLimitReached": false,
       "aggType": "",
       "arguments": {},
       "columnCustomDisplayInfos": {},
       "data": [
        [
         6,
         "2020-06-30T15:06:07.000+0000"
        ],
        [
         6,
         "2021-04-21T14:06:06.000+0000"
        ],
        [
         6,
         "2019-03-07T00:18:15.000+0000"
        ],
        [
         8,
         "2020-02-01T05:10:53.000+0000"
        ],
        [
         8,
         "2020-12-30T00:46:50.000+0000"
        ],
        [
         2,
         "2020-01-16T02:49:50.000+0000"
        ],
        [
         2,
         "2019-08-25T07:59:08.000+0000"
        ],
        [
         14,
         "2019-07-14T09:00:00.000+0000"
        ],
        [
         14,
         "2021-01-06T11:59:59.000+0000"
        ]
       ],
       "datasetInfos": [],
       "dbfsResultPath": null,
       "isJsonSchema": true,
       "metadata": {},
       "overflow": false,
       "plotOptions": {
        "customPlotOptions": {},
        "displayType": "table",
        "pivotAggregation": null,
        "pivotColumns": null,
        "xColumns": null,
        "yColumns": null
       },
       "removedWidgets": [],
       "schema": [
        {
         "metadata": "{}",
         "name": "user_id",
         "type": "\"integer\""
        },
        {
         "metadata": "{}",
         "name": "time_stamp",
         "type": "\"timestamp\""
        }
       ],
       "type": "table"
      }
     },
     "output_type": "display_data"
    }
   ],
   "source": [
    "from pyspark.sql.types import *\n",
    "from pyspark.sql import functions as F\n",
    "from datetime import datetime\n",
    "\n",
    "# Define schema for Logins table\n",
    "logins_schema = StructType(\n",
    "    [\n",
    "        StructField(\"user_id\", IntegerType(), True),\n",
    "        StructField(\"time_stamp\", TimestampType(), True),\n",
    "    ]\n",
    ")\n",
    "\n",
    "# Define data for Logins table with datetime objects\n",
    "logins_data = [\n",
    "    (6, datetime(2020, 6, 30, 15, 6, 7)),\n",
    "    (6, datetime(2021, 4, 21, 14, 6, 6)),\n",
    "    (6, datetime(2019, 3, 7, 0, 18, 15)),\n",
    "    (8, datetime(2020, 2, 1, 5, 10, 53)),\n",
    "    (8, datetime(2020, 12, 30, 0, 46, 50)),\n",
    "    (2, datetime(2020, 1, 16, 2, 49, 50)),\n",
    "    (2, datetime(2019, 8, 25, 7, 59, 8)),\n",
    "    (14, datetime(2019, 7, 14, 9, 0, 0)),\n",
    "    (14, datetime(2021, 1, 6, 11, 59, 59)),\n",
    "]\n",
    "\n",
    "# Create Logins DataFrame\n",
    "logins_df = spark.createDataFrame(logins_data, schema=logins_schema)\n",
    "\n",
    "# Show the data in DataFrames\n",
    "print(\"Logins Table:\")\n",
    "logins_df.display()"
   ]
  },
  {
   "cell_type": "code",
   "execution_count": 0,
   "metadata": {
    "application/vnd.databricks.v1+cell": {
     "cellMetadata": {
      "byteLimit": 2048000,
      "rowLimit": 10000
     },
     "inputWidgets": {},
     "nuid": "ca858df1-498e-4463-a6b6-1d364c291289",
     "showTitle": false,
     "tableResultSettingsMap": {},
     "title": ""
    }
   },
   "outputs": [],
   "source": [
    "logins_df.createOrReplaceTempView(\"logins\")"
   ]
  },
  {
   "cell_type": "code",
   "execution_count": 0,
   "metadata": {
    "application/vnd.databricks.v1+cell": {
     "cellMetadata": {
      "byteLimit": 2048000,
      "implicitDf": true,
      "rowLimit": 10000
     },
     "inputWidgets": {},
     "nuid": "8e566da5-b0b5-4703-8e98-15904ae75590",
     "showTitle": false,
     "tableResultSettingsMap": {},
     "title": ""
    }
   },
   "outputs": [
    {
     "output_type": "display_data",
     "data": {
      "text/html": [
       "<style scoped>\n",
       "  .table-result-container {\n",
       "    max-height: 300px;\n",
       "    overflow: auto;\n",
       "  }\n",
       "  table, th, td {\n",
       "    border: 1px solid black;\n",
       "    border-collapse: collapse;\n",
       "  }\n",
       "  th, td {\n",
       "    padding: 5px;\n",
       "  }\n",
       "  th {\n",
       "    text-align: left;\n",
       "  }\n",
       "</style><div class='table-result-container'><table class='table-result'><thead style='background-color: white'><tr><th>USER_id</th><th>latest_login</th></tr></thead><tbody><tr><td>6</td><td>2020-06-30</td></tr><tr><td>8</td><td>2020-12-30</td></tr><tr><td>2</td><td>2020-01-16</td></tr></tbody></table></div>"
      ]
     },
     "metadata": {
      "application/vnd.databricks.v1+output": {
       "addedWidgets": {},
       "aggData": [],
       "aggError": "",
       "aggOverflow": false,
       "aggSchema": [],
       "aggSeriesLimitReached": false,
       "aggType": "",
       "arguments": {},
       "columnCustomDisplayInfos": {},
       "data": [
        [
         6,
         "2020-06-30"
        ],
        [
         8,
         "2020-12-30"
        ],
        [
         2,
         "2020-01-16"
        ]
       ],
       "datasetInfos": [],
       "dbfsResultPath": null,
       "isJsonSchema": true,
       "metadata": {},
       "overflow": false,
       "plotOptions": {
        "customPlotOptions": {},
        "displayType": "table",
        "pivotAggregation": null,
        "pivotColumns": null,
        "xColumns": null,
        "yColumns": null
       },
       "removedWidgets": [],
       "schema": [
        {
         "metadata": "{}",
         "name": "USER_id",
         "type": "\"integer\""
        },
        {
         "metadata": "{}",
         "name": "latest_login",
         "type": "\"date\""
        }
       ],
       "type": "table"
      }
     },
     "output_type": "display_data"
    }
   ],
   "source": [
    "%sql\n",
    "seleCT\n",
    "  USER_id,\n",
    "  cast(substr(max(time_stamp), 0, 10) as date) as latest_login\n",
    "from\n",
    "  logins\n",
    "where\n",
    "  year(time_stamp) = 2020\n",
    "group by\n",
    "  user_id"
   ]
  },
  {
   "cell_type": "code",
   "execution_count": 0,
   "metadata": {
    "application/vnd.databricks.v1+cell": {
     "cellMetadata": {
      "byteLimit": 2048000,
      "rowLimit": 10000
     },
     "inputWidgets": {},
     "nuid": "857ebce7-d428-4300-a540-16c28d034e70",
     "showTitle": false,
     "tableResultSettingsMap": {},
     "title": ""
    }
   },
   "outputs": [
    {
     "output_type": "display_data",
     "data": {
      "text/html": [
       "<style scoped>\n",
       "  .table-result-container {\n",
       "    max-height: 300px;\n",
       "    overflow: auto;\n",
       "  }\n",
       "  table, th, td {\n",
       "    border: 1px solid black;\n",
       "    border-collapse: collapse;\n",
       "  }\n",
       "  th, td {\n",
       "    padding: 5px;\n",
       "  }\n",
       "  th {\n",
       "    text-align: left;\n",
       "  }\n",
       "</style><div class='table-result-container'><table class='table-result'><thead style='background-color: white'><tr><th>user_id</th><th>latest_login</th></tr></thead><tbody><tr><td>6</td><td>2020-06-30</td></tr><tr><td>8</td><td>2020-12-30</td></tr><tr><td>2</td><td>2020-01-16</td></tr></tbody></table></div>"
      ]
     },
     "metadata": {
      "application/vnd.databricks.v1+output": {
       "addedWidgets": {},
       "aggData": [],
       "aggError": "",
       "aggOverflow": false,
       "aggSchema": [],
       "aggSeriesLimitReached": false,
       "aggType": "",
       "arguments": {},
       "columnCustomDisplayInfos": {},
       "data": [
        [
         6,
         "2020-06-30"
        ],
        [
         8,
         "2020-12-30"
        ],
        [
         2,
         "2020-01-16"
        ]
       ],
       "datasetInfos": [],
       "dbfsResultPath": null,
       "isJsonSchema": true,
       "metadata": {},
       "overflow": false,
       "plotOptions": {
        "customPlotOptions": {},
        "displayType": "table",
        "pivotAggregation": null,
        "pivotColumns": null,
        "xColumns": null,
        "yColumns": null
       },
       "removedWidgets": [],
       "schema": [
        {
         "metadata": "{}",
         "name": "user_id",
         "type": "\"integer\""
        },
        {
         "metadata": "{}",
         "name": "latest_login",
         "type": "\"string\""
        }
       ],
       "type": "table"
      }
     },
     "output_type": "display_data"
    }
   ],
   "source": [
    "from pyspark.sql import functions as F\n",
    "\n",
    "# Filter for rows where the year in time_stamp is 2020\n",
    "logins_filtered = logins_df.filter(F.year(\"time_stamp\") == 2020)\n",
    "\n",
    "# Group by user_id and calculate the latest time_stamp\n",
    "result_df = (\n",
    "    logins_filtered.groupBy(\"user_id\")\n",
    "    .agg(F.max(\"time_stamp\").alias(\"latest_time_stamp\"))\n",
    "    .withColumn(\"latest_login\", F.date_format(F.col(\"latest_time_stamp\"), \"yyyy-MM-dd\"))\n",
    ")\n",
    "final_df = result_df.select(\"user_id\", \"latest_login\")\n",
    "# Show the result\n",
    "final_df.display()"
   ]
  },
  {
   "cell_type": "markdown",
   "metadata": {
    "application/vnd.databricks.v1+cell": {
     "cellMetadata": {},
     "inputWidgets": {},
     "nuid": "8aef0037-3784-424b-bdae-e47cc259a67b",
     "showTitle": false,
     "tableResultSettingsMap": {},
     "title": ""
    }
   },
   "source": [
    "Explanation:\n",
    "\n",
    "Filter Rows:\n",
    "\n",
    "Use filter(F.year(\"time_stamp\") == 2020) to keep only the rows where the year in the time_stamp column is 2020.\n",
    "Group By:\n",
    "\n",
    "Group the DataFrame by user_id using .groupBy(\"user_id\").\n",
    "Aggregate:\n",
    "\n",
    "Calculate the maximum time_stamp for each user_id using F.max(\"time_stamp\").alias(\"latest_time_stamp\").\n",
    "Extract Date:\n",
    "\n",
    "Use F.date_format(F.col(\"latest_time_stamp\"), \"yyyy-MM-dd\") to extract the date part from the TimestampType column and format it as yyyy-MM-dd.\n",
    "Select Required Columns:\n",
    "\n",
    "Select only the user_id and the latest_login columns to match the desired output."
   ]
  }
 ],
 "metadata": {
  "application/vnd.databricks.v1+notebook": {
   "computePreferences": null,
   "dashboards": [],
   "environmentMetadata": {
    "base_environment": "",
    "client": "1"
   },
   "language": "python",
   "notebookMetadata": {
    "mostRecentlyExecutedCommandWithImplicitDF": {
     "commandId": 1308384911530913,
     "dataframes": [
      "_sqldf"
     ]
    },
    "pythonIndentUnit": 4
   },
   "notebookName": "Flipkart & Microsoft SQL Interview Question (Medium Level) | Using Concat,Substring, Lower & Upper 💡",
   "widgets": {}
  }
 },
 "nbformat": 4,
 "nbformat_minor": 0
}
