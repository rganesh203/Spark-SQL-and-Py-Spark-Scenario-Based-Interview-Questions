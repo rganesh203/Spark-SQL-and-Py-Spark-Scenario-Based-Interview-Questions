{
 "cells": [
  {
   "cell_type": "code",
   "execution_count": 0,
   "metadata": {
    "application/vnd.databricks.v1+cell": {
     "cellMetadata": {
      "byteLimit": 2048000,
      "rowLimit": 10000
     },
     "inputWidgets": {},
     "nuid": "d2307806-6ee6-4bcc-82c4-57e43b013839",
     "showTitle": false,
     "title": ""
    }
   },
   "outputs": [
    {
     "output_type": "display_data",
     "data": {
      "text/html": [
       "<style scoped>\n",
       "  .table-result-container {\n",
       "    max-height: 300px;\n",
       "    overflow: auto;\n",
       "  }\n",
       "  table, th, td {\n",
       "    border: 1px solid black;\n",
       "    border-collapse: collapse;\n",
       "  }\n",
       "  th, td {\n",
       "    padding: 5px;\n",
       "  }\n",
       "  th {\n",
       "    text-align: left;\n",
       "  }\n",
       "</style><div class='table-result-container'><table class='table-result'><thead style='background-color: white'><tr><th>employee_id</th><th>employee_name</th><th>manager_id</th></tr></thead><tbody><tr><td>1</td><td>John Doe</td><td>101</td></tr><tr><td>2</td><td>Jane Smith</td><td>102</td></tr><tr><td>3</td><td>Sam Brown</td><td>101</td></tr><tr><td>4</td><td>Lisa White</td><td>102</td></tr><tr><td>5</td><td>Mike Johnson</td><td>103</td></tr><tr><td>6</td><td>Emma Watson</td><td>104</td></tr><tr><td>7</td><td>Robert Downey</td><td>103</td></tr><tr><td>8</td><td>Chris Evans</td><td>102</td></tr><tr><td>9</td><td>Scarlett Johansson</td><td>104</td></tr><tr><td>10</td><td>Tom Holland</td><td>101</td></tr></tbody></table></div>"
      ]
     },
     "metadata": {
      "application/vnd.databricks.v1+output": {
       "addedWidgets": {},
       "aggData": [],
       "aggError": "",
       "aggOverflow": false,
       "aggSchema": [],
       "aggSeriesLimitReached": false,
       "aggType": "",
       "arguments": {},
       "columnCustomDisplayInfos": {},
       "data": [
        [
         1,
         "John Doe",
         101
        ],
        [
         2,
         "Jane Smith",
         102
        ],
        [
         3,
         "Sam Brown",
         101
        ],
        [
         4,
         "Lisa White",
         102
        ],
        [
         5,
         "Mike Johnson",
         103
        ],
        [
         6,
         "Emma Watson",
         104
        ],
        [
         7,
         "Robert Downey",
         103
        ],
        [
         8,
         "Chris Evans",
         102
        ],
        [
         9,
         "Scarlett Johansson",
         104
        ],
        [
         10,
         "Tom Holland",
         101
        ]
       ],
       "datasetInfos": [],
       "dbfsResultPath": null,
       "isJsonSchema": true,
       "metadata": {},
       "overflow": false,
       "plotOptions": {
        "customPlotOptions": {},
        "displayType": "table",
        "pivotAggregation": null,
        "pivotColumns": null,
        "xColumns": null,
        "yColumns": null
       },
       "removedWidgets": [],
       "schema": [
        {
         "metadata": "{}",
         "name": "employee_id",
         "type": "\"integer\""
        },
        {
         "metadata": "{}",
         "name": "employee_name",
         "type": "\"string\""
        },
        {
         "metadata": "{}",
         "name": "manager_id",
         "type": "\"integer\""
        }
       ],
       "type": "table"
      }
     },
     "output_type": "display_data"
    },
    {
     "output_type": "display_data",
     "data": {
      "text/html": [
       "<style scoped>\n",
       "  .table-result-container {\n",
       "    max-height: 300px;\n",
       "    overflow: auto;\n",
       "  }\n",
       "  table, th, td {\n",
       "    border: 1px solid black;\n",
       "    border-collapse: collapse;\n",
       "  }\n",
       "  th, td {\n",
       "    padding: 5px;\n",
       "  }\n",
       "  th {\n",
       "    text-align: left;\n",
       "  }\n",
       "</style><div class='table-result-container'><table class='table-result'><thead style='background-color: white'><tr><th>manager_id</th><th>manager_name</th></tr></thead><tbody><tr><td>101</td><td>Michael Scott</td></tr><tr><td>102</td><td>Jim Halpert</td></tr><tr><td>103</td><td>Dwight Schrute</td></tr><tr><td>104</td><td>Pam Beesly</td></tr></tbody></table></div>"
      ]
     },
     "metadata": {
      "application/vnd.databricks.v1+output": {
       "addedWidgets": {},
       "aggData": [],
       "aggError": "",
       "aggOverflow": false,
       "aggSchema": [],
       "aggSeriesLimitReached": false,
       "aggType": "",
       "arguments": {},
       "columnCustomDisplayInfos": {},
       "data": [
        [
         101,
         "Michael Scott"
        ],
        [
         102,
         "Jim Halpert"
        ],
        [
         103,
         "Dwight Schrute"
        ],
        [
         104,
         "Pam Beesly"
        ]
       ],
       "datasetInfos": [],
       "dbfsResultPath": null,
       "isJsonSchema": true,
       "metadata": {},
       "overflow": false,
       "plotOptions": {
        "customPlotOptions": {},
        "displayType": "table",
        "pivotAggregation": null,
        "pivotColumns": null,
        "xColumns": null,
        "yColumns": null
       },
       "removedWidgets": [],
       "schema": [
        {
         "metadata": "{}",
         "name": "manager_id",
         "type": "\"integer\""
        },
        {
         "metadata": "{}",
         "name": "manager_name",
         "type": "\"string\""
        }
       ],
       "type": "table"
      }
     },
     "output_type": "display_data"
    }
   ],
   "source": [
    "from pyspark.sql.types import *\n",
    "\n",
    "# Define the schema for employees\n",
    "employee_schema = StructType(\n",
    "    [\n",
    "        StructField(\"employee_id\", IntegerType(), True),\n",
    "        StructField(\"employee_name\", StringType(), True),\n",
    "        StructField(\"manager_id\", IntegerType(), True),\n",
    "    ]\n",
    ")\n",
    "\n",
    "# Define the schema for managers\n",
    "manager_schema = StructType(\n",
    "    [\n",
    "        StructField(\"manager_id\", IntegerType(), True),\n",
    "        StructField(\"manager_name\", StringType(), True),\n",
    "    ]\n",
    ")\n",
    "\n",
    "employee_data = [\n",
    "    (1, \"John Doe\", 101),\n",
    "    (2, \"Jane Smith\", 102),\n",
    "    (3, \"Sam Brown\", 101),\n",
    "    (4, \"Lisa White\", 102),\n",
    "    (5, \"Mike Johnson\", 103),\n",
    "    (6, \"Emma Watson\", 104),\n",
    "    (7, \"Robert Downey\", 103),\n",
    "    (8, \"Chris Evans\", 102),\n",
    "    (9, \"Scarlett Johansson\", 104),\n",
    "    (10, \"Tom Holland\", 101),\n",
    "]\n",
    "\n",
    "# Sample manager data (4 entries)\n",
    "manager_data = [\n",
    "    (101, \"Michael Scott\"),\n",
    "    (102, \"Jim Halpert\"),\n",
    "    (103, \"Dwight Schrute\"),\n",
    "    (104, \"Pam Beesly\"),\n",
    "]\n",
    "# Create DataFrames for employees and managers\n",
    "employee_df = spark.createDataFrame(employee_data, schema=employee_schema)\n",
    "manager_df = spark.createDataFrame(manager_data, schema=manager_schema)\n",
    "\n",
    "# display the DataFrames\n",
    "employee_df.display()\n",
    "manager_df.display()"
   ]
  },
  {
   "cell_type": "code",
   "execution_count": 0,
   "metadata": {
    "application/vnd.databricks.v1+cell": {
     "cellMetadata": {
      "byteLimit": 2048000,
      "rowLimit": 10000
     },
     "inputWidgets": {},
     "nuid": "7b616945-75f8-4ad0-af03-933b355d58e3",
     "showTitle": false,
     "title": ""
    }
   },
   "outputs": [
    {
     "output_type": "display_data",
     "data": {
      "text/html": [
       "<style scoped>\n",
       "  .table-result-container {\n",
       "    max-height: 300px;\n",
       "    overflow: auto;\n",
       "  }\n",
       "  table, th, td {\n",
       "    border: 1px solid black;\n",
       "    border-collapse: collapse;\n",
       "  }\n",
       "  th, td {\n",
       "    padding: 5px;\n",
       "  }\n",
       "  th {\n",
       "    text-align: left;\n",
       "  }\n",
       "</style><div class='table-result-container'><table class='table-result'><thead style='background-color: white'><tr><th>employee_name</th><th>manager_name</th></tr></thead><tbody><tr><td>John Doe</td><td>Michael Scott</td></tr><tr><td>Sam Brown</td><td>Michael Scott</td></tr><tr><td>Tom Holland</td><td>Michael Scott</td></tr><tr><td>Jane Smith</td><td>Jim Halpert</td></tr><tr><td>Lisa White</td><td>Jim Halpert</td></tr><tr><td>Chris Evans</td><td>Jim Halpert</td></tr><tr><td>Mike Johnson</td><td>Dwight Schrute</td></tr><tr><td>Robert Downey</td><td>Dwight Schrute</td></tr><tr><td>Emma Watson</td><td>Pam Beesly</td></tr><tr><td>Scarlett Johansson</td><td>Pam Beesly</td></tr></tbody></table></div>"
      ]
     },
     "metadata": {
      "application/vnd.databricks.v1+output": {
       "addedWidgets": {},
       "aggData": [],
       "aggError": "",
       "aggOverflow": false,
       "aggSchema": [],
       "aggSeriesLimitReached": false,
       "aggType": "",
       "arguments": {},
       "columnCustomDisplayInfos": {},
       "data": [
        [
         "John Doe",
         "Michael Scott"
        ],
        [
         "Sam Brown",
         "Michael Scott"
        ],
        [
         "Tom Holland",
         "Michael Scott"
        ],
        [
         "Jane Smith",
         "Jim Halpert"
        ],
        [
         "Lisa White",
         "Jim Halpert"
        ],
        [
         "Chris Evans",
         "Jim Halpert"
        ],
        [
         "Mike Johnson",
         "Dwight Schrute"
        ],
        [
         "Robert Downey",
         "Dwight Schrute"
        ],
        [
         "Emma Watson",
         "Pam Beesly"
        ],
        [
         "Scarlett Johansson",
         "Pam Beesly"
        ]
       ],
       "datasetInfos": [],
       "dbfsResultPath": null,
       "isJsonSchema": true,
       "metadata": {},
       "overflow": false,
       "plotOptions": {
        "customPlotOptions": {},
        "displayType": "table",
        "pivotAggregation": null,
        "pivotColumns": null,
        "xColumns": null,
        "yColumns": null
       },
       "removedWidgets": [],
       "schema": [
        {
         "metadata": "{}",
         "name": "employee_name",
         "type": "\"string\""
        },
        {
         "metadata": "{}",
         "name": "manager_name",
         "type": "\"string\""
        }
       ],
       "type": "table"
      }
     },
     "output_type": "display_data"
    }
   ],
   "source": [
    "from pyspark.sql.functions import col\n",
    "\n",
    "# Join employees with managers based on manager_id\n",
    "org_chart_df = employee_df.join(\n",
    "    manager_df, employee_df.manager_id == manager_df.manager_id, \"inner\"\n",
    ").select(employee_df.employee_name, manager_df.manager_name)\n",
    "\n",
    "# display the organizational hierarchy\n",
    "org_chart_df.display()"
   ]
  },
  {
   "cell_type": "code",
   "execution_count": 0,
   "metadata": {
    "application/vnd.databricks.v1+cell": {
     "cellMetadata": {
      "byteLimit": 2048000,
      "rowLimit": 10000
     },
     "inputWidgets": {},
     "nuid": "7e36f37b-264d-462f-8605-533cdf2b2d79",
     "showTitle": false,
     "title": ""
    }
   },
   "outputs": [],
   "source": [
    "employee_df.createOrReplaceTempView(\"Employees\")\n",
    "manager_df.createOrReplaceTempView(\"Managers\")"
   ]
  },
  {
   "cell_type": "code",
   "execution_count": 0,
   "metadata": {
    "application/vnd.databricks.v1+cell": {
     "cellMetadata": {
      "byteLimit": 2048000,
      "rowLimit": 10000
     },
     "inputWidgets": {},
     "nuid": "9e6181c4-0d16-4620-bf27-1a6c50f5bf7a",
     "showTitle": false,
     "title": ""
    }
   },
   "outputs": [
    {
     "output_type": "display_data",
     "data": {
      "text/html": [
       "<style scoped>\n",
       "  .table-result-container {\n",
       "    max-height: 300px;\n",
       "    overflow: auto;\n",
       "  }\n",
       "  table, th, td {\n",
       "    border: 1px solid black;\n",
       "    border-collapse: collapse;\n",
       "  }\n",
       "  th, td {\n",
       "    padding: 5px;\n",
       "  }\n",
       "  th {\n",
       "    text-align: left;\n",
       "  }\n",
       "</style><div class='table-result-container'><table class='table-result'><thead style='background-color: white'><tr><th>employee_name</th><th>manager_name</th></tr></thead><tbody><tr><td>John Doe</td><td>Michael Scott</td></tr><tr><td>Sam Brown</td><td>Michael Scott</td></tr><tr><td>Tom Holland</td><td>Michael Scott</td></tr><tr><td>Jane Smith</td><td>Jim Halpert</td></tr><tr><td>Lisa White</td><td>Jim Halpert</td></tr><tr><td>Chris Evans</td><td>Jim Halpert</td></tr><tr><td>Mike Johnson</td><td>Dwight Schrute</td></tr><tr><td>Robert Downey</td><td>Dwight Schrute</td></tr><tr><td>Emma Watson</td><td>Pam Beesly</td></tr><tr><td>Scarlett Johansson</td><td>Pam Beesly</td></tr></tbody></table></div>"
      ]
     },
     "metadata": {
      "application/vnd.databricks.v1+output": {
       "addedWidgets": {},
       "aggData": [],
       "aggError": "",
       "aggOverflow": false,
       "aggSchema": [],
       "aggSeriesLimitReached": false,
       "aggType": "",
       "arguments": {},
       "columnCustomDisplayInfos": {},
       "data": [
        [
         "John Doe",
         "Michael Scott"
        ],
        [
         "Sam Brown",
         "Michael Scott"
        ],
        [
         "Tom Holland",
         "Michael Scott"
        ],
        [
         "Jane Smith",
         "Jim Halpert"
        ],
        [
         "Lisa White",
         "Jim Halpert"
        ],
        [
         "Chris Evans",
         "Jim Halpert"
        ],
        [
         "Mike Johnson",
         "Dwight Schrute"
        ],
        [
         "Robert Downey",
         "Dwight Schrute"
        ],
        [
         "Emma Watson",
         "Pam Beesly"
        ],
        [
         "Scarlett Johansson",
         "Pam Beesly"
        ]
       ],
       "datasetInfos": [],
       "dbfsResultPath": null,
       "isJsonSchema": true,
       "metadata": {},
       "overflow": false,
       "plotOptions": {
        "customPlotOptions": {},
        "displayType": "table",
        "pivotAggregation": null,
        "pivotColumns": null,
        "xColumns": null,
        "yColumns": null
       },
       "removedWidgets": [],
       "schema": [
        {
         "metadata": "{}",
         "name": "employee_name",
         "type": "\"string\""
        },
        {
         "metadata": "{}",
         "name": "manager_name",
         "type": "\"string\""
        }
       ],
       "type": "table"
      }
     },
     "output_type": "display_data"
    }
   ],
   "source": [
    "# SQL query to join employees and managers based on manager_id\n",
    "org_chart_sql = \"\"\"\n",
    "SELECT e.employee_name, m.manager_name\n",
    "FROM employees e\n",
    "JOIN managers m\n",
    "ON e.manager_id = m.manager_id\n",
    "\"\"\"\n",
    "\n",
    "# Run the query\n",
    "org_chart_df_sql = spark.sql(org_chart_sql)\n",
    "\n",
    "# display the result of the organizational hierarchy\n",
    "org_chart_df_sql.display()"
   ]
  }
 ],
 "metadata": {
  "application/vnd.databricks.v1+notebook": {
   "dashboards": [],
   "environmentMetadata": null,
   "language": "python",
   "notebookMetadata": {
    "mostRecentlyExecutedCommandWithImplicitDF": {
     "commandId": 2287475282003155,
     "dataframes": [
      "_sqldf"
     ]
    },
    "pythonIndentUnit": 4
   },
   "notebookName": "Organizational Chart Hierarchy",
   "widgets": {}
  }
 },
 "nbformat": 4,
 "nbformat_minor": 0
}
