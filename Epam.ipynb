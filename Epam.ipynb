{
 "cells": [
  {
   "cell_type": "markdown",
   "metadata": {
    "application/vnd.databricks.v1+cell": {
     "cellMetadata": {},
     "inputWidgets": {},
     "nuid": "8952165b-b954-46f8-81f1-5de791b9231b",
     "showTitle": false,
     "tableResultSettingsMap": {},
     "title": ""
    }
   },
   "source": [
    "###Problem Statement: \n",
    "Candidate Experience Analysis\n",
    "You are provided with a dataset named assessments that contains the following columns:\n",
    "\n",
    "id: Unique identifier for each candidate.\n",
    "experience: The number of years of experience the candidate has.\n",
    "sql: Score for SQL proficiency (ranges from 0 to 100 or NULL).\n",
    "algo: Score for algorithm knowledge (ranges from 0 to 100 or NULL).\n",
    "bug_fixing: Score for debugging skills (ranges from 0 to 100 or NULL).\n",
    "Your goal is to analyze the data to:\n",
    "\n",
    "Determine the total number of candidates for each experience level.\n",
    "Count how many candidates per experience level meet the following max-score conditions:\n",
    "SQL score is 100 or is NULL.\n",
    "Algorithm score is 100 or is NULL.\n",
    "Bug fixing score is 100 or is NULL.\n",
    "The output should include:\n",
    "\n",
    "experience: Candidate experience level.\n",
    "total_candidate: Total number of candidates with that experience level.\n",
    "max_score_flag: Number of candidates satisfying the max-score conditions.\n",
    "The results should be grouped by experience and ordered by experience.\n",
    "\n"
   ]
  },
  {
   "cell_type": "code",
   "execution_count": 0,
   "metadata": {
    "application/vnd.databricks.v1+cell": {
     "cellMetadata": {
      "byteLimit": 2048000,
      "rowLimit": 10000
     },
     "inputWidgets": {},
     "nuid": "2297ce9e-3445-43b6-875e-7124371867a4",
     "showTitle": false,
     "tableResultSettingsMap": {},
     "title": ""
    }
   },
   "outputs": [
    {
     "output_type": "display_data",
     "data": {
      "text/html": [
       "<style scoped>\n",
       "  .table-result-container {\n",
       "    max-height: 300px;\n",
       "    overflow: auto;\n",
       "  }\n",
       "  table, th, td {\n",
       "    border: 1px solid black;\n",
       "    border-collapse: collapse;\n",
       "  }\n",
       "  th, td {\n",
       "    padding: 5px;\n",
       "  }\n",
       "  th {\n",
       "    text-align: left;\n",
       "  }\n",
       "</style><div class='table-result-container'><table class='table-result'><thead style='background-color: white'><tr><th>id</th><th>experience</th><th>sql</th><th>algo</th><th>bug_fixing</th></tr></thead><tbody><tr><td>1</td><td>3</td><td>100</td><td>null</td><td>50</td></tr><tr><td>2</td><td>5</td><td>null</td><td>100</td><td>100</td></tr><tr><td>3</td><td>1</td><td>100</td><td>100</td><td>100</td></tr><tr><td>4</td><td>5</td><td>100</td><td>50</td><td>null</td></tr><tr><td>5</td><td>5</td><td>100</td><td>100</td><td>100</td></tr></tbody></table></div>"
      ]
     },
     "metadata": {
      "application/vnd.databricks.v1+output": {
       "addedWidgets": {},
       "aggData": [],
       "aggError": "",
       "aggOverflow": false,
       "aggSchema": [],
       "aggSeriesLimitReached": false,
       "aggType": "",
       "arguments": {},
       "columnCustomDisplayInfos": {},
       "data": [
        [
         1,
         3,
         100,
         null,
         50
        ],
        [
         2,
         5,
         null,
         100,
         100
        ],
        [
         3,
         1,
         100,
         100,
         100
        ],
        [
         4,
         5,
         100,
         50,
         null
        ],
        [
         5,
         5,
         100,
         100,
         100
        ]
       ],
       "datasetInfos": [],
       "dbfsResultPath": null,
       "isJsonSchema": true,
       "metadata": {},
       "overflow": false,
       "plotOptions": {
        "customPlotOptions": {},
        "displayType": "table",
        "pivotAggregation": null,
        "pivotColumns": null,
        "xColumns": null,
        "yColumns": null
       },
       "removedWidgets": [],
       "schema": [
        {
         "metadata": "{}",
         "name": "id",
         "type": "\"integer\""
        },
        {
         "metadata": "{}",
         "name": "experience",
         "type": "\"integer\""
        },
        {
         "metadata": "{}",
         "name": "sql",
         "type": "\"integer\""
        },
        {
         "metadata": "{}",
         "name": "algo",
         "type": "\"integer\""
        },
        {
         "metadata": "{}",
         "name": "bug_fixing",
         "type": "\"integer\""
        }
       ],
       "type": "table"
      }
     },
     "output_type": "display_data"
    }
   ],
   "source": [
    "from pyspark.sql.types import *\n",
    "\n",
    "# Define the schema\n",
    "schema = StructType([\n",
    "    StructField(\"id\", IntegerType(), True),\n",
    "    StructField(\"experience\", IntegerType(), True),\n",
    "    StructField(\"sql\", IntegerType(), True),\n",
    "    StructField(\"algo\", IntegerType(), True),\n",
    "    StructField(\"bug_fixing\", IntegerType(), True)\n",
    "])\n",
    "\n",
    "# Define the data\n",
    "data = [\n",
    "    (1, 3, 100, None, 50),\n",
    "    (2, 5, None, 100, 100),\n",
    "    (3, 1, 100, 100, 100),\n",
    "    (4, 5, 100, 50, None),\n",
    "    (5, 5, 100, 100, 100)\n",
    "]\n",
    "\n",
    "# Create the DataFrame\n",
    "assessments_df = spark.createDataFrame(data, schema)\n",
    "\n",
    "# display the DataFrame\n",
    "assessments_df.display()\n"
   ]
  },
  {
   "cell_type": "code",
   "execution_count": 0,
   "metadata": {
    "application/vnd.databricks.v1+cell": {
     "cellMetadata": {
      "byteLimit": 2048000,
      "rowLimit": 10000
     },
     "inputWidgets": {},
     "nuid": "a14b5d3d-2f3c-46b2-abe8-1ef35afea083",
     "showTitle": false,
     "tableResultSettingsMap": {},
     "title": ""
    }
   },
   "outputs": [
    {
     "output_type": "display_data",
     "data": {
      "text/html": [
       "<style scoped>\n",
       "  .table-result-container {\n",
       "    max-height: 300px;\n",
       "    overflow: auto;\n",
       "  }\n",
       "  table, th, td {\n",
       "    border: 1px solid black;\n",
       "    border-collapse: collapse;\n",
       "  }\n",
       "  th, td {\n",
       "    padding: 5px;\n",
       "  }\n",
       "  th {\n",
       "    text-align: left;\n",
       "  }\n",
       "</style><div class='table-result-container'><table class='table-result'><thead style='background-color: white'><tr><th>experience</th><th>total_candidate</th><th>max_score_flag</th></tr></thead><tbody><tr><td>1</td><td>1</td><td>1</td></tr><tr><td>3</td><td>1</td><td>0</td></tr><tr><td>5</td><td>3</td><td>2</td></tr></tbody></table></div>"
      ]
     },
     "metadata": {
      "application/vnd.databricks.v1+output": {
       "addedWidgets": {},
       "aggData": [],
       "aggError": "",
       "aggOverflow": false,
       "aggSchema": [],
       "aggSeriesLimitReached": false,
       "aggType": "",
       "arguments": {},
       "columnCustomDisplayInfos": {},
       "data": [
        [
         1,
         1,
         1
        ],
        [
         3,
         1,
         0
        ],
        [
         5,
         3,
         2
        ]
       ],
       "datasetInfos": [],
       "dbfsResultPath": null,
       "isJsonSchema": true,
       "metadata": {},
       "overflow": false,
       "plotOptions": {
        "customPlotOptions": {},
        "displayType": "table",
        "pivotAggregation": null,
        "pivotColumns": null,
        "xColumns": null,
        "yColumns": null
       },
       "removedWidgets": [],
       "schema": [
        {
         "metadata": "{}",
         "name": "experience",
         "type": "\"integer\""
        },
        {
         "metadata": "{}",
         "name": "total_candidate",
         "type": "\"long\""
        },
        {
         "metadata": "{}",
         "name": "max_score_flag",
         "type": "\"long\""
        }
       ],
       "type": "table"
      }
     },
     "output_type": "display_data"
    }
   ],
   "source": [
    "from pyspark.sql import functions as F\n",
    "\n",
    "# Add the \"max_score_flag\" column based on the conditions\n",
    "result_df = assessments_df.groupBy(\"experience\").agg(\n",
    "    F.count(\"*\").alias(\"total_candidate\"),\n",
    "    F.count(\n",
    "        F.when(\n",
    "            ((F.col(\"sql\").eqNullSafe(100) | F.col(\"sql\").isNull()) &\n",
    "             (F.col(\"algo\").eqNullSafe(100) | F.col(\"algo\").isNull()) &\n",
    "             (F.col(\"bug_fixing\").eqNullSafe(100) | F.col(\"bug_fixing\").isNull())),\n",
    "            1\n",
    "        )\n",
    "    ).alias(\"max_score_flag\")\n",
    ").orderBy(\"experience\")\n",
    "\n",
    "# display the results\n",
    "result_df.display()\n"
   ]
  },
  {
   "cell_type": "code",
   "execution_count": 0,
   "metadata": {
    "application/vnd.databricks.v1+cell": {
     "cellMetadata": {
      "byteLimit": 2048000,
      "rowLimit": 10000
     },
     "inputWidgets": {},
     "nuid": "9e250d8e-6b86-45fd-b03c-cc5b4f334d05",
     "showTitle": false,
     "tableResultSettingsMap": {},
     "title": ""
    }
   },
   "outputs": [],
   "source": [
    "# Register the DataFrame as a temporary view\n",
    "assessments_df.createOrReplaceTempView(\"assessments\")"
   ]
  },
  {
   "cell_type": "code",
   "execution_count": 0,
   "metadata": {
    "application/vnd.databricks.v1+cell": {
     "cellMetadata": {
      "byteLimit": 2048000,
      "rowLimit": 10000
     },
     "inputWidgets": {},
     "nuid": "19656979-a934-428e-ab9b-b390b03f288f",
     "showTitle": false,
     "tableResultSettingsMap": {},
     "title": ""
    }
   },
   "outputs": [
    {
     "output_type": "display_data",
     "data": {
      "text/html": [
       "<style scoped>\n",
       "  .table-result-container {\n",
       "    max-height: 300px;\n",
       "    overflow: auto;\n",
       "  }\n",
       "  table, th, td {\n",
       "    border: 1px solid black;\n",
       "    border-collapse: collapse;\n",
       "  }\n",
       "  th, td {\n",
       "    padding: 5px;\n",
       "  }\n",
       "  th {\n",
       "    text-align: left;\n",
       "  }\n",
       "</style><div class='table-result-container'><table class='table-result'><thead style='background-color: white'><tr><th>experience</th><th>total_candidate</th><th>max_score_flag</th></tr></thead><tbody><tr><td>1</td><td>1</td><td>1</td></tr><tr><td>3</td><td>1</td><td>0</td></tr><tr><td>5</td><td>3</td><td>2</td></tr></tbody></table></div>"
      ]
     },
     "metadata": {
      "application/vnd.databricks.v1+output": {
       "addedWidgets": {},
       "aggData": [],
       "aggError": "",
       "aggOverflow": false,
       "aggSchema": [],
       "aggSeriesLimitReached": false,
       "aggType": "",
       "arguments": {},
       "columnCustomDisplayInfos": {},
       "data": [
        [
         1,
         1,
         1
        ],
        [
         3,
         1,
         0
        ],
        [
         5,
         3,
         2
        ]
       ],
       "datasetInfos": [],
       "dbfsResultPath": null,
       "isJsonSchema": true,
       "metadata": {},
       "overflow": false,
       "plotOptions": {
        "customPlotOptions": {},
        "displayType": "table",
        "pivotAggregation": null,
        "pivotColumns": null,
        "xColumns": null,
        "yColumns": null
       },
       "removedWidgets": [],
       "schema": [
        {
         "metadata": "{}",
         "name": "experience",
         "type": "\"integer\""
        },
        {
         "metadata": "{}",
         "name": "total_candidate",
         "type": "\"long\""
        },
        {
         "metadata": "{}",
         "name": "max_score_flag",
         "type": "\"long\""
        }
       ],
       "type": "table"
      }
     },
     "output_type": "display_data"
    }
   ],
   "source": [
    "# Spark SQL query\n",
    "query = \"\"\"\n",
    "SELECT \n",
    "    experience, \n",
    "    COUNT(*) AS total_candidate,\n",
    "    COUNT(\n",
    "        CASE \n",
    "            WHEN \n",
    "                (sql = 100 OR sql IS NULL) AND \n",
    "                (algo = 100 OR algo IS NULL) AND \n",
    "                (bug_fixing = 100 OR bug_fixing IS NULL) \n",
    "            THEN 1 \n",
    "        END\n",
    "    ) AS max_score_flag\n",
    "FROM assessments\n",
    "GROUP BY experience\n",
    "ORDER BY experience\n",
    "\"\"\"\n",
    "\n",
    "# Execute the query\n",
    "result_df = spark.sql(query)\n",
    "\n",
    "# display the results\n",
    "result_df.display()\n"
   ]
  },
  {
   "cell_type": "markdown",
   "metadata": {
    "application/vnd.databricks.v1+cell": {
     "cellMetadata": {},
     "inputWidgets": {},
     "nuid": "a351dffb-d189-4139-9809-173d6791997f",
     "showTitle": false,
     "tableResultSettingsMap": {},
     "title": ""
    }
   },
   "source": [
    "###Explanation of the Query:\n",
    "\n",
    "COUNT(*) AS total_candidate:\n",
    "\n",
    "Counts all rows for each group defined by experience.\n",
    "COUNT(CASE WHEN ... THEN 1 END):\n",
    "\n",
    "Evaluates the condition for each row:\n",
    "(sql = 100 OR sql IS NULL)\n",
    "(algo = 100 OR algo IS NULL)\n",
    "(bug_fixing = 100 OR bug_fixing IS NULL)\n",
    "If the condition is true, it counts the row; otherwise, it skips it.\n",
    "GROUP BY experience:\n",
    "\n",
    "Groups the rows based on the experience column.\n",
    "ORDER BY experience:\n",
    "\n",
    "Sorts the results by experience in ascending order."
   ]
  }
 ],
 "metadata": {
  "application/vnd.databricks.v1+notebook": {
   "dashboards": [],
   "environmentMetadata": null,
   "language": "python",
   "notebookMetadata": {
    "pythonIndentUnit": 4
   },
   "notebookName": "Untitled Notebook 2024-11-27 08:38:31",
   "widgets": {}
  }
 },
 "nbformat": 4,
 "nbformat_minor": 0
}
