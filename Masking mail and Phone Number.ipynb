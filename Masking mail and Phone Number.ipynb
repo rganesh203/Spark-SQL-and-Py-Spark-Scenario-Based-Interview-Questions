{
 "cells": [
  {
   "cell_type": "code",
   "execution_count": 0,
   "metadata": {
    "application/vnd.databricks.v1+cell": {
     "cellMetadata": {
      "byteLimit": 2048000,
      "rowLimit": 10000
     },
     "inputWidgets": {},
     "nuid": "efb8b73a-fcfb-4f7e-a36c-f5ee124b54fd",
     "showTitle": false,
     "tableResultSettingsMap": {},
     "title": ""
    }
   },
   "outputs": [
    {
     "output_type": "display_data",
     "data": {
      "text/html": [
       "<style scoped>\n",
       "  .table-result-container {\n",
       "    max-height: 300px;\n",
       "    overflow: auto;\n",
       "  }\n",
       "  table, th, td {\n",
       "    border: 1px solid black;\n",
       "    border-collapse: collapse;\n",
       "  }\n",
       "  th, td {\n",
       "    padding: 5px;\n",
       "  }\n",
       "  th {\n",
       "    text-align: left;\n",
       "  }\n",
       "</style><div class='table-result-container'><table class='table-result'><thead style='background-color: white'><tr><th>id</th><th>email</th><th>phone</th></tr></thead><tbody><tr><td>1</td><td>john.doe@gmail.com</td><td>8956756457</td></tr><tr><td>2</td><td>jane.smith@outlook.com</td><td>9845671234</td></tr><tr><td>3</td><td>alan.turing@yahoo.com</td><td>9123456789</td></tr></tbody></table></div>"
      ]
     },
     "metadata": {
      "application/vnd.databricks.v1+output": {
       "addedWidgets": {},
       "aggData": [],
       "aggError": "",
       "aggOverflow": false,
       "aggSchema": [],
       "aggSeriesLimitReached": false,
       "aggType": "",
       "arguments": {},
       "columnCustomDisplayInfos": {},
       "data": [
        [
         1,
         "john.doe@gmail.com",
         "8956756457"
        ],
        [
         2,
         "jane.smith@outlook.com",
         "9845671234"
        ],
        [
         3,
         "alan.turing@yahoo.com",
         "9123456789"
        ]
       ],
       "datasetInfos": [],
       "dbfsResultPath": null,
       "isJsonSchema": true,
       "metadata": {},
       "overflow": false,
       "plotOptions": {
        "customPlotOptions": {},
        "displayType": "table",
        "pivotAggregation": null,
        "pivotColumns": null,
        "xColumns": null,
        "yColumns": null
       },
       "removedWidgets": [],
       "schema": [
        {
         "metadata": "{}",
         "name": "id",
         "type": "\"long\""
        },
        {
         "metadata": "{}",
         "name": "email",
         "type": "\"string\""
        },
        {
         "metadata": "{}",
         "name": "phone",
         "type": "\"string\""
        }
       ],
       "type": "table"
      }
     },
     "output_type": "display_data"
    }
   ],
   "source": [
    "from pyspark.sql.functions import col, concat, lit, substring_index\n",
    "\n",
    "# Input Data\n",
    "data = [\n",
    "    (1, \"john.doe@gmail.com\", \"8956756457\"),\n",
    "    (2, \"jane.smith@outlook.com\", \"9845671234\"),\n",
    "    (3, \"alan.turing@yahoo.com\", \"9123456789\"),\n",
    "]\n",
    "\n",
    "columns = [\"id\", \"email\", \"phone\"]\n",
    "\n",
    "df = spark.createDataFrame(data, columns)\n",
    "df.display()"
   ]
  },
  {
   "cell_type": "code",
   "execution_count": 0,
   "metadata": {
    "application/vnd.databricks.v1+cell": {
     "cellMetadata": {
      "byteLimit": 2048000,
      "rowLimit": 10000
     },
     "inputWidgets": {},
     "nuid": "c6479e19-2a67-440c-868e-d21c96d2a299",
     "showTitle": false,
     "tableResultSettingsMap": {},
     "title": ""
    }
   },
   "outputs": [
    {
     "output_type": "display_data",
     "data": {
      "text/html": [
       "<style scoped>\n",
       "  .table-result-container {\n",
       "    max-height: 300px;\n",
       "    overflow: auto;\n",
       "  }\n",
       "  table, th, td {\n",
       "    border: 1px solid black;\n",
       "    border-collapse: collapse;\n",
       "  }\n",
       "  th, td {\n",
       "    padding: 5px;\n",
       "  }\n",
       "  th {\n",
       "    text-align: left;\n",
       "  }\n",
       "</style><div class='table-result-container'><table class='table-result'><thead style='background-color: white'><tr><th>id</th><th>masked_email</th><th>masked_phone</th></tr></thead><tbody><tr><td>1</td><td>j****@gmail.com</td><td>*****6457</td></tr><tr><td>2</td><td>j****@outlook.com</td><td>*****1234</td></tr><tr><td>3</td><td>a****@yahoo.com</td><td>*****6789</td></tr></tbody></table></div>"
      ]
     },
     "metadata": {
      "application/vnd.databricks.v1+output": {
       "addedWidgets": {},
       "aggData": [],
       "aggError": "",
       "aggOverflow": false,
       "aggSchema": [],
       "aggSeriesLimitReached": false,
       "aggType": "",
       "arguments": {},
       "columnCustomDisplayInfos": {},
       "data": [
        [
         1,
         "j****@gmail.com",
         "*****6457"
        ],
        [
         2,
         "j****@outlook.com",
         "*****1234"
        ],
        [
         3,
         "a****@yahoo.com",
         "*****6789"
        ]
       ],
       "datasetInfos": [],
       "dbfsResultPath": null,
       "isJsonSchema": true,
       "metadata": {},
       "overflow": false,
       "plotOptions": {
        "customPlotOptions": {},
        "displayType": "table",
        "pivotAggregation": null,
        "pivotColumns": null,
        "xColumns": null,
        "yColumns": null
       },
       "removedWidgets": [],
       "schema": [
        {
         "metadata": "{}",
         "name": "id",
         "type": "\"long\""
        },
        {
         "metadata": "{}",
         "name": "masked_email",
         "type": "\"string\""
        },
        {
         "metadata": "{}",
         "name": "masked_phone",
         "type": "\"string\""
        }
       ],
       "type": "table"
      }
     },
     "output_type": "display_data"
    }
   ],
   "source": [
    "# Mask email: keep first char, add ****, keep domain\n",
    "masked_email = (\n",
    "    concat(\n",
    "        substring_index(col(\"email\"), \".\", 1).substr(1, 1),  # first letter of name\n",
    "        lit(\"****\"),\n",
    "        lit(\"@\"),\n",
    "        substring_index(col(\"email\"), \"@\", -1)  # domain part\n",
    "    ).alias(\"masked_email\")\n",
    ")\n",
    "\n",
    "# Mask phone: replace first 5 digits with *****\n",
    "masked_phone = (\n",
    "    concat(\n",
    "        lit(\"*****\"),\n",
    "        col(\"phone\").substr(-4, 4)  # last 4 digits\n",
    "    ).alias(\"masked_phone\")\n",
    ")\n",
    "\n",
    "# Final dataframe\n",
    "result_df = df.select(\n",
    "    col(\"id\"),\n",
    "    masked_email,\n",
    "    masked_phone\n",
    ")\n",
    "\n",
    "result_df.display()"
   ]
  },
  {
   "cell_type": "code",
   "execution_count": 0,
   "metadata": {
    "application/vnd.databricks.v1+cell": {
     "cellMetadata": {
      "byteLimit": 2048000,
      "rowLimit": 10000
     },
     "inputWidgets": {},
     "nuid": "84b02dc8-c958-481d-9ec0-a378eaff1db8",
     "showTitle": false,
     "tableResultSettingsMap": {},
     "title": ""
    }
   },
   "outputs": [],
   "source": [
    "# Create a temporary view\n",
    "df.createOrReplaceTempView(\"users\")"
   ]
  },
  {
   "cell_type": "code",
   "execution_count": 0,
   "metadata": {
    "application/vnd.databricks.v1+cell": {
     "cellMetadata": {
      "byteLimit": 2048000,
      "rowLimit": 10000
     },
     "inputWidgets": {},
     "nuid": "3600ef08-aa31-4334-ac03-f937fb4f7c49",
     "showTitle": false,
     "tableResultSettingsMap": {},
     "title": ""
    }
   },
   "outputs": [
    {
     "output_type": "stream",
     "name": "stdout",
     "output_type": "stream",
     "text": [
      "+---+-----------------+------------+\n|id |masked_email     |masked_phone|\n+---+-----------------+------------+\n|1  |j****@gmail.com  |*****6457   |\n|2  |j****@outlook.com|*****1234   |\n|3  |a****@yahoo.com  |*****6789   |\n+---+-----------------+------------+\n\n"
     ]
    }
   ],
   "source": [
    "# Spark SQL Query for masking\n",
    "result_df = spark.sql(\"\"\"\n",
    "    SELECT \n",
    "        id,\n",
    "        CONCAT(\n",
    "            SUBSTR(email, 1, 1),                -- first letter\n",
    "            '****',\n",
    "            '@',\n",
    "            SPLIT(email, '@')[1]                -- domain part\n",
    "        ) AS masked_email,\n",
    "        CONCAT(\n",
    "            '*****',\n",
    "            SUBSTR(phone, -4)                   -- last 4 digits\n",
    "        ) AS masked_phone\n",
    "    FROM users\n",
    "\"\"\")\n",
    "\n",
    "result_df.show(truncate=False)"
   ]
  }
 ],
 "metadata": {
  "application/vnd.databricks.v1+notebook": {
   "computePreferences": null,
   "dashboards": [],
   "environmentMetadata": {
    "base_environment": "",
    "environment_version": "1"
   },
   "inputWidgetPreferences": null,
   "language": "python",
   "notebookMetadata": {
    "pythonIndentUnit": 4
   },
   "notebookName": "Masking mail and Phone Number",
   "widgets": {}
  }
 },
 "nbformat": 4,
 "nbformat_minor": 0
}