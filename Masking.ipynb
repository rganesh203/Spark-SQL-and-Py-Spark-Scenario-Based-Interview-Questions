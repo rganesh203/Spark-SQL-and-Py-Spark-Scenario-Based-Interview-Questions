{
 "cells": [
  {
   "cell_type": "code",
   "execution_count": 0,
   "metadata": {
    "application/vnd.databricks.v1+cell": {
     "cellMetadata": {
      "byteLimit": 2048000,
      "rowLimit": 10000
     },
     "inputWidgets": {},
     "nuid": "0b133591-d7ee-4f11-9f41-da17f5969ac1",
     "showTitle": false,
     "tableResultSettingsMap": {},
     "title": ""
    }
   },
   "outputs": [
    {
     "output_type": "display_data",
     "data": {
      "text/html": [
       "<style scoped>\n",
       "  .table-result-container {\n",
       "    max-height: 300px;\n",
       "    overflow: auto;\n",
       "  }\n",
       "  table, th, td {\n",
       "    border: 1px solid black;\n",
       "    border-collapse: collapse;\n",
       "  }\n",
       "  th, td {\n",
       "    padding: 5px;\n",
       "  }\n",
       "  th {\n",
       "    text-align: left;\n",
       "  }\n",
       "</style><div class='table-result-container'><table class='table-result'><thead style='background-color: white'><tr><th>AadharNumber</th><th>FullName</th><th>EmailAddress</th></tr></thead><tbody><tr><td>123456789012</td><td>John Doe</td><td>john.doe@gmail.com</td></tr><tr><td>987654321098</td><td>Jane Smith</td><td>jane.smith@outlook.com</td></tr><tr><td>456789123456</td><td>Alan Turing</td><td>alan.turing@yahoo.com</td></tr></tbody></table></div>"
      ]
     },
     "metadata": {
      "application/vnd.databricks.v1+output": {
       "addedWidgets": {},
       "aggData": [],
       "aggError": "",
       "aggOverflow": false,
       "aggSchema": [],
       "aggSeriesLimitReached": false,
       "aggType": "",
       "arguments": {},
       "columnCustomDisplayInfos": {},
       "data": [
        [
         "123456789012",
         "John Doe",
         "john.doe@gmail.com"
        ],
        [
         "987654321098",
         "Jane Smith",
         "jane.smith@outlook.com"
        ],
        [
         "456789123456",
         "Alan Turing",
         "alan.turing@yahoo.com"
        ]
       ],
       "datasetInfos": [],
       "dbfsResultPath": null,
       "isJsonSchema": true,
       "metadata": {},
       "overflow": false,
       "plotOptions": {
        "customPlotOptions": {},
        "displayType": "table",
        "pivotAggregation": null,
        "pivotColumns": null,
        "xColumns": null,
        "yColumns": null
       },
       "removedWidgets": [],
       "schema": [
        {
         "metadata": "{}",
         "name": "AadharNumber",
         "type": "\"string\""
        },
        {
         "metadata": "{}",
         "name": "FullName",
         "type": "\"string\""
        },
        {
         "metadata": "{}",
         "name": "EmailAddress",
         "type": "\"string\""
        }
       ],
       "type": "table"
      }
     },
     "output_type": "display_data"
    }
   ],
   "source": [
    "from pyspark.sql.functions import expr, concat, lit\n",
    "\n",
    "data = [\n",
    "    (\"123456789012\", \"John Doe\", \"john.doe@gmail.com\"),\n",
    "    (\"987654321098\", \"Jane Smith\", \"jane.smith@outlook.com\"),\n",
    "    (\"456789123456\", \"Alan Turing\", \"alan.turing@yahoo.com\"),\n",
    "]\n",
    "\n",
    "columns = [\"AadharNumber\", \"FullName\", \"EmailAddress\"]\n",
    "df = spark.createDataFrame(data, columns)\n",
    "df.display()"
   ]
  },
  {
   "cell_type": "code",
   "execution_count": 0,
   "metadata": {
    "application/vnd.databricks.v1+cell": {
     "cellMetadata": {
      "byteLimit": 2048000,
      "rowLimit": 10000
     },
     "inputWidgets": {},
     "nuid": "cf034049-0b42-45ba-9e0e-88abba7a201a",
     "showTitle": false,
     "tableResultSettingsMap": {},
     "title": ""
    }
   },
   "outputs": [
    {
     "output_type": "display_data",
     "data": {
      "text/html": [
       "<style scoped>\n",
       "  .table-result-container {\n",
       "    max-height: 300px;\n",
       "    overflow: auto;\n",
       "  }\n",
       "  table, th, td {\n",
       "    border: 1px solid black;\n",
       "    border-collapse: collapse;\n",
       "  }\n",
       "  th, td {\n",
       "    padding: 5px;\n",
       "  }\n",
       "  th {\n",
       "    text-align: left;\n",
       "  }\n",
       "</style><div class='table-result-container'><table class='table-result'><thead style='background-color: white'><tr><th>AadharNumber</th><th>FullName</th><th>MaskedAadharNumber</th><th>MaskedEmailAddress</th></tr></thead><tbody><tr><td>123456789012</td><td>John Doe</td><td>*****6789012</td><td>*****doe@gmail.com</td></tr><tr><td>987654321098</td><td>Jane Smith</td><td>*****4321098</td><td>*****smith@outlook.com</td></tr><tr><td>456789123456</td><td>Alan Turing</td><td>*****9123456</td><td>*****turing@yahoo.com</td></tr></tbody></table></div>"
      ]
     },
     "metadata": {
      "application/vnd.databricks.v1+output": {
       "addedWidgets": {},
       "aggData": [],
       "aggError": "",
       "aggOverflow": false,
       "aggSchema": [],
       "aggSeriesLimitReached": false,
       "aggType": "",
       "arguments": {},
       "columnCustomDisplayInfos": {},
       "data": [
        [
         "123456789012",
         "John Doe",
         "*****6789012",
         "*****doe@gmail.com"
        ],
        [
         "987654321098",
         "Jane Smith",
         "*****4321098",
         "*****smith@outlook.com"
        ],
        [
         "456789123456",
         "Alan Turing",
         "*****9123456",
         "*****turing@yahoo.com"
        ]
       ],
       "datasetInfos": [],
       "dbfsResultPath": null,
       "isJsonSchema": true,
       "metadata": {},
       "overflow": false,
       "plotOptions": {
        "customPlotOptions": {},
        "displayType": "table",
        "pivotAggregation": null,
        "pivotColumns": null,
        "xColumns": null,
        "yColumns": null
       },
       "removedWidgets": [],
       "schema": [
        {
         "metadata": "{}",
         "name": "AadharNumber",
         "type": "\"string\""
        },
        {
         "metadata": "{}",
         "name": "FullName",
         "type": "\"string\""
        },
        {
         "metadata": "{}",
         "name": "MaskedAadharNumber",
         "type": "\"string\""
        },
        {
         "metadata": "{}",
         "name": "MaskedEmailAddress",
         "type": "\"string\""
        }
       ],
       "type": "table"
      }
     },
     "output_type": "display_data"
    }
   ],
   "source": [
    "df_masked = (\n",
    "    df.withColumn(\n",
    "        \"MaskedAadharNumber\",\n",
    "        concat(\n",
    "            lit(\"*****\"), expr(\"substring(AadharNumber, 6, length(AadharNumber) - 5)\")\n",
    "        ),\n",
    "    )\n",
    "    .withColumn(\n",
    "        \"MaskedEmailAddress\",\n",
    "        concat(\n",
    "            lit(\"*****\"), expr(\"substring(EmailAddress, 6, length(EmailAddress) - 5)\")\n",
    "        ),\n",
    "    )\n",
    "    .select(\"AadharNumber\", \"FullName\", \"MaskedAadharNumber\", \"MaskedEmailAddress\")\n",
    ")\n",
    "\n",
    "df_masked.display()"
   ]
  },
  {
   "cell_type": "code",
   "execution_count": 0,
   "metadata": {
    "application/vnd.databricks.v1+cell": {
     "cellMetadata": {
      "byteLimit": 2048000,
      "rowLimit": 10000
     },
     "inputWidgets": {},
     "nuid": "c199cf5d-6302-4957-a17a-813f584af623",
     "showTitle": false,
     "tableResultSettingsMap": {},
     "title": ""
    }
   },
   "outputs": [],
   "source": [
    "df.createOrReplaceTempView(\"YourTable\")"
   ]
  },
  {
   "cell_type": "code",
   "execution_count": 0,
   "metadata": {
    "application/vnd.databricks.v1+cell": {
     "cellMetadata": {
      "byteLimit": 2048000,
      "implicitDf": true,
      "rowLimit": 10000
     },
     "inputWidgets": {},
     "nuid": "e5e3321c-fb70-4735-85ea-317ab093bdf8",
     "showTitle": false,
     "tableResultSettingsMap": {},
     "title": ""
    }
   },
   "outputs": [
    {
     "output_type": "display_data",
     "data": {
      "text/html": [
       "<style scoped>\n",
       "  .table-result-container {\n",
       "    max-height: 300px;\n",
       "    overflow: auto;\n",
       "  }\n",
       "  table, th, td {\n",
       "    border: 1px solid black;\n",
       "    border-collapse: collapse;\n",
       "  }\n",
       "  th, td {\n",
       "    padding: 5px;\n",
       "  }\n",
       "  th {\n",
       "    text-align: left;\n",
       "  }\n",
       "</style><div class='table-result-container'><table class='table-result'><thead style='background-color: white'><tr><th>AadharNumber</th><th>FullName</th><th>MaskedAadharNumber</th><th>MaskedEmailAddress</th></tr></thead><tbody><tr><td>123456789012</td><td>John Doe</td><td>*****6789012</td><td>*****doe@gmail.com</td></tr><tr><td>987654321098</td><td>Jane Smith</td><td>*****4321098</td><td>*****smith@outlook.com</td></tr><tr><td>456789123456</td><td>Alan Turing</td><td>*****9123456</td><td>*****turing@yahoo.com</td></tr></tbody></table></div>"
      ]
     },
     "metadata": {
      "application/vnd.databricks.v1+output": {
       "addedWidgets": {},
       "aggData": [],
       "aggError": "",
       "aggOverflow": false,
       "aggSchema": [],
       "aggSeriesLimitReached": false,
       "aggType": "",
       "arguments": {},
       "columnCustomDisplayInfos": {},
       "data": [
        [
         "123456789012",
         "John Doe",
         "*****6789012",
         "*****doe@gmail.com"
        ],
        [
         "987654321098",
         "Jane Smith",
         "*****4321098",
         "*****smith@outlook.com"
        ],
        [
         "456789123456",
         "Alan Turing",
         "*****9123456",
         "*****turing@yahoo.com"
        ]
       ],
       "datasetInfos": [],
       "dbfsResultPath": null,
       "isJsonSchema": true,
       "metadata": {},
       "overflow": false,
       "plotOptions": {
        "customPlotOptions": {},
        "displayType": "table",
        "pivotAggregation": null,
        "pivotColumns": null,
        "xColumns": null,
        "yColumns": null
       },
       "removedWidgets": [],
       "schema": [
        {
         "metadata": "{}",
         "name": "AadharNumber",
         "type": "\"string\""
        },
        {
         "metadata": "{}",
         "name": "FullName",
         "type": "\"string\""
        },
        {
         "metadata": "{}",
         "name": "MaskedAadharNumber",
         "type": "\"string\""
        },
        {
         "metadata": "{}",
         "name": "MaskedEmailAddress",
         "type": "\"string\""
        }
       ],
       "type": "table"
      }
     },
     "output_type": "display_data"
    }
   ],
   "source": [
    "%sql\n",
    "SELECT \n",
    "    AadharNumber,\n",
    "    FullName,\n",
    "    CONCAT('*****', SUBSTRING(AadharNumber, 6, LEN(AadharNumber) - 5)) AS MaskedAadharNumber,\n",
    "    CONCAT('*****', SUBSTRING(EmailAddress, 6, LEN(EmailAddress) - 5)) AS MaskedEmailAddress\n",
    "FROM \n",
    "    YourTable;\n"
   ]
  },
  {
   "cell_type": "code",
   "execution_count": 0,
   "metadata": {
    "application/vnd.databricks.v1+cell": {
     "cellMetadata": {
      "byteLimit": 2048000,
      "implicitDf": true,
      "rowLimit": 10000
     },
     "inputWidgets": {},
     "nuid": "103d3dd9-9210-47cf-91e6-11df27804b74",
     "showTitle": false,
     "tableResultSettingsMap": {},
     "title": ""
    }
   },
   "outputs": [
    {
     "output_type": "display_data",
     "data": {
      "text/html": [
       "<style scoped>\n",
       "  .table-result-container {\n",
       "    max-height: 300px;\n",
       "    overflow: auto;\n",
       "  }\n",
       "  table, th, td {\n",
       "    border: 1px solid black;\n",
       "    border-collapse: collapse;\n",
       "  }\n",
       "  th, td {\n",
       "    padding: 5px;\n",
       "  }\n",
       "  th {\n",
       "    text-align: left;\n",
       "  }\n",
       "</style><div class='table-result-container'><table class='table-result'><thead style='background-color: white'><tr><th>AadharNumber</th><th>FullName</th><th>MaskedAadharNumber</th><th>MaskedEmailAddress</th></tr></thead><tbody><tr><td>123456789012</td><td>John Doe</td><td>*****6789012</td><td>*****doe@gmail.com</td></tr><tr><td>987654321098</td><td>Jane Smith</td><td>*****4321098</td><td>*****smith@outlook.com</td></tr><tr><td>456789123456</td><td>Alan Turing</td><td>*****9123456</td><td>*****turing@yahoo.com</td></tr></tbody></table></div>"
      ]
     },
     "metadata": {
      "application/vnd.databricks.v1+output": {
       "addedWidgets": {},
       "aggData": [],
       "aggError": "",
       "aggOverflow": false,
       "aggSchema": [],
       "aggSeriesLimitReached": false,
       "aggType": "",
       "arguments": {},
       "columnCustomDisplayInfos": {},
       "data": [
        [
         "123456789012",
         "John Doe",
         "*****6789012",
         "*****doe@gmail.com"
        ],
        [
         "987654321098",
         "Jane Smith",
         "*****4321098",
         "*****smith@outlook.com"
        ],
        [
         "456789123456",
         "Alan Turing",
         "*****9123456",
         "*****turing@yahoo.com"
        ]
       ],
       "datasetInfos": [],
       "dbfsResultPath": null,
       "isJsonSchema": true,
       "metadata": {},
       "overflow": false,
       "plotOptions": {
        "customPlotOptions": {},
        "displayType": "table",
        "pivotAggregation": null,
        "pivotColumns": null,
        "xColumns": null,
        "yColumns": null
       },
       "removedWidgets": [],
       "schema": [
        {
         "metadata": "{}",
         "name": "AadharNumber",
         "type": "\"string\""
        },
        {
         "metadata": "{}",
         "name": "FullName",
         "type": "\"string\""
        },
        {
         "metadata": "{}",
         "name": "MaskedAadharNumber",
         "type": "\"string\""
        },
        {
         "metadata": "{}",
         "name": "MaskedEmailAddress",
         "type": "\"string\""
        }
       ],
       "type": "table"
      }
     },
     "output_type": "display_data"
    }
   ],
   "source": [
    "%sql\n",
    "SELECT \n",
    "    AadharNumber,\n",
    "    FullName,\n",
    "    CASE \n",
    "        WHEN LEN(AadharNumber) > 5 \n",
    "        THEN CONCAT('*****', SUBSTRING(AadharNumber, 6, LEN(AadharNumber) - 5)) \n",
    "        ELSE 'Invalid Data' \n",
    "    END AS MaskedAadharNumber,\n",
    "    CASE \n",
    "        WHEN LEN(EmailAddress) > 5 \n",
    "        THEN CONCAT('*****', SUBSTRING(EmailAddress, 6, LEN(EmailAddress) - 5)) \n",
    "        ELSE 'Invalid Data' \n",
    "    END AS MaskedEmailAddress\n",
    "FROM \n",
    "    YourTable;\n"
   ]
  }
 ],
 "metadata": {
  "application/vnd.databricks.v1+notebook": {
   "computePreferences": null,
   "dashboards": [],
   "environmentMetadata": {
    "base_environment": "",
    "client": "1"
   },
   "language": "python",
   "notebookMetadata": {
    "mostRecentlyExecutedCommandWithImplicitDF": {
     "commandId": 3003242571938737,
     "dataframes": [
      "_sqldf"
     ]
    },
    "pythonIndentUnit": 4
   },
   "notebookName": "Masking",
   "widgets": {}
  }
 },
 "nbformat": 4,
 "nbformat_minor": 0
}
