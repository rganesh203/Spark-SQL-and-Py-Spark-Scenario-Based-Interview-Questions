{
 "cells": [
  {
   "cell_type": "markdown",
   "metadata": {
    "application/vnd.databricks.v1+cell": {
     "cellMetadata": {},
     "inputWidgets": {},
     "nuid": "4a7375d1-9f68-42eb-8cc9-897ad0f65a74",
     "showTitle": false,
     "title": ""
    }
   },
   "source": [
    "Problem Statement:\n",
    "\n",
    "Here are given a dataset containing customer orders with two columns: order_id (an integer representing the order number) and item (a string representing the name of the ordered item). Your task is to modify the order_id column based on the following rules:\n",
    "\n",
    "If the order_id is odd and not the last order, increase the order_id by 1.\n",
    "If the order_id is odd and is the last order, leave the order_id unchanged.\n",
    "If the order_id is even, decrease the order_id by 1."
   ]
  },
  {
   "cell_type": "code",
   "execution_count": 0,
   "metadata": {
    "application/vnd.databricks.v1+cell": {
     "cellMetadata": {
      "byteLimit": 2048000,
      "rowLimit": 10000
     },
     "inputWidgets": {},
     "nuid": "8de73013-7b72-40ae-ac60-cee4944924d7",
     "showTitle": false,
     "title": ""
    }
   },
   "outputs": [
    {
     "output_type": "display_data",
     "data": {
      "text/html": [
       "<style scoped>\n",
       "  .table-result-container {\n",
       "    max-height: 300px;\n",
       "    overflow: auto;\n",
       "  }\n",
       "  table, th, td {\n",
       "    border: 1px solid black;\n",
       "    border-collapse: collapse;\n",
       "  }\n",
       "  th, td {\n",
       "    padding: 5px;\n",
       "  }\n",
       "  th {\n",
       "    text-align: left;\n",
       "  }\n",
       "</style><div class='table-result-container'><table class='table-result'><thead style='background-color: white'><tr><th>order_id</th><th>item</th></tr></thead><tbody><tr><td>1</td><td>Chow Mein</td></tr><tr><td>2</td><td>Pizza</td></tr><tr><td>3</td><td>Pad Thai</td></tr><tr><td>4</td><td>Butter Chicken</td></tr><tr><td>5</td><td>Eggrolls</td></tr><tr><td>6</td><td>Burger</td></tr><tr><td>7</td><td>Tandoori Chicken</td></tr><tr><td>8</td><td>Sushi</td></tr><tr><td>9</td><td>Tacos</td></tr><tr><td>10</td><td>Ramen</td></tr><tr><td>11</td><td>Burrito</td></tr><tr><td>12</td><td>Lasagna</td></tr><tr><td>13</td><td>Salad</td></tr><tr><td>14</td><td>Steak</td></tr><tr><td>15</td><td>Spaghetti</td></tr></tbody></table></div>"
      ]
     },
     "metadata": {
      "application/vnd.databricks.v1+output": {
       "addedWidgets": {},
       "aggData": [],
       "aggError": "",
       "aggOverflow": false,
       "aggSchema": [],
       "aggSeriesLimitReached": false,
       "aggType": "",
       "arguments": {},
       "columnCustomDisplayInfos": {},
       "data": [
        [
         1,
         "Chow Mein"
        ],
        [
         2,
         "Pizza"
        ],
        [
         3,
         "Pad Thai"
        ],
        [
         4,
         "Butter Chicken"
        ],
        [
         5,
         "Eggrolls"
        ],
        [
         6,
         "Burger"
        ],
        [
         7,
         "Tandoori Chicken"
        ],
        [
         8,
         "Sushi"
        ],
        [
         9,
         "Tacos"
        ],
        [
         10,
         "Ramen"
        ],
        [
         11,
         "Burrito"
        ],
        [
         12,
         "Lasagna"
        ],
        [
         13,
         "Salad"
        ],
        [
         14,
         "Steak"
        ],
        [
         15,
         "Spaghetti"
        ]
       ],
       "datasetInfos": [],
       "dbfsResultPath": null,
       "isJsonSchema": true,
       "metadata": {},
       "overflow": false,
       "plotOptions": {
        "customPlotOptions": {},
        "displayType": "table",
        "pivotAggregation": null,
        "pivotColumns": null,
        "xColumns": null,
        "yColumns": null
       },
       "removedWidgets": [],
       "schema": [
        {
         "metadata": "{}",
         "name": "order_id",
         "type": "\"integer\""
        },
        {
         "metadata": "{}",
         "name": "item",
         "type": "\"string\""
        }
       ],
       "type": "table"
      }
     },
     "output_type": "display_data"
    }
   ],
   "source": [
    "from pyspark.sql.types import *\n",
    "\n",
    "# Define the schema for the DataFrame\n",
    "schema = StructType(\n",
    "    [\n",
    "        StructField(\"order_id\", IntegerType(), True),\n",
    "        StructField(\"item\", StringType(), True),\n",
    "    ]\n",
    ")\n",
    "\n",
    "# Sample data\n",
    "data = [\n",
    "    (1, \"Chow Mein\"),\n",
    "    (2, \"Pizza\"),\n",
    "    (3, \"Pad Thai\"),\n",
    "    (4, \"Butter Chicken\"),\n",
    "    (5, \"Eggrolls\"),\n",
    "    (6, \"Burger\"),\n",
    "    (7, \"Tandoori Chicken\"),\n",
    "    (8, \"Sushi\"),\n",
    "    (9, \"Tacos\"),\n",
    "    (10, \"Ramen\"),\n",
    "    (11, \"Burrito\"),\n",
    "    (12, \"Lasagna\"),\n",
    "    (13, \"Salad\"),\n",
    "    (14, \"Steak\"),\n",
    "    (15, \"Spaghetti\"),\n",
    "]\n",
    "\n",
    "# Create DataFrame\n",
    "order_df = spark.createDataFrame(data, schema)\n",
    "\n",
    "# display the DataFrame\n",
    "order_df.display()"
   ]
  },
  {
   "cell_type": "code",
   "execution_count": 0,
   "metadata": {
    "application/vnd.databricks.v1+cell": {
     "cellMetadata": {
      "byteLimit": 2048000,
      "rowLimit": 10000
     },
     "inputWidgets": {},
     "nuid": "4bb6664c-c88e-44ad-af0c-a85fab040d68",
     "showTitle": false,
     "title": ""
    }
   },
   "outputs": [],
   "source": [
    "order_df.createOrReplaceTempView(\"orders\")"
   ]
  },
  {
   "cell_type": "code",
   "execution_count": 0,
   "metadata": {
    "application/vnd.databricks.v1+cell": {
     "cellMetadata": {
      "byteLimit": 2048000,
      "rowLimit": 10000
     },
     "inputWidgets": {},
     "nuid": "043d6d2a-792c-4838-a42c-896dca6160c1",
     "showTitle": false,
     "title": ""
    }
   },
   "outputs": [
    {
     "output_type": "display_data",
     "data": {
      "text/html": [
       "<style scoped>\n",
       "  .table-result-container {\n",
       "    max-height: 300px;\n",
       "    overflow: auto;\n",
       "  }\n",
       "  table, th, td {\n",
       "    border: 1px solid black;\n",
       "    border-collapse: collapse;\n",
       "  }\n",
       "  th, td {\n",
       "    padding: 5px;\n",
       "  }\n",
       "  th {\n",
       "    text-align: left;\n",
       "  }\n",
       "</style><div class='table-result-container'><table class='table-result'><thead style='background-color: white'><tr><th>corrected_order_id</th><th>item</th></tr></thead><tbody><tr><td>1</td><td>Pizza</td></tr><tr><td>2</td><td>Chow Mein</td></tr><tr><td>3</td><td>Butter Chicken</td></tr><tr><td>4</td><td>Pad Thai</td></tr><tr><td>5</td><td>Burger</td></tr><tr><td>6</td><td>Eggrolls</td></tr><tr><td>7</td><td>Sushi</td></tr><tr><td>8</td><td>Tandoori Chicken</td></tr><tr><td>9</td><td>Ramen</td></tr><tr><td>10</td><td>Tacos</td></tr><tr><td>11</td><td>Lasagna</td></tr><tr><td>12</td><td>Burrito</td></tr><tr><td>13</td><td>Steak</td></tr><tr><td>14</td><td>Salad</td></tr><tr><td>15</td><td>Spaghetti</td></tr></tbody></table></div>"
      ]
     },
     "metadata": {
      "application/vnd.databricks.v1+output": {
       "addedWidgets": {},
       "aggData": [],
       "aggError": "",
       "aggOverflow": false,
       "aggSchema": [],
       "aggSeriesLimitReached": false,
       "aggType": "",
       "arguments": {},
       "columnCustomDisplayInfos": {},
       "data": [
        [
         1,
         "Pizza"
        ],
        [
         2,
         "Chow Mein"
        ],
        [
         3,
         "Butter Chicken"
        ],
        [
         4,
         "Pad Thai"
        ],
        [
         5,
         "Burger"
        ],
        [
         6,
         "Eggrolls"
        ],
        [
         7,
         "Sushi"
        ],
        [
         8,
         "Tandoori Chicken"
        ],
        [
         9,
         "Ramen"
        ],
        [
         10,
         "Tacos"
        ],
        [
         11,
         "Lasagna"
        ],
        [
         12,
         "Burrito"
        ],
        [
         13,
         "Steak"
        ],
        [
         14,
         "Salad"
        ],
        [
         15,
         "Spaghetti"
        ]
       ],
       "datasetInfos": [],
       "dbfsResultPath": null,
       "isJsonSchema": true,
       "metadata": {},
       "overflow": false,
       "plotOptions": {
        "customPlotOptions": {},
        "displayType": "table",
        "pivotAggregation": null,
        "pivotColumns": null,
        "xColumns": null,
        "yColumns": null
       },
       "removedWidgets": [],
       "schema": [
        {
         "metadata": "{}",
         "name": "corrected_order_id",
         "type": "\"integer\""
        },
        {
         "metadata": "{}",
         "name": "item",
         "type": "\"string\""
        }
       ],
       "type": "table"
      }
     },
     "output_type": "display_data"
    }
   ],
   "source": [
    "# Run the SQL query in Spark\n",
    "corrected_orders_df = spark.sql(\n",
    "    \"\"\"\n",
    "  SELECT\n",
    "    CASE\n",
    "      WHEN order_id % 2 != 0 AND order_id != COUNT(order_id) OVER () THEN order_id + 1\n",
    "      WHEN order_id % 2 != 0 AND order_id = COUNT(order_id) OVER () THEN order_id\n",
    "      ELSE order_id - 1\n",
    "    END AS corrected_order_id,\n",
    "    item\n",
    "  FROM orders\n",
    "  ORDER BY corrected_order_id\n",
    "\"\"\"\n",
    ")\n",
    "\n",
    "# display the result\n",
    "corrected_orders_df.display()"
   ]
  },
  {
   "cell_type": "code",
   "execution_count": 0,
   "metadata": {
    "application/vnd.databricks.v1+cell": {
     "cellMetadata": {
      "byteLimit": 2048000,
      "rowLimit": 10000
     },
     "inputWidgets": {},
     "nuid": "3bb55bfb-fab0-46d2-82c5-f6f52b8729eb",
     "showTitle": false,
     "title": ""
    }
   },
   "outputs": [
    {
     "output_type": "display_data",
     "data": {
      "text/html": [
       "<style scoped>\n",
       "  .table-result-container {\n",
       "    max-height: 300px;\n",
       "    overflow: auto;\n",
       "  }\n",
       "  table, th, td {\n",
       "    border: 1px solid black;\n",
       "    border-collapse: collapse;\n",
       "  }\n",
       "  th, td {\n",
       "    padding: 5px;\n",
       "  }\n",
       "  th {\n",
       "    text-align: left;\n",
       "  }\n",
       "</style><div class='table-result-container'><table class='table-result'><thead style='background-color: white'><tr><th>corrected_order_id</th><th>item</th></tr></thead><tbody><tr><td>1</td><td>Pizza</td></tr><tr><td>2</td><td>Chow Mein</td></tr><tr><td>3</td><td>Butter Chicken</td></tr><tr><td>4</td><td>Pad Thai</td></tr><tr><td>5</td><td>Burger</td></tr><tr><td>6</td><td>Eggrolls</td></tr><tr><td>7</td><td>Sushi</td></tr><tr><td>8</td><td>Tandoori Chicken</td></tr><tr><td>9</td><td>Ramen</td></tr><tr><td>10</td><td>Tacos</td></tr><tr><td>11</td><td>Lasagna</td></tr><tr><td>12</td><td>Burrito</td></tr><tr><td>13</td><td>Steak</td></tr><tr><td>14</td><td>Salad</td></tr><tr><td>15</td><td>Spaghetti</td></tr></tbody></table></div>"
      ]
     },
     "metadata": {
      "application/vnd.databricks.v1+output": {
       "addedWidgets": {},
       "aggData": [],
       "aggError": "",
       "aggOverflow": false,
       "aggSchema": [],
       "aggSeriesLimitReached": false,
       "aggType": "",
       "arguments": {},
       "columnCustomDisplayInfos": {},
       "data": [
        [
         1,
         "Pizza"
        ],
        [
         2,
         "Chow Mein"
        ],
        [
         3,
         "Butter Chicken"
        ],
        [
         4,
         "Pad Thai"
        ],
        [
         5,
         "Burger"
        ],
        [
         6,
         "Eggrolls"
        ],
        [
         7,
         "Sushi"
        ],
        [
         8,
         "Tandoori Chicken"
        ],
        [
         9,
         "Ramen"
        ],
        [
         10,
         "Tacos"
        ],
        [
         11,
         "Lasagna"
        ],
        [
         12,
         "Burrito"
        ],
        [
         13,
         "Steak"
        ],
        [
         14,
         "Salad"
        ],
        [
         15,
         "Spaghetti"
        ]
       ],
       "datasetInfos": [],
       "dbfsResultPath": null,
       "isJsonSchema": true,
       "metadata": {},
       "overflow": false,
       "plotOptions": {
        "customPlotOptions": {},
        "displayType": "table",
        "pivotAggregation": null,
        "pivotColumns": null,
        "xColumns": null,
        "yColumns": null
       },
       "removedWidgets": [],
       "schema": [
        {
         "metadata": "{}",
         "name": "corrected_order_id",
         "type": "\"integer\""
        },
        {
         "metadata": "{}",
         "name": "item",
         "type": "\"string\""
        }
       ],
       "type": "table"
      }
     },
     "output_type": "display_data"
    }
   ],
   "source": [
    "from pyspark.sql.functions import *\n",
    "from pyspark.sql import Window\n",
    "\n",
    "# Assuming the order_df DataFrame is already created\n",
    "\n",
    "# Define a window to calculate the total number of orders\n",
    "window_spec = Window.rowsBetween(Window.unboundedPreceding, Window.unboundedFollowing)\n",
    "\n",
    "# Add a column for the total count of orders\n",
    "order_df_with_count = order_df.withColumn(\n",
    "    \"total_orders\", count(\"order_id\").over(window_spec)\n",
    ")\n",
    "\n",
    "# Apply the same logic using PySpark's API\n",
    "corrected_orders_df = order_df_with_count.withColumn(\n",
    "    \"corrected_order_id\",\n",
    "    when(\n",
    "        (col(\"order_id\") % 2 != 0) & (col(\"order_id\") != col(\"total_orders\")),\n",
    "        col(\"order_id\") + 1,\n",
    "    )\n",
    "    .when(\n",
    "        (col(\"order_id\") % 2 != 0) & (col(\"order_id\") == col(\"total_orders\")),\n",
    "        col(\"order_id\"),\n",
    "    )\n",
    "    .otherwise(col(\"order_id\") - 1),\n",
    ")\n",
    "\n",
    "# Select and order the result\n",
    "result_df = corrected_orders_df.select(\"corrected_order_id\", \"item\").orderBy(\n",
    "    \"corrected_order_id\"\n",
    ")\n",
    "\n",
    "# display the result\n",
    "result_df.display()"
   ]
  },
  {
   "cell_type": "markdown",
   "metadata": {
    "application/vnd.databricks.v1+cell": {
     "cellMetadata": {},
     "inputWidgets": {},
     "nuid": "a2ed475e-3ce2-4666-94a6-d537beb0b17f",
     "showTitle": false,
     "title": ""
    }
   },
   "source": [
    "Explanation:\n",
    "\n",
    "Window Function: We use Window.rowsBetween(Window.unboundedPreceding, Window.unboundedFollowing) to calculate the total number of order_ids. This acts like the COUNT(*) OVER () in SQL.\n",
    "\n",
    "withColumn: We add a new column total_orders that holds the total count of orders for each row.\n",
    "\n",
    "when and otherwise: We apply the same logic as in the SQL CASE using PySpark's when and otherwise functions.\n",
    "\n",
    "Ordering: Finally, we select the necessary columns and order by corrected_order_id.\n",
    "\n",
    "This method fully uses PySpark's DataFrame API without needing to run SQL queries directly."
   ]
  }
 ],
 "metadata": {
  "application/vnd.databricks.v1+notebook": {
   "dashboards": [],
   "environmentMetadata": null,
   "language": "python",
   "notebookMetadata": {
    "mostRecentlyExecutedCommandWithImplicitDF": {
     "commandId": 3175319504377882,
     "dataframes": [
      "_sqldf"
     ]
    },
    "pythonIndentUnit": 4
   },
   "notebookName": "Untitled Notebook 2024-10-08 14:01:34",
   "widgets": {}
  }
 },
 "nbformat": 4,
 "nbformat_minor": 0
}
