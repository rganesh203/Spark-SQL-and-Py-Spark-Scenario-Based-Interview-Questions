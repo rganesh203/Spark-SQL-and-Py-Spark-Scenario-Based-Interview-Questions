{
 "cells": [
  {
   "cell_type": "markdown",
   "metadata": {
    "application/vnd.databricks.v1+cell": {
     "cellMetadata": {},
     "inputWidgets": {},
     "nuid": "db0141d1-0b01-43b0-b87a-9c3c51b94ded",
     "showTitle": false,
     "title": ""
    }
   },
   "source": [
    "Problem Statement:\n",
    "\n",
    "Flatten the transactions: Extract each amount from the list of transactions for each user_id so that each user_id has one row per transaction.\n",
    "\n",
    "Aggregate the total amount: After flattening the transactions, calculate the total amount for each user_id by summing up the individual transaction amounts.\n",
    "\n",
    "Implement the solution using Spark SQL: Use Spark SQL with a Common Table Expression (CTE) to simplify the process of flattening and aggregating the transaction data."
   ]
  },
  {
   "cell_type": "code",
   "execution_count": 0,
   "metadata": {
    "application/vnd.databricks.v1+cell": {
     "cellMetadata": {
      "byteLimit": 2048000,
      "rowLimit": 10000
     },
     "inputWidgets": {},
     "nuid": "dacc4d22-8091-41b0-a637-31e9768d15e6",
     "showTitle": false,
     "title": ""
    }
   },
   "outputs": [],
   "source": [
    "from pyspark.sql.functions import explode, col, sum\n",
    "\n",
    "# Sample data\n",
    "data = [\n",
    "    (1, [{\"amount\": 45}, {\"amount\": 60}]),\n",
    "    (2, [{\"amount\": 30}, {\"amount\": 20}]),\n",
    "    (3, [{\"amount\": 120}, {\"amount\": 80}]),\n",
    "]\n",
    "\n",
    "# Create DataFrame\n",
    "df = spark.createDataFrame(data, [\"user_id\", \"transactions\"])"
   ]
  },
  {
   "cell_type": "code",
   "execution_count": 0,
   "metadata": {
    "application/vnd.databricks.v1+cell": {
     "cellMetadata": {
      "byteLimit": 2048000,
      "rowLimit": 10000
     },
     "inputWidgets": {},
     "nuid": "90babeae-f096-4c12-9dcf-0824949f79cf",
     "showTitle": false,
     "title": ""
    }
   },
   "outputs": [
    {
     "output_type": "display_data",
     "data": {
      "text/html": [
       "<style scoped>\n",
       "  .table-result-container {\n",
       "    max-height: 300px;\n",
       "    overflow: auto;\n",
       "  }\n",
       "  table, th, td {\n",
       "    border: 1px solid black;\n",
       "    border-collapse: collapse;\n",
       "  }\n",
       "  th, td {\n",
       "    padding: 5px;\n",
       "  }\n",
       "  th {\n",
       "    text-align: left;\n",
       "  }\n",
       "</style><div class='table-result-container'><table class='table-result'><thead style='background-color: white'><tr><th>user_id</th><th>amount</th></tr></thead><tbody><tr><td>1</td><td>45</td></tr><tr><td>1</td><td>60</td></tr><tr><td>2</td><td>30</td></tr><tr><td>2</td><td>20</td></tr><tr><td>3</td><td>120</td></tr><tr><td>3</td><td>80</td></tr></tbody></table></div>"
      ]
     },
     "metadata": {
      "application/vnd.databricks.v1+output": {
       "addedWidgets": {},
       "aggData": [],
       "aggError": "",
       "aggOverflow": false,
       "aggSchema": [],
       "aggSeriesLimitReached": false,
       "aggType": "",
       "arguments": {},
       "columnCustomDisplayInfos": {},
       "data": [
        [
         1,
         45
        ],
        [
         1,
         60
        ],
        [
         2,
         30
        ],
        [
         2,
         20
        ],
        [
         3,
         120
        ],
        [
         3,
         80
        ]
       ],
       "datasetInfos": [],
       "dbfsResultPath": null,
       "isJsonSchema": true,
       "metadata": {},
       "overflow": false,
       "plotOptions": {
        "customPlotOptions": {},
        "displayType": "table",
        "pivotAggregation": null,
        "pivotColumns": null,
        "xColumns": null,
        "yColumns": null
       },
       "removedWidgets": [],
       "schema": [
        {
         "metadata": "{}",
         "name": "user_id",
         "type": "\"long\""
        },
        {
         "metadata": "{}",
         "name": "amount",
         "type": "\"long\""
        }
       ],
       "type": "table"
      }
     },
     "output_type": "display_data"
    }
   ],
   "source": [
    "# Explode the transactions column to get one row per transaction\n",
    "df_exploded = df.withColumn(\"transaction\", explode(col(\"transactions\")))\n",
    "\n",
    "# Select user_id and amount from the exploded transaction data\n",
    "df_final = df_exploded.select(\"user_id\", col(\"transaction.amount\").alias(\"amount\"))\n",
    "\n",
    "# Show the final DataFrame\n",
    "df_final.display()"
   ]
  },
  {
   "cell_type": "code",
   "execution_count": 0,
   "metadata": {
    "application/vnd.databricks.v1+cell": {
     "cellMetadata": {
      "byteLimit": 2048000,
      "rowLimit": 10000
     },
     "inputWidgets": {},
     "nuid": "604ddf54-6f07-4231-aa8b-bd177a02e5b1",
     "showTitle": false,
     "title": ""
    }
   },
   "outputs": [
    {
     "output_type": "display_data",
     "data": {
      "text/html": [
       "<style scoped>\n",
       "  .table-result-container {\n",
       "    max-height: 300px;\n",
       "    overflow: auto;\n",
       "  }\n",
       "  table, th, td {\n",
       "    border: 1px solid black;\n",
       "    border-collapse: collapse;\n",
       "  }\n",
       "  th, td {\n",
       "    padding: 5px;\n",
       "  }\n",
       "  th {\n",
       "    text-align: left;\n",
       "  }\n",
       "</style><div class='table-result-container'><table class='table-result'><thead style='background-color: white'><tr><th>user_id</th><th>total_amount</th></tr></thead><tbody><tr><td>1</td><td>105</td></tr><tr><td>2</td><td>50</td></tr><tr><td>3</td><td>200</td></tr></tbody></table></div>"
      ]
     },
     "metadata": {
      "application/vnd.databricks.v1+output": {
       "addedWidgets": {},
       "aggData": [],
       "aggError": "",
       "aggOverflow": false,
       "aggSchema": [],
       "aggSeriesLimitReached": false,
       "aggType": "",
       "arguments": {},
       "columnCustomDisplayInfos": {},
       "data": [
        [
         1,
         105
        ],
        [
         2,
         50
        ],
        [
         3,
         200
        ]
       ],
       "datasetInfos": [],
       "dbfsResultPath": null,
       "isJsonSchema": true,
       "metadata": {},
       "overflow": false,
       "plotOptions": {
        "customPlotOptions": {},
        "displayType": "table",
        "pivotAggregation": null,
        "pivotColumns": null,
        "xColumns": null,
        "yColumns": null
       },
       "removedWidgets": [],
       "schema": [
        {
         "metadata": "{}",
         "name": "user_id",
         "type": "\"long\""
        },
        {
         "metadata": "{}",
         "name": "total_amount",
         "type": "\"long\""
        }
       ],
       "type": "table"
      }
     },
     "output_type": "display_data"
    }
   ],
   "source": [
    "# Sum the amounts for each user_id\n",
    "df_summed = df_final.groupBy(\"user_id\").agg(sum(\"amount\").alias(\"total_amount\"))\n",
    "\n",
    "# Show the final result\n",
    "df_summed.display()"
   ]
  },
  {
   "cell_type": "code",
   "execution_count": 0,
   "metadata": {
    "application/vnd.databricks.v1+cell": {
     "cellMetadata": {
      "byteLimit": 2048000,
      "rowLimit": 10000
     },
     "inputWidgets": {},
     "nuid": "7b3bef40-c191-4fa9-bc6f-3409b4b12568",
     "showTitle": false,
     "title": ""
    }
   },
   "outputs": [],
   "source": [
    "# Register the DataFrame as a temporary SQL view\n",
    "df.createOrReplaceTempView(\"transactions_table\")"
   ]
  },
  {
   "cell_type": "code",
   "execution_count": 0,
   "metadata": {
    "application/vnd.databricks.v1+cell": {
     "cellMetadata": {
      "byteLimit": 2048000,
      "rowLimit": 10000
     },
     "inputWidgets": {},
     "nuid": "99c560ce-6670-4605-a40c-fc897cc6d918",
     "showTitle": false,
     "title": ""
    }
   },
   "outputs": [
    {
     "output_type": "display_data",
     "data": {
      "text/html": [
       "<style scoped>\n",
       "  .table-result-container {\n",
       "    max-height: 300px;\n",
       "    overflow: auto;\n",
       "  }\n",
       "  table, th, td {\n",
       "    border: 1px solid black;\n",
       "    border-collapse: collapse;\n",
       "  }\n",
       "  th, td {\n",
       "    padding: 5px;\n",
       "  }\n",
       "  th {\n",
       "    text-align: left;\n",
       "  }\n",
       "</style><div class='table-result-container'><table class='table-result'><thead style='background-color: white'><tr><th>user_id</th><th>transactions</th></tr></thead><tbody><tr><td>1</td><td>List(Map(amount -> 45), Map(amount -> 60))</td></tr><tr><td>2</td><td>List(Map(amount -> 30), Map(amount -> 20))</td></tr><tr><td>3</td><td>List(Map(amount -> 120), Map(amount -> 80))</td></tr></tbody></table></div>"
      ]
     },
     "metadata": {
      "application/vnd.databricks.v1+output": {
       "addedWidgets": {},
       "aggData": [],
       "aggError": "",
       "aggOverflow": false,
       "aggSchema": [],
       "aggSeriesLimitReached": false,
       "aggType": "",
       "arguments": {},
       "columnCustomDisplayInfos": {},
       "data": [
        [
         1,
         [
          {
           "amount": 45
          },
          {
           "amount": 60
          }
         ]
        ],
        [
         2,
         [
          {
           "amount": 30
          },
          {
           "amount": 20
          }
         ]
        ],
        [
         3,
         [
          {
           "amount": 120
          },
          {
           "amount": 80
          }
         ]
        ]
       ],
       "datasetInfos": [],
       "dbfsResultPath": null,
       "isJsonSchema": true,
       "metadata": {},
       "overflow": false,
       "plotOptions": {
        "customPlotOptions": {},
        "displayType": "table",
        "pivotAggregation": null,
        "pivotColumns": null,
        "xColumns": null,
        "yColumns": null
       },
       "removedWidgets": [],
       "schema": [
        {
         "metadata": "{}",
         "name": "user_id",
         "type": "\"long\""
        },
        {
         "metadata": "{}",
         "name": "transactions",
         "type": "{\"type\":\"array\",\"elementType\":{\"type\":\"map\",\"keyType\":\"string\",\"valueType\":\"long\",\"valueContainsNull\":true},\"containsNull\":true}"
        }
       ],
       "type": "table"
      }
     },
     "output_type": "display_data"
    }
   ],
   "source": [
    "spark.sql(\"select * from transactions_table\").display()"
   ]
  },
  {
   "cell_type": "code",
   "execution_count": 0,
   "metadata": {
    "application/vnd.databricks.v1+cell": {
     "cellMetadata": {
      "byteLimit": 2048000,
      "rowLimit": 10000
     },
     "inputWidgets": {},
     "nuid": "05bcf47d-d633-442e-86a7-33633fa13cc9",
     "showTitle": false,
     "title": ""
    }
   },
   "outputs": [
    {
     "output_type": "stream",
     "name": "stdout",
     "output_type": "stream",
     "text": [
      "+-------+------------+\n|user_id|total_amount|\n+-------+------------+\n|      1|         105|\n|      2|          50|\n|      3|         200|\n+-------+------------+\n\n"
     ]
    }
   ],
   "source": [
    "# SQL query to flatten the transactions\n",
    "result = spark.sql(\n",
    "    \"\"\"\n",
    "    SELECT\n",
    "        user_id,\n",
    "        transaction.amount AS amount\n",
    "    FROM\n",
    "        transactions_table\n",
    "    LATERAL VIEW explode(transactions) AS transaction\n",
    "\"\"\"\n",
    ")\n",
    "\n",
    "# SQL query to sum amounts per user\n",
    "sum_result = spark.sql(\n",
    "    \"\"\"\n",
    "    SELECT\n",
    "        user_id,\n",
    "        SUM(transaction.amount) AS total_amount\n",
    "    FROM\n",
    "        transactions_table\n",
    "    LATERAL VIEW explode(transactions) AS transaction\n",
    "    GROUP BY\n",
    "        user_id\n",
    "\"\"\"\n",
    ")\n",
    "\n",
    "# Show the summed amounts\n",
    "sum_result.show()"
   ]
  },
  {
   "cell_type": "code",
   "execution_count": 0,
   "metadata": {
    "application/vnd.databricks.v1+cell": {
     "cellMetadata": {
      "byteLimit": 2048000,
      "rowLimit": 10000
     },
     "inputWidgets": {},
     "nuid": "a1645f32-8e2d-4c1f-b6bc-c7e1c94bb48d",
     "showTitle": false,
     "title": ""
    }
   },
   "outputs": [
    {
     "output_type": "display_data",
     "data": {
      "text/html": [
       "<style scoped>\n",
       "  .table-result-container {\n",
       "    max-height: 300px;\n",
       "    overflow: auto;\n",
       "  }\n",
       "  table, th, td {\n",
       "    border: 1px solid black;\n",
       "    border-collapse: collapse;\n",
       "  }\n",
       "  th, td {\n",
       "    padding: 5px;\n",
       "  }\n",
       "  th {\n",
       "    text-align: left;\n",
       "  }\n",
       "</style><div class='table-result-container'><table class='table-result'><thead style='background-color: white'><tr><th>user_id</th><th>total_amount</th></tr></thead><tbody><tr><td>1</td><td>105</td></tr><tr><td>2</td><td>50</td></tr><tr><td>3</td><td>200</td></tr></tbody></table></div>"
      ]
     },
     "metadata": {
      "application/vnd.databricks.v1+output": {
       "addedWidgets": {},
       "aggData": [],
       "aggError": "",
       "aggOverflow": false,
       "aggSchema": [],
       "aggSeriesLimitReached": false,
       "aggType": "",
       "arguments": {},
       "columnCustomDisplayInfos": {},
       "data": [
        [
         1,
         105
        ],
        [
         2,
         50
        ],
        [
         3,
         200
        ]
       ],
       "datasetInfos": [],
       "dbfsResultPath": null,
       "isJsonSchema": true,
       "metadata": {},
       "overflow": false,
       "plotOptions": {
        "customPlotOptions": {},
        "displayType": "table",
        "pivotAggregation": null,
        "pivotColumns": null,
        "xColumns": null,
        "yColumns": null
       },
       "removedWidgets": [],
       "schema": [
        {
         "metadata": "{}",
         "name": "user_id",
         "type": "\"long\""
        },
        {
         "metadata": "{}",
         "name": "total_amount",
         "type": "\"long\""
        }
       ],
       "type": "table"
      }
     },
     "output_type": "display_data"
    }
   ],
   "source": [
    "# Spark SQL query with CTE\n",
    "result = spark.sql(\"\"\"\n",
    "    WITH flattened_transactions AS (\n",
    "        SELECT user_id, transaction.amount AS amount\n",
    "        FROM transactions_table\n",
    "        LATERAL VIEW EXPLODE(transactions) AS transaction\n",
    "    )\n",
    "    SELECT user_id, SUM(amount) AS total_amount\n",
    "    FROM flattened_transactions\n",
    "    GROUP BY user_id\n",
    "\"\"\")\n",
    "\n",
    "# display the result\n",
    "result.display()"
   ]
  },
  {
   "cell_type": "markdown",
   "metadata": {
    "application/vnd.databricks.v1+cell": {
     "cellMetadata": {},
     "inputWidgets": {},
     "nuid": "0be3d6d1-f7b7-4ffd-8391-5503c3f01119",
     "showTitle": false,
     "title": ""
    }
   },
   "source": [
    "Explanation:\n",
    "\n",
    "CTE flattened_transactions: This CTE first flattens the transactions array by using EXPLODE and extracts the amount for each transaction.\n",
    "Main Query: The outer query references the CTE, flattened_transactions, and calculates the total amount for each user_id by using SUM and GROUP BY."
   ]
  }
 ],
 "metadata": {
  "application/vnd.databricks.v1+notebook": {
   "dashboards": [],
   "environmentMetadata": null,
   "language": "python",
   "notebookMetadata": {
    "pythonIndentUnit": 4
   },
   "notebookName": "Mr. K Talks Tech 1",
   "widgets": {}
  }
 },
 "nbformat": 4,
 "nbformat_minor": 0
}
