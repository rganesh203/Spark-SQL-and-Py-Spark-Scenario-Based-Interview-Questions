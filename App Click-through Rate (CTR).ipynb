{
 "cells": [
  {
   "cell_type": "markdown",
   "metadata": {
    "application/vnd.databricks.v1+cell": {
     "cellMetadata": {},
     "inputWidgets": {},
     "nuid": "d3ce47f0-45fd-430d-8c72-0cd0c93a10d3",
     "showTitle": false,
     "tableResultSettingsMap": {},
     "title": ""
    }
   },
   "source": [
    "Assume you have an events table on Facebook app analytics. Write a query to calculate the click-through rate (CTR) for the app in 2022 and round the results to 2 decimal places.\n",
    "\n",
    "Definition and note:\n",
    "\n",
    "Percentage of click-through rate (CTR) = 100.0 * Number of clicks / Number of impressions\n",
    "To avoid integer division, multiply the CTR by 100.0, not 100."
   ]
  },
  {
   "cell_type": "code",
   "execution_count": 0,
   "metadata": {
    "application/vnd.databricks.v1+cell": {
     "cellMetadata": {
      "byteLimit": 2048000,
      "rowLimit": 10000
     },
     "inputWidgets": {},
     "nuid": "fba9b3fa-6e5c-4f3d-bac8-a67acf56835d",
     "showTitle": false,
     "tableResultSettingsMap": {},
     "title": ""
    }
   },
   "outputs": [
    {
     "output_type": "display_data",
     "data": {
      "text/html": [
       "<style scoped>\n",
       "  .table-result-container {\n",
       "    max-height: 300px;\n",
       "    overflow: auto;\n",
       "  }\n",
       "  table, th, td {\n",
       "    border: 1px solid black;\n",
       "    border-collapse: collapse;\n",
       "  }\n",
       "  th, td {\n",
       "    padding: 5px;\n",
       "  }\n",
       "  th {\n",
       "    text-align: left;\n",
       "  }\n",
       "</style><div class='table-result-container'><table class='table-result'><thead style='background-color: white'><tr><th>app_id</th><th>event_type</th><th>timestamp</th></tr></thead><tbody><tr><td>123</td><td>impression</td><td>2022-07-18T11:36:12.000+0000</td></tr><tr><td>123</td><td>impression</td><td>2022-07-18T11:37:12.000+0000</td></tr><tr><td>123</td><td>click</td><td>2022-07-18T11:37:42.000+0000</td></tr><tr><td>234</td><td>impression</td><td>2022-08-18T14:15:12.000+0000</td></tr><tr><td>234</td><td>click</td><td>2022-08-18T14:16:12.000+0000</td></tr><tr><td>123</td><td>impression</td><td>2021-10-23T12:11:56.000+0000</td></tr><tr><td>123</td><td>click</td><td>2021-10-23T12:22:12.000+0000</td></tr><tr><td>123</td><td>impression</td><td>2022-04-06T13:13:13.000+0000</td></tr><tr><td>123</td><td>click</td><td>2022-04-07T12:20:30.000+0000</td></tr><tr><td>234</td><td>impression</td><td>2022-02-09T10:05:02.000+0000</td></tr><tr><td>234</td><td>impression</td><td>2022-05-20T12:00:00.000+0000</td></tr></tbody></table></div>"
      ]
     },
     "metadata": {
      "application/vnd.databricks.v1+output": {
       "addedWidgets": {},
       "aggData": [],
       "aggError": "",
       "aggOverflow": false,
       "aggSchema": [],
       "aggSeriesLimitReached": false,
       "aggType": "",
       "arguments": {},
       "columnCustomDisplayInfos": {},
       "data": [
        [
         123,
         "impression",
         "2022-07-18T11:36:12.000+0000"
        ],
        [
         123,
         "impression",
         "2022-07-18T11:37:12.000+0000"
        ],
        [
         123,
         "click",
         "2022-07-18T11:37:42.000+0000"
        ],
        [
         234,
         "impression",
         "2022-08-18T14:15:12.000+0000"
        ],
        [
         234,
         "click",
         "2022-08-18T14:16:12.000+0000"
        ],
        [
         123,
         "impression",
         "2021-10-23T12:11:56.000+0000"
        ],
        [
         123,
         "click",
         "2021-10-23T12:22:12.000+0000"
        ],
        [
         123,
         "impression",
         "2022-04-06T13:13:13.000+0000"
        ],
        [
         123,
         "click",
         "2022-04-07T12:20:30.000+0000"
        ],
        [
         234,
         "impression",
         "2022-02-09T10:05:02.000+0000"
        ],
        [
         234,
         "impression",
         "2022-05-20T12:00:00.000+0000"
        ]
       ],
       "datasetInfos": [],
       "dbfsResultPath": null,
       "isJsonSchema": true,
       "metadata": {},
       "overflow": false,
       "plotOptions": {
        "customPlotOptions": {},
        "displayType": "table",
        "pivotAggregation": null,
        "pivotColumns": null,
        "xColumns": null,
        "yColumns": null
       },
       "removedWidgets": [],
       "schema": [
        {
         "metadata": "{}",
         "name": "app_id",
         "type": "\"integer\""
        },
        {
         "metadata": "{}",
         "name": "event_type",
         "type": "\"string\""
        },
        {
         "metadata": "{}",
         "name": "timestamp",
         "type": "\"timestamp\""
        }
       ],
       "type": "table"
      }
     },
     "output_type": "display_data"
    }
   ],
   "source": [
    "from pyspark.sql.types import (\n",
    "    StructType,\n",
    "    StructField,\n",
    "    IntegerType,\n",
    "    StringType,\n",
    "    TimestampType,\n",
    ")\n",
    "from pyspark.sql.functions import col\n",
    "import datetime\n",
    "\n",
    "# Define schema for the data\n",
    "schema = StructType(\n",
    "    [\n",
    "        StructField(\"app_id\", IntegerType(), True),\n",
    "        StructField(\"event_type\", StringType(), True),\n",
    "        StructField(\"timestamp\", TimestampType(), True),\n",
    "    ]\n",
    ")\n",
    "\n",
    "# Create data as a list of tuples\n",
    "data = [\n",
    "    (123, \"impression\", datetime.datetime(2022, 7, 18, 11, 36, 12)),\n",
    "    (123, \"impression\", datetime.datetime(2022, 7, 18, 11, 37, 12)),\n",
    "    (123, \"click\", datetime.datetime(2022, 7, 18, 11, 37, 42)),\n",
    "    (234, \"impression\", datetime.datetime(2022, 8, 18, 14, 15, 12)),\n",
    "    (234, \"click\", datetime.datetime(2022, 8, 18, 14, 16, 12)),\n",
    "    (123, \"impression\", datetime.datetime(2021, 10, 23, 12, 11, 56)),\n",
    "    (123, \"click\", datetime.datetime(2021, 10, 23, 12, 22, 12)),\n",
    "    (123, \"impression\", datetime.datetime(2022, 4, 6, 13, 13, 13)),\n",
    "    (123, \"click\", datetime.datetime(2022, 4, 7, 12, 20, 30)),\n",
    "    (234, \"impression\", datetime.datetime(2022, 2, 9, 10, 5, 2)),\n",
    "    (234, \"impression\", datetime.datetime(2022, 5, 20, 12, 0, 0)),\n",
    "]\n",
    "\n",
    "# Create DataFrame\n",
    "df = spark.createDataFrame(data, schema=schema)\n",
    "\n",
    "# display the DataFrame\n",
    "df.display()"
   ]
  },
  {
   "cell_type": "code",
   "execution_count": 0,
   "metadata": {
    "application/vnd.databricks.v1+cell": {
     "cellMetadata": {
      "byteLimit": 2048000,
      "rowLimit": 10000
     },
     "inputWidgets": {},
     "nuid": "c2e1f850-ed6b-4d3a-8244-3af6bfb88a42",
     "showTitle": false,
     "tableResultSettingsMap": {},
     "title": ""
    }
   },
   "outputs": [
    {
     "output_type": "display_data",
     "data": {
      "text/html": [
       "<style scoped>\n",
       "  .table-result-container {\n",
       "    max-height: 300px;\n",
       "    overflow: auto;\n",
       "  }\n",
       "  table, th, td {\n",
       "    border: 1px solid black;\n",
       "    border-collapse: collapse;\n",
       "  }\n",
       "  th, td {\n",
       "    padding: 5px;\n",
       "  }\n",
       "  th {\n",
       "    text-align: left;\n",
       "  }\n",
       "</style><div class='table-result-container'><table class='table-result'><thead style='background-color: white'><tr><th>app_id</th><th>ctr_app</th></tr></thead><tbody><tr><td>123</td><td>66.67</td></tr><tr><td>234</td><td>33.33</td></tr></tbody></table></div>"
      ]
     },
     "metadata": {
      "application/vnd.databricks.v1+output": {
       "addedWidgets": {},
       "aggData": [],
       "aggError": "",
       "aggOverflow": false,
       "aggSchema": [],
       "aggSeriesLimitReached": false,
       "aggType": "",
       "arguments": {},
       "columnCustomDisplayInfos": {},
       "data": [
        [
         123,
         66.67
        ],
        [
         234,
         33.33
        ]
       ],
       "datasetInfos": [],
       "dbfsResultPath": null,
       "isJsonSchema": true,
       "metadata": {},
       "overflow": false,
       "plotOptions": {
        "customPlotOptions": {},
        "displayType": "table",
        "pivotAggregation": null,
        "pivotColumns": null,
        "xColumns": null,
        "yColumns": null
       },
       "removedWidgets": [],
       "schema": [
        {
         "metadata": "{}",
         "name": "app_id",
         "type": "\"integer\""
        },
        {
         "metadata": "{}",
         "name": "ctr_app",
         "type": "\"double\""
        }
       ],
       "type": "table"
      }
     },
     "output_type": "display_data"
    }
   ],
   "source": [
    "from pyspark.sql import functions as F\n",
    "\n",
    "# Filter the data for the desired date range\n",
    "filtered_df = df.filter((df.timestamp >= \"2022-01-01\") & (df.timestamp < \"2023-01-01\"))\n",
    "\n",
    "# Calculate CTR for each app_id\n",
    "ctr_df = filtered_df.groupBy(\"app_id\").agg(\n",
    "    F.round(\n",
    "        100.0\n",
    "        * F.sum(F.when(F.col(\"event_type\") == \"click\", 1).otherwise(0))\n",
    "        / F.sum(F.when(F.col(\"event_type\") == \"impression\", 1).otherwise(0)),\n",
    "        2,\n",
    "    ).alias(\"ctr_app\")\n",
    ")\n",
    "\n",
    "# Show the results\n",
    "ctr_df.display()"
   ]
  },
  {
   "cell_type": "code",
   "execution_count": 0,
   "metadata": {
    "application/vnd.databricks.v1+cell": {
     "cellMetadata": {
      "byteLimit": 2048000,
      "rowLimit": 10000
     },
     "inputWidgets": {},
     "nuid": "b47f1c2d-0a8d-4510-98af-1f942e75d06b",
     "showTitle": false,
     "tableResultSettingsMap": {},
     "title": ""
    }
   },
   "outputs": [],
   "source": [
    "df.createOrReplaceTempView(\"events\")"
   ]
  },
  {
   "cell_type": "code",
   "execution_count": 0,
   "metadata": {
    "application/vnd.databricks.v1+cell": {
     "cellMetadata": {
      "byteLimit": 2048000,
      "implicitDf": true,
      "rowLimit": 10000
     },
     "inputWidgets": {},
     "nuid": "a03bf773-eaf6-48a5-8d66-8279348bfe1d",
     "showTitle": false,
     "tableResultSettingsMap": {},
     "title": ""
    }
   },
   "outputs": [
    {
     "output_type": "display_data",
     "data": {
      "text/html": [
       "<style scoped>\n",
       "  .table-result-container {\n",
       "    max-height: 300px;\n",
       "    overflow: auto;\n",
       "  }\n",
       "  table, th, td {\n",
       "    border: 1px solid black;\n",
       "    border-collapse: collapse;\n",
       "  }\n",
       "  th, td {\n",
       "    padding: 5px;\n",
       "  }\n",
       "  th {\n",
       "    text-align: left;\n",
       "  }\n",
       "</style><div class='table-result-container'><table class='table-result'><thead style='background-color: white'><tr><th>app_id</th><th>ctr_rate</th></tr></thead><tbody><tr><td>123</td><td>66.67</td></tr><tr><td>234</td><td>33.33</td></tr></tbody></table></div>"
      ]
     },
     "metadata": {
      "application/vnd.databricks.v1+output": {
       "addedWidgets": {},
       "aggData": [],
       "aggError": "",
       "aggOverflow": false,
       "aggSchema": [],
       "aggSeriesLimitReached": false,
       "aggType": "",
       "arguments": {},
       "columnCustomDisplayInfos": {},
       "data": [
        [
         123,
         "66.67"
        ],
        [
         234,
         "33.33"
        ]
       ],
       "datasetInfos": [],
       "dbfsResultPath": null,
       "isJsonSchema": true,
       "metadata": {},
       "overflow": false,
       "plotOptions": {
        "customPlotOptions": {},
        "displayType": "table",
        "pivotAggregation": null,
        "pivotColumns": null,
        "xColumns": null,
        "yColumns": null
       },
       "removedWidgets": [],
       "schema": [
        {
         "metadata": "{}",
         "name": "app_id",
         "type": "\"integer\""
        },
        {
         "metadata": "{}",
         "name": "ctr_rate",
         "type": "\"decimal(27,2)\""
        }
       ],
       "type": "table"
      }
     },
     "output_type": "display_data"
    }
   ],
   "source": [
    "%sql\n",
    "WITH ctr_rate AS (\n",
    "  SELECT\n",
    "    app_id,\n",
    "    ROUND(\n",
    "      100.0 * COUNT(\n",
    "        CASE\n",
    "          WHEN event_type = 'click' THEN 1\n",
    "        END\n",
    "      ) / NULLIF(\n",
    "        COUNT(\n",
    "          CASE\n",
    "            WHEN event_type = 'impression' THEN 1\n",
    "          END\n",
    "        ),\n",
    "        0\n",
    "      ),\n",
    "      2\n",
    "    ) AS ctr_rate\n",
    "  FROM\n",
    "    events\n",
    "  WHERE\n",
    "    timestamp >= '2022-01-01'\n",
    "    AND timestamp < '2023-01-01'\n",
    "  GROUP BY\n",
    "    app_id\n",
    ")\n",
    "SELECT\n",
    "  *\n",
    "FROM\n",
    "  ctr_rate;"
   ]
  },
  {
   "cell_type": "markdown",
   "metadata": {
    "application/vnd.databricks.v1+cell": {
     "cellMetadata": {},
     "inputWidgets": {},
     "nuid": "0d67c65a-d2a2-4104-8b1b-b9a3d2898be4",
     "showTitle": false,
     "tableResultSettingsMap": {},
     "title": ""
    }
   },
   "source": [
    "Explanation:\n",
    "\n",
    "Filter: \n",
    "Limits data to timestamps within the specified date range.\n",
    "\n",
    "Aggregation:\n",
    "F.when(...).otherwise(...) conditions are used to count click and impression events separately.\n",
    "F.sum(...) is used to aggregate counts for clicks and impressions.\n",
    "\n",
    "We calculate CTR by dividing the sum of clicks by the sum of impressions and then multiply by 100.\n",
    "F.round(..., 2) rounds the CTR to two decimal places.\n",
    "\n",
    "Alias: \n",
    "Assigns the final column a name (ctr_app) similar to the CTE query.\n",
    "This will output the Click-Through Rate (CTR) per app_id for the specified date range."
   ]
  }
 ],
 "metadata": {
  "application/vnd.databricks.v1+notebook": {
   "dashboards": [],
   "environmentMetadata": null,
   "language": "python",
   "notebookMetadata": {
    "mostRecentlyExecutedCommandWithImplicitDF": {
     "commandId": 973303417436566,
     "dataframes": [
      "_sqldf"
     ]
    },
    "pythonIndentUnit": 4
   },
   "notebookName": "App Click-through Rate (CTR)",
   "widgets": {}
  }
 },
 "nbformat": 4,
 "nbformat_minor": 0
}
