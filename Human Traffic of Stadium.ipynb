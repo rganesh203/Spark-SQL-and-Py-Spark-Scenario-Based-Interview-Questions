{
 "cells": [
  {
   "cell_type": "markdown",
   "metadata": {
    "application/vnd.databricks.v1+cell": {
     "cellMetadata": {},
     "inputWidgets": {},
     "nuid": "2c7c4969-3abd-494a-9b7f-306ad48b5822",
     "showTitle": false,
     "tableResultSettingsMap": {},
     "title": ""
    }
   },
   "source": [
    "Problem Statement:\n",
    "\n",
    "visit_date is the column with unique values for this table.\n",
    "Each row of this table contains the visit date and visit id to the stadium with the number of people during the visit.\n",
    "As the id increases, the date increases as well.\n",
    " \n",
    "Write a solution to display the records with three or more rows with consecutive id's, and the number of people is greater than or equal to 100 for each.\n",
    "\n",
    "Return the result table ordered by visit_date in ascending order.\n",
    "\n",
    "The result format is in the following example."
   ]
  },
  {
   "cell_type": "code",
   "execution_count": 0,
   "metadata": {
    "application/vnd.databricks.v1+cell": {
     "cellMetadata": {
      "byteLimit": 2048000,
      "rowLimit": 10000
     },
     "inputWidgets": {},
     "nuid": "f2fd4239-b088-4946-8c30-9053b6cf34a2",
     "showTitle": false,
     "tableResultSettingsMap": {},
     "title": ""
    }
   },
   "outputs": [
    {
     "output_type": "display_data",
     "data": {
      "text/html": [
       "<style scoped>\n",
       "  .table-result-container {\n",
       "    max-height: 300px;\n",
       "    overflow: auto;\n",
       "  }\n",
       "  table, th, td {\n",
       "    border: 1px solid black;\n",
       "    border-collapse: collapse;\n",
       "  }\n",
       "  th, td {\n",
       "    padding: 5px;\n",
       "  }\n",
       "  th {\n",
       "    text-align: left;\n",
       "  }\n",
       "</style><div class='table-result-container'><table class='table-result'><thead style='background-color: white'><tr><th>id</th><th>visit_date</th><th>people</th></tr></thead><tbody><tr><td>1</td><td>2017-01-01</td><td>10</td></tr><tr><td>2</td><td>2017-01-02</td><td>109</td></tr><tr><td>3</td><td>2017-01-03</td><td>150</td></tr><tr><td>4</td><td>2017-01-04</td><td>99</td></tr><tr><td>5</td><td>2017-01-05</td><td>145</td></tr><tr><td>6</td><td>2017-01-06</td><td>1455</td></tr><tr><td>7</td><td>2017-01-07</td><td>199</td></tr><tr><td>8</td><td>2017-01-09</td><td>188</td></tr></tbody></table></div>"
      ]
     },
     "metadata": {
      "application/vnd.databricks.v1+output": {
       "addedWidgets": {},
       "aggData": [],
       "aggError": "",
       "aggOverflow": false,
       "aggSchema": [],
       "aggSeriesLimitReached": false,
       "aggType": "",
       "arguments": {},
       "columnCustomDisplayInfos": {},
       "data": [
        [
         1,
         "2017-01-01",
         10
        ],
        [
         2,
         "2017-01-02",
         109
        ],
        [
         3,
         "2017-01-03",
         150
        ],
        [
         4,
         "2017-01-04",
         99
        ],
        [
         5,
         "2017-01-05",
         145
        ],
        [
         6,
         "2017-01-06",
         1455
        ],
        [
         7,
         "2017-01-07",
         199
        ],
        [
         8,
         "2017-01-09",
         188
        ]
       ],
       "datasetInfos": [],
       "dbfsResultPath": null,
       "isJsonSchema": true,
       "metadata": {},
       "overflow": false,
       "plotOptions": {
        "customPlotOptions": {},
        "displayType": "table",
        "pivotAggregation": null,
        "pivotColumns": null,
        "xColumns": null,
        "yColumns": null
       },
       "removedWidgets": [],
       "schema": [
        {
         "metadata": "{}",
         "name": "id",
         "type": "\"long\""
        },
        {
         "metadata": "{}",
         "name": "visit_date",
         "type": "\"string\""
        },
        {
         "metadata": "{}",
         "name": "people",
         "type": "\"long\""
        }
       ],
       "type": "table"
      }
     },
     "output_type": "display_data"
    }
   ],
   "source": [
    "from pyspark.sql.functions import col, rank, count, expr\n",
    "from pyspark.sql.window import Window\n",
    "# Sample data\n",
    "data = [\n",
    "    (1, \"2017-01-01\", 10),\n",
    "    (2, \"2017-01-02\", 109),\n",
    "    (3, \"2017-01-03\", 150),\n",
    "    (4, \"2017-01-04\", 99),\n",
    "    (5, \"2017-01-05\", 145),\n",
    "    (6, \"2017-01-06\", 1455),\n",
    "    (7, \"2017-01-07\", 199),\n",
    "    (8, \"2017-01-09\", 188),\n",
    "]\n",
    "\n",
    "# Define the schema\n",
    "columns = [\"id\", \"visit_date\", \"people\"]\n",
    "\n",
    "# Create DataFrame\n",
    "stadium_df = spark.createDataFrame(data, schema=columns)\n",
    "\n",
    "# dispaly the result\n",
    "stadium_df.display()\n"
   ]
  },
  {
   "cell_type": "code",
   "execution_count": 0,
   "metadata": {
    "application/vnd.databricks.v1+cell": {
     "cellMetadata": {
      "byteLimit": 2048000,
      "rowLimit": 10000
     },
     "inputWidgets": {},
     "nuid": "815869ff-1937-4c14-80d9-f1a7fcb28341",
     "showTitle": false,
     "tableResultSettingsMap": {},
     "title": ""
    }
   },
   "outputs": [],
   "source": [
    "stadium_df.createOrReplaceTempView('Stadium')"
   ]
  },
  {
   "cell_type": "code",
   "execution_count": 0,
   "metadata": {
    "application/vnd.databricks.v1+cell": {
     "cellMetadata": {
      "byteLimit": 2048000,
      "rowLimit": 10000
     },
     "inputWidgets": {},
     "nuid": "4ac62d32-4184-46c2-8f91-ce39653dcb9e",
     "showTitle": false,
     "tableResultSettingsMap": {},
     "title": ""
    }
   },
   "outputs": [
    {
     "output_type": "display_data",
     "data": {
      "text/html": [
       "<style scoped>\n",
       "  .table-result-container {\n",
       "    max-height: 300px;\n",
       "    overflow: auto;\n",
       "  }\n",
       "  table, th, td {\n",
       "    border: 1px solid black;\n",
       "    border-collapse: collapse;\n",
       "  }\n",
       "  th, td {\n",
       "    padding: 5px;\n",
       "  }\n",
       "  th {\n",
       "    text-align: left;\n",
       "  }\n",
       "</style><div class='table-result-container'><table class='table-result'><thead style='background-color: white'><tr><th>id</th><th>visit_date</th><th>people</th></tr></thead><tbody><tr><td>5</td><td>2017-01-05</td><td>145</td></tr><tr><td>6</td><td>2017-01-06</td><td>1455</td></tr><tr><td>7</td><td>2017-01-07</td><td>199</td></tr><tr><td>8</td><td>2017-01-09</td><td>188</td></tr></tbody></table></div>"
      ]
     },
     "metadata": {
      "application/vnd.databricks.v1+output": {
       "addedWidgets": {},
       "aggData": [],
       "aggError": "",
       "aggOverflow": false,
       "aggSchema": [],
       "aggSeriesLimitReached": false,
       "aggType": "",
       "arguments": {},
       "columnCustomDisplayInfos": {},
       "data": [
        [
         5,
         "2017-01-05",
         145
        ],
        [
         6,
         "2017-01-06",
         1455
        ],
        [
         7,
         "2017-01-07",
         199
        ],
        [
         8,
         "2017-01-09",
         188
        ]
       ],
       "datasetInfos": [],
       "dbfsResultPath": null,
       "isJsonSchema": true,
       "metadata": {},
       "overflow": false,
       "plotOptions": {
        "customPlotOptions": {},
        "displayType": "table",
        "pivotAggregation": null,
        "pivotColumns": null,
        "xColumns": null,
        "yColumns": null
       },
       "removedWidgets": [],
       "schema": [
        {
         "metadata": "{}",
         "name": "id",
         "type": "\"long\""
        },
        {
         "metadata": "{}",
         "name": "visit_date",
         "type": "\"string\""
        },
        {
         "metadata": "{}",
         "name": "people",
         "type": "\"long\""
        }
       ],
       "type": "table"
      }
     },
     "output_type": "display_data"
    }
   ],
   "source": [
    "# Step 1: Filter rows where `people` >= 100\n",
    "filtered_df = stadium_df.filter(col(\"people\") >= 100)\n",
    "\n",
    "# Step 2: Add rank column using Window function\n",
    "window_spec = Window.orderBy(\"id\")\n",
    "ranked_df = filtered_df.withColumn(\"rnk\", rank().over(window_spec))\n",
    "\n",
    "# Step 3: Add the \"island\" column (id - rnk)\n",
    "ranked_df = ranked_df.withColumn(\"island\", col(\"id\") - col(\"rnk\"))\n",
    "\n",
    "# Step 4: Identify islands with at least 3 consecutive rows\n",
    "island_counts = (\n",
    "    ranked_df.groupBy(\"island\")\n",
    "    .agg(count(\"*\").alias(\"island_count\"))\n",
    "    .filter(col(\"island_count\") >= 3)\n",
    ")\n",
    "\n",
    "# Step 5: Join back to filter rows matching the islands with >= 3 rows\n",
    "result_df = (\n",
    "    ranked_df.join(island_counts, on=\"island\", how=\"inner\")\n",
    "    .select(\"id\", \"visit_date\", \"people\")\n",
    ")\n",
    "\n",
    "# Step 6: Order by id (ascending) and people (descending) as an example\n",
    "final_result = result_df.orderBy(col(\"id\").asc(), col(\"people\").desc())\n",
    "\n",
    "# display the final result\n",
    "final_result.display()"
   ]
  },
  {
   "cell_type": "code",
   "execution_count": 0,
   "metadata": {
    "application/vnd.databricks.v1+cell": {
     "cellMetadata": {
      "byteLimit": 2048000,
      "implicitDf": true,
      "rowLimit": 10000
     },
     "inputWidgets": {},
     "nuid": "fdb79c37-2dcf-4da3-97af-5ba43619bad7",
     "showTitle": false,
     "tableResultSettingsMap": {},
     "title": ""
    }
   },
   "outputs": [
    {
     "output_type": "display_data",
     "data": {
      "text/html": [
       "<style scoped>\n",
       "  .table-result-container {\n",
       "    max-height: 300px;\n",
       "    overflow: auto;\n",
       "  }\n",
       "  table, th, td {\n",
       "    border: 1px solid black;\n",
       "    border-collapse: collapse;\n",
       "  }\n",
       "  th, td {\n",
       "    padding: 5px;\n",
       "  }\n",
       "  th {\n",
       "    text-align: left;\n",
       "  }\n",
       "</style><div class='table-result-container'><table class='table-result'><thead style='background-color: white'><tr><th>id</th><th>visit_date</th><th>people</th></tr></thead><tbody><tr><td>5</td><td>2017-01-05</td><td>145</td></tr><tr><td>6</td><td>2017-01-06</td><td>1455</td></tr><tr><td>7</td><td>2017-01-07</td><td>199</td></tr><tr><td>8</td><td>2017-01-09</td><td>188</td></tr></tbody></table></div>"
      ]
     },
     "metadata": {
      "application/vnd.databricks.v1+output": {
       "addedWidgets": {},
       "aggData": [],
       "aggError": "",
       "aggOverflow": false,
       "aggSchema": [],
       "aggSeriesLimitReached": false,
       "aggType": "",
       "arguments": {},
       "columnCustomDisplayInfos": {},
       "data": [
        [
         5,
         "2017-01-05",
         145
        ],
        [
         6,
         "2017-01-06",
         1455
        ],
        [
         7,
         "2017-01-07",
         199
        ],
        [
         8,
         "2017-01-09",
         188
        ]
       ],
       "datasetInfos": [],
       "dbfsResultPath": null,
       "isJsonSchema": true,
       "metadata": {},
       "overflow": false,
       "plotOptions": {
        "customPlotOptions": {},
        "displayType": "table",
        "pivotAggregation": null,
        "pivotColumns": null,
        "xColumns": null,
        "yColumns": null
       },
       "removedWidgets": [],
       "schema": [
        {
         "metadata": "{}",
         "name": "id",
         "type": "\"long\""
        },
        {
         "metadata": "{}",
         "name": "visit_date",
         "type": "\"string\""
        },
        {
         "metadata": "{}",
         "name": "people",
         "type": "\"long\""
        }
       ],
       "type": "table"
      }
     },
     "output_type": "display_data"
    }
   ],
   "source": [
    "%sql\n",
    "WITH stadium_with_rnk AS\n",
    "(\n",
    "    SELECT id, visit_date, people, rnk, (id - rnk) AS island\n",
    "    FROM (\n",
    "        SELECT id, visit_date, people, RANK() OVER(ORDER BY id) AS rnk\n",
    "        FROM Stadium\n",
    "        WHERE people >= 100) AS t0\n",
    ")\n",
    "SELECT id, visit_date, people \n",
    "FROM stadium_with_rnk\n",
    "WHERE island IN (SELECT island \n",
    "                 FROM stadium_with_rnk \n",
    "                 GROUP BY island \n",
    "                 HAVING COUNT(*) >= 3)\n",
    "ORDER BY visit_date"
   ]
  },
  {
   "cell_type": "markdown",
   "metadata": {
    "application/vnd.databricks.v1+cell": {
     "cellMetadata": {},
     "inputWidgets": {},
     "nuid": "6039f9d0-6d1d-4ea8-a7ff-19873162fffb",
     "showTitle": false,
     "tableResultSettingsMap": {},
     "title": ""
    }
   },
   "source": [
    "Explanation of Code:\n",
    "\n",
    "Filter Rows: Keep rows where people >= 100.\n",
    "Rank Rows: Use the rank() function with a window ordered by id.\n",
    "Calculate Island: Subtract the rank (rnk) from the id to identify groups of consecutive rows.\n",
    "Group by Island: Count the number of rows in each island, keeping only those with at least 3 rows.\n",
    "Filter Islands: Use a join to keep only rows belonging to these valid islands.\n",
    "Order Result: Customize the order with orderBy().\n",
    "\n",
    "Output:\n",
    "\n",
    "If the data matches the input, the code will produce a DataFrame with rows ordered by id and people as specified. You can adjust the orderBy() to change the sorting."
   ]
  }
 ],
 "metadata": {
  "application/vnd.databricks.v1+notebook": {
   "computePreferences": null,
   "dashboards": [],
   "environmentMetadata": null,
   "language": "python",
   "notebookMetadata": {
    "mostRecentlyExecutedCommandWithImplicitDF": {
     "commandId": 226253038096311,
     "dataframes": [
      "_sqldf"
     ]
    },
    "pythonIndentUnit": 4
   },
   "notebookName": "Human Traffic of Stadium",
   "widgets": {}
  }
 },
 "nbformat": 4,
 "nbformat_minor": 0
}
