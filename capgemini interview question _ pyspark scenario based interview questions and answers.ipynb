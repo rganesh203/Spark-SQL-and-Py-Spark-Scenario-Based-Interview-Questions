{
 "cells": [
  {
   "cell_type": "markdown",
   "metadata": {
    "application/vnd.databricks.v1+cell": {
     "cellMetadata": {},
     "inputWidgets": {},
     "nuid": "dc130955-1dbf-4db6-ac7c-98a6979c33e5",
     "showTitle": false,
     "title": ""
    }
   },
   "source": [
    "Problem Statement:\n",
    "\n",
    "Given two datasets, one representing lifts and another representing passengers using those lifts, the task is to determine which passengers can be accommodated in each lift based on their cumulative weight.\n",
    "\n",
    "Datasets:\n",
    "\n",
    "Lifts Dataset (lifts):\n",
    "\n",
    "Schema:\n",
    "id (int): Identifier for the lift.\n",
    "capacity_kg (int): Maximum weight capacity of the lift in kilograms.\n",
    "Passengers Dataset (passengers):\n",
    "\n",
    "Schema:\n",
    "passenger_name (string): Name of the passenger.\n",
    "weight_kg (int): Weight of the passenger in kilograms.\n",
    "lift_id (int): Identifier of the lift the passenger is using.\n",
    "Task:\n",
    "\n",
    "For each lift, group the passengers who can fit within the lift’s capacity and collect their names into a list."
   ]
  },
  {
   "cell_type": "code",
   "execution_count": 0,
   "metadata": {
    "application/vnd.databricks.v1+cell": {
     "cellMetadata": {
      "byteLimit": 2048000,
      "rowLimit": 10000
     },
     "inputWidgets": {},
     "nuid": "1722934a-1ed9-4489-a8d4-0c75669ca467",
     "showTitle": false,
     "title": ""
    }
   },
   "outputs": [
    {
     "output_type": "display_data",
     "data": {
      "text/html": [
       "<style scoped>\n",
       "  .table-result-container {\n",
       "    max-height: 300px;\n",
       "    overflow: auto;\n",
       "  }\n",
       "  table, th, td {\n",
       "    border: 1px solid black;\n",
       "    border-collapse: collapse;\n",
       "  }\n",
       "  th, td {\n",
       "    padding: 5px;\n",
       "  }\n",
       "  th {\n",
       "    text-align: left;\n",
       "  }\n",
       "</style><div class='table-result-container'><table class='table-result'><thead style='background-color: white'><tr><th>id</th><th>capacity_kg</th></tr></thead><tbody><tr><td>1</td><td>300</td></tr><tr><td>2</td><td>350</td></tr></tbody></table></div>"
      ]
     },
     "metadata": {
      "application/vnd.databricks.v1+output": {
       "addedWidgets": {},
       "aggData": [],
       "aggError": "",
       "aggOverflow": false,
       "aggSchema": [],
       "aggSeriesLimitReached": false,
       "aggType": "",
       "arguments": {},
       "columnCustomDisplayInfos": {},
       "data": [
        [
         1,
         300
        ],
        [
         2,
         350
        ]
       ],
       "datasetInfos": [],
       "dbfsResultPath": null,
       "isJsonSchema": true,
       "metadata": {},
       "overflow": false,
       "plotOptions": {
        "customPlotOptions": {},
        "displayType": "table",
        "pivotAggregation": null,
        "pivotColumns": null,
        "xColumns": null,
        "yColumns": null
       },
       "removedWidgets": [],
       "schema": [
        {
         "metadata": "{}",
         "name": "id",
         "type": "\"integer\""
        },
        {
         "metadata": "{}",
         "name": "capacity_kg",
         "type": "\"integer\""
        }
       ],
       "type": "table"
      }
     },
     "output_type": "display_data"
    },
    {
     "output_type": "display_data",
     "data": {
      "text/html": [
       "<style scoped>\n",
       "  .table-result-container {\n",
       "    max-height: 300px;\n",
       "    overflow: auto;\n",
       "  }\n",
       "  table, th, td {\n",
       "    border: 1px solid black;\n",
       "    border-collapse: collapse;\n",
       "  }\n",
       "  th, td {\n",
       "    padding: 5px;\n",
       "  }\n",
       "  th {\n",
       "    text-align: left;\n",
       "  }\n",
       "</style><div class='table-result-container'><table class='table-result'><thead style='background-color: white'><tr><th>passenger_name</th><th>weight_kg</th><th>lift_id</th></tr></thead><tbody><tr><td>Rahul</td><td>85</td><td>1</td></tr><tr><td>Adarsh</td><td>73</td><td>1</td></tr><tr><td>Riti</td><td>95</td><td>1</td></tr><tr><td>Viraj</td><td>80</td><td>1</td></tr><tr><td>Vimal</td><td>83</td><td>2</td></tr><tr><td>Neha</td><td>77</td><td>2</td></tr><tr><td>Priti</td><td>73</td><td>2</td></tr><tr><td>Himanshi</td><td>85</td><td>2</td></tr></tbody></table></div>"
      ]
     },
     "metadata": {
      "application/vnd.databricks.v1+output": {
       "addedWidgets": {},
       "aggData": [],
       "aggError": "",
       "aggOverflow": false,
       "aggSchema": [],
       "aggSeriesLimitReached": false,
       "aggType": "",
       "arguments": {},
       "columnCustomDisplayInfos": {},
       "data": [
        [
         "Rahul",
         85,
         1
        ],
        [
         "Adarsh",
         73,
         1
        ],
        [
         "Riti",
         95,
         1
        ],
        [
         "Viraj",
         80,
         1
        ],
        [
         "Vimal",
         83,
         2
        ],
        [
         "Neha",
         77,
         2
        ],
        [
         "Priti",
         73,
         2
        ],
        [
         "Himanshi",
         85,
         2
        ]
       ],
       "datasetInfos": [],
       "dbfsResultPath": null,
       "isJsonSchema": true,
       "metadata": {},
       "overflow": false,
       "plotOptions": {
        "customPlotOptions": {},
        "displayType": "table",
        "pivotAggregation": null,
        "pivotColumns": null,
        "xColumns": null,
        "yColumns": null
       },
       "removedWidgets": [],
       "schema": [
        {
         "metadata": "{}",
         "name": "passenger_name",
         "type": "\"string\""
        },
        {
         "metadata": "{}",
         "name": "weight_kg",
         "type": "\"integer\""
        },
        {
         "metadata": "{}",
         "name": "lift_id",
         "type": "\"integer\""
        }
       ],
       "type": "table"
      }
     },
     "output_type": "display_data"
    }
   ],
   "source": [
    "from pyspark.sql import functions as F\n",
    "from pyspark.sql.window import Window\n",
    "from pyspark.sql.types import StructType, StructField, StringType, IntegerType\n",
    "\n",
    "# Define the lift data\n",
    "lift_data = [\n",
    "    (1, 300),\n",
    "    (2, 350)\n",
    "]\n",
    "\n",
    "lift_schema = StructType([\n",
    "    StructField(\"id\", IntegerType(), True),\n",
    "    StructField(\"capacity_kg\", IntegerType(), True)\n",
    "])\n",
    "\n",
    "# Create lift DataFrame\n",
    "lift_df = spark.createDataFrame(data=lift_data, schema=lift_schema)\n",
    "\n",
    "# Display lift DataFrame\n",
    "lift_df.display()\n",
    "\n",
    "# Define lift passengers data\n",
    "lift_passengers_data = [\n",
    "    ('Rahul', 85, 1),\n",
    "    ('Adarsh', 73, 1),\n",
    "    ('Riti', 95, 1),\n",
    "    ('Viraj', 80, 1),\n",
    "    ('Vimal', 83, 2),\n",
    "    ('Neha', 77, 2),\n",
    "    ('Priti', 73, 2),\n",
    "    ('Himanshi', 85, 2)\n",
    "]\n",
    "\n",
    "lift_passengers_schema = StructType([\n",
    "    StructField(\"passenger_name\", StringType(), True),\n",
    "    StructField(\"weight_kg\", IntegerType(), True),\n",
    "    StructField(\"lift_id\", IntegerType(), True)\n",
    "])\n",
    "\n",
    "# Create lift passengers DataFrame\n",
    "lift_passengers_df = spark.createDataFrame(data=lift_passengers_data, schema=lift_passengers_schema)\n",
    "\n",
    "# Display lift passengers DataFrame\n",
    "lift_passengers_df.display()\n"
   ]
  },
  {
   "cell_type": "code",
   "execution_count": 0,
   "metadata": {
    "application/vnd.databricks.v1+cell": {
     "cellMetadata": {
      "byteLimit": 2048000,
      "rowLimit": 10000
     },
     "inputWidgets": {},
     "nuid": "61f9adcb-610b-4407-a97e-c3768025aedf",
     "showTitle": false,
     "title": ""
    }
   },
   "outputs": [
    {
     "output_type": "display_data",
     "data": {
      "text/html": [
       "<style scoped>\n",
       "  .table-result-container {\n",
       "    max-height: 300px;\n",
       "    overflow: auto;\n",
       "  }\n",
       "  table, th, td {\n",
       "    border: 1px solid black;\n",
       "    border-collapse: collapse;\n",
       "  }\n",
       "  th, td {\n",
       "    padding: 5px;\n",
       "  }\n",
       "  th {\n",
       "    text-align: left;\n",
       "  }\n",
       "</style><div class='table-result-container'><table class='table-result'><thead style='background-color: white'><tr><th>lift_id</th><th>passenger_names</th></tr></thead><tbody><tr><td>1</td><td>List(Adarsh, Viraj, Rahul)</td></tr><tr><td>2</td><td>List(Priti, Neha, Vimal, Himanshi)</td></tr></tbody></table></div>"
      ]
     },
     "metadata": {
      "application/vnd.databricks.v1+output": {
       "addedWidgets": {},
       "aggData": [],
       "aggError": "",
       "aggOverflow": false,
       "aggSchema": [],
       "aggSeriesLimitReached": false,
       "aggType": "",
       "arguments": {},
       "columnCustomDisplayInfos": {},
       "data": [
        [
         1,
         [
          "Adarsh",
          "Viraj",
          "Rahul"
         ]
        ],
        [
         2,
         [
          "Priti",
          "Neha",
          "Vimal",
          "Himanshi"
         ]
        ]
       ],
       "datasetInfos": [],
       "dbfsResultPath": null,
       "isJsonSchema": true,
       "metadata": {},
       "overflow": false,
       "plotOptions": {
        "customPlotOptions": {},
        "displayType": "table",
        "pivotAggregation": null,
        "pivotColumns": null,
        "xColumns": null,
        "yColumns": null
       },
       "removedWidgets": [],
       "schema": [
        {
         "metadata": "{}",
         "name": "lift_id",
         "type": "\"integer\""
        },
        {
         "metadata": "{}",
         "name": "passenger_names",
         "type": "{\"type\":\"array\",\"elementType\":\"string\",\"containsNull\":false}"
        }
       ],
       "type": "table"
      }
     },
     "output_type": "display_data"
    }
   ],
   "source": [
    "# Join lift_passengers_df with lift_df on lift_id\n",
    "df_result = lift_passengers_df.join(lift_df, lift_passengers_df.lift_id == lift_df.id, how=\"inner\") \\\n",
    "    .select(\"passenger_name\", \"weight_kg\", \"lift_id\", \"capacity_kg\")\n",
    "\n",
    "# Define the window specification to calculate running weight for each lift_id\n",
    "window_spec = Window.partitionBy(\"lift_id\").orderBy(\"weight_kg\")\n",
    "\n",
    "# Add the running weight column\n",
    "df_result = df_result.withColumn(\"running_wt\", F.sum(\"weight_kg\").over(window_spec))\n",
    "\n",
    "# Filter rows where running weight is less than or equal to the lift capacity\n",
    "df_filtered = df_result.filter(df_result[\"running_wt\"] <= df_result[\"capacity_kg\"])\n",
    "\n",
    "# Group by lift_id and collect the passenger names\n",
    "df_grouped = df_filtered.groupBy(F.col(\"lift_id\")) \\\n",
    "    .agg(F.collect_list(F.col(\"passenger_name\")).alias(\"passenger_names\"))\n",
    "\n",
    "# Display the result\n",
    "df_grouped.display()\n"
   ]
  },
  {
   "cell_type": "markdown",
   "metadata": {
    "application/vnd.databricks.v1+cell": {
     "cellMetadata": {},
     "inputWidgets": {},
     "nuid": "1bb58495-5c42-45aa-b340-443eeb8977d6",
     "showTitle": false,
     "title": ""
    }
   },
   "source": [
    "Explanation:\n",
    "\n",
    "Filter: The filter condition ensures that only rows where the running weight is less than or equal to the lift capacity are included.\n",
    "groupBy: After filtering, we group by lift_id and collect the list of passenger names who can fit within the lift's weight capacity using F.collect_list.\n",
    "Corrected functions: F.col() and F.collect_list() are used correctly, and the method show() is used instead of display() to output the DataFrame."
   ]
  },
  {
   "cell_type": "code",
   "execution_count": 0,
   "metadata": {
    "application/vnd.databricks.v1+cell": {
     "cellMetadata": {
      "byteLimit": 2048000,
      "rowLimit": 10000
     },
     "inputWidgets": {},
     "nuid": "d7e3f9ed-37ba-4824-8a02-8222225740c7",
     "showTitle": false,
     "title": ""
    }
   },
   "outputs": [],
   "source": [
    "# Register the DataFrames as SQL temporary views\n",
    "lift_df.createOrReplaceTempView(\"lifts\")\n",
    "lift_passengers_df.createOrReplaceTempView(\"passengers\")"
   ]
  },
  {
   "cell_type": "code",
   "execution_count": 0,
   "metadata": {
    "application/vnd.databricks.v1+cell": {
     "cellMetadata": {
      "byteLimit": 2048000,
      "rowLimit": 10000
     },
     "inputWidgets": {},
     "nuid": "11be92a4-5fd5-44e5-9656-4ed1dc7381dc",
     "showTitle": false,
     "title": ""
    }
   },
   "outputs": [
    {
     "output_type": "display_data",
     "data": {
      "text/html": [
       "<style scoped>\n",
       "  .table-result-container {\n",
       "    max-height: 300px;\n",
       "    overflow: auto;\n",
       "  }\n",
       "  table, th, td {\n",
       "    border: 1px solid black;\n",
       "    border-collapse: collapse;\n",
       "  }\n",
       "  th, td {\n",
       "    padding: 5px;\n",
       "  }\n",
       "  th {\n",
       "    text-align: left;\n",
       "  }\n",
       "</style><div class='table-result-container'><table class='table-result'><thead style='background-color: white'><tr><th>lift_id</th><th>passenger_names</th></tr></thead><tbody><tr><td>1</td><td>List(Adarsh, Viraj, Rahul)</td></tr><tr><td>2</td><td>List(Priti, Neha, Vimal, Himanshi)</td></tr></tbody></table></div>"
      ]
     },
     "metadata": {
      "application/vnd.databricks.v1+output": {
       "addedWidgets": {},
       "aggData": [],
       "aggError": "",
       "aggOverflow": false,
       "aggSchema": [],
       "aggSeriesLimitReached": false,
       "aggType": "",
       "arguments": {},
       "columnCustomDisplayInfos": {},
       "data": [
        [
         1,
         [
          "Adarsh",
          "Viraj",
          "Rahul"
         ]
        ],
        [
         2,
         [
          "Priti",
          "Neha",
          "Vimal",
          "Himanshi"
         ]
        ]
       ],
       "datasetInfos": [],
       "dbfsResultPath": null,
       "isJsonSchema": true,
       "metadata": {},
       "overflow": false,
       "plotOptions": {
        "customPlotOptions": {},
        "displayType": "table",
        "pivotAggregation": null,
        "pivotColumns": null,
        "xColumns": null,
        "yColumns": null
       },
       "removedWidgets": [],
       "schema": [
        {
         "metadata": "{}",
         "name": "lift_id",
         "type": "\"integer\""
        },
        {
         "metadata": "{}",
         "name": "passenger_names",
         "type": "{\"type\":\"array\",\"elementType\":\"string\",\"containsNull\":false}"
        }
       ],
       "type": "table"
      }
     },
     "output_type": "display_data"
    }
   ],
   "source": [
    "# Write the SQL query\n",
    "query = \"\"\"\n",
    "SELECT lift_id, \n",
    "       collect_list(passenger_name) AS passenger_names\n",
    "FROM (\n",
    "    SELECT p.lift_id, \n",
    "           p.passenger_name, \n",
    "           p.weight_kg, \n",
    "           l.capacity_kg,\n",
    "           sum(p.weight_kg) OVER (PARTITION BY p.lift_id ORDER BY p.weight_kg) AS running_wt\n",
    "    FROM passengers p\n",
    "    JOIN lifts l ON p.lift_id = l.id\n",
    ") \n",
    "WHERE running_wt <= capacity_kg\n",
    "GROUP BY lift_id\n",
    "\"\"\"\n",
    "\n",
    "# Execute the query\n",
    "df_result = spark.sql(query)\n",
    "\n",
    "# Display the result\n",
    "df_result.display()\n"
   ]
  },
  {
   "cell_type": "markdown",
   "metadata": {
    "application/vnd.databricks.v1+cell": {
     "cellMetadata": {},
     "inputWidgets": {},
     "nuid": "db72f21e-7d8a-4002-9176-67923813577b",
     "showTitle": false,
     "title": ""
    }
   },
   "source": [
    "Explanation:\n",
    "\n",
    "Create Temporary Views:\n",
    "Register the DataFrames lift_df and lift_passengers_df as temporary views named lifts and passengers, respectively.\n",
    "\n",
    "SQL Query:\n",
    "The inner query performs a JOIN between passengers and lifts, calculates the running weight using the SUM window function, and filters rows where the running weight is less than or equal to the lift's capacity.\n",
    "The outer query groups by lift_id and collects the passenger names into a list.\n",
    "\n",
    "Execute the Query: \n",
    "  Use spark.sql(query) to run the SQL query.\n",
    "Display Results: \n",
    "  Display the resulting DataFrame."
   ]
  }
 ],
 "metadata": {
  "application/vnd.databricks.v1+notebook": {
   "dashboards": [],
   "environmentMetadata": null,
   "language": "python",
   "notebookMetadata": {
    "pythonIndentUnit": 4
   },
   "notebookName": "capgemini interview question | pyspark scenario based interview questions and answers",
   "widgets": {}
  }
 },
 "nbformat": 4,
 "nbformat_minor": 0
}
