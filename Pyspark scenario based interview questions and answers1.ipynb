{
 "cells": [
  {
   "cell_type": "markdown",
   "metadata": {
    "application/vnd.databricks.v1+cell": {
     "cellMetadata": {},
     "inputWidgets": {},
     "nuid": "4258df93-4aec-4ca8-bfcb-c43c2f8859af",
     "showTitle": false,
     "title": ""
    }
   },
   "source": [
    "problem statement:\n",
    "Splitting Celebrity Names into First, Middle, and Last Names\n",
    "You have a dataset containing celebrity names in a single column (e.g., celebrity_name). Each name may consist of one, two, or three parts:\n",
    "\n",
    "Some names include only the first name.\n",
    "\n",
    "Some names include the first and last name.\n",
    "\n",
    "Some names include the first, middle, and last name.\n",
    "\n",
    "You need to split this celebrity_name column into three separate columns:\n",
    "\n",
    "First Name (fn)\n",
    "Middle Name (mn) (or NULL if not available)\n",
    "Last Name (ln) (or NULL if not available)\n",
    "The solution should handle names with varying lengths (1, 2, or 3 parts) and output the first, middle, and last names accordingly."
   ]
  },
  {
   "cell_type": "code",
   "execution_count": 0,
   "metadata": {
    "application/vnd.databricks.v1+cell": {
     "cellMetadata": {
      "byteLimit": 2048000,
      "rowLimit": 10000
     },
     "inputWidgets": {},
     "nuid": "f0d759cc-8e15-4af8-acc9-f521c980ce2e",
     "showTitle": false,
     "title": ""
    }
   },
   "outputs": [
    {
     "output_type": "display_data",
     "data": {
      "text/html": [
       "<style scoped>\n",
       "  .table-result-container {\n",
       "    max-height: 300px;\n",
       "    overflow: auto;\n",
       "  }\n",
       "  table, th, td {\n",
       "    border: 1px solid black;\n",
       "    border-collapse: collapse;\n",
       "  }\n",
       "  th, td {\n",
       "    padding: 5px;\n",
       "  }\n",
       "  th {\n",
       "    text-align: left;\n",
       "  }\n",
       "</style><div class='table-result-container'><table class='table-result'><thead style='background-color: white'><tr><th>celebrity_name</th></tr></thead><tbody><tr><td>Virat Kohli</td></tr><tr><td>Narendra Damodardas Modi</td></tr><tr><td>Salman</td></tr></tbody></table></div>"
      ]
     },
     "metadata": {
      "application/vnd.databricks.v1+output": {
       "addedWidgets": {},
       "aggData": [],
       "aggError": "",
       "aggOverflow": false,
       "aggSchema": [],
       "aggSeriesLimitReached": false,
       "aggType": "",
       "arguments": {},
       "columnCustomDisplayInfos": {},
       "data": [
        [
         "Virat Kohli"
        ],
        [
         "Narendra Damodardas Modi"
        ],
        [
         "Salman"
        ]
       ],
       "datasetInfos": [],
       "dbfsResultPath": null,
       "isJsonSchema": true,
       "metadata": {},
       "overflow": false,
       "plotOptions": {
        "customPlotOptions": {},
        "displayType": "table",
        "pivotAggregation": null,
        "pivotColumns": null,
        "xColumns": null,
        "yColumns": null
       },
       "removedWidgets": [],
       "schema": [
        {
         "metadata": "{}",
         "name": "celebrity_name",
         "type": "\"string\""
        }
       ],
       "type": "table"
      }
     },
     "output_type": "display_data"
    }
   ],
   "source": [
    "from pyspark.sql.types import StructType, StructField, StringType\n",
    "\n",
    "# Define your data and schema\n",
    "data = [\n",
    "    ('Virat Kohli',),\n",
    "    ('Narendra Damodardas Modi',),\n",
    "    ('Salman',),\n",
    "]\n",
    "schema = StructType([\n",
    "    StructField('celebrity_name', StringType(), True),\n",
    "])\n",
    "\n",
    "# Create DataFrame\n",
    "df = spark.createDataFrame(data=data, schema=schema)\n",
    "\n",
    "# Display the DataFrame\n",
    "df.display()\n"
   ]
  },
  {
   "cell_type": "code",
   "execution_count": 0,
   "metadata": {
    "application/vnd.databricks.v1+cell": {
     "cellMetadata": {
      "byteLimit": 2048000,
      "rowLimit": 10000
     },
     "inputWidgets": {},
     "nuid": "40f21f6d-0653-4af6-8c82-c5a14dce4d81",
     "showTitle": false,
     "title": ""
    }
   },
   "outputs": [
    {
     "output_type": "display_data",
     "data": {
      "text/html": [
       "<style scoped>\n",
       "  .table-result-container {\n",
       "    max-height: 300px;\n",
       "    overflow: auto;\n",
       "  }\n",
       "  table, th, td {\n",
       "    border: 1px solid black;\n",
       "    border-collapse: collapse;\n",
       "  }\n",
       "  th, td {\n",
       "    padding: 5px;\n",
       "  }\n",
       "  th {\n",
       "    text-align: left;\n",
       "  }\n",
       "</style><div class='table-result-container'><table class='table-result'><thead style='background-color: white'><tr><th>celebrity_name</th><th>split_names</th><th>fn</th><th>mn</th><th>ln</th></tr></thead><tbody><tr><td>Virat Kohli</td><td>List(Virat, Kohli)</td><td>Virat</td><td>Kohli</td><td>null</td></tr><tr><td>Narendra Damodardas Modi</td><td>List(Narendra, Damodardas, Modi)</td><td>Narendra</td><td>Damodardas</td><td>Modi</td></tr><tr><td>Salman</td><td>List(Salman)</td><td>Salman</td><td>null</td><td>null</td></tr></tbody></table></div>"
      ]
     },
     "metadata": {
      "application/vnd.databricks.v1+output": {
       "addedWidgets": {},
       "aggData": [],
       "aggError": "",
       "aggOverflow": false,
       "aggSchema": [],
       "aggSeriesLimitReached": false,
       "aggType": "",
       "arguments": {},
       "columnCustomDisplayInfos": {},
       "data": [
        [
         "Virat Kohli",
         [
          "Virat",
          "Kohli"
         ],
         "Virat",
         "Kohli",
         null
        ],
        [
         "Narendra Damodardas Modi",
         [
          "Narendra",
          "Damodardas",
          "Modi"
         ],
         "Narendra",
         "Damodardas",
         "Modi"
        ],
        [
         "Salman",
         [
          "Salman"
         ],
         "Salman",
         null,
         null
        ]
       ],
       "datasetInfos": [],
       "dbfsResultPath": null,
       "isJsonSchema": true,
       "metadata": {},
       "overflow": false,
       "plotOptions": {
        "customPlotOptions": {},
        "displayType": "table",
        "pivotAggregation": null,
        "pivotColumns": null,
        "xColumns": null,
        "yColumns": null
       },
       "removedWidgets": [],
       "schema": [
        {
         "metadata": "{}",
         "name": "celebrity_name",
         "type": "\"string\""
        },
        {
         "metadata": "{}",
         "name": "split_names",
         "type": "{\"type\":\"array\",\"elementType\":\"string\",\"containsNull\":false}"
        },
        {
         "metadata": "{}",
         "name": "fn",
         "type": "\"string\""
        },
        {
         "metadata": "{}",
         "name": "mn",
         "type": "\"string\""
        },
        {
         "metadata": "{}",
         "name": "ln",
         "type": "\"string\""
        }
       ],
       "type": "table"
      }
     },
     "output_type": "display_data"
    }
   ],
   "source": [
    "from pyspark.sql.functions import split, coalesce, lit\n",
    "\n",
    "# Assuming sdf is your original DataFrame\n",
    "sdf = df.withColumn(\"split_names\", split(df.celebrity_name, \" \"))\n",
    "\n",
    "# Create final DataFrame with first name (fn), middle name (mn), and last name (ln)\n",
    "finaldf = (sdf\n",
    "           .withColumn('fn', coalesce(sdf.split_names.getItem(0), lit(None)))\n",
    "           .withColumn('mn', coalesce(sdf.split_names.getItem(1), lit(None)))\n",
    "           .withColumn('ln', coalesce(sdf.split_names.getItem(2), lit(None)))\n",
    "          )\n",
    "\n",
    "# Show the resulting DataFrame\n",
    "finaldf.display(truncate=False)\n"
   ]
  },
  {
   "cell_type": "markdown",
   "metadata": {
    "application/vnd.databricks.v1+cell": {
     "cellMetadata": {},
     "inputWidgets": {},
     "nuid": "01550997-c24b-4f7e-a0b4-9e5adaa6979a",
     "showTitle": false,
     "title": ""
    }
   },
   "source": [
    "Explanation:\n",
    "\n",
    "split: This function splits the celebrity_name column into an array of strings based on the space delimiter (\" \").\n",
    "getItem(n): Extracts the nth element (0-based index) from the array of strings generated by the split.\n",
    "coalesce: Ensures that if there is no middle or last name, it assigns None instead of failing."
   ]
  },
  {
   "cell_type": "code",
   "execution_count": 0,
   "metadata": {
    "application/vnd.databricks.v1+cell": {
     "cellMetadata": {
      "byteLimit": 2048000,
      "rowLimit": 10000
     },
     "inputWidgets": {},
     "nuid": "f52b6fde-07f0-40e4-9d2c-9f11b93f91b3",
     "showTitle": false,
     "title": ""
    }
   },
   "outputs": [],
   "source": [
    "df.createOrReplaceTempView(\"celebrities\")\n"
   ]
  },
  {
   "cell_type": "code",
   "execution_count": 0,
   "metadata": {
    "application/vnd.databricks.v1+cell": {
     "cellMetadata": {
      "byteLimit": 2048000,
      "rowLimit": 10000
     },
     "inputWidgets": {},
     "nuid": "074ea881-ffe7-4335-8766-1df0d3033cb4",
     "showTitle": false,
     "title": ""
    }
   },
   "outputs": [
    {
     "output_type": "stream",
     "name": "stdout",
     "output_type": "stream",
     "text": [
      "+------------------------+--------+----------+-----+\n|celebrity_name          |fn      |mn        |ln   |\n+------------------------+--------+----------+-----+\n|Virat Kohli             |Virat   |null      |Kohli|\n|Narendra Damodardas Modi|Narendra|Damodardas|Modi |\n|Salman                  |Salman  |null      |null |\n+------------------------+--------+----------+-----+\n\n"
     ]
    }
   ],
   "source": [
    "result = spark.sql(\"\"\"\n",
    "    SELECT \n",
    "        celebrity_name,\n",
    "        SPLIT(celebrity_name, ' ')[0] AS fn,\n",
    "        CASE \n",
    "            WHEN SIZE(SPLIT(celebrity_name, ' ')) > 2 THEN SPLIT(celebrity_name, ' ')[1]\n",
    "            ELSE NULL\n",
    "        END AS mn,\n",
    "        CASE \n",
    "            WHEN SIZE(SPLIT(celebrity_name, ' ')) > 2 THEN SPLIT(celebrity_name, ' ')[2]\n",
    "            WHEN SIZE(SPLIT(celebrity_name, ' ')) = 2 THEN SPLIT(celebrity_name, ' ')[1]\n",
    "            ELSE NULL\n",
    "        END AS ln\n",
    "    FROM celebrities\n",
    "\"\"\")\n",
    "\n",
    "# Show the result\n",
    "result.show(truncate=False)\n"
   ]
  },
  {
   "cell_type": "markdown",
   "metadata": {
    "application/vnd.databricks.v1+cell": {
     "cellMetadata": {},
     "inputWidgets": {},
     "nuid": "1bd539e7-88eb-4150-b7c6-b8b54089be22",
     "showTitle": false,
     "title": ""
    }
   },
   "source": [
    "Explanation:\n",
    "\n",
    "SPLIT(celebrity_name, ' '): Splits the celebrity_name column into an array using a space as the delimiter.\n",
    "\n",
    "SIZE(): Returns the size of the array, which helps determine how many name components are available.\n",
    "CASE WHEN: Handles different conditions to assign the middle name (mn) and last name (ln).\n",
    "If there are more than two parts, the first part is the first name, the second part is the middle name, and the third part is the last name.\n",
    "If there are exactly two parts, the first part is the first name, and the second part is considered the last name.\n",
    "If there's only one part, the middle and last names are NULL."
   ]
  }
 ],
 "metadata": {
  "application/vnd.databricks.v1+notebook": {
   "dashboards": [],
   "environmentMetadata": null,
   "language": "python",
   "notebookMetadata": {
    "pythonIndentUnit": 4
   },
   "notebookName": "Pyspark scenario based interview questions and answers1",
   "widgets": {}
  }
 },
 "nbformat": 4,
 "nbformat_minor": 0
}
